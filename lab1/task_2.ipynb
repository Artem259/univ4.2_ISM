{
 "cells": [
  {
   "cell_type": "code",
   "execution_count": 1,
   "id": "f32bcfd4-cef2-4368-81e4-ebd38f1781e9",
   "metadata": {
    "ExecuteTime": {
     "end_time": "2024-01-29T00:41:00.134806Z",
     "start_time": "2024-01-29T00:41:00.116590300Z"
    }
   },
   "outputs": [],
   "source": [
    "def gnome_sort(to_sort : list[int]) -> list[int]:\n",
    "    to_sort = to_sort.copy()\n",
    "    i = 1\n",
    "    j = 2\n",
    "    while i < len(to_sort):\n",
    "        if to_sort[i - 1] < to_sort[i]:\n",
    "            i = j\n",
    "            j = j + 1\n",
    "        else:\n",
    "            to_sort[i - 1], to_sort[i] = to_sort[i], to_sort[i - 1]\n",
    "            i = i - 1\n",
    "            if i == 0:\n",
    "                i = j\n",
    "                j = j + 1\n",
    "    return to_sort\n",
    "\n",
    "\n",
    "def task_8():\n",
    "    list_str = input()\n",
    "    try:\n",
    "        numbers = list(map(int, list_str.split()))\n",
    "    except ValueError:\n",
    "        print(\"'Помилка. У списку присутнє нечислове значення'\")\n",
    "        return\n",
    "    numbers = gnome_sort(numbers)\n",
    "    print(numbers[::-1])"
   ]
  },
  {
   "cell_type": "code",
   "execution_count": 2,
   "id": "5f0ebf94971a63f9",
   "metadata": {
    "collapsed": false,
    "jupyter": {
     "outputs_hidden": false
    }
   },
   "outputs": [
    {
     "name": "stdin",
     "output_type": "stream",
     "text": [
      "  \n"
     ]
    },
    {
     "name": "stdout",
     "output_type": "stream",
     "text": [
      "[]\n"
     ]
    }
   ],
   "source": [
    "task_8()"
   ]
  },
  {
   "cell_type": "code",
   "execution_count": 3,
   "id": "19ee0dc1-3a9b-418e-80ff-dd4ddcf19bfd",
   "metadata": {
    "collapsed": false,
    "jupyter": {
     "outputs_hidden": false
    }
   },
   "outputs": [
    {
     "name": "stdin",
     "output_type": "stream",
     "text": [
      " -12\n"
     ]
    },
    {
     "name": "stdout",
     "output_type": "stream",
     "text": [
      "[-12]\n"
     ]
    }
   ],
   "source": [
    "task_8()"
   ]
  },
  {
   "cell_type": "code",
   "execution_count": 4,
   "id": "b989cb25-bf10-4220-8cf5-ac1a38ce616c",
   "metadata": {
    "collapsed": false,
    "jupyter": {
     "outputs_hidden": false
    }
   },
   "outputs": [
    {
     "name": "stdin",
     "output_type": "stream",
     "text": [
      " 3 4 23 5 23 -5 3 4\n"
     ]
    },
    {
     "name": "stdout",
     "output_type": "stream",
     "text": [
      "[23, 23, 5, 4, 4, 3, 3, -5]\n"
     ]
    }
   ],
   "source": [
    "task_8()"
   ]
  },
  {
   "cell_type": "code",
   "execution_count": 5,
   "id": "43fbf1f8-fe30-47e5-90ca-20a7920ffed4",
   "metadata": {
    "collapsed": false,
    "jupyter": {
     "outputs_hidden": false
    }
   },
   "outputs": [
    {
     "name": "stdin",
     "output_type": "stream",
     "text": [
      " 3 4 23 5 23 str 3 4\n"
     ]
    },
    {
     "name": "stdout",
     "output_type": "stream",
     "text": [
      "'Помилка. У списку присутнє нечислове значення'\n"
     ]
    }
   ],
   "source": [
    "task_8()"
   ]
  }
 ],
 "metadata": {
  "kernelspec": {
   "display_name": "Python 3 (ipykernel)",
   "language": "python",
   "name": "python3"
  },
  "language_info": {
   "codemirror_mode": {
    "name": "ipython",
    "version": 3
   },
   "file_extension": ".py",
   "mimetype": "text/x-python",
   "name": "python",
   "nbconvert_exporter": "python",
   "pygments_lexer": "ipython3",
   "version": "3.9.13"
  }
 },
 "nbformat": 4,
 "nbformat_minor": 5
}
