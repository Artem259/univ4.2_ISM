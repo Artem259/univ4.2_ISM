{
 "cells": [
  {
   "cell_type": "code",
   "execution_count": 1,
   "id": "f32bcfd4-cef2-4368-81e4-ebd38f1781e9",
   "metadata": {
    "ExecuteTime": {
     "end_time": "2024-01-27T02:11:57.040373200Z",
     "start_time": "2024-01-27T02:11:57.034453600Z"
    }
   },
   "outputs": [],
   "source": [
    "def gnome_sort(to_sort):\n",
    "    i = 1\n",
    "    j = 2\n",
    "    while i < len(to_sort):\n",
    "        if to_sort[i - 1] < to_sort[i]:\n",
    "            i = j\n",
    "            j = j + 1\n",
    "        else:\n",
    "            to_sort[i - 1], to_sort[i] = to_sort[i], to_sort[i - 1]\n",
    "            i = i - 1\n",
    "            if i == 0:\n",
    "                i = j\n",
    "                j = j + 1\n",
    "\n",
    "\n",
    "def calculate_task(list_str):\n",
    "    try:\n",
    "        elements = list(map(int, list_str.split()))\n",
    "    except ValueError:\n",
    "        print(\"'Помилка. У списку присутнє нечислове значення'\")\n",
    "        return\n",
    "    gnome_sort(elements)\n",
    "    print(elements[::-1])\n",
    "\n",
    "\n",
    "\n",
    "def task_8():\n",
    "    list_str = input()\n",
    "    calculate_task(list_str)"
   ]
  },
  {
   "cell_type": "code",
   "execution_count": 2,
   "id": "71f15a819e3e6493",
   "metadata": {
    "collapsed": false,
    "ExecuteTime": {
     "end_time": "2024-01-27T02:11:57.066770400Z",
     "start_time": "2024-01-27T02:11:57.041375300Z"
    }
   },
   "outputs": [
    {
     "name": "stdout",
     "output_type": "stream",
     "text": [
      "[]\n"
     ]
    }
   ],
   "source": [
    "calculate_task(\" \")"
   ]
  },
  {
   "cell_type": "code",
   "execution_count": 3,
   "id": "efe7c2a932edbdfe",
   "metadata": {
    "collapsed": false,
    "ExecuteTime": {
     "end_time": "2024-01-27T02:11:57.076201200Z",
     "start_time": "2024-01-27T02:11:57.056644500Z"
    }
   },
   "outputs": [
    {
     "name": "stdout",
     "output_type": "stream",
     "text": [
      "[-12]\n"
     ]
    }
   ],
   "source": [
    "calculate_task(\"-12\")"
   ]
  },
  {
   "cell_type": "code",
   "execution_count": 4,
   "id": "781ce3151424541a",
   "metadata": {
    "collapsed": false,
    "ExecuteTime": {
     "end_time": "2024-01-27T02:11:57.095349500Z",
     "start_time": "2024-01-27T02:11:57.071293Z"
    }
   },
   "outputs": [
    {
     "name": "stdout",
     "output_type": "stream",
     "text": [
      "[23, 23, 5, 4, 4, 3, 3, -5]\n"
     ]
    }
   ],
   "source": [
    "calculate_task(\"3 4 23 5 23 -5 3 4\")"
   ]
  },
  {
   "cell_type": "code",
   "execution_count": 5,
   "id": "f239f10981a9f3d0",
   "metadata": {
    "collapsed": false,
    "ExecuteTime": {
     "end_time": "2024-01-27T02:11:57.103116100Z",
     "start_time": "2024-01-27T02:11:57.087951600Z"
    }
   },
   "outputs": [
    {
     "name": "stdout",
     "output_type": "stream",
     "text": [
      "'Помилка. У списку присутнє нечислове значення'\n"
     ]
    }
   ],
   "source": [
    "calculate_task(\"3 4 23 5 23 str 3 4\")"
   ]
  },
  {
   "cell_type": "code",
   "execution_count": 6,
   "id": "2064b9ac649e41b",
   "metadata": {
    "collapsed": false,
    "ExecuteTime": {
     "end_time": "2024-01-27T02:12:08.641144100Z",
     "start_time": "2024-01-27T02:11:57.103116100Z"
    }
   },
   "outputs": [
    {
     "name": "stdout",
     "output_type": "stream",
     "text": [
      "[8, 7, 2, 0, -4]\n"
     ]
    }
   ],
   "source": [
    "task_8()"
   ]
  }
 ],
 "metadata": {
  "kernelspec": {
   "display_name": "Python 3 (ipykernel)",
   "language": "python",
   "name": "python3"
  },
  "language_info": {
   "codemirror_mode": {
    "name": "ipython",
    "version": 3
   },
   "file_extension": ".py",
   "mimetype": "text/x-python",
   "name": "python",
   "nbconvert_exporter": "python",
   "pygments_lexer": "ipython3",
   "version": "3.9.13"
  }
 },
 "nbformat": 4,
 "nbformat_minor": 5
}
