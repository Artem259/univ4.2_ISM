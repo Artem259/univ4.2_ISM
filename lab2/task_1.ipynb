{
 "cells": [
  {
   "cell_type": "code",
   "execution_count": 1,
   "id": "8886e15a-69a1-46e0-aa63-4195dcfbd16e",
   "metadata": {
    "ExecuteTime": {
     "end_time": "2024-02-02T15:11:57.410945800Z",
     "start_time": "2024-02-02T15:11:57.343350900Z"
    }
   },
   "outputs": [],
   "source": [
    "import numpy as np\n",
    "import time\n",
    "import random\n",
    "import math"
   ]
  },
  {
   "cell_type": "markdown",
   "id": "51d9ff9b8f5e151e",
   "metadata": {
    "collapsed": false,
    "jupyter": {
     "outputs_hidden": false
    }
   },
   "source": [
    "#### Вправа 1. \n",
    "##### Вводиться число n. Вивести масив розміру n×n, в якому по діагоналі йдуть числа від 1 до n, а інші числа дорівнюють 0."
   ]
  },
  {
   "cell_type": "code",
   "execution_count": 2,
   "id": "464118fe9181e0d2",
   "metadata": {
    "ExecuteTime": {
     "end_time": "2024-02-02T15:11:58.749529400Z",
     "start_time": "2024-02-02T15:11:57.404006800Z"
    },
    "collapsed": false,
    "jupyter": {
     "outputs_hidden": false
    }
   },
   "outputs": [
    {
     "name": "stdin",
     "output_type": "stream",
     "text": [
      "Enter n:  5\n"
     ]
    }
   ],
   "source": [
    "n = int(input(\"Enter n: \"))"
   ]
  },
  {
   "cell_type": "code",
   "execution_count": 3,
   "id": "7e71f0ce68ba171f",
   "metadata": {
    "ExecuteTime": {
     "start_time": "2024-02-02T15:11:58.744372200Z"
    },
    "collapsed": false,
    "jupyter": {
     "outputs_hidden": false
    }
   },
   "outputs": [
    {
     "name": "stdout",
     "output_type": "stream",
     "text": [
      "[[1 0 0 0 0]\n",
      " [0 2 0 0 0]\n",
      " [0 0 3 0 0]\n",
      " [0 0 0 4 0]\n",
      " [0 0 0 0 5]]\n"
     ]
    }
   ],
   "source": [
    "start_time = time.perf_counter()\n",
    "\n",
    "numpy_res = np.diag(np.arange(1, n + 1))\n",
    "\n",
    "numpy_time = time.perf_counter() - start_time\n",
    "print(numpy_res)"
   ]
  },
  {
   "cell_type": "code",
   "execution_count": 4,
   "id": "ec6441031a5c18b5",
   "metadata": {
    "ExecuteTime": {
     "start_time": "2024-02-02T15:11:58.745371600Z"
    },
    "collapsed": false,
    "jupyter": {
     "outputs_hidden": false
    }
   },
   "outputs": [
    {
     "name": "stdout",
     "output_type": "stream",
     "text": [
      "[[1 0 0 0 0]\n",
      " [0 2 0 0 0]\n",
      " [0 0 3 0 0]\n",
      " [0 0 0 4 0]\n",
      " [0 0 0 0 5]]\n"
     ]
    }
   ],
   "source": [
    "start_time = time.perf_counter()\n",
    "\n",
    "custom_res = [[i + 1 if i == j else 0 for j in range(n)] for i in range(n)]\n",
    "    \n",
    "custom_time = time.perf_counter() - start_time\n",
    "custom_res = np.array(custom_res)\n",
    "print(custom_res)"
   ]
  },
  {
   "cell_type": "code",
   "execution_count": 5,
   "id": "1fa627d18fd49ef0",
   "metadata": {
    "ExecuteTime": {
     "start_time": "2024-02-02T15:11:58.746375200Z"
    },
    "collapsed": false,
    "jupyter": {
     "outputs_hidden": false
    }
   },
   "outputs": [
    {
     "name": "stdout",
     "output_type": "stream",
     "text": [
      "The results are equal: True\n",
      "Time with NumPy: 0.08 ms.\n",
      "Time without NumPy: 0.109 ms.\n",
      "NumPy is 1.359 times faster.\n"
     ]
    }
   ],
   "source": [
    "print(f\"The results are equal: {np.array_equal(numpy_res, custom_res)}\")\n",
    "print(f\"Time with NumPy: {round(numpy_time * 1000, 3)} ms.\")\n",
    "print(f\"Time without NumPy: {round(custom_time * 1000, 3)} ms.\")\n",
    "print(f\"NumPy is {round(custom_time/numpy_time, 3)} times faster.\")"
   ]
  },
  {
   "cell_type": "markdown",
   "id": "b8cef1c15b670c4e",
   "metadata": {
    "collapsed": false,
    "jupyter": {
     "outputs_hidden": false
    }
   },
   "source": [
    "#### Вправа 3. \n",
    "##### Вводяться 4 числа n, m, r, c. Вивести масив розміру n×m, в якому в кожному рядку з номером r і в кожному стовпчику з номером c стоять 0, а інші елементи дорівнюють 1."
   ]
  },
  {
   "cell_type": "code",
   "execution_count": 6,
   "id": "b30010b5e391a417",
   "metadata": {
    "ExecuteTime": {
     "start_time": "2024-02-02T15:11:58.748373300Z"
    },
    "collapsed": false,
    "jupyter": {
     "outputs_hidden": false
    }
   },
   "outputs": [
    {
     "name": "stdin",
     "output_type": "stream",
     "text": [
      "Enter n:  6\n",
      "Enter m:  7\n",
      "Enter r:  2\n",
      "Enter c:  3\n"
     ]
    }
   ],
   "source": [
    "n = int(input(\"Enter n: \"))\n",
    "m = int(input(\"Enter m: \"))\n",
    "r = int(input(\"Enter r: \"))\n",
    "c = int(input(\"Enter c: \"))"
   ]
  },
  {
   "cell_type": "code",
   "execution_count": 7,
   "id": "26ae0b3766344ea8",
   "metadata": {
    "ExecuteTime": {
     "start_time": "2024-02-02T15:11:58.749529400Z"
    },
    "collapsed": false,
    "jupyter": {
     "outputs_hidden": false
    }
   },
   "outputs": [
    {
     "name": "stdout",
     "output_type": "stream",
     "text": [
      "[[0 0 0 0 0 0 0]\n",
      " [0 1 1 0 1 1 0]\n",
      " [0 0 0 0 0 0 0]\n",
      " [0 1 1 0 1 1 0]\n",
      " [0 0 0 0 0 0 0]\n",
      " [0 1 1 0 1 1 0]]\n"
     ]
    }
   ],
   "source": [
    "start_time = time.perf_counter()\n",
    "\n",
    "numpy_res = np.ones((n, m), dtype=int)\n",
    "numpy_res[range(0, n, r), :] = 0\n",
    "numpy_res[:, range(0, m, c)] = 0\n",
    "\n",
    "numpy_time = time.perf_counter() - start_time\n",
    "print(numpy_res)"
   ]
  },
  {
   "cell_type": "code",
   "execution_count": 8,
   "id": "16f6f4ef17b59e41",
   "metadata": {
    "ExecuteTime": {
     "end_time": "2024-02-02T15:11:58.752564200Z",
     "start_time": "2024-02-02T15:11:58.750537700Z"
    },
    "collapsed": false,
    "jupyter": {
     "outputs_hidden": false
    }
   },
   "outputs": [
    {
     "name": "stdout",
     "output_type": "stream",
     "text": [
      "[[0 0 0 0 0 0 0]\n",
      " [0 1 1 0 1 1 0]\n",
      " [0 0 0 0 0 0 0]\n",
      " [0 1 1 0 1 1 0]\n",
      " [0 0 0 0 0 0 0]\n",
      " [0 1 1 0 1 1 0]]\n"
     ]
    }
   ],
   "source": [
    "start_time = time.perf_counter()\n",
    "\n",
    "custom_res = [[0 if (i % r == 0 or j % c == 0) else 1 for j in range(m)] for i in range(n)]\n",
    "    \n",
    "custom_time = time.perf_counter() - start_time\n",
    "custom_res = np.array(custom_res, dtype=int)\n",
    "print(custom_res)"
   ]
  },
  {
   "cell_type": "code",
   "execution_count": 9,
   "id": "a535a1a858952e55",
   "metadata": {
    "ExecuteTime": {
     "start_time": "2024-02-02T15:11:58.751558300Z"
    },
    "collapsed": false,
    "jupyter": {
     "outputs_hidden": false
    }
   },
   "outputs": [
    {
     "name": "stdout",
     "output_type": "stream",
     "text": [
      "The results are equal: True\n",
      "Time with NumPy: 0.19 ms.\n",
      "Time without NumPy: 0.09 ms.\n",
      "NumPy is 0.473 times faster.\n"
     ]
    }
   ],
   "source": [
    "print(f\"The results are equal: {np.array_equal(numpy_res, custom_res)}\")\n",
    "print(f\"Time with NumPy: {round(numpy_time * 1000, 3)} ms.\")\n",
    "print(f\"Time without NumPy: {round(custom_time * 1000, 3)} ms.\")\n",
    "print(f\"NumPy is {round(custom_time/numpy_time, 3)} times faster.\")"
   ]
  },
  {
   "cell_type": "markdown",
   "id": "f98d529de51338df",
   "metadata": {
    "collapsed": false,
    "jupyter": {
     "outputs_hidden": false
    }
   },
   "source": [
    "#### Вправа 4. \n",
    "##### Вводяться числа n і m. Вивести масив розміру n×m, в якому у першому рядку (рядок з нулевим індексом) йдуть числа від 0 до m–1, а всі інші елементи матриці дорівнюють 0."
   ]
  },
  {
   "cell_type": "code",
   "execution_count": 10,
   "id": "e002ca2fe7890d79",
   "metadata": {
    "ExecuteTime": {
     "start_time": "2024-02-02T15:11:58.752564200Z"
    },
    "collapsed": false,
    "jupyter": {
     "outputs_hidden": false
    }
   },
   "outputs": [
    {
     "name": "stdin",
     "output_type": "stream",
     "text": [
      "Enter n:  4\n",
      "Enter m:  3\n"
     ]
    }
   ],
   "source": [
    "n = int(input(\"Enter n: \"))\n",
    "m = int(input(\"Enter m: \"))"
   ]
  },
  {
   "cell_type": "code",
   "execution_count": 11,
   "id": "33f4113ff445fbf5",
   "metadata": {
    "ExecuteTime": {
     "end_time": "2024-02-02T15:11:58.753567700Z",
     "start_time": "2024-02-02T15:11:58.753567700Z"
    },
    "collapsed": false,
    "jupyter": {
     "outputs_hidden": false
    }
   },
   "outputs": [
    {
     "name": "stdout",
     "output_type": "stream",
     "text": [
      "[[0 1 2]\n",
      " [0 0 0]\n",
      " [0 0 0]\n",
      " [0 0 0]]\n"
     ]
    }
   ],
   "source": [
    "start_time = time.perf_counter()\n",
    "\n",
    "numpy_res = np.zeros((n, m), dtype=int)\n",
    "numpy_res[0] = np.arange(0, m)\n",
    "\n",
    "numpy_time = time.perf_counter() - start_time\n",
    "print(numpy_res)"
   ]
  },
  {
   "cell_type": "code",
   "execution_count": 12,
   "id": "404d6a6459bfbbfa",
   "metadata": {
    "ExecuteTime": {
     "end_time": "2024-02-02T15:11:58.796983600Z",
     "start_time": "2024-02-02T15:11:58.754814100Z"
    },
    "collapsed": false,
    "jupyter": {
     "outputs_hidden": false
    }
   },
   "outputs": [
    {
     "name": "stdout",
     "output_type": "stream",
     "text": [
      "[[0 1 2]\n",
      " [0 0 0]\n",
      " [0 0 0]\n",
      " [0 0 0]]\n"
     ]
    }
   ],
   "source": [
    "start_time = time.perf_counter()\n",
    "\n",
    "custom_res = [[j if i == 0 else 0 for j in range(m)] for i in range(n)]\n",
    "    \n",
    "custom_time = time.perf_counter() - start_time\n",
    "custom_res = np.array(custom_res, dtype=int)\n",
    "print(custom_res)"
   ]
  },
  {
   "cell_type": "code",
   "execution_count": 13,
   "id": "8a1302feb736694b",
   "metadata": {
    "ExecuteTime": {
     "start_time": "2024-02-02T15:11:58.756095700Z"
    },
    "collapsed": false,
    "jupyter": {
     "outputs_hidden": false
    }
   },
   "outputs": [
    {
     "name": "stdout",
     "output_type": "stream",
     "text": [
      "The results are equal: True\n",
      "Time with NumPy: 0.059 ms.\n",
      "Time without NumPy: 0.07 ms.\n",
      "NumPy is 1.186 times faster.\n"
     ]
    }
   ],
   "source": [
    "print(f\"The results are equal: {np.array_equal(numpy_res, custom_res)}\")\n",
    "print(f\"Time with NumPy: {round(numpy_time * 1000, 3)} ms.\")\n",
    "print(f\"Time without NumPy: {round(custom_time * 1000, 3)} ms.\")\n",
    "print(f\"NumPy is {round(custom_time/numpy_time, 3)} times faster.\")"
   ]
  },
  {
   "cell_type": "markdown",
   "id": "956947d2f8c5ae52",
   "metadata": {
    "collapsed": false,
    "jupyter": {
     "outputs_hidden": false
    }
   },
   "source": [
    "#### Вправа 5. \n",
    "##### Вводиться число n. Вивести масив розміру n×n, в якому в рядках з парними індексами стоять 1, а в інших – 0."
   ]
  },
  {
   "cell_type": "code",
   "execution_count": 14,
   "id": "7470368199bb43d1",
   "metadata": {
    "ExecuteTime": {
     "start_time": "2024-02-02T15:11:58.756095700Z"
    },
    "collapsed": false,
    "jupyter": {
     "outputs_hidden": false
    }
   },
   "outputs": [
    {
     "name": "stdin",
     "output_type": "stream",
     "text": [
      "Enter n:  5\n"
     ]
    }
   ],
   "source": [
    "n = int(input(\"Enter n: \"))"
   ]
  },
  {
   "cell_type": "code",
   "execution_count": 15,
   "id": "ca50cec6e04f0d84",
   "metadata": {
    "ExecuteTime": {
     "start_time": "2024-02-02T15:11:58.757358700Z"
    },
    "collapsed": false,
    "jupyter": {
     "outputs_hidden": false
    }
   },
   "outputs": [
    {
     "name": "stdout",
     "output_type": "stream",
     "text": [
      "[[1 1 1 1 1]\n",
      " [0 0 0 0 0]\n",
      " [1 1 1 1 1]\n",
      " [0 0 0 0 0]\n",
      " [1 1 1 1 1]]\n"
     ]
    }
   ],
   "source": [
    "start_time = time.perf_counter()\n",
    "\n",
    "numpy_res = np.zeros((n, n), dtype=int)\n",
    "numpy_res[range(0, n, 2)] = 1\n",
    "\n",
    "numpy_time = time.perf_counter() - start_time\n",
    "print(numpy_res)"
   ]
  },
  {
   "cell_type": "code",
   "execution_count": 16,
   "id": "96d1be4ab32ce319",
   "metadata": {
    "ExecuteTime": {
     "start_time": "2024-02-02T15:11:58.759400100Z"
    },
    "collapsed": false,
    "jupyter": {
     "outputs_hidden": false
    }
   },
   "outputs": [
    {
     "name": "stdout",
     "output_type": "stream",
     "text": [
      "[[1 1 1 1 1]\n",
      " [0 0 0 0 0]\n",
      " [1 1 1 1 1]\n",
      " [0 0 0 0 0]\n",
      " [1 1 1 1 1]]\n"
     ]
    }
   ],
   "source": [
    "start_time = time.perf_counter()\n",
    "\n",
    "custom_res = [[1 if i % 2 == 0 else 0 for j in range(n)] for i in range(n)]\n",
    "\n",
    "custom_time = time.perf_counter() - start_time\n",
    "custom_res = np.array(custom_res, dtype=int)\n",
    "print(custom_res)"
   ]
  },
  {
   "cell_type": "code",
   "execution_count": 17,
   "id": "e9dd1cf4d657b2d3",
   "metadata": {
    "ExecuteTime": {
     "start_time": "2024-02-02T15:11:58.760397700Z"
    },
    "collapsed": false,
    "jupyter": {
     "outputs_hidden": false
    }
   },
   "outputs": [
    {
     "name": "stdout",
     "output_type": "stream",
     "text": [
      "The results are equal: True\n",
      "Time with NumPy: 0.111 ms.\n",
      "Time without NumPy: 0.063 ms.\n",
      "NumPy is 0.567 times faster.\n"
     ]
    }
   ],
   "source": [
    "print(f\"The results are equal: {np.array_equal(numpy_res, custom_res)}\")\n",
    "print(f\"Time with NumPy: {round(numpy_time * 1000, 3)} ms.\")\n",
    "print(f\"Time without NumPy: {round(custom_time * 1000, 3)} ms.\")\n",
    "print(f\"NumPy is {round(custom_time/numpy_time, 3)} times faster.\")"
   ]
  },
  {
   "cell_type": "markdown",
   "id": "4544d6b5772a5fef",
   "metadata": {
    "collapsed": false,
    "jupyter": {
     "outputs_hidden": false
    }
   },
   "source": [
    "#### Вправа 10.\n",
    "##### Вводиться числа n i m. Створити масив випадкових значень n×m і обчислити мінімальне, максимальне значення, середнє та середньо квадратичне відхилення, округлене до 3 знаків після коми."
   ]
  },
  {
   "cell_type": "code",
   "execution_count": 18,
   "id": "80d59364ce58ee72",
   "metadata": {
    "ExecuteTime": {
     "start_time": "2024-02-02T15:11:58.760397700Z"
    },
    "collapsed": false,
    "jupyter": {
     "outputs_hidden": false
    }
   },
   "outputs": [
    {
     "name": "stdin",
     "output_type": "stream",
     "text": [
      "Enter n:  4\n",
      "Enter m:  5\n"
     ]
    }
   ],
   "source": [
    "n = int(input(\"Enter n: \"))\n",
    "m = int(input(\"Enter m: \"))"
   ]
  },
  {
   "cell_type": "code",
   "execution_count": 19,
   "id": "e937fde666215c9b",
   "metadata": {
    "ExecuteTime": {
     "start_time": "2024-02-02T15:11:58.762839500Z"
    },
    "collapsed": false,
    "jupyter": {
     "outputs_hidden": false
    }
   },
   "outputs": [
    {
     "name": "stdout",
     "output_type": "stream",
     "text": [
      "[[0.62993841 0.89664814 0.2511168  0.21865621 0.2856455 ]\n",
      " [0.89982493 0.85039514 0.10811376 0.35524759 0.56914816]\n",
      " [0.8059246  0.42462552 0.43613815 0.54936616 0.84020319]\n",
      " [0.40216603 0.86730429 0.30306472 0.72473596 0.20191495]]\n",
      "Minimum: 0.108\n",
      "Maximum: 0.9\n",
      "Mean: 0.531\n",
      "Std: 0.26\n"
     ]
    }
   ],
   "source": [
    "start_time = time.perf_counter()\n",
    "\n",
    "numpy_res = np.random.rand(n, m)\n",
    "min_value = np.min(numpy_res)\n",
    "max_value = np.max(numpy_res)\n",
    "mean_value = np.mean(numpy_res)\n",
    "std_value = np.std(numpy_res)\n",
    "\n",
    "numpy_time = time.perf_counter() - start_time\n",
    "print(numpy_res)\n",
    "print(f\"Minimum: {round(min_value, 3)}\")\n",
    "print(f\"Maximum: {round(max_value, 3)}\")\n",
    "print(f\"Mean: {round(mean_value, 3)}\")\n",
    "print(f\"Std: {round(std_value, 3)}\")"
   ]
  },
  {
   "cell_type": "code",
   "execution_count": 20,
   "id": "98242eee7e5945d8",
   "metadata": {
    "ExecuteTime": {
     "start_time": "2024-02-02T15:11:58.763839300Z"
    },
    "collapsed": false,
    "jupyter": {
     "outputs_hidden": false
    }
   },
   "outputs": [
    {
     "name": "stdout",
     "output_type": "stream",
     "text": [
      "[[0.2129653  0.3473839  0.55609854 0.02670884 0.51079228]\n",
      " [0.46365526 0.00829232 0.9259698  0.30192041 0.68076363]\n",
      " [0.16246928 0.23783258 0.65809759 0.22350691 0.93807536]\n",
      " [0.89311286 0.37456995 0.29153813 0.31408877 0.1281606 ]]\n",
      "Minimum: 0.008\n",
      "Maximum: 0.938\n",
      "Mean: 0.413\n",
      "Std: 0.277\n"
     ]
    }
   ],
   "source": [
    "start_time = time.perf_counter()\n",
    "\n",
    "custom_res = [[random.random() for j in range(m)] for i in range(n)]\n",
    "flat_custom_res = [e for r in custom_res for e in r]\n",
    "min_value = min([min(r) for r in custom_res])\n",
    "max_value = max([max(r) for r in custom_res])\n",
    "mean_value = sum(flat_custom_res) / len(flat_custom_res)\n",
    "std_value = math.sqrt(sum((e - mean_value) ** 2 for e in flat_custom_res) / len(flat_custom_res))\n",
    "\n",
    "custom_time = time.perf_counter() - start_time\n",
    "custom_res = np.array(custom_res, dtype=float)\n",
    "print(custom_res)\n",
    "print(f\"Minimum: {round(min_value, 3)}\")\n",
    "print(f\"Maximum: {round(max_value, 3)}\")\n",
    "print(f\"Mean: {round(mean_value, 3)}\")\n",
    "print(f\"Std: {round(std_value, 3)}\")"
   ]
  },
  {
   "cell_type": "code",
   "execution_count": 21,
   "id": "d795f3a9c7640e9d",
   "metadata": {
    "ExecuteTime": {
     "start_time": "2024-02-02T15:11:58.764837500Z"
    },
    "collapsed": false,
    "jupyter": {
     "outputs_hidden": false
    }
   },
   "outputs": [
    {
     "name": "stdout",
     "output_type": "stream",
     "text": [
      "Time with NumPy: 13.299 ms.\n",
      "Time without NumPy: 0.164 ms.\n",
      "NumPy is 0.012 times faster.\n"
     ]
    }
   ],
   "source": [
    "print(f\"Time with NumPy: {round(numpy_time * 1000, 3)} ms.\")\n",
    "print(f\"Time without NumPy: {round(custom_time * 1000, 3)} ms.\")\n",
    "print(f\"NumPy is {round(custom_time/numpy_time, 3)} times faster.\")"
   ]
  },
  {
   "cell_type": "markdown",
   "id": "582882086c2e2146",
   "metadata": {
    "collapsed": false,
    "jupyter": {
     "outputs_hidden": false
    }
   },
   "source": [
    "#### Вправа 12. \n",
    "##### Створити масив одиниць розміром n×n та створити в ньому «рамку», що утворюється з 0."
   ]
  },
  {
   "cell_type": "code",
   "execution_count": 22,
   "id": "de29524f643791b0",
   "metadata": {
    "ExecuteTime": {
     "start_time": "2024-02-02T15:11:58.765839600Z"
    },
    "collapsed": false,
    "jupyter": {
     "outputs_hidden": false
    }
   },
   "outputs": [
    {
     "name": "stdin",
     "output_type": "stream",
     "text": [
      "Enter n:  4\n"
     ]
    }
   ],
   "source": [
    "n = int(input(\"Enter n: \"))"
   ]
  },
  {
   "cell_type": "code",
   "execution_count": 23,
   "id": "5391171e960dcb7f",
   "metadata": {
    "ExecuteTime": {
     "start_time": "2024-02-02T15:11:58.765839600Z"
    },
    "collapsed": false,
    "jupyter": {
     "outputs_hidden": false
    }
   },
   "outputs": [
    {
     "name": "stdout",
     "output_type": "stream",
     "text": [
      "[[0 0 0 0]\n",
      " [0 1 1 0]\n",
      " [0 1 1 0]\n",
      " [0 0 0 0]]\n"
     ]
    }
   ],
   "source": [
    "start_time = time.perf_counter()\n",
    "\n",
    "numpy_res = np.ones((n, n), dtype=int)\n",
    "numpy_res[(0, n - 1), ...] = 0\n",
    "numpy_res[..., (0, n - 1)] = 0\n",
    "\n",
    "numpy_time = time.perf_counter() - start_time\n",
    "print(numpy_res)"
   ]
  },
  {
   "cell_type": "code",
   "execution_count": 24,
   "id": "aed1343e09c11a64",
   "metadata": {
    "ExecuteTime": {
     "start_time": "2024-02-02T15:11:58.767338200Z"
    },
    "collapsed": false,
    "jupyter": {
     "outputs_hidden": false
    }
   },
   "outputs": [
    {
     "name": "stdout",
     "output_type": "stream",
     "text": [
      "[[0 0 0 0]\n",
      " [0 1 1 0]\n",
      " [0 1 1 0]\n",
      " [0 0 0 0]]\n"
     ]
    }
   ],
   "source": [
    "start_time = time.perf_counter()\n",
    "\n",
    "custom_res = [[1 if (0 < i < n - 1 and 0 < j < n - 1) else 0 for j in range(n)] for i in range(n)]\n",
    "\n",
    "custom_time = time.perf_counter() - start_time\n",
    "custom_res = np.array(custom_res, dtype=int)\n",
    "print(custom_res)"
   ]
  },
  {
   "cell_type": "code",
   "execution_count": 25,
   "id": "ad1d0cb157814c7c",
   "metadata": {
    "ExecuteTime": {
     "start_time": "2024-02-02T15:11:58.768345200Z"
    },
    "collapsed": false,
    "jupyter": {
     "outputs_hidden": false
    }
   },
   "outputs": [
    {
     "name": "stdout",
     "output_type": "stream",
     "text": [
      "The results are equal: True\n",
      "Time with NumPy: 0.115 ms.\n",
      "Time without NumPy: 0.088 ms.\n",
      "NumPy is 0.767 times faster.\n"
     ]
    }
   ],
   "source": [
    "print(f\"The results are equal: {np.array_equal(numpy_res, custom_res)}\")\n",
    "print(f\"Time with NumPy: {round(numpy_time * 1000, 3)} ms.\")\n",
    "print(f\"Time without NumPy: {round(custom_time * 1000, 3)} ms.\")\n",
    "print(f\"NumPy is {round(custom_time/numpy_time, 3)} times faster.\")"
   ]
  },
  {
   "cell_type": "markdown",
   "id": "841b013e01a0d2a7",
   "metadata": {
    "collapsed": false,
    "jupyter": {
     "outputs_hidden": false
    }
   },
   "source": [
    "#### Вправа 16. \n",
    "##### Заповнити вектор значеннями від 0 до n. Всі значення, що більші за n/4 та менші за 3n/4 замінити нулями."
   ]
  },
  {
   "cell_type": "code",
   "execution_count": 26,
   "id": "b5c6b0f1af941b56",
   "metadata": {
    "ExecuteTime": {
     "start_time": "2024-02-02T15:11:58.769667300Z"
    },
    "collapsed": false,
    "jupyter": {
     "outputs_hidden": false
    }
   },
   "outputs": [
    {
     "name": "stdin",
     "output_type": "stream",
     "text": [
      "Enter n:  10\n"
     ]
    }
   ],
   "source": [
    "n = int(input(\"Enter n: \"))"
   ]
  },
  {
   "cell_type": "code",
   "execution_count": 27,
   "id": "324cb6a415bacafb",
   "metadata": {
    "ExecuteTime": {
     "start_time": "2024-02-02T15:11:58.770768700Z"
    },
    "collapsed": false,
    "jupyter": {
     "outputs_hidden": false
    }
   },
   "outputs": [
    {
     "name": "stdout",
     "output_type": "stream",
     "text": [
      "[ 0  1  2  0  0  0  0  0  8  9 10]\n"
     ]
    }
   ],
   "source": [
    "start_time = time.perf_counter()\n",
    "\n",
    "numpy_res = np.arange(n + 1, dtype=int)\n",
    "numpy_res[np.logical_and(n / 4 < numpy_res, numpy_res < 3 * n / 4)] = 0\n",
    "\n",
    "numpy_time = time.perf_counter() - start_time\n",
    "print(numpy_res)"
   ]
  },
  {
   "cell_type": "code",
   "execution_count": 28,
   "id": "1551785ea49a6ff1",
   "metadata": {
    "ExecuteTime": {
     "start_time": "2024-02-02T15:11:58.771924900Z"
    },
    "collapsed": false,
    "jupyter": {
     "outputs_hidden": false
    }
   },
   "outputs": [
    {
     "name": "stdout",
     "output_type": "stream",
     "text": [
      "[ 0  1  2  0  0  0  0  0  8  9 10]\n"
     ]
    }
   ],
   "source": [
    "start_time = time.perf_counter()\n",
    "\n",
    "custom_res = [i for i in range(n + 1)]\n",
    "custom_res = [0 if (n / 4 < i < 3 * n / 4) else i for i in custom_res]\n",
    "\n",
    "custom_time = time.perf_counter() - start_time\n",
    "custom_res = np.array(custom_res, dtype=int)\n",
    "print(custom_res)"
   ]
  },
  {
   "cell_type": "code",
   "execution_count": 29,
   "id": "139842e3d8504509",
   "metadata": {
    "ExecuteTime": {
     "start_time": "2024-02-02T15:11:58.772930500Z"
    },
    "collapsed": false,
    "jupyter": {
     "outputs_hidden": false
    }
   },
   "outputs": [
    {
     "name": "stdout",
     "output_type": "stream",
     "text": [
      "The results are equal: True\n",
      "Time with NumPy: 0.2 ms.\n",
      "Time without NumPy: 0.067 ms.\n",
      "NumPy is 0.335 times faster.\n"
     ]
    }
   ],
   "source": [
    "print(f\"The results are equal: {np.array_equal(numpy_res, custom_res)}\")\n",
    "print(f\"Time with NumPy: {round(numpy_time * 1000, 3)} ms.\")\n",
    "print(f\"Time without NumPy: {round(custom_time * 1000, 3)} ms.\")\n",
    "print(f\"NumPy is {round(custom_time/numpy_time, 3)} times faster.\")"
   ]
  },
  {
   "cell_type": "markdown",
   "id": "b5f88ccb6d5d2a49",
   "metadata": {
    "collapsed": false,
    "jupyter": {
     "outputs_hidden": false
    }
   },
   "source": [
    "#### Вправа 17. \n",
    "##### Заповнити вектор значеннями від 0 до n. Замінити знаки для всіх значень, що менші за n/2 та більші за 3n/4 на протилежні."
   ]
  },
  {
   "cell_type": "code",
   "execution_count": 30,
   "id": "543f175a5ccf8125",
   "metadata": {
    "ExecuteTime": {
     "start_time": "2024-02-02T15:11:58.773941300Z"
    },
    "collapsed": false,
    "jupyter": {
     "outputs_hidden": false
    }
   },
   "outputs": [
    {
     "name": "stdin",
     "output_type": "stream",
     "text": [
      "Enter n:  10\n"
     ]
    }
   ],
   "source": [
    "n = int(input(\"Enter n: \"))"
   ]
  },
  {
   "cell_type": "code",
   "execution_count": 31,
   "id": "d3aecfdc3be8a0ee",
   "metadata": {
    "ExecuteTime": {
     "start_time": "2024-02-02T15:11:58.774937200Z"
    },
    "collapsed": false,
    "jupyter": {
     "outputs_hidden": false
    }
   },
   "outputs": [
    {
     "name": "stdout",
     "output_type": "stream",
     "text": [
      "[  0  -1  -2  -3  -4   5   6   7  -8  -9 -10]\n"
     ]
    }
   ],
   "source": [
    "start_time = time.perf_counter()\n",
    "\n",
    "numpy_res = np.arange(n + 1, dtype=int)\n",
    "numpy_res[np.logical_or(numpy_res < n / 2, numpy_res > 3 * n / 4)] *= -1\n",
    "\n",
    "numpy_time = time.perf_counter() - start_time\n",
    "print(numpy_res)"
   ]
  },
  {
   "cell_type": "code",
   "execution_count": 32,
   "id": "1a1272144f02b92c",
   "metadata": {
    "ExecuteTime": {
     "start_time": "2024-02-02T15:11:58.774937200Z"
    },
    "collapsed": false,
    "jupyter": {
     "outputs_hidden": false
    }
   },
   "outputs": [
    {
     "name": "stdout",
     "output_type": "stream",
     "text": [
      "[  0  -1  -2  -3  -4   5   6   7  -8  -9 -10]\n"
     ]
    }
   ],
   "source": [
    "start_time = time.perf_counter()\n",
    "\n",
    "custom_res = [i for i in range(n + 1)]\n",
    "custom_res = [-i if (i < n / 2 or i > 3 * n / 4) else i for i in custom_res]\n",
    "\n",
    "custom_time = time.perf_counter() - start_time\n",
    "custom_res = np.array(custom_res, dtype=int)\n",
    "print(custom_res)"
   ]
  },
  {
   "cell_type": "code",
   "execution_count": 33,
   "id": "4c745b27c3b28f26",
   "metadata": {
    "ExecuteTime": {
     "start_time": "2024-02-02T15:11:58.775936800Z"
    },
    "collapsed": false,
    "jupyter": {
     "outputs_hidden": false
    }
   },
   "outputs": [
    {
     "name": "stdout",
     "output_type": "stream",
     "text": [
      "The results are equal: True\n",
      "Time with NumPy: 0.237 ms.\n",
      "Time without NumPy: 0.069 ms.\n",
      "NumPy is 0.294 times faster.\n"
     ]
    }
   ],
   "source": [
    "print(f\"The results are equal: {np.array_equal(numpy_res, custom_res)}\")\n",
    "print(f\"Time with NumPy: {round(numpy_time * 1000, 3)} ms.\")\n",
    "print(f\"Time without NumPy: {round(custom_time * 1000, 3)} ms.\")\n",
    "print(f\"NumPy is {round(custom_time/numpy_time, 3)} times faster.\")"
   ]
  },
  {
   "cell_type": "markdown",
   "id": "cf49a09a2e858f1e",
   "metadata": {
    "collapsed": false,
    "jupyter": {
     "outputs_hidden": false
    }
   },
   "source": [
    "#### Вправа 21.\n",
    "##### Ввести числа n і m. Згенерувати матрицю n×n випадкових цілих елементів з діапазону [0, m]. Замінити всі максимальні елементи цієї матриці на протилежні за знаком."
   ]
  },
  {
   "cell_type": "code",
   "execution_count": 34,
   "id": "d6f37d106dd132d6",
   "metadata": {
    "ExecuteTime": {
     "start_time": "2024-02-02T15:11:58.776936600Z"
    },
    "collapsed": false,
    "jupyter": {
     "outputs_hidden": false
    }
   },
   "outputs": [
    {
     "name": "stdin",
     "output_type": "stream",
     "text": [
      "Enter n:  4\n",
      "Enter m:  10\n"
     ]
    }
   ],
   "source": [
    "n = int(input(\"Enter n: \"))\n",
    "m = int(input(\"Enter m: \"))"
   ]
  },
  {
   "cell_type": "code",
   "execution_count": 35,
   "id": "ac1698d8f361ec",
   "metadata": {
    "ExecuteTime": {
     "start_time": "2024-02-02T15:11:58.777941100Z"
    },
    "collapsed": false,
    "jupyter": {
     "outputs_hidden": false
    }
   },
   "outputs": [
    {
     "name": "stdout",
     "output_type": "stream",
     "text": [
      "[[  2   1   0   6]\n",
      " [  8   5 -10   0]\n",
      " [  1   5   7   3]\n",
      " [  0   8   4   8]]\n"
     ]
    }
   ],
   "source": [
    "start_time = time.perf_counter()\n",
    "\n",
    "numpy_res = np.random.randint(m + 1, size=(n, n), dtype=int)\n",
    "numpy_res[numpy_res == np.max(numpy_res)] *= -1\n",
    "\n",
    "numpy_time = time.perf_counter() - start_time\n",
    "print(numpy_res)"
   ]
  },
  {
   "cell_type": "code",
   "execution_count": 36,
   "id": "2e1a3fce8a745923",
   "metadata": {
    "ExecuteTime": {
     "start_time": "2024-02-02T15:11:58.777941100Z"
    },
    "collapsed": false,
    "jupyter": {
     "outputs_hidden": false
    }
   },
   "outputs": [
    {
     "name": "stdout",
     "output_type": "stream",
     "text": [
      "[[ 5  0  5  6]\n",
      " [ 0  4 -8  1]\n",
      " [-8  3 -8  4]\n",
      " [ 2  0  1  5]]\n"
     ]
    }
   ],
   "source": [
    "start_time = time.perf_counter()\n",
    "\n",
    "custom_res = [[random.randint(0, m) for j in range(n)] for i in range(n)]\n",
    "max_value = max([max(r) for r in custom_res])\n",
    "custom_res = [[-e if e == max_value else e for e in r] for r in custom_res]\n",
    "\n",
    "custom_time = time.perf_counter() - start_time\n",
    "custom_res = np.array(custom_res, dtype=int)\n",
    "print(custom_res)"
   ]
  },
  {
   "cell_type": "code",
   "execution_count": 37,
   "id": "3e5456abbe5a18f1",
   "metadata": {
    "ExecuteTime": {
     "start_time": "2024-02-02T15:11:58.778938400Z"
    },
    "collapsed": false,
    "jupyter": {
     "outputs_hidden": false
    }
   },
   "outputs": [
    {
     "name": "stdout",
     "output_type": "stream",
     "text": [
      "Time with NumPy: 13.84 ms.\n",
      "Time without NumPy: 0.107 ms.\n",
      "NumPy is 0.008 times faster.\n"
     ]
    }
   ],
   "source": [
    "print(f\"Time with NumPy: {round(numpy_time * 1000, 3)} ms.\")\n",
    "print(f\"Time without NumPy: {round(custom_time * 1000, 3)} ms.\")\n",
    "print(f\"NumPy is {round(custom_time/numpy_time, 3)} times faster.\")"
   ]
  }
 ],
 "metadata": {
  "kernelspec": {
   "display_name": "Python 3 (ipykernel)",
   "language": "python",
   "name": "python3"
  },
  "language_info": {
   "codemirror_mode": {
    "name": "ipython",
    "version": 3
   },
   "file_extension": ".py",
   "mimetype": "text/x-python",
   "name": "python",
   "nbconvert_exporter": "python",
   "pygments_lexer": "ipython3",
   "version": "3.9.13"
  }
 },
 "nbformat": 4,
 "nbformat_minor": 5
}
