{
 "cells": [
  {
   "cell_type": "code",
   "execution_count": 1,
   "id": "8886e15a-69a1-46e0-aa63-4195dcfbd16e",
   "metadata": {
    "ExecuteTime": {
     "end_time": "2024-02-02T15:11:57.410945800Z",
     "start_time": "2024-02-02T15:11:57.343350900Z"
    }
   },
   "outputs": [],
   "source": [
    "import numpy as np\n",
    "import time\n",
    "import random\n",
    "import math"
   ]
  },
  {
   "cell_type": "markdown",
   "id": "51d9ff9b8f5e151e",
   "metadata": {
    "collapsed": false
   },
   "source": [
    "#### Вправа 1. \n",
    "##### Вводиться число n. Вивести масив розміру n×n, в якому по діагоналі йдуть числа від 1 до n, а інші числа дорівнюють 0."
   ]
  },
  {
   "cell_type": "code",
   "execution_count": 2,
   "id": "464118fe9181e0d2",
   "metadata": {
    "collapsed": false,
    "ExecuteTime": {
     "end_time": "2024-02-02T15:11:58.749529400Z",
     "start_time": "2024-02-02T15:11:57.404006800Z"
    }
   },
   "outputs": [
    {
     "ename": "ValueError",
     "evalue": "invalid literal for int() with base 10: ''",
     "output_type": "error",
     "traceback": [
      "\u001B[1;31m---------------------------------------------------------------------------\u001B[0m",
      "\u001B[1;31mValueError\u001B[0m                                Traceback (most recent call last)",
      "Cell \u001B[1;32mIn[2], line 1\u001B[0m\n\u001B[1;32m----> 1\u001B[0m n \u001B[38;5;241m=\u001B[39m \u001B[38;5;28;43mint\u001B[39;49m\u001B[43m(\u001B[49m\u001B[38;5;28;43minput\u001B[39;49m\u001B[43m(\u001B[49m\u001B[38;5;124;43m\"\u001B[39;49m\u001B[38;5;124;43mEnter n: \u001B[39;49m\u001B[38;5;124;43m\"\u001B[39;49m\u001B[43m)\u001B[49m\u001B[43m)\u001B[49m\n",
      "\u001B[1;31mValueError\u001B[0m: invalid literal for int() with base 10: ''"
     ]
    }
   ],
   "source": [
    "n = int(input(\"Enter n: \"))"
   ]
  },
  {
   "cell_type": "code",
   "execution_count": null,
   "id": "7e71f0ce68ba171f",
   "metadata": {
    "collapsed": false,
    "ExecuteTime": {
     "start_time": "2024-02-02T15:11:58.744372200Z"
    }
   },
   "outputs": [],
   "source": [
    "start_time = time.perf_counter()\n",
    "\n",
    "numpy_res = np.diag(np.arange(1, n + 1))\n",
    "\n",
    "numpy_time = time.perf_counter() - start_time\n",
    "print(numpy_res)"
   ]
  },
  {
   "cell_type": "code",
   "execution_count": null,
   "id": "ec6441031a5c18b5",
   "metadata": {
    "collapsed": false,
    "ExecuteTime": {
     "start_time": "2024-02-02T15:11:58.745371600Z"
    }
   },
   "outputs": [],
   "source": [
    "start_time = time.perf_counter()\n",
    "\n",
    "custom_res = [[i + 1 if i == j else 0 for j in range(n)] for i in range(n)]\n",
    "    \n",
    "custom_time = time.perf_counter() - start_time\n",
    "custom_res = np.array(custom_res)\n",
    "print(custom_res)"
   ]
  },
  {
   "cell_type": "code",
   "execution_count": null,
   "id": "1fa627d18fd49ef0",
   "metadata": {
    "collapsed": false,
    "ExecuteTime": {
     "start_time": "2024-02-02T15:11:58.746375200Z"
    }
   },
   "outputs": [],
   "source": [
    "print(f\"The results are equal: {np.array_equal(numpy_res, custom_res)}\")\n",
    "print(f\"Time with NumPy: {round(numpy_time * 1000, 3)} ms.\")\n",
    "print(f\"Time without NumPy: {round(custom_time * 1000, 3)} ms.\")\n",
    "print(f\"NumPy is {round(custom_time/numpy_time, 3)} times faster.\")"
   ]
  },
  {
   "cell_type": "markdown",
   "id": "b8cef1c15b670c4e",
   "metadata": {
    "collapsed": false
   },
   "source": [
    "#### Вправа 3. \n",
    "##### Вводяться 4 числа n, m, r, c. Вивести масив розміру n×m, в якому в кожному рядку з номером r і в кожному стовпчику з номером c стоять 0, а інші елементи дорівнюють 1."
   ]
  },
  {
   "cell_type": "code",
   "execution_count": null,
   "id": "b30010b5e391a417",
   "metadata": {
    "collapsed": false,
    "ExecuteTime": {
     "start_time": "2024-02-02T15:11:58.748373300Z"
    }
   },
   "outputs": [],
   "source": [
    "n = int(input(\"Enter n: \"))\n",
    "m = int(input(\"Enter m: \"))\n",
    "r = int(input(\"Enter r: \"))\n",
    "c = int(input(\"Enter c: \"))"
   ]
  },
  {
   "cell_type": "code",
   "execution_count": null,
   "id": "26ae0b3766344ea8",
   "metadata": {
    "collapsed": false,
    "ExecuteTime": {
     "start_time": "2024-02-02T15:11:58.749529400Z"
    }
   },
   "outputs": [],
   "source": [
    "start_time = time.perf_counter()\n",
    "\n",
    "numpy_res = np.ones((n, m), dtype=int)\n",
    "numpy_res[range(0, n, r), :] = 0\n",
    "numpy_res[:, range(0, m, c)] = 0\n",
    "\n",
    "numpy_time = time.perf_counter() - start_time\n",
    "print(numpy_res)"
   ]
  },
  {
   "cell_type": "code",
   "execution_count": null,
   "id": "16f6f4ef17b59e41",
   "metadata": {
    "collapsed": false,
    "ExecuteTime": {
     "end_time": "2024-02-02T15:11:58.752564200Z",
     "start_time": "2024-02-02T15:11:58.750537700Z"
    }
   },
   "outputs": [],
   "source": [
    "start_time = time.perf_counter()\n",
    "\n",
    "custom_res = [[0 if (i % r == 0 or j % c == 0) else 1 for j in range(m)] for i in range(n)]\n",
    "    \n",
    "custom_time = time.perf_counter() - start_time\n",
    "custom_res = np.array(custom_res, dtype=int)\n",
    "print(custom_res)"
   ]
  },
  {
   "cell_type": "code",
   "execution_count": null,
   "id": "a535a1a858952e55",
   "metadata": {
    "collapsed": false,
    "ExecuteTime": {
     "start_time": "2024-02-02T15:11:58.751558300Z"
    }
   },
   "outputs": [],
   "source": [
    "print(f\"The results are equal: {np.array_equal(numpy_res, custom_res)}\")\n",
    "print(f\"Time with NumPy: {round(numpy_time * 1000, 3)} ms.\")\n",
    "print(f\"Time without NumPy: {round(custom_time * 1000, 3)} ms.\")\n",
    "print(f\"NumPy is {round(custom_time/numpy_time, 3)} times faster.\")"
   ]
  },
  {
   "cell_type": "markdown",
   "id": "f98d529de51338df",
   "metadata": {
    "collapsed": false
   },
   "source": [
    "#### Вправа 4. \n",
    "##### Вводяться числа n і m. Вивести масив розміру n×m, в якому у першому рядку (рядок з нулевим індексом) йдуть числа від 0 до m–1, а всі інші елементи матриці дорівнюють 0."
   ]
  },
  {
   "cell_type": "code",
   "execution_count": null,
   "id": "e002ca2fe7890d79",
   "metadata": {
    "collapsed": false,
    "ExecuteTime": {
     "start_time": "2024-02-02T15:11:58.752564200Z"
    }
   },
   "outputs": [],
   "source": [
    "n = int(input(\"Enter n: \"))\n",
    "m = int(input(\"Enter m: \"))"
   ]
  },
  {
   "cell_type": "code",
   "execution_count": null,
   "id": "33f4113ff445fbf5",
   "metadata": {
    "collapsed": false,
    "ExecuteTime": {
     "end_time": "2024-02-02T15:11:58.753567700Z",
     "start_time": "2024-02-02T15:11:58.753567700Z"
    }
   },
   "outputs": [],
   "source": [
    "start_time = time.perf_counter()\n",
    "\n",
    "numpy_res = np.zeros((n, m), dtype=int)\n",
    "numpy_res[0] = np.arange(0, m)\n",
    "\n",
    "numpy_time = time.perf_counter() - start_time\n",
    "print(numpy_res)"
   ]
  },
  {
   "cell_type": "code",
   "execution_count": null,
   "id": "404d6a6459bfbbfa",
   "metadata": {
    "collapsed": false,
    "ExecuteTime": {
     "end_time": "2024-02-02T15:11:58.796983600Z",
     "start_time": "2024-02-02T15:11:58.754814100Z"
    }
   },
   "outputs": [],
   "source": [
    "start_time = time.perf_counter()\n",
    "\n",
    "custom_res = [[j if i == 0 else 0 for j in range(m)] for i in range(n)]\n",
    "    \n",
    "custom_time = time.perf_counter() - start_time\n",
    "custom_res = np.array(custom_res, dtype=int)\n",
    "print(custom_res)"
   ]
  },
  {
   "cell_type": "code",
   "execution_count": null,
   "id": "8a1302feb736694b",
   "metadata": {
    "collapsed": false,
    "ExecuteTime": {
     "start_time": "2024-02-02T15:11:58.756095700Z"
    }
   },
   "outputs": [],
   "source": [
    "print(f\"The results are equal: {np.array_equal(numpy_res, custom_res)}\")\n",
    "print(f\"Time with NumPy: {round(numpy_time * 1000, 3)} ms.\")\n",
    "print(f\"Time without NumPy: {round(custom_time * 1000, 3)} ms.\")\n",
    "print(f\"NumPy is {round(custom_time/numpy_time, 3)} times faster.\")"
   ]
  },
  {
   "cell_type": "markdown",
   "id": "956947d2f8c5ae52",
   "metadata": {
    "collapsed": false
   },
   "source": [
    "#### Вправа 5. \n",
    "##### Вводиться число n. Вивести масив розміру n×n, в якому в рядках з парними індексами стоять 1, а в інших – 0."
   ]
  },
  {
   "cell_type": "code",
   "execution_count": null,
   "id": "7470368199bb43d1",
   "metadata": {
    "collapsed": false,
    "ExecuteTime": {
     "start_time": "2024-02-02T15:11:58.756095700Z"
    }
   },
   "outputs": [],
   "source": [
    "n = int(input(\"Enter n: \"))"
   ]
  },
  {
   "cell_type": "code",
   "execution_count": null,
   "id": "ca50cec6e04f0d84",
   "metadata": {
    "collapsed": false,
    "ExecuteTime": {
     "start_time": "2024-02-02T15:11:58.757358700Z"
    }
   },
   "outputs": [],
   "source": [
    "start_time = time.perf_counter()\n",
    "\n",
    "numpy_res = np.zeros((n, m), dtype=int)\n",
    "numpy_res[range(0, n, 2)] = 1\n",
    "\n",
    "numpy_time = time.perf_counter() - start_time\n",
    "print(numpy_res)"
   ]
  },
  {
   "cell_type": "code",
   "execution_count": null,
   "id": "96d1be4ab32ce319",
   "metadata": {
    "collapsed": false,
    "ExecuteTime": {
     "start_time": "2024-02-02T15:11:58.759400100Z"
    }
   },
   "outputs": [],
   "source": [
    "start_time = time.perf_counter()\n",
    "\n",
    "custom_res = [[1 if i % 2 == 0 else 0 for j in range(m)] for i in range(n)]\n",
    "\n",
    "custom_time = time.perf_counter() - start_time\n",
    "custom_res = np.array(custom_res, dtype=int)\n",
    "print(custom_res)"
   ]
  },
  {
   "cell_type": "code",
   "execution_count": null,
   "id": "e9dd1cf4d657b2d3",
   "metadata": {
    "collapsed": false,
    "ExecuteTime": {
     "start_time": "2024-02-02T15:11:58.760397700Z"
    }
   },
   "outputs": [],
   "source": [
    "print(f\"The results are equal: {np.array_equal(numpy_res, custom_res)}\")\n",
    "print(f\"Time with NumPy: {round(numpy_time * 1000, 3)} ms.\")\n",
    "print(f\"Time without NumPy: {round(custom_time * 1000, 3)} ms.\")\n",
    "print(f\"NumPy is {round(custom_time/numpy_time, 3)} times faster.\")"
   ]
  },
  {
   "cell_type": "markdown",
   "id": "4544d6b5772a5fef",
   "metadata": {
    "collapsed": false
   },
   "source": [
    "#### Вправа 10.\n",
    "##### Вводиться числа n i m. Створити масив випадкових значень n×m і обчислити мінімальне, максимальне значення, середнє та середньо квадратичне відхилення, округлене до 3 знаків після коми."
   ]
  },
  {
   "cell_type": "code",
   "execution_count": null,
   "id": "80d59364ce58ee72",
   "metadata": {
    "collapsed": false,
    "ExecuteTime": {
     "start_time": "2024-02-02T15:11:58.760397700Z"
    }
   },
   "outputs": [],
   "source": [
    "n = int(input(\"Enter n: \"))\n",
    "m = int(input(\"Enter m: \"))"
   ]
  },
  {
   "cell_type": "code",
   "execution_count": null,
   "id": "e937fde666215c9b",
   "metadata": {
    "collapsed": false,
    "ExecuteTime": {
     "start_time": "2024-02-02T15:11:58.762839500Z"
    }
   },
   "outputs": [],
   "source": [
    "start_time = time.perf_counter()\n",
    "\n",
    "numpy_res = np.random.rand(n, m)\n",
    "min_value = np.min(numpy_res)\n",
    "max_value = np.max(numpy_res)\n",
    "mean_value = np.mean(numpy_res)\n",
    "std_value = np.std(numpy_res)\n",
    "\n",
    "numpy_time = time.perf_counter() - start_time\n",
    "print(numpy_res)\n",
    "print(f\"Minimum: {round(min_value, 3)}\")\n",
    "print(f\"Maximum: {round(max_value, 3)}\")\n",
    "print(f\"Mean: {round(mean_value, 3)}\")\n",
    "print(f\"Std: {round(std_value, 3)}\")"
   ]
  },
  {
   "cell_type": "code",
   "execution_count": null,
   "id": "98242eee7e5945d8",
   "metadata": {
    "collapsed": false,
    "ExecuteTime": {
     "start_time": "2024-02-02T15:11:58.763839300Z"
    }
   },
   "outputs": [],
   "source": [
    "start_time = time.perf_counter()\n",
    "\n",
    "custom_res = [[random.random() for j in range(m)] for i in range(n)]\n",
    "flat_custom_res = [e for r in custom_res for e in r]\n",
    "min_value = min([min(r) for r in custom_res])\n",
    "max_value = max([max(r) for r in custom_res])\n",
    "mean_value = sum(flat_custom_res) / len(flat_custom_res)\n",
    "std_value = math.sqrt(sum((e - mean_value) ** 2 for e in flat_custom_res) / len(flat_custom_res))\n",
    "\n",
    "custom_time = time.perf_counter() - start_time\n",
    "custom_res = np.array(custom_res, dtype=float)\n",
    "print(custom_res)\n",
    "print(f\"Minimum: {round(min_value, 3)}\")\n",
    "print(f\"Maximum: {round(max_value, 3)}\")\n",
    "print(f\"Mean: {round(mean_value, 3)}\")\n",
    "print(f\"Std: {round(std_value, 3)}\")"
   ]
  },
  {
   "cell_type": "code",
   "execution_count": null,
   "id": "d795f3a9c7640e9d",
   "metadata": {
    "collapsed": false,
    "ExecuteTime": {
     "start_time": "2024-02-02T15:11:58.764837500Z"
    }
   },
   "outputs": [],
   "source": [
    "print(f\"Time with NumPy: {round(numpy_time * 1000, 3)} ms.\")\n",
    "print(f\"Time without NumPy: {round(custom_time * 1000, 3)} ms.\")\n",
    "print(f\"NumPy is {round(custom_time/numpy_time, 3)} times faster.\")"
   ]
  },
  {
   "cell_type": "markdown",
   "id": "582882086c2e2146",
   "metadata": {
    "collapsed": false
   },
   "source": [
    "#### Вправа 12. \n",
    "##### Створити масив одиниць розміром n×n та створити в ньому «рамку», що утворюється з 0."
   ]
  },
  {
   "cell_type": "code",
   "execution_count": null,
   "id": "de29524f643791b0",
   "metadata": {
    "collapsed": false,
    "ExecuteTime": {
     "start_time": "2024-02-02T15:11:58.765839600Z"
    }
   },
   "outputs": [],
   "source": [
    "n = int(input(\"Enter n: \"))"
   ]
  },
  {
   "cell_type": "code",
   "execution_count": null,
   "id": "5391171e960dcb7f",
   "metadata": {
    "collapsed": false,
    "ExecuteTime": {
     "start_time": "2024-02-02T15:11:58.765839600Z"
    }
   },
   "outputs": [],
   "source": [
    "start_time = time.perf_counter()\n",
    "\n",
    "numpy_res = np.ones((n, n), dtype=int)\n",
    "numpy_res[(0, n - 1), ...] = 0\n",
    "numpy_res[..., (0, n - 1)] = 0\n",
    "\n",
    "numpy_time = time.perf_counter() - start_time\n",
    "print(numpy_res)"
   ]
  },
  {
   "cell_type": "code",
   "execution_count": null,
   "id": "aed1343e09c11a64",
   "metadata": {
    "collapsed": false,
    "ExecuteTime": {
     "start_time": "2024-02-02T15:11:58.767338200Z"
    }
   },
   "outputs": [],
   "source": [
    "start_time = time.perf_counter()\n",
    "\n",
    "custom_res = [[1 if (0 < i < n - 1 and 0 < j < n - 1) else 0 for j in range(n)] for i in range(n)]\n",
    "\n",
    "custom_time = time.perf_counter() - start_time\n",
    "custom_res = np.array(custom_res, dtype=int)\n",
    "print(custom_res)"
   ]
  },
  {
   "cell_type": "code",
   "execution_count": null,
   "id": "ad1d0cb157814c7c",
   "metadata": {
    "collapsed": false,
    "ExecuteTime": {
     "start_time": "2024-02-02T15:11:58.768345200Z"
    }
   },
   "outputs": [],
   "source": [
    "print(f\"The results are equal: {np.array_equal(numpy_res, custom_res)}\")\n",
    "print(f\"Time with NumPy: {round(numpy_time * 1000, 3)} ms.\")\n",
    "print(f\"Time without NumPy: {round(custom_time * 1000, 3)} ms.\")\n",
    "print(f\"NumPy is {round(custom_time/numpy_time, 3)} times faster.\")"
   ]
  },
  {
   "cell_type": "markdown",
   "id": "841b013e01a0d2a7",
   "metadata": {
    "collapsed": false
   },
   "source": [
    "#### Вправа 16. \n",
    "##### Заповнити вектор значеннями від 0 до n. Всі значення, що більші за n/4 та менші за 3n/4 замінити нулями."
   ]
  },
  {
   "cell_type": "code",
   "execution_count": null,
   "id": "b5c6b0f1af941b56",
   "metadata": {
    "collapsed": false,
    "ExecuteTime": {
     "start_time": "2024-02-02T15:11:58.769667300Z"
    }
   },
   "outputs": [],
   "source": [
    "n = int(input(\"Enter n: \"))"
   ]
  },
  {
   "cell_type": "code",
   "execution_count": null,
   "id": "324cb6a415bacafb",
   "metadata": {
    "collapsed": false,
    "ExecuteTime": {
     "start_time": "2024-02-02T15:11:58.770768700Z"
    }
   },
   "outputs": [],
   "source": [
    "start_time = time.perf_counter()\n",
    "\n",
    "numpy_res = np.arange(n + 1, dtype=int)\n",
    "numpy_res[np.logical_and(n / 4 < numpy_res, numpy_res < 3 * n / 4)] = 0\n",
    "\n",
    "numpy_time = time.perf_counter() - start_time\n",
    "print(numpy_res)"
   ]
  },
  {
   "cell_type": "code",
   "execution_count": null,
   "id": "1551785ea49a6ff1",
   "metadata": {
    "collapsed": false,
    "ExecuteTime": {
     "start_time": "2024-02-02T15:11:58.771924900Z"
    }
   },
   "outputs": [],
   "source": [
    "start_time = time.perf_counter()\n",
    "\n",
    "custom_res = [i for i in range(n + 1)]\n",
    "custom_res = [0 if (n / 4 < i < 3 * n / 4) else i for i in custom_res]\n",
    "\n",
    "custom_time = time.perf_counter() - start_time\n",
    "custom_res = np.array(custom_res, dtype=int)\n",
    "print(custom_res)"
   ]
  },
  {
   "cell_type": "code",
   "execution_count": null,
   "id": "139842e3d8504509",
   "metadata": {
    "collapsed": false,
    "ExecuteTime": {
     "start_time": "2024-02-02T15:11:58.772930500Z"
    }
   },
   "outputs": [],
   "source": [
    "print(f\"The results are equal: {np.array_equal(numpy_res, custom_res)}\")\n",
    "print(f\"Time with NumPy: {round(numpy_time * 1000, 3)} ms.\")\n",
    "print(f\"Time without NumPy: {round(custom_time * 1000, 3)} ms.\")\n",
    "print(f\"NumPy is {round(custom_time/numpy_time, 3)} times faster.\")"
   ]
  },
  {
   "cell_type": "markdown",
   "id": "b5f88ccb6d5d2a49",
   "metadata": {
    "collapsed": false
   },
   "source": [
    "#### Вправа 17. \n",
    "##### Заповнити вектор значеннями від 0 до n. Замінити знаки для всіх значень, що менші за n/2 та більші за 3n/4 на протилежні."
   ]
  },
  {
   "cell_type": "code",
   "execution_count": null,
   "id": "543f175a5ccf8125",
   "metadata": {
    "collapsed": false,
    "ExecuteTime": {
     "start_time": "2024-02-02T15:11:58.773941300Z"
    }
   },
   "outputs": [],
   "source": [
    "n = int(input(\"Enter n: \"))"
   ]
  },
  {
   "cell_type": "code",
   "execution_count": null,
   "id": "d3aecfdc3be8a0ee",
   "metadata": {
    "collapsed": false,
    "ExecuteTime": {
     "start_time": "2024-02-02T15:11:58.774937200Z"
    }
   },
   "outputs": [],
   "source": [
    "start_time = time.perf_counter()\n",
    "\n",
    "numpy_res = np.arange(n + 1, dtype=int)\n",
    "numpy_res[np.logical_or(numpy_res < n / 2, numpy_res > 3 * n / 4)] *= -1\n",
    "\n",
    "numpy_time = time.perf_counter() - start_time\n",
    "print(numpy_res)"
   ]
  },
  {
   "cell_type": "code",
   "execution_count": null,
   "id": "1a1272144f02b92c",
   "metadata": {
    "collapsed": false,
    "ExecuteTime": {
     "start_time": "2024-02-02T15:11:58.774937200Z"
    }
   },
   "outputs": [],
   "source": [
    "start_time = time.perf_counter()\n",
    "\n",
    "custom_res = [i for i in range(n + 1)]\n",
    "custom_res = [-i if (i < n / 2 or i > 3 * n / 4) else i for i in custom_res]\n",
    "\n",
    "custom_time = time.perf_counter() - start_time\n",
    "custom_res = np.array(custom_res, dtype=int)\n",
    "print(custom_res)"
   ]
  },
  {
   "cell_type": "code",
   "execution_count": null,
   "id": "4c745b27c3b28f26",
   "metadata": {
    "collapsed": false,
    "ExecuteTime": {
     "start_time": "2024-02-02T15:11:58.775936800Z"
    }
   },
   "outputs": [],
   "source": [
    "print(f\"The results are equal: {np.array_equal(numpy_res, custom_res)}\")\n",
    "print(f\"Time with NumPy: {round(numpy_time * 1000, 3)} ms.\")\n",
    "print(f\"Time without NumPy: {round(custom_time * 1000, 3)} ms.\")\n",
    "print(f\"NumPy is {round(custom_time/numpy_time, 3)} times faster.\")"
   ]
  },
  {
   "cell_type": "markdown",
   "id": "cf49a09a2e858f1e",
   "metadata": {
    "collapsed": false
   },
   "source": [
    "#### Вправа 21.\n",
    "##### Ввести числа n і m. Згенерувати матрицю n×n випадкових цілих елементів з діапазону [0, m]. Замінити всі максимальні елементи цієї матриці на протилежні за знаком."
   ]
  },
  {
   "cell_type": "code",
   "execution_count": null,
   "id": "d6f37d106dd132d6",
   "metadata": {
    "collapsed": false,
    "ExecuteTime": {
     "start_time": "2024-02-02T15:11:58.776936600Z"
    }
   },
   "outputs": [],
   "source": [
    "n = int(input(\"Enter n: \"))\n",
    "m = int(input(\"Enter m: \"))"
   ]
  },
  {
   "cell_type": "code",
   "execution_count": null,
   "id": "ac1698d8f361ec",
   "metadata": {
    "collapsed": false,
    "ExecuteTime": {
     "start_time": "2024-02-02T15:11:58.777941100Z"
    }
   },
   "outputs": [],
   "source": [
    "start_time = time.perf_counter()\n",
    "\n",
    "numpy_res = np.random.randint(m + 1, size=(n, n), dtype=int)\n",
    "numpy_res[numpy_res == np.max(numpy_res)] *= -1\n",
    "\n",
    "numpy_time = time.perf_counter() - start_time\n",
    "print(numpy_res)"
   ]
  },
  {
   "cell_type": "code",
   "execution_count": null,
   "id": "2e1a3fce8a745923",
   "metadata": {
    "collapsed": false,
    "ExecuteTime": {
     "start_time": "2024-02-02T15:11:58.777941100Z"
    }
   },
   "outputs": [],
   "source": [
    "start_time = time.perf_counter()\n",
    "\n",
    "custom_res = [[random.randint(0, m) for j in range(n)] for i in range(n)]\n",
    "max_value = max([max(r) for r in custom_res])\n",
    "custom_res = [[-e if e == max_value else e for e in r] for r in custom_res]\n",
    "\n",
    "custom_time = time.perf_counter() - start_time\n",
    "custom_res = np.array(custom_res, dtype=int)\n",
    "print(custom_res)"
   ]
  },
  {
   "cell_type": "code",
   "execution_count": null,
   "id": "3e5456abbe5a18f1",
   "metadata": {
    "collapsed": false,
    "ExecuteTime": {
     "start_time": "2024-02-02T15:11:58.778938400Z"
    }
   },
   "outputs": [],
   "source": [
    "print(f\"Time with NumPy: {round(numpy_time * 1000, 3)} ms.\")\n",
    "print(f\"Time without NumPy: {round(custom_time * 1000, 3)} ms.\")\n",
    "print(f\"NumPy is {round(custom_time/numpy_time, 3)} times faster.\")"
   ]
  }
 ],
 "metadata": {
  "kernelspec": {
   "display_name": "Python 3 (ipykernel)",
   "language": "python",
   "name": "python3"
  },
  "language_info": {
   "codemirror_mode": {
    "name": "ipython",
    "version": 3
   },
   "file_extension": ".py",
   "mimetype": "text/x-python",
   "name": "python",
   "nbconvert_exporter": "python",
   "pygments_lexer": "ipython3",
   "version": "3.9.13"
  }
 },
 "nbformat": 4,
 "nbformat_minor": 5
}
