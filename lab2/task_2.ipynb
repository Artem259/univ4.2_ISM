{
 "cells": [
  {
   "cell_type": "markdown",
   "id": "2fd330ee9637f6b8",
   "metadata": {
    "collapsed": false,
    "jupyter": {
     "outputs_hidden": false
    }
   },
   "source": [
    "Розв’язати систему алгебраїчних рівнянь за допомогою формул Крамера і виконати перевірку за допомогою:\n",
    "   - матричного множення;\n",
    "   - оберненої матриці;\n",
    "   - функції ```numpy.linalg.solve()```.\n",
    "\n",
    "Порівняти всі рішення за допомогою функції ```numpy.allclose()```.\n",
    "\n",
    "\\begin{equation}\n",
    "    \\begin{cases}\n",
    "      2x_1 - x_2 + 3x_3 + 2x_4 = 4\\\\\n",
    "      3x_1 + 3x_2 + 3x_3 + 2x_4 = 6\\\\\n",
    "      3x_1 - x_2 - x_3 + 2x_4 = 6\\\\\n",
    "      3x_1 - x_2 + 3x_3 - x_4 = 6\n",
    "    \\end{cases}\\,\n",
    "\\end{equation}"
   ]
  },
  {
   "cell_type": "code",
   "execution_count": 1,
   "id": "aafb406a89419f6",
   "metadata": {
    "ExecuteTime": {
     "end_time": "2024-02-01T10:47:24.519790500Z",
     "start_time": "2024-02-01T10:47:24.491958400Z"
    },
    "collapsed": false,
    "jupyter": {
     "outputs_hidden": false
    }
   },
   "outputs": [
    {
     "name": "stdout",
     "output_type": "stream",
     "text": [
      "A = \n",
      "[[ 2 -1  3  2]\n",
      " [ 3  3  3  2]\n",
      " [ 3 -1 -1  2]\n",
      " [ 3 -1  3 -1]]\n",
      "\n",
      "b = \n",
      "[4 6 6 6]\n"
     ]
    }
   ],
   "source": [
    "import numpy as np\n",
    "\n",
    "A = [[2, -1, 3, 2], [3, 3, 3, 2], [3, -1, -1, 2], [3, -1, 3, -1]]\n",
    "A = np.asarray(A)\n",
    "\n",
    "b = [4, 6, 6, 6]\n",
    "b = np.asarray(b)\n",
    "\n",
    "print(\"A = \")\n",
    "print(A)\n",
    "print(\"\\nb = \")\n",
    "print(b)"
   ]
  },
  {
   "cell_type": "markdown",
   "id": "3dfb826f4d3ec135",
   "metadata": {
    "collapsed": false,
    "jupyter": {
     "outputs_hidden": false
    }
   },
   "source": [
    "##### Розв'язок за допомогою формул Крамера:"
   ]
  },
  {
   "cell_type": "code",
   "execution_count": 2,
   "id": "9ad0355b314ca38a",
   "metadata": {
    "ExecuteTime": {
     "end_time": "2024-02-01T10:47:24.531802800Z",
     "start_time": "2024-02-01T10:47:24.509709600Z"
    },
    "collapsed": false,
    "jupyter": {
     "outputs_hidden": false
    }
   },
   "outputs": [
    {
     "name": "stdout",
     "output_type": "stream",
     "text": [
      "[2. 0. 0. 0.]\n"
     ]
    }
   ],
   "source": [
    "det = np.linalg.det(A)\n",
    "n = len(A)\n",
    "\n",
    "kramer_res = np.ndarray(n, dtype=np.float64)\n",
    "for i in range(n):\n",
    "    t = A.copy()\n",
    "    t[:, i] = b\n",
    "    kramer_res[i] = np.linalg.det(t) / det\n",
    "\n",
    "print(kramer_res)"
   ]
  },
  {
   "cell_type": "markdown",
   "id": "deb7a9f74a9933a",
   "metadata": {
    "collapsed": false,
    "jupyter": {
     "outputs_hidden": false
    }
   },
   "source": [
    "##### Перевірка матричним множенням:"
   ]
  },
  {
   "cell_type": "code",
   "execution_count": 3,
   "id": "fde220a816290f8c",
   "metadata": {
    "ExecuteTime": {
     "end_time": "2024-02-01T10:47:24.572366200Z",
     "start_time": "2024-02-01T10:47:24.524257300Z"
    },
    "collapsed": false,
    "jupyter": {
     "outputs_hidden": false
    }
   },
   "outputs": [
    {
     "name": "stdout",
     "output_type": "stream",
     "text": [
      "[4. 6. 6. 6.]\n",
      "Vectors are equal: True\n"
     ]
    }
   ],
   "source": [
    "matmul_test = np.matmul(A, kramer_res)\n",
    "\n",
    "print(matmul_test)\n",
    "print(f\"Vectors are equal: {np.allclose(b, matmul_test)}\")"
   ]
  },
  {
   "cell_type": "markdown",
   "id": "fb11f004bf53b455",
   "metadata": {
    "collapsed": false,
    "jupyter": {
     "outputs_hidden": false
    }
   },
   "source": [
    "##### Перевірка оберненою матрицею:"
   ]
  },
  {
   "cell_type": "code",
   "execution_count": 4,
   "id": "987d15955798bdb3",
   "metadata": {
    "ExecuteTime": {
     "end_time": "2024-02-01T10:47:24.573365500Z",
     "start_time": "2024-02-01T10:47:24.539318500Z"
    },
    "collapsed": false,
    "jupyter": {
     "outputs_hidden": false
    }
   },
   "outputs": [
    {
     "name": "stdout",
     "output_type": "stream",
     "text": [
      "[2.00000000e+00 0.00000000e+00 0.00000000e+00 2.22044605e-16]\n",
      "Vectors are equal: True\n"
     ]
    }
   ],
   "source": [
    "inv_matrix_res = np.matmul(np.linalg.inv(A), b)\n",
    "\n",
    "print(inv_matrix_res)\n",
    "print(f\"Vectors are equal: {np.allclose(kramer_res, inv_matrix_res)}\")"
   ]
  },
  {
   "cell_type": "markdown",
   "id": "51e0a5dcda98462b",
   "metadata": {
    "collapsed": false,
    "jupyter": {
     "outputs_hidden": false
    }
   },
   "source": [
    "##### Перевірка функцією ```numpy.linalg.solve()```:"
   ]
  },
  {
   "cell_type": "code",
   "execution_count": 5,
   "id": "9c5c23e77d850372",
   "metadata": {
    "ExecuteTime": {
     "end_time": "2024-02-01T10:47:24.574366300Z",
     "start_time": "2024-02-01T10:47:24.554832800Z"
    },
    "collapsed": false,
    "jupyter": {
     "outputs_hidden": false
    }
   },
   "outputs": [
    {
     "name": "stdout",
     "output_type": "stream",
     "text": [
      "[ 2.00000000e+00 -4.54182146e-17  4.54182146e-17  6.05576195e-17]\n",
      "Vectors are equal: True\n"
     ]
    }
   ],
   "source": [
    "linalg_solve_res = np.linalg.solve(A, b)\n",
    "\n",
    "print(linalg_solve_res)\n",
    "print(f\"Vectors are equal: {np.allclose(kramer_res, linalg_solve_res)}\")"
   ]
  }
 ],
 "metadata": {
  "kernelspec": {
   "display_name": "Python 3 (ipykernel)",
   "language": "python",
   "name": "python3"
  },
  "language_info": {
   "codemirror_mode": {
    "name": "ipython",
    "version": 3
   },
   "file_extension": ".py",
   "mimetype": "text/x-python",
   "name": "python",
   "nbconvert_exporter": "python",
   "pygments_lexer": "ipython3",
   "version": "3.9.13"
  }
 },
 "nbformat": 4,
 "nbformat_minor": 5
}
