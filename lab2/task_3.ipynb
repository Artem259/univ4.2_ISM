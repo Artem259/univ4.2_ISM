{
 "cells": [
  {
   "cell_type": "markdown",
   "id": "23dd996911916cb5",
   "metadata": {
    "collapsed": false,
    "jupyter": {
     "outputs_hidden": false
    }
   },
   "source": [
    "Обчислити значення матричного виразу:\n",
    "   - з використанням універсальних функцій бібліотеки NumPy;\n",
    "   - за допомогою ітеративних конструкцій (з використанням циклів, спискових включень тощо);\n",
    "   - для обох випадків підрахувати час виконання скрипту та зробити висновок.\n",
    "\n",
    "Порівняти всі рішення за допомогою функції ```numpy.allclose()```.\n",
    "\n",
    "\\begin{split}\n",
    "        &(A-B)A + 3B,\\\\\\\\\n",
    "        де\\; &A = \\begin{pmatrix} 3 & 2 & -5 \\\\ 4 & 2 & 0 \\\\ 1 & 1 & 2 \\end{pmatrix},\\; B = \\begin{pmatrix} -1 & 2 & 4 \\\\ 0 & 3 & 2 \\\\ -1 & -3 & 4 \\end{pmatrix}\n",
    "\\end{split}"
   ]
  },
  {
   "cell_type": "code",
   "execution_count": 1,
   "id": "e1027b90368e3730",
   "metadata": {
    "ExecuteTime": {
     "end_time": "2024-02-01T10:47:31.268734800Z",
     "start_time": "2024-02-01T10:47:31.210736100Z"
    },
    "collapsed": false,
    "jupyter": {
     "outputs_hidden": false
    }
   },
   "outputs": [],
   "source": [
    "import numpy as np\n",
    "import time\n",
    "import operator\n",
    "\n",
    "A = [[3, 2, -5], [4, 2, 0], [1, 1, 2]]\n",
    "B = [[-1, 2, 4], [0, 3, 2], [-1, -3, 4]]"
   ]
  },
  {
   "cell_type": "code",
   "execution_count": 2,
   "id": "422032cba59a8cdf",
   "metadata": {
    "ExecuteTime": {
     "end_time": "2024-02-01T10:47:31.284005100Z",
     "start_time": "2024-02-01T10:47:31.271074500Z"
    },
    "collapsed": false,
    "jupyter": {
     "outputs_hidden": false
    }
   },
   "outputs": [
    {
     "name": "stdout",
     "output_type": "stream",
     "text": [
      "[[  0   5 -26]\n",
      " [  6  13 -18]\n",
      " [ 17   1  -2]]\n"
     ]
    }
   ],
   "source": [
    "start_time = time.perf_counter()\n",
    "\n",
    "np_A = np.asarray(A)\n",
    "np_B = np.asarray(B)\n",
    "numpy_res = np.matmul(np_A - np_B, np_A) + np_B * 3\n",
    "\n",
    "numpy_time = time.perf_counter() - start_time\n",
    "print(numpy_res)"
   ]
  },
  {
   "cell_type": "code",
   "execution_count": 3,
   "id": "8d6c9f179d4afee3",
   "metadata": {
    "ExecuteTime": {
     "end_time": "2024-02-01T10:47:31.308922200Z",
     "start_time": "2024-02-01T10:47:31.284005100Z"
    },
    "collapsed": false,
    "jupyter": {
     "outputs_hidden": false
    }
   },
   "outputs": [
    {
     "name": "stdout",
     "output_type": "stream",
     "text": [
      "[[  0   5 -26]\n",
      " [  6  13 -18]\n",
      " [ 17   1  -2]]\n"
     ]
    }
   ],
   "source": [
    "start_time = time.perf_counter()\n",
    "\n",
    "def matmul(a: list[list[float]], b) -> list[list[float]]:\n",
    "    if isinstance(b, list):\n",
    "        return [[sum(a_i * b_i for a_i, b_i in zip(a_row, b_col)) for b_col in zip(*b)] for a_row in a]\n",
    "    if isinstance(b, (int, float)):\n",
    "        return [[i * b for i in r] for r in a]\n",
    "    raise ValueError()\n",
    "\n",
    "def matsum(a: list[list[float]], b: list[list[float]]) -> list[list[float]]:\n",
    "    return [list(map(operator.add, r_a, r_b)) for r_a, r_b in zip(a, b)]\n",
    "\n",
    "def matsub(a: list[list[float]], b: list[list[float]]) -> list[list[float]]:\n",
    "    return [list(map(operator.sub, r_a, r_b)) for r_a, r_b in zip(a, b)]\n",
    "\n",
    "custom_res = matsum(matmul(matsub(A, B), A), matmul(B, 3))\n",
    "    \n",
    "custom_time = time.perf_counter() - start_time\n",
    "custom_res = np.array(custom_res)\n",
    "print(custom_res)"
   ]
  },
  {
   "cell_type": "code",
   "execution_count": 4,
   "id": "df4ed084626fcb7",
   "metadata": {
    "ExecuteTime": {
     "end_time": "2024-02-01T10:47:31.320527500Z",
     "start_time": "2024-02-01T10:47:31.299930400Z"
    },
    "collapsed": false,
    "jupyter": {
     "outputs_hidden": false
    }
   },
   "outputs": [
    {
     "name": "stdout",
     "output_type": "stream",
     "text": [
      "The results are equal: True\n",
      "Time with NumPy: 0.114 ms.\n",
      "Time without NumPy: 0.235 ms.\n",
      "NumPy is 2.06 times faster.\n"
     ]
    }
   ],
   "source": [
    "print(f\"The results are equal: {np.allclose(numpy_res, custom_res)}\")\n",
    "print(f\"Time with NumPy: {round(numpy_time * 1000, 3)} ms.\")\n",
    "print(f\"Time without NumPy: {round(custom_time * 1000, 3)} ms.\")\n",
    "print(f\"NumPy is {round(custom_time/numpy_time, 3)} times faster.\")"
   ]
  }
 ],
 "metadata": {
  "kernelspec": {
   "display_name": "Python 3 (ipykernel)",
   "language": "python",
   "name": "python3"
  },
  "language_info": {
   "codemirror_mode": {
    "name": "ipython",
    "version": 3
   },
   "file_extension": ".py",
   "mimetype": "text/x-python",
   "name": "python",
   "nbconvert_exporter": "python",
   "pygments_lexer": "ipython3",
   "version": "3.9.13"
  }
 },
 "nbformat": 4,
 "nbformat_minor": 5
}
