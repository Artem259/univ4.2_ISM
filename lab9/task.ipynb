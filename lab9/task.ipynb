{
 "cells": [
  {
   "cell_type": "code",
   "execution_count": 1,
   "id": "initial_id",
   "metadata": {},
   "outputs": [
    {
     "name": "stdout",
     "output_type": "stream",
     "text": [
      "WARNING:tensorflow:From C:\\GAMES and PROGRAMS\\my programs\\univ4.2\\univ4.2_ISM\\venv\\lib\\site-packages\\keras\\src\\losses.py:2976: The name tf.losses.sparse_softmax_cross_entropy is deprecated. Please use tf.compat.v1.losses.sparse_softmax_cross_entropy instead.\n",
      "\n"
     ]
    }
   ],
   "source": [
    "import numpy as np\n",
    "import pandas as pd\n",
    "import tensorflow as tf\n",
    "import os\n",
    "import time"
   ]
  },
  {
   "cell_type": "markdown",
   "id": "6a4e3aef121d31b9",
   "metadata": {
    "collapsed": false,
    "jupyter": {
     "outputs_hidden": false
    }
   },
   "source": [
    "## From Biological to Artificial Neurons"
   ]
  },
  {
   "cell_type": "markdown",
   "id": "1e69cf5a3aa9621d",
   "metadata": {
    "collapsed": false,
    "jupyter": {
     "outputs_hidden": false
    }
   },
   "source": [
    "#### The Perceptron"
   ]
  },
  {
   "cell_type": "code",
   "execution_count": 2,
   "id": "f70bc748c72744c5",
   "metadata": {
    "collapsed": false,
    "jupyter": {
     "outputs_hidden": false
    }
   },
   "outputs": [
    {
     "data": {
      "text/plain": [
       "array([5.1, 3.5, 1.4, 0.2])"
      ]
     },
     "execution_count": 2,
     "metadata": {},
     "output_type": "execute_result"
    }
   ],
   "source": [
    "from sklearn.datasets import load_iris\n",
    "from sklearn.linear_model import Perceptron\n",
    "\n",
    "iris = load_iris()\n",
    "iris.data[0]"
   ]
  },
  {
   "cell_type": "code",
   "execution_count": 3,
   "id": "547b564dd9349fdf",
   "metadata": {
    "collapsed": false,
    "jupyter": {
     "outputs_hidden": false
    }
   },
   "outputs": [
    {
     "data": {
      "text/plain": [
       "array([1])"
      ]
     },
     "execution_count": 3,
     "metadata": {},
     "output_type": "execute_result"
    }
   ],
   "source": [
    "X = iris.data[:, (2, 3)] # petal length, petal width\n",
    "y = (iris.target == 0).astype(np.int32) # Iris setosa?\n",
    "\n",
    "per_clf = Perceptron(random_state=42)\n",
    "per_clf.fit(X, y)\n",
    "\n",
    "y_pred = per_clf.predict([[2, 0.5]])\n",
    "y_pred"
   ]
  },
  {
   "cell_type": "markdown",
   "id": "5b12212405a80e87",
   "metadata": {
    "collapsed": false,
    "jupyter": {
     "outputs_hidden": false
    }
   },
   "source": [
    "## Implementing MLPs with Keras"
   ]
  },
  {
   "cell_type": "markdown",
   "id": "6ccba6578ad447b2",
   "metadata": {
    "collapsed": false,
    "jupyter": {
     "outputs_hidden": false
    }
   },
   "source": [
    "#### Building an Image Classifier Using the Sequential API"
   ]
  },
  {
   "cell_type": "markdown",
   "id": "dd40b35c0605de0b",
   "metadata": {
    "collapsed": false,
    "jupyter": {
     "outputs_hidden": false
    }
   },
   "source": [
    "##### Using Keras to load the dataset"
   ]
  },
  {
   "cell_type": "code",
   "execution_count": 4,
   "id": "b6c9708af20c086d",
   "metadata": {
    "collapsed": false,
    "jupyter": {
     "outputs_hidden": false
    }
   },
   "outputs": [],
   "source": [
    "from tensorflow import keras\n",
    "\n",
    "fashion_mnist = keras.datasets.fashion_mnist\n",
    "(X_train_full, y_train_full), (X_test, y_test) = fashion_mnist.load_data()"
   ]
  },
  {
   "cell_type": "code",
   "execution_count": 5,
   "id": "df55d896bdb8205d",
   "metadata": {
    "collapsed": false,
    "jupyter": {
     "outputs_hidden": false
    }
   },
   "outputs": [
    {
     "data": {
      "text/plain": [
       "(60000, 28, 28)"
      ]
     },
     "execution_count": 5,
     "metadata": {},
     "output_type": "execute_result"
    }
   ],
   "source": [
    "X_train_full.shape"
   ]
  },
  {
   "cell_type": "code",
   "execution_count": 6,
   "id": "999461d96364b08d",
   "metadata": {
    "collapsed": false,
    "jupyter": {
     "outputs_hidden": false
    }
   },
   "outputs": [
    {
     "data": {
      "text/plain": [
       "dtype('uint8')"
      ]
     },
     "execution_count": 6,
     "metadata": {},
     "output_type": "execute_result"
    }
   ],
   "source": [
    "X_train_full.dtype"
   ]
  },
  {
   "cell_type": "code",
   "execution_count": 7,
   "id": "61f11c8fc85d7da9",
   "metadata": {
    "collapsed": false,
    "jupyter": {
     "outputs_hidden": false
    }
   },
   "outputs": [],
   "source": [
    "X_valid, X_train = X_train_full[:5000] / 255., X_train_full[5000:] / 255.\n",
    "y_valid, y_train = y_train_full[:5000], y_train_full[5000:]\n",
    "X_test = X_test / 255."
   ]
  },
  {
   "cell_type": "code",
   "execution_count": 8,
   "id": "7b95607ddb3e37e9",
   "metadata": {
    "collapsed": false,
    "jupyter": {
     "outputs_hidden": false
    }
   },
   "outputs": [
    {
     "data": {
      "text/plain": [
       "array([4, 0, 7, ..., 3, 0, 5], dtype=uint8)"
      ]
     },
     "execution_count": 8,
     "metadata": {},
     "output_type": "execute_result"
    }
   ],
   "source": [
    "y_train"
   ]
  },
  {
   "cell_type": "code",
   "execution_count": 9,
   "id": "b5913c3abb78afd3",
   "metadata": {
    "collapsed": false,
    "jupyter": {
     "outputs_hidden": false
    }
   },
   "outputs": [],
   "source": [
    "class_names = [\"T-shirt/top\", \"Trouser\", \"Pullover\", \"Dress\", \"Coat\", \"Sandal\", \"Shirt\", \"Sneaker\", \"Bag\", \"Ankle boot\"]"
   ]
  },
  {
   "cell_type": "code",
   "execution_count": 10,
   "id": "ae497b507ddf434e",
   "metadata": {
    "collapsed": false,
    "jupyter": {
     "outputs_hidden": false
    }
   },
   "outputs": [
    {
     "data": {
      "image/png": "[encoded data removed]",
      "text/plain": [
       "<Figure size 640x480 with 1 Axes>"
      ]
     },
     "metadata": {},
     "output_type": "display_data"
    },
    {
     "data": {
      "text/plain": [
       "'Coat'"
      ]
     },
     "execution_count": 10,
     "metadata": {},
     "output_type": "execute_result"
    }
   ],
   "source": [
    "from matplotlib import pyplot as plt\n",
    "\n",
    "plt.imshow(X_train[0], cmap=\"binary\")\n",
    "plt.axis('off')\n",
    "plt.show()\n",
    "class_names[y_train[0]]"
   ]
  },
  {
   "cell_type": "markdown",
   "id": "34fae3b6f7ac9783",
   "metadata": {
    "collapsed": false,
    "jupyter": {
     "outputs_hidden": false
    }
   },
   "source": [
    "##### Creating the model using the Sequential API"
   ]
  },
  {
   "cell_type": "code",
   "execution_count": 11,
   "id": "7ce14cb1cbb2e9c6",
   "metadata": {
    "collapsed": false,
    "jupyter": {
     "outputs_hidden": false
    }
   },
   "outputs": [
    {
     "name": "stdout",
     "output_type": "stream",
     "text": [
      "WARNING:tensorflow:From C:\\GAMES and PROGRAMS\\my programs\\univ4.2\\univ4.2_ISM\\venv\\lib\\site-packages\\keras\\src\\backend.py:277: The name tf.reset_default_graph is deprecated. Please use tf.compat.v1.reset_default_graph instead.\n",
      "\n"
     ]
    }
   ],
   "source": [
    "keras.backend.clear_session()\n",
    "np.random.seed(42)\n",
    "tf.random.set_seed(42)"
   ]
  },
  {
   "cell_type": "code",
   "execution_count": 12,
   "id": "68483c36eaeb7fc9",
   "metadata": {
    "collapsed": false,
    "jupyter": {
     "outputs_hidden": false
    }
   },
   "outputs": [],
   "source": [
    "model = keras.models.Sequential()\n",
    "model.add(keras.layers.Flatten(input_shape=[28, 28]))\n",
    "model.add(keras.layers.Dense(300, activation=\"relu\"))\n",
    "model.add(keras.layers.Dense(100, activation=\"relu\"))\n",
    "model.add(keras.layers.Dense(10, activation=\"softmax\"))"
   ]
  },
  {
   "cell_type": "code",
   "execution_count": 13,
   "id": "830c6389024246ce",
   "metadata": {
    "collapsed": false,
    "jupyter": {
     "outputs_hidden": false
    }
   },
   "outputs": [
    {
     "name": "stdout",
     "output_type": "stream",
     "text": [
      "Model: \"sequential\"\n",
      "_________________________________________________________________\n",
      " Layer (type)                Output Shape              Param #   \n",
      "=================================================================\n",
      " flatten (Flatten)           (None, 784)               0         \n",
      "                                                                 \n",
      " dense (Dense)               (None, 300)               235500    \n",
      "                                                                 \n",
      " dense_1 (Dense)             (None, 100)               30100     \n",
      "                                                                 \n",
      " dense_2 (Dense)             (None, 10)                1010      \n",
      "                                                                 \n",
      "=================================================================\n",
      "Total params: 266610 (1.02 MB)\n",
      "Trainable params: 266610 (1.02 MB)\n",
      "Non-trainable params: 0 (0.00 Byte)\n",
      "_________________________________________________________________\n"
     ]
    }
   ],
   "source": [
    "model.summary()"
   ]
  },
  {
   "cell_type": "code",
   "execution_count": 14,
   "id": "7b99b6a34f2696ad",
   "metadata": {
    "collapsed": false,
    "jupyter": {
     "outputs_hidden": false
    }
   },
   "outputs": [
    {
     "data": {
      "text/plain": [
       "[<keras.src.layers.reshaping.flatten.Flatten at 0x28cbfbfefd0>,\n",
       " <keras.src.layers.core.dense.Dense at 0x28cbda45be0>,\n",
       " <keras.src.layers.core.dense.Dense at 0x28cbda45d60>,\n",
       " <keras.src.layers.core.dense.Dense at 0x28cbda1b670>]"
      ]
     },
     "execution_count": 14,
     "metadata": {},
     "output_type": "execute_result"
    }
   ],
   "source": [
    "model.layers"
   ]
  },
  {
   "cell_type": "code",
   "execution_count": 15,
   "id": "5de6abb04a324b4a",
   "metadata": {
    "collapsed": false,
    "jupyter": {
     "outputs_hidden": false
    }
   },
   "outputs": [
    {
     "data": {
      "text/plain": [
       "'dense'"
      ]
     },
     "execution_count": 15,
     "metadata": {},
     "output_type": "execute_result"
    }
   ],
   "source": [
    "hidden1 = model.layers[1]\n",
    "hidden1.name"
   ]
  },
  {
   "cell_type": "code",
   "execution_count": 16,
   "id": "c4f320c97879523c",
   "metadata": {
    "collapsed": false,
    "jupyter": {
     "outputs_hidden": false
    }
   },
   "outputs": [
    {
     "data": {
      "text/plain": [
       "True"
      ]
     },
     "execution_count": 16,
     "metadata": {},
     "output_type": "execute_result"
    }
   ],
   "source": [
    "model.get_layer(\"dense\") is hidden1"
   ]
  },
  {
   "cell_type": "code",
   "execution_count": 17,
   "id": "543c76548241c0f2",
   "metadata": {
    "collapsed": false,
    "jupyter": {
     "outputs_hidden": false
    }
   },
   "outputs": [],
   "source": [
    "weights, biases = hidden1.get_weights()"
   ]
  },
  {
   "cell_type": "code",
   "execution_count": 18,
   "id": "ef689b2d7b0425e9",
   "metadata": {
    "collapsed": false,
    "jupyter": {
     "outputs_hidden": false
    }
   },
   "outputs": [
    {
     "data": {
      "text/plain": [
       "(784, 300)"
      ]
     },
     "execution_count": 18,
     "metadata": {},
     "output_type": "execute_result"
    }
   ],
   "source": [
    "weights.shape"
   ]
  },
  {
   "cell_type": "code",
   "execution_count": 19,
   "id": "dcd06ebb810b82d0",
   "metadata": {
    "collapsed": false,
    "jupyter": {
     "outputs_hidden": false
    }
   },
   "outputs": [
    {
     "data": {
      "text/plain": [
       "(300,)"
      ]
     },
     "execution_count": 19,
     "metadata": {},
     "output_type": "execute_result"
    }
   ],
   "source": [
    "biases.shape"
   ]
  },
  {
   "cell_type": "markdown",
   "id": "9b8bbb0db518e6f5",
   "metadata": {
    "collapsed": false,
    "jupyter": {
     "outputs_hidden": false
    }
   },
   "source": [
    "##### Compiling the model"
   ]
  },
  {
   "cell_type": "code",
   "execution_count": 20,
   "id": "e40494a280b198fb",
   "metadata": {
    "collapsed": false,
    "jupyter": {
     "outputs_hidden": false
    }
   },
   "outputs": [],
   "source": [
    "model.compile(loss=keras.losses.sparse_categorical_crossentropy,\n",
    "              optimizer=keras.optimizers.SGD(learning_rate=0.01),\n",
    "              metrics=[\"accuracy\"])"
   ]
  },
  {
   "cell_type": "markdown",
   "id": "bb90b746afecfa8c",
   "metadata": {
    "collapsed": false,
    "jupyter": {
     "outputs_hidden": false
    }
   },
   "source": [
    "##### Training and evaluating the model"
   ]
  },
  {
   "cell_type": "code",
   "execution_count": 21,
   "id": "ab1638e29f44e5d7",
   "metadata": {
    "collapsed": false,
    "jupyter": {
     "outputs_hidden": false
    }
   },
   "outputs": [
    {
     "name": "stdout",
     "output_type": "stream",
     "text": [
      "Epoch 1/30\n",
      "WARNING:tensorflow:From C:\\GAMES and PROGRAMS\\my programs\\univ4.2\\univ4.2_ISM\\venv\\lib\\site-packages\\keras\\src\\utils\\tf_utils.py:492: The name tf.ragged.RaggedTensorValue is deprecated. Please use tf.compat.v1.ragged.RaggedTensorValue instead.\n",
      "\n",
      "WARNING:tensorflow:From C:\\GAMES and PROGRAMS\\my programs\\univ4.2\\univ4.2_ISM\\venv\\lib\\site-packages\\keras\\src\\engine\\base_layer_utils.py:384: The name tf.executing_eagerly_outside_functions is deprecated. Please use tf.compat.v1.executing_eagerly_outside_functions instead.\n",
      "\n",
      "1719/1719 [==============================] - 2s 1ms/step - loss: 0.7169 - accuracy: 0.7659 - val_loss: 0.5241 - val_accuracy: 0.8220\n",
      "Epoch 2/30\n",
      "1719/1719 [==============================] - 2s 1ms/step - loss: 0.4895 - accuracy: 0.8293 - val_loss: 0.4370 - val_accuracy: 0.8506\n",
      "Epoch 3/30\n",
      "1719/1719 [==============================] - 2s 1ms/step - loss: 0.4429 - accuracy: 0.8445 - val_loss: 0.5312 - val_accuracy: 0.8010\n",
      "Epoch 4/30\n",
      "1719/1719 [==============================] - 2s 1ms/step - loss: 0.4163 - accuracy: 0.8552 - val_loss: 0.3960 - val_accuracy: 0.8660\n",
      "Epoch 5/30\n",
      "1719/1719 [==============================] - 2s 1ms/step - loss: 0.3982 - accuracy: 0.8618 - val_loss: 0.3821 - val_accuracy: 0.8702\n",
      "Epoch 6/30\n",
      "1719/1719 [==============================] - 2s 1ms/step - loss: 0.3803 - accuracy: 0.8661 - val_loss: 0.3795 - val_accuracy: 0.8696\n",
      "Epoch 7/30\n",
      "1719/1719 [==============================] - 2s 1ms/step - loss: 0.3683 - accuracy: 0.8705 - val_loss: 0.3670 - val_accuracy: 0.8738\n",
      "Epoch 8/30\n",
      "1719/1719 [==============================] - 2s 1ms/step - loss: 0.3571 - accuracy: 0.8732 - val_loss: 0.4050 - val_accuracy: 0.8572\n",
      "Epoch 9/30\n",
      "1719/1719 [==============================] - 2s 1ms/step - loss: 0.3470 - accuracy: 0.8772 - val_loss: 0.3592 - val_accuracy: 0.8706\n",
      "Epoch 10/30\n",
      "1719/1719 [==============================] - 2s 1ms/step - loss: 0.3378 - accuracy: 0.8802 - val_loss: 0.3574 - val_accuracy: 0.8726\n",
      "Epoch 11/30\n",
      "1719/1719 [==============================] - 2s 1ms/step - loss: 0.3295 - accuracy: 0.8825 - val_loss: 0.3497 - val_accuracy: 0.8754\n",
      "Epoch 12/30\n",
      "1719/1719 [==============================] - 2s 1ms/step - loss: 0.3204 - accuracy: 0.8850 - val_loss: 0.3394 - val_accuracy: 0.8788\n",
      "Epoch 13/30\n",
      "1719/1719 [==============================] - 2s 1ms/step - loss: 0.3134 - accuracy: 0.8876 - val_loss: 0.3375 - val_accuracy: 0.8802\n",
      "Epoch 14/30\n",
      "1719/1719 [==============================] - 2s 1ms/step - loss: 0.3067 - accuracy: 0.8895 - val_loss: 0.3497 - val_accuracy: 0.8716\n",
      "Epoch 15/30\n",
      "1719/1719 [==============================] - 2s 1ms/step - loss: 0.2989 - accuracy: 0.8920 - val_loss: 0.3308 - val_accuracy: 0.8816\n",
      "Epoch 16/30\n",
      "1719/1719 [==============================] - 2s 1ms/step - loss: 0.2939 - accuracy: 0.8953 - val_loss: 0.3151 - val_accuracy: 0.8840\n",
      "Epoch 17/30\n",
      "1719/1719 [==============================] - 2s 1ms/step - loss: 0.2879 - accuracy: 0.8959 - val_loss: 0.3501 - val_accuracy: 0.8748\n",
      "Epoch 18/30\n",
      "1719/1719 [==============================] - 2s 1ms/step - loss: 0.2812 - accuracy: 0.8986 - val_loss: 0.3182 - val_accuracy: 0.8876\n",
      "Epoch 19/30\n",
      "1719/1719 [==============================] - 2s 1ms/step - loss: 0.2765 - accuracy: 0.9002 - val_loss: 0.3161 - val_accuracy: 0.8848\n",
      "Epoch 20/30\n",
      "1719/1719 [==============================] - 2s 1ms/step - loss: 0.2709 - accuracy: 0.9033 - val_loss: 0.3351 - val_accuracy: 0.8768\n",
      "Epoch 21/30\n",
      "1719/1719 [==============================] - 2s 1ms/step - loss: 0.2657 - accuracy: 0.9049 - val_loss: 0.3088 - val_accuracy: 0.8884\n",
      "Epoch 22/30\n",
      "1719/1719 [==============================] - 2s 1ms/step - loss: 0.2606 - accuracy: 0.9055 - val_loss: 0.3013 - val_accuracy: 0.8926\n",
      "Epoch 23/30\n",
      "1719/1719 [==============================] - 2s 1ms/step - loss: 0.2559 - accuracy: 0.9077 - val_loss: 0.2987 - val_accuracy: 0.8922\n",
      "Epoch 24/30\n",
      "1719/1719 [==============================] - 2s 1ms/step - loss: 0.2517 - accuracy: 0.9093 - val_loss: 0.3085 - val_accuracy: 0.8882\n",
      "Epoch 25/30\n",
      "1719/1719 [==============================] - 2s 1ms/step - loss: 0.2468 - accuracy: 0.9115 - val_loss: 0.2984 - val_accuracy: 0.8932\n",
      "Epoch 26/30\n",
      "1719/1719 [==============================] - 2s 1ms/step - loss: 0.2424 - accuracy: 0.9134 - val_loss: 0.3050 - val_accuracy: 0.8900\n",
      "Epoch 27/30\n",
      "1719/1719 [==============================] - 2s 1ms/step - loss: 0.2389 - accuracy: 0.9142 - val_loss: 0.2998 - val_accuracy: 0.8892\n",
      "Epoch 28/30\n",
      "1719/1719 [==============================] - 2s 1ms/step - loss: 0.2353 - accuracy: 0.9156 - val_loss: 0.3007 - val_accuracy: 0.8910\n",
      "Epoch 29/30\n",
      "1719/1719 [==============================] - 2s 1ms/step - loss: 0.2309 - accuracy: 0.9177 - val_loss: 0.3152 - val_accuracy: 0.8850\n",
      "Epoch 30/30\n",
      "1719/1719 [==============================] - 2s 1ms/step - loss: 0.2270 - accuracy: 0.9188 - val_loss: 0.3073 - val_accuracy: 0.8890\n"
     ]
    }
   ],
   "source": [
    "history = model.fit(X_train, y_train, epochs=30, validation_data=(X_valid, y_valid))"
   ]
  },
  {
   "cell_type": "code",
   "execution_count": 22,
   "id": "fabffeea10649f46",
   "metadata": {
    "collapsed": false,
    "jupyter": {
     "outputs_hidden": false
    }
   },
   "outputs": [
    {
     "data": {
      "text/plain": [
       "{'verbose': 1, 'epochs': 30, 'steps': 1719}"
      ]
     },
     "execution_count": 22,
     "metadata": {},
     "output_type": "execute_result"
    }
   ],
   "source": [
    "history.params"
   ]
  },
  {
   "cell_type": "code",
   "execution_count": 23,
   "id": "51a23506d5108e1",
   "metadata": {
    "collapsed": false,
    "jupyter": {
     "outputs_hidden": false
    }
   },
   "outputs": [
    {
     "data": {
      "text/plain": [
       "30"
      ]
     },
     "execution_count": 23,
     "metadata": {},
     "output_type": "execute_result"
    }
   ],
   "source": [
    "len(history.epoch)"
   ]
  },
  {
   "cell_type": "code",
   "execution_count": 24,
   "id": "74866b1b66c2d3a8",
   "metadata": {
    "collapsed": false,
    "jupyter": {
     "outputs_hidden": false
    }
   },
   "outputs": [
    {
     "data": {
      "text/plain": [
       "dict_keys(['loss', 'accuracy', 'val_loss', 'val_accuracy'])"
      ]
     },
     "execution_count": 24,
     "metadata": {},
     "output_type": "execute_result"
    }
   ],
   "source": [
    "history.history.keys()"
   ]
  },
  {
   "cell_type": "code",
   "execution_count": 25,
   "id": "bc8f465e0085ce6e",
   "metadata": {
    "collapsed": false,
    "jupyter": {
     "outputs_hidden": false
    }
   },
   "outputs": [
    {
     "data": {
      "image/png": "[encoded data removed]",
      "text/plain": [
       "<Figure size 800x500 with 1 Axes>"
      ]
     },
     "metadata": {},
     "output_type": "display_data"
    }
   ],
   "source": [
    "pd.DataFrame(history.history).plot(figsize=(8, 5))\n",
    "plt.grid(True)\n",
    "plt.gca().set_ylim(0, 1) # set the vertical range to [0-1]\n",
    "plt.show()"
   ]
  },
  {
   "cell_type": "code",
   "execution_count": 26,
   "id": "c2ecaf9ba80ba35",
   "metadata": {
    "collapsed": false,
    "jupyter": {
     "outputs_hidden": false
    }
   },
   "outputs": [
    {
     "name": "stdout",
     "output_type": "stream",
     "text": [
      "313/313 [==============================] - 0s 770us/step - loss: 0.3409 - accuracy: 0.8805\n"
     ]
    },
    {
     "data": {
      "text/plain": [
       "[0.34091609716415405, 0.8805000185966492]"
      ]
     },
     "execution_count": 26,
     "metadata": {},
     "output_type": "execute_result"
    }
   ],
   "source": [
    "model.evaluate(X_test, y_test)"
   ]
  },
  {
   "cell_type": "markdown",
   "id": "db2c144831b71a26",
   "metadata": {
    "collapsed": false,
    "jupyter": {
     "outputs_hidden": false
    }
   },
   "source": [
    "##### Using the model to make predictions"
   ]
  },
  {
   "cell_type": "code",
   "execution_count": 27,
   "id": "ba3d8414ecf4d3a9",
   "metadata": {
    "collapsed": false,
    "jupyter": {
     "outputs_hidden": false
    }
   },
   "outputs": [
    {
     "data": {
      "text/plain": [
       "array([[0.  , 0.  , 0.  , 0.  , 0.  , 0.03, 0.  , 0.03, 0.  , 0.94],\n",
       "       [0.  , 0.  , 1.  , 0.  , 0.  , 0.  , 0.  , 0.  , 0.  , 0.  ],\n",
       "       [0.  , 1.  , 0.  , 0.  , 0.  , 0.  , 0.  , 0.  , 0.  , 0.  ]],\n",
       "      dtype=float32)"
      ]
     },
     "execution_count": 27,
     "metadata": {},
     "output_type": "execute_result"
    }
   ],
   "source": [
    "X_new = X_test[:3]\n",
    "y_proba = model.predict(X_new, verbose=0)\n",
    "y_proba.round(2)"
   ]
  },
  {
   "cell_type": "code",
   "execution_count": 28,
   "id": "4abbb7aef9aece9a",
   "metadata": {
    "collapsed": false,
    "jupyter": {
     "outputs_hidden": false
    }
   },
   "outputs": [
    {
     "data": {
      "text/plain": [
       "array([9, 2, 1], dtype=int64)"
      ]
     },
     "execution_count": 28,
     "metadata": {},
     "output_type": "execute_result"
    }
   ],
   "source": [
    "y_pred = np.argmax(model.predict(X_new, verbose=0), axis=-1)\n",
    "y_pred"
   ]
  },
  {
   "cell_type": "code",
   "execution_count": 29,
   "id": "2ef2b995d2ddb902",
   "metadata": {
    "collapsed": false,
    "jupyter": {
     "outputs_hidden": false
    }
   },
   "outputs": [
    {
     "data": {
      "text/plain": [
       "array(['Ankle boot', 'Pullover', 'Trouser'], dtype='<U11')"
      ]
     },
     "execution_count": 29,
     "metadata": {},
     "output_type": "execute_result"
    }
   ],
   "source": [
    "np.array(class_names)[y_pred]"
   ]
  },
  {
   "cell_type": "code",
   "execution_count": 30,
   "id": "4051869ba49eb95",
   "metadata": {
    "collapsed": false,
    "jupyter": {
     "outputs_hidden": false
    }
   },
   "outputs": [
    {
     "data": {
      "text/plain": [
       "array([9, 2, 1], dtype=uint8)"
      ]
     },
     "execution_count": 30,
     "metadata": {},
     "output_type": "execute_result"
    }
   ],
   "source": [
    "y_new = y_test[:3]\n",
    "y_new"
   ]
  },
  {
   "cell_type": "markdown",
   "id": "589dcd4fb1aa62b4",
   "metadata": {
    "collapsed": false,
    "jupyter": {
     "outputs_hidden": false
    }
   },
   "source": [
    "#### Building a Regression MLP Using the Sequential API"
   ]
  },
  {
   "cell_type": "code",
   "execution_count": 31,
   "id": "f155ec360cb4f242",
   "metadata": {
    "collapsed": false,
    "jupyter": {
     "outputs_hidden": false
    }
   },
   "outputs": [],
   "source": [
    "from sklearn.datasets import fetch_california_housing\n",
    "from sklearn.model_selection import train_test_split\n",
    "from sklearn.preprocessing import StandardScaler\n",
    "\n",
    "housing = fetch_california_housing()\n",
    "\n",
    "X_train_full, X_test, y_train_full, y_test = train_test_split(housing.data, housing.target, random_state=42)\n",
    "X_train, X_valid, y_train, y_valid = train_test_split(X_train_full, y_train_full, random_state=42)\n",
    "\n",
    "scaler = StandardScaler()\n",
    "X_train = scaler.fit_transform(X_train)\n",
    "X_valid = scaler.transform(X_valid)\n",
    "X_test = scaler.transform(X_test)"
   ]
  },
  {
   "cell_type": "code",
   "execution_count": 32,
   "id": "937d67c76dd5a93f",
   "metadata": {
    "collapsed": false,
    "jupyter": {
     "outputs_hidden": false
    }
   },
   "outputs": [
    {
     "name": "stdout",
     "output_type": "stream",
     "text": [
      "Epoch 1/20\n",
      "363/363 [==============================] - 1s 996us/step - loss: 2.0518 - val_loss: 1.2730\n",
      "Epoch 2/20\n",
      "363/363 [==============================] - 0s 794us/step - loss: 0.8397 - val_loss: 0.7396\n",
      "Epoch 3/20\n",
      "363/363 [==============================] - 0s 861us/step - loss: 0.7252 - val_loss: 0.6802\n",
      "Epoch 4/20\n",
      "363/363 [==============================] - 0s 770us/step - loss: 0.6795 - val_loss: 0.6348\n",
      "Epoch 5/20\n",
      "363/363 [==============================] - 0s 835us/step - loss: 0.6444 - val_loss: 0.6042\n",
      "Epoch 6/20\n",
      "363/363 [==============================] - 0s 791us/step - loss: 0.6136 - val_loss: 0.5789\n",
      "Epoch 7/20\n",
      "363/363 [==============================] - 0s 776us/step - loss: 0.5874 - val_loss: 0.5654\n",
      "Epoch 8/20\n",
      "363/363 [==============================] - 0s 816us/step - loss: 0.5650 - val_loss: 0.5285\n",
      "Epoch 9/20\n",
      "363/363 [==============================] - 0s 862us/step - loss: 0.5439 - val_loss: 0.5117\n",
      "Epoch 10/20\n",
      "363/363 [==============================] - 0s 863us/step - loss: 0.5255 - val_loss: 0.5104\n",
      "Epoch 11/20\n",
      "363/363 [==============================] - 0s 907us/step - loss: 0.5097 - val_loss: 0.4792\n",
      "Epoch 12/20\n",
      "363/363 [==============================] - 0s 798us/step - loss: 0.4945 - val_loss: 0.4628\n",
      "Epoch 13/20\n",
      "363/363 [==============================] - 0s 809us/step - loss: 0.4819 - val_loss: 0.4498\n",
      "Epoch 14/20\n",
      "363/363 [==============================] - 0s 887us/step - loss: 0.4707 - val_loss: 0.4409\n",
      "Epoch 15/20\n",
      "363/363 [==============================] - 0s 818us/step - loss: 0.4607 - val_loss: 0.4365\n",
      "Epoch 16/20\n",
      "363/363 [==============================] - 0s 832us/step - loss: 0.4522 - val_loss: 0.4265\n",
      "Epoch 17/20\n",
      "363/363 [==============================] - 0s 842us/step - loss: 0.4448 - val_loss: 0.4264\n",
      "Epoch 18/20\n",
      "363/363 [==============================] - 0s 907us/step - loss: 0.4384 - val_loss: 0.4282\n",
      "Epoch 19/20\n",
      "363/363 [==============================] - 0s 852us/step - loss: 0.4325 - val_loss: 0.4150\n",
      "Epoch 20/20\n",
      "363/363 [==============================] - 0s 830us/step - loss: 0.4279 - val_loss: 0.4238\n"
     ]
    }
   ],
   "source": [
    "model = keras.models.Sequential([\n",
    "    keras.layers.Dense(30, activation=\"relu\", input_shape=X_train.shape[1:]),\n",
    "    keras.layers.Dense(1)\n",
    "])\n",
    "model.compile(loss=\"mean_squared_error\", optimizer=keras.optimizers.SGD(learning_rate=1e-3))\n",
    "history = model.fit(X_train, y_train, epochs=20, validation_data=(X_valid, y_valid))"
   ]
  },
  {
   "cell_type": "code",
   "execution_count": 33,
   "id": "882dffcacb829a90",
   "metadata": {
    "collapsed": false,
    "jupyter": {
     "outputs_hidden": false
    }
   },
   "outputs": [
    {
     "data": {
      "image/png": "[encoded data removed]",
      "text/plain": [
       "<Figure size 640x480 with 1 Axes>"
      ]
     },
     "metadata": {},
     "output_type": "display_data"
    }
   ],
   "source": [
    "plt.plot(pd.DataFrame(history.history))\n",
    "plt.grid(True)\n",
    "plt.gca().set_ylim(0, 1)\n",
    "plt.show()"
   ]
  },
  {
   "cell_type": "code",
   "execution_count": 34,
   "id": "b4ce1684c39ddaf2",
   "metadata": {
    "collapsed": false,
    "jupyter": {
     "outputs_hidden": false
    }
   },
   "outputs": [
    {
     "name": "stdout",
     "output_type": "stream",
     "text": [
      "162/162 [==============================] - 0s 651us/step - loss: 0.4172\n"
     ]
    },
    {
     "data": {
      "text/plain": [
       "0.417237788438797"
      ]
     },
     "execution_count": 34,
     "metadata": {},
     "output_type": "execute_result"
    }
   ],
   "source": [
    "model.evaluate(X_test, y_test)"
   ]
  },
  {
   "cell_type": "code",
   "execution_count": 35,
   "id": "4507daff65b29270",
   "metadata": {
    "collapsed": false,
    "jupyter": {
     "outputs_hidden": false
    }
   },
   "outputs": [
    {
     "data": {
      "text/plain": [
       "array([[0.6459989],\n",
       "       [1.7055703],\n",
       "       [3.1828465]], dtype=float32)"
      ]
     },
     "execution_count": 35,
     "metadata": {},
     "output_type": "execute_result"
    }
   ],
   "source": [
    "X_new = X_test[:3]\n",
    "y_pred = model.predict(X_new, verbose=0)\n",
    "y_pred"
   ]
  },
  {
   "cell_type": "code",
   "execution_count": 36,
   "id": "bb0c4c02116fb013",
   "metadata": {
    "collapsed": false,
    "jupyter": {
     "outputs_hidden": false
    }
   },
   "outputs": [
    {
     "data": {
      "text/plain": [
       "array([0.477  , 0.458  , 5.00001])"
      ]
     },
     "execution_count": 36,
     "metadata": {},
     "output_type": "execute_result"
    }
   ],
   "source": [
    "y_new = y_test[:3]\n",
    "y_new"
   ]
  },
  {
   "cell_type": "markdown",
   "id": "a44fdd443314daf",
   "metadata": {
    "collapsed": false,
    "jupyter": {
     "outputs_hidden": false
    }
   },
   "source": [
    "#### Building Complex Models Using the Functional API"
   ]
  },
  {
   "cell_type": "code",
   "execution_count": 37,
   "id": "cec46e47eafd4b0f",
   "metadata": {
    "collapsed": false,
    "jupyter": {
     "outputs_hidden": false
    }
   },
   "outputs": [],
   "source": [
    "input_ = keras.layers.Input(shape=X_train.shape[1:])\n",
    "hidden1 = keras.layers.Dense(30, activation=\"relu\")(input_)\n",
    "hidden2 = keras.layers.Dense(30, activation=\"relu\")(hidden1)\n",
    "concat = keras.layers.concatenate([input_, hidden2])\n",
    "output = keras.layers.Dense(1)(concat)\n",
    "model = keras.models.Model(inputs=[input_], outputs=[output])"
   ]
  },
  {
   "cell_type": "code",
   "execution_count": 38,
   "id": "4e4f3da528581633",
   "metadata": {
    "collapsed": false,
    "jupyter": {
     "outputs_hidden": false
    }
   },
   "outputs": [
    {
     "name": "stdout",
     "output_type": "stream",
     "text": [
      "Model: \"model\"\n",
      "__________________________________________________________________________________________________\n",
      " Layer (type)                Output Shape                 Param #   Connected to                  \n",
      "==================================================================================================\n",
      " input_1 (InputLayer)        [(None, 8)]                  0         []                            \n",
      "                                                                                                  \n",
      " dense_5 (Dense)             (None, 30)                   270       ['input_1[0][0]']             \n",
      "                                                                                                  \n",
      " dense_6 (Dense)             (None, 30)                   930       ['dense_5[0][0]']             \n",
      "                                                                                                  \n",
      " concatenate (Concatenate)   (None, 38)                   0         ['input_1[0][0]',             \n",
      "                                                                     'dense_6[0][0]']             \n",
      "                                                                                                  \n",
      " dense_7 (Dense)             (None, 1)                    39        ['concatenate[0][0]']         \n",
      "                                                                                                  \n",
      "==================================================================================================\n",
      "Total params: 1239 (4.84 KB)\n",
      "Trainable params: 1239 (4.84 KB)\n",
      "Non-trainable params: 0 (0.00 Byte)\n",
      "__________________________________________________________________________________________________\n"
     ]
    }
   ],
   "source": [
    "model.summary()"
   ]
  },
  {
   "cell_type": "code",
   "execution_count": 39,
   "id": "c68bdad084ac1afb",
   "metadata": {
    "collapsed": false,
    "jupyter": {
     "outputs_hidden": false
    }
   },
   "outputs": [],
   "source": [
    "input_A = keras.layers.Input(shape=[5], name=\"wide_input\")\n",
    "input_B = keras.layers.Input(shape=[6], name=\"deep_input\")\n",
    "hidden1 = keras.layers.Dense(30, activation=\"relu\")(input_B)\n",
    "hidden2 = keras.layers.Dense(30, activation=\"relu\")(hidden1)\n",
    "concat = keras.layers.concatenate([input_A, hidden2])\n",
    "output = keras.layers.Dense(1, name=\"output\")(concat)\n",
    "model = keras.models.Model(inputs=[input_A, input_B], outputs=[output])"
   ]
  },
  {
   "cell_type": "code",
   "execution_count": 40,
   "id": "c7c9f34cdf09a11d",
   "metadata": {
    "collapsed": false,
    "jupyter": {
     "outputs_hidden": false
    }
   },
   "outputs": [
    {
     "name": "stdout",
     "output_type": "stream",
     "text": [
      "Model: \"model_1\"\n",
      "__________________________________________________________________________________________________\n",
      " Layer (type)                Output Shape                 Param #   Connected to                  \n",
      "==================================================================================================\n",
      " deep_input (InputLayer)     [(None, 6)]                  0         []                            \n",
      "                                                                                                  \n",
      " dense_8 (Dense)             (None, 30)                   210       ['deep_input[0][0]']          \n",
      "                                                                                                  \n",
      " wide_input (InputLayer)     [(None, 5)]                  0         []                            \n",
      "                                                                                                  \n",
      " dense_9 (Dense)             (None, 30)                   930       ['dense_8[0][0]']             \n",
      "                                                                                                  \n",
      " concatenate_1 (Concatenate  (None, 35)                   0         ['wide_input[0][0]',          \n",
      " )                                                                   'dense_9[0][0]']             \n",
      "                                                                                                  \n",
      " output (Dense)              (None, 1)                    36        ['concatenate_1[0][0]']       \n",
      "                                                                                                  \n",
      "==================================================================================================\n",
      "Total params: 1176 (4.59 KB)\n",
      "Trainable params: 1176 (4.59 KB)\n",
      "Non-trainable params: 0 (0.00 Byte)\n",
      "__________________________________________________________________________________________________\n"
     ]
    }
   ],
   "source": [
    "model.summary()"
   ]
  },
  {
   "cell_type": "code",
   "execution_count": 41,
   "id": "1a5b90320a76d2ba",
   "metadata": {
    "collapsed": false,
    "jupyter": {
     "outputs_hidden": false
    }
   },
   "outputs": [
    {
     "name": "stdout",
     "output_type": "stream",
     "text": [
      "Epoch 1/20\n",
      "363/363 [==============================] - 1s 1ms/step - loss: 2.2381 - val_loss: 1.0829\n",
      "Epoch 2/20\n",
      "363/363 [==============================] - 0s 938us/step - loss: 0.8950 - val_loss: 0.9369\n",
      "Epoch 3/20\n",
      "363/363 [==============================] - 0s 905us/step - loss: 0.7360 - val_loss: 0.7632\n",
      "Epoch 4/20\n",
      "363/363 [==============================] - 0s 879us/step - loss: 0.6576 - val_loss: 0.6438\n",
      "Epoch 5/20\n",
      "363/363 [==============================] - 0s 884us/step - loss: 0.6029 - val_loss: 0.5773\n",
      "Epoch 6/20\n",
      "363/363 [==============================] - 0s 932us/step - loss: 0.5611 - val_loss: 0.5511\n",
      "Epoch 7/20\n",
      "363/363 [==============================] - 0s 959us/step - loss: 0.5287 - val_loss: 0.5340\n",
      "Epoch 8/20\n",
      "363/363 [==============================] - 0s 886us/step - loss: 0.5043 - val_loss: 0.4813\n",
      "Epoch 9/20\n",
      "363/363 [==============================] - 0s 929us/step - loss: 0.4855 - val_loss: 0.4630\n",
      "Epoch 10/20\n",
      "363/363 [==============================] - 0s 882us/step - loss: 0.4715 - val_loss: 0.4616\n",
      "Epoch 11/20\n",
      "363/363 [==============================] - 0s 878us/step - loss: 0.4611 - val_loss: 0.4414\n",
      "Epoch 12/20\n",
      "363/363 [==============================] - 0s 985us/step - loss: 0.4528 - val_loss: 0.4300\n",
      "Epoch 13/20\n",
      "363/363 [==============================] - 0s 885us/step - loss: 0.4461 - val_loss: 0.4231\n",
      "Epoch 14/20\n",
      "363/363 [==============================] - 0s 961us/step - loss: 0.4410 - val_loss: 0.4336\n",
      "Epoch 15/20\n",
      "363/363 [==============================] - 0s 919us/step - loss: 0.4367 - val_loss: 0.4089\n",
      "Epoch 16/20\n",
      "363/363 [==============================] - 0s 869us/step - loss: 0.4335 - val_loss: 0.4164\n",
      "Epoch 17/20\n",
      "363/363 [==============================] - 0s 872us/step - loss: 0.4305 - val_loss: 0.4018\n",
      "Epoch 18/20\n",
      "363/363 [==============================] - 0s 900us/step - loss: 0.4282 - val_loss: 0.3999\n",
      "Epoch 19/20\n",
      "363/363 [==============================] - 0s 873us/step - loss: 0.4260 - val_loss: 0.3987\n",
      "Epoch 20/20\n",
      "363/363 [==============================] - 0s 872us/step - loss: 0.4241 - val_loss: 0.4040\n"
     ]
    }
   ],
   "source": [
    "model.compile(loss=\"mse\", optimizer=keras.optimizers.SGD(learning_rate=1e-3))\n",
    "\n",
    "X_train_A, X_train_B = X_train[:, :5], X_train[:, 2:]\n",
    "X_valid_A, X_valid_B = X_valid[:, :5], X_valid[:, 2:]\n",
    "X_test_A, X_test_B = X_test[:, :5], X_test[:, 2:]\n",
    "X_new_A, X_new_B = X_test_A[:3], X_test_B[:3]\n",
    "\n",
    "model.fit((X_train_A, X_train_B), y_train, epochs=20, validation_data=((X_valid_A, X_valid_B), y_valid));"
   ]
  },
  {
   "cell_type": "code",
   "execution_count": 42,
   "id": "8fd57d74990dea1b",
   "metadata": {
    "collapsed": false,
    "jupyter": {
     "outputs_hidden": false
    }
   },
   "outputs": [
    {
     "name": "stdout",
     "output_type": "stream",
     "text": [
      "162/162 [==============================] - 0s 556us/step - loss: 0.4177\n"
     ]
    },
    {
     "data": {
      "text/plain": [
       "0.41772833466529846"
      ]
     },
     "execution_count": 42,
     "metadata": {},
     "output_type": "execute_result"
    }
   ],
   "source": [
    "model.evaluate((X_test_A, X_test_B), y_test)"
   ]
  },
  {
   "cell_type": "code",
   "execution_count": 43,
   "id": "3735e8379a02c35e",
   "metadata": {
    "collapsed": false,
    "jupyter": {
     "outputs_hidden": false
    }
   },
   "outputs": [
    {
     "data": {
      "text/plain": [
       "array([[0.52209693],\n",
       "       [1.9570346 ],\n",
       "       [3.1206768 ]], dtype=float32)"
      ]
     },
     "execution_count": 43,
     "metadata": {},
     "output_type": "execute_result"
    }
   ],
   "source": [
    "y_pred = model.predict((X_new_A, X_new_B), verbose=0)\n",
    "y_pred"
   ]
  },
  {
   "cell_type": "code",
   "execution_count": 44,
   "id": "6d77d73f2128022c",
   "metadata": {
    "collapsed": false,
    "jupyter": {
     "outputs_hidden": false
    }
   },
   "outputs": [
    {
     "name": "stdout",
     "output_type": "stream",
     "text": [
      "Epoch 1/20\n",
      "363/363 [==============================] - 1s 1ms/step - loss: 2.4040 - main_output_loss: 2.1980 - aux_output_loss: 4.2578 - val_loss: 1.2488 - val_main_output_loss: 0.9968 - val_aux_output_loss: 3.5159\n",
      "Epoch 2/20\n",
      "363/363 [==============================] - 0s 955us/step - loss: 1.0008 - main_output_loss: 0.8240 - aux_output_loss: 2.5921 - val_loss: 1.0382 - val_main_output_loss: 0.7589 - val_aux_output_loss: 3.5526\n",
      "Epoch 3/20\n",
      "363/363 [==============================] - 0s 937us/step - loss: 0.8230 - main_output_loss: 0.6999 - aux_output_loss: 1.9311 - val_loss: 1.1083 - val_main_output_loss: 0.7825 - val_aux_output_loss: 4.0406\n",
      "Epoch 4/20\n",
      "363/363 [==============================] - 0s 976us/step - loss: 0.7502 - main_output_loss: 0.6494 - aux_output_loss: 1.6581 - val_loss: 1.0989 - val_main_output_loss: 0.7237 - val_aux_output_loss: 4.4755\n",
      "Epoch 5/20\n",
      "363/363 [==============================] - 0s 1ms/step - loss: 0.7060 - main_output_loss: 0.6146 - aux_output_loss: 1.5289 - val_loss: 1.0624 - val_main_output_loss: 0.6718 - val_aux_output_loss: 4.5778\n",
      "Epoch 6/20\n",
      "363/363 [==============================] - 0s 922us/step - loss: 0.6729 - main_output_loss: 0.5857 - aux_output_loss: 1.4571 - val_loss: 1.0349 - val_main_output_loss: 0.6540 - val_aux_output_loss: 4.4630\n",
      "Epoch 7/20\n",
      "363/363 [==============================] - 0s 1ms/step - loss: 0.6464 - main_output_loss: 0.5619 - aux_output_loss: 1.4066 - val_loss: 1.0148 - val_main_output_loss: 0.6499 - val_aux_output_loss: 4.2989\n",
      "Epoch 8/20\n",
      "363/363 [==============================] - 0s 1ms/step - loss: 0.6242 - main_output_loss: 0.5419 - aux_output_loss: 1.3646 - val_loss: 0.9538 - val_main_output_loss: 0.6053 - val_aux_output_loss: 4.0895\n",
      "Epoch 9/20\n",
      "363/363 [==============================] - 0s 913us/step - loss: 0.6041 - main_output_loss: 0.5234 - aux_output_loss: 1.3307 - val_loss: 0.9030 - val_main_output_loss: 0.5766 - val_aux_output_loss: 3.8400\n",
      "Epoch 10/20\n",
      "363/363 [==============================] - 0s 966us/step - loss: 0.5867 - main_output_loss: 0.5077 - aux_output_loss: 1.2983 - val_loss: 0.8618 - val_main_output_loss: 0.5612 - val_aux_output_loss: 3.5669\n",
      "Epoch 11/20\n",
      "363/363 [==============================] - 0s 977us/step - loss: 0.5719 - main_output_loss: 0.4944 - aux_output_loss: 1.2687 - val_loss: 0.7748 - val_main_output_loss: 0.4907 - val_aux_output_loss: 3.3316\n",
      "Epoch 12/20\n",
      "363/363 [==============================] - 0s 973us/step - loss: 0.5585 - main_output_loss: 0.4827 - aux_output_loss: 1.2408 - val_loss: 0.7421 - val_main_output_loss: 0.4823 - val_aux_output_loss: 3.0801\n",
      "Epoch 13/20\n",
      "363/363 [==============================] - 0s 940us/step - loss: 0.5470 - main_output_loss: 0.4730 - aux_output_loss: 1.2134 - val_loss: 0.6975 - val_main_output_loss: 0.4554 - val_aux_output_loss: 2.8766\n",
      "Epoch 14/20\n",
      "363/363 [==============================] - 0s 940us/step - loss: 0.5373 - main_output_loss: 0.4650 - aux_output_loss: 1.1876 - val_loss: 0.6629 - val_main_output_loss: 0.4401 - val_aux_output_loss: 2.6686\n",
      "Epoch 15/20\n",
      "363/363 [==============================] - 0s 898us/step - loss: 0.5287 - main_output_loss: 0.4582 - aux_output_loss: 1.1627 - val_loss: 0.6367 - val_main_output_loss: 0.4299 - val_aux_output_loss: 2.4986\n",
      "Epoch 16/20\n",
      "363/363 [==============================] - 0s 915us/step - loss: 0.5213 - main_output_loss: 0.4526 - aux_output_loss: 1.1394 - val_loss: 0.6114 - val_main_output_loss: 0.4213 - val_aux_output_loss: 2.3230\n",
      "Epoch 17/20\n",
      "363/363 [==============================] - 0s 922us/step - loss: 0.5149 - main_output_loss: 0.4481 - aux_output_loss: 1.1167 - val_loss: 0.5914 - val_main_output_loss: 0.4156 - val_aux_output_loss: 2.1737\n",
      "Epoch 18/20\n",
      "363/363 [==============================] - 0s 931us/step - loss: 0.5093 - main_output_loss: 0.4442 - aux_output_loss: 1.0950 - val_loss: 0.5729 - val_main_output_loss: 0.4117 - val_aux_output_loss: 2.0234\n",
      "Epoch 19/20\n",
      "363/363 [==============================] - 0s 1000us/step - loss: 0.5040 - main_output_loss: 0.4406 - aux_output_loss: 1.0745 - val_loss: 0.5568 - val_main_output_loss: 0.4100 - val_aux_output_loss: 1.8784\n",
      "Epoch 20/20\n",
      "363/363 [==============================] - 0s 919us/step - loss: 0.4997 - main_output_loss: 0.4380 - aux_output_loss: 1.0545 - val_loss: 0.5531 - val_main_output_loss: 0.4144 - val_aux_output_loss: 1.8012\n"
     ]
    }
   ],
   "source": [
    "input_A = keras.layers.Input(shape=[5], name=\"wide_input\")\n",
    "input_B = keras.layers.Input(shape=[6], name=\"deep_input\")\n",
    "hidden1 = keras.layers.Dense(30, activation=\"relu\")(input_B)\n",
    "hidden2 = keras.layers.Dense(30, activation=\"relu\")(hidden1)\n",
    "concat = keras.layers.concatenate([input_A, hidden2])\n",
    "output = keras.layers.Dense(1, name=\"main_output\")(concat)\n",
    "aux_output = keras.layers.Dense(1, name=\"aux_output\")(hidden2)\n",
    "model = keras.models.Model(inputs=[input_A, input_B], outputs=[output, aux_output])\n",
    "\n",
    "model.compile(loss=[\"mse\", \"mse\"], loss_weights=[0.9, 0.1], optimizer=keras.optimizers.SGD(learning_rate=1e-3))\n",
    "model.fit([X_train_A, X_train_B], [y_train, y_train], epochs=20, \n",
    "          validation_data=([X_valid_A, X_valid_B], [y_valid, y_valid]));"
   ]
  },
  {
   "cell_type": "code",
   "execution_count": 45,
   "id": "6b6eef4c61029c02",
   "metadata": {
    "collapsed": false,
    "jupyter": {
     "outputs_hidden": false
    }
   },
   "outputs": [
    {
     "name": "stdout",
     "output_type": "stream",
     "text": [
      "162/162 [==============================] - 0s 588us/step - loss: 0.4913 - main_output_loss: 0.4314 - aux_output_loss: 1.0302\n"
     ]
    },
    {
     "data": {
      "text/plain": [
       "[0.4912743866443634, 0.4313882887363434, 1.030248999595642]"
      ]
     },
     "execution_count": 45,
     "metadata": {},
     "output_type": "execute_result"
    }
   ],
   "source": [
    "model.evaluate([X_test_A, X_test_B], [y_test, y_test]) # total_loss, main_loss, aux_loss"
   ]
  },
  {
   "cell_type": "code",
   "execution_count": 46,
   "id": "d208b808681faae1",
   "metadata": {
    "collapsed": false,
    "jupyter": {
     "outputs_hidden": false
    }
   },
   "outputs": [
    {
     "data": {
      "text/plain": [
       "(array([[0.35793656],\n",
       "        [1.8911308 ],\n",
       "        [3.26673   ]], dtype=float32),\n",
       " array([[1.0389884],\n",
       "        [1.7423037],\n",
       "        [2.1704102]], dtype=float32))"
      ]
     },
     "execution_count": 46,
     "metadata": {},
     "output_type": "execute_result"
    }
   ],
   "source": [
    "y_pred_main, y_pred_aux = model.predict((X_new_A, X_new_B), verbose=0)\n",
    "y_pred_main, y_pred_aux"
   ]
  },
  {
   "cell_type": "markdown",
   "id": "2fc0a47ddc167d49",
   "metadata": {
    "collapsed": false,
    "jupyter": {
     "outputs_hidden": false
    }
   },
   "source": [
    "#### Using the Subclassing API to Build Dynamic Models"
   ]
  },
  {
   "cell_type": "code",
   "execution_count": 47,
   "id": "4c38574b47f7dd1f",
   "metadata": {
    "collapsed": false,
    "jupyter": {
     "outputs_hidden": false
    }
   },
   "outputs": [],
   "source": [
    "class WideAndDeepModel(keras.models.Model):\n",
    "    def __init__(self, units=30, activation=\"relu\", **kwargs):\n",
    "        super().__init__(**kwargs)\n",
    "        self.hidden1 = keras.layers.Dense(units, activation=activation)\n",
    "        self.hidden2 = keras.layers.Dense(units, activation=activation)\n",
    "        self.main_output = keras.layers.Dense(1)\n",
    "        self.aux_output = keras.layers.Dense(1)\n",
    "    \n",
    "    def call(self, inputs, training=None, mask=None):\n",
    "        input_A, input_B = inputs\n",
    "        hidden1 = self.hidden1(input_B)\n",
    "        hidden2 = self.hidden2(hidden1)\n",
    "        concat = keras.layers.concatenate([input_A, hidden2])\n",
    "        main_output = self.main_output(concat)\n",
    "        aux_output = self.aux_output(hidden2)\n",
    "        return main_output, aux_output\n",
    "\n",
    "model = WideAndDeepModel(30, activation=\"relu\")"
   ]
  },
  {
   "cell_type": "code",
   "execution_count": 48,
   "id": "50ce91acb9ce900",
   "metadata": {
    "collapsed": false,
    "jupyter": {
     "outputs_hidden": false
    }
   },
   "outputs": [
    {
     "name": "stdout",
     "output_type": "stream",
     "text": [
      "Epoch 1/20\n",
      "363/363 [==============================] - 1s 1ms/step - loss: 2.3706 - output_1_loss: 2.2425 - output_2_loss: 3.5238 - val_loss: 1.6439 - val_output_1_loss: 1.3367 - val_output_2_loss: 4.4090\n",
      "Epoch 2/20\n",
      "363/363 [==============================] - 0s 921us/step - loss: 0.9904 - output_1_loss: 0.8420 - output_2_loss: 2.3264 - val_loss: 1.0049 - val_output_1_loss: 0.7618 - val_output_2_loss: 3.1926\n",
      "Epoch 3/20\n",
      "363/363 [==============================] - 0s 946us/step - loss: 0.7822 - output_1_loss: 0.6662 - output_2_loss: 1.8258 - val_loss: 0.7985 - val_output_1_loss: 0.6155 - val_output_2_loss: 2.4453\n",
      "Epoch 4/20\n",
      "363/363 [==============================] - 0s 913us/step - loss: 0.6982 - output_1_loss: 0.6038 - output_2_loss: 1.5478 - val_loss: 0.7151 - val_output_1_loss: 0.5730 - val_output_2_loss: 1.9940\n",
      "Epoch 5/20\n",
      "363/363 [==============================] - 0s 912us/step - loss: 0.6502 - output_1_loss: 0.5695 - output_2_loss: 1.3760 - val_loss: 0.6620 - val_output_1_loss: 0.5424 - val_output_2_loss: 1.7383\n",
      "Epoch 6/20\n",
      "363/363 [==============================] - 0s 963us/step - loss: 0.6180 - output_1_loss: 0.5457 - output_2_loss: 1.2685 - val_loss: 0.6263 - val_output_1_loss: 0.5314 - val_output_2_loss: 1.4809\n",
      "Epoch 7/20\n",
      "363/363 [==============================] - 0s 983us/step - loss: 0.5928 - output_1_loss: 0.5264 - output_2_loss: 1.1909 - val_loss: 0.5905 - val_output_1_loss: 0.5084 - val_output_2_loss: 1.3293\n",
      "Epoch 8/20\n",
      "363/363 [==============================] - 0s 959us/step - loss: 0.5737 - output_1_loss: 0.5115 - output_2_loss: 1.1340 - val_loss: 0.5620 - val_output_1_loss: 0.4874 - val_output_2_loss: 1.2333\n",
      "Epoch 9/20\n",
      "363/363 [==============================] - 0s 952us/step - loss: 0.5572 - output_1_loss: 0.4981 - output_2_loss: 1.0897 - val_loss: 0.5424 - val_output_1_loss: 0.4755 - val_output_2_loss: 1.1445\n",
      "Epoch 10/20\n",
      "363/363 [==============================] - 0s 965us/step - loss: 0.5437 - output_1_loss: 0.4872 - output_2_loss: 1.0526 - val_loss: 0.5233 - val_output_1_loss: 0.4615 - val_output_2_loss: 1.0797\n",
      "Epoch 11/20\n",
      "363/363 [==============================] - 0s 895us/step - loss: 0.5324 - output_1_loss: 0.4783 - output_2_loss: 1.0197 - val_loss: 0.5087 - val_output_1_loss: 0.4489 - val_output_2_loss: 1.0472\n",
      "Epoch 12/20\n",
      "363/363 [==============================] - 0s 914us/step - loss: 0.5226 - output_1_loss: 0.4704 - output_2_loss: 0.9925 - val_loss: 0.4969 - val_output_1_loss: 0.4406 - val_output_2_loss: 1.0033\n",
      "Epoch 13/20\n",
      "363/363 [==============================] - 0s 980us/step - loss: 0.5139 - output_1_loss: 0.4635 - output_2_loss: 0.9670 - val_loss: 0.4896 - val_output_1_loss: 0.4361 - val_output_2_loss: 0.9713\n",
      "Epoch 14/20\n",
      "363/363 [==============================] - 0s 910us/step - loss: 0.5063 - output_1_loss: 0.4578 - output_2_loss: 0.9435 - val_loss: 0.4822 - val_output_1_loss: 0.4311 - val_output_2_loss: 0.9428\n",
      "Epoch 15/20\n",
      "363/363 [==============================] - 0s 913us/step - loss: 0.4997 - output_1_loss: 0.4527 - output_2_loss: 0.9225 - val_loss: 0.4766 - val_output_1_loss: 0.4274 - val_output_2_loss: 0.9200\n",
      "Epoch 16/20\n",
      "363/363 [==============================] - 0s 978us/step - loss: 0.4939 - output_1_loss: 0.4484 - output_2_loss: 0.9037 - val_loss: 0.4705 - val_output_1_loss: 0.4233 - val_output_2_loss: 0.8953\n",
      "Epoch 17/20\n",
      "363/363 [==============================] - 0s 922us/step - loss: 0.4888 - output_1_loss: 0.4447 - output_2_loss: 0.8862 - val_loss: 0.4688 - val_output_1_loss: 0.4235 - val_output_2_loss: 0.8768\n",
      "Epoch 18/20\n",
      "363/363 [==============================] - 0s 931us/step - loss: 0.4841 - output_1_loss: 0.4413 - output_2_loss: 0.8692 - val_loss: 0.4714 - val_output_1_loss: 0.4282 - val_output_2_loss: 0.8607\n",
      "Epoch 19/20\n",
      "363/363 [==============================] - 0s 896us/step - loss: 0.4794 - output_1_loss: 0.4378 - output_2_loss: 0.8539 - val_loss: 0.4698 - val_output_1_loss: 0.4284 - val_output_2_loss: 0.8426\n",
      "Epoch 20/20\n",
      "363/363 [==============================] - 0s 944us/step - loss: 0.4759 - output_1_loss: 0.4354 - output_2_loss: 0.8399 - val_loss: 0.4860 - val_output_1_loss: 0.4480 - val_output_2_loss: 0.8281\n"
     ]
    }
   ],
   "source": [
    "model.compile(loss=\"mse\", loss_weights=[0.9, 0.1], optimizer=keras.optimizers.SGD(learning_rate=1e-3))\n",
    "model.fit((X_train_A, X_train_B), (y_train, y_train), epochs=20, \n",
    "          validation_data=((X_valid_A, X_valid_B), (y_valid, y_valid)));"
   ]
  },
  {
   "cell_type": "code",
   "execution_count": 49,
   "id": "52226e9cb4f2a7a4",
   "metadata": {
    "collapsed": false,
    "jupyter": {
     "outputs_hidden": false
    }
   },
   "outputs": [
    {
     "name": "stdout",
     "output_type": "stream",
     "text": [
      "162/162 [==============================] - 0s 603us/step - loss: 0.4624 - output_1_loss: 0.4241 - output_2_loss: 0.8074\n"
     ]
    },
    {
     "data": {
      "text/plain": [
       "[0.462417334318161, 0.4240851402282715, 0.8074069023132324]"
      ]
     },
     "execution_count": 49,
     "metadata": {},
     "output_type": "execute_result"
    }
   ],
   "source": [
    "model.evaluate((X_test_A, X_test_B), (y_test, y_test)) # total_loss, main_loss, aux_loss"
   ]
  },
  {
   "cell_type": "code",
   "execution_count": 50,
   "id": "2055189e9869a5df",
   "metadata": {
    "collapsed": false,
    "jupyter": {
     "outputs_hidden": false
    }
   },
   "outputs": [
    {
     "name": "stdout",
     "output_type": "stream",
     "text": [
      "WARNING:tensorflow:5 out of the last 6 calls to <function Model.make_predict_function.<locals>.predict_function at 0x0000028CA424A790> triggered tf.function retracing. Tracing is expensive and the excessive number of tracings could be due to (1) creating @tf.function repeatedly in a loop, (2) passing tensors with different shapes, (3) passing Python objects instead of tensors. For (1), please define your @tf.function outside of the loop. For (2), @tf.function has reduce_retracing=True option that can avoid unnecessary retracing. For (3), please refer to https://www.tensorflow.org/guide/function#controlling_retracing and https://www.tensorflow.org/api_docs/python/tf/function for  more details.\n"
     ]
    },
    {
     "data": {
      "text/plain": [
       "(array([[0.25463417],\n",
       "        [1.9682213 ],\n",
       "        [3.0876048 ]], dtype=float32),\n",
       " array([[0.92948943],\n",
       "        [2.1783454 ],\n",
       "        [2.5824454 ]], dtype=float32))"
      ]
     },
     "execution_count": 50,
     "metadata": {},
     "output_type": "execute_result"
    }
   ],
   "source": [
    "y_pred_main, y_pred_aux = model.predict((X_new_A, X_new_B), verbose=0)\n",
    "y_pred_main, y_pred_aux"
   ]
  },
  {
   "cell_type": "markdown",
   "id": "593e0d013b1fccb5",
   "metadata": {
    "collapsed": false,
    "jupyter": {
     "outputs_hidden": false
    }
   },
   "source": [
    "#### Saving and Restoring a Model"
   ]
  },
  {
   "cell_type": "code",
   "execution_count": 51,
   "id": "5a510ec71d345f73",
   "metadata": {
    "collapsed": false,
    "jupyter": {
     "outputs_hidden": false
    }
   },
   "outputs": [],
   "source": [
    "model = keras.models.Sequential([\n",
    "    keras.layers.Dense(30, activation=\"relu\", input_shape=[8]),\n",
    "    keras.layers.Dense(30, activation=\"relu\"),\n",
    "    keras.layers.Dense(1)\n",
    "])"
   ]
  },
  {
   "cell_type": "code",
   "execution_count": 52,
   "id": "cbb7ae22f3c42466",
   "metadata": {
    "collapsed": false,
    "jupyter": {
     "outputs_hidden": false
    }
   },
   "outputs": [
    {
     "name": "stdout",
     "output_type": "stream",
     "text": [
      "Epoch 1/10\n",
      "363/363 [==============================] - 1s 977us/step - loss: 1.7876 - val_loss: 1.2119\n",
      "Epoch 2/10\n",
      "363/363 [==============================] - 0s 853us/step - loss: 0.7375 - val_loss: 0.6749\n",
      "Epoch 3/10\n",
      "363/363 [==============================] - 0s 831us/step - loss: 0.6652 - val_loss: 0.6116\n",
      "Epoch 4/10\n",
      "363/363 [==============================] - 0s 845us/step - loss: 0.6141 - val_loss: 0.6157\n",
      "Epoch 5/10\n",
      "363/363 [==============================] - 0s 830us/step - loss: 0.5736 - val_loss: 0.5358\n",
      "Epoch 6/10\n",
      "363/363 [==============================] - 0s 882us/step - loss: 0.5377 - val_loss: 0.5218\n",
      "Epoch 7/10\n",
      "363/363 [==============================] - 0s 831us/step - loss: 0.5096 - val_loss: 0.4748\n",
      "Epoch 8/10\n",
      "363/363 [==============================] - 0s 895us/step - loss: 0.4862 - val_loss: 0.4573\n",
      "Epoch 9/10\n",
      "363/363 [==============================] - 0s 814us/step - loss: 0.4677 - val_loss: 0.4437\n",
      "Epoch 10/10\n",
      "363/363 [==============================] - 0s 847us/step - loss: 0.4531 - val_loss: 0.4306\n"
     ]
    }
   ],
   "source": [
    "model.compile(loss=\"mse\", optimizer=keras.optimizers.SGD(learning_rate=1e-3))\n",
    "model.fit(X_train, y_train, epochs=10, validation_data=(X_valid, y_valid));"
   ]
  },
  {
   "cell_type": "code",
   "execution_count": 53,
   "id": "e5e7f8d86ef5e51b",
   "metadata": {
    "collapsed": false,
    "jupyter": {
     "outputs_hidden": false
    }
   },
   "outputs": [
    {
     "name": "stdout",
     "output_type": "stream",
     "text": [
      "162/162 [==============================] - 0s 572us/step - loss: 0.4426\n"
     ]
    },
    {
     "data": {
      "text/plain": [
       "0.4425773620605469"
      ]
     },
     "execution_count": 53,
     "metadata": {},
     "output_type": "execute_result"
    }
   ],
   "source": [
    "model.evaluate(X_test, y_test)"
   ]
  },
  {
   "cell_type": "code",
   "execution_count": 54,
   "id": "3e9b8001-2471-4168-8759-b2ac8f7b2f55",
   "metadata": {},
   "outputs": [
    {
     "name": "stdout",
     "output_type": "stream",
     "text": [
      "WARNING:tensorflow:6 out of the last 7 calls to <function Model.make_predict_function.<locals>.predict_function at 0x0000028CA434D310> triggered tf.function retracing. Tracing is expensive and the excessive number of tracings could be due to (1) creating @tf.function repeatedly in a loop, (2) passing tensors with different shapes, (3) passing Python objects instead of tensors. For (1), please define your @tf.function outside of the loop. For (2), @tf.function has reduce_retracing=True option that can avoid unnecessary retracing. For (3), please refer to https://www.tensorflow.org/guide/function#controlling_retracing and https://www.tensorflow.org/api_docs/python/tf/function for  more details.\n",
      "1/1 [==============================] - 0s 55ms/step\n"
     ]
    },
    {
     "data": {
      "text/plain": [
       "array([[0.69966906],\n",
       "       [1.4744551 ],\n",
       "       [3.2366562 ]], dtype=float32)"
      ]
     },
     "execution_count": 54,
     "metadata": {},
     "output_type": "execute_result"
    }
   ],
   "source": [
    "model.predict(X_new)"
   ]
  },
  {
   "cell_type": "code",
   "execution_count": 55,
   "id": "603dcf5011760dc8",
   "metadata": {
    "collapsed": false,
    "jupyter": {
     "outputs_hidden": false
    }
   },
   "outputs": [],
   "source": [
    "model.save(\"temp_model.keras\")\n",
    "model = keras.models.load_model(\"temp_model.keras\")"
   ]
  },
  {
   "cell_type": "code",
   "execution_count": 56,
   "id": "a2aa5ab4cbe9e223",
   "metadata": {
    "collapsed": false,
    "jupyter": {
     "outputs_hidden": false
    }
   },
   "outputs": [
    {
     "name": "stdout",
     "output_type": "stream",
     "text": [
      "162/162 [==============================] - 0s 544us/step - loss: 0.4426\n"
     ]
    },
    {
     "data": {
      "text/plain": [
       "0.4425773620605469"
      ]
     },
     "execution_count": 56,
     "metadata": {},
     "output_type": "execute_result"
    }
   ],
   "source": [
    "model.evaluate(X_test, y_test)"
   ]
  },
  {
   "cell_type": "code",
   "execution_count": 57,
   "id": "a681ef195beb8b36",
   "metadata": {
    "collapsed": false,
    "jupyter": {
     "outputs_hidden": false
    }
   },
   "outputs": [
    {
     "name": "stdout",
     "output_type": "stream",
     "text": [
      "1/1 [==============================] - 0s 35ms/step\n"
     ]
    },
    {
     "data": {
      "text/plain": [
       "array([[0.69966906],\n",
       "       [1.4744551 ],\n",
       "       [3.2366562 ]], dtype=float32)"
      ]
     },
     "execution_count": 57,
     "metadata": {},
     "output_type": "execute_result"
    }
   ],
   "source": [
    "model.predict(X_new)"
   ]
  },
  {
   "cell_type": "markdown",
   "id": "4d8e61b0a6bab8d5",
   "metadata": {
    "collapsed": false,
    "jupyter": {
     "outputs_hidden": false
    }
   },
   "source": [
    "#### Using Callbacks"
   ]
  },
  {
   "cell_type": "code",
   "execution_count": 58,
   "id": "6ffccc1347aed08f",
   "metadata": {
    "collapsed": false,
    "jupyter": {
     "outputs_hidden": false
    }
   },
   "outputs": [],
   "source": [
    "model = keras.models.Sequential([\n",
    "    keras.layers.Dense(30, activation=\"relu\", input_shape=[8]),\n",
    "    keras.layers.Dense(30, activation=\"relu\"),\n",
    "    keras.layers.Dense(1)\n",
    "])"
   ]
  },
  {
   "cell_type": "code",
   "execution_count": 59,
   "id": "96b113c4768df852",
   "metadata": {
    "collapsed": false,
    "jupyter": {
     "outputs_hidden": false
    }
   },
   "outputs": [
    {
     "name": "stdout",
     "output_type": "stream",
     "text": [
      "Epoch 1/10\n",
      "363/363 [==============================] - 1s 998us/step - loss: 2.5315 - val_loss: 2.8110\n",
      "Epoch 2/10\n",
      "363/363 [==============================] - 0s 882us/step - loss: 0.8989 - val_loss: 1.1251\n",
      "Epoch 3/10\n",
      "363/363 [==============================] - 0s 854us/step - loss: 0.6637 - val_loss: 0.6180\n",
      "Epoch 4/10\n",
      "363/363 [==============================] - 0s 839us/step - loss: 0.5967 - val_loss: 0.5594\n",
      "Epoch 5/10\n",
      "363/363 [==============================] - 0s 867us/step - loss: 0.5589 - val_loss: 0.5286\n",
      "Epoch 6/10\n",
      "363/363 [==============================] - 0s 864us/step - loss: 0.5280 - val_loss: 0.5042\n",
      "Epoch 7/10\n",
      "363/363 [==============================] - 0s 871us/step - loss: 0.5031 - val_loss: 0.4857\n",
      "Epoch 8/10\n",
      "363/363 [==============================] - 0s 956us/step - loss: 0.4823 - val_loss: 0.4583\n",
      "Epoch 9/10\n",
      "363/363 [==============================] - 0s 896us/step - loss: 0.4655 - val_loss: 0.4386\n",
      "Epoch 10/10\n",
      "363/363 [==============================] - 0s 839us/step - loss: 0.4522 - val_loss: 0.4249\n"
     ]
    }
   ],
   "source": [
    "checkpoint_cb = keras.callbacks.ModelCheckpoint(\"temp_model.keras\", save_best_only=True)\n",
    "\n",
    "model.compile(loss=\"mse\", optimizer=keras.optimizers.SGD(learning_rate=1e-3))\n",
    "model.fit(X_train, y_train, epochs=10, validation_data=(X_valid, y_valid), \n",
    "          callbacks=[checkpoint_cb]);"
   ]
  },
  {
   "cell_type": "code",
   "execution_count": 60,
   "id": "1d2223020fe67b9c",
   "metadata": {
    "collapsed": false,
    "jupyter": {
     "outputs_hidden": false
    }
   },
   "outputs": [],
   "source": [
    "model = keras.models.load_model(\"temp_model.keras\") # rollback to best model"
   ]
  },
  {
   "cell_type": "code",
   "execution_count": 61,
   "id": "c724d6ca52decf33",
   "metadata": {
    "collapsed": false,
    "jupyter": {
     "outputs_hidden": false
    }
   },
   "outputs": [
    {
     "name": "stdout",
     "output_type": "stream",
     "text": [
      "121/121 [==============================] - 0s 584us/step - loss: 0.4249\n"
     ]
    },
    {
     "data": {
      "text/plain": [
       "0.42491307854652405"
      ]
     },
     "execution_count": 61,
     "metadata": {},
     "output_type": "execute_result"
    }
   ],
   "source": [
    "model.evaluate(X_valid, y_valid)"
   ]
  },
  {
   "cell_type": "code",
   "execution_count": 62,
   "id": "8a4d0753295a8485",
   "metadata": {
    "collapsed": false,
    "jupyter": {
     "outputs_hidden": false
    }
   },
   "outputs": [
    {
     "name": "stdout",
     "output_type": "stream",
     "text": [
      "Epoch 1/100\n",
      "363/363 [==============================] - 1s 1ms/step - loss: 0.4417 - val_loss: 0.4163\n",
      "Epoch 2/100\n",
      "363/363 [==============================] - 0s 860us/step - loss: 0.4334 - val_loss: 0.4154\n",
      "Epoch 3/100\n",
      "363/363 [==============================] - 0s 884us/step - loss: 0.4266 - val_loss: 0.4105\n",
      "Epoch 4/100\n",
      "363/363 [==============================] - 0s 838us/step - loss: 0.4207 - val_loss: 0.4197\n",
      "Epoch 5/100\n",
      "363/363 [==============================] - 0s 842us/step - loss: 0.4160 - val_loss: 0.4140\n",
      "Epoch 6/100\n",
      "363/363 [==============================] - 0s 856us/step - loss: 0.4117 - val_loss: 0.4237\n",
      "Epoch 7/100\n",
      "363/363 [==============================] - 0s 862us/step - loss: 0.4081 - val_loss: 0.4202\n",
      "Epoch 8/100\n",
      "363/363 [==============================] - 0s 838us/step - loss: 0.4048 - val_loss: 0.4183\n",
      "Epoch 9/100\n",
      "363/363 [==============================] - 0s 857us/step - loss: 0.4017 - val_loss: 0.4251\n",
      "Epoch 10/100\n",
      "363/363 [==============================] - 0s 863us/step - loss: 0.3989 - val_loss: 0.4275\n",
      "Epoch 11/100\n",
      "363/363 [==============================] - 0s 824us/step - loss: 0.3966 - val_loss: 0.4274\n",
      "Epoch 12/100\n",
      "363/363 [==============================] - 0s 841us/step - loss: 0.3941 - val_loss: 0.4294\n",
      "Epoch 13/100\n",
      "363/363 [==============================] - 0s 847us/step - loss: 0.3919 - val_loss: 0.4373\n"
     ]
    }
   ],
   "source": [
    "early_stopping_cb = keras.callbacks.EarlyStopping(patience=10, restore_best_weights=True)\n",
    "\n",
    "model.compile(loss=\"mse\", optimizer=keras.optimizers.SGD(learning_rate=1e-3))\n",
    "model.fit(X_train, y_train, epochs=100, validation_data=(X_valid, y_valid), \n",
    "          callbacks=[checkpoint_cb, early_stopping_cb]);"
   ]
  },
  {
   "cell_type": "code",
   "execution_count": 63,
   "id": "d4b9163d82ee1fc8",
   "metadata": {
    "collapsed": false,
    "jupyter": {
     "outputs_hidden": false
    }
   },
   "outputs": [
    {
     "name": "stdout",
     "output_type": "stream",
     "text": [
      "121/121 [==============================] - 0s 645us/step - loss: 0.4105\n"
     ]
    },
    {
     "data": {
      "text/plain": [
       "0.41045042872428894"
      ]
     },
     "execution_count": 63,
     "metadata": {},
     "output_type": "execute_result"
    }
   ],
   "source": [
    "model.evaluate(X_valid, y_valid)"
   ]
  },
  {
   "cell_type": "code",
   "execution_count": 64,
   "id": "5f83dfa4f9512ba2",
   "metadata": {
    "collapsed": false,
    "jupyter": {
     "outputs_hidden": false
    }
   },
   "outputs": [],
   "source": [
    "class PrintValTrainRatioCallback(keras.callbacks.Callback):\n",
    "    def on_epoch_end(self, epoch, logs=None):\n",
    "        print(\"val/train: {:.2f}\".format(logs[\"val_loss\"] / logs[\"loss\"]))\n",
    "        \n",
    "val_train_ratio_cb = PrintValTrainRatioCallback()"
   ]
  },
  {
   "cell_type": "code",
   "execution_count": 65,
   "id": "17af36e2b6ab2fed",
   "metadata": {
    "collapsed": false,
    "jupyter": {
     "outputs_hidden": false
    }
   },
   "outputs": [
    {
     "name": "stdout",
     "output_type": "stream",
     "text": [
      "Epoch 1/3\n",
      "val/train: 0.98\n",
      "363/363 - 0s - loss: 0.4208 - val_loss: 0.4122 - 291ms/epoch - 803us/step\n",
      "Epoch 2/3\n",
      "val/train: 1.02\n",
      "363/363 - 0s - loss: 0.4160 - val_loss: 0.4225 - 275ms/epoch - 757us/step\n",
      "Epoch 3/3\n",
      "val/train: 1.02\n",
      "363/363 - 0s - loss: 0.4119 - val_loss: 0.4199 - 281ms/epoch - 775us/step\n"
     ]
    }
   ],
   "source": [
    "model.fit(X_train, y_train, epochs=3, validation_data=(X_valid, y_valid), \n",
    "          callbacks=[val_train_ratio_cb], verbose=2);"
   ]
  },
  {
   "cell_type": "markdown",
   "id": "9f50d5a48ffd0530",
   "metadata": {
    "collapsed": false,
    "jupyter": {
     "outputs_hidden": false
    }
   },
   "source": [
    "#### Using TensorBoard for Visualization"
   ]
  },
  {
   "cell_type": "code",
   "execution_count": 66,
   "id": "aa2ea21d-bec4-4cf9-8517-fe4b103e4a1c",
   "metadata": {},
   "outputs": [
    {
     "data": {
      "text/plain": [
       "'.\\\\logs\\\\run_2024_03_10-06_22_03'"
      ]
     },
     "execution_count": 66,
     "metadata": {},
     "output_type": "execute_result"
    }
   ],
   "source": [
    "def get_run_logdir():\n",
    "    root_logdir = os.path.join(os.curdir, \"logs\")\n",
    "    run_id = time.strftime(\"run_%Y_%m_%d-%H_%M_%S\")\n",
    "    return os.path.join(root_logdir, run_id)\n",
    "\n",
    "run_logdir = get_run_logdir()\n",
    "run_logdir"
   ]
  },
  {
   "cell_type": "code",
   "execution_count": 67,
   "id": "738bba992cd1bd08",
   "metadata": {
    "collapsed": false,
    "jupyter": {
     "outputs_hidden": false
    }
   },
   "outputs": [],
   "source": [
    "model = keras.models.Sequential([\n",
    "    keras.layers.Dense(30, activation=\"relu\", input_shape=[8]),\n",
    "    keras.layers.Dense(30, activation=\"relu\"),\n",
    "    keras.layers.Dense(1)\n",
    "])"
   ]
  },
  {
   "cell_type": "code",
   "execution_count": 68,
   "id": "508817fb0875e3c5",
   "metadata": {
    "collapsed": false,
    "jupyter": {
     "outputs_hidden": false
    }
   },
   "outputs": [
    {
     "name": "stdout",
     "output_type": "stream",
     "text": [
      "Epoch 1/30\n",
      "363/363 [==============================] - 1s 1ms/step - loss: 2.0831 - val_loss: 1.4078\n",
      "Epoch 2/30\n",
      "363/363 [==============================] - 0s 930us/step - loss: 0.7734 - val_loss: 0.6492\n",
      "Epoch 3/30\n",
      "363/363 [==============================] - 0s 928us/step - loss: 0.6442 - val_loss: 0.5765\n",
      "Epoch 4/30\n",
      "363/363 [==============================] - 0s 952us/step - loss: 0.5864 - val_loss: 0.5903\n",
      "Epoch 5/30\n",
      "363/363 [==============================] - 0s 954us/step - loss: 0.5480 - val_loss: 0.4942\n",
      "Epoch 6/30\n",
      "363/363 [==============================] - 0s 965us/step - loss: 0.5184 - val_loss: 0.4809\n",
      "Epoch 7/30\n",
      "363/363 [==============================] - 0s 924us/step - loss: 0.4986 - val_loss: 0.4469\n",
      "Epoch 8/30\n",
      "363/363 [==============================] - 0s 918us/step - loss: 0.4824 - val_loss: 0.4361\n",
      "Epoch 9/30\n",
      "363/363 [==============================] - 0s 913us/step - loss: 0.4698 - val_loss: 0.4447\n",
      "Epoch 10/30\n",
      "363/363 [==============================] - 0s 912us/step - loss: 0.4599 - val_loss: 0.4222\n",
      "Epoch 11/30\n",
      "363/363 [==============================] - 0s 956us/step - loss: 0.4509 - val_loss: 0.4102\n",
      "Epoch 12/30\n",
      "363/363 [==============================] - 0s 945us/step - loss: 0.4435 - val_loss: 0.4674\n",
      "Epoch 13/30\n",
      "363/363 [==============================] - 0s 928us/step - loss: 0.4381 - val_loss: 0.3997\n",
      "Epoch 14/30\n",
      "363/363 [==============================] - 0s 990us/step - loss: 0.4317 - val_loss: 0.3994\n",
      "Epoch 15/30\n",
      "363/363 [==============================] - 0s 962us/step - loss: 0.4270 - val_loss: 0.3930\n",
      "Epoch 16/30\n",
      "363/363 [==============================] - 0s 931us/step - loss: 0.4223 - val_loss: 0.3952\n",
      "Epoch 17/30\n",
      "363/363 [==============================] - 0s 932us/step - loss: 0.4176 - val_loss: 0.4082\n",
      "Epoch 18/30\n",
      "363/363 [==============================] - 0s 944us/step - loss: 0.4146 - val_loss: 0.3966\n",
      "Epoch 19/30\n",
      "363/363 [==============================] - 0s 949us/step - loss: 0.4106 - val_loss: 0.3908\n",
      "Epoch 20/30\n",
      "363/363 [==============================] - 0s 956us/step - loss: 0.4075 - val_loss: 0.4364\n",
      "Epoch 21/30\n",
      "363/363 [==============================] - 0s 974us/step - loss: 0.4046 - val_loss: 0.4202\n",
      "Epoch 22/30\n",
      "363/363 [==============================] - 0s 936us/step - loss: 0.4018 - val_loss: 0.4445\n",
      "Epoch 23/30\n",
      "363/363 [==============================] - 0s 964us/step - loss: 0.3990 - val_loss: 0.3699\n",
      "Epoch 24/30\n",
      "363/363 [==============================] - 0s 946us/step - loss: 0.3968 - val_loss: 0.3834\n",
      "Epoch 25/30\n",
      "363/363 [==============================] - 0s 942us/step - loss: 0.3941 - val_loss: 0.4201\n",
      "Epoch 26/30\n",
      "363/363 [==============================] - 0s 965us/step - loss: 0.3920 - val_loss: 0.3974\n",
      "Epoch 27/30\n",
      "363/363 [==============================] - 0s 977us/step - loss: 0.3904 - val_loss: 0.3598\n",
      "Epoch 28/30\n",
      "363/363 [==============================] - 0s 923us/step - loss: 0.3884 - val_loss: 0.3998\n",
      "Epoch 29/30\n",
      "363/363 [==============================] - 0s 934us/step - loss: 0.3867 - val_loss: 0.3764\n",
      "Epoch 30/30\n",
      "363/363 [==============================] - 0s 955us/step - loss: 0.3848 - val_loss: 0.4258\n"
     ]
    }
   ],
   "source": [
    "tensorboard_cb = keras.callbacks.TensorBoard(run_logdir)\n",
    "\n",
    "model.compile(loss=\"mse\", optimizer=keras.optimizers.SGD(learning_rate=1e-3))\n",
    "model.fit(X_train, y_train, epochs=30, validation_data=(X_valid, y_valid), \n",
    "          callbacks=[checkpoint_cb, tensorboard_cb]);"
   ]
  },
  {
   "cell_type": "code",
   "execution_count": 69,
   "id": "ae63c0349a27f1e",
   "metadata": {
    "collapsed": false,
    "jupyter": {
     "outputs_hidden": false
    }
   },
   "outputs": [
    {
     "data": {
      "text/html": [
       "\n",
       "      <iframe id=\"tensorboard-frame-cd83da479db936bf\" width=\"100%\" height=\"800\" frameborder=\"0\">\n",
       "      </iframe>\n",
       "      <script>\n",
       "        (function() {\n",
       "          const frame = document.getElementById(\"tensorboard-frame-cd83da479db936bf\");\n",
       "          const url = new URL(\"/\", window.location);\n",
       "          const port = 6006;\n",
       "          if (port) {\n",
       "            url.port = port;\n",
       "          }\n",
       "          frame.src = url;\n",
       "        })();\n",
       "      </script>\n",
       "    "
      ],
      "text/plain": [
       "<IPython.core.display.HTML object>"
      ]
     },
     "metadata": {},
     "output_type": "display_data"
    }
   ],
   "source": [
    "%load_ext tensorboard\n",
    "%tensorboard --logdir=./logs --host localhost"
   ]
  },
  {
   "cell_type": "code",
   "execution_count": 70,
   "id": "5e885cca91099fa6",
   "metadata": {
    "collapsed": false,
    "jupyter": {
     "outputs_hidden": false
    }
   },
   "outputs": [
    {
     "data": {
      "text/plain": [
       "'.\\\\logs\\\\run_2024_03_10-06_22_19'"
      ]
     },
     "execution_count": 70,
     "metadata": {},
     "output_type": "execute_result"
    }
   ],
   "source": [
    "run_logdir2 = get_run_logdir()\n",
    "run_logdir2"
   ]
  },
  {
   "cell_type": "code",
   "execution_count": 71,
   "id": "c70b5fa66979d3eb",
   "metadata": {
    "collapsed": false,
    "jupyter": {
     "outputs_hidden": false
    }
   },
   "outputs": [],
   "source": [
    "model = keras.models.Sequential([\n",
    "    keras.layers.Dense(30, activation=\"relu\", input_shape=[8]),\n",
    "    keras.layers.Dense(30, activation=\"relu\"),\n",
    "    keras.layers.Dense(1)\n",
    "])"
   ]
  },
  {
   "cell_type": "code",
   "execution_count": 72,
   "id": "6c1fc18b5cc9dce3",
   "metadata": {
    "collapsed": false,
    "jupyter": {
     "outputs_hidden": false
    }
   },
   "outputs": [
    {
     "name": "stdout",
     "output_type": "stream",
     "text": [
      "Epoch 1/30\n",
      "363/363 [==============================] - 1s 1ms/step - loss: 0.5577 - val_loss: 0.5257\n",
      "Epoch 2/30\n",
      "363/363 [==============================] - 0s 977us/step - loss: 0.3879 - val_loss: 2.5808\n",
      "Epoch 3/30\n",
      "363/363 [==============================] - 0s 1ms/step - loss: 0.4006 - val_loss: 1.5866\n",
      "Epoch 4/30\n",
      "363/363 [==============================] - 0s 1ms/step - loss: 0.5084 - val_loss: 6.4378\n",
      "Epoch 5/30\n",
      "363/363 [==============================] - 0s 1ms/step - loss: 0.4131 - val_loss: 61.3133\n",
      "Epoch 6/30\n",
      "363/363 [==============================] - 0s 943us/step - loss: 194533130019456650575872.0000 - val_loss: 865019.9375\n",
      "Epoch 7/30\n",
      "363/363 [==============================] - 0s 1ms/step - loss: 12548.5713 - val_loss: 1.3149\n",
      "Epoch 8/30\n",
      "363/363 [==============================] - 0s 967us/step - loss: 1.3433 - val_loss: 1.3157\n",
      "Epoch 9/30\n",
      "363/363 [==============================] - 0s 924us/step - loss: 1.3435 - val_loss: 1.3150\n",
      "Epoch 10/30\n",
      "363/363 [==============================] - 0s 1ms/step - loss: 1.3423 - val_loss: 1.3172\n",
      "Epoch 11/30\n",
      "363/363 [==============================] - 0s 947us/step - loss: 1.3432 - val_loss: 1.3174\n",
      "Epoch 12/30\n",
      "363/363 [==============================] - 0s 926us/step - loss: 1.3426 - val_loss: 1.3150\n",
      "Epoch 13/30\n",
      "363/363 [==============================] - 0s 939us/step - loss: 1.3422 - val_loss: 1.3270\n",
      "Epoch 14/30\n",
      "363/363 [==============================] - 0s 938us/step - loss: 1.3430 - val_loss: 1.3195\n",
      "Epoch 15/30\n",
      "363/363 [==============================] - 0s 932us/step - loss: 1.3426 - val_loss: 1.3157\n",
      "Epoch 16/30\n",
      "363/363 [==============================] - 0s 990us/step - loss: 1.3422 - val_loss: 1.3182\n",
      "Epoch 17/30\n",
      "363/363 [==============================] - 0s 967us/step - loss: 1.3429 - val_loss: 1.3223\n",
      "Epoch 18/30\n",
      "363/363 [==============================] - 0s 927us/step - loss: 1.3422 - val_loss: 1.3154\n",
      "Epoch 19/30\n",
      "363/363 [==============================] - 0s 943us/step - loss: 1.3421 - val_loss: 1.3168\n",
      "Epoch 20/30\n",
      "363/363 [==============================] - 0s 968us/step - loss: 1.3430 - val_loss: 1.3151\n",
      "Epoch 21/30\n",
      "363/363 [==============================] - 0s 1ms/step - loss: 1.3418 - val_loss: 1.3174\n",
      "Epoch 22/30\n",
      "363/363 [==============================] - 0s 994us/step - loss: 1.3424 - val_loss: 1.3204\n",
      "Epoch 23/30\n",
      "363/363 [==============================] - 0s 970us/step - loss: 1.3420 - val_loss: 1.3164\n",
      "Epoch 24/30\n",
      "363/363 [==============================] - 0s 979us/step - loss: 1.3429 - val_loss: 1.3157\n",
      "Epoch 25/30\n",
      "363/363 [==============================] - 0s 956us/step - loss: 1.3422 - val_loss: 1.3180\n",
      "Epoch 26/30\n",
      "363/363 [==============================] - 0s 927us/step - loss: 1.3425 - val_loss: 1.3195\n",
      "Epoch 27/30\n",
      "363/363 [==============================] - 0s 947us/step - loss: 1.3422 - val_loss: 1.3157\n",
      "Epoch 28/30\n",
      "363/363 [==============================] - 0s 1ms/step - loss: 1.3425 - val_loss: 1.3222\n",
      "Epoch 29/30\n",
      "363/363 [==============================] - 0s 947us/step - loss: 1.3431 - val_loss: 1.3267\n",
      "Epoch 30/30\n",
      "363/363 [==============================] - 0s 1ms/step - loss: 1.3424 - val_loss: 1.3174\n"
     ]
    }
   ],
   "source": [
    "tensorboard_cb = keras.callbacks.TensorBoard(run_logdir2)\n",
    "\n",
    "model.compile(loss=\"mse\", optimizer=keras.optimizers.SGD(learning_rate=0.05))\n",
    "model.fit(X_train, y_train, epochs=30, validation_data=(X_valid, y_valid), \n",
    "          callbacks=[checkpoint_cb, tensorboard_cb]);"
   ]
  },
  {
   "cell_type": "markdown",
   "id": "15489cd6ccc80400",
   "metadata": {
    "collapsed": false,
    "jupyter": {
     "outputs_hidden": false
    }
   },
   "source": [
    "## Fine-Tuning Neural Network Hyperparameters"
   ]
  },
  {
   "cell_type": "code",
   "execution_count": null,
   "id": "f0889f5175dac3f1",
   "metadata": {
    "collapsed": false,
    "jupyter": {
     "outputs_hidden": false
    }
   },
   "outputs": [],
   "source": []
  }
 ],
 "metadata": {
  "kernelspec": {
   "display_name": "Python 3 (ipykernel)",
   "language": "python",
   "name": "python3"
  },
  "language_info": {
   "codemirror_mode": {
    "name": "ipython",
    "version": 3
   },
   "file_extension": ".py",
   "mimetype": "text/x-python",
   "name": "python",
   "nbconvert_exporter": "python",
   "pygments_lexer": "ipython3",
   "version": "3.9.13"
  }
 },
 "nbformat": 4,
 "nbformat_minor": 5
}
