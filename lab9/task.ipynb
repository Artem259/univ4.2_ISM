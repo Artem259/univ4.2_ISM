{
 "cells": [
  {
   "cell_type": "code",
   "execution_count": 1,
   "id": "initial_id",
   "metadata": {
    "collapsed": true,
    "ExecuteTime": {
     "end_time": "2024-03-07T03:59:28.846547400Z",
     "start_time": "2024-03-07T03:59:25.979308800Z"
    }
   },
   "outputs": [
    {
     "name": "stdout",
     "output_type": "stream",
     "text": [
      "WARNING:tensorflow:From C:\\GAMES and PROGRAMS\\my programs\\univ4.2\\univ4.2_ISM\\venv\\lib\\site-packages\\keras\\src\\losses.py:2976: The name tf.losses.sparse_softmax_cross_entropy is deprecated. Please use tf.compat.v1.losses.sparse_softmax_cross_entropy instead.\n"
     ]
    }
   ],
   "source": [
    "import numpy as np\n",
    "import pandas as pd\n",
    "import tensorflow as tf"
   ]
  },
  {
   "cell_type": "markdown",
   "source": [
    "## From Biological to Artificial Neurons"
   ],
   "metadata": {
    "collapsed": false
   },
   "id": "6a4e3aef121d31b9"
  },
  {
   "cell_type": "markdown",
   "source": [
    "#### The Perceptron"
   ],
   "metadata": {
    "collapsed": false
   },
   "id": "1e69cf5a3aa9621d"
  },
  {
   "cell_type": "code",
   "outputs": [
    {
     "data": {
      "text/plain": "array([5.1, 3.5, 1.4, 0.2])"
     },
     "execution_count": 2,
     "metadata": {},
     "output_type": "execute_result"
    }
   ],
   "source": [
    "from sklearn.datasets import load_iris\n",
    "from sklearn.linear_model import Perceptron\n",
    "\n",
    "iris = load_iris()\n",
    "iris.data[0]"
   ],
   "metadata": {
    "collapsed": false,
    "ExecuteTime": {
     "end_time": "2024-03-07T03:59:29.114985300Z",
     "start_time": "2024-03-07T03:59:28.834726500Z"
    }
   },
   "id": "f70bc748c72744c5",
   "execution_count": 2
  },
  {
   "cell_type": "code",
   "outputs": [
    {
     "data": {
      "text/plain": "array([1])"
     },
     "execution_count": 3,
     "metadata": {},
     "output_type": "execute_result"
    }
   ],
   "source": [
    "X = iris.data[:, (2, 3)] # petal length, petal width\n",
    "y = (iris.target == 0).astype(np.int32) # Iris setosa?\n",
    "\n",
    "per_clf = Perceptron(random_state=42)\n",
    "per_clf.fit(X, y)\n",
    "\n",
    "y_pred = per_clf.predict([[2, 0.5]])\n",
    "y_pred"
   ],
   "metadata": {
    "collapsed": false,
    "ExecuteTime": {
     "end_time": "2024-03-07T03:59:29.143768100Z",
     "start_time": "2024-03-07T03:59:29.115991400Z"
    }
   },
   "id": "547b564dd9349fdf",
   "execution_count": 3
  },
  {
   "cell_type": "markdown",
   "source": [
    "## Implementing MLPs with Keras"
   ],
   "metadata": {
    "collapsed": false
   },
   "id": "5b12212405a80e87"
  },
  {
   "cell_type": "markdown",
   "source": [
    "#### Building an Image Classifier Using the Sequential API"
   ],
   "metadata": {
    "collapsed": false
   },
   "id": "6ccba6578ad447b2"
  },
  {
   "cell_type": "markdown",
   "source": [
    "##### Using Keras to load the dataset"
   ],
   "metadata": {
    "collapsed": false
   },
   "id": "dd40b35c0605de0b"
  },
  {
   "cell_type": "code",
   "outputs": [],
   "source": [
    "from tensorflow import keras\n",
    "\n",
    "fashion_mnist = keras.datasets.fashion_mnist\n",
    "(X_train_full, y_train_full), (X_test, y_test) = fashion_mnist.load_data()"
   ],
   "metadata": {
    "collapsed": false,
    "ExecuteTime": {
     "end_time": "2024-03-07T03:59:29.366453700Z",
     "start_time": "2024-03-07T03:59:29.130848200Z"
    }
   },
   "id": "b6c9708af20c086d",
   "execution_count": 4
  },
  {
   "cell_type": "code",
   "outputs": [
    {
     "data": {
      "text/plain": "(60000, 28, 28)"
     },
     "execution_count": 5,
     "metadata": {},
     "output_type": "execute_result"
    }
   ],
   "source": [
    "X_train_full.shape"
   ],
   "metadata": {
    "collapsed": false,
    "ExecuteTime": {
     "end_time": "2024-03-07T03:59:29.386084700Z",
     "start_time": "2024-03-07T03:59:29.367553100Z"
    }
   },
   "id": "df55d896bdb8205d",
   "execution_count": 5
  },
  {
   "cell_type": "code",
   "outputs": [
    {
     "data": {
      "text/plain": "dtype('uint8')"
     },
     "execution_count": 6,
     "metadata": {},
     "output_type": "execute_result"
    }
   ],
   "source": [
    "X_train_full.dtype"
   ],
   "metadata": {
    "collapsed": false,
    "ExecuteTime": {
     "end_time": "2024-03-07T03:59:29.415091200Z",
     "start_time": "2024-03-07T03:59:29.383087Z"
    }
   },
   "id": "999461d96364b08d",
   "execution_count": 6
  },
  {
   "cell_type": "code",
   "outputs": [],
   "source": [
    "X_valid, X_train = X_train_full[:5000] / 255., X_train_full[5000:] / 255.\n",
    "y_valid, y_train = y_train_full[:5000], y_train_full[5000:]\n",
    "X_test = X_test / 255."
   ],
   "metadata": {
    "collapsed": false,
    "ExecuteTime": {
     "end_time": "2024-03-07T03:59:29.488669500Z",
     "start_time": "2024-03-07T03:59:29.396625200Z"
    }
   },
   "id": "61f11c8fc85d7da9",
   "execution_count": 7
  },
  {
   "cell_type": "code",
   "outputs": [
    {
     "data": {
      "text/plain": "array([4, 0, 7, ..., 3, 0, 5], dtype=uint8)"
     },
     "execution_count": 8,
     "metadata": {},
     "output_type": "execute_result"
    }
   ],
   "source": [
    "y_train"
   ],
   "metadata": {
    "collapsed": false,
    "ExecuteTime": {
     "end_time": "2024-03-07T03:59:29.509871700Z",
     "start_time": "2024-03-07T03:59:29.490144400Z"
    }
   },
   "id": "7b95607ddb3e37e9",
   "execution_count": 8
  },
  {
   "cell_type": "code",
   "outputs": [],
   "source": [
    "class_names = [\"T-shirt/top\", \"Trouser\", \"Pullover\", \"Dress\", \"Coat\", \"Sandal\", \"Shirt\", \"Sneaker\", \"Bag\", \"Ankle boot\"]"
   ],
   "metadata": {
    "collapsed": false,
    "ExecuteTime": {
     "end_time": "2024-03-07T03:59:29.525844200Z",
     "start_time": "2024-03-07T03:59:29.506388Z"
    }
   },
   "id": "b5913c3abb78afd3",
   "execution_count": 9
  },
  {
   "cell_type": "code",
   "outputs": [
    {
     "data": {
      "text/plain": "<Figure size 640x480 with 1 Axes>",
      "image/png": "[encoded data removed]"
     },
     "metadata": {},
     "output_type": "display_data"
    },
    {
     "data": {
      "text/plain": "'Coat'"
     },
     "execution_count": 10,
     "metadata": {},
     "output_type": "execute_result"
    }
   ],
   "source": [
    "from matplotlib import pyplot as plt\n",
    "\n",
    "plt.imshow(X_train[0], cmap=\"binary\")\n",
    "plt.axis('off')\n",
    "plt.show()\n",
    "class_names[y_train[0]]"
   ],
   "metadata": {
    "collapsed": false,
    "ExecuteTime": {
     "end_time": "2024-03-07T03:59:29.850920100Z",
     "start_time": "2024-03-07T03:59:29.520397300Z"
    }
   },
   "id": "ae497b507ddf434e",
   "execution_count": 10
  },
  {
   "cell_type": "markdown",
   "source": [
    "##### Creating the model using the Sequential API"
   ],
   "metadata": {
    "collapsed": false
   },
   "id": "34fae3b6f7ac9783"
  },
  {
   "cell_type": "code",
   "outputs": [
    {
     "name": "stdout",
     "output_type": "stream",
     "text": [
      "WARNING:tensorflow:From C:\\GAMES and PROGRAMS\\my programs\\univ4.2\\univ4.2_ISM\\venv\\lib\\site-packages\\keras\\src\\backend.py:277: The name tf.reset_default_graph is deprecated. Please use tf.compat.v1.reset_default_graph instead.\n"
     ]
    }
   ],
   "source": [
    "keras.backend.clear_session()\n",
    "np.random.seed(42)\n",
    "tf.random.set_seed(42)"
   ],
   "metadata": {
    "collapsed": false,
    "ExecuteTime": {
     "end_time": "2024-03-07T03:59:29.980697500Z",
     "start_time": "2024-03-07T03:59:29.850920100Z"
    }
   },
   "id": "7ce14cb1cbb2e9c6",
   "execution_count": 11
  },
  {
   "cell_type": "code",
   "outputs": [],
   "source": [
    "model = keras.models.Sequential()\n",
    "model.add(keras.layers.Flatten(input_shape=[28, 28]))\n",
    "model.add(keras.layers.Dense(300, activation=\"relu\"))\n",
    "model.add(keras.layers.Dense(100, activation=\"relu\"))\n",
    "model.add(keras.layers.Dense(10, activation=\"softmax\"))"
   ],
   "metadata": {
    "collapsed": false,
    "ExecuteTime": {
     "end_time": "2024-03-07T03:59:30.052964300Z",
     "start_time": "2024-03-07T03:59:29.976265200Z"
    }
   },
   "id": "68483c36eaeb7fc9",
   "execution_count": 12
  },
  {
   "cell_type": "code",
   "outputs": [
    {
     "name": "stdout",
     "output_type": "stream",
     "text": [
      "Model: \"sequential\"\n",
      "_________________________________________________________________\n",
      " Layer (type)                Output Shape              Param #   \n",
      "=================================================================\n",
      " flatten (Flatten)           (None, 784)               0         \n",
      "                                                                 \n",
      " dense (Dense)               (None, 300)               235500    \n",
      "                                                                 \n",
      " dense_1 (Dense)             (None, 100)               30100     \n",
      "                                                                 \n",
      " dense_2 (Dense)             (None, 10)                1010      \n",
      "                                                                 \n",
      "=================================================================\n",
      "Total params: 266610 (1.02 MB)\n",
      "Trainable params: 266610 (1.02 MB)\n",
      "Non-trainable params: 0 (0.00 Byte)\n",
      "_________________________________________________________________\n"
     ]
    }
   ],
   "source": [
    "model.summary()"
   ],
   "metadata": {
    "collapsed": false,
    "ExecuteTime": {
     "end_time": "2024-03-07T03:59:30.073000100Z",
     "start_time": "2024-03-07T03:59:30.052964300Z"
    }
   },
   "id": "830c6389024246ce",
   "execution_count": 13
  },
  {
   "cell_type": "code",
   "outputs": [
    {
     "data": {
      "text/plain": "[<keras.src.layers.reshaping.flatten.Flatten at 0x1a9c30a76d0>,\n <keras.src.layers.core.dense.Dense at 0x1a9c30a7310>,\n <keras.src.layers.core.dense.Dense at 0x1a9c30a7dc0>,\n <keras.src.layers.core.dense.Dense at 0x1a9c307d040>]"
     },
     "execution_count": 14,
     "metadata": {},
     "output_type": "execute_result"
    }
   ],
   "source": [
    "model.layers"
   ],
   "metadata": {
    "collapsed": false,
    "ExecuteTime": {
     "end_time": "2024-03-07T03:59:30.099535100Z",
     "start_time": "2024-03-07T03:59:30.069993700Z"
    }
   },
   "id": "7b99b6a34f2696ad",
   "execution_count": 14
  },
  {
   "cell_type": "code",
   "outputs": [
    {
     "data": {
      "text/plain": "'dense'"
     },
     "execution_count": 15,
     "metadata": {},
     "output_type": "execute_result"
    }
   ],
   "source": [
    "hidden1 = model.layers[1]\n",
    "hidden1.name"
   ],
   "metadata": {
    "collapsed": false,
    "ExecuteTime": {
     "end_time": "2024-03-07T03:59:30.099535100Z",
     "start_time": "2024-03-07T03:59:30.084639700Z"
    }
   },
   "id": "5de6abb04a324b4a",
   "execution_count": 15
  },
  {
   "cell_type": "code",
   "outputs": [
    {
     "data": {
      "text/plain": "True"
     },
     "execution_count": 16,
     "metadata": {},
     "output_type": "execute_result"
    }
   ],
   "source": [
    "model.get_layer(\"dense\") is hidden1"
   ],
   "metadata": {
    "collapsed": false,
    "ExecuteTime": {
     "end_time": "2024-03-07T03:59:30.155120300Z",
     "start_time": "2024-03-07T03:59:30.099535100Z"
    }
   },
   "id": "c4f320c97879523c",
   "execution_count": 16
  },
  {
   "cell_type": "code",
   "outputs": [],
   "source": [
    "weights, biases = hidden1.get_weights()"
   ],
   "metadata": {
    "collapsed": false,
    "ExecuteTime": {
     "end_time": "2024-03-07T03:59:30.156121200Z",
     "start_time": "2024-03-07T03:59:30.113480600Z"
    }
   },
   "id": "543c76548241c0f2",
   "execution_count": 17
  },
  {
   "cell_type": "code",
   "outputs": [
    {
     "data": {
      "text/plain": "(784, 300)"
     },
     "execution_count": 18,
     "metadata": {},
     "output_type": "execute_result"
    }
   ],
   "source": [
    "weights.shape"
   ],
   "metadata": {
    "collapsed": false,
    "ExecuteTime": {
     "end_time": "2024-03-07T03:59:30.156121200Z",
     "start_time": "2024-03-07T03:59:30.130816500Z"
    }
   },
   "id": "ef689b2d7b0425e9",
   "execution_count": 18
  },
  {
   "cell_type": "code",
   "outputs": [
    {
     "data": {
      "text/plain": "(300,)"
     },
     "execution_count": 19,
     "metadata": {},
     "output_type": "execute_result"
    }
   ],
   "source": [
    "biases.shape"
   ],
   "metadata": {
    "collapsed": false,
    "ExecuteTime": {
     "end_time": "2024-03-07T03:59:30.205861900Z",
     "start_time": "2024-03-07T03:59:30.146691900Z"
    }
   },
   "id": "dcd06ebb810b82d0",
   "execution_count": 19
  },
  {
   "cell_type": "markdown",
   "source": [
    "##### Compiling the model"
   ],
   "metadata": {
    "collapsed": false
   },
   "id": "9b8bbb0db518e6f5"
  },
  {
   "cell_type": "code",
   "outputs": [],
   "source": [
    "model.compile(loss=keras.losses.sparse_categorical_crossentropy,\n",
    "              optimizer=keras.optimizers.SGD(learning_rate=0.01),\n",
    "              metrics=[keras.metrics.sparse_categorical_accuracy])"
   ],
   "metadata": {
    "collapsed": false,
    "ExecuteTime": {
     "end_time": "2024-03-07T03:59:30.207861200Z",
     "start_time": "2024-03-07T03:59:30.161636Z"
    }
   },
   "id": "e40494a280b198fb",
   "execution_count": 20
  },
  {
   "cell_type": "markdown",
   "source": [
    "##### Training and evaluating the model"
   ],
   "metadata": {
    "collapsed": false
   },
   "id": "bb90b746afecfa8c"
  },
  {
   "cell_type": "code",
   "outputs": [
    {
     "name": "stdout",
     "output_type": "stream",
     "text": [
      "Epoch 1/30\n",
      "WARNING:tensorflow:From C:\\GAMES and PROGRAMS\\my programs\\univ4.2\\univ4.2_ISM\\venv\\lib\\site-packages\\keras\\src\\utils\\tf_utils.py:492: The name tf.ragged.RaggedTensorValue is deprecated. Please use tf.compat.v1.ragged.RaggedTensorValue instead.\n",
      "WARNING:tensorflow:From C:\\GAMES and PROGRAMS\\my programs\\univ4.2\\univ4.2_ISM\\venv\\lib\\site-packages\\keras\\src\\engine\\base_layer_utils.py:384: The name tf.executing_eagerly_outside_functions is deprecated. Please use tf.compat.v1.executing_eagerly_outside_functions instead.\n",
      "1719/1719 [==============================] - 3s 1ms/step - loss: 0.7108 - sparse_categorical_accuracy: 0.7666 - val_loss: 0.5292 - val_sparse_categorical_accuracy: 0.8158\n",
      "Epoch 2/30\n",
      "1719/1719 [==============================] - 2s 1ms/step - loss: 0.4871 - sparse_categorical_accuracy: 0.8282 - val_loss: 0.4366 - val_sparse_categorical_accuracy: 0.8496\n",
      "Epoch 3/30\n",
      "1719/1719 [==============================] - 2s 1ms/step - loss: 0.4440 - sparse_categorical_accuracy: 0.8431 - val_loss: 0.5669 - val_sparse_categorical_accuracy: 0.7882\n",
      "Epoch 4/30\n",
      "1719/1719 [==============================] - 2s 1ms/step - loss: 0.4181 - sparse_categorical_accuracy: 0.8542 - val_loss: 0.3971 - val_sparse_categorical_accuracy: 0.8644\n",
      "Epoch 5/30\n",
      "1719/1719 [==============================] - 2s 1ms/step - loss: 0.3999 - sparse_categorical_accuracy: 0.8597 - val_loss: 0.3798 - val_sparse_categorical_accuracy: 0.8690\n",
      "Epoch 6/30\n",
      "1719/1719 [==============================] - 2s 1ms/step - loss: 0.3807 - sparse_categorical_accuracy: 0.8659 - val_loss: 0.3759 - val_sparse_categorical_accuracy: 0.8720\n",
      "Epoch 7/30\n",
      "1719/1719 [==============================] - 2s 1ms/step - loss: 0.3684 - sparse_categorical_accuracy: 0.8697 - val_loss: 0.3697 - val_sparse_categorical_accuracy: 0.8716\n",
      "Epoch 8/30\n",
      "1719/1719 [==============================] - 2s 1ms/step - loss: 0.3572 - sparse_categorical_accuracy: 0.8728 - val_loss: 0.3908 - val_sparse_categorical_accuracy: 0.8592\n",
      "Epoch 9/30\n",
      "1719/1719 [==============================] - 2s 1ms/step - loss: 0.3465 - sparse_categorical_accuracy: 0.8770 - val_loss: 0.3563 - val_sparse_categorical_accuracy: 0.8712\n",
      "Epoch 10/30\n",
      "1719/1719 [==============================] - 2s 1ms/step - loss: 0.3373 - sparse_categorical_accuracy: 0.8806 - val_loss: 0.3502 - val_sparse_categorical_accuracy: 0.8740\n",
      "Epoch 11/30\n",
      "1719/1719 [==============================] - 2s 1ms/step - loss: 0.3288 - sparse_categorical_accuracy: 0.8827 - val_loss: 0.3487 - val_sparse_categorical_accuracy: 0.8792\n",
      "Epoch 12/30\n",
      "1719/1719 [==============================] - 2s 1ms/step - loss: 0.3202 - sparse_categorical_accuracy: 0.8848 - val_loss: 0.3340 - val_sparse_categorical_accuracy: 0.8824\n",
      "Epoch 13/30\n",
      "1719/1719 [==============================] - 2s 1ms/step - loss: 0.3128 - sparse_categorical_accuracy: 0.8883 - val_loss: 0.3302 - val_sparse_categorical_accuracy: 0.8864\n",
      "Epoch 14/30\n",
      "1719/1719 [==============================] - 2s 1ms/step - loss: 0.3065 - sparse_categorical_accuracy: 0.8899 - val_loss: 0.3552 - val_sparse_categorical_accuracy: 0.8730\n",
      "Epoch 15/30\n",
      "1719/1719 [==============================] - 2s 1ms/step - loss: 0.2985 - sparse_categorical_accuracy: 0.8923 - val_loss: 0.3292 - val_sparse_categorical_accuracy: 0.8790\n",
      "Epoch 16/30\n",
      "1719/1719 [==============================] - 2s 1ms/step - loss: 0.2937 - sparse_categorical_accuracy: 0.8948 - val_loss: 0.3107 - val_sparse_categorical_accuracy: 0.8866\n",
      "Epoch 17/30\n",
      "1719/1719 [==============================] - 2s 1ms/step - loss: 0.2879 - sparse_categorical_accuracy: 0.8966 - val_loss: 0.3660 - val_sparse_categorical_accuracy: 0.8712\n",
      "Epoch 18/30\n",
      "1719/1719 [==============================] - 2s 1ms/step - loss: 0.2819 - sparse_categorical_accuracy: 0.8979 - val_loss: 0.3180 - val_sparse_categorical_accuracy: 0.8904\n",
      "Epoch 19/30\n",
      "1719/1719 [==============================] - 2s 1ms/step - loss: 0.2768 - sparse_categorical_accuracy: 0.8997 - val_loss: 0.3120 - val_sparse_categorical_accuracy: 0.8884\n",
      "Epoch 20/30\n",
      "1719/1719 [==============================] - 2s 1ms/step - loss: 0.2717 - sparse_categorical_accuracy: 0.9019 - val_loss: 0.3297 - val_sparse_categorical_accuracy: 0.8836\n",
      "Epoch 21/30\n",
      "1719/1719 [==============================] - 2s 1ms/step - loss: 0.2663 - sparse_categorical_accuracy: 0.9040 - val_loss: 0.3051 - val_sparse_categorical_accuracy: 0.8882\n",
      "Epoch 22/30\n",
      "1719/1719 [==============================] - 2s 1ms/step - loss: 0.2613 - sparse_categorical_accuracy: 0.9056 - val_loss: 0.2970 - val_sparse_categorical_accuracy: 0.8944\n",
      "Epoch 23/30\n",
      "1719/1719 [==============================] - 2s 1ms/step - loss: 0.2573 - sparse_categorical_accuracy: 0.9068 - val_loss: 0.2999 - val_sparse_categorical_accuracy: 0.8926\n",
      "Epoch 24/30\n",
      "1719/1719 [==============================] - 2s 1ms/step - loss: 0.2526 - sparse_categorical_accuracy: 0.9087 - val_loss: 0.3080 - val_sparse_categorical_accuracy: 0.8894\n",
      "Epoch 25/30\n",
      "1719/1719 [==============================] - 2s 1ms/step - loss: 0.2484 - sparse_categorical_accuracy: 0.9108 - val_loss: 0.3045 - val_sparse_categorical_accuracy: 0.8922\n",
      "Epoch 26/30\n",
      "1719/1719 [==============================] - 2s 1ms/step - loss: 0.2438 - sparse_categorical_accuracy: 0.9132 - val_loss: 0.3002 - val_sparse_categorical_accuracy: 0.8958\n",
      "Epoch 27/30\n",
      "1719/1719 [==============================] - 2s 1ms/step - loss: 0.2405 - sparse_categorical_accuracy: 0.9136 - val_loss: 0.2935 - val_sparse_categorical_accuracy: 0.8952\n",
      "Epoch 28/30\n",
      "1719/1719 [==============================] - 2s 1ms/step - loss: 0.2364 - sparse_categorical_accuracy: 0.9150 - val_loss: 0.2990 - val_sparse_categorical_accuracy: 0.8894\n",
      "Epoch 29/30\n",
      "1719/1719 [==============================] - 2s 1ms/step - loss: 0.2322 - sparse_categorical_accuracy: 0.9173 - val_loss: 0.3138 - val_sparse_categorical_accuracy: 0.8856\n",
      "Epoch 30/30\n",
      "1719/1719 [==============================] - 2s 1ms/step - loss: 0.2287 - sparse_categorical_accuracy: 0.9173 - val_loss: 0.3096 - val_sparse_categorical_accuracy: 0.8934\n"
     ]
    }
   ],
   "source": [
    "history = model.fit(X_train, y_train, epochs=30, validation_data=(X_valid, y_valid))"
   ],
   "metadata": {
    "collapsed": false,
    "ExecuteTime": {
     "end_time": "2024-03-07T04:00:29.703255500Z",
     "start_time": "2024-03-07T03:59:30.177731800Z"
    }
   },
   "id": "ab1638e29f44e5d7",
   "execution_count": 21
  },
  {
   "cell_type": "code",
   "outputs": [
    {
     "data": {
      "text/plain": "{'verbose': 1, 'epochs': 30, 'steps': 1719}"
     },
     "execution_count": 22,
     "metadata": {},
     "output_type": "execute_result"
    }
   ],
   "source": [
    "history.params"
   ],
   "metadata": {
    "collapsed": false,
    "ExecuteTime": {
     "end_time": "2024-03-07T04:00:29.738550500Z",
     "start_time": "2024-03-07T04:00:29.704264300Z"
    }
   },
   "id": "fabffeea10649f46",
   "execution_count": 22
  },
  {
   "cell_type": "code",
   "outputs": [
    {
     "name": "stdout",
     "output_type": "stream",
     "text": [
      "[0, 1, 2, 3, 4, 5, 6, 7, 8, 9, 10, 11, 12, 13, 14, 15, 16, 17, 18, 19, 20, 21, 22, 23, 24, 25, 26, 27, 28, 29]\n"
     ]
    }
   ],
   "source": [
    "print(history.epoch)"
   ],
   "metadata": {
    "collapsed": false,
    "ExecuteTime": {
     "end_time": "2024-03-07T04:00:29.739551500Z",
     "start_time": "2024-03-07T04:00:29.720004400Z"
    }
   },
   "id": "51a23506d5108e1",
   "execution_count": 23
  },
  {
   "cell_type": "code",
   "outputs": [
    {
     "data": {
      "text/plain": "dict_keys(['loss', 'sparse_categorical_accuracy', 'val_loss', 'val_sparse_categorical_accuracy'])"
     },
     "execution_count": 24,
     "metadata": {},
     "output_type": "execute_result"
    }
   ],
   "source": [
    "history.history.keys()"
   ],
   "metadata": {
    "collapsed": false,
    "ExecuteTime": {
     "end_time": "2024-03-07T04:00:29.771986500Z",
     "start_time": "2024-03-07T04:00:29.735235200Z"
    }
   },
   "id": "74866b1b66c2d3a8",
   "execution_count": 24
  },
  {
   "cell_type": "code",
   "outputs": [
    {
     "data": {
      "text/plain": "<Figure size 800x500 with 1 Axes>",
      "image/png": "[encoded data removed]"
     },
     "metadata": {},
     "output_type": "display_data"
    }
   ],
   "source": [
    "pd.DataFrame(history.history).plot(figsize=(8, 5))\n",
    "plt.grid(True)\n",
    "plt.gca().set_ylim(0, 1) # set the vertical range to [0-1]\n",
    "plt.show()"
   ],
   "metadata": {
    "collapsed": false,
    "ExecuteTime": {
     "end_time": "2024-03-07T04:00:29.846763800Z",
     "start_time": "2024-03-07T04:00:29.750680500Z"
    }
   },
   "id": "bc8f465e0085ce6e",
   "execution_count": 25
  },
  {
   "cell_type": "code",
   "outputs": [
    {
     "name": "stdout",
     "output_type": "stream",
     "text": [
      "313/313 [==============================] - 0s 762us/step - loss: 0.3393 - sparse_categorical_accuracy: 0.8802\n"
     ]
    },
    {
     "data": {
      "text/plain": "[0.33926501870155334, 0.8802000284194946]"
     },
     "execution_count": 26,
     "metadata": {},
     "output_type": "execute_result"
    }
   ],
   "source": [
    "model.evaluate(X_test, y_test)"
   ],
   "metadata": {
    "collapsed": false,
    "ExecuteTime": {
     "end_time": "2024-03-07T04:00:30.155937300Z",
     "start_time": "2024-03-07T04:00:29.844764300Z"
    }
   },
   "id": "c2ecaf9ba80ba35",
   "execution_count": 26
  },
  {
   "cell_type": "markdown",
   "source": [
    "##### Using the model to make predictions"
   ],
   "metadata": {
    "collapsed": false
   },
   "id": "db2c144831b71a26"
  },
  {
   "cell_type": "code",
   "outputs": [
    {
     "data": {
      "text/plain": "array([[0.  , 0.  , 0.  , 0.  , 0.  , 0.01, 0.  , 0.01, 0.  , 0.98],\n       [0.  , 0.  , 1.  , 0.  , 0.  , 0.  , 0.  , 0.  , 0.  , 0.  ],\n       [0.  , 1.  , 0.  , 0.  , 0.  , 0.  , 0.  , 0.  , 0.  , 0.  ]],\n      dtype=float32)"
     },
     "execution_count": 27,
     "metadata": {},
     "output_type": "execute_result"
    }
   ],
   "source": [
    "X_new = X_test[:3]\n",
    "y_proba = model.predict(X_new, verbose=0)\n",
    "y_proba.round(2)"
   ],
   "metadata": {
    "collapsed": false,
    "ExecuteTime": {
     "end_time": "2024-03-07T04:00:30.251739Z",
     "start_time": "2024-03-07T04:00:30.155937300Z"
    }
   },
   "id": "ba3d8414ecf4d3a9",
   "execution_count": 27
  },
  {
   "cell_type": "code",
   "outputs": [
    {
     "data": {
      "text/plain": "array([9, 2, 1], dtype=int64)"
     },
     "execution_count": 28,
     "metadata": {},
     "output_type": "execute_result"
    }
   ],
   "source": [
    "y_pred = np.argmax(model.predict(X_new, verbose=0), axis=-1)\n",
    "y_pred"
   ],
   "metadata": {
    "collapsed": false,
    "ExecuteTime": {
     "end_time": "2024-03-07T04:00:30.311900500Z",
     "start_time": "2024-03-07T04:00:30.249199800Z"
    }
   },
   "id": "4abbb7aef9aece9a",
   "execution_count": 28
  },
  {
   "cell_type": "code",
   "outputs": [
    {
     "data": {
      "text/plain": "array(['Ankle boot', 'Pullover', 'Trouser'], dtype='<U11')"
     },
     "execution_count": 29,
     "metadata": {},
     "output_type": "execute_result"
    }
   ],
   "source": [
    "np.array(class_names)[y_pred]"
   ],
   "metadata": {
    "collapsed": false,
    "ExecuteTime": {
     "end_time": "2024-03-07T04:00:30.335926200Z",
     "start_time": "2024-03-07T04:00:30.310894300Z"
    }
   },
   "id": "2ef2b995d2ddb902",
   "execution_count": 29
  },
  {
   "cell_type": "code",
   "outputs": [
    {
     "data": {
      "text/plain": "array([9, 2, 1], dtype=uint8)"
     },
     "execution_count": 30,
     "metadata": {},
     "output_type": "execute_result"
    }
   ],
   "source": [
    "y_new = y_test[:3]\n",
    "y_new"
   ],
   "metadata": {
    "collapsed": false,
    "ExecuteTime": {
     "end_time": "2024-03-07T04:00:30.347087600Z",
     "start_time": "2024-03-07T04:00:30.327857500Z"
    }
   },
   "id": "4051869ba49eb95",
   "execution_count": 30
  }
 ],
 "metadata": {
  "kernelspec": {
   "display_name": "Python 3",
   "language": "python",
   "name": "python3"
  },
  "language_info": {
   "codemirror_mode": {
    "name": "ipython",
    "version": 2
   },
   "file_extension": ".py",
   "mimetype": "text/x-python",
   "name": "python",
   "nbconvert_exporter": "python",
   "pygments_lexer": "ipython2",
   "version": "2.7.6"
  }
 },
 "nbformat": 4,
 "nbformat_minor": 5
}
