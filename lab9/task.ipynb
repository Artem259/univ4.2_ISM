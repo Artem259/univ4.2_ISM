{
 "cells": [
  {
   "cell_type": "code",
   "execution_count": 1,
   "id": "initial_id",
   "metadata": {
    "ExecuteTime": {
     "end_time": "2024-03-07T22:28:23.898781400Z",
     "start_time": "2024-03-07T22:28:20.795795200Z"
    }
   },
   "outputs": [
    {
     "name": "stdout",
     "output_type": "stream",
     "text": [
      "WARNING:tensorflow:From C:\\GAMES and PROGRAMS\\my programs\\univ4.2\\univ4.2_ISM\\venv\\lib\\site-packages\\keras\\src\\losses.py:2976: The name tf.losses.sparse_softmax_cross_entropy is deprecated. Please use tf.compat.v1.losses.sparse_softmax_cross_entropy instead.\n",
      "\n"
     ]
    }
   ],
   "source": [
    "import numpy as np\n",
    "import pandas as pd\n",
    "import tensorflow as tf"
   ]
  },
  {
   "cell_type": "markdown",
   "id": "6a4e3aef121d31b9",
   "metadata": {
    "collapsed": false,
    "jupyter": {
     "outputs_hidden": false
    }
   },
   "source": [
    "## From Biological to Artificial Neurons"
   ]
  },
  {
   "cell_type": "markdown",
   "id": "1e69cf5a3aa9621d",
   "metadata": {
    "collapsed": false,
    "jupyter": {
     "outputs_hidden": false
    }
   },
   "source": [
    "#### The Perceptron"
   ]
  },
  {
   "cell_type": "code",
   "execution_count": 2,
   "id": "f70bc748c72744c5",
   "metadata": {
    "ExecuteTime": {
     "end_time": "2024-03-07T22:28:24.259697200Z",
     "start_time": "2024-03-07T22:28:23.901173100Z"
    },
    "collapsed": false,
    "jupyter": {
     "outputs_hidden": false
    }
   },
   "outputs": [
    {
     "data": {
      "text/plain": [
       "array([5.1, 3.5, 1.4, 0.2])"
      ]
     },
     "execution_count": 2,
     "metadata": {},
     "output_type": "execute_result"
    }
   ],
   "source": [
    "from sklearn.datasets import load_iris\n",
    "from sklearn.linear_model import Perceptron\n",
    "\n",
    "iris = load_iris()\n",
    "iris.data[0]"
   ]
  },
  {
   "cell_type": "code",
   "execution_count": 3,
   "id": "547b564dd9349fdf",
   "metadata": {
    "ExecuteTime": {
     "end_time": "2024-03-07T22:28:24.288328200Z",
     "start_time": "2024-03-07T22:28:24.259697200Z"
    },
    "collapsed": false,
    "jupyter": {
     "outputs_hidden": false
    }
   },
   "outputs": [
    {
     "data": {
      "text/plain": [
       "array([1])"
      ]
     },
     "execution_count": 3,
     "metadata": {},
     "output_type": "execute_result"
    }
   ],
   "source": [
    "X = iris.data[:, (2, 3)] # petal length, petal width\n",
    "y = (iris.target == 0).astype(np.int32) # Iris setosa?\n",
    "\n",
    "per_clf = Perceptron(random_state=42)\n",
    "per_clf.fit(X, y)\n",
    "\n",
    "y_pred = per_clf.predict([[2, 0.5]])\n",
    "y_pred"
   ]
  },
  {
   "cell_type": "markdown",
   "id": "5b12212405a80e87",
   "metadata": {
    "collapsed": false,
    "jupyter": {
     "outputs_hidden": false
    }
   },
   "source": [
    "## Implementing MLPs with Keras"
   ]
  },
  {
   "cell_type": "markdown",
   "id": "6ccba6578ad447b2",
   "metadata": {
    "collapsed": false,
    "jupyter": {
     "outputs_hidden": false
    }
   },
   "source": [
    "#### Building an Image Classifier Using the Sequential API"
   ]
  },
  {
   "cell_type": "markdown",
   "id": "dd40b35c0605de0b",
   "metadata": {
    "collapsed": false,
    "jupyter": {
     "outputs_hidden": false
    }
   },
   "source": [
    "##### Using Keras to load the dataset"
   ]
  },
  {
   "cell_type": "code",
   "execution_count": 4,
   "id": "b6c9708af20c086d",
   "metadata": {
    "ExecuteTime": {
     "end_time": "2024-03-07T22:28:24.568288700Z",
     "start_time": "2024-03-07T22:28:24.274238300Z"
    },
    "collapsed": false,
    "jupyter": {
     "outputs_hidden": false
    }
   },
   "outputs": [],
   "source": [
    "from tensorflow import keras\n",
    "\n",
    "fashion_mnist = keras.datasets.fashion_mnist\n",
    "(X_train_full, y_train_full), (X_test, y_test) = fashion_mnist.load_data()"
   ]
  },
  {
   "cell_type": "code",
   "execution_count": 5,
   "id": "df55d896bdb8205d",
   "metadata": {
    "ExecuteTime": {
     "end_time": "2024-03-07T22:28:24.584509800Z",
     "start_time": "2024-03-07T22:28:24.570626500Z"
    },
    "collapsed": false,
    "jupyter": {
     "outputs_hidden": false
    }
   },
   "outputs": [
    {
     "data": {
      "text/plain": [
       "(60000, 28, 28)"
      ]
     },
     "execution_count": 5,
     "metadata": {},
     "output_type": "execute_result"
    }
   ],
   "source": [
    "X_train_full.shape"
   ]
  },
  {
   "cell_type": "code",
   "execution_count": 6,
   "id": "999461d96364b08d",
   "metadata": {
    "ExecuteTime": {
     "end_time": "2024-03-07T22:28:24.626289300Z",
     "start_time": "2024-03-07T22:28:24.584509800Z"
    },
    "collapsed": false,
    "jupyter": {
     "outputs_hidden": false
    }
   },
   "outputs": [
    {
     "data": {
      "text/plain": [
       "dtype('uint8')"
      ]
     },
     "execution_count": 6,
     "metadata": {},
     "output_type": "execute_result"
    }
   ],
   "source": [
    "X_train_full.dtype"
   ]
  },
  {
   "cell_type": "code",
   "execution_count": 7,
   "id": "61f11c8fc85d7da9",
   "metadata": {
    "ExecuteTime": {
     "end_time": "2024-03-07T22:28:24.723578200Z",
     "start_time": "2024-03-07T22:28:24.600472100Z"
    },
    "collapsed": false,
    "jupyter": {
     "outputs_hidden": false
    }
   },
   "outputs": [],
   "source": [
    "X_valid, X_train = X_train_full[:5000] / 255., X_train_full[5000:] / 255.\n",
    "y_valid, y_train = y_train_full[:5000], y_train_full[5000:]\n",
    "X_test = X_test / 255."
   ]
  },
  {
   "cell_type": "code",
   "execution_count": 8,
   "id": "7b95607ddb3e37e9",
   "metadata": {
    "ExecuteTime": {
     "end_time": "2024-03-07T22:28:24.739776600Z",
     "start_time": "2024-03-07T22:28:24.723578200Z"
    },
    "collapsed": false,
    "jupyter": {
     "outputs_hidden": false
    }
   },
   "outputs": [
    {
     "data": {
      "text/plain": [
       "array([4, 0, 7, ..., 3, 0, 5], dtype=uint8)"
      ]
     },
     "execution_count": 8,
     "metadata": {},
     "output_type": "execute_result"
    }
   ],
   "source": [
    "y_train"
   ]
  },
  {
   "cell_type": "code",
   "execution_count": 9,
   "id": "b5913c3abb78afd3",
   "metadata": {
    "ExecuteTime": {
     "end_time": "2024-03-07T22:28:24.771263700Z",
     "start_time": "2024-03-07T22:28:24.741162500Z"
    },
    "collapsed": false,
    "jupyter": {
     "outputs_hidden": false
    }
   },
   "outputs": [],
   "source": [
    "class_names = [\"T-shirt/top\", \"Trouser\", \"Pullover\", \"Dress\", \"Coat\", \"Sandal\", \"Shirt\", \"Sneaker\", \"Bag\", \"Ankle boot\"]"
   ]
  },
  {
   "cell_type": "code",
   "execution_count": 10,
   "id": "ae497b507ddf434e",
   "metadata": {
    "ExecuteTime": {
     "end_time": "2024-03-07T22:28:25.131207600Z",
     "start_time": "2024-03-07T22:28:24.757044800Z"
    },
    "collapsed": false,
    "jupyter": {
     "outputs_hidden": false
    }
   },
   "outputs": [
    {
     "data": {
      "image/png": "[encoded data removed]",
      "text/plain": [
       "<Figure size 640x480 with 1 Axes>"
      ]
     },
     "metadata": {},
     "output_type": "display_data"
    },
    {
     "data": {
      "text/plain": [
       "'Coat'"
      ]
     },
     "execution_count": 10,
     "metadata": {},
     "output_type": "execute_result"
    }
   ],
   "source": [
    "from matplotlib import pyplot as plt\n",
    "\n",
    "plt.imshow(X_train[0], cmap=\"binary\")\n",
    "plt.axis('off')\n",
    "plt.show()\n",
    "class_names[y_train[0]]"
   ]
  },
  {
   "cell_type": "markdown",
   "id": "34fae3b6f7ac9783",
   "metadata": {
    "collapsed": false,
    "jupyter": {
     "outputs_hidden": false
    }
   },
   "source": [
    "##### Creating the model using the Sequential API"
   ]
  },
  {
   "cell_type": "code",
   "execution_count": 11,
   "id": "7ce14cb1cbb2e9c6",
   "metadata": {
    "ExecuteTime": {
     "end_time": "2024-03-07T22:28:25.259801800Z",
     "start_time": "2024-03-07T22:28:25.131207600Z"
    },
    "collapsed": false,
    "jupyter": {
     "outputs_hidden": false
    }
   },
   "outputs": [
    {
     "name": "stdout",
     "output_type": "stream",
     "text": [
      "WARNING:tensorflow:From C:\\GAMES and PROGRAMS\\my programs\\univ4.2\\univ4.2_ISM\\venv\\lib\\site-packages\\keras\\src\\backend.py:277: The name tf.reset_default_graph is deprecated. Please use tf.compat.v1.reset_default_graph instead.\n",
      "\n"
     ]
    }
   ],
   "source": [
    "keras.backend.clear_session()\n",
    "np.random.seed(42)\n",
    "tf.random.set_seed(42)"
   ]
  },
  {
   "cell_type": "code",
   "execution_count": 12,
   "id": "68483c36eaeb7fc9",
   "metadata": {
    "ExecuteTime": {
     "end_time": "2024-03-07T22:28:25.335934100Z",
     "start_time": "2024-03-07T22:28:25.258280500Z"
    },
    "collapsed": false,
    "jupyter": {
     "outputs_hidden": false
    }
   },
   "outputs": [],
   "source": [
    "model = keras.models.Sequential()\n",
    "model.add(keras.layers.Flatten(input_shape=[28, 28]))\n",
    "model.add(keras.layers.Dense(300, activation=\"relu\"))\n",
    "model.add(keras.layers.Dense(100, activation=\"relu\"))\n",
    "model.add(keras.layers.Dense(10, activation=\"softmax\"))"
   ]
  },
  {
   "cell_type": "code",
   "execution_count": 13,
   "id": "830c6389024246ce",
   "metadata": {
    "ExecuteTime": {
     "end_time": "2024-03-07T22:28:25.357016600Z",
     "start_time": "2024-03-07T22:28:25.336442400Z"
    },
    "collapsed": false,
    "jupyter": {
     "outputs_hidden": false
    }
   },
   "outputs": [
    {
     "name": "stdout",
     "output_type": "stream",
     "text": [
      "Model: \"sequential\"\n",
      "_________________________________________________________________\n",
      " Layer (type)                Output Shape              Param #   \n",
      "=================================================================\n",
      " flatten (Flatten)           (None, 784)               0         \n",
      "                                                                 \n",
      " dense (Dense)               (None, 300)               235500    \n",
      "                                                                 \n",
      " dense_1 (Dense)             (None, 100)               30100     \n",
      "                                                                 \n",
      " dense_2 (Dense)             (None, 10)                1010      \n",
      "                                                                 \n",
      "=================================================================\n",
      "Total params: 266610 (1.02 MB)\n",
      "Trainable params: 266610 (1.02 MB)\n",
      "Non-trainable params: 0 (0.00 Byte)\n",
      "_________________________________________________________________\n"
     ]
    }
   ],
   "source": [
    "model.summary()"
   ]
  },
  {
   "cell_type": "code",
   "execution_count": 14,
   "id": "7b99b6a34f2696ad",
   "metadata": {
    "ExecuteTime": {
     "end_time": "2024-03-07T22:28:25.390779700Z",
     "start_time": "2024-03-07T22:28:25.354484500Z"
    },
    "collapsed": false,
    "jupyter": {
     "outputs_hidden": false
    }
   },
   "outputs": [
    {
     "data": {
      "text/plain": [
       "[<keras.src.layers.reshaping.flatten.Flatten at 0x23c7fbe5d30>,\n",
       " <keras.src.layers.core.dense.Dense at 0x23c7fbe5be0>,\n",
       " <keras.src.layers.core.dense.Dense at 0x23c7fbe5e20>,\n",
       " <keras.src.layers.core.dense.Dense at 0x23c7fbbc220>]"
      ]
     },
     "execution_count": 14,
     "metadata": {},
     "output_type": "execute_result"
    }
   ],
   "source": [
    "model.layers"
   ]
  },
  {
   "cell_type": "code",
   "execution_count": 15,
   "id": "5de6abb04a324b4a",
   "metadata": {
    "ExecuteTime": {
     "end_time": "2024-03-07T22:28:25.392785200Z",
     "start_time": "2024-03-07T22:28:25.367804200Z"
    },
    "collapsed": false,
    "jupyter": {
     "outputs_hidden": false
    }
   },
   "outputs": [
    {
     "data": {
      "text/plain": [
       "'dense'"
      ]
     },
     "execution_count": 15,
     "metadata": {},
     "output_type": "execute_result"
    }
   ],
   "source": [
    "hidden1 = model.layers[1]\n",
    "hidden1.name"
   ]
  },
  {
   "cell_type": "code",
   "execution_count": 16,
   "id": "c4f320c97879523c",
   "metadata": {
    "ExecuteTime": {
     "end_time": "2024-03-07T22:28:25.442890700Z",
     "start_time": "2024-03-07T22:28:25.382877300Z"
    },
    "collapsed": false,
    "jupyter": {
     "outputs_hidden": false
    }
   },
   "outputs": [
    {
     "data": {
      "text/plain": [
       "True"
      ]
     },
     "execution_count": 16,
     "metadata": {},
     "output_type": "execute_result"
    }
   ],
   "source": [
    "model.get_layer(\"dense\") is hidden1"
   ]
  },
  {
   "cell_type": "code",
   "execution_count": 17,
   "id": "543c76548241c0f2",
   "metadata": {
    "ExecuteTime": {
     "end_time": "2024-03-07T22:28:25.458567100Z",
     "start_time": "2024-03-07T22:28:25.398790300Z"
    },
    "collapsed": false,
    "jupyter": {
     "outputs_hidden": false
    }
   },
   "outputs": [],
   "source": [
    "weights, biases = hidden1.get_weights()"
   ]
  },
  {
   "cell_type": "code",
   "execution_count": 18,
   "id": "ef689b2d7b0425e9",
   "metadata": {
    "ExecuteTime": {
     "end_time": "2024-03-07T22:28:25.460034600Z",
     "start_time": "2024-03-07T22:28:25.414319600Z"
    },
    "collapsed": false,
    "jupyter": {
     "outputs_hidden": false
    }
   },
   "outputs": [
    {
     "data": {
      "text/plain": [
       "(784, 300)"
      ]
     },
     "execution_count": 18,
     "metadata": {},
     "output_type": "execute_result"
    }
   ],
   "source": [
    "weights.shape"
   ]
  },
  {
   "cell_type": "code",
   "execution_count": 19,
   "id": "dcd06ebb810b82d0",
   "metadata": {
    "ExecuteTime": {
     "end_time": "2024-03-07T22:28:25.511411800Z",
     "start_time": "2024-03-07T22:28:25.430259300Z"
    },
    "collapsed": false,
    "jupyter": {
     "outputs_hidden": false
    }
   },
   "outputs": [
    {
     "data": {
      "text/plain": [
       "(300,)"
      ]
     },
     "execution_count": 19,
     "metadata": {},
     "output_type": "execute_result"
    }
   ],
   "source": [
    "biases.shape"
   ]
  },
  {
   "cell_type": "markdown",
   "id": "9b8bbb0db518e6f5",
   "metadata": {
    "collapsed": false,
    "jupyter": {
     "outputs_hidden": false
    }
   },
   "source": [
    "##### Compiling the model"
   ]
  },
  {
   "cell_type": "code",
   "execution_count": 20,
   "id": "e40494a280b198fb",
   "metadata": {
    "ExecuteTime": {
     "end_time": "2024-03-07T22:28:25.513410900Z",
     "start_time": "2024-03-07T22:28:25.444890100Z"
    },
    "collapsed": false,
    "jupyter": {
     "outputs_hidden": false
    }
   },
   "outputs": [],
   "source": [
    "model.compile(loss=keras.losses.sparse_categorical_crossentropy,\n",
    "              optimizer=keras.optimizers.SGD(learning_rate=0.01),\n",
    "              metrics=[\"accuracy\"])"
   ]
  },
  {
   "cell_type": "markdown",
   "id": "bb90b746afecfa8c",
   "metadata": {
    "collapsed": false,
    "jupyter": {
     "outputs_hidden": false
    }
   },
   "source": [
    "##### Training and evaluating the model"
   ]
  },
  {
   "cell_type": "code",
   "execution_count": 21,
   "id": "ab1638e29f44e5d7",
   "metadata": {
    "ExecuteTime": {
     "end_time": "2024-03-07T22:29:32.989040Z",
     "start_time": "2024-03-07T22:28:25.461044300Z"
    },
    "collapsed": false,
    "jupyter": {
     "outputs_hidden": false
    }
   },
   "outputs": [
    {
     "name": "stdout",
     "output_type": "stream",
     "text": [
      "Epoch 1/30\n",
      "WARNING:tensorflow:From C:\\GAMES and PROGRAMS\\my programs\\univ4.2\\univ4.2_ISM\\venv\\lib\\site-packages\\keras\\src\\utils\\tf_utils.py:492: The name tf.ragged.RaggedTensorValue is deprecated. Please use tf.compat.v1.ragged.RaggedTensorValue instead.\n",
      "\n",
      "WARNING:tensorflow:From C:\\GAMES and PROGRAMS\\my programs\\univ4.2\\univ4.2_ISM\\venv\\lib\\site-packages\\keras\\src\\engine\\base_layer_utils.py:384: The name tf.executing_eagerly_outside_functions is deprecated. Please use tf.compat.v1.executing_eagerly_outside_functions instead.\n",
      "\n",
      "1719/1719 [==============================] - 2s 1ms/step - loss: 0.7223 - accuracy: 0.7614 - val_loss: 0.5172 - val_accuracy: 0.8246\n",
      "Epoch 2/30\n",
      "1719/1719 [==============================] - 2s 1ms/step - loss: 0.4873 - accuracy: 0.8301 - val_loss: 0.4349 - val_accuracy: 0.8556\n",
      "Epoch 3/30\n",
      "1719/1719 [==============================] - 2s 1ms/step - loss: 0.4415 - accuracy: 0.8443 - val_loss: 0.5567 - val_accuracy: 0.7916\n",
      "Epoch 4/30\n",
      "1719/1719 [==============================] - 2s 1ms/step - loss: 0.4148 - accuracy: 0.8551 - val_loss: 0.3941 - val_accuracy: 0.8666\n",
      "Epoch 5/30\n",
      "1719/1719 [==============================] - 2s 1ms/step - loss: 0.3967 - accuracy: 0.8619 - val_loss: 0.3796 - val_accuracy: 0.8674\n",
      "Epoch 6/30\n",
      "1719/1719 [==============================] - 2s 1ms/step - loss: 0.3780 - accuracy: 0.8667 - val_loss: 0.3732 - val_accuracy: 0.8704\n",
      "Epoch 7/30\n",
      "1719/1719 [==============================] - 2s 1ms/step - loss: 0.3659 - accuracy: 0.8712 - val_loss: 0.3656 - val_accuracy: 0.8730\n",
      "Epoch 8/30\n",
      "1719/1719 [==============================] - 2s 1ms/step - loss: 0.3547 - accuracy: 0.8740 - val_loss: 0.3878 - val_accuracy: 0.8630\n",
      "Epoch 9/30\n",
      "1719/1719 [==============================] - 2s 1ms/step - loss: 0.3438 - accuracy: 0.8789 - val_loss: 0.3569 - val_accuracy: 0.8724\n",
      "Epoch 10/30\n",
      "1719/1719 [==============================] - 2s 1ms/step - loss: 0.3346 - accuracy: 0.8802 - val_loss: 0.3515 - val_accuracy: 0.8762\n",
      "Epoch 11/30\n",
      "1719/1719 [==============================] - 2s 1ms/step - loss: 0.3260 - accuracy: 0.8842 - val_loss: 0.3499 - val_accuracy: 0.8744\n",
      "Epoch 12/30\n",
      "1719/1719 [==============================] - 2s 1ms/step - loss: 0.3166 - accuracy: 0.8855 - val_loss: 0.3357 - val_accuracy: 0.8758\n",
      "Epoch 13/30\n",
      "1719/1719 [==============================] - 2s 1ms/step - loss: 0.3095 - accuracy: 0.8885 - val_loss: 0.3348 - val_accuracy: 0.8812\n",
      "Epoch 14/30\n",
      "1719/1719 [==============================] - 2s 1ms/step - loss: 0.3032 - accuracy: 0.8905 - val_loss: 0.3590 - val_accuracy: 0.8662\n",
      "Epoch 15/30\n",
      "1719/1719 [==============================] - 2s 1ms/step - loss: 0.2956 - accuracy: 0.8932 - val_loss: 0.3348 - val_accuracy: 0.8778\n",
      "Epoch 16/30\n",
      "1719/1719 [==============================] - 2s 1ms/step - loss: 0.2904 - accuracy: 0.8960 - val_loss: 0.3123 - val_accuracy: 0.8868\n",
      "Epoch 17/30\n",
      "1719/1719 [==============================] - 2s 1ms/step - loss: 0.2845 - accuracy: 0.8966 - val_loss: 0.3602 - val_accuracy: 0.8706\n",
      "Epoch 18/30\n",
      "1719/1719 [==============================] - 2s 1ms/step - loss: 0.2787 - accuracy: 0.8992 - val_loss: 0.3182 - val_accuracy: 0.8880\n",
      "Epoch 19/30\n",
      "1719/1719 [==============================] - 2s 1ms/step - loss: 0.2735 - accuracy: 0.9017 - val_loss: 0.3122 - val_accuracy: 0.8894\n",
      "Epoch 20/30\n",
      "1719/1719 [==============================] - 2s 1ms/step - loss: 0.2677 - accuracy: 0.9030 - val_loss: 0.3321 - val_accuracy: 0.8816\n",
      "Epoch 21/30\n",
      "1719/1719 [==============================] - 2s 1ms/step - loss: 0.2629 - accuracy: 0.9051 - val_loss: 0.3087 - val_accuracy: 0.8900\n",
      "Epoch 22/30\n",
      "1719/1719 [==============================] - 2s 1ms/step - loss: 0.2576 - accuracy: 0.9060 - val_loss: 0.3017 - val_accuracy: 0.8902\n",
      "Epoch 23/30\n",
      "1719/1719 [==============================] - 2s 1ms/step - loss: 0.2532 - accuracy: 0.9075 - val_loss: 0.3060 - val_accuracy: 0.8894\n",
      "Epoch 24/30\n",
      "1719/1719 [==============================] - 2s 1ms/step - loss: 0.2490 - accuracy: 0.9099 - val_loss: 0.3088 - val_accuracy: 0.8870\n",
      "Epoch 25/30\n",
      "1719/1719 [==============================] - 2s 1ms/step - loss: 0.2446 - accuracy: 0.9112 - val_loss: 0.3062 - val_accuracy: 0.8910\n",
      "Epoch 26/30\n",
      "1719/1719 [==============================] - 2s 1ms/step - loss: 0.2403 - accuracy: 0.9130 - val_loss: 0.3060 - val_accuracy: 0.8910\n",
      "Epoch 27/30\n",
      "1719/1719 [==============================] - 2s 1ms/step - loss: 0.2365 - accuracy: 0.9152 - val_loss: 0.3020 - val_accuracy: 0.8922\n",
      "Epoch 28/30\n",
      "1719/1719 [==============================] - 2s 1ms/step - loss: 0.2330 - accuracy: 0.9155 - val_loss: 0.3073 - val_accuracy: 0.8906\n",
      "Epoch 29/30\n",
      "1719/1719 [==============================] - 2s 1ms/step - loss: 0.2283 - accuracy: 0.9175 - val_loss: 0.3119 - val_accuracy: 0.8894\n",
      "Epoch 30/30\n",
      "1719/1719 [==============================] - 2s 1ms/step - loss: 0.2243 - accuracy: 0.9195 - val_loss: 0.3098 - val_accuracy: 0.8902\n"
     ]
    }
   ],
   "source": [
    "history = model.fit(X_train, y_train, epochs=30, validation_data=(X_valid, y_valid))"
   ]
  },
  {
   "cell_type": "code",
   "execution_count": 22,
   "id": "fabffeea10649f46",
   "metadata": {
    "ExecuteTime": {
     "end_time": "2024-03-07T22:29:33.013735Z",
     "start_time": "2024-03-07T22:29:32.987030700Z"
    },
    "collapsed": false,
    "jupyter": {
     "outputs_hidden": false
    }
   },
   "outputs": [
    {
     "data": {
      "text/plain": [
       "{'verbose': 1, 'epochs': 30, 'steps': 1719}"
      ]
     },
     "execution_count": 22,
     "metadata": {},
     "output_type": "execute_result"
    }
   ],
   "source": [
    "history.params"
   ]
  },
  {
   "cell_type": "code",
   "execution_count": 23,
   "id": "51a23506d5108e1",
   "metadata": {
    "ExecuteTime": {
     "end_time": "2024-03-07T22:29:33.031506200Z",
     "start_time": "2024-03-07T22:29:33.003045100Z"
    },
    "collapsed": false,
    "jupyter": {
     "outputs_hidden": false
    }
   },
   "outputs": [
    {
     "data": {
      "text/plain": [
       "30"
      ]
     },
     "execution_count": 23,
     "metadata": {},
     "output_type": "execute_result"
    }
   ],
   "source": [
    "len(history.epoch)"
   ]
  },
  {
   "cell_type": "code",
   "execution_count": 24,
   "id": "74866b1b66c2d3a8",
   "metadata": {
    "ExecuteTime": {
     "end_time": "2024-03-07T22:29:33.034507900Z",
     "start_time": "2024-03-07T22:29:33.017736700Z"
    },
    "collapsed": false,
    "jupyter": {
     "outputs_hidden": false
    }
   },
   "outputs": [
    {
     "data": {
      "text/plain": [
       "dict_keys(['loss', 'accuracy', 'val_loss', 'val_accuracy'])"
      ]
     },
     "execution_count": 24,
     "metadata": {},
     "output_type": "execute_result"
    }
   ],
   "source": [
    "history.history.keys()"
   ]
  },
  {
   "cell_type": "code",
   "execution_count": 25,
   "id": "bc8f465e0085ce6e",
   "metadata": {
    "ExecuteTime": {
     "end_time": "2024-03-07T22:29:33.142839700Z",
     "start_time": "2024-03-07T22:29:33.034507900Z"
    },
    "collapsed": false,
    "jupyter": {
     "outputs_hidden": false
    }
   },
   "outputs": [
    {
     "data": {
      "image/png": "[encoded data removed]",
      "text/plain": [
       "<Figure size 800x500 with 1 Axes>"
      ]
     },
     "metadata": {},
     "output_type": "display_data"
    }
   ],
   "source": [
    "pd.DataFrame(history.history).plot(figsize=(8, 5))\n",
    "plt.grid(True)\n",
    "plt.gca().set_ylim(0, 1) # set the vertical range to [0-1]\n",
    "plt.show()"
   ]
  },
  {
   "cell_type": "code",
   "execution_count": 26,
   "id": "c2ecaf9ba80ba35",
   "metadata": {
    "ExecuteTime": {
     "end_time": "2024-03-07T22:29:33.517746Z",
     "start_time": "2024-03-07T22:29:33.144333Z"
    },
    "collapsed": false,
    "jupyter": {
     "outputs_hidden": false
    }
   },
   "outputs": [
    {
     "name": "stdout",
     "output_type": "stream",
     "text": [
      "313/313 [==============================] - 0s 777us/step - loss: 0.3376 - accuracy: 0.8812\n"
     ]
    },
    {
     "data": {
      "text/plain": [
       "[0.3376227915287018, 0.8812000155448914]"
      ]
     },
     "execution_count": 26,
     "metadata": {},
     "output_type": "execute_result"
    }
   ],
   "source": [
    "model.evaluate(X_test, y_test)"
   ]
  },
  {
   "cell_type": "markdown",
   "id": "db2c144831b71a26",
   "metadata": {
    "collapsed": false,
    "jupyter": {
     "outputs_hidden": false
    }
   },
   "source": [
    "##### Using the model to make predictions"
   ]
  },
  {
   "cell_type": "code",
   "execution_count": 27,
   "id": "ba3d8414ecf4d3a9",
   "metadata": {
    "ExecuteTime": {
     "end_time": "2024-03-07T22:29:33.619069800Z",
     "start_time": "2024-03-07T22:29:33.518745800Z"
    },
    "collapsed": false,
    "jupyter": {
     "outputs_hidden": false
    }
   },
   "outputs": [
    {
     "data": {
      "text/plain": [
       "array([[0.  , 0.  , 0.  , 0.  , 0.  , 0.01, 0.  , 0.03, 0.  , 0.96],\n",
       "       [0.  , 0.  , 1.  , 0.  , 0.  , 0.  , 0.  , 0.  , 0.  , 0.  ],\n",
       "       [0.  , 1.  , 0.  , 0.  , 0.  , 0.  , 0.  , 0.  , 0.  , 0.  ]],\n",
       "      dtype=float32)"
      ]
     },
     "execution_count": 27,
     "metadata": {},
     "output_type": "execute_result"
    }
   ],
   "source": [
    "X_new = X_test[:3]\n",
    "y_proba = model.predict(X_new, verbose=0)\n",
    "y_proba.round(2)"
   ]
  },
  {
   "cell_type": "code",
   "execution_count": 28,
   "id": "4abbb7aef9aece9a",
   "metadata": {
    "ExecuteTime": {
     "end_time": "2024-03-07T22:29:33.682400Z",
     "start_time": "2024-03-07T22:29:33.614553600Z"
    },
    "collapsed": false,
    "jupyter": {
     "outputs_hidden": false
    }
   },
   "outputs": [
    {
     "data": {
      "text/plain": [
       "array([9, 2, 1], dtype=int64)"
      ]
     },
     "execution_count": 28,
     "metadata": {},
     "output_type": "execute_result"
    }
   ],
   "source": [
    "y_pred = np.argmax(model.predict(X_new, verbose=0), axis=-1)\n",
    "y_pred"
   ]
  },
  {
   "cell_type": "code",
   "execution_count": 29,
   "id": "2ef2b995d2ddb902",
   "metadata": {
    "ExecuteTime": {
     "end_time": "2024-03-07T22:29:33.694917400Z",
     "start_time": "2024-03-07T22:29:33.675290200Z"
    },
    "collapsed": false,
    "jupyter": {
     "outputs_hidden": false
    }
   },
   "outputs": [
    {
     "data": {
      "text/plain": [
       "array(['Ankle boot', 'Pullover', 'Trouser'], dtype='<U11')"
      ]
     },
     "execution_count": 29,
     "metadata": {},
     "output_type": "execute_result"
    }
   ],
   "source": [
    "np.array(class_names)[y_pred]"
   ]
  },
  {
   "cell_type": "code",
   "execution_count": 30,
   "id": "4051869ba49eb95",
   "metadata": {
    "ExecuteTime": {
     "end_time": "2024-03-07T22:29:33.723479Z",
     "start_time": "2024-03-07T22:29:33.691920100Z"
    },
    "collapsed": false,
    "jupyter": {
     "outputs_hidden": false
    }
   },
   "outputs": [
    {
     "data": {
      "text/plain": [
       "array([9, 2, 1], dtype=uint8)"
      ]
     },
     "execution_count": 30,
     "metadata": {},
     "output_type": "execute_result"
    }
   ],
   "source": [
    "y_new = y_test[:3]\n",
    "y_new"
   ]
  },
  {
   "cell_type": "markdown",
   "id": "589dcd4fb1aa62b4",
   "metadata": {
    "collapsed": false,
    "jupyter": {
     "outputs_hidden": false
    }
   },
   "source": [
    "#### Building a Regression MLP Using the Sequential API"
   ]
  },
  {
   "cell_type": "code",
   "execution_count": 31,
   "id": "f155ec360cb4f242",
   "metadata": {
    "ExecuteTime": {
     "end_time": "2024-03-07T22:29:33.756418500Z",
     "start_time": "2024-03-07T22:29:33.708675500Z"
    },
    "collapsed": false,
    "jupyter": {
     "outputs_hidden": false
    }
   },
   "outputs": [],
   "source": [
    "from sklearn.datasets import fetch_california_housing\n",
    "from sklearn.model_selection import train_test_split\n",
    "from sklearn.preprocessing import StandardScaler\n",
    "\n",
    "housing = fetch_california_housing()\n",
    "\n",
    "X_train_full, X_test, y_train_full, y_test = train_test_split(housing.data, housing.target, random_state=42)\n",
    "X_train, X_valid, y_train, y_valid = train_test_split(X_train_full, y_train_full, random_state=42)\n",
    "\n",
    "scaler = StandardScaler()\n",
    "X_train = scaler.fit_transform(X_train)\n",
    "X_valid = scaler.transform(X_valid)\n",
    "X_test = scaler.transform(X_test)"
   ]
  },
  {
   "cell_type": "code",
   "execution_count": 32,
   "id": "937d67c76dd5a93f",
   "metadata": {
    "ExecuteTime": {
     "end_time": "2024-03-07T22:29:40.461324300Z",
     "start_time": "2024-03-07T22:29:33.758687800Z"
    },
    "collapsed": false,
    "jupyter": {
     "outputs_hidden": false
    }
   },
   "outputs": [
    {
     "name": "stdout",
     "output_type": "stream",
     "text": [
      "Epoch 1/20\n",
      "363/363 [==============================] - 1s 987us/step - loss: 1.8270 - val_loss: 0.8787\n",
      "Epoch 2/20\n",
      "363/363 [==============================] - 0s 731us/step - loss: 0.8011 - val_loss: 0.7670\n",
      "Epoch 3/20\n",
      "363/363 [==============================] - 0s 767us/step - loss: 0.6989 - val_loss: 0.6572\n",
      "Epoch 4/20\n",
      "363/363 [==============================] - 0s 774us/step - loss: 0.6516 - val_loss: 0.6022\n",
      "Epoch 5/20\n",
      "363/363 [==============================] - 0s 804us/step - loss: 0.6180 - val_loss: 0.5662\n",
      "Epoch 6/20\n",
      "363/363 [==============================] - 0s 736us/step - loss: 0.5903 - val_loss: 0.5436\n",
      "Epoch 7/20\n",
      "363/363 [==============================] - 0s 783us/step - loss: 0.5678 - val_loss: 0.5266\n",
      "Epoch 8/20\n",
      "363/363 [==============================] - 0s 851us/step - loss: 0.5486 - val_loss: 0.5061\n",
      "Epoch 9/20\n",
      "363/363 [==============================] - 0s 816us/step - loss: 0.5321 - val_loss: 0.4906\n",
      "Epoch 10/20\n",
      "363/363 [==============================] - 0s 778us/step - loss: 0.5179 - val_loss: 0.4770\n",
      "Epoch 11/20\n",
      "363/363 [==============================] - 0s 783us/step - loss: 0.5057 - val_loss: 0.4658\n",
      "Epoch 12/20\n",
      "363/363 [==============================] - 0s 727us/step - loss: 0.4948 - val_loss: 0.4563\n",
      "Epoch 13/20\n",
      "363/363 [==============================] - 0s 756us/step - loss: 0.4855 - val_loss: 0.4482\n",
      "Epoch 14/20\n",
      "363/363 [==============================] - 0s 764us/step - loss: 0.4769 - val_loss: 0.4396\n",
      "Epoch 15/20\n",
      "363/363 [==============================] - 0s 763us/step - loss: 0.4692 - val_loss: 0.4349\n",
      "Epoch 16/20\n",
      "363/363 [==============================] - 0s 732us/step - loss: 0.4623 - val_loss: 0.4272\n",
      "Epoch 17/20\n",
      "363/363 [==============================] - 0s 795us/step - loss: 0.4560 - val_loss: 0.4283\n",
      "Epoch 18/20\n",
      "363/363 [==============================] - 0s 850us/step - loss: 0.4504 - val_loss: 0.4248\n",
      "Epoch 19/20\n",
      "363/363 [==============================] - 0s 800us/step - loss: 0.4451 - val_loss: 0.4202\n",
      "Epoch 20/20\n",
      "363/363 [==============================] - 0s 727us/step - loss: 0.4406 - val_loss: 0.4350\n"
     ]
    }
   ],
   "source": [
    "model = keras.models.Sequential([\n",
    "    keras.layers.Dense(30, activation=\"relu\", input_shape=X_train.shape[1:]),\n",
    "    keras.layers.Dense(1)\n",
    "])\n",
    "model.compile(loss=\"mean_squared_error\", optimizer=keras.optimizers.SGD(learning_rate=1e-3))\n",
    "history = model.fit(X_train, y_train, epochs=20, validation_data=(X_valid, y_valid))"
   ]
  },
  {
   "cell_type": "code",
   "execution_count": 33,
   "id": "882dffcacb829a90",
   "metadata": {
    "ExecuteTime": {
     "end_time": "2024-03-07T22:29:40.538379100Z",
     "start_time": "2024-03-07T22:29:40.461324300Z"
    },
    "collapsed": false,
    "jupyter": {
     "outputs_hidden": false
    }
   },
   "outputs": [
    {
     "data": {
      "image/png": "[encoded data removed]",
      "text/plain": [
       "<Figure size 640x480 with 1 Axes>"
      ]
     },
     "metadata": {},
     "output_type": "display_data"
    }
   ],
   "source": [
    "plt.plot(pd.DataFrame(history.history))\n",
    "plt.grid(True)\n",
    "plt.gca().set_ylim(0, 1)\n",
    "plt.show()"
   ]
  },
  {
   "cell_type": "code",
   "execution_count": 34,
   "id": "b4ce1684c39ddaf2",
   "metadata": {
    "ExecuteTime": {
     "end_time": "2024-03-07T22:29:40.802809100Z",
     "start_time": "2024-03-07T22:29:40.540058900Z"
    },
    "collapsed": false,
    "jupyter": {
     "outputs_hidden": false
    }
   },
   "outputs": [
    {
     "name": "stdout",
     "output_type": "stream",
     "text": [
      "162/162 [==============================] - 0s 531us/step - loss: 0.4361\n"
     ]
    },
    {
     "data": {
      "text/plain": [
       "0.4360796809196472"
      ]
     },
     "execution_count": 34,
     "metadata": {},
     "output_type": "execute_result"
    }
   ],
   "source": [
    "model.evaluate(X_test, y_test)"
   ]
  },
  {
   "cell_type": "code",
   "execution_count": 35,
   "id": "4507daff65b29270",
   "metadata": {
    "ExecuteTime": {
     "end_time": "2024-03-07T22:29:40.860818400Z",
     "start_time": "2024-03-07T22:29:40.795284800Z"
    },
    "collapsed": false,
    "jupyter": {
     "outputs_hidden": false
    }
   },
   "outputs": [
    {
     "data": {
      "text/plain": [
       "array([[0.34033507],\n",
       "       [1.5488467 ],\n",
       "       [3.298955  ]], dtype=float32)"
      ]
     },
     "execution_count": 35,
     "metadata": {},
     "output_type": "execute_result"
    }
   ],
   "source": [
    "X_new = X_test[:3]\n",
    "y_pred = model.predict(X_new, verbose=0)\n",
    "y_pred"
   ]
  },
  {
   "cell_type": "code",
   "execution_count": 36,
   "id": "bb0c4c02116fb013",
   "metadata": {
    "ExecuteTime": {
     "end_time": "2024-03-07T22:29:40.879335900Z",
     "start_time": "2024-03-07T22:29:40.853314900Z"
    },
    "collapsed": false,
    "jupyter": {
     "outputs_hidden": false
    }
   },
   "outputs": [
    {
     "data": {
      "text/plain": [
       "array([0.477  , 0.458  , 5.00001])"
      ]
     },
     "execution_count": 36,
     "metadata": {},
     "output_type": "execute_result"
    }
   ],
   "source": [
    "y_new = y_test[:3]\n",
    "y_new"
   ]
  },
  {
   "cell_type": "markdown",
   "id": "a44fdd443314daf",
   "metadata": {
    "collapsed": false,
    "jupyter": {
     "outputs_hidden": false
    }
   },
   "source": [
    "#### Building Complex Models Using the Functional API"
   ]
  },
  {
   "cell_type": "code",
   "execution_count": 37,
   "id": "cec46e47eafd4b0f",
   "metadata": {
    "ExecuteTime": {
     "end_time": "2024-03-07T22:29:40.921260500Z",
     "start_time": "2024-03-07T22:29:40.870275700Z"
    },
    "collapsed": false,
    "jupyter": {
     "outputs_hidden": false
    }
   },
   "outputs": [],
   "source": [
    "input_ = keras.layers.Input(shape=X_train.shape[1:])\n",
    "hidden1 = keras.layers.Dense(30, activation=\"relu\")(input_)\n",
    "hidden2 = keras.layers.Dense(30, activation=\"relu\")(hidden1)\n",
    "concat = keras.layers.concatenate([input_, hidden2])\n",
    "output = keras.layers.Dense(1)(concat)\n",
    "model = keras.models.Model(inputs=[input_], outputs=[output])"
   ]
  },
  {
   "cell_type": "code",
   "execution_count": 38,
   "id": "4e4f3da528581633",
   "metadata": {
    "ExecuteTime": {
     "end_time": "2024-03-07T22:29:40.956081400Z",
     "start_time": "2024-03-07T22:29:40.916466300Z"
    },
    "collapsed": false,
    "jupyter": {
     "outputs_hidden": false
    }
   },
   "outputs": [
    {
     "name": "stdout",
     "output_type": "stream",
     "text": [
      "Model: \"model\"\n",
      "__________________________________________________________________________________________________\n",
      " Layer (type)                Output Shape                 Param #   Connected to                  \n",
      "==================================================================================================\n",
      " input_1 (InputLayer)        [(None, 8)]                  0         []                            \n",
      "                                                                                                  \n",
      " dense_5 (Dense)             (None, 30)                   270       ['input_1[0][0]']             \n",
      "                                                                                                  \n",
      " dense_6 (Dense)             (None, 30)                   930       ['dense_5[0][0]']             \n",
      "                                                                                                  \n",
      " concatenate (Concatenate)   (None, 38)                   0         ['input_1[0][0]',             \n",
      "                                                                     'dense_6[0][0]']             \n",
      "                                                                                                  \n",
      " dense_7 (Dense)             (None, 1)                    39        ['concatenate[0][0]']         \n",
      "                                                                                                  \n",
      "==================================================================================================\n",
      "Total params: 1239 (4.84 KB)\n",
      "Trainable params: 1239 (4.84 KB)\n",
      "Non-trainable params: 0 (0.00 Byte)\n",
      "__________________________________________________________________________________________________\n"
     ]
    }
   ],
   "source": [
    "model.summary()"
   ]
  },
  {
   "cell_type": "code",
   "execution_count": 39,
   "id": "c68bdad084ac1afb",
   "metadata": {
    "ExecuteTime": {
     "end_time": "2024-03-07T22:29:40.986024400Z",
     "start_time": "2024-03-07T22:29:40.932908700Z"
    },
    "collapsed": false,
    "jupyter": {
     "outputs_hidden": false
    }
   },
   "outputs": [],
   "source": [
    "input_A = keras.layers.Input(shape=[5], name=\"wide_input\")\n",
    "input_B = keras.layers.Input(shape=[6], name=\"deep_input\")\n",
    "hidden1 = keras.layers.Dense(30, activation=\"relu\")(input_B)\n",
    "hidden2 = keras.layers.Dense(30, activation=\"relu\")(hidden1)\n",
    "concat = keras.layers.concatenate([input_A, hidden2])\n",
    "output = keras.layers.Dense(1, name=\"output\")(concat)\n",
    "model = keras.models.Model(inputs=[input_A, input_B], outputs=[output])"
   ]
  },
  {
   "cell_type": "code",
   "execution_count": 40,
   "id": "c7c9f34cdf09a11d",
   "metadata": {
    "ExecuteTime": {
     "end_time": "2024-03-07T22:29:40.988025100Z",
     "start_time": "2024-03-07T22:29:40.963413300Z"
    },
    "collapsed": false,
    "jupyter": {
     "outputs_hidden": false
    }
   },
   "outputs": [
    {
     "name": "stdout",
     "output_type": "stream",
     "text": [
      "Model: \"model_1\"\n",
      "__________________________________________________________________________________________________\n",
      " Layer (type)                Output Shape                 Param #   Connected to                  \n",
      "==================================================================================================\n",
      " deep_input (InputLayer)     [(None, 6)]                  0         []                            \n",
      "                                                                                                  \n",
      " dense_8 (Dense)             (None, 30)                   210       ['deep_input[0][0]']          \n",
      "                                                                                                  \n",
      " wide_input (InputLayer)     [(None, 5)]                  0         []                            \n",
      "                                                                                                  \n",
      " dense_9 (Dense)             (None, 30)                   930       ['dense_8[0][0]']             \n",
      "                                                                                                  \n",
      " concatenate_1 (Concatenate  (None, 35)                   0         ['wide_input[0][0]',          \n",
      " )                                                                   'dense_9[0][0]']             \n",
      "                                                                                                  \n",
      " output (Dense)              (None, 1)                    36        ['concatenate_1[0][0]']       \n",
      "                                                                                                  \n",
      "==================================================================================================\n",
      "Total params: 1176 (4.59 KB)\n",
      "Trainable params: 1176 (4.59 KB)\n",
      "Non-trainable params: 0 (0.00 Byte)\n",
      "__________________________________________________________________________________________________\n"
     ]
    }
   ],
   "source": [
    "model.summary()"
   ]
  },
  {
   "cell_type": "code",
   "execution_count": 41,
   "id": "1a5b90320a76d2ba",
   "metadata": {
    "ExecuteTime": {
     "end_time": "2024-03-07T22:29:48.662279100Z",
     "start_time": "2024-03-07T22:29:40.983025Z"
    },
    "collapsed": false,
    "jupyter": {
     "outputs_hidden": false
    }
   },
   "outputs": [
    {
     "name": "stdout",
     "output_type": "stream",
     "text": [
      "Epoch 1/20\n",
      "363/363 [==============================] - 1s 1ms/step - loss: 2.4273 - val_loss: 1.4096\n",
      "Epoch 2/20\n",
      "363/363 [==============================] - 0s 874us/step - loss: 0.8138 - val_loss: 0.7548\n",
      "Epoch 3/20\n",
      "363/363 [==============================] - 0s 929us/step - loss: 0.6838 - val_loss: 0.6336\n",
      "Epoch 4/20\n",
      "363/363 [==============================] - 0s 1ms/step - loss: 0.6276 - val_loss: 0.5986\n",
      "Epoch 5/20\n",
      "363/363 [==============================] - 0s 913us/step - loss: 0.5946 - val_loss: 0.5699\n",
      "Epoch 6/20\n",
      "363/363 [==============================] - 0s 864us/step - loss: 0.5687 - val_loss: 0.5565\n",
      "Epoch 7/20\n",
      "363/363 [==============================] - 0s 908us/step - loss: 0.5486 - val_loss: 0.5651\n",
      "Epoch 8/20\n",
      "363/363 [==============================] - 0s 1ms/step - loss: 0.5314 - val_loss: 0.5073\n",
      "Epoch 9/20\n",
      "363/363 [==============================] - 0s 925us/step - loss: 0.5153 - val_loss: 0.4979\n",
      "Epoch 10/20\n",
      "363/363 [==============================] - 0s 921us/step - loss: 0.5016 - val_loss: 0.5127\n",
      "Epoch 11/20\n",
      "363/363 [==============================] - 0s 880us/step - loss: 0.4900 - val_loss: 0.4569\n",
      "Epoch 12/20\n",
      "363/363 [==============================] - 0s 877us/step - loss: 0.4795 - val_loss: 0.4797\n",
      "Epoch 13/20\n",
      "363/363 [==============================] - 0s 902us/step - loss: 0.4708 - val_loss: 0.4450\n",
      "Epoch 14/20\n",
      "363/363 [==============================] - 0s 912us/step - loss: 0.4631 - val_loss: 0.4355\n",
      "Epoch 15/20\n",
      "363/363 [==============================] - 0s 897us/step - loss: 0.4562 - val_loss: 0.4235\n",
      "Epoch 16/20\n",
      "363/363 [==============================] - 0s 836us/step - loss: 0.4504 - val_loss: 0.4221\n",
      "Epoch 17/20\n",
      "363/363 [==============================] - 0s 837us/step - loss: 0.4455 - val_loss: 0.4134\n",
      "Epoch 18/20\n",
      "363/363 [==============================] - 0s 930us/step - loss: 0.4414 - val_loss: 0.4102\n",
      "Epoch 19/20\n",
      "363/363 [==============================] - 0s 862us/step - loss: 0.4372 - val_loss: 0.4060\n",
      "Epoch 20/20\n",
      "363/363 [==============================] - 0s 857us/step - loss: 0.4338 - val_loss: 0.4191\n"
     ]
    }
   ],
   "source": [
    "model.compile(loss=\"mse\", optimizer=keras.optimizers.SGD(learning_rate=1e-3))\n",
    "\n",
    "X_train_A, X_train_B = X_train[:, :5], X_train[:, 2:]\n",
    "X_valid_A, X_valid_B = X_valid[:, :5], X_valid[:, 2:]\n",
    "X_test_A, X_test_B = X_test[:, :5], X_test[:, 2:]\n",
    "X_new_A, X_new_B = X_test_A[:3], X_test_B[:3]\n",
    "\n",
    "model.fit((X_train_A, X_train_B), y_train, epochs=20, \n",
    "          validation_data=((X_valid_A, X_valid_B), y_valid));"
   ]
  },
  {
   "cell_type": "code",
   "execution_count": 42,
   "id": "8fd57d74990dea1b",
   "metadata": {
    "ExecuteTime": {
     "end_time": "2024-03-07T22:29:48.816655Z",
     "start_time": "2024-03-07T22:29:48.657418300Z"
    },
    "collapsed": false,
    "jupyter": {
     "outputs_hidden": false
    }
   },
   "outputs": [
    {
     "name": "stdout",
     "output_type": "stream",
     "text": [
      "162/162 [==============================] - 0s 539us/step - loss: 0.4284\n"
     ]
    },
    {
     "data": {
      "text/plain": [
       "0.42840149998664856"
      ]
     },
     "execution_count": 42,
     "metadata": {},
     "output_type": "execute_result"
    }
   ],
   "source": [
    "model.evaluate((X_test_A, X_test_B), y_test)"
   ]
  },
  {
   "cell_type": "code",
   "execution_count": 43,
   "id": "3735e8379a02c35e",
   "metadata": {
    "ExecuteTime": {
     "end_time": "2024-03-07T22:29:48.908728600Z",
     "start_time": "2024-03-07T22:29:48.816655Z"
    },
    "collapsed": false,
    "jupyter": {
     "outputs_hidden": false
    }
   },
   "outputs": [
    {
     "data": {
      "text/plain": [
       "array([[0.53116035],\n",
       "       [1.9133267 ],\n",
       "       [3.1912177 ]], dtype=float32)"
      ]
     },
     "execution_count": 43,
     "metadata": {},
     "output_type": "execute_result"
    }
   ],
   "source": [
    "y_pred = model.predict((X_new_A, X_new_B), verbose=0)\n",
    "y_pred"
   ]
  },
  {
   "cell_type": "code",
   "execution_count": 44,
   "id": "6d77d73f2128022c",
   "metadata": {
    "ExecuteTime": {
     "end_time": "2024-03-07T22:29:57.445913100Z",
     "start_time": "2024-03-07T22:29:48.910492800Z"
    },
    "collapsed": false,
    "jupyter": {
     "outputs_hidden": false
    }
   },
   "outputs": [
    {
     "name": "stdout",
     "output_type": "stream",
     "text": [
      "Epoch 1/20\n",
      "363/363 [==============================] - 1s 1ms/step - loss: 2.7858 - main_output_loss: 2.4042 - aux_output_loss: 6.2207 - val_loss: 2.3436 - val_main_output_loss: 1.8570 - val_aux_output_loss: 6.7226\n",
      "Epoch 2/20\n",
      "363/363 [==============================] - 0s 933us/step - loss: 1.1782 - main_output_loss: 0.8565 - aux_output_loss: 4.0741 - val_loss: 0.9566 - val_main_output_loss: 0.7086 - val_aux_output_loss: 3.1883\n",
      "Epoch 3/20\n",
      "363/363 [==============================] - 0s 892us/step - loss: 0.8873 - main_output_loss: 0.6820 - aux_output_loss: 2.7352 - val_loss: 0.7914 - val_main_output_loss: 0.6213 - val_aux_output_loss: 2.3220\n",
      "Epoch 4/20\n",
      "363/363 [==============================] - 0s 897us/step - loss: 0.7677 - main_output_loss: 0.6233 - aux_output_loss: 2.0664 - val_loss: 0.7415 - val_main_output_loss: 0.5766 - val_aux_output_loss: 2.2261\n",
      "Epoch 5/20\n",
      "363/363 [==============================] - 0s 915us/step - loss: 0.6999 - main_output_loss: 0.5857 - aux_output_loss: 1.7270 - val_loss: 0.7033 - val_main_output_loss: 0.5409 - val_aux_output_loss: 2.1644\n",
      "Epoch 6/20\n",
      "363/363 [==============================] - 0s 990us/step - loss: 0.6550 - main_output_loss: 0.5567 - aux_output_loss: 1.5399 - val_loss: 0.6639 - val_main_output_loss: 0.5192 - val_aux_output_loss: 1.9662\n",
      "Epoch 7/20\n",
      "363/363 [==============================] - 0s 924us/step - loss: 0.6216 - main_output_loss: 0.5330 - aux_output_loss: 1.4188 - val_loss: 0.6308 - val_main_output_loss: 0.5059 - val_aux_output_loss: 1.7546\n",
      "Epoch 8/20\n",
      "363/363 [==============================] - 0s 949us/step - loss: 0.5957 - main_output_loss: 0.5138 - aux_output_loss: 1.3329 - val_loss: 0.5905 - val_main_output_loss: 0.4744 - val_aux_output_loss: 1.6360\n",
      "Epoch 9/20\n",
      "363/363 [==============================] - 0s 927us/step - loss: 0.5738 - main_output_loss: 0.4963 - aux_output_loss: 1.2714 - val_loss: 0.5584 - val_main_output_loss: 0.4592 - val_aux_output_loss: 1.4509\n",
      "Epoch 10/20\n",
      "363/363 [==============================] - 0s 1ms/step - loss: 0.5563 - main_output_loss: 0.4824 - aux_output_loss: 1.2211 - val_loss: 0.5380 - val_main_output_loss: 0.4533 - val_aux_output_loss: 1.3011\n",
      "Epoch 11/20\n",
      "363/363 [==============================] - 0s 1ms/step - loss: 0.5427 - main_output_loss: 0.4719 - aux_output_loss: 1.1797 - val_loss: 0.5244 - val_main_output_loss: 0.4432 - val_aux_output_loss: 1.2545\n",
      "Epoch 12/20\n",
      "363/363 [==============================] - 0s 963us/step - loss: 0.5315 - main_output_loss: 0.4631 - aux_output_loss: 1.1469 - val_loss: 0.5018 - val_main_output_loss: 0.4288 - val_aux_output_loss: 1.1585\n",
      "Epoch 13/20\n",
      "363/363 [==============================] - 0s 882us/step - loss: 0.5226 - main_output_loss: 0.4565 - aux_output_loss: 1.1178 - val_loss: 0.4933 - val_main_output_loss: 0.4242 - val_aux_output_loss: 1.1156\n",
      "Epoch 14/20\n",
      "363/363 [==============================] - 0s 903us/step - loss: 0.5151 - main_output_loss: 0.4510 - aux_output_loss: 1.0922 - val_loss: 0.4856 - val_main_output_loss: 0.4199 - val_aux_output_loss: 1.0771\n",
      "Epoch 15/20\n",
      "363/363 [==============================] - 0s 891us/step - loss: 0.5090 - main_output_loss: 0.4468 - aux_output_loss: 1.0692 - val_loss: 0.4876 - val_main_output_loss: 0.4247 - val_aux_output_loss: 1.0545\n",
      "Epoch 16/20\n",
      "363/363 [==============================] - 0s 915us/step - loss: 0.5036 - main_output_loss: 0.4430 - aux_output_loss: 1.0492 - val_loss: 0.4781 - val_main_output_loss: 0.4171 - val_aux_output_loss: 1.0274\n",
      "Epoch 17/20\n",
      "363/363 [==============================] - 0s 1ms/step - loss: 0.4992 - main_output_loss: 0.4402 - aux_output_loss: 1.0300 - val_loss: 0.4795 - val_main_output_loss: 0.4207 - val_aux_output_loss: 1.0090\n",
      "Epoch 18/20\n",
      "363/363 [==============================] - 0s 1ms/step - loss: 0.4948 - main_output_loss: 0.4373 - aux_output_loss: 1.0123 - val_loss: 0.4800 - val_main_output_loss: 0.4231 - val_aux_output_loss: 0.9917\n",
      "Epoch 19/20\n",
      "363/363 [==============================] - 0s 1ms/step - loss: 0.4905 - main_output_loss: 0.4344 - aux_output_loss: 0.9955 - val_loss: 0.4720 - val_main_output_loss: 0.4157 - val_aux_output_loss: 0.9788\n",
      "Epoch 20/20\n",
      "363/363 [==============================] - 0s 1ms/step - loss: 0.4873 - main_output_loss: 0.4327 - aux_output_loss: 0.9792 - val_loss: 0.4866 - val_main_output_loss: 0.4337 - val_aux_output_loss: 0.9627\n"
     ]
    }
   ],
   "source": [
    "input_A = keras.layers.Input(shape=[5], name=\"wide_input\")\n",
    "input_B = keras.layers.Input(shape=[6], name=\"deep_input\")\n",
    "hidden1 = keras.layers.Dense(30, activation=\"relu\")(input_B)\n",
    "hidden2 = keras.layers.Dense(30, activation=\"relu\")(hidden1)\n",
    "concat = keras.layers.concatenate([input_A, hidden2])\n",
    "output = keras.layers.Dense(1, name=\"main_output\")(concat)\n",
    "aux_output = keras.layers.Dense(1, name=\"aux_output\")(hidden2)\n",
    "model = keras.models.Model(inputs=[input_A, input_B], outputs=[output, aux_output])\n",
    "\n",
    "model.compile(loss=[\"mse\", \"mse\"], loss_weights=[0.9, 0.1], optimizer=keras.optimizers.SGD(learning_rate=1e-3))\n",
    "model.fit([X_train_A, X_train_B], [y_train, y_train], epochs=20, \n",
    "          validation_data=([X_valid_A, X_valid_B], [y_valid, y_valid]));"
   ]
  },
  {
   "cell_type": "code",
   "execution_count": 45,
   "id": "6b6eef4c61029c02",
   "metadata": {
    "ExecuteTime": {
     "end_time": "2024-03-07T22:29:57.636609900Z",
     "start_time": "2024-03-07T22:29:57.447921900Z"
    },
    "collapsed": false,
    "jupyter": {
     "outputs_hidden": false
    }
   },
   "outputs": [
    {
     "name": "stdout",
     "output_type": "stream",
     "text": [
      "162/162 [==============================] - 0s 704us/step - loss: 0.4791 - main_output_loss: 0.4263 - aux_output_loss: 0.9542\n"
     ]
    },
    {
     "data": {
      "text/plain": [
       "[0.47907957434654236, 0.4262908697128296, 0.9541770815849304]"
      ]
     },
     "execution_count": 45,
     "metadata": {},
     "output_type": "execute_result"
    }
   ],
   "source": [
    "model.evaluate([X_test_A, X_test_B], [y_test, y_test]) # total_loss, main_loss, aux_loss"
   ]
  },
  {
   "cell_type": "code",
   "execution_count": 46,
   "id": "d208b808681faae1",
   "metadata": {
    "ExecuteTime": {
     "end_time": "2024-03-07T22:29:57.727346100Z",
     "start_time": "2024-03-07T22:29:57.634611900Z"
    },
    "collapsed": false,
    "jupyter": {
     "outputs_hidden": false
    }
   },
   "outputs": [
    {
     "data": {
      "text/plain": [
       "(array([[0.3823223],\n",
       "        [1.9347081],\n",
       "        [3.3305998]], dtype=float32),\n",
       " array([[1.4025521],\n",
       "        [1.9426558],\n",
       "        [2.4860034]], dtype=float32))"
      ]
     },
     "execution_count": 46,
     "metadata": {},
     "output_type": "execute_result"
    }
   ],
   "source": [
    "y_pred_main, y_pred_aux = model.predict((X_new_A, X_new_B), verbose=0)\n",
    "y_pred_main, y_pred_aux"
   ]
  },
  {
   "cell_type": "markdown",
   "id": "2fc0a47ddc167d49",
   "metadata": {
    "collapsed": false,
    "jupyter": {
     "outputs_hidden": false
    }
   },
   "source": [
    "#### Using the Subclassing API to Build Dynamic Models"
   ]
  }
 ],
 "metadata": {
  "kernelspec": {
   "display_name": "Python 3 (ipykernel)",
   "language": "python",
   "name": "python3"
  },
  "language_info": {
   "codemirror_mode": {
    "name": "ipython",
    "version": 3
   },
   "file_extension": ".py",
   "mimetype": "text/x-python",
   "name": "python",
   "nbconvert_exporter": "python",
   "pygments_lexer": "ipython3",
   "version": "3.9.13"
  }
 },
 "nbformat": 4,
 "nbformat_minor": 5
}
