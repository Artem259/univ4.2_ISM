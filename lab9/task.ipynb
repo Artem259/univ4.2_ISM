{
 "cells": [
  {
   "cell_type": "code",
   "execution_count": 1,
   "id": "initial_id",
   "metadata": {},
   "outputs": [
    {
     "name": "stdout",
     "output_type": "stream",
     "text": [
      "WARNING:tensorflow:From C:\\GAMES and PROGRAMS\\my programs\\univ4.2\\univ4.2_ISM\\venv\\lib\\site-packages\\keras\\src\\losses.py:2976: The name tf.losses.sparse_softmax_cross_entropy is deprecated. Please use tf.compat.v1.losses.sparse_softmax_cross_entropy instead.\n",
      "\n"
     ]
    }
   ],
   "source": [
    "import numpy as np\n",
    "import pandas as pd\n",
    "import tensorflow as tf\n",
    "import os\n",
    "import time"
   ]
  },
  {
   "cell_type": "code",
   "execution_count": 2,
   "id": "41042dbf-6104-429e-8fdf-3c6edb041eee",
   "metadata": {},
   "outputs": [],
   "source": [
    "tf.get_logger().setLevel(\"ERROR\")"
   ]
  },
  {
   "cell_type": "markdown",
   "id": "6a4e3aef121d31b9",
   "metadata": {
    "collapsed": false,
    "jupyter": {
     "outputs_hidden": false
    }
   },
   "source": [
    "## From Biological to Artificial Neurons"
   ]
  },
  {
   "cell_type": "markdown",
   "id": "1e69cf5a3aa9621d",
   "metadata": {
    "collapsed": false,
    "jupyter": {
     "outputs_hidden": false
    }
   },
   "source": [
    "#### The Perceptron"
   ]
  },
  {
   "cell_type": "code",
   "execution_count": 3,
   "id": "f70bc748c72744c5",
   "metadata": {
    "collapsed": false,
    "jupyter": {
     "outputs_hidden": false
    }
   },
   "outputs": [
    {
     "data": {
      "text/plain": [
       "array([5.1, 3.5, 1.4, 0.2])"
      ]
     },
     "execution_count": 3,
     "metadata": {},
     "output_type": "execute_result"
    }
   ],
   "source": [
    "from sklearn.datasets import load_iris\n",
    "from sklearn.linear_model import Perceptron\n",
    "\n",
    "iris = load_iris()\n",
    "iris.data[0]"
   ]
  },
  {
   "cell_type": "code",
   "execution_count": 4,
   "id": "547b564dd9349fdf",
   "metadata": {
    "collapsed": false,
    "jupyter": {
     "outputs_hidden": false
    }
   },
   "outputs": [
    {
     "data": {
      "text/plain": [
       "array([1])"
      ]
     },
     "execution_count": 4,
     "metadata": {},
     "output_type": "execute_result"
    }
   ],
   "source": [
    "X = iris.data[:, (2, 3)] # petal length, petal width\n",
    "y = (iris.target == 0).astype(np.int32) # Iris setosa?\n",
    "\n",
    "per_clf = Perceptron(random_state=42)\n",
    "per_clf.fit(X, y)\n",
    "\n",
    "y_pred = per_clf.predict([[2, 0.5]])\n",
    "y_pred"
   ]
  },
  {
   "cell_type": "markdown",
   "id": "5b12212405a80e87",
   "metadata": {
    "collapsed": false,
    "jupyter": {
     "outputs_hidden": false
    }
   },
   "source": [
    "## Implementing MLPs with Keras"
   ]
  },
  {
   "cell_type": "markdown",
   "id": "6ccba6578ad447b2",
   "metadata": {
    "collapsed": false,
    "jupyter": {
     "outputs_hidden": false
    }
   },
   "source": [
    "#### Building an Image Classifier Using the Sequential API"
   ]
  },
  {
   "cell_type": "markdown",
   "id": "dd40b35c0605de0b",
   "metadata": {
    "collapsed": false,
    "jupyter": {
     "outputs_hidden": false
    }
   },
   "source": [
    "##### Using Keras to load the dataset"
   ]
  },
  {
   "cell_type": "code",
   "execution_count": 5,
   "id": "b6c9708af20c086d",
   "metadata": {
    "collapsed": false,
    "jupyter": {
     "outputs_hidden": false
    }
   },
   "outputs": [],
   "source": [
    "from tensorflow import keras\n",
    "\n",
    "fashion_mnist = keras.datasets.fashion_mnist\n",
    "(X_train_full, y_train_full), (X_test, y_test) = fashion_mnist.load_data()"
   ]
  },
  {
   "cell_type": "code",
   "execution_count": 6,
   "id": "df55d896bdb8205d",
   "metadata": {
    "collapsed": false,
    "jupyter": {
     "outputs_hidden": false
    }
   },
   "outputs": [
    {
     "data": {
      "text/plain": [
       "(60000, 28, 28)"
      ]
     },
     "execution_count": 6,
     "metadata": {},
     "output_type": "execute_result"
    }
   ],
   "source": [
    "X_train_full.shape"
   ]
  },
  {
   "cell_type": "code",
   "execution_count": 7,
   "id": "999461d96364b08d",
   "metadata": {
    "collapsed": false,
    "jupyter": {
     "outputs_hidden": false
    }
   },
   "outputs": [
    {
     "data": {
      "text/plain": [
       "dtype('uint8')"
      ]
     },
     "execution_count": 7,
     "metadata": {},
     "output_type": "execute_result"
    }
   ],
   "source": [
    "X_train_full.dtype"
   ]
  },
  {
   "cell_type": "code",
   "execution_count": 8,
   "id": "61f11c8fc85d7da9",
   "metadata": {
    "collapsed": false,
    "jupyter": {
     "outputs_hidden": false
    }
   },
   "outputs": [],
   "source": [
    "X_valid, X_train = X_train_full[:5000] / 255., X_train_full[5000:] / 255.\n",
    "y_valid, y_train = y_train_full[:5000], y_train_full[5000:]\n",
    "X_test = X_test / 255."
   ]
  },
  {
   "cell_type": "code",
   "execution_count": 9,
   "id": "7b95607ddb3e37e9",
   "metadata": {
    "collapsed": false,
    "jupyter": {
     "outputs_hidden": false
    }
   },
   "outputs": [
    {
     "data": {
      "text/plain": [
       "array([4, 0, 7, ..., 3, 0, 5], dtype=uint8)"
      ]
     },
     "execution_count": 9,
     "metadata": {},
     "output_type": "execute_result"
    }
   ],
   "source": [
    "y_train"
   ]
  },
  {
   "cell_type": "code",
   "execution_count": 10,
   "id": "b5913c3abb78afd3",
   "metadata": {
    "collapsed": false,
    "jupyter": {
     "outputs_hidden": false
    }
   },
   "outputs": [],
   "source": [
    "class_names = [\"T-shirt/top\", \"Trouser\", \"Pullover\", \"Dress\", \"Coat\", \"Sandal\", \"Shirt\", \"Sneaker\", \"Bag\", \"Ankle boot\"]"
   ]
  },
  {
   "cell_type": "code",
   "execution_count": 11,
   "id": "ae497b507ddf434e",
   "metadata": {
    "collapsed": false,
    "jupyter": {
     "outputs_hidden": false
    }
   },
   "outputs": [
    {
     "data": {
      "image/png": "[encoded data removed]",
      "text/plain": [
       "<Figure size 640x480 with 1 Axes>"
      ]
     },
     "metadata": {},
     "output_type": "display_data"
    },
    {
     "data": {
      "text/plain": [
       "'Coat'"
      ]
     },
     "execution_count": 11,
     "metadata": {},
     "output_type": "execute_result"
    }
   ],
   "source": [
    "from matplotlib import pyplot as plt\n",
    "\n",
    "plt.imshow(X_train[0], cmap=\"binary\")\n",
    "plt.axis('off')\n",
    "plt.show()\n",
    "class_names[y_train[0]]"
   ]
  },
  {
   "cell_type": "markdown",
   "id": "34fae3b6f7ac9783",
   "metadata": {
    "collapsed": false,
    "jupyter": {
     "outputs_hidden": false
    }
   },
   "source": [
    "##### Creating the model using the Sequential API"
   ]
  },
  {
   "cell_type": "code",
   "execution_count": 12,
   "id": "7ce14cb1cbb2e9c6",
   "metadata": {
    "collapsed": false,
    "jupyter": {
     "outputs_hidden": false
    }
   },
   "outputs": [],
   "source": [
    "keras.backend.clear_session()\n",
    "np.random.seed(42)\n",
    "tf.random.set_seed(42)"
   ]
  },
  {
   "cell_type": "code",
   "execution_count": 13,
   "id": "68483c36eaeb7fc9",
   "metadata": {
    "collapsed": false,
    "jupyter": {
     "outputs_hidden": false
    }
   },
   "outputs": [],
   "source": [
    "model = keras.models.Sequential()\n",
    "model.add(keras.layers.Flatten(input_shape=[28, 28]))\n",
    "model.add(keras.layers.Dense(300, activation=\"relu\"))\n",
    "model.add(keras.layers.Dense(100, activation=\"relu\"))\n",
    "model.add(keras.layers.Dense(10, activation=\"softmax\"))"
   ]
  },
  {
   "cell_type": "code",
   "execution_count": 14,
   "id": "830c6389024246ce",
   "metadata": {
    "collapsed": false,
    "jupyter": {
     "outputs_hidden": false
    }
   },
   "outputs": [
    {
     "name": "stdout",
     "output_type": "stream",
     "text": [
      "Model: \"sequential\"\n",
      "_________________________________________________________________\n",
      " Layer (type)                Output Shape              Param #   \n",
      "=================================================================\n",
      " flatten (Flatten)           (None, 784)               0         \n",
      "                                                                 \n",
      " dense (Dense)               (None, 300)               235500    \n",
      "                                                                 \n",
      " dense_1 (Dense)             (None, 100)               30100     \n",
      "                                                                 \n",
      " dense_2 (Dense)             (None, 10)                1010      \n",
      "                                                                 \n",
      "=================================================================\n",
      "Total params: 266610 (1.02 MB)\n",
      "Trainable params: 266610 (1.02 MB)\n",
      "Non-trainable params: 0 (0.00 Byte)\n",
      "_________________________________________________________________\n"
     ]
    }
   ],
   "source": [
    "model.summary()"
   ]
  },
  {
   "cell_type": "code",
   "execution_count": 15,
   "id": "7b99b6a34f2696ad",
   "metadata": {
    "collapsed": false,
    "jupyter": {
     "outputs_hidden": false
    }
   },
   "outputs": [
    {
     "data": {
      "text/plain": [
       "[<keras.src.layers.reshaping.flatten.Flatten at 0x2647a439040>,\n",
       " <keras.src.layers.core.dense.Dense at 0x2647a386550>,\n",
       " <keras.src.layers.core.dense.Dense at 0x2647a35d6d0>,\n",
       " <keras.src.layers.core.dense.Dense at 0x2647a3a7250>]"
      ]
     },
     "execution_count": 15,
     "metadata": {},
     "output_type": "execute_result"
    }
   ],
   "source": [
    "model.layers"
   ]
  },
  {
   "cell_type": "code",
   "execution_count": 16,
   "id": "5de6abb04a324b4a",
   "metadata": {
    "collapsed": false,
    "jupyter": {
     "outputs_hidden": false
    }
   },
   "outputs": [
    {
     "data": {
      "text/plain": [
       "'dense'"
      ]
     },
     "execution_count": 16,
     "metadata": {},
     "output_type": "execute_result"
    }
   ],
   "source": [
    "hidden1 = model.layers[1]\n",
    "hidden1.name"
   ]
  },
  {
   "cell_type": "code",
   "execution_count": 17,
   "id": "c4f320c97879523c",
   "metadata": {
    "collapsed": false,
    "jupyter": {
     "outputs_hidden": false
    }
   },
   "outputs": [
    {
     "data": {
      "text/plain": [
       "True"
      ]
     },
     "execution_count": 17,
     "metadata": {},
     "output_type": "execute_result"
    }
   ],
   "source": [
    "model.get_layer(\"dense\") is hidden1"
   ]
  },
  {
   "cell_type": "code",
   "execution_count": 18,
   "id": "543c76548241c0f2",
   "metadata": {
    "collapsed": false,
    "jupyter": {
     "outputs_hidden": false
    }
   },
   "outputs": [],
   "source": [
    "weights, biases = hidden1.get_weights()"
   ]
  },
  {
   "cell_type": "code",
   "execution_count": 19,
   "id": "ef689b2d7b0425e9",
   "metadata": {
    "collapsed": false,
    "jupyter": {
     "outputs_hidden": false
    }
   },
   "outputs": [
    {
     "data": {
      "text/plain": [
       "(784, 300)"
      ]
     },
     "execution_count": 19,
     "metadata": {},
     "output_type": "execute_result"
    }
   ],
   "source": [
    "weights.shape"
   ]
  },
  {
   "cell_type": "code",
   "execution_count": 20,
   "id": "dcd06ebb810b82d0",
   "metadata": {
    "collapsed": false,
    "jupyter": {
     "outputs_hidden": false
    }
   },
   "outputs": [
    {
     "data": {
      "text/plain": [
       "(300,)"
      ]
     },
     "execution_count": 20,
     "metadata": {},
     "output_type": "execute_result"
    }
   ],
   "source": [
    "biases.shape"
   ]
  },
  {
   "cell_type": "markdown",
   "id": "9b8bbb0db518e6f5",
   "metadata": {
    "collapsed": false,
    "jupyter": {
     "outputs_hidden": false
    }
   },
   "source": [
    "##### Compiling the model"
   ]
  },
  {
   "cell_type": "code",
   "execution_count": 21,
   "id": "e40494a280b198fb",
   "metadata": {
    "collapsed": false,
    "jupyter": {
     "outputs_hidden": false
    }
   },
   "outputs": [],
   "source": [
    "model.compile(loss=keras.losses.sparse_categorical_crossentropy,\n",
    "              optimizer=keras.optimizers.SGD(learning_rate=0.01),\n",
    "              metrics=[\"accuracy\"])"
   ]
  },
  {
   "cell_type": "markdown",
   "id": "bb90b746afecfa8c",
   "metadata": {
    "collapsed": false,
    "jupyter": {
     "outputs_hidden": false
    }
   },
   "source": [
    "##### Training and evaluating the model"
   ]
  },
  {
   "cell_type": "code",
   "execution_count": 22,
   "id": "ab1638e29f44e5d7",
   "metadata": {
    "collapsed": false,
    "jupyter": {
     "outputs_hidden": false
    }
   },
   "outputs": [
    {
     "name": "stdout",
     "output_type": "stream",
     "text": [
      "Epoch 1/30\n",
      "1719/1719 [==============================] - 2s 1ms/step - loss: 0.7166 - accuracy: 0.7627 - val_loss: 0.5319 - val_accuracy: 0.8184\n",
      "Epoch 2/30\n",
      "1719/1719 [==============================] - 2s 1ms/step - loss: 0.4879 - accuracy: 0.8292 - val_loss: 0.4410 - val_accuracy: 0.8490\n",
      "Epoch 3/30\n",
      "1719/1719 [==============================] - 2s 1ms/step - loss: 0.4418 - accuracy: 0.8436 - val_loss: 0.5634 - val_accuracy: 0.7864\n",
      "Epoch 4/30\n",
      "1719/1719 [==============================] - 2s 1ms/step - loss: 0.4148 - accuracy: 0.8549 - val_loss: 0.3944 - val_accuracy: 0.8674\n",
      "Epoch 5/30\n",
      "1719/1719 [==============================] - 2s 1ms/step - loss: 0.3962 - accuracy: 0.8607 - val_loss: 0.3780 - val_accuracy: 0.8692\n",
      "Epoch 6/30\n",
      "1719/1719 [==============================] - 2s 1ms/step - loss: 0.3776 - accuracy: 0.8665 - val_loss: 0.3723 - val_accuracy: 0.8740\n",
      "Epoch 7/30\n",
      "1719/1719 [==============================] - 2s 1ms/step - loss: 0.3656 - accuracy: 0.8695 - val_loss: 0.3666 - val_accuracy: 0.8742\n",
      "Epoch 8/30\n",
      "1719/1719 [==============================] - 2s 995us/step - loss: 0.3540 - accuracy: 0.8737 - val_loss: 0.3888 - val_accuracy: 0.8618\n",
      "Epoch 9/30\n",
      "1719/1719 [==============================] - 2s 1ms/step - loss: 0.3434 - accuracy: 0.8784 - val_loss: 0.3515 - val_accuracy: 0.8730\n",
      "Epoch 10/30\n",
      "1719/1719 [==============================] - 2s 1ms/step - loss: 0.3347 - accuracy: 0.8809 - val_loss: 0.3512 - val_accuracy: 0.8766\n",
      "Epoch 11/30\n",
      "1719/1719 [==============================] - 2s 1ms/step - loss: 0.3261 - accuracy: 0.8833 - val_loss: 0.3419 - val_accuracy: 0.8812\n",
      "Epoch 12/30\n",
      "1719/1719 [==============================] - 2s 1ms/step - loss: 0.3171 - accuracy: 0.8864 - val_loss: 0.3340 - val_accuracy: 0.8838\n",
      "Epoch 13/30\n",
      "1719/1719 [==============================] - 2s 1ms/step - loss: 0.3107 - accuracy: 0.8891 - val_loss: 0.3309 - val_accuracy: 0.8862\n",
      "Epoch 14/30\n",
      "1719/1719 [==============================] - 2s 1ms/step - loss: 0.3043 - accuracy: 0.8900 - val_loss: 0.3469 - val_accuracy: 0.8716\n",
      "Epoch 15/30\n",
      "1719/1719 [==============================] - 2s 1ms/step - loss: 0.2963 - accuracy: 0.8932 - val_loss: 0.3269 - val_accuracy: 0.8820\n",
      "Epoch 16/30\n",
      "1719/1719 [==============================] - 2s 1ms/step - loss: 0.2917 - accuracy: 0.8959 - val_loss: 0.3109 - val_accuracy: 0.8882\n",
      "Epoch 17/30\n",
      "1719/1719 [==============================] - 2s 1ms/step - loss: 0.2856 - accuracy: 0.8970 - val_loss: 0.3539 - val_accuracy: 0.8734\n",
      "Epoch 18/30\n",
      "1719/1719 [==============================] - 2s 1ms/step - loss: 0.2800 - accuracy: 0.8993 - val_loss: 0.3181 - val_accuracy: 0.8872\n",
      "Epoch 19/30\n",
      "1719/1719 [==============================] - 2s 1ms/step - loss: 0.2751 - accuracy: 0.9009 - val_loss: 0.3093 - val_accuracy: 0.8860\n",
      "Epoch 20/30\n",
      "1719/1719 [==============================] - 2s 1ms/step - loss: 0.2695 - accuracy: 0.9036 - val_loss: 0.3300 - val_accuracy: 0.8826\n",
      "Epoch 21/30\n",
      "1719/1719 [==============================] - 2s 1ms/step - loss: 0.2642 - accuracy: 0.9046 - val_loss: 0.3017 - val_accuracy: 0.8900\n",
      "Epoch 22/30\n",
      "1719/1719 [==============================] - 2s 1ms/step - loss: 0.2593 - accuracy: 0.9059 - val_loss: 0.2980 - val_accuracy: 0.8942\n",
      "Epoch 23/30\n",
      "1719/1719 [==============================] - 2s 1ms/step - loss: 0.2551 - accuracy: 0.9075 - val_loss: 0.3044 - val_accuracy: 0.8904\n",
      "Epoch 24/30\n",
      "1719/1719 [==============================] - 2s 1ms/step - loss: 0.2504 - accuracy: 0.9091 - val_loss: 0.3065 - val_accuracy: 0.8882\n",
      "Epoch 25/30\n",
      "1719/1719 [==============================] - 2s 1ms/step - loss: 0.2459 - accuracy: 0.9104 - val_loss: 0.3042 - val_accuracy: 0.8944\n",
      "Epoch 26/30\n",
      "1719/1719 [==============================] - 2s 1ms/step - loss: 0.2416 - accuracy: 0.9140 - val_loss: 0.3024 - val_accuracy: 0.8926\n",
      "Epoch 27/30\n",
      "1719/1719 [==============================] - 2s 1ms/step - loss: 0.2376 - accuracy: 0.9141 - val_loss: 0.3042 - val_accuracy: 0.8904\n",
      "Epoch 28/30\n",
      "1719/1719 [==============================] - 2s 1ms/step - loss: 0.2344 - accuracy: 0.9146 - val_loss: 0.3009 - val_accuracy: 0.8930\n",
      "Epoch 29/30\n",
      "1719/1719 [==============================] - 2s 1ms/step - loss: 0.2298 - accuracy: 0.9172 - val_loss: 0.3074 - val_accuracy: 0.8900\n",
      "Epoch 30/30\n",
      "1719/1719 [==============================] - 2s 1ms/step - loss: 0.2260 - accuracy: 0.9180 - val_loss: 0.3082 - val_accuracy: 0.8914\n"
     ]
    }
   ],
   "source": [
    "history = model.fit(X_train, y_train, epochs=30, validation_data=(X_valid, y_valid))"
   ]
  },
  {
   "cell_type": "code",
   "execution_count": 23,
   "id": "fabffeea10649f46",
   "metadata": {
    "collapsed": false,
    "jupyter": {
     "outputs_hidden": false
    }
   },
   "outputs": [
    {
     "data": {
      "text/plain": [
       "{'verbose': 1, 'epochs': 30, 'steps': 1719}"
      ]
     },
     "execution_count": 23,
     "metadata": {},
     "output_type": "execute_result"
    }
   ],
   "source": [
    "history.params"
   ]
  },
  {
   "cell_type": "code",
   "execution_count": 24,
   "id": "51a23506d5108e1",
   "metadata": {
    "collapsed": false,
    "jupyter": {
     "outputs_hidden": false
    }
   },
   "outputs": [
    {
     "data": {
      "text/plain": [
       "30"
      ]
     },
     "execution_count": 24,
     "metadata": {},
     "output_type": "execute_result"
    }
   ],
   "source": [
    "len(history.epoch)"
   ]
  },
  {
   "cell_type": "code",
   "execution_count": 25,
   "id": "74866b1b66c2d3a8",
   "metadata": {
    "collapsed": false,
    "jupyter": {
     "outputs_hidden": false
    }
   },
   "outputs": [
    {
     "data": {
      "text/plain": [
       "dict_keys(['loss', 'accuracy', 'val_loss', 'val_accuracy'])"
      ]
     },
     "execution_count": 25,
     "metadata": {},
     "output_type": "execute_result"
    }
   ],
   "source": [
    "history.history.keys()"
   ]
  },
  {
   "cell_type": "code",
   "execution_count": 26,
   "id": "bc8f465e0085ce6e",
   "metadata": {
    "collapsed": false,
    "jupyter": {
     "outputs_hidden": false
    }
   },
   "outputs": [
    {
     "data": {
      "image/png": "[encoded data removed]",
      "text/plain": [
       "<Figure size 800x500 with 1 Axes>"
      ]
     },
     "metadata": {},
     "output_type": "display_data"
    }
   ],
   "source": [
    "pd.DataFrame(history.history).plot(figsize=(8, 5))\n",
    "plt.grid(True)\n",
    "plt.gca().set_ylim(0, 1) # set the vertical range to [0-1]\n",
    "plt.show()"
   ]
  },
  {
   "cell_type": "code",
   "execution_count": 27,
   "id": "c2ecaf9ba80ba35",
   "metadata": {
    "collapsed": false,
    "jupyter": {
     "outputs_hidden": false
    }
   },
   "outputs": [
    {
     "name": "stdout",
     "output_type": "stream",
     "text": [
      "313/313 [==============================] - 0s 778us/step - loss: 0.3416 - accuracy: 0.8784\n"
     ]
    },
    {
     "data": {
      "text/plain": [
       "[0.34156355261802673, 0.8784000277519226]"
      ]
     },
     "execution_count": 27,
     "metadata": {},
     "output_type": "execute_result"
    }
   ],
   "source": [
    "model.evaluate(X_test, y_test)"
   ]
  },
  {
   "cell_type": "markdown",
   "id": "db2c144831b71a26",
   "metadata": {
    "collapsed": false,
    "jupyter": {
     "outputs_hidden": false
    }
   },
   "source": [
    "##### Using the model to make predictions"
   ]
  },
  {
   "cell_type": "code",
   "execution_count": 28,
   "id": "ba3d8414ecf4d3a9",
   "metadata": {
    "collapsed": false,
    "jupyter": {
     "outputs_hidden": false
    }
   },
   "outputs": [
    {
     "data": {
      "text/plain": [
       "array([[0.  , 0.  , 0.  , 0.  , 0.  , 0.03, 0.  , 0.04, 0.  , 0.93],\n",
       "       [0.  , 0.  , 0.99, 0.  , 0.01, 0.  , 0.  , 0.  , 0.  , 0.  ],\n",
       "       [0.  , 1.  , 0.  , 0.  , 0.  , 0.  , 0.  , 0.  , 0.  , 0.  ]],\n",
       "      dtype=float32)"
      ]
     },
     "execution_count": 28,
     "metadata": {},
     "output_type": "execute_result"
    }
   ],
   "source": [
    "X_new = X_test[:3]\n",
    "y_proba = model.predict(X_new, verbose=0)\n",
    "y_proba.round(2)"
   ]
  },
  {
   "cell_type": "code",
   "execution_count": 29,
   "id": "4abbb7aef9aece9a",
   "metadata": {
    "collapsed": false,
    "jupyter": {
     "outputs_hidden": false
    }
   },
   "outputs": [
    {
     "data": {
      "text/plain": [
       "array([9, 2, 1], dtype=int64)"
      ]
     },
     "execution_count": 29,
     "metadata": {},
     "output_type": "execute_result"
    }
   ],
   "source": [
    "y_pred = np.argmax(model.predict(X_new, verbose=0), axis=-1)\n",
    "y_pred"
   ]
  },
  {
   "cell_type": "code",
   "execution_count": 30,
   "id": "2ef2b995d2ddb902",
   "metadata": {
    "collapsed": false,
    "jupyter": {
     "outputs_hidden": false
    }
   },
   "outputs": [
    {
     "data": {
      "text/plain": [
       "array(['Ankle boot', 'Pullover', 'Trouser'], dtype='<U11')"
      ]
     },
     "execution_count": 30,
     "metadata": {},
     "output_type": "execute_result"
    }
   ],
   "source": [
    "np.array(class_names)[y_pred]"
   ]
  },
  {
   "cell_type": "code",
   "execution_count": 31,
   "id": "4051869ba49eb95",
   "metadata": {
    "collapsed": false,
    "jupyter": {
     "outputs_hidden": false
    }
   },
   "outputs": [
    {
     "data": {
      "text/plain": [
       "array([9, 2, 1], dtype=uint8)"
      ]
     },
     "execution_count": 31,
     "metadata": {},
     "output_type": "execute_result"
    }
   ],
   "source": [
    "y_new = y_test[:3]\n",
    "y_new"
   ]
  },
  {
   "cell_type": "markdown",
   "id": "589dcd4fb1aa62b4",
   "metadata": {
    "collapsed": false,
    "jupyter": {
     "outputs_hidden": false
    }
   },
   "source": [
    "#### Building a Regression MLP Using the Sequential API"
   ]
  },
  {
   "cell_type": "code",
   "execution_count": 32,
   "id": "f155ec360cb4f242",
   "metadata": {
    "collapsed": false,
    "jupyter": {
     "outputs_hidden": false
    }
   },
   "outputs": [],
   "source": [
    "from sklearn.datasets import fetch_california_housing\n",
    "from sklearn.model_selection import train_test_split\n",
    "from sklearn.preprocessing import StandardScaler\n",
    "\n",
    "housing = fetch_california_housing()\n",
    "\n",
    "X_train_full, X_test, y_train_full, y_test = train_test_split(housing.data, housing.target, random_state=42)\n",
    "X_train, X_valid, y_train, y_valid = train_test_split(X_train_full, y_train_full, random_state=42)\n",
    "\n",
    "scaler = StandardScaler()\n",
    "X_train = scaler.fit_transform(X_train)\n",
    "X_valid = scaler.transform(X_valid)\n",
    "X_test = scaler.transform(X_test)"
   ]
  },
  {
   "cell_type": "code",
   "execution_count": 33,
   "id": "937d67c76dd5a93f",
   "metadata": {
    "collapsed": false,
    "jupyter": {
     "outputs_hidden": false
    }
   },
   "outputs": [
    {
     "name": "stdout",
     "output_type": "stream",
     "text": [
      "Epoch 1/20\n",
      "363/363 [==============================] - 0s 963us/step - loss: 2.2311 - val_loss: 1.9820\n",
      "Epoch 2/20\n",
      "363/363 [==============================] - 0s 768us/step - loss: 0.7855 - val_loss: 0.7990\n",
      "Epoch 3/20\n",
      "363/363 [==============================] - 0s 860us/step - loss: 0.6530 - val_loss: 0.6111\n",
      "Epoch 4/20\n",
      "363/363 [==============================] - 0s 775us/step - loss: 0.6062 - val_loss: 0.5740\n",
      "Epoch 5/20\n",
      "363/363 [==============================] - 0s 769us/step - loss: 0.5736 - val_loss: 0.5440\n",
      "Epoch 6/20\n",
      "363/363 [==============================] - 0s 807us/step - loss: 0.5472 - val_loss: 0.5222\n",
      "Epoch 7/20\n",
      "363/363 [==============================] - 0s 768us/step - loss: 0.5262 - val_loss: 0.4948\n",
      "Epoch 8/20\n",
      "363/363 [==============================] - 0s 817us/step - loss: 0.5090 - val_loss: 0.4862\n",
      "Epoch 9/20\n",
      "363/363 [==============================] - 0s 781us/step - loss: 0.4945 - val_loss: 0.4721\n",
      "Epoch 10/20\n",
      "363/363 [==============================] - 0s 841us/step - loss: 0.4825 - val_loss: 0.4592\n",
      "Epoch 11/20\n",
      "363/363 [==============================] - 0s 778us/step - loss: 0.4726 - val_loss: 0.4637\n",
      "Epoch 12/20\n",
      "363/363 [==============================] - 0s 765us/step - loss: 0.4638 - val_loss: 0.4517\n",
      "Epoch 13/20\n",
      "363/363 [==============================] - 0s 770us/step - loss: 0.4566 - val_loss: 0.4593\n",
      "Epoch 14/20\n",
      "363/363 [==============================] - 0s 828us/step - loss: 0.4505 - val_loss: 0.4398\n",
      "Epoch 15/20\n",
      "363/363 [==============================] - 0s 816us/step - loss: 0.4453 - val_loss: 0.4449\n",
      "Epoch 16/20\n",
      "363/363 [==============================] - 0s 775us/step - loss: 0.4410 - val_loss: 0.4475\n",
      "Epoch 17/20\n",
      "363/363 [==============================] - 0s 827us/step - loss: 0.4373 - val_loss: 0.4527\n",
      "Epoch 18/20\n",
      "363/363 [==============================] - 0s 855us/step - loss: 0.4339 - val_loss: 0.4478\n",
      "Epoch 19/20\n",
      "363/363 [==============================] - 0s 778us/step - loss: 0.4307 - val_loss: 0.4421\n",
      "Epoch 20/20\n",
      "363/363 [==============================] - 0s 836us/step - loss: 0.4283 - val_loss: 0.4721\n"
     ]
    }
   ],
   "source": [
    "model = keras.models.Sequential([\n",
    "    keras.layers.Dense(30, activation=\"relu\", input_shape=X_train.shape[1:]),\n",
    "    keras.layers.Dense(1)\n",
    "])\n",
    "model.compile(loss=\"mean_squared_error\", optimizer=keras.optimizers.SGD(learning_rate=1e-3))\n",
    "history = model.fit(X_train, y_train, epochs=20, validation_data=(X_valid, y_valid))"
   ]
  },
  {
   "cell_type": "code",
   "execution_count": 34,
   "id": "882dffcacb829a90",
   "metadata": {
    "collapsed": false,
    "jupyter": {
     "outputs_hidden": false
    }
   },
   "outputs": [
    {
     "data": {
      "image/png": "[encoded data removed]",
      "text/plain": [
       "<Figure size 640x480 with 1 Axes>"
      ]
     },
     "metadata": {},
     "output_type": "display_data"
    }
   ],
   "source": [
    "plt.plot(pd.DataFrame(history.history))\n",
    "plt.grid(True)\n",
    "plt.gca().set_ylim(0, 1)\n",
    "plt.show()"
   ]
  },
  {
   "cell_type": "code",
   "execution_count": 35,
   "id": "b4ce1684c39ddaf2",
   "metadata": {
    "collapsed": false,
    "jupyter": {
     "outputs_hidden": false
    }
   },
   "outputs": [
    {
     "name": "stdout",
     "output_type": "stream",
     "text": [
      "162/162 [==============================] - 0s 543us/step - loss: 0.4197\n"
     ]
    },
    {
     "data": {
      "text/plain": [
       "0.4196930229663849"
      ]
     },
     "execution_count": 35,
     "metadata": {},
     "output_type": "execute_result"
    }
   ],
   "source": [
    "model.evaluate(X_test, y_test)"
   ]
  },
  {
   "cell_type": "code",
   "execution_count": 36,
   "id": "4507daff65b29270",
   "metadata": {
    "collapsed": false,
    "jupyter": {
     "outputs_hidden": false
    }
   },
   "outputs": [
    {
     "data": {
      "text/plain": [
       "array([[0.52453136],\n",
       "       [1.7489448 ],\n",
       "       [3.513623  ]], dtype=float32)"
      ]
     },
     "execution_count": 36,
     "metadata": {},
     "output_type": "execute_result"
    }
   ],
   "source": [
    "X_new = X_test[:3]\n",
    "y_pred = model.predict(X_new, verbose=0)\n",
    "y_pred"
   ]
  },
  {
   "cell_type": "code",
   "execution_count": 37,
   "id": "bb0c4c02116fb013",
   "metadata": {
    "collapsed": false,
    "jupyter": {
     "outputs_hidden": false
    }
   },
   "outputs": [
    {
     "data": {
      "text/plain": [
       "array([0.477  , 0.458  , 5.00001])"
      ]
     },
     "execution_count": 37,
     "metadata": {},
     "output_type": "execute_result"
    }
   ],
   "source": [
    "y_new = y_test[:3]\n",
    "y_new"
   ]
  },
  {
   "cell_type": "markdown",
   "id": "a44fdd443314daf",
   "metadata": {
    "collapsed": false,
    "jupyter": {
     "outputs_hidden": false
    }
   },
   "source": [
    "#### Building Complex Models Using the Functional API"
   ]
  },
  {
   "cell_type": "code",
   "execution_count": 38,
   "id": "cec46e47eafd4b0f",
   "metadata": {
    "collapsed": false,
    "jupyter": {
     "outputs_hidden": false
    }
   },
   "outputs": [],
   "source": [
    "input_ = keras.layers.Input(shape=X_train.shape[1:])\n",
    "hidden1 = keras.layers.Dense(30, activation=\"relu\")(input_)\n",
    "hidden2 = keras.layers.Dense(30, activation=\"relu\")(hidden1)\n",
    "concat = keras.layers.concatenate([input_, hidden2])\n",
    "output = keras.layers.Dense(1)(concat)\n",
    "model = keras.models.Model(inputs=[input_], outputs=[output])"
   ]
  },
  {
   "cell_type": "code",
   "execution_count": 39,
   "id": "4e4f3da528581633",
   "metadata": {
    "collapsed": false,
    "jupyter": {
     "outputs_hidden": false
    }
   },
   "outputs": [
    {
     "name": "stdout",
     "output_type": "stream",
     "text": [
      "Model: \"model\"\n",
      "__________________________________________________________________________________________________\n",
      " Layer (type)                Output Shape                 Param #   Connected to                  \n",
      "==================================================================================================\n",
      " input_1 (InputLayer)        [(None, 8)]                  0         []                            \n",
      "                                                                                                  \n",
      " dense_5 (Dense)             (None, 30)                   270       ['input_1[0][0]']             \n",
      "                                                                                                  \n",
      " dense_6 (Dense)             (None, 30)                   930       ['dense_5[0][0]']             \n",
      "                                                                                                  \n",
      " concatenate (Concatenate)   (None, 38)                   0         ['input_1[0][0]',             \n",
      "                                                                     'dense_6[0][0]']             \n",
      "                                                                                                  \n",
      " dense_7 (Dense)             (None, 1)                    39        ['concatenate[0][0]']         \n",
      "                                                                                                  \n",
      "==================================================================================================\n",
      "Total params: 1239 (4.84 KB)\n",
      "Trainable params: 1239 (4.84 KB)\n",
      "Non-trainable params: 0 (0.00 Byte)\n",
      "__________________________________________________________________________________________________\n"
     ]
    }
   ],
   "source": [
    "model.summary()"
   ]
  },
  {
   "cell_type": "code",
   "execution_count": 40,
   "id": "c68bdad084ac1afb",
   "metadata": {
    "collapsed": false,
    "jupyter": {
     "outputs_hidden": false
    }
   },
   "outputs": [],
   "source": [
    "input_A = keras.layers.Input(shape=[5], name=\"wide_input\")\n",
    "input_B = keras.layers.Input(shape=[6], name=\"deep_input\")\n",
    "hidden1 = keras.layers.Dense(30, activation=\"relu\")(input_B)\n",
    "hidden2 = keras.layers.Dense(30, activation=\"relu\")(hidden1)\n",
    "concat = keras.layers.concatenate([input_A, hidden2])\n",
    "output = keras.layers.Dense(1, name=\"output\")(concat)\n",
    "model = keras.models.Model(inputs=[input_A, input_B], outputs=[output])"
   ]
  },
  {
   "cell_type": "code",
   "execution_count": 41,
   "id": "c7c9f34cdf09a11d",
   "metadata": {
    "collapsed": false,
    "jupyter": {
     "outputs_hidden": false
    }
   },
   "outputs": [
    {
     "name": "stdout",
     "output_type": "stream",
     "text": [
      "Model: \"model_1\"\n",
      "__________________________________________________________________________________________________\n",
      " Layer (type)                Output Shape                 Param #   Connected to                  \n",
      "==================================================================================================\n",
      " deep_input (InputLayer)     [(None, 6)]                  0         []                            \n",
      "                                                                                                  \n",
      " dense_8 (Dense)             (None, 30)                   210       ['deep_input[0][0]']          \n",
      "                                                                                                  \n",
      " wide_input (InputLayer)     [(None, 5)]                  0         []                            \n",
      "                                                                                                  \n",
      " dense_9 (Dense)             (None, 30)                   930       ['dense_8[0][0]']             \n",
      "                                                                                                  \n",
      " concatenate_1 (Concatenate  (None, 35)                   0         ['wide_input[0][0]',          \n",
      " )                                                                   'dense_9[0][0]']             \n",
      "                                                                                                  \n",
      " output (Dense)              (None, 1)                    36        ['concatenate_1[0][0]']       \n",
      "                                                                                                  \n",
      "==================================================================================================\n",
      "Total params: 1176 (4.59 KB)\n",
      "Trainable params: 1176 (4.59 KB)\n",
      "Non-trainable params: 0 (0.00 Byte)\n",
      "__________________________________________________________________________________________________\n"
     ]
    }
   ],
   "source": [
    "model.summary()"
   ]
  },
  {
   "cell_type": "code",
   "execution_count": 42,
   "id": "1a5b90320a76d2ba",
   "metadata": {
    "collapsed": false,
    "jupyter": {
     "outputs_hidden": false
    }
   },
   "outputs": [
    {
     "name": "stdout",
     "output_type": "stream",
     "text": [
      "Epoch 1/20\n",
      "363/363 [==============================] - 1s 1ms/step - loss: 1.9922 - val_loss: 1.0295\n",
      "Epoch 2/20\n",
      "363/363 [==============================] - 0s 855us/step - loss: 0.8145 - val_loss: 0.7511\n",
      "Epoch 3/20\n",
      "363/363 [==============================] - 0s 912us/step - loss: 0.7200 - val_loss: 0.7274\n",
      "Epoch 4/20\n",
      "363/363 [==============================] - 0s 906us/step - loss: 0.6809 - val_loss: 0.6654\n",
      "Epoch 5/20\n",
      "363/363 [==============================] - 0s 901us/step - loss: 0.6551 - val_loss: 0.6272\n",
      "Epoch 6/20\n",
      "363/363 [==============================] - 0s 874us/step - loss: 0.6320 - val_loss: 0.6205\n",
      "Epoch 7/20\n",
      "363/363 [==============================] - 0s 906us/step - loss: 0.6123 - val_loss: 0.6222\n",
      "Epoch 8/20\n",
      "363/363 [==============================] - 0s 875us/step - loss: 0.5932 - val_loss: 0.5695\n",
      "Epoch 9/20\n",
      "363/363 [==============================] - 0s 927us/step - loss: 0.5746 - val_loss: 0.5549\n",
      "Epoch 10/20\n",
      "363/363 [==============================] - 0s 958us/step - loss: 0.5579 - val_loss: 0.5730\n",
      "Epoch 11/20\n",
      "363/363 [==============================] - 0s 872us/step - loss: 0.5435 - val_loss: 0.5069\n",
      "Epoch 12/20\n",
      "363/363 [==============================] - 0s 863us/step - loss: 0.5300 - val_loss: 0.5324\n",
      "Epoch 13/20\n",
      "363/363 [==============================] - 0s 949us/step - loss: 0.5187 - val_loss: 0.4946\n",
      "Epoch 14/20\n",
      "363/363 [==============================] - 0s 864us/step - loss: 0.5083 - val_loss: 0.4805\n",
      "Epoch 15/20\n",
      "363/363 [==============================] - 0s 852us/step - loss: 0.4989 - val_loss: 0.4682\n",
      "Epoch 16/20\n",
      "363/363 [==============================] - 0s 860us/step - loss: 0.4907 - val_loss: 0.4640\n",
      "Epoch 17/20\n",
      "363/363 [==============================] - 0s 922us/step - loss: 0.4831 - val_loss: 0.4546\n",
      "Epoch 18/20\n",
      "363/363 [==============================] - 0s 876us/step - loss: 0.4770 - val_loss: 0.4426\n",
      "Epoch 19/20\n",
      "363/363 [==============================] - 0s 897us/step - loss: 0.4708 - val_loss: 0.4411\n",
      "Epoch 20/20\n",
      "363/363 [==============================] - 0s 868us/step - loss: 0.4658 - val_loss: 0.4312\n"
     ]
    }
   ],
   "source": [
    "model.compile(loss=\"mse\", optimizer=keras.optimizers.SGD(learning_rate=1e-3))\n",
    "\n",
    "X_train_A, X_train_B = X_train[:, :5], X_train[:, 2:]\n",
    "X_valid_A, X_valid_B = X_valid[:, :5], X_valid[:, 2:]\n",
    "X_test_A, X_test_B = X_test[:, :5], X_test[:, 2:]\n",
    "X_new_A, X_new_B = X_test_A[:3], X_test_B[:3]\n",
    "\n",
    "model.fit((X_train_A, X_train_B), y_train, epochs=20, validation_data=((X_valid_A, X_valid_B), y_valid));"
   ]
  },
  {
   "cell_type": "code",
   "execution_count": 43,
   "id": "8fd57d74990dea1b",
   "metadata": {
    "collapsed": false,
    "jupyter": {
     "outputs_hidden": false
    }
   },
   "outputs": [
    {
     "name": "stdout",
     "output_type": "stream",
     "text": [
      "162/162 [==============================] - 0s 560us/step - loss: 0.4590\n"
     ]
    },
    {
     "data": {
      "text/plain": [
       "0.4590250253677368"
      ]
     },
     "execution_count": 43,
     "metadata": {},
     "output_type": "execute_result"
    }
   ],
   "source": [
    "model.evaluate((X_test_A, X_test_B), y_test)"
   ]
  },
  {
   "cell_type": "code",
   "execution_count": 44,
   "id": "3735e8379a02c35e",
   "metadata": {
    "collapsed": false,
    "jupyter": {
     "outputs_hidden": false
    }
   },
   "outputs": [
    {
     "data": {
      "text/plain": [
       "array([[0.45941347],\n",
       "       [1.6174605 ],\n",
       "       [3.350224  ]], dtype=float32)"
      ]
     },
     "execution_count": 44,
     "metadata": {},
     "output_type": "execute_result"
    }
   ],
   "source": [
    "y_pred = model.predict((X_new_A, X_new_B), verbose=0)\n",
    "y_pred"
   ]
  },
  {
   "cell_type": "code",
   "execution_count": 45,
   "id": "6d77d73f2128022c",
   "metadata": {
    "collapsed": false,
    "jupyter": {
     "outputs_hidden": false
    }
   },
   "outputs": [
    {
     "name": "stdout",
     "output_type": "stream",
     "text": [
      "Epoch 1/20\n",
      "363/363 [==============================] - 1s 1ms/step - loss: 2.6121 - main_output_loss: 2.2488 - aux_output_loss: 5.8823 - val_loss: 2.2468 - val_main_output_loss: 1.9547 - val_aux_output_loss: 4.8752\n",
      "Epoch 2/20\n",
      "363/363 [==============================] - 0s 960us/step - loss: 1.0991 - main_output_loss: 0.7693 - aux_output_loss: 4.0681 - val_loss: 0.9883 - val_main_output_loss: 0.7457 - val_aux_output_loss: 3.1714\n",
      "Epoch 3/20\n",
      "363/363 [==============================] - 0s 965us/step - loss: 0.8619 - main_output_loss: 0.6550 - aux_output_loss: 2.7239 - val_loss: 0.7877 - val_main_output_loss: 0.6030 - val_aux_output_loss: 2.4504\n",
      "Epoch 4/20\n",
      "363/363 [==============================] - 0s 1ms/step - loss: 0.7511 - main_output_loss: 0.6111 - aux_output_loss: 2.0110 - val_loss: 0.7331 - val_main_output_loss: 0.5736 - val_aux_output_loss: 2.1689\n",
      "Epoch 5/20\n",
      "363/363 [==============================] - 0s 972us/step - loss: 0.6904 - main_output_loss: 0.5819 - aux_output_loss: 1.6660 - val_loss: 0.7003 - val_main_output_loss: 0.5529 - val_aux_output_loss: 2.0270\n",
      "Epoch 6/20\n",
      "363/363 [==============================] - 0s 969us/step - loss: 0.6528 - main_output_loss: 0.5584 - aux_output_loss: 1.5027 - val_loss: 0.6765 - val_main_output_loss: 0.5374 - val_aux_output_loss: 1.9282\n",
      "Epoch 7/20\n",
      "363/363 [==============================] - 0s 912us/step - loss: 0.6266 - main_output_loss: 0.5386 - aux_output_loss: 1.4189 - val_loss: 0.6550 - val_main_output_loss: 0.5263 - val_aux_output_loss: 1.8131\n",
      "Epoch 8/20\n",
      "363/363 [==============================] - 0s 915us/step - loss: 0.6066 - main_output_loss: 0.5221 - aux_output_loss: 1.3671 - val_loss: 0.6316 - val_main_output_loss: 0.5101 - val_aux_output_loss: 1.7252\n",
      "Epoch 9/20\n",
      "363/363 [==============================] - 0s 1ms/step - loss: 0.5899 - main_output_loss: 0.5076 - aux_output_loss: 1.3310 - val_loss: 0.6093 - val_main_output_loss: 0.4947 - val_aux_output_loss: 1.6411\n",
      "Epoch 10/20\n",
      "363/363 [==============================] - 0s 915us/step - loss: 0.5761 - main_output_loss: 0.4956 - aux_output_loss: 1.3000 - val_loss: 0.5894 - val_main_output_loss: 0.4827 - val_aux_output_loss: 1.5497\n",
      "Epoch 11/20\n",
      "363/363 [==============================] - 0s 931us/step - loss: 0.5645 - main_output_loss: 0.4858 - aux_output_loss: 1.2722 - val_loss: 0.5680 - val_main_output_loss: 0.4656 - val_aux_output_loss: 1.4897\n",
      "Epoch 12/20\n",
      "363/363 [==============================] - 0s 951us/step - loss: 0.5541 - main_output_loss: 0.4772 - aux_output_loss: 1.2462 - val_loss: 0.5524 - val_main_output_loss: 0.4564 - val_aux_output_loss: 1.4166\n",
      "Epoch 13/20\n",
      "363/363 [==============================] - 0s 936us/step - loss: 0.5451 - main_output_loss: 0.4699 - aux_output_loss: 1.2216 - val_loss: 0.5368 - val_main_output_loss: 0.4451 - val_aux_output_loss: 1.3617\n",
      "Epoch 14/20\n",
      "363/363 [==============================] - 0s 1ms/step - loss: 0.5371 - main_output_loss: 0.4637 - aux_output_loss: 1.1978 - val_loss: 0.5244 - val_main_output_loss: 0.4376 - val_aux_output_loss: 1.3055\n",
      "Epoch 15/20\n",
      "363/363 [==============================] - 0s 982us/step - loss: 0.5300 - main_output_loss: 0.4584 - aux_output_loss: 1.1742 - val_loss: 0.5123 - val_main_output_loss: 0.4285 - val_aux_output_loss: 1.2668\n",
      "Epoch 16/20\n",
      "363/363 [==============================] - 0s 911us/step - loss: 0.5235 - main_output_loss: 0.4536 - aux_output_loss: 1.1525 - val_loss: 0.5026 - val_main_output_loss: 0.4230 - val_aux_output_loss: 1.2190\n",
      "Epoch 17/20\n",
      "363/363 [==============================] - 0s 954us/step - loss: 0.5177 - main_output_loss: 0.4496 - aux_output_loss: 1.1305 - val_loss: 0.4941 - val_main_output_loss: 0.4177 - val_aux_output_loss: 1.1820\n",
      "Epoch 18/20\n",
      "363/363 [==============================] - 0s 985us/step - loss: 0.5122 - main_output_loss: 0.4458 - aux_output_loss: 1.1095 - val_loss: 0.4864 - val_main_output_loss: 0.4128 - val_aux_output_loss: 1.1488\n",
      "Epoch 19/20\n",
      "363/363 [==============================] - 0s 914us/step - loss: 0.5071 - main_output_loss: 0.4423 - aux_output_loss: 1.0894 - val_loss: 0.4804 - val_main_output_loss: 0.4099 - val_aux_output_loss: 1.1150\n",
      "Epoch 20/20\n",
      "363/363 [==============================] - 0s 987us/step - loss: 0.5027 - main_output_loss: 0.4396 - aux_output_loss: 1.0701 - val_loss: 0.4759 - val_main_output_loss: 0.4072 - val_aux_output_loss: 1.0939\n"
     ]
    }
   ],
   "source": [
    "input_A = keras.layers.Input(shape=[5], name=\"wide_input\")\n",
    "input_B = keras.layers.Input(shape=[6], name=\"deep_input\")\n",
    "hidden1 = keras.layers.Dense(30, activation=\"relu\")(input_B)\n",
    "hidden2 = keras.layers.Dense(30, activation=\"relu\")(hidden1)\n",
    "concat = keras.layers.concatenate([input_A, hidden2])\n",
    "output = keras.layers.Dense(1, name=\"main_output\")(concat)\n",
    "aux_output = keras.layers.Dense(1, name=\"aux_output\")(hidden2)\n",
    "model = keras.models.Model(inputs=[input_A, input_B], outputs=[output, aux_output])\n",
    "\n",
    "model.compile(loss=[\"mse\", \"mse\"], loss_weights=[0.9, 0.1], optimizer=keras.optimizers.SGD(learning_rate=1e-3))\n",
    "model.fit([X_train_A, X_train_B], [y_train, y_train], epochs=20, \n",
    "          validation_data=([X_valid_A, X_valid_B], [y_valid, y_valid]));"
   ]
  },
  {
   "cell_type": "code",
   "execution_count": 46,
   "id": "6b6eef4c61029c02",
   "metadata": {
    "collapsed": false,
    "jupyter": {
     "outputs_hidden": false
    }
   },
   "outputs": [
    {
     "name": "stdout",
     "output_type": "stream",
     "text": [
      "162/162 [==============================] - 0s 692us/step - loss: 0.4929 - main_output_loss: 0.4317 - aux_output_loss: 1.0431\n"
     ]
    },
    {
     "data": {
      "text/plain": [
       "[0.49287813901901245, 0.4317425489425659, 1.0430991649627686]"
      ]
     },
     "execution_count": 46,
     "metadata": {},
     "output_type": "execute_result"
    }
   ],
   "source": [
    "model.evaluate([X_test_A, X_test_B], [y_test, y_test]) # total_loss, main_loss, aux_loss"
   ]
  },
  {
   "cell_type": "code",
   "execution_count": 47,
   "id": "d208b808681faae1",
   "metadata": {
    "collapsed": false,
    "jupyter": {
     "outputs_hidden": false
    }
   },
   "outputs": [
    {
     "data": {
      "text/plain": [
       "(array([[0.40985888],\n",
       "        [1.9966998 ],\n",
       "        [3.1292746 ]], dtype=float32),\n",
       " array([[1.482746 ],\n",
       "        [1.9556766],\n",
       "        [2.7036757]], dtype=float32))"
      ]
     },
     "execution_count": 47,
     "metadata": {},
     "output_type": "execute_result"
    }
   ],
   "source": [
    "y_pred_main, y_pred_aux = model.predict((X_new_A, X_new_B), verbose=0)\n",
    "y_pred_main, y_pred_aux"
   ]
  },
  {
   "cell_type": "markdown",
   "id": "2fc0a47ddc167d49",
   "metadata": {
    "collapsed": false,
    "jupyter": {
     "outputs_hidden": false
    }
   },
   "source": [
    "#### Using the Subclassing API to Build Dynamic Models"
   ]
  },
  {
   "cell_type": "code",
   "execution_count": 48,
   "id": "4c38574b47f7dd1f",
   "metadata": {
    "collapsed": false,
    "jupyter": {
     "outputs_hidden": false
    }
   },
   "outputs": [],
   "source": [
    "class WideAndDeepModel(keras.models.Model):\n",
    "    def __init__(self, units=30, activation=\"relu\", **kwargs):\n",
    "        super().__init__(**kwargs)\n",
    "        self.hidden1 = keras.layers.Dense(units, activation=activation)\n",
    "        self.hidden2 = keras.layers.Dense(units, activation=activation)\n",
    "        self.main_output = keras.layers.Dense(1)\n",
    "        self.aux_output = keras.layers.Dense(1)\n",
    "    \n",
    "    def call(self, inputs, training=None, mask=None):\n",
    "        input_A, input_B = inputs\n",
    "        hidden1 = self.hidden1(input_B)\n",
    "        hidden2 = self.hidden2(hidden1)\n",
    "        concat = keras.layers.concatenate([input_A, hidden2])\n",
    "        main_output = self.main_output(concat)\n",
    "        aux_output = self.aux_output(hidden2)\n",
    "        return main_output, aux_output\n",
    "\n",
    "model = WideAndDeepModel(30, activation=\"relu\")"
   ]
  },
  {
   "cell_type": "code",
   "execution_count": 49,
   "id": "50ce91acb9ce900",
   "metadata": {
    "collapsed": false,
    "jupyter": {
     "outputs_hidden": false
    }
   },
   "outputs": [
    {
     "name": "stdout",
     "output_type": "stream",
     "text": [
      "Epoch 1/20\n",
      "363/363 [==============================] - 1s 1ms/step - loss: 2.8865 - output_1_loss: 2.7593 - output_2_loss: 4.0317 - val_loss: 4.2122 - val_output_1_loss: 4.0011 - val_output_2_loss: 6.1119\n",
      "Epoch 2/20\n",
      "363/363 [==============================] - 0s 923us/step - loss: 1.1477 - output_1_loss: 0.9879 - output_2_loss: 2.5856 - val_loss: 1.5541 - val_output_1_loss: 1.2478 - val_output_2_loss: 4.3103\n",
      "Epoch 3/20\n",
      "363/363 [==============================] - 0s 954us/step - loss: 0.9065 - output_1_loss: 0.7881 - output_2_loss: 1.9727 - val_loss: 0.9884 - val_output_1_loss: 0.7272 - val_output_2_loss: 3.3392\n",
      "Epoch 4/20\n",
      "363/363 [==============================] - 0s 966us/step - loss: 0.8227 - output_1_loss: 0.7264 - output_2_loss: 1.6889 - val_loss: 0.9229 - val_output_1_loss: 0.6828 - val_output_2_loss: 3.0845\n",
      "Epoch 5/20\n",
      "363/363 [==============================] - 0s 978us/step - loss: 0.7768 - output_1_loss: 0.6913 - output_2_loss: 1.5466 - val_loss: 0.8687 - val_output_1_loss: 0.6558 - val_output_2_loss: 2.7850\n",
      "Epoch 6/20\n",
      "363/363 [==============================] - 0s 913us/step - loss: 0.7434 - output_1_loss: 0.6628 - output_2_loss: 1.4688 - val_loss: 0.8143 - val_output_1_loss: 0.6346 - val_output_2_loss: 2.4316\n",
      "Epoch 7/20\n",
      "363/363 [==============================] - 0s 998us/step - loss: 0.7155 - output_1_loss: 0.6376 - output_2_loss: 1.4170 - val_loss: 0.7694 - val_output_1_loss: 0.6238 - val_output_2_loss: 2.0800\n",
      "Epoch 8/20\n",
      "363/363 [==============================] - 0s 963us/step - loss: 0.6912 - output_1_loss: 0.6151 - output_2_loss: 1.3758 - val_loss: 0.7170 - val_output_1_loss: 0.5819 - val_output_2_loss: 1.9333\n",
      "Epoch 9/20\n",
      "363/363 [==============================] - 0s 912us/step - loss: 0.6688 - output_1_loss: 0.5935 - output_2_loss: 1.3467 - val_loss: 0.6827 - val_output_1_loss: 0.5694 - val_output_2_loss: 1.7028\n",
      "Epoch 10/20\n",
      "363/363 [==============================] - 0s 1ms/step - loss: 0.6486 - output_1_loss: 0.5742 - output_2_loss: 1.3184 - val_loss: 0.6669 - val_output_1_loss: 0.5739 - val_output_2_loss: 1.5044\n",
      "Epoch 11/20\n",
      "363/363 [==============================] - 0s 927us/step - loss: 0.6306 - output_1_loss: 0.5571 - output_2_loss: 1.2926 - val_loss: 0.6191 - val_output_1_loss: 0.5186 - val_output_2_loss: 1.5231\n",
      "Epoch 12/20\n",
      "363/363 [==============================] - 0s 984us/step - loss: 0.6133 - output_1_loss: 0.5403 - output_2_loss: 1.2706 - val_loss: 0.6251 - val_output_1_loss: 0.5467 - val_output_2_loss: 1.3314\n",
      "Epoch 13/20\n",
      "363/363 [==============================] - 0s 929us/step - loss: 0.5979 - output_1_loss: 0.5258 - output_2_loss: 1.2465 - val_loss: 0.5899 - val_output_1_loss: 0.5113 - val_output_2_loss: 1.2974\n",
      "Epoch 14/20\n",
      "363/363 [==============================] - 0s 982us/step - loss: 0.5836 - output_1_loss: 0.5125 - output_2_loss: 1.2234 - val_loss: 0.5657 - val_output_1_loss: 0.4879 - val_output_2_loss: 1.2653\n",
      "Epoch 15/20\n",
      "363/363 [==============================] - 0s 945us/step - loss: 0.5704 - output_1_loss: 0.5003 - output_2_loss: 1.2008 - val_loss: 0.5521 - val_output_1_loss: 0.4778 - val_output_2_loss: 1.2205\n",
      "Epoch 16/20\n",
      "363/363 [==============================] - 0s 966us/step - loss: 0.5583 - output_1_loss: 0.4894 - output_2_loss: 1.1791 - val_loss: 0.5510 - val_output_1_loss: 0.4820 - val_output_2_loss: 1.1720\n",
      "Epoch 17/20\n",
      "363/363 [==============================] - 0s 953us/step - loss: 0.5482 - output_1_loss: 0.4804 - output_2_loss: 1.1581 - val_loss: 0.5222 - val_output_1_loss: 0.4513 - val_output_2_loss: 1.1599\n",
      "Epoch 18/20\n",
      "363/363 [==============================] - 0s 952us/step - loss: 0.5387 - output_1_loss: 0.4722 - output_2_loss: 1.1371 - val_loss: 0.5088 - val_output_1_loss: 0.4391 - val_output_2_loss: 1.1358\n",
      "Epoch 19/20\n",
      "363/363 [==============================] - 0s 952us/step - loss: 0.5300 - output_1_loss: 0.4647 - output_2_loss: 1.1174 - val_loss: 0.5177 - val_output_1_loss: 0.4532 - val_output_2_loss: 1.0991\n",
      "Epoch 20/20\n",
      "363/363 [==============================] - 0s 901us/step - loss: 0.5234 - output_1_loss: 0.4595 - output_2_loss: 1.0984 - val_loss: 0.4933 - val_output_1_loss: 0.4277 - val_output_2_loss: 1.0835\n"
     ]
    }
   ],
   "source": [
    "model.compile(loss=\"mse\", loss_weights=[0.9, 0.1], optimizer=keras.optimizers.SGD(learning_rate=1e-3))\n",
    "model.fit((X_train_A, X_train_B), (y_train, y_train), epochs=20, \n",
    "          validation_data=((X_valid_A, X_valid_B), (y_valid, y_valid)));"
   ]
  },
  {
   "cell_type": "code",
   "execution_count": 50,
   "id": "52226e9cb4f2a7a4",
   "metadata": {
    "collapsed": false,
    "jupyter": {
     "outputs_hidden": false
    }
   },
   "outputs": [
    {
     "name": "stdout",
     "output_type": "stream",
     "text": [
      "162/162 [==============================] - 0s 663us/step - loss: 0.5199 - output_1_loss: 0.4580 - output_2_loss: 1.0769\n"
     ]
    },
    {
     "data": {
      "text/plain": [
       "[0.5198745727539062, 0.45798084139823914, 1.0769187211990356]"
      ]
     },
     "execution_count": 50,
     "metadata": {},
     "output_type": "execute_result"
    }
   ],
   "source": [
    "model.evaluate((X_test_A, X_test_B), (y_test, y_test)) # total_loss, main_loss, aux_loss"
   ]
  },
  {
   "cell_type": "code",
   "execution_count": 51,
   "id": "2055189e9869a5df",
   "metadata": {
    "collapsed": false,
    "jupyter": {
     "outputs_hidden": false
    }
   },
   "outputs": [
    {
     "data": {
      "text/plain": [
       "(array([[0.54179376],\n",
       "        [1.8892593 ],\n",
       "        [2.9359946 ]], dtype=float32),\n",
       " array([[1.2608975],\n",
       "        [1.9434103],\n",
       "        [2.5832918]], dtype=float32))"
      ]
     },
     "execution_count": 51,
     "metadata": {},
     "output_type": "execute_result"
    }
   ],
   "source": [
    "y_pred_main, y_pred_aux = model.predict((X_new_A, X_new_B), verbose=0)\n",
    "y_pred_main, y_pred_aux"
   ]
  },
  {
   "cell_type": "markdown",
   "id": "593e0d013b1fccb5",
   "metadata": {
    "collapsed": false,
    "jupyter": {
     "outputs_hidden": false
    }
   },
   "source": [
    "#### Saving and Restoring a Model"
   ]
  },
  {
   "cell_type": "code",
   "execution_count": 52,
   "id": "5a510ec71d345f73",
   "metadata": {
    "collapsed": false,
    "jupyter": {
     "outputs_hidden": false
    }
   },
   "outputs": [],
   "source": [
    "model = keras.models.Sequential([\n",
    "    keras.layers.Dense(30, activation=\"relu\", input_shape=[8]),\n",
    "    keras.layers.Dense(30, activation=\"relu\"),\n",
    "    keras.layers.Dense(1)\n",
    "])"
   ]
  },
  {
   "cell_type": "code",
   "execution_count": 53,
   "id": "cbb7ae22f3c42466",
   "metadata": {
    "collapsed": false,
    "jupyter": {
     "outputs_hidden": false
    }
   },
   "outputs": [
    {
     "name": "stdout",
     "output_type": "stream",
     "text": [
      "Epoch 1/10\n",
      "363/363 [==============================] - 1s 974us/step - loss: 1.6338 - val_loss: 1.0353\n",
      "Epoch 2/10\n",
      "363/363 [==============================] - 0s 818us/step - loss: 0.7623 - val_loss: 0.8091\n",
      "Epoch 3/10\n",
      "363/363 [==============================] - 0s 880us/step - loss: 0.6937 - val_loss: 0.6988\n",
      "Epoch 4/10\n",
      "363/363 [==============================] - 0s 856us/step - loss: 0.6501 - val_loss: 0.6117\n",
      "Epoch 5/10\n",
      "363/363 [==============================] - 0s 825us/step - loss: 0.6164 - val_loss: 0.5747\n",
      "Epoch 6/10\n",
      "363/363 [==============================] - 0s 869us/step - loss: 0.5864 - val_loss: 0.5514\n",
      "Epoch 7/10\n",
      "363/363 [==============================] - 0s 866us/step - loss: 0.5607 - val_loss: 0.5265\n",
      "Epoch 8/10\n",
      "363/363 [==============================] - 0s 942us/step - loss: 0.5376 - val_loss: 0.5127\n",
      "Epoch 9/10\n",
      "363/363 [==============================] - 0s 872us/step - loss: 0.5172 - val_loss: 0.4970\n",
      "Epoch 10/10\n",
      "363/363 [==============================] - 0s 870us/step - loss: 0.4989 - val_loss: 0.4809\n"
     ]
    }
   ],
   "source": [
    "model.compile(loss=\"mse\", optimizer=keras.optimizers.SGD(learning_rate=1e-3))\n",
    "model.fit(X_train, y_train, epochs=10, validation_data=(X_valid, y_valid));"
   ]
  },
  {
   "cell_type": "code",
   "execution_count": 54,
   "id": "e5e7f8d86ef5e51b",
   "metadata": {
    "collapsed": false,
    "jupyter": {
     "outputs_hidden": false
    }
   },
   "outputs": [
    {
     "name": "stdout",
     "output_type": "stream",
     "text": [
      "162/162 [==============================] - 0s 572us/step - loss: 0.4834\n"
     ]
    },
    {
     "data": {
      "text/plain": [
       "0.48340171575546265"
      ]
     },
     "execution_count": 54,
     "metadata": {},
     "output_type": "execute_result"
    }
   ],
   "source": [
    "model.evaluate(X_test, y_test)"
   ]
  },
  {
   "cell_type": "code",
   "execution_count": 55,
   "id": "3e9b8001-2471-4168-8759-b2ac8f7b2f55",
   "metadata": {},
   "outputs": [
    {
     "data": {
      "text/plain": [
       "array([[0.87849784],\n",
       "       [1.2728844 ],\n",
       "       [3.0125496 ]], dtype=float32)"
      ]
     },
     "execution_count": 55,
     "metadata": {},
     "output_type": "execute_result"
    }
   ],
   "source": [
    "y_pred = model.predict(X_new, verbose=0)\n",
    "y_pred"
   ]
  },
  {
   "cell_type": "code",
   "execution_count": 56,
   "id": "603dcf5011760dc8",
   "metadata": {
    "collapsed": false,
    "jupyter": {
     "outputs_hidden": false
    }
   },
   "outputs": [],
   "source": [
    "model.save(\"temp_model.keras\")\n",
    "model = keras.models.load_model(\"temp_model.keras\")"
   ]
  },
  {
   "cell_type": "code",
   "execution_count": 57,
   "id": "a2aa5ab4cbe9e223",
   "metadata": {
    "collapsed": false,
    "jupyter": {
     "outputs_hidden": false
    }
   },
   "outputs": [
    {
     "name": "stdout",
     "output_type": "stream",
     "text": [
      "162/162 [==============================] - 0s 630us/step - loss: 0.4834\n"
     ]
    },
    {
     "data": {
      "text/plain": [
       "0.48340171575546265"
      ]
     },
     "execution_count": 57,
     "metadata": {},
     "output_type": "execute_result"
    }
   ],
   "source": [
    "model.evaluate(X_test, y_test)"
   ]
  },
  {
   "cell_type": "code",
   "execution_count": 58,
   "id": "a681ef195beb8b36",
   "metadata": {
    "collapsed": false,
    "jupyter": {
     "outputs_hidden": false
    }
   },
   "outputs": [
    {
     "data": {
      "text/plain": [
       "array([[0.87849784],\n",
       "       [1.2728844 ],\n",
       "       [3.0125496 ]], dtype=float32)"
      ]
     },
     "execution_count": 58,
     "metadata": {},
     "output_type": "execute_result"
    }
   ],
   "source": [
    "y_pred = model.predict(X_new, verbose=0)\n",
    "y_pred"
   ]
  },
  {
   "cell_type": "markdown",
   "id": "4d8e61b0a6bab8d5",
   "metadata": {
    "collapsed": false,
    "jupyter": {
     "outputs_hidden": false
    }
   },
   "source": [
    "#### Using Callbacks"
   ]
  },
  {
   "cell_type": "code",
   "execution_count": 59,
   "id": "6ffccc1347aed08f",
   "metadata": {
    "collapsed": false,
    "jupyter": {
     "outputs_hidden": false
    }
   },
   "outputs": [],
   "source": [
    "model = keras.models.Sequential([\n",
    "    keras.layers.Dense(30, activation=\"relu\", input_shape=[8]),\n",
    "    keras.layers.Dense(30, activation=\"relu\"),\n",
    "    keras.layers.Dense(1)\n",
    "])"
   ]
  },
  {
   "cell_type": "code",
   "execution_count": 60,
   "id": "96b113c4768df852",
   "metadata": {
    "collapsed": false,
    "jupyter": {
     "outputs_hidden": false
    }
   },
   "outputs": [
    {
     "name": "stdout",
     "output_type": "stream",
     "text": [
      "Epoch 1/10\n",
      "363/363 [==============================] - 1s 1ms/step - loss: 2.5571 - val_loss: 1.0978\n",
      "Epoch 2/10\n",
      "363/363 [==============================] - 0s 864us/step - loss: 0.8161 - val_loss: 0.6739\n",
      "Epoch 3/10\n",
      "363/363 [==============================] - 0s 904us/step - loss: 0.6637 - val_loss: 0.6394\n",
      "Epoch 4/10\n",
      "363/363 [==============================] - 0s 867us/step - loss: 0.6068 - val_loss: 0.5617\n",
      "Epoch 5/10\n",
      "363/363 [==============================] - 0s 871us/step - loss: 0.5708 - val_loss: 0.5227\n",
      "Epoch 6/10\n",
      "363/363 [==============================] - 0s 871us/step - loss: 0.5388 - val_loss: 0.5068\n",
      "Epoch 7/10\n",
      "363/363 [==============================] - 0s 899us/step - loss: 0.5149 - val_loss: 0.5040\n",
      "Epoch 8/10\n",
      "363/363 [==============================] - 0s 859us/step - loss: 0.4935 - val_loss: 0.4590\n",
      "Epoch 9/10\n",
      "363/363 [==============================] - 0s 878us/step - loss: 0.4748 - val_loss: 0.4494\n",
      "Epoch 10/10\n",
      "363/363 [==============================] - 0s 846us/step - loss: 0.4595 - val_loss: 0.4610\n"
     ]
    }
   ],
   "source": [
    "checkpoint_cb = keras.callbacks.ModelCheckpoint(\"temp_model.keras\", save_best_only=True)\n",
    "\n",
    "model.compile(loss=\"mse\", optimizer=keras.optimizers.SGD(learning_rate=1e-3))\n",
    "model.fit(X_train, y_train, epochs=10, validation_data=(X_valid, y_valid), \n",
    "          callbacks=[checkpoint_cb]);"
   ]
  },
  {
   "cell_type": "code",
   "execution_count": 61,
   "id": "1d2223020fe67b9c",
   "metadata": {
    "collapsed": false,
    "jupyter": {
     "outputs_hidden": false
    }
   },
   "outputs": [],
   "source": [
    "model = keras.models.load_model(\"temp_model.keras\") # rollback to best model"
   ]
  },
  {
   "cell_type": "code",
   "execution_count": 62,
   "id": "c724d6ca52decf33",
   "metadata": {
    "collapsed": false,
    "jupyter": {
     "outputs_hidden": false
    }
   },
   "outputs": [
    {
     "name": "stdout",
     "output_type": "stream",
     "text": [
      "121/121 [==============================] - 0s 570us/step - loss: 0.4494\n"
     ]
    },
    {
     "data": {
      "text/plain": [
       "0.4494338631629944"
      ]
     },
     "execution_count": 62,
     "metadata": {},
     "output_type": "execute_result"
    }
   ],
   "source": [
    "model.evaluate(X_valid, y_valid)"
   ]
  },
  {
   "cell_type": "code",
   "execution_count": 63,
   "id": "8a4d0753295a8485",
   "metadata": {
    "collapsed": false,
    "jupyter": {
     "outputs_hidden": false
    }
   },
   "outputs": [
    {
     "name": "stdout",
     "output_type": "stream",
     "text": [
      "Epoch 1/100\n",
      "363/363 [==============================] - 1s 1ms/step - loss: 0.4598 - val_loss: 0.4335\n",
      "Epoch 2/100\n",
      "363/363 [==============================] - 0s 836us/step - loss: 0.4471 - val_loss: 0.4319\n",
      "Epoch 3/100\n",
      "363/363 [==============================] - 0s 889us/step - loss: 0.4365 - val_loss: 0.4110\n",
      "Epoch 4/100\n",
      "363/363 [==============================] - 0s 847us/step - loss: 0.4266 - val_loss: 0.4035\n",
      "Epoch 5/100\n",
      "363/363 [==============================] - 0s 848us/step - loss: 0.4195 - val_loss: 0.3935\n",
      "Epoch 6/100\n",
      "363/363 [==============================] - 0s 868us/step - loss: 0.4125 - val_loss: 0.3869\n",
      "Epoch 7/100\n",
      "363/363 [==============================] - 0s 857us/step - loss: 0.4072 - val_loss: 0.3865\n",
      "Epoch 8/100\n",
      "363/363 [==============================] - 0s 851us/step - loss: 0.4026 - val_loss: 0.3783\n",
      "Epoch 9/100\n",
      "363/363 [==============================] - 0s 912us/step - loss: 0.3986 - val_loss: 0.3740\n",
      "Epoch 10/100\n",
      "363/363 [==============================] - 0s 838us/step - loss: 0.3952 - val_loss: 0.3721\n",
      "Epoch 11/100\n",
      "363/363 [==============================] - 0s 804us/step - loss: 0.3925 - val_loss: 0.3779\n",
      "Epoch 12/100\n",
      "363/363 [==============================] - 0s 822us/step - loss: 0.3897 - val_loss: 0.3837\n",
      "Epoch 13/100\n",
      "363/363 [==============================] - 0s 884us/step - loss: 0.3878 - val_loss: 0.3646\n",
      "Epoch 14/100\n",
      "363/363 [==============================] - 0s 858us/step - loss: 0.3855 - val_loss: 0.3621\n",
      "Epoch 15/100\n",
      "363/363 [==============================] - 0s 847us/step - loss: 0.3836 - val_loss: 0.3609\n",
      "Epoch 16/100\n",
      "363/363 [==============================] - 0s 876us/step - loss: 0.3819 - val_loss: 0.3657\n",
      "Epoch 17/100\n",
      "363/363 [==============================] - 0s 827us/step - loss: 0.3803 - val_loss: 0.3680\n",
      "Epoch 18/100\n",
      "363/363 [==============================] - 0s 869us/step - loss: 0.3791 - val_loss: 0.3553\n",
      "Epoch 19/100\n",
      "363/363 [==============================] - 0s 897us/step - loss: 0.3771 - val_loss: 0.3552\n",
      "Epoch 20/100\n",
      "363/363 [==============================] - 0s 833us/step - loss: 0.3759 - val_loss: 0.3773\n",
      "Epoch 21/100\n",
      "363/363 [==============================] - 0s 866us/step - loss: 0.3748 - val_loss: 0.3546\n",
      "Epoch 22/100\n",
      "363/363 [==============================] - 0s 881us/step - loss: 0.3734 - val_loss: 0.3624\n",
      "Epoch 23/100\n",
      "363/363 [==============================] - 0s 833us/step - loss: 0.3723 - val_loss: 0.3859\n",
      "Epoch 24/100\n",
      "363/363 [==============================] - 0s 805us/step - loss: 0.3709 - val_loss: 0.3659\n",
      "Epoch 25/100\n",
      "363/363 [==============================] - 0s 880us/step - loss: 0.3699 - val_loss: 0.3519\n",
      "Epoch 26/100\n",
      "363/363 [==============================] - 0s 853us/step - loss: 0.3689 - val_loss: 0.3502\n",
      "Epoch 27/100\n",
      "363/363 [==============================] - 0s 821us/step - loss: 0.3679 - val_loss: 0.3723\n",
      "Epoch 28/100\n",
      "363/363 [==============================] - 0s 852us/step - loss: 0.3669 - val_loss: 0.3592\n",
      "Epoch 29/100\n",
      "363/363 [==============================] - 0s 863us/step - loss: 0.3661 - val_loss: 0.3474\n",
      "Epoch 30/100\n",
      "363/363 [==============================] - 0s 824us/step - loss: 0.3648 - val_loss: 0.3693\n",
      "Epoch 31/100\n",
      "363/363 [==============================] - 0s 809us/step - loss: 0.3642 - val_loss: 0.3474\n",
      "Epoch 32/100\n",
      "363/363 [==============================] - 0s 823us/step - loss: 0.3628 - val_loss: 0.3793\n",
      "Epoch 33/100\n",
      "363/363 [==============================] - 0s 888us/step - loss: 0.3628 - val_loss: 0.3608\n",
      "Epoch 34/100\n",
      "363/363 [==============================] - 0s 832us/step - loss: 0.3614 - val_loss: 0.3428\n",
      "Epoch 35/100\n",
      "363/363 [==============================] - 0s 885us/step - loss: 0.3604 - val_loss: 0.3670\n",
      "Epoch 36/100\n",
      "363/363 [==============================] - 0s 818us/step - loss: 0.3599 - val_loss: 0.3843\n",
      "Epoch 37/100\n",
      "363/363 [==============================] - 0s 844us/step - loss: 0.3591 - val_loss: 0.3466\n",
      "Epoch 38/100\n",
      "363/363 [==============================] - 0s 875us/step - loss: 0.3582 - val_loss: 0.3459\n",
      "Epoch 39/100\n",
      "363/363 [==============================] - 0s 908us/step - loss: 0.3573 - val_loss: 0.3381\n",
      "Epoch 40/100\n",
      "363/363 [==============================] - 0s 845us/step - loss: 0.3566 - val_loss: 0.3378\n",
      "Epoch 41/100\n",
      "363/363 [==============================] - 0s 889us/step - loss: 0.3559 - val_loss: 0.3390\n",
      "Epoch 42/100\n",
      "363/363 [==============================] - 0s 927us/step - loss: 0.3552 - val_loss: 0.3488\n",
      "Epoch 43/100\n",
      "363/363 [==============================] - 0s 818us/step - loss: 0.3544 - val_loss: 0.3409\n",
      "Epoch 44/100\n",
      "363/363 [==============================] - 0s 842us/step - loss: 0.3537 - val_loss: 0.3436\n",
      "Epoch 45/100\n",
      "363/363 [==============================] - 0s 854us/step - loss: 0.3532 - val_loss: 0.3384\n",
      "Epoch 46/100\n",
      "363/363 [==============================] - 0s 913us/step - loss: 0.3522 - val_loss: 0.3361\n",
      "Epoch 47/100\n",
      "363/363 [==============================] - 0s 868us/step - loss: 0.3518 - val_loss: 0.3334\n",
      "Epoch 48/100\n",
      "363/363 [==============================] - 0s 876us/step - loss: 0.3510 - val_loss: 0.3507\n",
      "Epoch 49/100\n",
      "363/363 [==============================] - 0s 844us/step - loss: 0.3507 - val_loss: 0.3336\n",
      "Epoch 50/100\n",
      "363/363 [==============================] - 0s 806us/step - loss: 0.3498 - val_loss: 0.3353\n",
      "Epoch 51/100\n",
      "363/363 [==============================] - 0s 855us/step - loss: 0.3491 - val_loss: 0.3373\n",
      "Epoch 52/100\n",
      "363/363 [==============================] - 0s 836us/step - loss: 0.3488 - val_loss: 0.3570\n",
      "Epoch 53/100\n",
      "363/363 [==============================] - 0s 816us/step - loss: 0.3480 - val_loss: 0.3999\n",
      "Epoch 54/100\n",
      "363/363 [==============================] - 0s 865us/step - loss: 0.3479 - val_loss: 0.3720\n",
      "Epoch 55/100\n",
      "363/363 [==============================] - 0s 813us/step - loss: 0.3472 - val_loss: 0.3460\n",
      "Epoch 56/100\n",
      "363/363 [==============================] - 0s 814us/step - loss: 0.3465 - val_loss: 0.3438\n",
      "Epoch 57/100\n",
      "363/363 [==============================] - 0s 845us/step - loss: 0.3457 - val_loss: 0.3291\n",
      "Epoch 58/100\n",
      "363/363 [==============================] - 0s 820us/step - loss: 0.3449 - val_loss: 0.3460\n",
      "Epoch 59/100\n",
      "363/363 [==============================] - 0s 865us/step - loss: 0.3449 - val_loss: 0.3264\n",
      "Epoch 60/100\n",
      "363/363 [==============================] - 0s 821us/step - loss: 0.3440 - val_loss: 0.3268\n",
      "Epoch 61/100\n",
      "363/363 [==============================] - 0s 859us/step - loss: 0.3432 - val_loss: 0.3400\n",
      "Epoch 62/100\n",
      "363/363 [==============================] - 0s 867us/step - loss: 0.3431 - val_loss: 0.3265\n",
      "Epoch 63/100\n",
      "363/363 [==============================] - 0s 829us/step - loss: 0.3421 - val_loss: 0.3351\n",
      "Epoch 64/100\n",
      "363/363 [==============================] - 0s 926us/step - loss: 0.3421 - val_loss: 0.3425\n",
      "Epoch 65/100\n",
      "363/363 [==============================] - 0s 834us/step - loss: 0.3413 - val_loss: 0.3276\n",
      "Epoch 66/100\n",
      "363/363 [==============================] - 0s 868us/step - loss: 0.3408 - val_loss: 0.3236\n",
      "Epoch 67/100\n",
      "363/363 [==============================] - 0s 873us/step - loss: 0.3401 - val_loss: 0.3310\n",
      "Epoch 68/100\n",
      "363/363 [==============================] - 0s 883us/step - loss: 0.3396 - val_loss: 0.3218\n",
      "Epoch 69/100\n",
      "363/363 [==============================] - 0s 850us/step - loss: 0.3391 - val_loss: 0.3235\n",
      "Epoch 70/100\n",
      "363/363 [==============================] - 0s 884us/step - loss: 0.3386 - val_loss: 0.3388\n",
      "Epoch 71/100\n",
      "363/363 [==============================] - 0s 813us/step - loss: 0.3383 - val_loss: 0.3226\n",
      "Epoch 72/100\n",
      "363/363 [==============================] - 0s 872us/step - loss: 0.3376 - val_loss: 0.3211\n",
      "Epoch 73/100\n",
      "363/363 [==============================] - 0s 885us/step - loss: 0.3370 - val_loss: 0.3303\n",
      "Epoch 74/100\n",
      "363/363 [==============================] - 0s 873us/step - loss: 0.3367 - val_loss: 0.3563\n",
      "Epoch 75/100\n",
      "363/363 [==============================] - 0s 811us/step - loss: 0.3363 - val_loss: 0.3248\n",
      "Epoch 76/100\n",
      "363/363 [==============================] - 0s 830us/step - loss: 0.3357 - val_loss: 0.3193\n",
      "Epoch 77/100\n",
      "363/363 [==============================] - 0s 833us/step - loss: 0.3349 - val_loss: 0.3475\n",
      "Epoch 78/100\n",
      "363/363 [==============================] - 0s 822us/step - loss: 0.3347 - val_loss: 0.3233\n",
      "Epoch 79/100\n",
      "363/363 [==============================] - 0s 839us/step - loss: 0.3344 - val_loss: 0.3252\n",
      "Epoch 80/100\n",
      "363/363 [==============================] - 0s 871us/step - loss: 0.3339 - val_loss: 0.3192\n",
      "Epoch 81/100\n",
      "363/363 [==============================] - 0s 834us/step - loss: 0.3332 - val_loss: 0.3177\n",
      "Epoch 82/100\n",
      "363/363 [==============================] - 0s 823us/step - loss: 0.3328 - val_loss: 0.3332\n",
      "Epoch 83/100\n",
      "363/363 [==============================] - 0s 857us/step - loss: 0.3324 - val_loss: 0.3206\n",
      "Epoch 84/100\n",
      "363/363 [==============================] - 0s 816us/step - loss: 0.3317 - val_loss: 0.3417\n",
      "Epoch 85/100\n",
      "363/363 [==============================] - 0s 881us/step - loss: 0.3313 - val_loss: 0.3151\n",
      "Epoch 86/100\n",
      "363/363 [==============================] - 0s 847us/step - loss: 0.3311 - val_loss: 0.3333\n",
      "Epoch 87/100\n",
      "363/363 [==============================] - 0s 876us/step - loss: 0.3307 - val_loss: 0.3556\n",
      "Epoch 88/100\n",
      "363/363 [==============================] - 0s 845us/step - loss: 0.3300 - val_loss: 0.3132\n",
      "Epoch 89/100\n",
      "363/363 [==============================] - 0s 865us/step - loss: 0.3292 - val_loss: 0.3848\n",
      "Epoch 90/100\n",
      "363/363 [==============================] - 0s 866us/step - loss: 0.3296 - val_loss: 0.3140\n",
      "Epoch 91/100\n",
      "363/363 [==============================] - 0s 847us/step - loss: 0.3285 - val_loss: 0.3297\n",
      "Epoch 92/100\n",
      "363/363 [==============================] - 0s 826us/step - loss: 0.3284 - val_loss: 0.3141\n",
      "Epoch 93/100\n",
      "363/363 [==============================] - 0s 836us/step - loss: 0.3279 - val_loss: 0.3152\n",
      "Epoch 94/100\n",
      "363/363 [==============================] - 0s 869us/step - loss: 0.3274 - val_loss: 0.3129\n",
      "Epoch 95/100\n",
      "363/363 [==============================] - 0s 819us/step - loss: 0.3268 - val_loss: 0.3577\n",
      "Epoch 96/100\n",
      "363/363 [==============================] - 0s 880us/step - loss: 0.3269 - val_loss: 0.3105\n",
      "Epoch 97/100\n",
      "363/363 [==============================] - 0s 824us/step - loss: 0.3261 - val_loss: 0.3450\n",
      "Epoch 98/100\n",
      "363/363 [==============================] - 0s 819us/step - loss: 0.3260 - val_loss: 0.3236\n",
      "Epoch 99/100\n",
      "363/363 [==============================] - 0s 855us/step - loss: 0.3255 - val_loss: 0.3114\n",
      "Epoch 100/100\n",
      "363/363 [==============================] - 0s 826us/step - loss: 0.3248 - val_loss: 0.3411\n"
     ]
    }
   ],
   "source": [
    "early_stopping_cb = keras.callbacks.EarlyStopping(patience=10, restore_best_weights=True)\n",
    "\n",
    "model.compile(loss=\"mse\", optimizer=keras.optimizers.SGD(learning_rate=1e-3))\n",
    "model.fit(X_train, y_train, epochs=100, validation_data=(X_valid, y_valid), \n",
    "          callbacks=[checkpoint_cb, early_stopping_cb]);"
   ]
  },
  {
   "cell_type": "code",
   "execution_count": 64,
   "id": "d4b9163d82ee1fc8",
   "metadata": {
    "collapsed": false,
    "jupyter": {
     "outputs_hidden": false
    }
   },
   "outputs": [
    {
     "name": "stdout",
     "output_type": "stream",
     "text": [
      "121/121 [==============================] - 0s 549us/step - loss: 0.3411\n"
     ]
    },
    {
     "data": {
      "text/plain": [
       "0.34108030796051025"
      ]
     },
     "execution_count": 64,
     "metadata": {},
     "output_type": "execute_result"
    }
   ],
   "source": [
    "model.evaluate(X_valid, y_valid)"
   ]
  },
  {
   "cell_type": "code",
   "execution_count": 65,
   "id": "5f83dfa4f9512ba2",
   "metadata": {
    "collapsed": false,
    "jupyter": {
     "outputs_hidden": false
    }
   },
   "outputs": [],
   "source": [
    "class PrintValTrainRatioCallback(keras.callbacks.Callback):\n",
    "    def on_epoch_end(self, epoch, logs=None):\n",
    "        print(\"val/train: {:.2f}\".format(logs[\"val_loss\"] / logs[\"loss\"]))\n",
    "        \n",
    "val_train_ratio_cb = PrintValTrainRatioCallback()"
   ]
  },
  {
   "cell_type": "code",
   "execution_count": 66,
   "id": "17af36e2b6ab2fed",
   "metadata": {
    "collapsed": false,
    "jupyter": {
     "outputs_hidden": false
    }
   },
   "outputs": [
    {
     "name": "stdout",
     "output_type": "stream",
     "text": [
      "Epoch 1/3\n",
      "val/train: 0.97\n",
      "363/363 - 0s - loss: 0.3248 - val_loss: 0.3140 - 287ms/epoch - 791us/step\n",
      "Epoch 2/3\n",
      "val/train: 1.18\n",
      "363/363 - 0s - loss: 0.3241 - val_loss: 0.3820 - 279ms/epoch - 770us/step\n",
      "Epoch 3/3\n",
      "val/train: 0.95\n",
      "363/363 - 0s - loss: 0.3244 - val_loss: 0.3096 - 264ms/epoch - 728us/step\n"
     ]
    }
   ],
   "source": [
    "model.fit(X_train, y_train, epochs=3, validation_data=(X_valid, y_valid), \n",
    "          callbacks=[val_train_ratio_cb], verbose=2);"
   ]
  },
  {
   "cell_type": "markdown",
   "id": "9f50d5a48ffd0530",
   "metadata": {
    "collapsed": false,
    "jupyter": {
     "outputs_hidden": false
    }
   },
   "source": [
    "#### Using TensorBoard for Visualization"
   ]
  },
  {
   "cell_type": "code",
   "execution_count": 67,
   "id": "aa2ea21d-bec4-4cf9-8517-fe4b103e4a1c",
   "metadata": {},
   "outputs": [
    {
     "data": {
      "text/plain": [
       "'.\\\\logs\\\\run_2024_03_11-04_42_19'"
      ]
     },
     "execution_count": 67,
     "metadata": {},
     "output_type": "execute_result"
    }
   ],
   "source": [
    "def get_run_logdir():\n",
    "    root_logdir = os.path.join(os.curdir, \"logs\")\n",
    "    run_id = time.strftime(\"run_%Y_%m_%d-%H_%M_%S\")\n",
    "    return os.path.join(root_logdir, run_id)\n",
    "\n",
    "run_logdir = get_run_logdir()\n",
    "run_logdir"
   ]
  },
  {
   "cell_type": "code",
   "execution_count": 68,
   "id": "738bba992cd1bd08",
   "metadata": {
    "collapsed": false,
    "jupyter": {
     "outputs_hidden": false
    }
   },
   "outputs": [],
   "source": [
    "model = keras.models.Sequential([\n",
    "    keras.layers.Dense(30, activation=\"relu\", input_shape=[8]),\n",
    "    keras.layers.Dense(30, activation=\"relu\"),\n",
    "    keras.layers.Dense(1)\n",
    "])"
   ]
  },
  {
   "cell_type": "code",
   "execution_count": 69,
   "id": "508817fb0875e3c5",
   "metadata": {
    "collapsed": false,
    "jupyter": {
     "outputs_hidden": false
    }
   },
   "outputs": [
    {
     "name": "stdout",
     "output_type": "stream",
     "text": [
      "Epoch 1/30\n",
      "363/363 [==============================] - 1s 1ms/step - loss: 2.0434 - val_loss: 1.0789\n",
      "Epoch 2/30\n",
      "363/363 [==============================] - 0s 938us/step - loss: 0.8035 - val_loss: 0.7242\n",
      "Epoch 3/30\n",
      "363/363 [==============================] - 0s 909us/step - loss: 0.6826 - val_loss: 0.6329\n",
      "Epoch 4/30\n",
      "363/363 [==============================] - 0s 913us/step - loss: 0.6269 - val_loss: 0.5877\n",
      "Epoch 5/30\n",
      "363/363 [==============================] - 0s 930us/step - loss: 0.5864 - val_loss: 0.5465\n",
      "Epoch 6/30\n",
      "363/363 [==============================] - 0s 892us/step - loss: 0.5504 - val_loss: 0.5183\n",
      "Epoch 7/30\n",
      "363/363 [==============================] - 0s 968us/step - loss: 0.5227 - val_loss: 0.4835\n",
      "Epoch 8/30\n",
      "363/363 [==============================] - 0s 947us/step - loss: 0.4997 - val_loss: 0.4867\n",
      "Epoch 9/30\n",
      "363/363 [==============================] - 0s 929us/step - loss: 0.4805 - val_loss: 0.4579\n",
      "Epoch 10/30\n",
      "363/363 [==============================] - 0s 960us/step - loss: 0.4656 - val_loss: 0.4418\n",
      "Epoch 11/30\n",
      "363/363 [==============================] - 0s 900us/step - loss: 0.4536 - val_loss: 0.4753\n",
      "Epoch 12/30\n",
      "363/363 [==============================] - 0s 909us/step - loss: 0.4436 - val_loss: 0.4424\n",
      "Epoch 13/30\n",
      "363/363 [==============================] - 0s 967us/step - loss: 0.4353 - val_loss: 0.4422\n",
      "Epoch 14/30\n",
      "363/363 [==============================] - 0s 961us/step - loss: 0.4284 - val_loss: 0.4299\n",
      "Epoch 15/30\n",
      "363/363 [==============================] - 0s 917us/step - loss: 0.4222 - val_loss: 0.4389\n",
      "Epoch 16/30\n",
      "363/363 [==============================] - 0s 920us/step - loss: 0.4168 - val_loss: 0.4066\n",
      "Epoch 17/30\n",
      "363/363 [==============================] - 0s 921us/step - loss: 0.4119 - val_loss: 0.4768\n",
      "Epoch 18/30\n",
      "363/363 [==============================] - 0s 924us/step - loss: 0.4078 - val_loss: 0.4419\n",
      "Epoch 19/30\n",
      "363/363 [==============================] - 0s 1ms/step - loss: 0.4031 - val_loss: 0.4139\n",
      "Epoch 20/30\n",
      "363/363 [==============================] - 0s 1ms/step - loss: 0.3995 - val_loss: 0.5109\n",
      "Epoch 21/30\n",
      "363/363 [==============================] - 0s 946us/step - loss: 0.3962 - val_loss: 0.4300\n",
      "Epoch 22/30\n",
      "363/363 [==============================] - 0s 972us/step - loss: 0.3926 - val_loss: 0.5135\n",
      "Epoch 23/30\n",
      "363/363 [==============================] - 0s 928us/step - loss: 0.3898 - val_loss: 0.3725\n",
      "Epoch 24/30\n",
      "363/363 [==============================] - 0s 894us/step - loss: 0.3867 - val_loss: 0.4534\n",
      "Epoch 25/30\n",
      "363/363 [==============================] - 0s 1ms/step - loss: 0.3840 - val_loss: 0.4695\n",
      "Epoch 26/30\n",
      "363/363 [==============================] - 0s 951us/step - loss: 0.3815 - val_loss: 0.4740\n",
      "Epoch 27/30\n",
      "363/363 [==============================] - 0s 953us/step - loss: 0.3796 - val_loss: 0.3638\n",
      "Epoch 28/30\n",
      "363/363 [==============================] - 0s 930us/step - loss: 0.3771 - val_loss: 0.4616\n",
      "Epoch 29/30\n",
      "363/363 [==============================] - 0s 953us/step - loss: 0.3750 - val_loss: 0.3860\n",
      "Epoch 30/30\n",
      "363/363 [==============================] - 0s 1ms/step - loss: 0.3727 - val_loss: 0.4847\n"
     ]
    }
   ],
   "source": [
    "tensorboard_cb = keras.callbacks.TensorBoard(run_logdir)\n",
    "\n",
    "model.compile(loss=\"mse\", optimizer=keras.optimizers.SGD(learning_rate=1e-3))\n",
    "model.fit(X_train, y_train, epochs=30, validation_data=(X_valid, y_valid), \n",
    "          callbacks=[checkpoint_cb, tensorboard_cb]);"
   ]
  },
  {
   "cell_type": "code",
   "execution_count": 70,
   "id": "ae63c0349a27f1e",
   "metadata": {
    "collapsed": false,
    "jupyter": {
     "outputs_hidden": false
    }
   },
   "outputs": [
    {
     "data": {
      "text/plain": [
       "Reusing TensorBoard on port 6006 (pid 58936), started 0:03:09 ago. (Use '!kill 58936' to kill it.)"
      ]
     },
     "metadata": {},
     "output_type": "display_data"
    },
    {
     "data": {
      "text/html": [
       "\n",
       "      <iframe id=\"tensorboard-frame-89ff54e794f27aec\" width=\"100%\" height=\"800\" frameborder=\"0\">\n",
       "      </iframe>\n",
       "      <script>\n",
       "        (function() {\n",
       "          const frame = document.getElementById(\"tensorboard-frame-89ff54e794f27aec\");\n",
       "          const url = new URL(\"/\", window.location);\n",
       "          const port = 6006;\n",
       "          if (port) {\n",
       "            url.port = port;\n",
       "          }\n",
       "          frame.src = url;\n",
       "        })();\n",
       "      </script>\n",
       "    "
      ],
      "text/plain": [
       "<IPython.core.display.HTML object>"
      ]
     },
     "metadata": {},
     "output_type": "display_data"
    }
   ],
   "source": [
    "%load_ext tensorboard\n",
    "%tensorboard --logdir=./logs --port=6006"
   ]
  },
  {
   "cell_type": "code",
   "execution_count": 71,
   "id": "5e885cca91099fa6",
   "metadata": {
    "collapsed": false,
    "jupyter": {
     "outputs_hidden": false
    }
   },
   "outputs": [
    {
     "data": {
      "text/plain": [
       "'.\\\\logs\\\\run_2024_03_11-04_42_30'"
      ]
     },
     "execution_count": 71,
     "metadata": {},
     "output_type": "execute_result"
    }
   ],
   "source": [
    "run_logdir2 = get_run_logdir()\n",
    "run_logdir2"
   ]
  },
  {
   "cell_type": "code",
   "execution_count": 72,
   "id": "c70b5fa66979d3eb",
   "metadata": {
    "collapsed": false,
    "jupyter": {
     "outputs_hidden": false
    }
   },
   "outputs": [],
   "source": [
    "model = keras.models.Sequential([\n",
    "    keras.layers.Dense(30, activation=\"relu\", input_shape=[8]),\n",
    "    keras.layers.Dense(30, activation=\"relu\"),\n",
    "    keras.layers.Dense(1)\n",
    "])"
   ]
  },
  {
   "cell_type": "code",
   "execution_count": 73,
   "id": "6c1fc18b5cc9dce3",
   "metadata": {
    "collapsed": false,
    "jupyter": {
     "outputs_hidden": false
    }
   },
   "outputs": [
    {
     "name": "stdout",
     "output_type": "stream",
     "text": [
      "Epoch 1/30\n",
      "363/363 [==============================] - 1s 1ms/step - loss: 0.7871 - val_loss: 2.0522\n",
      "Epoch 2/30\n",
      "363/363 [==============================] - 0s 947us/step - loss: 0.5080 - val_loss: 10.2459\n",
      "Epoch 3/30\n",
      "363/363 [==============================] - 0s 953us/step - loss: 0.5562 - val_loss: 0.7214\n",
      "Epoch 4/30\n",
      "363/363 [==============================] - 0s 869us/step - loss: 0.3964 - val_loss: 0.6322\n",
      "Epoch 5/30\n",
      "363/363 [==============================] - 0s 1ms/step - loss: 0.3856 - val_loss: 1.3626\n",
      "Epoch 6/30\n",
      "363/363 [==============================] - 0s 906us/step - loss: 0.3791 - val_loss: 1.6794\n",
      "Epoch 7/30\n",
      "363/363 [==============================] - 0s 923us/step - loss: 0.3784 - val_loss: 0.3935\n",
      "Epoch 8/30\n",
      "363/363 [==============================] - 0s 945us/step - loss: 0.3593 - val_loss: 0.3411\n",
      "Epoch 9/30\n",
      "363/363 [==============================] - 0s 945us/step - loss: 0.3518 - val_loss: 0.3432\n",
      "Epoch 10/30\n",
      "363/363 [==============================] - 0s 941us/step - loss: 0.3475 - val_loss: 0.3407\n",
      "Epoch 11/30\n",
      "363/363 [==============================] - 0s 972us/step - loss: 0.3438 - val_loss: 0.3257\n",
      "Epoch 12/30\n",
      "363/363 [==============================] - 0s 900us/step - loss: 0.3411 - val_loss: 0.3364\n",
      "Epoch 13/30\n",
      "363/363 [==============================] - 0s 913us/step - loss: 0.3360 - val_loss: 0.3235\n",
      "Epoch 14/30\n",
      "363/363 [==============================] - 0s 936us/step - loss: 0.3328 - val_loss: 0.3152\n",
      "Epoch 15/30\n",
      "363/363 [==============================] - 0s 925us/step - loss: 0.3310 - val_loss: 0.3270\n",
      "Epoch 16/30\n",
      "363/363 [==============================] - 0s 923us/step - loss: 0.3280 - val_loss: 0.3109\n",
      "Epoch 17/30\n",
      "363/363 [==============================] - 0s 966us/step - loss: 0.3259 - val_loss: 0.3537\n",
      "Epoch 18/30\n",
      "363/363 [==============================] - 0s 913us/step - loss: 0.3233 - val_loss: 0.3184\n",
      "Epoch 19/30\n",
      "363/363 [==============================] - 0s 932us/step - loss: 0.3224 - val_loss: 0.3130\n",
      "Epoch 20/30\n",
      "363/363 [==============================] - 0s 954us/step - loss: 0.3208 - val_loss: 0.3650\n",
      "Epoch 21/30\n",
      "363/363 [==============================] - 0s 941us/step - loss: 0.3167 - val_loss: 0.3088\n",
      "Epoch 22/30\n",
      "363/363 [==============================] - 0s 1ms/step - loss: 0.3154 - val_loss: 0.3072\n",
      "Epoch 23/30\n",
      "363/363 [==============================] - 0s 989us/step - loss: 0.3135 - val_loss: 0.3146\n",
      "Epoch 24/30\n",
      "363/363 [==============================] - 0s 993us/step - loss: 0.3117 - val_loss: 0.3051\n",
      "Epoch 25/30\n",
      "363/363 [==============================] - 0s 980us/step - loss: 0.3105 - val_loss: 0.2972\n",
      "Epoch 26/30\n",
      "363/363 [==============================] - 0s 905us/step - loss: 0.3090 - val_loss: 0.3451\n",
      "Epoch 27/30\n",
      "363/363 [==============================] - 0s 947us/step - loss: 0.3078 - val_loss: 0.3060\n",
      "Epoch 28/30\n",
      "363/363 [==============================] - 0s 905us/step - loss: 0.3069 - val_loss: 0.3232\n",
      "Epoch 29/30\n",
      "363/363 [==============================] - 0s 948us/step - loss: 0.3062 - val_loss: 0.2970\n",
      "Epoch 30/30\n",
      "363/363 [==============================] - 0s 908us/step - loss: 0.3050 - val_loss: 0.3182\n"
     ]
    }
   ],
   "source": [
    "tensorboard_cb = keras.callbacks.TensorBoard(run_logdir2)\n",
    "\n",
    "model.compile(loss=\"mse\", optimizer=keras.optimizers.SGD(learning_rate=1e-2))\n",
    "model.fit(X_train, y_train, epochs=30, validation_data=(X_valid, y_valid), \n",
    "          callbacks=[checkpoint_cb, tensorboard_cb]);"
   ]
  },
  {
   "cell_type": "markdown",
   "id": "15489cd6ccc80400",
   "metadata": {
    "collapsed": false,
    "jupyter": {
     "outputs_hidden": false
    }
   },
   "source": [
    "## Fine-Tuning Neural Network Hyperparameters"
   ]
  },
  {
   "cell_type": "code",
   "execution_count": 74,
   "id": "1f748f5e6d97f7db",
   "metadata": {
    "collapsed": false,
    "jupyter": {
     "outputs_hidden": false
    }
   },
   "outputs": [],
   "source": [
    "def build_model(n_hidden=1, n_neurons=30, learning_rate=3e-3, input_shape=None):\n",
    "    if input_shape is None:\n",
    "        input_shape = [8]\n",
    "    model = keras.models.Sequential()\n",
    "    model.add(keras.layers.InputLayer(input_shape=input_shape))\n",
    "    for layer in range(n_hidden):\n",
    "        model.add(keras.layers.Dense(n_neurons, activation=\"relu\"))\n",
    "    model.add(keras.layers.Dense(1))\n",
    "    optimizer = keras.optimizers.SGD(learning_rate=learning_rate)\n",
    "    model.compile(loss=\"mse\", optimizer=optimizer)\n",
    "    return model"
   ]
  },
  {
   "cell_type": "code",
   "execution_count": 75,
   "id": "f0889f5175dac3f1",
   "metadata": {
    "collapsed": false,
    "jupyter": {
     "outputs_hidden": false
    }
   },
   "outputs": [],
   "source": [
    "from scikeras.wrappers import KerasRegressor\n",
    "\n",
    "keras_reg = KerasRegressor(build_model, n_hidden=1, n_neurons=30, learning_rate=3e-3, input_shape=None,\n",
    "                           callbacks=[keras.callbacks.EarlyStopping(patience=10)])"
   ]
  },
  {
   "cell_type": "code",
   "execution_count": 76,
   "id": "de53628bdaa0a856",
   "metadata": {
    "collapsed": false,
    "jupyter": {
     "outputs_hidden": false
    }
   },
   "outputs": [
    {
     "name": "stdout",
     "output_type": "stream",
     "text": [
      "Epoch 1/100\n",
      "363/363 [==============================] - 0s 938us/step - loss: 1.2310 - val_loss: 5.6965\n",
      "Epoch 2/100\n",
      "363/363 [==============================] - 0s 769us/step - loss: 0.7128 - val_loss: 15.1097\n",
      "Epoch 3/100\n",
      "363/363 [==============================] - 0s 766us/step - loss: 0.7669 - val_loss: 20.7387\n",
      "Epoch 4/100\n",
      "363/363 [==============================] - 0s 823us/step - loss: 0.6478 - val_loss: 4.5443\n",
      "Epoch 5/100\n",
      "363/363 [==============================] - 0s 780us/step - loss: 0.5204 - val_loss: 0.6678\n",
      "Epoch 6/100\n",
      "363/363 [==============================] - 0s 762us/step - loss: 0.4745 - val_loss: 0.4539\n",
      "Epoch 7/100\n",
      "363/363 [==============================] - 0s 809us/step - loss: 0.4568 - val_loss: 0.4221\n",
      "Epoch 8/100\n",
      "363/363 [==============================] - 0s 775us/step - loss: 0.4457 - val_loss: 0.4103\n",
      "Epoch 9/100\n",
      "363/363 [==============================] - 0s 784us/step - loss: 0.4354 - val_loss: 0.4057\n",
      "Epoch 10/100\n",
      "363/363 [==============================] - 0s 780us/step - loss: 0.4273 - val_loss: 0.3940\n",
      "Epoch 11/100\n",
      "363/363 [==============================] - 0s 817us/step - loss: 0.4215 - val_loss: 0.3886\n",
      "Epoch 12/100\n",
      "363/363 [==============================] - 0s 818us/step - loss: 0.4161 - val_loss: 0.3919\n",
      "Epoch 13/100\n",
      "363/363 [==============================] - 0s 803us/step - loss: 0.4118 - val_loss: 0.3808\n",
      "Epoch 14/100\n",
      "363/363 [==============================] - 0s 830us/step - loss: 0.4076 - val_loss: 0.3805\n",
      "Epoch 15/100\n",
      "363/363 [==============================] - 0s 764us/step - loss: 0.4040 - val_loss: 0.3751\n",
      "Epoch 16/100\n",
      "363/363 [==============================] - 0s 787us/step - loss: 0.4006 - val_loss: 0.3792\n",
      "Epoch 17/100\n",
      "363/363 [==============================] - 0s 824us/step - loss: 0.3976 - val_loss: 0.3972\n",
      "Epoch 18/100\n",
      "363/363 [==============================] - 0s 835us/step - loss: 0.3954 - val_loss: 0.3649\n",
      "Epoch 19/100\n",
      "363/363 [==============================] - 0s 790us/step - loss: 0.3919 - val_loss: 0.3644\n",
      "Epoch 20/100\n",
      "363/363 [==============================] - 0s 779us/step - loss: 0.3897 - val_loss: 0.4032\n",
      "Epoch 21/100\n",
      "363/363 [==============================] - 0s 810us/step - loss: 0.3876 - val_loss: 0.3644\n",
      "Epoch 22/100\n",
      "363/363 [==============================] - 0s 792us/step - loss: 0.3846 - val_loss: 0.4450\n",
      "Epoch 23/100\n",
      "363/363 [==============================] - 0s 792us/step - loss: 0.3830 - val_loss: 0.5654\n",
      "Epoch 24/100\n",
      "363/363 [==============================] - 0s 812us/step - loss: 0.3807 - val_loss: 0.4973\n",
      "Epoch 25/100\n",
      "363/363 [==============================] - 0s 795us/step - loss: 0.3797 - val_loss: 0.3538\n",
      "Epoch 26/100\n",
      "363/363 [==============================] - 0s 782us/step - loss: 0.3762 - val_loss: 0.4236\n",
      "Epoch 27/100\n",
      "363/363 [==============================] - 0s 790us/step - loss: 0.3761 - val_loss: 0.6056\n",
      "Epoch 28/100\n",
      "363/363 [==============================] - 0s 784us/step - loss: 0.3742 - val_loss: 0.5733\n",
      "Epoch 29/100\n",
      "363/363 [==============================] - 0s 776us/step - loss: 0.3743 - val_loss: 0.5844\n",
      "Epoch 30/100\n",
      "363/363 [==============================] - 0s 765us/step - loss: 0.3715 - val_loss: 0.7697\n",
      "Epoch 31/100\n",
      "363/363 [==============================] - 0s 825us/step - loss: 0.3741 - val_loss: 0.6128\n",
      "Epoch 32/100\n",
      "363/363 [==============================] - 0s 767us/step - loss: 0.3683 - val_loss: 0.7254\n",
      "Epoch 33/100\n",
      "363/363 [==============================] - 0s 756us/step - loss: 0.3697 - val_loss: 0.8512\n",
      "Epoch 34/100\n",
      "363/363 [==============================] - 0s 783us/step - loss: 0.3662 - val_loss: 0.4972\n",
      "Epoch 35/100\n",
      "363/363 [==============================] - 0s 785us/step - loss: 0.3656 - val_loss: 0.3730\n"
     ]
    }
   ],
   "source": [
    "keras_reg.fit(X_train, y_train, epochs=100, validation_data=(X_valid, y_valid));"
   ]
  },
  {
   "cell_type": "code",
   "execution_count": 77,
   "id": "3f458e12780466d1",
   "metadata": {
    "collapsed": false,
    "jupyter": {
     "outputs_hidden": false
    }
   },
   "outputs": [
    {
     "name": "stdout",
     "output_type": "stream",
     "text": [
      "162/162 [==============================] - 0s 494us/step\n"
     ]
    },
    {
     "data": {
      "text/plain": [
       "0.7276024527721163"
      ]
     },
     "execution_count": 77,
     "metadata": {},
     "output_type": "execute_result"
    }
   ],
   "source": [
    "keras_reg.score(X_test, y_test) # R^2 value"
   ]
  },
  {
   "cell_type": "code",
   "execution_count": 78,
   "id": "d70f43692fa896c7",
   "metadata": {
    "collapsed": false,
    "jupyter": {
     "outputs_hidden": false
    }
   },
   "outputs": [
    {
     "data": {
      "text/plain": [
       "array([0.64081264, 1.6595542 , 3.776435  ], dtype=float32)"
      ]
     },
     "execution_count": 78,
     "metadata": {},
     "output_type": "execute_result"
    }
   ],
   "source": [
    "y_pred = keras_reg.predict(X_new, verbose=0)\n",
    "y_pred"
   ]
  },
  {
   "cell_type": "code",
   "execution_count": 79,
   "id": "a54bb5ac0eb63e3f",
   "metadata": {
    "collapsed": false,
    "jupyter": {
     "outputs_hidden": false
    }
   },
   "outputs": [
    {
     "name": "stdout",
     "output_type": "stream",
     "text": [
      "Fitting 3 folds for each of 10 candidates, totalling 30 fits\n",
      "[CV] END learning_rate=0.0016834549246003507, n_hidden=0, n_neurons=15; total time=  10.3s\n",
      "[CV] END learning_rate=0.0016834549246003507, n_hidden=0, n_neurons=15; total time=   2.9s\n",
      "[CV] END learning_rate=0.0016834549246003507, n_hidden=0, n_neurons=15; total time=   7.0s\n",
      "[CV] END learning_rate=0.008731907739399207, n_hidden=0, n_neurons=21; total time=   2.2s\n",
      "[CV] END learning_rate=0.008731907739399207, n_hidden=0, n_neurons=21; total time=   5.9s\n",
      "[CV] END learning_rate=0.008731907739399207, n_hidden=0, n_neurons=21; total time=   2.3s\n",
      "[CV] END learning_rate=0.0006154014789262349, n_hidden=2, n_neurons=87; total time=  21.8s\n",
      "[CV] END learning_rate=0.0006154014789262349, n_hidden=2, n_neurons=87; total time=   5.6s\n",
      "[CV] END learning_rate=0.0006154014789262349, n_hidden=2, n_neurons=87; total time=  16.9s\n",
      "[CV] END learning_rate=0.00039200217714159834, n_hidden=3, n_neurons=24; total time=  20.1s\n",
      "[CV] END learning_rate=0.00039200217714159834, n_hidden=3, n_neurons=24; total time=  10.8s\n",
      "[CV] END learning_rate=0.00039200217714159834, n_hidden=3, n_neurons=24; total time=  14.1s\n",
      "[CV] END learning_rate=0.006010328378268218, n_hidden=0, n_neurons=2; total time=   2.3s\n",
      "[CV] END learning_rate=0.006010328378268218, n_hidden=0, n_neurons=2; total time=   2.1s\n",
      "[CV] END learning_rate=0.006010328378268218, n_hidden=0, n_neurons=2; total time=   2.3s\n",
      "[CV] END learning_rate=0.00833909265458004, n_hidden=1, n_neurons=38; total time=  14.1s\n",
      "[CV] END learning_rate=0.00833909265458004, n_hidden=1, n_neurons=38; total time=   3.0s\n",
      "[CV] END learning_rate=0.00833909265458004, n_hidden=1, n_neurons=38; total time=   7.0s\n",
      "[CV] END learning_rate=0.00030107783636342715, n_hidden=3, n_neurons=21; total time=  11.4s\n",
      "[CV] END learning_rate=0.00030107783636342715, n_hidden=3, n_neurons=21; total time=   2.5s\n",
      "[CV] END learning_rate=0.00030107783636342715, n_hidden=3, n_neurons=21; total time=  19.9s\n",
      "[CV] END learning_rate=0.0051532863337015134, n_hidden=1, n_neurons=22; total time=   4.8s\n",
      "[CV] END learning_rate=0.0051532863337015134, n_hidden=1, n_neurons=22; total time=   3.3s\n",
      "[CV] END learning_rate=0.0051532863337015134, n_hidden=1, n_neurons=22; total time=  18.3s\n",
      "[CV] END learning_rate=0.00030992304129721227, n_hidden=0, n_neurons=49; total time=   8.4s\n",
      "[CV] END learning_rate=0.00030992304129721227, n_hidden=0, n_neurons=49; total time=  17.6s\n",
      "[CV] END learning_rate=0.00030992304129721227, n_hidden=0, n_neurons=49; total time=   6.5s\n",
      "[CV] END learning_rate=0.003362564125268811, n_hidden=2, n_neurons=42; total time=   4.6s\n",
      "[CV] END learning_rate=0.003362564125268811, n_hidden=2, n_neurons=42; total time=   4.0s\n",
      "[CV] END learning_rate=0.003362564125268811, n_hidden=2, n_neurons=42; total time=   6.5s\n"
     ]
    }
   ],
   "source": [
    "from scipy.stats import reciprocal\n",
    "from sklearn.model_selection import RandomizedSearchCV\n",
    "\n",
    "param_distribs = {\n",
    "    \"n_hidden\": [0, 1, 2, 3],\n",
    "    \"n_neurons\": np.arange(1, 100),\n",
    "    \"learning_rate\": reciprocal(3e-4, 3e-2)\n",
    "}\n",
    "\n",
    "keras_reg.verbose = 0\n",
    "rnd_search_cv = RandomizedSearchCV(keras_reg, param_distribs, n_iter=10, cv=3, verbose=2)\n",
    "rnd_search_cv.fit(X_train, y_train, epochs=100, validation_data=(X_valid, y_valid));"
   ]
  },
  {
   "cell_type": "code",
   "execution_count": 80,
   "id": "fc74e18a23b10687",
   "metadata": {
    "collapsed": false,
    "jupyter": {
     "outputs_hidden": false
    }
   },
   "outputs": [
    {
     "data": {
      "text/plain": [
       "{'learning_rate': 0.003362564125268811, 'n_hidden': 2, 'n_neurons': 42}"
      ]
     },
     "execution_count": 80,
     "metadata": {},
     "output_type": "execute_result"
    }
   ],
   "source": [
    "rnd_search_cv.best_params_"
   ]
  },
  {
   "cell_type": "code",
   "execution_count": 81,
   "id": "c7299e8a8b6941f3",
   "metadata": {
    "collapsed": false,
    "jupyter": {
     "outputs_hidden": false
    }
   },
   "outputs": [
    {
     "data": {
      "text/plain": [
       "0.7296736038446254"
      ]
     },
     "execution_count": 81,
     "metadata": {},
     "output_type": "execute_result"
    }
   ],
   "source": [
    "rnd_search_cv.best_score_ # R^2 value"
   ]
  },
  {
   "cell_type": "code",
   "execution_count": 82,
   "id": "4312d22fcd48d3cd",
   "metadata": {
    "collapsed": false,
    "jupyter": {
     "outputs_hidden": false
    }
   },
   "outputs": [
    {
     "data": {
      "text/html": [
       "<style>#sk-container-id-1 {\n",
       "  /* Definition of color scheme common for light and dark mode */\n",
       "  --sklearn-color-text: black;\n",
       "  --sklearn-color-line: gray;\n",
       "  /* Definition of color scheme for unfitted estimators */\n",
       "  --sklearn-color-unfitted-level-0: #fff5e6;\n",
       "  --sklearn-color-unfitted-level-1: #f6e4d2;\n",
       "  --sklearn-color-unfitted-level-2: #ffe0b3;\n",
       "  --sklearn-color-unfitted-level-3: chocolate;\n",
       "  /* Definition of color scheme for fitted estimators */\n",
       "  --sklearn-color-fitted-level-0: #f0f8ff;\n",
       "  --sklearn-color-fitted-level-1: #d4ebff;\n",
       "  --sklearn-color-fitted-level-2: #b3dbfd;\n",
       "  --sklearn-color-fitted-level-3: cornflowerblue;\n",
       "\n",
       "  /* Specific color for light theme */\n",
       "  --sklearn-color-text-on-default-background: var(--sg-text-color, var(--theme-code-foreground, var(--jp-content-font-color1, black)));\n",
       "  --sklearn-color-background: var(--sg-background-color, var(--theme-background, var(--jp-layout-color0, white)));\n",
       "  --sklearn-color-border-box: var(--sg-text-color, var(--theme-code-foreground, var(--jp-content-font-color1, black)));\n",
       "  --sklearn-color-icon: #696969;\n",
       "\n",
       "  @media (prefers-color-scheme: dark) {\n",
       "    /* Redefinition of color scheme for dark theme */\n",
       "    --sklearn-color-text-on-default-background: var(--sg-text-color, var(--theme-code-foreground, var(--jp-content-font-color1, white)));\n",
       "    --sklearn-color-background: var(--sg-background-color, var(--theme-background, var(--jp-layout-color0, #111)));\n",
       "    --sklearn-color-border-box: var(--sg-text-color, var(--theme-code-foreground, var(--jp-content-font-color1, white)));\n",
       "    --sklearn-color-icon: #878787;\n",
       "  }\n",
       "}\n",
       "\n",
       "#sk-container-id-1 {\n",
       "  color: var(--sklearn-color-text);\n",
       "}\n",
       "\n",
       "#sk-container-id-1 pre {\n",
       "  padding: 0;\n",
       "}\n",
       "\n",
       "#sk-container-id-1 input.sk-hidden--visually {\n",
       "  border: 0;\n",
       "  clip: rect(1px 1px 1px 1px);\n",
       "  clip: rect(1px, 1px, 1px, 1px);\n",
       "  height: 1px;\n",
       "  margin: -1px;\n",
       "  overflow: hidden;\n",
       "  padding: 0;\n",
       "  position: absolute;\n",
       "  width: 1px;\n",
       "}\n",
       "\n",
       "#sk-container-id-1 div.sk-dashed-wrapped {\n",
       "  border: 1px dashed var(--sklearn-color-line);\n",
       "  margin: 0 0.4em 0.5em 0.4em;\n",
       "  box-sizing: border-box;\n",
       "  padding-bottom: 0.4em;\n",
       "  background-color: var(--sklearn-color-background);\n",
       "}\n",
       "\n",
       "#sk-container-id-1 div.sk-container {\n",
       "  /* jupyter's `normalize.less` sets `[hidden] { display: none; }`\n",
       "     but bootstrap.min.css set `[hidden] { display: none !important; }`\n",
       "     so we also need the `!important` here to be able to override the\n",
       "     default hidden behavior on the sphinx rendered scikit-learn.org.\n",
       "     See: https://github.com/scikit-learn/scikit-learn/issues/21755 */\n",
       "  display: inline-block !important;\n",
       "  position: relative;\n",
       "}\n",
       "\n",
       "#sk-container-id-1 div.sk-text-repr-fallback {\n",
       "  display: none;\n",
       "}\n",
       "\n",
       "div.sk-parallel-item,\n",
       "div.sk-serial,\n",
       "div.sk-item {\n",
       "  /* draw centered vertical line to link estimators */\n",
       "  background-image: linear-gradient(var(--sklearn-color-text-on-default-background), var(--sklearn-color-text-on-default-background));\n",
       "  background-size: 2px 100%;\n",
       "  background-repeat: no-repeat;\n",
       "  background-position: center center;\n",
       "}\n",
       "\n",
       "/* Parallel-specific style estimator block */\n",
       "\n",
       "#sk-container-id-1 div.sk-parallel-item::after {\n",
       "  content: \"\";\n",
       "  width: 100%;\n",
       "  border-bottom: 2px solid var(--sklearn-color-text-on-default-background);\n",
       "  flex-grow: 1;\n",
       "}\n",
       "\n",
       "#sk-container-id-1 div.sk-parallel {\n",
       "  display: flex;\n",
       "  align-items: stretch;\n",
       "  justify-content: center;\n",
       "  background-color: var(--sklearn-color-background);\n",
       "  position: relative;\n",
       "}\n",
       "\n",
       "#sk-container-id-1 div.sk-parallel-item {\n",
       "  display: flex;\n",
       "  flex-direction: column;\n",
       "}\n",
       "\n",
       "#sk-container-id-1 div.sk-parallel-item:first-child::after {\n",
       "  align-self: flex-end;\n",
       "  width: 50%;\n",
       "}\n",
       "\n",
       "#sk-container-id-1 div.sk-parallel-item:last-child::after {\n",
       "  align-self: flex-start;\n",
       "  width: 50%;\n",
       "}\n",
       "\n",
       "#sk-container-id-1 div.sk-parallel-item:only-child::after {\n",
       "  width: 0;\n",
       "}\n",
       "\n",
       "/* Serial-specific style estimator block */\n",
       "\n",
       "#sk-container-id-1 div.sk-serial {\n",
       "  display: flex;\n",
       "  flex-direction: column;\n",
       "  align-items: center;\n",
       "  background-color: var(--sklearn-color-background);\n",
       "  padding-right: 1em;\n",
       "  padding-left: 1em;\n",
       "}\n",
       "\n",
       "\n",
       "/* Toggleable style: style used for estimator/Pipeline/ColumnTransformer box that is\n",
       "clickable and can be expanded/collapsed.\n",
       "- Pipeline and ColumnTransformer use this feature and define the default style\n",
       "- Estimators will overwrite some part of the style using the `sk-estimator` class\n",
       "*/\n",
       "\n",
       "/* Pipeline and ColumnTransformer style (default) */\n",
       "\n",
       "#sk-container-id-1 div.sk-toggleable {\n",
       "  /* Default theme specific background. It is overwritten whether we have a\n",
       "  specific estimator or a Pipeline/ColumnTransformer */\n",
       "  background-color: var(--sklearn-color-background);\n",
       "}\n",
       "\n",
       "/* Toggleable label */\n",
       "#sk-container-id-1 label.sk-toggleable__label {\n",
       "  cursor: pointer;\n",
       "  display: block;\n",
       "  width: 100%;\n",
       "  margin-bottom: 0;\n",
       "  padding: 0.5em;\n",
       "  box-sizing: border-box;\n",
       "  text-align: center;\n",
       "}\n",
       "\n",
       "#sk-container-id-1 label.sk-toggleable__label-arrow:before {\n",
       "  /* Arrow on the left of the label */\n",
       "  content: \"▸\";\n",
       "  float: left;\n",
       "  margin-right: 0.25em;\n",
       "  color: var(--sklearn-color-icon);\n",
       "}\n",
       "\n",
       "#sk-container-id-1 label.sk-toggleable__label-arrow:hover:before {\n",
       "  color: var(--sklearn-color-text);\n",
       "}\n",
       "\n",
       "/* Toggleable content - dropdown */\n",
       "\n",
       "#sk-container-id-1 div.sk-toggleable__content {\n",
       "  max-height: 0;\n",
       "  max-width: 0;\n",
       "  overflow: hidden;\n",
       "  text-align: left;\n",
       "  /* unfitted */\n",
       "  background-color: var(--sklearn-color-unfitted-level-0);\n",
       "}\n",
       "\n",
       "#sk-container-id-1 div.sk-toggleable__content.fitted {\n",
       "  /* fitted */\n",
       "  background-color: var(--sklearn-color-fitted-level-0);\n",
       "}\n",
       "\n",
       "#sk-container-id-1 div.sk-toggleable__content pre {\n",
       "  margin: 0.2em;\n",
       "  border-radius: 0.25em;\n",
       "  color: var(--sklearn-color-text);\n",
       "  /* unfitted */\n",
       "  background-color: var(--sklearn-color-unfitted-level-0);\n",
       "}\n",
       "\n",
       "#sk-container-id-1 div.sk-toggleable__content.fitted pre {\n",
       "  /* unfitted */\n",
       "  background-color: var(--sklearn-color-fitted-level-0);\n",
       "}\n",
       "\n",
       "#sk-container-id-1 input.sk-toggleable__control:checked~div.sk-toggleable__content {\n",
       "  /* Expand drop-down */\n",
       "  max-height: 200px;\n",
       "  max-width: 100%;\n",
       "  overflow: auto;\n",
       "}\n",
       "\n",
       "#sk-container-id-1 input.sk-toggleable__control:checked~label.sk-toggleable__label-arrow:before {\n",
       "  content: \"▾\";\n",
       "}\n",
       "\n",
       "/* Pipeline/ColumnTransformer-specific style */\n",
       "\n",
       "#sk-container-id-1 div.sk-label input.sk-toggleable__control:checked~label.sk-toggleable__label {\n",
       "  color: var(--sklearn-color-text);\n",
       "  background-color: var(--sklearn-color-unfitted-level-2);\n",
       "}\n",
       "\n",
       "#sk-container-id-1 div.sk-label.fitted input.sk-toggleable__control:checked~label.sk-toggleable__label {\n",
       "  background-color: var(--sklearn-color-fitted-level-2);\n",
       "}\n",
       "\n",
       "/* Estimator-specific style */\n",
       "\n",
       "/* Colorize estimator box */\n",
       "#sk-container-id-1 div.sk-estimator input.sk-toggleable__control:checked~label.sk-toggleable__label {\n",
       "  /* unfitted */\n",
       "  background-color: var(--sklearn-color-unfitted-level-2);\n",
       "}\n",
       "\n",
       "#sk-container-id-1 div.sk-estimator.fitted input.sk-toggleable__control:checked~label.sk-toggleable__label {\n",
       "  /* fitted */\n",
       "  background-color: var(--sklearn-color-fitted-level-2);\n",
       "}\n",
       "\n",
       "#sk-container-id-1 div.sk-label label.sk-toggleable__label,\n",
       "#sk-container-id-1 div.sk-label label {\n",
       "  /* The background is the default theme color */\n",
       "  color: var(--sklearn-color-text-on-default-background);\n",
       "}\n",
       "\n",
       "/* On hover, darken the color of the background */\n",
       "#sk-container-id-1 div.sk-label:hover label.sk-toggleable__label {\n",
       "  color: var(--sklearn-color-text);\n",
       "  background-color: var(--sklearn-color-unfitted-level-2);\n",
       "}\n",
       "\n",
       "/* Label box, darken color on hover, fitted */\n",
       "#sk-container-id-1 div.sk-label.fitted:hover label.sk-toggleable__label.fitted {\n",
       "  color: var(--sklearn-color-text);\n",
       "  background-color: var(--sklearn-color-fitted-level-2);\n",
       "}\n",
       "\n",
       "/* Estimator label */\n",
       "\n",
       "#sk-container-id-1 div.sk-label label {\n",
       "  font-family: monospace;\n",
       "  font-weight: bold;\n",
       "  display: inline-block;\n",
       "  line-height: 1.2em;\n",
       "}\n",
       "\n",
       "#sk-container-id-1 div.sk-label-container {\n",
       "  text-align: center;\n",
       "}\n",
       "\n",
       "/* Estimator-specific */\n",
       "#sk-container-id-1 div.sk-estimator {\n",
       "  font-family: monospace;\n",
       "  border: 1px dotted var(--sklearn-color-border-box);\n",
       "  border-radius: 0.25em;\n",
       "  box-sizing: border-box;\n",
       "  margin-bottom: 0.5em;\n",
       "  /* unfitted */\n",
       "  background-color: var(--sklearn-color-unfitted-level-0);\n",
       "}\n",
       "\n",
       "#sk-container-id-1 div.sk-estimator.fitted {\n",
       "  /* fitted */\n",
       "  background-color: var(--sklearn-color-fitted-level-0);\n",
       "}\n",
       "\n",
       "/* on hover */\n",
       "#sk-container-id-1 div.sk-estimator:hover {\n",
       "  /* unfitted */\n",
       "  background-color: var(--sklearn-color-unfitted-level-2);\n",
       "}\n",
       "\n",
       "#sk-container-id-1 div.sk-estimator.fitted:hover {\n",
       "  /* fitted */\n",
       "  background-color: var(--sklearn-color-fitted-level-2);\n",
       "}\n",
       "\n",
       "/* Specification for estimator info (e.g. \"i\" and \"?\") */\n",
       "\n",
       "/* Common style for \"i\" and \"?\" */\n",
       "\n",
       ".sk-estimator-doc-link,\n",
       "a:link.sk-estimator-doc-link,\n",
       "a:visited.sk-estimator-doc-link {\n",
       "  float: right;\n",
       "  font-size: smaller;\n",
       "  line-height: 1em;\n",
       "  font-family: monospace;\n",
       "  background-color: var(--sklearn-color-background);\n",
       "  border-radius: 1em;\n",
       "  height: 1em;\n",
       "  width: 1em;\n",
       "  text-decoration: none !important;\n",
       "  margin-left: 1ex;\n",
       "  /* unfitted */\n",
       "  border: var(--sklearn-color-unfitted-level-1) 1pt solid;\n",
       "  color: var(--sklearn-color-unfitted-level-1);\n",
       "}\n",
       "\n",
       ".sk-estimator-doc-link.fitted,\n",
       "a:link.sk-estimator-doc-link.fitted,\n",
       "a:visited.sk-estimator-doc-link.fitted {\n",
       "  /* fitted */\n",
       "  border: var(--sklearn-color-fitted-level-1) 1pt solid;\n",
       "  color: var(--sklearn-color-fitted-level-1);\n",
       "}\n",
       "\n",
       "/* On hover */\n",
       "div.sk-estimator:hover .sk-estimator-doc-link:hover,\n",
       ".sk-estimator-doc-link:hover,\n",
       "div.sk-label-container:hover .sk-estimator-doc-link:hover,\n",
       ".sk-estimator-doc-link:hover {\n",
       "  /* unfitted */\n",
       "  background-color: var(--sklearn-color-unfitted-level-3);\n",
       "  color: var(--sklearn-color-background);\n",
       "  text-decoration: none;\n",
       "}\n",
       "\n",
       "div.sk-estimator.fitted:hover .sk-estimator-doc-link.fitted:hover,\n",
       ".sk-estimator-doc-link.fitted:hover,\n",
       "div.sk-label-container:hover .sk-estimator-doc-link.fitted:hover,\n",
       ".sk-estimator-doc-link.fitted:hover {\n",
       "  /* fitted */\n",
       "  background-color: var(--sklearn-color-fitted-level-3);\n",
       "  color: var(--sklearn-color-background);\n",
       "  text-decoration: none;\n",
       "}\n",
       "\n",
       "/* Span, style for the box shown on hovering the info icon */\n",
       ".sk-estimator-doc-link span {\n",
       "  display: none;\n",
       "  z-index: 9999;\n",
       "  position: relative;\n",
       "  font-weight: normal;\n",
       "  right: .2ex;\n",
       "  padding: .5ex;\n",
       "  margin: .5ex;\n",
       "  width: min-content;\n",
       "  min-width: 20ex;\n",
       "  max-width: 50ex;\n",
       "  color: var(--sklearn-color-text);\n",
       "  box-shadow: 2pt 2pt 4pt #999;\n",
       "  /* unfitted */\n",
       "  background: var(--sklearn-color-unfitted-level-0);\n",
       "  border: .5pt solid var(--sklearn-color-unfitted-level-3);\n",
       "}\n",
       "\n",
       ".sk-estimator-doc-link.fitted span {\n",
       "  /* fitted */\n",
       "  background: var(--sklearn-color-fitted-level-0);\n",
       "  border: var(--sklearn-color-fitted-level-3);\n",
       "}\n",
       "\n",
       ".sk-estimator-doc-link:hover span {\n",
       "  display: block;\n",
       "}\n",
       "\n",
       "/* \"?\"-specific style due to the `<a>` HTML tag */\n",
       "\n",
       "#sk-container-id-1 a.estimator_doc_link {\n",
       "  float: right;\n",
       "  font-size: 1rem;\n",
       "  line-height: 1em;\n",
       "  font-family: monospace;\n",
       "  background-color: var(--sklearn-color-background);\n",
       "  border-radius: 1rem;\n",
       "  height: 1rem;\n",
       "  width: 1rem;\n",
       "  text-decoration: none;\n",
       "  /* unfitted */\n",
       "  color: var(--sklearn-color-unfitted-level-1);\n",
       "  border: var(--sklearn-color-unfitted-level-1) 1pt solid;\n",
       "}\n",
       "\n",
       "#sk-container-id-1 a.estimator_doc_link.fitted {\n",
       "  /* fitted */\n",
       "  border: var(--sklearn-color-fitted-level-1) 1pt solid;\n",
       "  color: var(--sklearn-color-fitted-level-1);\n",
       "}\n",
       "\n",
       "/* On hover */\n",
       "#sk-container-id-1 a.estimator_doc_link:hover {\n",
       "  /* unfitted */\n",
       "  background-color: var(--sklearn-color-unfitted-level-3);\n",
       "  color: var(--sklearn-color-background);\n",
       "  text-decoration: none;\n",
       "}\n",
       "\n",
       "#sk-container-id-1 a.estimator_doc_link.fitted:hover {\n",
       "  /* fitted */\n",
       "  background-color: var(--sklearn-color-fitted-level-3);\n",
       "}\n",
       "</style><div id=\"sk-container-id-1\" class=\"sk-top-container\"><div class=\"sk-text-repr-fallback\"><pre>KerasRegressor(\n",
       "\tmodel=&lt;function build_model at 0x0000026470FC7310&gt;\n",
       "\tbuild_fn=None\n",
       "\twarm_start=False\n",
       "\trandom_state=None\n",
       "\toptimizer=rmsprop\n",
       "\tloss=None\n",
       "\tmetrics=None\n",
       "\tbatch_size=None\n",
       "\tvalidation_batch_size=None\n",
       "\tverbose=0\n",
       "\tcallbacks=[&lt;keras.src.callbacks.EarlyStopping object at 0x00000264744889A0&gt;]\n",
       "\tvalidation_split=0.0\n",
       "\tshuffle=True\n",
       "\trun_eagerly=False\n",
       "\tepochs=1\n",
       "\tn_hidden=2\n",
       "\tn_neurons=42\n",
       "\tlearning_rate=0.003362564125268811\n",
       "\tinput_shape=None\n",
       ")</pre><b>In a Jupyter environment, please rerun this cell to show the HTML representation or trust the notebook. <br />On GitHub, the HTML representation is unable to render, please try loading this page with nbviewer.org.</b></div><div class=\"sk-container\" hidden><div class=\"sk-item\"><div class=\"sk-estimator fitted sk-toggleable\"><input class=\"sk-toggleable__control sk-hidden--visually\" id=\"sk-estimator-id-1\" type=\"checkbox\" checked><label for=\"sk-estimator-id-1\" class=\"sk-toggleable__label fitted sk-toggleable__label-arrow fitted\">&nbsp;KerasRegressor<span class=\"sk-estimator-doc-link fitted\">i<span>Fitted</span></span></label><div class=\"sk-toggleable__content fitted\"><pre>KerasRegressor(\n",
       "\tmodel=&lt;function build_model at 0x0000026470FC7310&gt;\n",
       "\tbuild_fn=None\n",
       "\twarm_start=False\n",
       "\trandom_state=None\n",
       "\toptimizer=rmsprop\n",
       "\tloss=None\n",
       "\tmetrics=None\n",
       "\tbatch_size=None\n",
       "\tvalidation_batch_size=None\n",
       "\tverbose=0\n",
       "\tcallbacks=[&lt;keras.src.callbacks.EarlyStopping object at 0x00000264744889A0&gt;]\n",
       "\tvalidation_split=0.0\n",
       "\tshuffle=True\n",
       "\trun_eagerly=False\n",
       "\tepochs=1\n",
       "\tn_hidden=2\n",
       "\tn_neurons=42\n",
       "\tlearning_rate=0.003362564125268811\n",
       "\tinput_shape=None\n",
       ")</pre></div> </div></div></div></div>"
      ],
      "text/plain": [
       "KerasRegressor(\n",
       "\tmodel=<function build_model at 0x0000026470FC7310>\n",
       "\tbuild_fn=None\n",
       "\twarm_start=False\n",
       "\trandom_state=None\n",
       "\toptimizer=rmsprop\n",
       "\tloss=None\n",
       "\tmetrics=None\n",
       "\tbatch_size=None\n",
       "\tvalidation_batch_size=None\n",
       "\tverbose=0\n",
       "\tcallbacks=[<keras.src.callbacks.EarlyStopping object at 0x00000264744889A0>]\n",
       "\tvalidation_split=0.0\n",
       "\tshuffle=True\n",
       "\trun_eagerly=False\n",
       "\tepochs=1\n",
       "\tn_hidden=2\n",
       "\tn_neurons=42\n",
       "\tlearning_rate=0.003362564125268811\n",
       "\tinput_shape=None\n",
       ")"
      ]
     },
     "execution_count": 82,
     "metadata": {},
     "output_type": "execute_result"
    }
   ],
   "source": [
    "rnd_search_cv.best_estimator_"
   ]
  },
  {
   "cell_type": "code",
   "execution_count": 83,
   "id": "1f322b612b5dd8b4",
   "metadata": {
    "collapsed": false,
    "jupyter": {
     "outputs_hidden": false
    }
   },
   "outputs": [
    {
     "data": {
      "text/plain": [
       "0.7741362701613944"
      ]
     },
     "execution_count": 83,
     "metadata": {},
     "output_type": "execute_result"
    }
   ],
   "source": [
    "rnd_search_cv.score(X_test, y_test) # R^2 value"
   ]
  },
  {
   "cell_type": "code",
   "execution_count": 84,
   "id": "b7c5670d637242c9",
   "metadata": {
    "collapsed": false,
    "jupyter": {
     "outputs_hidden": false
    }
   },
   "outputs": [
    {
     "data": {
      "text/plain": [
       "array([0.3964597, 1.2399356, 4.593392 ], dtype=float32)"
      ]
     },
     "execution_count": 84,
     "metadata": {},
     "output_type": "execute_result"
    }
   ],
   "source": [
    "rnd_search_cv.predict(X_new)"
   ]
  }
 ],
 "metadata": {
  "kernelspec": {
   "display_name": "Python 3 (ipykernel)",
   "language": "python",
   "name": "python3"
  },
  "language_info": {
   "codemirror_mode": {
    "name": "ipython",
    "version": 3
   },
   "file_extension": ".py",
   "mimetype": "text/x-python",
   "name": "python",
   "nbconvert_exporter": "python",
   "pygments_lexer": "ipython3",
   "version": "3.9.13"
  }
 },
 "nbformat": 4,
 "nbformat_minor": 5
}
