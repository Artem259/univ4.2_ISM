{
 "cells": [
  {
   "cell_type": "code",
   "execution_count": 1,
   "id": "initial_id",
   "metadata": {
    "ExecuteTime": {
     "end_time": "2024-03-08T01:17:12.705342500Z",
     "start_time": "2024-03-08T01:17:10.984227700Z"
    }
   },
   "outputs": [
    {
     "name": "stdout",
     "output_type": "stream",
     "text": [
      "WARNING:tensorflow:From C:\\GAMES and PROGRAMS\\my programs\\univ4.2\\univ4.2_ISM\\venv\\lib\\site-packages\\keras\\src\\losses.py:2976: The name tf.losses.sparse_softmax_cross_entropy is deprecated. Please use tf.compat.v1.losses.sparse_softmax_cross_entropy instead.\n",
      "\n"
     ]
    }
   ],
   "source": [
    "import numpy as np\n",
    "import pandas as pd\n",
    "import tensorflow as tf"
   ]
  },
  {
   "cell_type": "markdown",
   "id": "6a4e3aef121d31b9",
   "metadata": {
    "collapsed": false,
    "jupyter": {
     "outputs_hidden": false
    }
   },
   "source": [
    "## From Biological to Artificial Neurons"
   ]
  },
  {
   "cell_type": "markdown",
   "id": "1e69cf5a3aa9621d",
   "metadata": {
    "collapsed": false,
    "jupyter": {
     "outputs_hidden": false
    }
   },
   "source": [
    "#### The Perceptron"
   ]
  },
  {
   "cell_type": "code",
   "execution_count": 2,
   "id": "f70bc748c72744c5",
   "metadata": {
    "ExecuteTime": {
     "end_time": "2024-03-08T01:17:12.798051700Z",
     "start_time": "2024-03-08T01:17:12.706786200Z"
    },
    "collapsed": false,
    "jupyter": {
     "outputs_hidden": false
    }
   },
   "outputs": [
    {
     "data": {
      "text/plain": [
       "array([5.1, 3.5, 1.4, 0.2])"
      ]
     },
     "execution_count": 2,
     "metadata": {},
     "output_type": "execute_result"
    }
   ],
   "source": [
    "from sklearn.datasets import load_iris\n",
    "from sklearn.linear_model import Perceptron\n",
    "\n",
    "iris = load_iris()\n",
    "iris.data[0]"
   ]
  },
  {
   "cell_type": "code",
   "execution_count": 3,
   "id": "547b564dd9349fdf",
   "metadata": {
    "ExecuteTime": {
     "start_time": "2024-03-08T01:17:12.708067200Z"
    },
    "collapsed": false,
    "jupyter": {
     "outputs_hidden": false
    }
   },
   "outputs": [
    {
     "data": {
      "text/plain": [
       "array([1])"
      ]
     },
     "execution_count": 3,
     "metadata": {},
     "output_type": "execute_result"
    }
   ],
   "source": [
    "X = iris.data[:, (2, 3)] # petal length, petal width\n",
    "y = (iris.target == 0).astype(np.int32) # Iris setosa?\n",
    "\n",
    "per_clf = Perceptron(random_state=42)\n",
    "per_clf.fit(X, y)\n",
    "\n",
    "y_pred = per_clf.predict([[2, 0.5]])\n",
    "y_pred"
   ]
  },
  {
   "cell_type": "markdown",
   "id": "5b12212405a80e87",
   "metadata": {
    "collapsed": false,
    "jupyter": {
     "outputs_hidden": false
    }
   },
   "source": [
    "## Implementing MLPs with Keras"
   ]
  },
  {
   "cell_type": "markdown",
   "id": "6ccba6578ad447b2",
   "metadata": {
    "collapsed": false,
    "jupyter": {
     "outputs_hidden": false
    }
   },
   "source": [
    "#### Building an Image Classifier Using the Sequential API"
   ]
  },
  {
   "cell_type": "markdown",
   "id": "dd40b35c0605de0b",
   "metadata": {
    "collapsed": false,
    "jupyter": {
     "outputs_hidden": false
    }
   },
   "source": [
    "##### Using Keras to load the dataset"
   ]
  },
  {
   "cell_type": "code",
   "execution_count": 4,
   "id": "b6c9708af20c086d",
   "metadata": {
    "ExecuteTime": {
     "start_time": "2024-03-08T01:17:12.709226Z"
    },
    "collapsed": false,
    "jupyter": {
     "outputs_hidden": false
    }
   },
   "outputs": [],
   "source": [
    "from tensorflow import keras\n",
    "\n",
    "fashion_mnist = keras.datasets.fashion_mnist\n",
    "(X_train_full, y_train_full), (X_test, y_test) = fashion_mnist.load_data()"
   ]
  },
  {
   "cell_type": "code",
   "execution_count": 5,
   "id": "df55d896bdb8205d",
   "metadata": {
    "ExecuteTime": {
     "start_time": "2024-03-08T01:17:12.710233300Z"
    },
    "collapsed": false,
    "jupyter": {
     "outputs_hidden": false
    }
   },
   "outputs": [
    {
     "data": {
      "text/plain": [
       "(60000, 28, 28)"
      ]
     },
     "execution_count": 5,
     "metadata": {},
     "output_type": "execute_result"
    }
   ],
   "source": [
    "X_train_full.shape"
   ]
  },
  {
   "cell_type": "code",
   "execution_count": 6,
   "id": "999461d96364b08d",
   "metadata": {
    "ExecuteTime": {
     "start_time": "2024-03-08T01:17:12.711232700Z"
    },
    "collapsed": false,
    "jupyter": {
     "outputs_hidden": false
    }
   },
   "outputs": [
    {
     "data": {
      "text/plain": [
       "dtype('uint8')"
      ]
     },
     "execution_count": 6,
     "metadata": {},
     "output_type": "execute_result"
    }
   ],
   "source": [
    "X_train_full.dtype"
   ]
  },
  {
   "cell_type": "code",
   "execution_count": 7,
   "id": "61f11c8fc85d7da9",
   "metadata": {
    "ExecuteTime": {
     "start_time": "2024-03-08T01:17:12.713233900Z"
    },
    "collapsed": false,
    "jupyter": {
     "outputs_hidden": false
    }
   },
   "outputs": [],
   "source": [
    "X_valid, X_train = X_train_full[:5000] / 255., X_train_full[5000:] / 255.\n",
    "y_valid, y_train = y_train_full[:5000], y_train_full[5000:]\n",
    "X_test = X_test / 255."
   ]
  },
  {
   "cell_type": "code",
   "execution_count": 8,
   "id": "7b95607ddb3e37e9",
   "metadata": {
    "ExecuteTime": {
     "start_time": "2024-03-08T01:17:12.714233800Z"
    },
    "collapsed": false,
    "jupyter": {
     "outputs_hidden": false
    }
   },
   "outputs": [
    {
     "data": {
      "text/plain": [
       "array([4, 0, 7, ..., 3, 0, 5], dtype=uint8)"
      ]
     },
     "execution_count": 8,
     "metadata": {},
     "output_type": "execute_result"
    }
   ],
   "source": [
    "y_train"
   ]
  },
  {
   "cell_type": "code",
   "execution_count": 9,
   "id": "b5913c3abb78afd3",
   "metadata": {
    "ExecuteTime": {
     "start_time": "2024-03-08T01:17:12.714233800Z"
    },
    "collapsed": false,
    "jupyter": {
     "outputs_hidden": false
    }
   },
   "outputs": [],
   "source": [
    "class_names = [\"T-shirt/top\", \"Trouser\", \"Pullover\", \"Dress\", \"Coat\", \"Sandal\", \"Shirt\", \"Sneaker\", \"Bag\", \"Ankle boot\"]"
   ]
  },
  {
   "cell_type": "code",
   "execution_count": 10,
   "id": "ae497b507ddf434e",
   "metadata": {
    "ExecuteTime": {
     "start_time": "2024-03-08T01:17:12.715233200Z"
    },
    "collapsed": false,
    "jupyter": {
     "outputs_hidden": false
    }
   },
   "outputs": [
    {
     "data": {
      "image/png": "[encoded data removed]",
      "text/plain": [
       "<Figure size 640x480 with 1 Axes>"
      ]
     },
     "metadata": {},
     "output_type": "display_data"
    },
    {
     "data": {
      "text/plain": [
       "'Coat'"
      ]
     },
     "execution_count": 10,
     "metadata": {},
     "output_type": "execute_result"
    }
   ],
   "source": [
    "from matplotlib import pyplot as plt\n",
    "\n",
    "plt.imshow(X_train[0], cmap=\"binary\")\n",
    "plt.axis('off')\n",
    "plt.show()\n",
    "class_names[y_train[0]]"
   ]
  },
  {
   "cell_type": "markdown",
   "id": "34fae3b6f7ac9783",
   "metadata": {
    "collapsed": false,
    "jupyter": {
     "outputs_hidden": false
    }
   },
   "source": [
    "##### Creating the model using the Sequential API"
   ]
  },
  {
   "cell_type": "code",
   "execution_count": 11,
   "id": "7ce14cb1cbb2e9c6",
   "metadata": {
    "ExecuteTime": {
     "start_time": "2024-03-08T01:17:12.716233700Z"
    },
    "collapsed": false,
    "jupyter": {
     "outputs_hidden": false
    }
   },
   "outputs": [
    {
     "name": "stdout",
     "output_type": "stream",
     "text": [
      "WARNING:tensorflow:From C:\\GAMES and PROGRAMS\\my programs\\univ4.2\\univ4.2_ISM\\venv\\lib\\site-packages\\keras\\src\\backend.py:277: The name tf.reset_default_graph is deprecated. Please use tf.compat.v1.reset_default_graph instead.\n",
      "\n"
     ]
    }
   ],
   "source": [
    "keras.backend.clear_session()\n",
    "np.random.seed(42)\n",
    "tf.random.set_seed(42)"
   ]
  },
  {
   "cell_type": "code",
   "execution_count": 12,
   "id": "68483c36eaeb7fc9",
   "metadata": {
    "ExecuteTime": {
     "start_time": "2024-03-08T01:17:12.718235200Z"
    },
    "collapsed": false,
    "jupyter": {
     "outputs_hidden": false
    }
   },
   "outputs": [],
   "source": [
    "model = keras.models.Sequential()\n",
    "model.add(keras.layers.Flatten(input_shape=[28, 28]))\n",
    "model.add(keras.layers.Dense(300, activation=\"relu\"))\n",
    "model.add(keras.layers.Dense(100, activation=\"relu\"))\n",
    "model.add(keras.layers.Dense(10, activation=\"softmax\"))"
   ]
  },
  {
   "cell_type": "code",
   "execution_count": 13,
   "id": "830c6389024246ce",
   "metadata": {
    "ExecuteTime": {
     "start_time": "2024-03-08T01:17:12.718742500Z"
    },
    "collapsed": false,
    "jupyter": {
     "outputs_hidden": false
    }
   },
   "outputs": [
    {
     "name": "stdout",
     "output_type": "stream",
     "text": [
      "Model: \"sequential\"\n",
      "_________________________________________________________________\n",
      " Layer (type)                Output Shape              Param #   \n",
      "=================================================================\n",
      " flatten (Flatten)           (None, 784)               0         \n",
      "                                                                 \n",
      " dense (Dense)               (None, 300)               235500    \n",
      "                                                                 \n",
      " dense_1 (Dense)             (None, 100)               30100     \n",
      "                                                                 \n",
      " dense_2 (Dense)             (None, 10)                1010      \n",
      "                                                                 \n",
      "=================================================================\n",
      "Total params: 266610 (1.02 MB)\n",
      "Trainable params: 266610 (1.02 MB)\n",
      "Non-trainable params: 0 (0.00 Byte)\n",
      "_________________________________________________________________\n"
     ]
    }
   ],
   "source": [
    "model.summary()"
   ]
  },
  {
   "cell_type": "code",
   "execution_count": 14,
   "id": "7b99b6a34f2696ad",
   "metadata": {
    "ExecuteTime": {
     "start_time": "2024-03-08T01:17:12.725259100Z"
    },
    "collapsed": false,
    "jupyter": {
     "outputs_hidden": false
    }
   },
   "outputs": [
    {
     "data": {
      "text/plain": [
       "[<keras.src.layers.reshaping.flatten.Flatten at 0x21dbedb71c0>,\n",
       " <keras.src.layers.core.dense.Dense at 0x21dbeca6c40>,\n",
       " <keras.src.layers.core.dense.Dense at 0x21dbeca6df0>,\n",
       " <keras.src.layers.core.dense.Dense at 0x21dbec7c6a0>]"
      ]
     },
     "execution_count": 14,
     "metadata": {},
     "output_type": "execute_result"
    }
   ],
   "source": [
    "model.layers"
   ]
  },
  {
   "cell_type": "code",
   "execution_count": 15,
   "id": "5de6abb04a324b4a",
   "metadata": {
    "ExecuteTime": {
     "start_time": "2024-03-08T01:17:12.726259800Z"
    },
    "collapsed": false,
    "jupyter": {
     "outputs_hidden": false
    }
   },
   "outputs": [
    {
     "data": {
      "text/plain": [
       "'dense'"
      ]
     },
     "execution_count": 15,
     "metadata": {},
     "output_type": "execute_result"
    }
   ],
   "source": [
    "hidden1 = model.layers[1]\n",
    "hidden1.name"
   ]
  },
  {
   "cell_type": "code",
   "execution_count": 16,
   "id": "c4f320c97879523c",
   "metadata": {
    "ExecuteTime": {
     "start_time": "2024-03-08T01:17:12.727259500Z"
    },
    "collapsed": false,
    "jupyter": {
     "outputs_hidden": false
    }
   },
   "outputs": [
    {
     "data": {
      "text/plain": [
       "True"
      ]
     },
     "execution_count": 16,
     "metadata": {},
     "output_type": "execute_result"
    }
   ],
   "source": [
    "model.get_layer(\"dense\") is hidden1"
   ]
  },
  {
   "cell_type": "code",
   "execution_count": 17,
   "id": "543c76548241c0f2",
   "metadata": {
    "ExecuteTime": {
     "start_time": "2024-03-08T01:17:12.728764500Z"
    },
    "collapsed": false,
    "jupyter": {
     "outputs_hidden": false
    }
   },
   "outputs": [],
   "source": [
    "weights, biases = hidden1.get_weights()"
   ]
  },
  {
   "cell_type": "code",
   "execution_count": 18,
   "id": "ef689b2d7b0425e9",
   "metadata": {
    "ExecuteTime": {
     "start_time": "2024-03-08T01:17:12.729770700Z"
    },
    "collapsed": false,
    "jupyter": {
     "outputs_hidden": false
    }
   },
   "outputs": [
    {
     "data": {
      "text/plain": [
       "(784, 300)"
      ]
     },
     "execution_count": 18,
     "metadata": {},
     "output_type": "execute_result"
    }
   ],
   "source": [
    "weights.shape"
   ]
  },
  {
   "cell_type": "code",
   "execution_count": 19,
   "id": "dcd06ebb810b82d0",
   "metadata": {
    "ExecuteTime": {
     "start_time": "2024-03-08T01:17:12.730775900Z"
    },
    "collapsed": false,
    "jupyter": {
     "outputs_hidden": false
    }
   },
   "outputs": [
    {
     "data": {
      "text/plain": [
       "(300,)"
      ]
     },
     "execution_count": 19,
     "metadata": {},
     "output_type": "execute_result"
    }
   ],
   "source": [
    "biases.shape"
   ]
  },
  {
   "cell_type": "markdown",
   "id": "9b8bbb0db518e6f5",
   "metadata": {
    "collapsed": false,
    "jupyter": {
     "outputs_hidden": false
    }
   },
   "source": [
    "##### Compiling the model"
   ]
  },
  {
   "cell_type": "code",
   "execution_count": 20,
   "id": "e40494a280b198fb",
   "metadata": {
    "ExecuteTime": {
     "start_time": "2024-03-08T01:17:12.731775500Z"
    },
    "collapsed": false,
    "jupyter": {
     "outputs_hidden": false
    }
   },
   "outputs": [],
   "source": [
    "model.compile(loss=keras.losses.sparse_categorical_crossentropy,\n",
    "              optimizer=keras.optimizers.SGD(learning_rate=0.01),\n",
    "              metrics=[\"accuracy\"])"
   ]
  },
  {
   "cell_type": "markdown",
   "id": "bb90b746afecfa8c",
   "metadata": {
    "collapsed": false,
    "jupyter": {
     "outputs_hidden": false
    }
   },
   "source": [
    "##### Training and evaluating the model"
   ]
  },
  {
   "cell_type": "code",
   "execution_count": 21,
   "id": "ab1638e29f44e5d7",
   "metadata": {
    "ExecuteTime": {
     "start_time": "2024-03-08T01:17:12.732775600Z"
    },
    "collapsed": false,
    "jupyter": {
     "outputs_hidden": false
    }
   },
   "outputs": [
    {
     "name": "stdout",
     "output_type": "stream",
     "text": [
      "Epoch 1/30\n",
      "WARNING:tensorflow:From C:\\GAMES and PROGRAMS\\my programs\\univ4.2\\univ4.2_ISM\\venv\\lib\\site-packages\\keras\\src\\utils\\tf_utils.py:492: The name tf.ragged.RaggedTensorValue is deprecated. Please use tf.compat.v1.ragged.RaggedTensorValue instead.\n",
      "\n",
      "WARNING:tensorflow:From C:\\GAMES and PROGRAMS\\my programs\\univ4.2\\univ4.2_ISM\\venv\\lib\\site-packages\\keras\\src\\engine\\base_layer_utils.py:384: The name tf.executing_eagerly_outside_functions is deprecated. Please use tf.compat.v1.executing_eagerly_outside_functions instead.\n",
      "\n",
      "1719/1719 [==============================] - 2s 1ms/step - loss: 0.7178 - accuracy: 0.7614 - val_loss: 0.5311 - val_accuracy: 0.8216\n",
      "Epoch 2/30\n",
      "1719/1719 [==============================] - 2s 1ms/step - loss: 0.4874 - accuracy: 0.8288 - val_loss: 0.4371 - val_accuracy: 0.8462\n",
      "Epoch 3/30\n",
      "1719/1719 [==============================] - 2s 987us/step - loss: 0.4411 - accuracy: 0.8444 - val_loss: 0.5623 - val_accuracy: 0.7906\n",
      "Epoch 4/30\n",
      "1719/1719 [==============================] - 2s 978us/step - loss: 0.4145 - accuracy: 0.8545 - val_loss: 0.3943 - val_accuracy: 0.8678\n",
      "Epoch 5/30\n",
      "1719/1719 [==============================] - 2s 967us/step - loss: 0.3958 - accuracy: 0.8611 - val_loss: 0.3774 - val_accuracy: 0.8680\n",
      "Epoch 6/30\n",
      "1719/1719 [==============================] - 2s 974us/step - loss: 0.3771 - accuracy: 0.8682 - val_loss: 0.3697 - val_accuracy: 0.8710\n",
      "Epoch 7/30\n",
      "1719/1719 [==============================] - 2s 970us/step - loss: 0.3653 - accuracy: 0.8706 - val_loss: 0.3629 - val_accuracy: 0.8730\n",
      "Epoch 8/30\n",
      "1719/1719 [==============================] - 2s 990us/step - loss: 0.3538 - accuracy: 0.8737 - val_loss: 0.3853 - val_accuracy: 0.8608\n",
      "Epoch 9/30\n",
      "1719/1719 [==============================] - 2s 980us/step - loss: 0.3434 - accuracy: 0.8791 - val_loss: 0.3525 - val_accuracy: 0.8748\n",
      "Epoch 10/30\n",
      "1719/1719 [==============================] - 2s 992us/step - loss: 0.3341 - accuracy: 0.8810 - val_loss: 0.3495 - val_accuracy: 0.8734\n",
      "Epoch 11/30\n",
      "1719/1719 [==============================] - 2s 977us/step - loss: 0.3259 - accuracy: 0.8841 - val_loss: 0.3481 - val_accuracy: 0.8776\n",
      "Epoch 12/30\n",
      "1719/1719 [==============================] - 2s 979us/step - loss: 0.3169 - accuracy: 0.8861 - val_loss: 0.3332 - val_accuracy: 0.8804\n",
      "Epoch 13/30\n",
      "1719/1719 [==============================] - 2s 986us/step - loss: 0.3101 - accuracy: 0.8888 - val_loss: 0.3324 - val_accuracy: 0.8822\n",
      "Epoch 14/30\n",
      "1719/1719 [==============================] - 2s 979us/step - loss: 0.3036 - accuracy: 0.8907 - val_loss: 0.3469 - val_accuracy: 0.8724\n",
      "Epoch 15/30\n",
      "1719/1719 [==============================] - 2s 976us/step - loss: 0.2961 - accuracy: 0.8943 - val_loss: 0.3254 - val_accuracy: 0.8812\n",
      "Epoch 16/30\n",
      "1719/1719 [==============================] - 2s 981us/step - loss: 0.2906 - accuracy: 0.8964 - val_loss: 0.3113 - val_accuracy: 0.8872\n",
      "Epoch 17/30\n",
      "1719/1719 [==============================] - 2s 979us/step - loss: 0.2848 - accuracy: 0.8979 - val_loss: 0.3560 - val_accuracy: 0.8726\n",
      "Epoch 18/30\n",
      "1719/1719 [==============================] - 2s 983us/step - loss: 0.2787 - accuracy: 0.9002 - val_loss: 0.3153 - val_accuracy: 0.8878\n",
      "Epoch 19/30\n",
      "1719/1719 [==============================] - 2s 990us/step - loss: 0.2736 - accuracy: 0.9016 - val_loss: 0.3125 - val_accuracy: 0.8868\n",
      "Epoch 20/30\n",
      "1719/1719 [==============================] - 2s 997us/step - loss: 0.2683 - accuracy: 0.9035 - val_loss: 0.3252 - val_accuracy: 0.8816\n",
      "Epoch 21/30\n",
      "1719/1719 [==============================] - 2s 1ms/step - loss: 0.2631 - accuracy: 0.9059 - val_loss: 0.3034 - val_accuracy: 0.8908\n",
      "Epoch 22/30\n",
      "1719/1719 [==============================] - 2s 1ms/step - loss: 0.2582 - accuracy: 0.9073 - val_loss: 0.2979 - val_accuracy: 0.8922\n",
      "Epoch 23/30\n",
      "1719/1719 [==============================] - 2s 1ms/step - loss: 0.2538 - accuracy: 0.9086 - val_loss: 0.3003 - val_accuracy: 0.8932\n",
      "Epoch 24/30\n",
      "1719/1719 [==============================] - 2s 979us/step - loss: 0.2496 - accuracy: 0.9103 - val_loss: 0.3063 - val_accuracy: 0.8862\n",
      "Epoch 25/30\n",
      "1719/1719 [==============================] - 2s 979us/step - loss: 0.2449 - accuracy: 0.9115 - val_loss: 0.2990 - val_accuracy: 0.8948\n",
      "Epoch 26/30\n",
      "1719/1719 [==============================] - 2s 971us/step - loss: 0.2407 - accuracy: 0.9126 - val_loss: 0.3041 - val_accuracy: 0.8916\n",
      "Epoch 27/30\n",
      "1719/1719 [==============================] - 2s 978us/step - loss: 0.2370 - accuracy: 0.9154 - val_loss: 0.3015 - val_accuracy: 0.8940\n",
      "Epoch 28/30\n",
      "1719/1719 [==============================] - 2s 984us/step - loss: 0.2336 - accuracy: 0.9159 - val_loss: 0.2951 - val_accuracy: 0.8928\n",
      "Epoch 29/30\n",
      "1719/1719 [==============================] - 2s 1ms/step - loss: 0.2289 - accuracy: 0.9183 - val_loss: 0.3076 - val_accuracy: 0.8902\n",
      "Epoch 30/30\n",
      "1719/1719 [==============================] - 2s 1ms/step - loss: 0.2253 - accuracy: 0.9191 - val_loss: 0.3105 - val_accuracy: 0.8908\n"
     ]
    }
   ],
   "source": [
    "history = model.fit(X_train, y_train, epochs=30, validation_data=(X_valid, y_valid))"
   ]
  },
  {
   "cell_type": "code",
   "execution_count": 22,
   "id": "fabffeea10649f46",
   "metadata": {
    "ExecuteTime": {
     "start_time": "2024-03-08T01:17:12.733776300Z"
    },
    "collapsed": false,
    "jupyter": {
     "outputs_hidden": false
    }
   },
   "outputs": [
    {
     "data": {
      "text/plain": [
       "{'verbose': 1, 'epochs': 30, 'steps': 1719}"
      ]
     },
     "execution_count": 22,
     "metadata": {},
     "output_type": "execute_result"
    }
   ],
   "source": [
    "history.params"
   ]
  },
  {
   "cell_type": "code",
   "execution_count": 23,
   "id": "51a23506d5108e1",
   "metadata": {
    "ExecuteTime": {
     "start_time": "2024-03-08T01:17:12.734775600Z"
    },
    "collapsed": false,
    "jupyter": {
     "outputs_hidden": false
    }
   },
   "outputs": [
    {
     "data": {
      "text/plain": [
       "30"
      ]
     },
     "execution_count": 23,
     "metadata": {},
     "output_type": "execute_result"
    }
   ],
   "source": [
    "len(history.epoch)"
   ]
  },
  {
   "cell_type": "code",
   "execution_count": 24,
   "id": "74866b1b66c2d3a8",
   "metadata": {
    "ExecuteTime": {
     "start_time": "2024-03-08T01:17:12.735776300Z"
    },
    "collapsed": false,
    "jupyter": {
     "outputs_hidden": false
    }
   },
   "outputs": [
    {
     "data": {
      "text/plain": [
       "dict_keys(['loss', 'accuracy', 'val_loss', 'val_accuracy'])"
      ]
     },
     "execution_count": 24,
     "metadata": {},
     "output_type": "execute_result"
    }
   ],
   "source": [
    "history.history.keys()"
   ]
  },
  {
   "cell_type": "code",
   "execution_count": 25,
   "id": "bc8f465e0085ce6e",
   "metadata": {
    "ExecuteTime": {
     "start_time": "2024-03-08T01:17:12.736775700Z"
    },
    "collapsed": false,
    "jupyter": {
     "outputs_hidden": false
    }
   },
   "outputs": [
    {
     "data": {
      "image/png": "[encoded data removed]",
      "text/plain": [
       "<Figure size 800x500 with 1 Axes>"
      ]
     },
     "metadata": {},
     "output_type": "display_data"
    }
   ],
   "source": [
    "pd.DataFrame(history.history).plot(figsize=(8, 5))\n",
    "plt.grid(True)\n",
    "plt.gca().set_ylim(0, 1) # set the vertical range to [0-1]\n",
    "plt.show()"
   ]
  },
  {
   "cell_type": "code",
   "execution_count": 26,
   "id": "c2ecaf9ba80ba35",
   "metadata": {
    "ExecuteTime": {
     "start_time": "2024-03-08T01:17:12.738281300Z"
    },
    "collapsed": false,
    "jupyter": {
     "outputs_hidden": false
    }
   },
   "outputs": [
    {
     "name": "stdout",
     "output_type": "stream",
     "text": [
      "313/313 [==============================] - 0s 739us/step - loss: 0.3389 - accuracy: 0.8822\n"
     ]
    },
    {
     "data": {
      "text/plain": [
       "[0.3388993740081787, 0.8822000026702881]"
      ]
     },
     "execution_count": 26,
     "metadata": {},
     "output_type": "execute_result"
    }
   ],
   "source": [
    "model.evaluate(X_test, y_test)"
   ]
  },
  {
   "cell_type": "markdown",
   "id": "db2c144831b71a26",
   "metadata": {
    "collapsed": false,
    "jupyter": {
     "outputs_hidden": false
    }
   },
   "source": [
    "##### Using the model to make predictions"
   ]
  },
  {
   "cell_type": "code",
   "execution_count": 27,
   "id": "ba3d8414ecf4d3a9",
   "metadata": {
    "ExecuteTime": {
     "start_time": "2024-03-08T01:17:12.739287Z"
    },
    "collapsed": false,
    "jupyter": {
     "outputs_hidden": false
    }
   },
   "outputs": [
    {
     "data": {
      "text/plain": [
       "array([[0.  , 0.  , 0.  , 0.  , 0.  , 0.03, 0.  , 0.04, 0.  , 0.93],\n",
       "       [0.  , 0.  , 1.  , 0.  , 0.  , 0.  , 0.  , 0.  , 0.  , 0.  ],\n",
       "       [0.  , 1.  , 0.  , 0.  , 0.  , 0.  , 0.  , 0.  , 0.  , 0.  ]],\n",
       "      dtype=float32)"
      ]
     },
     "execution_count": 27,
     "metadata": {},
     "output_type": "execute_result"
    }
   ],
   "source": [
    "X_new = X_test[:3]\n",
    "y_proba = model.predict(X_new, verbose=0)\n",
    "y_proba.round(2)"
   ]
  },
  {
   "cell_type": "code",
   "execution_count": 28,
   "id": "4abbb7aef9aece9a",
   "metadata": {
    "ExecuteTime": {
     "start_time": "2024-03-08T01:17:12.741292900Z"
    },
    "collapsed": false,
    "jupyter": {
     "outputs_hidden": false
    }
   },
   "outputs": [
    {
     "data": {
      "text/plain": [
       "array([9, 2, 1], dtype=int64)"
      ]
     },
     "execution_count": 28,
     "metadata": {},
     "output_type": "execute_result"
    }
   ],
   "source": [
    "y_pred = np.argmax(model.predict(X_new, verbose=0), axis=-1)\n",
    "y_pred"
   ]
  },
  {
   "cell_type": "code",
   "execution_count": 29,
   "id": "2ef2b995d2ddb902",
   "metadata": {
    "ExecuteTime": {
     "start_time": "2024-03-08T01:17:12.742292300Z"
    },
    "collapsed": false,
    "jupyter": {
     "outputs_hidden": false
    }
   },
   "outputs": [
    {
     "data": {
      "text/plain": [
       "array(['Ankle boot', 'Pullover', 'Trouser'], dtype='<U11')"
      ]
     },
     "execution_count": 29,
     "metadata": {},
     "output_type": "execute_result"
    }
   ],
   "source": [
    "np.array(class_names)[y_pred]"
   ]
  },
  {
   "cell_type": "code",
   "execution_count": 30,
   "id": "4051869ba49eb95",
   "metadata": {
    "ExecuteTime": {
     "start_time": "2024-03-08T01:17:12.743291600Z"
    },
    "collapsed": false,
    "jupyter": {
     "outputs_hidden": false
    }
   },
   "outputs": [
    {
     "data": {
      "text/plain": [
       "array([9, 2, 1], dtype=uint8)"
      ]
     },
     "execution_count": 30,
     "metadata": {},
     "output_type": "execute_result"
    }
   ],
   "source": [
    "y_new = y_test[:3]\n",
    "y_new"
   ]
  },
  {
   "cell_type": "markdown",
   "id": "589dcd4fb1aa62b4",
   "metadata": {
    "collapsed": false,
    "jupyter": {
     "outputs_hidden": false
    }
   },
   "source": [
    "#### Building a Regression MLP Using the Sequential API"
   ]
  },
  {
   "cell_type": "code",
   "execution_count": 31,
   "id": "f155ec360cb4f242",
   "metadata": {
    "ExecuteTime": {
     "start_time": "2024-03-08T01:17:12.744293900Z"
    },
    "collapsed": false,
    "jupyter": {
     "outputs_hidden": false
    }
   },
   "outputs": [],
   "source": [
    "from sklearn.datasets import fetch_california_housing\n",
    "from sklearn.model_selection import train_test_split\n",
    "from sklearn.preprocessing import StandardScaler\n",
    "\n",
    "housing = fetch_california_housing()\n",
    "\n",
    "X_train_full, X_test, y_train_full, y_test = train_test_split(housing.data, housing.target, random_state=42)\n",
    "X_train, X_valid, y_train, y_valid = train_test_split(X_train_full, y_train_full, random_state=42)\n",
    "\n",
    "scaler = StandardScaler()\n",
    "X_train = scaler.fit_transform(X_train)\n",
    "X_valid = scaler.transform(X_valid)\n",
    "X_test = scaler.transform(X_test)"
   ]
  },
  {
   "cell_type": "code",
   "execution_count": 32,
   "id": "937d67c76dd5a93f",
   "metadata": {
    "ExecuteTime": {
     "start_time": "2024-03-08T01:17:12.745293800Z"
    },
    "collapsed": false,
    "jupyter": {
     "outputs_hidden": false
    }
   },
   "outputs": [
    {
     "name": "stdout",
     "output_type": "stream",
     "text": [
      "Epoch 1/20\n",
      "363/363 [==============================] - 0s 890us/step - loss: 1.9757 - val_loss: 0.9517\n",
      "Epoch 2/20\n",
      "363/363 [==============================] - 0s 777us/step - loss: 0.8091 - val_loss: 0.7080\n",
      "Epoch 3/20\n",
      "363/363 [==============================] - 0s 756us/step - loss: 0.6884 - val_loss: 0.6455\n",
      "Epoch 4/20\n",
      "363/363 [==============================] - 0s 740us/step - loss: 0.6301 - val_loss: 0.5885\n",
      "Epoch 5/20\n",
      "363/363 [==============================] - 0s 718us/step - loss: 0.5902 - val_loss: 0.5480\n",
      "Epoch 6/20\n",
      "363/363 [==============================] - 0s 753us/step - loss: 0.5604 - val_loss: 0.5303\n",
      "Epoch 7/20\n",
      "363/363 [==============================] - 0s 736us/step - loss: 0.5370 - val_loss: 0.5199\n",
      "Epoch 8/20\n",
      "363/363 [==============================] - 0s 751us/step - loss: 0.5190 - val_loss: 0.4880\n",
      "Epoch 9/20\n",
      "363/363 [==============================] - 0s 891us/step - loss: 0.5040 - val_loss: 0.4806\n",
      "Epoch 10/20\n",
      "363/363 [==============================] - 0s 828us/step - loss: 0.4918 - val_loss: 0.4675\n",
      "Epoch 11/20\n",
      "363/363 [==============================] - 0s 726us/step - loss: 0.4815 - val_loss: 0.4479\n",
      "Epoch 12/20\n",
      "363/363 [==============================] - 0s 739us/step - loss: 0.4726 - val_loss: 0.4441\n",
      "Epoch 13/20\n",
      "363/363 [==============================] - 0s 739us/step - loss: 0.4649 - val_loss: 0.4327\n",
      "Epoch 14/20\n",
      "363/363 [==============================] - 0s 749us/step - loss: 0.4580 - val_loss: 0.4283\n",
      "Epoch 15/20\n",
      "363/363 [==============================] - 0s 716us/step - loss: 0.4518 - val_loss: 0.4193\n",
      "Epoch 16/20\n",
      "363/363 [==============================] - 0s 711us/step - loss: 0.4463 - val_loss: 0.4142\n",
      "Epoch 17/20\n",
      "363/363 [==============================] - 0s 734us/step - loss: 0.4415 - val_loss: 0.4076\n",
      "Epoch 18/20\n",
      "363/363 [==============================] - 0s 751us/step - loss: 0.4369 - val_loss: 0.4034\n",
      "Epoch 19/20\n",
      "363/363 [==============================] - 0s 710us/step - loss: 0.4326 - val_loss: 0.4008\n",
      "Epoch 20/20\n",
      "363/363 [==============================] - 0s 781us/step - loss: 0.4290 - val_loss: 0.3986\n"
     ]
    }
   ],
   "source": [
    "model = keras.models.Sequential([\n",
    "    keras.layers.Dense(30, activation=\"relu\", input_shape=X_train.shape[1:]),\n",
    "    keras.layers.Dense(1)\n",
    "])\n",
    "model.compile(loss=\"mean_squared_error\", optimizer=keras.optimizers.SGD(learning_rate=1e-3))\n",
    "history = model.fit(X_train, y_train, epochs=20, validation_data=(X_valid, y_valid))"
   ]
  },
  {
   "cell_type": "code",
   "execution_count": 33,
   "id": "882dffcacb829a90",
   "metadata": {
    "ExecuteTime": {
     "start_time": "2024-03-08T01:17:12.745293800Z"
    },
    "collapsed": false,
    "jupyter": {
     "outputs_hidden": false
    }
   },
   "outputs": [
    {
     "data": {
      "image/png": "[encoded data removed]",
      "text/plain": [
       "<Figure size 640x480 with 1 Axes>"
      ]
     },
     "metadata": {},
     "output_type": "display_data"
    }
   ],
   "source": [
    "plt.plot(pd.DataFrame(history.history))\n",
    "plt.grid(True)\n",
    "plt.gca().set_ylim(0, 1)\n",
    "plt.show()"
   ]
  },
  {
   "cell_type": "code",
   "execution_count": 34,
   "id": "b4ce1684c39ddaf2",
   "metadata": {
    "ExecuteTime": {
     "start_time": "2024-03-08T01:17:12.746292300Z"
    },
    "collapsed": false,
    "jupyter": {
     "outputs_hidden": false
    }
   },
   "outputs": [
    {
     "name": "stdout",
     "output_type": "stream",
     "text": [
      "162/162 [==============================] - 0s 599us/step - loss: 0.4168\n"
     ]
    },
    {
     "data": {
      "text/plain": [
       "0.41676920652389526"
      ]
     },
     "execution_count": 34,
     "metadata": {},
     "output_type": "execute_result"
    }
   ],
   "source": [
    "model.evaluate(X_test, y_test)"
   ]
  },
  {
   "cell_type": "code",
   "execution_count": 35,
   "id": "4507daff65b29270",
   "metadata": {
    "ExecuteTime": {
     "start_time": "2024-03-08T01:17:12.747291500Z"
    },
    "collapsed": false,
    "jupyter": {
     "outputs_hidden": false
    }
   },
   "outputs": [
    {
     "data": {
      "text/plain": [
       "array([[0.48541033],\n",
       "       [1.7346878 ],\n",
       "       [3.2370737 ]], dtype=float32)"
      ]
     },
     "execution_count": 35,
     "metadata": {},
     "output_type": "execute_result"
    }
   ],
   "source": [
    "X_new = X_test[:3]\n",
    "y_pred = model.predict(X_new, verbose=0)\n",
    "y_pred"
   ]
  },
  {
   "cell_type": "code",
   "execution_count": 36,
   "id": "bb0c4c02116fb013",
   "metadata": {
    "ExecuteTime": {
     "start_time": "2024-03-08T01:17:12.748292200Z"
    },
    "collapsed": false,
    "jupyter": {
     "outputs_hidden": false
    }
   },
   "outputs": [
    {
     "data": {
      "text/plain": [
       "array([0.477  , 0.458  , 5.00001])"
      ]
     },
     "execution_count": 36,
     "metadata": {},
     "output_type": "execute_result"
    }
   ],
   "source": [
    "y_new = y_test[:3]\n",
    "y_new"
   ]
  },
  {
   "cell_type": "markdown",
   "id": "a44fdd443314daf",
   "metadata": {
    "collapsed": false,
    "jupyter": {
     "outputs_hidden": false
    }
   },
   "source": [
    "#### Building Complex Models Using the Functional API"
   ]
  },
  {
   "cell_type": "code",
   "execution_count": 37,
   "id": "cec46e47eafd4b0f",
   "metadata": {
    "ExecuteTime": {
     "start_time": "2024-03-08T01:17:12.748795300Z"
    },
    "collapsed": false,
    "jupyter": {
     "outputs_hidden": false
    }
   },
   "outputs": [],
   "source": [
    "input_ = keras.layers.Input(shape=X_train.shape[1:])\n",
    "hidden1 = keras.layers.Dense(30, activation=\"relu\")(input_)\n",
    "hidden2 = keras.layers.Dense(30, activation=\"relu\")(hidden1)\n",
    "concat = keras.layers.concatenate([input_, hidden2])\n",
    "output = keras.layers.Dense(1)(concat)\n",
    "model = keras.models.Model(inputs=[input_], outputs=[output])"
   ]
  },
  {
   "cell_type": "code",
   "execution_count": 38,
   "id": "4e4f3da528581633",
   "metadata": {
    "ExecuteTime": {
     "start_time": "2024-03-08T01:17:12.748795300Z"
    },
    "collapsed": false,
    "jupyter": {
     "outputs_hidden": false
    }
   },
   "outputs": [
    {
     "name": "stdout",
     "output_type": "stream",
     "text": [
      "Model: \"model\"\n",
      "__________________________________________________________________________________________________\n",
      " Layer (type)                Output Shape                 Param #   Connected to                  \n",
      "==================================================================================================\n",
      " input_1 (InputLayer)        [(None, 8)]                  0         []                            \n",
      "                                                                                                  \n",
      " dense_5 (Dense)             (None, 30)                   270       ['input_1[0][0]']             \n",
      "                                                                                                  \n",
      " dense_6 (Dense)             (None, 30)                   930       ['dense_5[0][0]']             \n",
      "                                                                                                  \n",
      " concatenate (Concatenate)   (None, 38)                   0         ['input_1[0][0]',             \n",
      "                                                                     'dense_6[0][0]']             \n",
      "                                                                                                  \n",
      " dense_7 (Dense)             (None, 1)                    39        ['concatenate[0][0]']         \n",
      "                                                                                                  \n",
      "==================================================================================================\n",
      "Total params: 1239 (4.84 KB)\n",
      "Trainable params: 1239 (4.84 KB)\n",
      "Non-trainable params: 0 (0.00 Byte)\n",
      "__________________________________________________________________________________________________\n"
     ]
    }
   ],
   "source": [
    "model.summary()"
   ]
  },
  {
   "cell_type": "code",
   "execution_count": 39,
   "id": "c68bdad084ac1afb",
   "metadata": {
    "ExecuteTime": {
     "start_time": "2024-03-08T01:17:12.749799800Z"
    },
    "collapsed": false,
    "jupyter": {
     "outputs_hidden": false
    }
   },
   "outputs": [],
   "source": [
    "input_A = keras.layers.Input(shape=[5], name=\"wide_input\")\n",
    "input_B = keras.layers.Input(shape=[6], name=\"deep_input\")\n",
    "hidden1 = keras.layers.Dense(30, activation=\"relu\")(input_B)\n",
    "hidden2 = keras.layers.Dense(30, activation=\"relu\")(hidden1)\n",
    "concat = keras.layers.concatenate([input_A, hidden2])\n",
    "output = keras.layers.Dense(1, name=\"output\")(concat)\n",
    "model = keras.models.Model(inputs=[input_A, input_B], outputs=[output])"
   ]
  },
  {
   "cell_type": "code",
   "execution_count": 40,
   "id": "c7c9f34cdf09a11d",
   "metadata": {
    "ExecuteTime": {
     "start_time": "2024-03-08T01:17:12.750804200Z"
    },
    "collapsed": false,
    "jupyter": {
     "outputs_hidden": false
    }
   },
   "outputs": [
    {
     "name": "stdout",
     "output_type": "stream",
     "text": [
      "Model: \"model_1\"\n",
      "__________________________________________________________________________________________________\n",
      " Layer (type)                Output Shape                 Param #   Connected to                  \n",
      "==================================================================================================\n",
      " deep_input (InputLayer)     [(None, 6)]                  0         []                            \n",
      "                                                                                                  \n",
      " dense_8 (Dense)             (None, 30)                   210       ['deep_input[0][0]']          \n",
      "                                                                                                  \n",
      " wide_input (InputLayer)     [(None, 5)]                  0         []                            \n",
      "                                                                                                  \n",
      " dense_9 (Dense)             (None, 30)                   930       ['dense_8[0][0]']             \n",
      "                                                                                                  \n",
      " concatenate_1 (Concatenate  (None, 35)                   0         ['wide_input[0][0]',          \n",
      " )                                                                   'dense_9[0][0]']             \n",
      "                                                                                                  \n",
      " output (Dense)              (None, 1)                    36        ['concatenate_1[0][0]']       \n",
      "                                                                                                  \n",
      "==================================================================================================\n",
      "Total params: 1176 (4.59 KB)\n",
      "Trainable params: 1176 (4.59 KB)\n",
      "Non-trainable params: 0 (0.00 Byte)\n",
      "__________________________________________________________________________________________________\n"
     ]
    }
   ],
   "source": [
    "model.summary()"
   ]
  },
  {
   "cell_type": "code",
   "execution_count": 41,
   "id": "1a5b90320a76d2ba",
   "metadata": {
    "ExecuteTime": {
     "start_time": "2024-03-08T01:17:12.751803900Z"
    },
    "collapsed": false,
    "jupyter": {
     "outputs_hidden": false
    }
   },
   "outputs": [
    {
     "name": "stdout",
     "output_type": "stream",
     "text": [
      "Epoch 1/20\n",
      "363/363 [==============================] - 1s 1ms/step - loss: 2.0860 - val_loss: 1.2495\n",
      "Epoch 2/20\n",
      "363/363 [==============================] - 0s 896us/step - loss: 0.7235 - val_loss: 0.7004\n",
      "Epoch 3/20\n",
      "363/363 [==============================] - 0s 794us/step - loss: 0.6544 - val_loss: 0.6126\n",
      "Epoch 4/20\n",
      "363/363 [==============================] - 0s 851us/step - loss: 0.6198 - val_loss: 0.5878\n",
      "Epoch 5/20\n",
      "363/363 [==============================] - 0s 803us/step - loss: 0.5935 - val_loss: 0.5646\n",
      "Epoch 6/20\n",
      "363/363 [==============================] - 0s 884us/step - loss: 0.5701 - val_loss: 0.5427\n",
      "Epoch 7/20\n",
      "363/363 [==============================] - 0s 800us/step - loss: 0.5499 - val_loss: 0.5271\n",
      "Epoch 8/20\n",
      "363/363 [==============================] - 0s 832us/step - loss: 0.5317 - val_loss: 0.5060\n",
      "Epoch 9/20\n",
      "363/363 [==============================] - 0s 849us/step - loss: 0.5153 - val_loss: 0.4872\n",
      "Epoch 10/20\n",
      "363/363 [==============================] - 0s 800us/step - loss: 0.5011 - val_loss: 0.4740\n",
      "Epoch 11/20\n",
      "363/363 [==============================] - 0s 872us/step - loss: 0.4887 - val_loss: 0.4562\n",
      "Epoch 12/20\n",
      "363/363 [==============================] - 0s 878us/step - loss: 0.4777 - val_loss: 0.4453\n",
      "Epoch 13/20\n",
      "363/363 [==============================] - 0s 827us/step - loss: 0.4682 - val_loss: 0.4340\n",
      "Epoch 14/20\n",
      "363/363 [==============================] - 0s 828us/step - loss: 0.4600 - val_loss: 0.4252\n",
      "Epoch 15/20\n",
      "363/363 [==============================] - 0s 822us/step - loss: 0.4532 - val_loss: 0.4185\n",
      "Epoch 16/20\n",
      "363/363 [==============================] - 0s 830us/step - loss: 0.4476 - val_loss: 0.4137\n",
      "Epoch 17/20\n",
      "363/363 [==============================] - 0s 848us/step - loss: 0.4430 - val_loss: 0.4109\n",
      "Epoch 18/20\n",
      "363/363 [==============================] - 0s 871us/step - loss: 0.4393 - val_loss: 0.4101\n",
      "Epoch 19/20\n",
      "363/363 [==============================] - 0s 817us/step - loss: 0.4355 - val_loss: 0.4078\n",
      "Epoch 20/20\n",
      "363/363 [==============================] - 0s 827us/step - loss: 0.4330 - val_loss: 0.4124\n"
     ]
    }
   ],
   "source": [
    "model.compile(loss=\"mse\", optimizer=keras.optimizers.SGD(learning_rate=1e-3))\n",
    "\n",
    "X_train_A, X_train_B = X_train[:, :5], X_train[:, 2:]\n",
    "X_valid_A, X_valid_B = X_valid[:, :5], X_valid[:, 2:]\n",
    "X_test_A, X_test_B = X_test[:, :5], X_test[:, 2:]\n",
    "X_new_A, X_new_B = X_test_A[:3], X_test_B[:3]\n",
    "\n",
    "model.fit((X_train_A, X_train_B), y_train, epochs=20, \n",
    "          validation_data=((X_valid_A, X_valid_B), y_valid));"
   ]
  },
  {
   "cell_type": "code",
   "execution_count": 42,
   "id": "8fd57d74990dea1b",
   "metadata": {
    "ExecuteTime": {
     "start_time": "2024-03-08T01:17:12.752803500Z"
    },
    "collapsed": false,
    "jupyter": {
     "outputs_hidden": false
    }
   },
   "outputs": [
    {
     "name": "stdout",
     "output_type": "stream",
     "text": [
      "162/162 [==============================] - 0s 549us/step - loss: 0.4258\n"
     ]
    },
    {
     "data": {
      "text/plain": [
       "0.42579299211502075"
      ]
     },
     "execution_count": 42,
     "metadata": {},
     "output_type": "execute_result"
    }
   ],
   "source": [
    "model.evaluate((X_test_A, X_test_B), y_test)"
   ]
  },
  {
   "cell_type": "code",
   "execution_count": 43,
   "id": "3735e8379a02c35e",
   "metadata": {
    "ExecuteTime": {
     "start_time": "2024-03-08T01:17:12.752803500Z"
    },
    "collapsed": false,
    "jupyter": {
     "outputs_hidden": false
    }
   },
   "outputs": [
    {
     "data": {
      "text/plain": [
       "array([[0.40059176],\n",
       "       [1.9713526 ],\n",
       "       [3.2045524 ]], dtype=float32)"
      ]
     },
     "execution_count": 43,
     "metadata": {},
     "output_type": "execute_result"
    }
   ],
   "source": [
    "y_pred = model.predict((X_new_A, X_new_B), verbose=0)\n",
    "y_pred"
   ]
  },
  {
   "cell_type": "code",
   "execution_count": 44,
   "id": "6d77d73f2128022c",
   "metadata": {
    "ExecuteTime": {
     "start_time": "2024-03-08T01:17:12.753804500Z"
    },
    "collapsed": false,
    "jupyter": {
     "outputs_hidden": false
    }
   },
   "outputs": [
    {
     "name": "stdout",
     "output_type": "stream",
     "text": [
      "Epoch 1/20\n",
      "363/363 [==============================] - 1s 1ms/step - loss: 2.1523 - main_output_loss: 1.8416 - aux_output_loss: 4.9489 - val_loss: 1.2924 - val_main_output_loss: 1.0207 - val_aux_output_loss: 3.7379\n",
      "Epoch 2/20\n",
      "363/363 [==============================] - 0s 900us/step - loss: 1.0345 - main_output_loss: 0.8015 - aux_output_loss: 3.1308 - val_loss: 1.0669 - val_main_output_loss: 0.8361 - val_aux_output_loss: 3.1436\n",
      "Epoch 3/20\n",
      "363/363 [==============================] - 0s 895us/step - loss: 0.8428 - main_output_loss: 0.6863 - aux_output_loss: 2.2520 - val_loss: 1.0141 - val_main_output_loss: 0.8033 - val_aux_output_loss: 2.9111\n",
      "Epoch 4/20\n",
      "363/363 [==============================] - 0s 899us/step - loss: 0.7583 - main_output_loss: 0.6371 - aux_output_loss: 1.8486 - val_loss: 0.8615 - val_main_output_loss: 0.6649 - val_aux_output_loss: 2.6310\n",
      "Epoch 5/20\n",
      "363/363 [==============================] - 0s 904us/step - loss: 0.7083 - main_output_loss: 0.6050 - aux_output_loss: 1.6381 - val_loss: 0.7758 - val_main_output_loss: 0.6053 - val_aux_output_loss: 2.3105\n",
      "Epoch 6/20\n",
      "363/363 [==============================] - 0s 889us/step - loss: 0.6722 - main_output_loss: 0.5781 - aux_output_loss: 1.5185 - val_loss: 0.7415 - val_main_output_loss: 0.6034 - val_aux_output_loss: 1.9848\n",
      "Epoch 7/20\n",
      "363/363 [==============================] - 0s 853us/step - loss: 0.6448 - main_output_loss: 0.5563 - aux_output_loss: 1.4415 - val_loss: 0.7080 - val_main_output_loss: 0.5956 - val_aux_output_loss: 1.7191\n",
      "Epoch 8/20\n",
      "363/363 [==============================] - 0s 936us/step - loss: 0.6225 - main_output_loss: 0.5376 - aux_output_loss: 1.3859 - val_loss: 0.6314 - val_main_output_loss: 0.5336 - val_aux_output_loss: 1.5113\n",
      "Epoch 9/20\n",
      "363/363 [==============================] - 0s 850us/step - loss: 0.6022 - main_output_loss: 0.5198 - aux_output_loss: 1.3447 - val_loss: 0.6021 - val_main_output_loss: 0.5154 - val_aux_output_loss: 1.3828\n",
      "Epoch 10/20\n",
      "363/363 [==============================] - 0s 916us/step - loss: 0.5852 - main_output_loss: 0.5047 - aux_output_loss: 1.3096 - val_loss: 0.6011 - val_main_output_loss: 0.5225 - val_aux_output_loss: 1.3088\n",
      "Epoch 11/20\n",
      "363/363 [==============================] - 0s 991us/step - loss: 0.5712 - main_output_loss: 0.4925 - aux_output_loss: 1.2797 - val_loss: 0.5440 - val_main_output_loss: 0.4623 - val_aux_output_loss: 1.2794\n",
      "Epoch 12/20\n",
      "363/363 [==============================] - 0s 867us/step - loss: 0.5585 - main_output_loss: 0.4814 - aux_output_loss: 1.2522 - val_loss: 0.5549 - val_main_output_loss: 0.4748 - val_aux_output_loss: 1.2760\n",
      "Epoch 13/20\n",
      "363/363 [==============================] - 0s 859us/step - loss: 0.5478 - main_output_loss: 0.4725 - aux_output_loss: 1.2260 - val_loss: 0.5352 - val_main_output_loss: 0.4518 - val_aux_output_loss: 1.2861\n",
      "Epoch 14/20\n",
      "363/363 [==============================] - 0s 909us/step - loss: 0.5389 - main_output_loss: 0.4653 - aux_output_loss: 1.2014 - val_loss: 0.5240 - val_main_output_loss: 0.4379 - val_aux_output_loss: 1.2988\n",
      "Epoch 15/20\n",
      "363/363 [==============================] - 0s 920us/step - loss: 0.5304 - main_output_loss: 0.4585 - aux_output_loss: 1.1776 - val_loss: 0.5235 - val_main_output_loss: 0.4356 - val_aux_output_loss: 1.3140\n",
      "Epoch 16/20\n",
      "363/363 [==============================] - 0s 850us/step - loss: 0.5232 - main_output_loss: 0.4530 - aux_output_loss: 1.1547 - val_loss: 0.5175 - val_main_output_loss: 0.4274 - val_aux_output_loss: 1.3281\n",
      "Epoch 17/20\n",
      "363/363 [==============================] - 0s 909us/step - loss: 0.5162 - main_output_loss: 0.4477 - aux_output_loss: 1.1327 - val_loss: 0.5068 - val_main_output_loss: 0.4134 - val_aux_output_loss: 1.3474\n",
      "Epoch 18/20\n",
      "363/363 [==============================] - 0s 898us/step - loss: 0.5110 - main_output_loss: 0.4443 - aux_output_loss: 1.1109 - val_loss: 0.5017 - val_main_output_loss: 0.4080 - val_aux_output_loss: 1.3453\n",
      "Epoch 19/20\n",
      "363/363 [==============================] - 0s 863us/step - loss: 0.5049 - main_output_loss: 0.4400 - aux_output_loss: 1.0895 - val_loss: 0.5020 - val_main_output_loss: 0.4091 - val_aux_output_loss: 1.3383\n",
      "Epoch 20/20\n",
      "363/363 [==============================] - 0s 888us/step - loss: 0.5005 - main_output_loss: 0.4374 - aux_output_loss: 1.0689 - val_loss: 0.5004 - val_main_output_loss: 0.4082 - val_aux_output_loss: 1.3293\n"
     ]
    }
   ],
   "source": [
    "input_A = keras.layers.Input(shape=[5], name=\"wide_input\")\n",
    "input_B = keras.layers.Input(shape=[6], name=\"deep_input\")\n",
    "hidden1 = keras.layers.Dense(30, activation=\"relu\")(input_B)\n",
    "hidden2 = keras.layers.Dense(30, activation=\"relu\")(hidden1)\n",
    "concat = keras.layers.concatenate([input_A, hidden2])\n",
    "output = keras.layers.Dense(1, name=\"main_output\")(concat)\n",
    "aux_output = keras.layers.Dense(1, name=\"aux_output\")(hidden2)\n",
    "model = keras.models.Model(inputs=[input_A, input_B], outputs=[output, aux_output])\n",
    "\n",
    "model.compile(loss=[\"mse\", \"mse\"], loss_weights=[0.9, 0.1], optimizer=keras.optimizers.SGD(learning_rate=1e-3))\n",
    "model.fit([X_train_A, X_train_B], [y_train, y_train], epochs=20, \n",
    "          validation_data=([X_valid_A, X_valid_B], [y_valid, y_valid]));"
   ]
  },
  {
   "cell_type": "code",
   "execution_count": 45,
   "id": "6b6eef4c61029c02",
   "metadata": {
    "ExecuteTime": {
     "start_time": "2024-03-08T01:17:12.754803400Z"
    },
    "collapsed": false,
    "jupyter": {
     "outputs_hidden": false
    }
   },
   "outputs": [
    {
     "name": "stdout",
     "output_type": "stream",
     "text": [
      "162/162 [==============================] - 0s 597us/step - loss: 0.4945 - main_output_loss: 0.4344 - aux_output_loss: 1.0357\n"
     ]
    },
    {
     "data": {
      "text/plain": [
       "[0.49453166127204895, 0.43440571427345276, 1.0356658697128296]"
      ]
     },
     "execution_count": 45,
     "metadata": {},
     "output_type": "execute_result"
    }
   ],
   "source": [
    "model.evaluate([X_test_A, X_test_B], [y_test, y_test]) # total_loss, main_loss, aux_loss"
   ]
  },
  {
   "cell_type": "code",
   "execution_count": 46,
   "id": "d208b808681faae1",
   "metadata": {
    "ExecuteTime": {
     "start_time": "2024-03-08T01:17:12.754803400Z"
    },
    "collapsed": false,
    "jupyter": {
     "outputs_hidden": false
    }
   },
   "outputs": [
    {
     "data": {
      "text/plain": [
       "(array([[0.38173598],\n",
       "        [1.9060576 ],\n",
       "        [3.0825558 ]], dtype=float32),\n",
       " array([[1.3341918],\n",
       "        [1.6584282],\n",
       "        [2.1963663]], dtype=float32))"
      ]
     },
     "execution_count": 46,
     "metadata": {},
     "output_type": "execute_result"
    }
   ],
   "source": [
    "y_pred_main, y_pred_aux = model.predict((X_new_A, X_new_B), verbose=0)\n",
    "y_pred_main, y_pred_aux"
   ]
  },
  {
   "cell_type": "markdown",
   "id": "2fc0a47ddc167d49",
   "metadata": {
    "collapsed": false,
    "jupyter": {
     "outputs_hidden": false
    }
   },
   "source": [
    "#### Using the Subclassing API to Build Dynamic Models"
   ]
  },
  {
   "cell_type": "code",
   "execution_count": 47,
   "id": "4c38574b47f7dd1f",
   "metadata": {
    "ExecuteTime": {
     "start_time": "2024-03-08T01:17:12.755803500Z"
    },
    "collapsed": false,
    "jupyter": {
     "outputs_hidden": false
    }
   },
   "outputs": [],
   "source": [
    "class WideAndDeepModel(keras.models.Model):\n",
    "    def __init__(self, units=30, activation=\"relu\", **kwargs):\n",
    "        super().__init__(**kwargs)\n",
    "        self.hidden1 = keras.layers.Dense(units, activation=activation)\n",
    "        self.hidden2 = keras.layers.Dense(units, activation=activation)\n",
    "        self.main_output = keras.layers.Dense(1)\n",
    "        self.aux_output = keras.layers.Dense(1)\n",
    "    \n",
    "    def call(self, inputs, training=None, mask=None):\n",
    "        input_A, input_B = inputs\n",
    "        hidden1 = self.hidden1(input_B)\n",
    "        hidden2 = self.hidden2(hidden1)\n",
    "        concat = keras.layers.concatenate([input_A, hidden2])\n",
    "        main_output = self.main_output(concat)\n",
    "        aux_output = self.aux_output(hidden2)\n",
    "        return main_output, aux_output\n",
    "\n",
    "model = WideAndDeepModel(30, activation=\"relu\")"
   ]
  },
  {
   "cell_type": "code",
   "execution_count": 48,
   "id": "50ce91acb9ce900",
   "metadata": {
    "ExecuteTime": {
     "start_time": "2024-03-08T01:17:12.756803100Z"
    },
    "collapsed": false,
    "jupyter": {
     "outputs_hidden": false
    }
   },
   "outputs": [
    {
     "name": "stdout",
     "output_type": "stream",
     "text": [
      "Epoch 1/20\n",
      "363/363 [==============================] - 1s 1ms/step - loss: 2.3757 - output_1_loss: 2.2349 - output_2_loss: 3.6424 - val_loss: 1.8326 - val_output_1_loss: 0.9139 - val_output_2_loss: 10.1005\n",
      "Epoch 2/20\n",
      "363/363 [==============================] - 0s 996us/step - loss: 0.9658 - output_1_loss: 0.7938 - output_2_loss: 2.5136 - val_loss: 1.8325 - val_output_1_loss: 0.9067 - val_output_2_loss: 10.1644\n",
      "Epoch 3/20\n",
      "363/363 [==============================] - 0s 878us/step - loss: 0.7951 - output_1_loss: 0.6618 - output_2_loss: 1.9952 - val_loss: 1.7396 - val_output_1_loss: 0.8529 - val_output_2_loss: 9.7203\n",
      "Epoch 4/20\n",
      "363/363 [==============================] - 0s 887us/step - loss: 0.7143 - output_1_loss: 0.6053 - output_2_loss: 1.6956 - val_loss: 1.5085 - val_output_1_loss: 0.6774 - val_output_2_loss: 8.9886\n",
      "Epoch 5/20\n",
      "363/363 [==============================] - 0s 859us/step - loss: 0.6602 - output_1_loss: 0.5655 - output_2_loss: 1.5126 - val_loss: 1.3475 - val_output_1_loss: 0.5818 - val_output_2_loss: 8.2392\n",
      "Epoch 6/20\n",
      "363/363 [==============================] - 0s 932us/step - loss: 0.6220 - output_1_loss: 0.5358 - output_2_loss: 1.3972 - val_loss: 1.2392 - val_output_1_loss: 0.5560 - val_output_2_loss: 7.3876\n",
      "Epoch 7/20\n",
      "363/363 [==============================] - 0s 871us/step - loss: 0.5928 - output_1_loss: 0.5135 - output_2_loss: 1.3059 - val_loss: 1.1327 - val_output_1_loss: 0.5217 - val_output_2_loss: 6.6313\n",
      "Epoch 8/20\n",
      "363/363 [==============================] - 0s 850us/step - loss: 0.5711 - output_1_loss: 0.4967 - output_2_loss: 1.2406 - val_loss: 1.0176 - val_output_1_loss: 0.4806 - val_output_2_loss: 5.8504\n",
      "Epoch 9/20\n",
      "363/363 [==============================] - 0s 937us/step - loss: 0.5532 - output_1_loss: 0.4825 - output_2_loss: 1.1893 - val_loss: 0.9345 - val_output_1_loss: 0.4606 - val_output_2_loss: 5.1997\n",
      "Epoch 10/20\n",
      "363/363 [==============================] - 0s 890us/step - loss: 0.5394 - output_1_loss: 0.4719 - output_2_loss: 1.1464 - val_loss: 0.8693 - val_output_1_loss: 0.4461 - val_output_2_loss: 4.6788\n",
      "Epoch 11/20\n",
      "363/363 [==============================] - 0s 852us/step - loss: 0.5282 - output_1_loss: 0.4633 - output_2_loss: 1.1117 - val_loss: 0.8123 - val_output_1_loss: 0.4332 - val_output_2_loss: 4.2246\n",
      "Epoch 12/20\n",
      "363/363 [==============================] - 0s 842us/step - loss: 0.5190 - output_1_loss: 0.4564 - output_2_loss: 1.0826 - val_loss: 0.7659 - val_output_1_loss: 0.4256 - val_output_2_loss: 3.8287\n",
      "Epoch 13/20\n",
      "363/363 [==============================] - 0s 851us/step - loss: 0.5110 - output_1_loss: 0.4504 - output_2_loss: 1.0555 - val_loss: 0.7285 - val_output_1_loss: 0.4228 - val_output_2_loss: 3.4796\n",
      "Epoch 14/20\n",
      "363/363 [==============================] - 0s 863us/step - loss: 0.5040 - output_1_loss: 0.4455 - output_2_loss: 1.0308 - val_loss: 0.6941 - val_output_1_loss: 0.4186 - val_output_2_loss: 3.1737\n",
      "Epoch 15/20\n",
      "363/363 [==============================] - 0s 884us/step - loss: 0.4979 - output_1_loss: 0.4411 - output_2_loss: 1.0097 - val_loss: 0.6638 - val_output_1_loss: 0.4158 - val_output_2_loss: 2.8963\n",
      "Epoch 16/20\n",
      "363/363 [==============================] - 0s 855us/step - loss: 0.4926 - output_1_loss: 0.4375 - output_2_loss: 0.9886 - val_loss: 0.6382 - val_output_1_loss: 0.4141 - val_output_2_loss: 2.6553\n",
      "Epoch 17/20\n",
      "363/363 [==============================] - 0s 867us/step - loss: 0.4877 - output_1_loss: 0.4340 - output_2_loss: 0.9708 - val_loss: 0.6187 - val_output_1_loss: 0.4157 - val_output_2_loss: 2.4454\n",
      "Epoch 18/20\n",
      "363/363 [==============================] - 0s 877us/step - loss: 0.4831 - output_1_loss: 0.4309 - output_2_loss: 0.9525 - val_loss: 0.5951 - val_output_1_loss: 0.4111 - val_output_2_loss: 2.2508\n",
      "Epoch 19/20\n",
      "363/363 [==============================] - 0s 914us/step - loss: 0.4788 - output_1_loss: 0.4279 - output_2_loss: 0.9366 - val_loss: 0.5771 - val_output_1_loss: 0.4102 - val_output_2_loss: 2.0785\n",
      "Epoch 20/20\n",
      "363/363 [==============================] - 0s 880us/step - loss: 0.4750 - output_1_loss: 0.4254 - output_2_loss: 0.9206 - val_loss: 0.5769 - val_output_1_loss: 0.4248 - val_output_2_loss: 1.9455\n"
     ]
    }
   ],
   "source": [
    "model.compile(loss=\"mse\", loss_weights=[0.9, 0.1], optimizer=keras.optimizers.SGD(learning_rate=1e-3))\n",
    "model.fit((X_train_A, X_train_B), (y_train, y_train), epochs=20, \n",
    "          validation_data=((X_valid_A, X_valid_B), (y_valid, y_valid)));"
   ]
  },
  {
   "cell_type": "code",
   "execution_count": 49,
   "id": "52226e9cb4f2a7a4",
   "metadata": {
    "ExecuteTime": {
     "start_time": "2024-03-08T01:17:12.756803100Z"
    },
    "collapsed": false,
    "jupyter": {
     "outputs_hidden": false
    }
   },
   "outputs": [
    {
     "name": "stdout",
     "output_type": "stream",
     "text": [
      "162/162 [==============================] - 0s 550us/step - loss: 0.4597 - output_1_loss: 0.4107 - output_2_loss: 0.9006\n"
     ]
    },
    {
     "data": {
      "text/plain": [
       "[0.45969563722610474, 0.4107038676738739, 0.900622546672821]"
      ]
     },
     "execution_count": 49,
     "metadata": {},
     "output_type": "execute_result"
    }
   ],
   "source": [
    "model.evaluate((X_test_A, X_test_B), (y_test, y_test)) # total_loss, main_loss, aux_loss"
   ]
  },
  {
   "cell_type": "code",
   "execution_count": 50,
   "id": "2055189e9869a5df",
   "metadata": {
    "ExecuteTime": {
     "start_time": "2024-03-08T01:17:12.758307200Z"
    },
    "collapsed": false,
    "jupyter": {
     "outputs_hidden": false
    }
   },
   "outputs": [
    {
     "name": "stdout",
     "output_type": "stream",
     "text": [
      "WARNING:tensorflow:5 out of the last 6 calls to <function Model.make_predict_function.<locals>.predict_function at 0x0000021DA3CEBE50> triggered tf.function retracing. Tracing is expensive and the excessive number of tracings could be due to (1) creating @tf.function repeatedly in a loop, (2) passing tensors with different shapes, (3) passing Python objects instead of tensors. For (1), please define your @tf.function outside of the loop. For (2), @tf.function has reduce_retracing=True option that can avoid unnecessary retracing. For (3), please refer to https://www.tensorflow.org/guide/function#controlling_retracing and https://www.tensorflow.org/api_docs/python/tf/function for  more details.\n"
     ]
    },
    {
     "data": {
      "text/plain": [
       "(array([[0.48997495],\n",
       "        [2.0106134 ],\n",
       "        [3.0644493 ]], dtype=float32),\n",
       " array([[1.0301028],\n",
       "        [1.919819 ],\n",
       "        [2.461699 ]], dtype=float32))"
      ]
     },
     "execution_count": 50,
     "metadata": {},
     "output_type": "execute_result"
    }
   ],
   "source": [
    "y_pred_main, y_pred_aux = model.predict((X_new_A, X_new_B), verbose=0)\n",
    "y_pred_main, y_pred_aux"
   ]
  }
 ],
 "metadata": {
  "kernelspec": {
   "display_name": "Python 3 (ipykernel)",
   "language": "python",
   "name": "python3"
  },
  "language_info": {
   "codemirror_mode": {
    "name": "ipython",
    "version": 3
   },
   "file_extension": ".py",
   "mimetype": "text/x-python",
   "name": "python",
   "nbconvert_exporter": "python",
   "pygments_lexer": "ipython3",
   "version": "3.9.13"
  }
 },
 "nbformat": 4,
 "nbformat_minor": 5
}
