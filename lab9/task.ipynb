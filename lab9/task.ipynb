{
 "cells": [
  {
   "cell_type": "code",
   "execution_count": 1,
   "id": "initial_id",
   "metadata": {},
   "outputs": [
    {
     "name": "stdout",
     "output_type": "stream",
     "text": [
      "WARNING:tensorflow:From C:\\GAMES and PROGRAMS\\my programs\\univ4.2\\univ4.2_ISM\\venv\\lib\\site-packages\\keras\\src\\losses.py:2976: The name tf.losses.sparse_softmax_cross_entropy is deprecated. Please use tf.compat.v1.losses.sparse_softmax_cross_entropy instead.\n",
      "\n"
     ]
    }
   ],
   "source": [
    "import numpy as np\n",
    "import pandas as pd\n",
    "import tensorflow as tf\n",
    "import os\n",
    "import time"
   ]
  },
  {
   "cell_type": "code",
   "execution_count": 2,
   "id": "41042dbf-6104-429e-8fdf-3c6edb041eee",
   "metadata": {},
   "outputs": [],
   "source": [
    "tf.get_logger().setLevel(\"ERROR\")"
   ]
  },
  {
   "cell_type": "markdown",
   "id": "6a4e3aef121d31b9",
   "metadata": {
    "collapsed": false,
    "jupyter": {
     "outputs_hidden": false
    }
   },
   "source": [
    "## From Biological to Artificial Neurons"
   ]
  },
  {
   "cell_type": "markdown",
   "id": "1e69cf5a3aa9621d",
   "metadata": {
    "collapsed": false,
    "jupyter": {
     "outputs_hidden": false
    }
   },
   "source": [
    "#### The Perceptron"
   ]
  },
  {
   "cell_type": "code",
   "execution_count": 3,
   "id": "f70bc748c72744c5",
   "metadata": {
    "collapsed": false,
    "jupyter": {
     "outputs_hidden": false
    }
   },
   "outputs": [
    {
     "data": {
      "text/plain": [
       "array([5.1, 3.5, 1.4, 0.2])"
      ]
     },
     "execution_count": 3,
     "metadata": {},
     "output_type": "execute_result"
    }
   ],
   "source": [
    "from sklearn.datasets import load_iris\n",
    "from sklearn.linear_model import Perceptron\n",
    "\n",
    "iris = load_iris()\n",
    "iris.data[0]"
   ]
  },
  {
   "cell_type": "code",
   "execution_count": 4,
   "id": "547b564dd9349fdf",
   "metadata": {
    "collapsed": false,
    "jupyter": {
     "outputs_hidden": false
    }
   },
   "outputs": [
    {
     "data": {
      "text/plain": [
       "array([1])"
      ]
     },
     "execution_count": 4,
     "metadata": {},
     "output_type": "execute_result"
    }
   ],
   "source": [
    "X = iris.data[:, (2, 3)] # petal length, petal width\n",
    "y = (iris.target == 0).astype(np.int32) # Iris setosa?\n",
    "\n",
    "per_clf = Perceptron(random_state=42)\n",
    "per_clf.fit(X, y)\n",
    "\n",
    "y_pred = per_clf.predict([[2, 0.5]])\n",
    "y_pred"
   ]
  },
  {
   "cell_type": "markdown",
   "id": "5b12212405a80e87",
   "metadata": {
    "collapsed": false,
    "jupyter": {
     "outputs_hidden": false
    }
   },
   "source": [
    "## Implementing MLPs with Keras"
   ]
  },
  {
   "cell_type": "markdown",
   "id": "6ccba6578ad447b2",
   "metadata": {
    "collapsed": false,
    "jupyter": {
     "outputs_hidden": false
    }
   },
   "source": [
    "#### Building an Image Classifier Using the Sequential API"
   ]
  },
  {
   "cell_type": "markdown",
   "id": "dd40b35c0605de0b",
   "metadata": {
    "collapsed": false,
    "jupyter": {
     "outputs_hidden": false
    }
   },
   "source": [
    "##### Using Keras to load the dataset"
   ]
  },
  {
   "cell_type": "code",
   "execution_count": 5,
   "id": "b6c9708af20c086d",
   "metadata": {
    "collapsed": false,
    "jupyter": {
     "outputs_hidden": false
    }
   },
   "outputs": [],
   "source": [
    "from tensorflow import keras\n",
    "\n",
    "fashion_mnist = keras.datasets.fashion_mnist\n",
    "(X_train_full, y_train_full), (X_test, y_test) = fashion_mnist.load_data()"
   ]
  },
  {
   "cell_type": "code",
   "execution_count": 6,
   "id": "df55d896bdb8205d",
   "metadata": {
    "collapsed": false,
    "jupyter": {
     "outputs_hidden": false
    }
   },
   "outputs": [
    {
     "data": {
      "text/plain": [
       "(60000, 28, 28)"
      ]
     },
     "execution_count": 6,
     "metadata": {},
     "output_type": "execute_result"
    }
   ],
   "source": [
    "X_train_full.shape"
   ]
  },
  {
   "cell_type": "code",
   "execution_count": 7,
   "id": "999461d96364b08d",
   "metadata": {
    "collapsed": false,
    "jupyter": {
     "outputs_hidden": false
    }
   },
   "outputs": [
    {
     "data": {
      "text/plain": [
       "dtype('uint8')"
      ]
     },
     "execution_count": 7,
     "metadata": {},
     "output_type": "execute_result"
    }
   ],
   "source": [
    "X_train_full.dtype"
   ]
  },
  {
   "cell_type": "code",
   "execution_count": 8,
   "id": "61f11c8fc85d7da9",
   "metadata": {
    "collapsed": false,
    "jupyter": {
     "outputs_hidden": false
    }
   },
   "outputs": [],
   "source": [
    "X_valid, X_train = X_train_full[:5000] / 255., X_train_full[5000:] / 255.\n",
    "y_valid, y_train = y_train_full[:5000], y_train_full[5000:]\n",
    "X_test = X_test / 255."
   ]
  },
  {
   "cell_type": "code",
   "execution_count": 9,
   "id": "7b95607ddb3e37e9",
   "metadata": {
    "collapsed": false,
    "jupyter": {
     "outputs_hidden": false
    }
   },
   "outputs": [
    {
     "data": {
      "text/plain": [
       "array([4, 0, 7, ..., 3, 0, 5], dtype=uint8)"
      ]
     },
     "execution_count": 9,
     "metadata": {},
     "output_type": "execute_result"
    }
   ],
   "source": [
    "y_train"
   ]
  },
  {
   "cell_type": "code",
   "execution_count": 10,
   "id": "b5913c3abb78afd3",
   "metadata": {
    "collapsed": false,
    "jupyter": {
     "outputs_hidden": false
    }
   },
   "outputs": [],
   "source": [
    "class_names = [\"T-shirt/top\", \"Trouser\", \"Pullover\", \"Dress\", \"Coat\", \"Sandal\", \"Shirt\", \"Sneaker\", \"Bag\", \"Ankle boot\"]"
   ]
  },
  {
   "cell_type": "code",
   "execution_count": 11,
   "id": "ae497b507ddf434e",
   "metadata": {
    "collapsed": false,
    "jupyter": {
     "outputs_hidden": false
    }
   },
   "outputs": [
    {
     "data": {
      "image/png": "[encoded data removed]",
      "text/plain": [
       "<Figure size 640x480 with 1 Axes>"
      ]
     },
     "metadata": {},
     "output_type": "display_data"
    },
    {
     "data": {
      "text/plain": [
       "'Coat'"
      ]
     },
     "execution_count": 11,
     "metadata": {},
     "output_type": "execute_result"
    }
   ],
   "source": [
    "from matplotlib import pyplot as plt\n",
    "\n",
    "plt.imshow(X_train[0], cmap=\"binary\")\n",
    "plt.axis('off')\n",
    "plt.show()\n",
    "class_names[y_train[0]]"
   ]
  },
  {
   "cell_type": "markdown",
   "id": "34fae3b6f7ac9783",
   "metadata": {
    "collapsed": false,
    "jupyter": {
     "outputs_hidden": false
    }
   },
   "source": [
    "##### Creating the model using the Sequential API"
   ]
  },
  {
   "cell_type": "code",
   "execution_count": 12,
   "id": "7ce14cb1cbb2e9c6",
   "metadata": {
    "collapsed": false,
    "jupyter": {
     "outputs_hidden": false
    }
   },
   "outputs": [],
   "source": [
    "keras.backend.clear_session()\n",
    "np.random.seed(42)\n",
    "tf.random.set_seed(42)"
   ]
  },
  {
   "cell_type": "code",
   "execution_count": 13,
   "id": "68483c36eaeb7fc9",
   "metadata": {
    "collapsed": false,
    "jupyter": {
     "outputs_hidden": false
    }
   },
   "outputs": [],
   "source": [
    "model = keras.models.Sequential()\n",
    "model.add(keras.layers.Flatten(input_shape=[28, 28]))\n",
    "model.add(keras.layers.Dense(300, activation=\"relu\"))\n",
    "model.add(keras.layers.Dense(100, activation=\"relu\"))\n",
    "model.add(keras.layers.Dense(10, activation=\"softmax\"))"
   ]
  },
  {
   "cell_type": "code",
   "execution_count": 14,
   "id": "830c6389024246ce",
   "metadata": {
    "collapsed": false,
    "jupyter": {
     "outputs_hidden": false
    }
   },
   "outputs": [
    {
     "name": "stdout",
     "output_type": "stream",
     "text": [
      "Model: \"sequential\"\n",
      "_________________________________________________________________\n",
      " Layer (type)                Output Shape              Param #   \n",
      "=================================================================\n",
      " flatten (Flatten)           (None, 784)               0         \n",
      "                                                                 \n",
      " dense (Dense)               (None, 300)               235500    \n",
      "                                                                 \n",
      " dense_1 (Dense)             (None, 100)               30100     \n",
      "                                                                 \n",
      " dense_2 (Dense)             (None, 10)                1010      \n",
      "                                                                 \n",
      "=================================================================\n",
      "Total params: 266610 (1.02 MB)\n",
      "Trainable params: 266610 (1.02 MB)\n",
      "Non-trainable params: 0 (0.00 Byte)\n",
      "_________________________________________________________________\n"
     ]
    }
   ],
   "source": [
    "model.summary()"
   ]
  },
  {
   "cell_type": "code",
   "execution_count": 15,
   "id": "7b99b6a34f2696ad",
   "metadata": {
    "collapsed": false,
    "jupyter": {
     "outputs_hidden": false
    }
   },
   "outputs": [
    {
     "data": {
      "text/plain": [
       "[<keras.src.layers.reshaping.flatten.Flatten at 0x2cc7439ca90>,\n",
       " <keras.src.layers.core.dense.Dense at 0x2cc742e5a30>,\n",
       " <keras.src.layers.core.dense.Dense at 0x2cc742c8bb0>,\n",
       " <keras.src.layers.core.dense.Dense at 0x2cc742a49d0>]"
      ]
     },
     "execution_count": 15,
     "metadata": {},
     "output_type": "execute_result"
    }
   ],
   "source": [
    "model.layers"
   ]
  },
  {
   "cell_type": "code",
   "execution_count": 16,
   "id": "5de6abb04a324b4a",
   "metadata": {
    "collapsed": false,
    "jupyter": {
     "outputs_hidden": false
    }
   },
   "outputs": [
    {
     "data": {
      "text/plain": [
       "'dense'"
      ]
     },
     "execution_count": 16,
     "metadata": {},
     "output_type": "execute_result"
    }
   ],
   "source": [
    "hidden1 = model.layers[1]\n",
    "hidden1.name"
   ]
  },
  {
   "cell_type": "code",
   "execution_count": 17,
   "id": "c4f320c97879523c",
   "metadata": {
    "collapsed": false,
    "jupyter": {
     "outputs_hidden": false
    }
   },
   "outputs": [
    {
     "data": {
      "text/plain": [
       "True"
      ]
     },
     "execution_count": 17,
     "metadata": {},
     "output_type": "execute_result"
    }
   ],
   "source": [
    "model.get_layer(\"dense\") is hidden1"
   ]
  },
  {
   "cell_type": "code",
   "execution_count": 18,
   "id": "543c76548241c0f2",
   "metadata": {
    "collapsed": false,
    "jupyter": {
     "outputs_hidden": false
    }
   },
   "outputs": [],
   "source": [
    "weights, biases = hidden1.get_weights()"
   ]
  },
  {
   "cell_type": "code",
   "execution_count": 19,
   "id": "ef689b2d7b0425e9",
   "metadata": {
    "collapsed": false,
    "jupyter": {
     "outputs_hidden": false
    }
   },
   "outputs": [
    {
     "data": {
      "text/plain": [
       "(784, 300)"
      ]
     },
     "execution_count": 19,
     "metadata": {},
     "output_type": "execute_result"
    }
   ],
   "source": [
    "weights.shape"
   ]
  },
  {
   "cell_type": "code",
   "execution_count": 20,
   "id": "dcd06ebb810b82d0",
   "metadata": {
    "collapsed": false,
    "jupyter": {
     "outputs_hidden": false
    }
   },
   "outputs": [
    {
     "data": {
      "text/plain": [
       "(300,)"
      ]
     },
     "execution_count": 20,
     "metadata": {},
     "output_type": "execute_result"
    }
   ],
   "source": [
    "biases.shape"
   ]
  },
  {
   "cell_type": "markdown",
   "id": "9b8bbb0db518e6f5",
   "metadata": {
    "collapsed": false,
    "jupyter": {
     "outputs_hidden": false
    }
   },
   "source": [
    "##### Compiling the model"
   ]
  },
  {
   "cell_type": "code",
   "execution_count": 21,
   "id": "e40494a280b198fb",
   "metadata": {
    "collapsed": false,
    "jupyter": {
     "outputs_hidden": false
    }
   },
   "outputs": [],
   "source": [
    "model.compile(loss=keras.losses.sparse_categorical_crossentropy,\n",
    "              optimizer=keras.optimizers.SGD(learning_rate=0.01),\n",
    "              metrics=[\"accuracy\"])"
   ]
  },
  {
   "cell_type": "markdown",
   "id": "bb90b746afecfa8c",
   "metadata": {
    "collapsed": false,
    "jupyter": {
     "outputs_hidden": false
    }
   },
   "source": [
    "##### Training and evaluating the model"
   ]
  },
  {
   "cell_type": "code",
   "execution_count": 22,
   "id": "ab1638e29f44e5d7",
   "metadata": {
    "collapsed": false,
    "jupyter": {
     "outputs_hidden": false
    }
   },
   "outputs": [
    {
     "name": "stdout",
     "output_type": "stream",
     "text": [
      "Epoch 1/30\n",
      "1719/1719 [==============================] - 2s 1ms/step - loss: 0.7079 - accuracy: 0.7688 - val_loss: 0.5208 - val_accuracy: 0.8220\n",
      "Epoch 2/30\n",
      "1719/1719 [==============================] - 2s 1ms/step - loss: 0.4853 - accuracy: 0.8294 - val_loss: 0.4387 - val_accuracy: 0.8512\n",
      "Epoch 3/30\n",
      "1719/1719 [==============================] - 2s 1ms/step - loss: 0.4424 - accuracy: 0.8434 - val_loss: 0.5403 - val_accuracy: 0.7986\n",
      "Epoch 4/30\n",
      "1719/1719 [==============================] - 2s 1ms/step - loss: 0.4167 - accuracy: 0.8536 - val_loss: 0.3969 - val_accuracy: 0.8658\n",
      "Epoch 5/30\n",
      "1719/1719 [==============================] - 2s 1ms/step - loss: 0.3980 - accuracy: 0.8607 - val_loss: 0.3770 - val_accuracy: 0.8692\n",
      "Epoch 6/30\n",
      "1719/1719 [==============================] - 2s 1ms/step - loss: 0.3793 - accuracy: 0.8669 - val_loss: 0.3739 - val_accuracy: 0.8702\n",
      "Epoch 7/30\n",
      "1719/1719 [==============================] - 2s 1ms/step - loss: 0.3665 - accuracy: 0.8709 - val_loss: 0.3710 - val_accuracy: 0.8714\n",
      "Epoch 8/30\n",
      "1719/1719 [==============================] - 2s 1ms/step - loss: 0.3547 - accuracy: 0.8738 - val_loss: 0.3950 - val_accuracy: 0.8568\n",
      "Epoch 9/30\n",
      "1719/1719 [==============================] - 2s 1ms/step - loss: 0.3438 - accuracy: 0.8785 - val_loss: 0.3512 - val_accuracy: 0.8722\n",
      "Epoch 10/30\n",
      "1719/1719 [==============================] - 2s 1ms/step - loss: 0.3343 - accuracy: 0.8810 - val_loss: 0.3527 - val_accuracy: 0.8748\n",
      "Epoch 11/30\n",
      "1719/1719 [==============================] - 2s 1ms/step - loss: 0.3262 - accuracy: 0.8839 - val_loss: 0.3419 - val_accuracy: 0.8766\n",
      "Epoch 12/30\n",
      "1719/1719 [==============================] - 2s 1ms/step - loss: 0.3168 - accuracy: 0.8855 - val_loss: 0.3331 - val_accuracy: 0.8840\n",
      "Epoch 13/30\n",
      "1719/1719 [==============================] - 2s 1ms/step - loss: 0.3102 - accuracy: 0.8894 - val_loss: 0.3302 - val_accuracy: 0.8852\n",
      "Epoch 14/30\n",
      "1719/1719 [==============================] - 2s 1ms/step - loss: 0.3039 - accuracy: 0.8913 - val_loss: 0.3464 - val_accuracy: 0.8742\n",
      "Epoch 15/30\n",
      "1719/1719 [==============================] - 2s 1ms/step - loss: 0.2959 - accuracy: 0.8937 - val_loss: 0.3276 - val_accuracy: 0.8824\n",
      "Epoch 16/30\n",
      "1719/1719 [==============================] - 2s 1ms/step - loss: 0.2909 - accuracy: 0.8961 - val_loss: 0.3134 - val_accuracy: 0.8894\n",
      "Epoch 17/30\n",
      "1719/1719 [==============================] - 2s 1ms/step - loss: 0.2857 - accuracy: 0.8968 - val_loss: 0.3536 - val_accuracy: 0.8756\n",
      "Epoch 18/30\n",
      "1719/1719 [==============================] - 2s 1ms/step - loss: 0.2794 - accuracy: 0.8990 - val_loss: 0.3124 - val_accuracy: 0.8908\n",
      "Epoch 19/30\n",
      "1719/1719 [==============================] - 2s 1ms/step - loss: 0.2745 - accuracy: 0.9008 - val_loss: 0.3112 - val_accuracy: 0.8896\n",
      "Epoch 20/30\n",
      "1719/1719 [==============================] - 2s 1ms/step - loss: 0.2691 - accuracy: 0.9033 - val_loss: 0.3332 - val_accuracy: 0.8796\n",
      "Epoch 21/30\n",
      "1719/1719 [==============================] - 2s 1ms/step - loss: 0.2641 - accuracy: 0.9043 - val_loss: 0.2994 - val_accuracy: 0.8932\n",
      "Epoch 22/30\n",
      "1719/1719 [==============================] - 2s 1ms/step - loss: 0.2594 - accuracy: 0.9060 - val_loss: 0.2979 - val_accuracy: 0.8938\n",
      "Epoch 23/30\n",
      "1719/1719 [==============================] - 2s 1ms/step - loss: 0.2553 - accuracy: 0.9076 - val_loss: 0.3005 - val_accuracy: 0.8940\n",
      "Epoch 24/30\n",
      "1719/1719 [==============================] - 2s 1ms/step - loss: 0.2506 - accuracy: 0.9085 - val_loss: 0.3070 - val_accuracy: 0.8912\n",
      "Epoch 25/30\n",
      "1719/1719 [==============================] - 2s 1ms/step - loss: 0.2467 - accuracy: 0.9102 - val_loss: 0.2960 - val_accuracy: 0.8950\n",
      "Epoch 26/30\n",
      "1719/1719 [==============================] - 2s 1ms/step - loss: 0.2420 - accuracy: 0.9128 - val_loss: 0.3008 - val_accuracy: 0.8916\n",
      "Epoch 27/30\n",
      "1719/1719 [==============================] - 2s 1ms/step - loss: 0.2388 - accuracy: 0.9133 - val_loss: 0.3028 - val_accuracy: 0.8920\n",
      "Epoch 28/30\n",
      "1719/1719 [==============================] - 2s 1ms/step - loss: 0.2352 - accuracy: 0.9159 - val_loss: 0.3025 - val_accuracy: 0.8910\n",
      "Epoch 29/30\n",
      "1719/1719 [==============================] - 2s 1ms/step - loss: 0.2306 - accuracy: 0.9176 - val_loss: 0.3083 - val_accuracy: 0.8866\n",
      "Epoch 30/30\n",
      "1719/1719 [==============================] - 2s 1ms/step - loss: 0.2271 - accuracy: 0.9174 - val_loss: 0.3082 - val_accuracy: 0.8906\n"
     ]
    }
   ],
   "source": [
    "history = model.fit(X_train, y_train, epochs=30, validation_data=(X_valid, y_valid))"
   ]
  },
  {
   "cell_type": "code",
   "execution_count": 23,
   "id": "fabffeea10649f46",
   "metadata": {
    "collapsed": false,
    "jupyter": {
     "outputs_hidden": false
    }
   },
   "outputs": [
    {
     "data": {
      "text/plain": [
       "{'verbose': 1, 'epochs': 30, 'steps': 1719}"
      ]
     },
     "execution_count": 23,
     "metadata": {},
     "output_type": "execute_result"
    }
   ],
   "source": [
    "history.params"
   ]
  },
  {
   "cell_type": "code",
   "execution_count": 24,
   "id": "51a23506d5108e1",
   "metadata": {
    "collapsed": false,
    "jupyter": {
     "outputs_hidden": false
    }
   },
   "outputs": [
    {
     "data": {
      "text/plain": [
       "30"
      ]
     },
     "execution_count": 24,
     "metadata": {},
     "output_type": "execute_result"
    }
   ],
   "source": [
    "len(history.epoch)"
   ]
  },
  {
   "cell_type": "code",
   "execution_count": 25,
   "id": "74866b1b66c2d3a8",
   "metadata": {
    "collapsed": false,
    "jupyter": {
     "outputs_hidden": false
    }
   },
   "outputs": [
    {
     "data": {
      "text/plain": [
       "dict_keys(['loss', 'accuracy', 'val_loss', 'val_accuracy'])"
      ]
     },
     "execution_count": 25,
     "metadata": {},
     "output_type": "execute_result"
    }
   ],
   "source": [
    "history.history.keys()"
   ]
  },
  {
   "cell_type": "code",
   "execution_count": 26,
   "id": "bc8f465e0085ce6e",
   "metadata": {
    "collapsed": false,
    "jupyter": {
     "outputs_hidden": false
    }
   },
   "outputs": [
    {
     "data": {
      "image/png": "[encoded data removed]",
      "text/plain": [
       "<Figure size 800x500 with 1 Axes>"
      ]
     },
     "metadata": {},
     "output_type": "display_data"
    }
   ],
   "source": [
    "pd.DataFrame(history.history).plot(figsize=(8, 5))\n",
    "plt.grid(True)\n",
    "plt.gca().set_ylim(0, 1) # set the vertical range to [0-1]\n",
    "plt.show()"
   ]
  },
  {
   "cell_type": "code",
   "execution_count": 27,
   "id": "c2ecaf9ba80ba35",
   "metadata": {
    "collapsed": false,
    "jupyter": {
     "outputs_hidden": false
    }
   },
   "outputs": [
    {
     "name": "stdout",
     "output_type": "stream",
     "text": [
      "313/313 [==============================] - 0s 760us/step - loss: 0.3432 - accuracy: 0.8771\n"
     ]
    },
    {
     "data": {
      "text/plain": [
       "[0.3432386517524719, 0.8770999908447266]"
      ]
     },
     "execution_count": 27,
     "metadata": {},
     "output_type": "execute_result"
    }
   ],
   "source": [
    "model.evaluate(X_test, y_test)"
   ]
  },
  {
   "cell_type": "markdown",
   "id": "db2c144831b71a26",
   "metadata": {
    "collapsed": false,
    "jupyter": {
     "outputs_hidden": false
    }
   },
   "source": [
    "##### Using the model to make predictions"
   ]
  },
  {
   "cell_type": "code",
   "execution_count": 28,
   "id": "ba3d8414ecf4d3a9",
   "metadata": {
    "collapsed": false,
    "jupyter": {
     "outputs_hidden": false
    }
   },
   "outputs": [
    {
     "data": {
      "text/plain": [
       "array([[0.  , 0.  , 0.  , 0.  , 0.  , 0.01, 0.  , 0.03, 0.  , 0.96],\n",
       "       [0.  , 0.  , 0.98, 0.  , 0.02, 0.  , 0.  , 0.  , 0.  , 0.  ],\n",
       "       [0.  , 1.  , 0.  , 0.  , 0.  , 0.  , 0.  , 0.  , 0.  , 0.  ]],\n",
       "      dtype=float32)"
      ]
     },
     "execution_count": 28,
     "metadata": {},
     "output_type": "execute_result"
    }
   ],
   "source": [
    "X_new = X_test[:3]\n",
    "y_proba = model.predict(X_new, verbose=0)\n",
    "y_proba.round(2)"
   ]
  },
  {
   "cell_type": "code",
   "execution_count": 29,
   "id": "4abbb7aef9aece9a",
   "metadata": {
    "collapsed": false,
    "jupyter": {
     "outputs_hidden": false
    }
   },
   "outputs": [
    {
     "data": {
      "text/plain": [
       "array([9, 2, 1], dtype=int64)"
      ]
     },
     "execution_count": 29,
     "metadata": {},
     "output_type": "execute_result"
    }
   ],
   "source": [
    "y_pred = np.argmax(model.predict(X_new, verbose=0), axis=-1)\n",
    "y_pred"
   ]
  },
  {
   "cell_type": "code",
   "execution_count": 30,
   "id": "2ef2b995d2ddb902",
   "metadata": {
    "collapsed": false,
    "jupyter": {
     "outputs_hidden": false
    }
   },
   "outputs": [
    {
     "data": {
      "text/plain": [
       "array(['Ankle boot', 'Pullover', 'Trouser'], dtype='<U11')"
      ]
     },
     "execution_count": 30,
     "metadata": {},
     "output_type": "execute_result"
    }
   ],
   "source": [
    "np.array(class_names)[y_pred]"
   ]
  },
  {
   "cell_type": "code",
   "execution_count": 31,
   "id": "4051869ba49eb95",
   "metadata": {
    "collapsed": false,
    "jupyter": {
     "outputs_hidden": false
    }
   },
   "outputs": [
    {
     "data": {
      "text/plain": [
       "array([9, 2, 1], dtype=uint8)"
      ]
     },
     "execution_count": 31,
     "metadata": {},
     "output_type": "execute_result"
    }
   ],
   "source": [
    "y_new = y_test[:3]\n",
    "y_new"
   ]
  },
  {
   "cell_type": "markdown",
   "id": "589dcd4fb1aa62b4",
   "metadata": {
    "collapsed": false,
    "jupyter": {
     "outputs_hidden": false
    }
   },
   "source": [
    "#### Building a Regression MLP Using the Sequential API"
   ]
  },
  {
   "cell_type": "code",
   "execution_count": 32,
   "id": "f155ec360cb4f242",
   "metadata": {
    "collapsed": false,
    "jupyter": {
     "outputs_hidden": false
    }
   },
   "outputs": [],
   "source": [
    "from sklearn.datasets import fetch_california_housing\n",
    "from sklearn.model_selection import train_test_split\n",
    "from sklearn.preprocessing import StandardScaler\n",
    "\n",
    "housing = fetch_california_housing()\n",
    "\n",
    "X_train_full, X_test, y_train_full, y_test = train_test_split(housing.data, housing.target, random_state=42)\n",
    "X_train, X_valid, y_train, y_valid = train_test_split(X_train_full, y_train_full, random_state=42)\n",
    "\n",
    "scaler = StandardScaler()\n",
    "X_train = scaler.fit_transform(X_train)\n",
    "X_valid = scaler.transform(X_valid)\n",
    "X_test = scaler.transform(X_test)"
   ]
  },
  {
   "cell_type": "code",
   "execution_count": 33,
   "id": "937d67c76dd5a93f",
   "metadata": {
    "collapsed": false,
    "jupyter": {
     "outputs_hidden": false
    }
   },
   "outputs": [
    {
     "name": "stdout",
     "output_type": "stream",
     "text": [
      "Epoch 1/20\n",
      "363/363 [==============================] - 0s 928us/step - loss: 1.8356 - val_loss: 2.6982\n",
      "Epoch 2/20\n",
      "363/363 [==============================] - 0s 771us/step - loss: 0.7571 - val_loss: 0.7079\n",
      "Epoch 3/20\n",
      "363/363 [==============================] - 0s 805us/step - loss: 0.6628 - val_loss: 0.6442\n",
      "Epoch 4/20\n",
      "363/363 [==============================] - 0s 783us/step - loss: 0.6198 - val_loss: 0.5729\n",
      "Epoch 5/20\n",
      "363/363 [==============================] - 0s 796us/step - loss: 0.5831 - val_loss: 0.5588\n",
      "Epoch 6/20\n",
      "363/363 [==============================] - 0s 772us/step - loss: 0.5528 - val_loss: 0.5085\n",
      "Epoch 7/20\n",
      "363/363 [==============================] - 0s 754us/step - loss: 0.5295 - val_loss: 0.4852\n",
      "Epoch 8/20\n",
      "363/363 [==============================] - 0s 819us/step - loss: 0.5104 - val_loss: 0.4956\n",
      "Epoch 9/20\n",
      "363/363 [==============================] - 0s 771us/step - loss: 0.4934 - val_loss: 0.4556\n",
      "Epoch 10/20\n",
      "363/363 [==============================] - 0s 765us/step - loss: 0.4804 - val_loss: 0.4474\n",
      "Epoch 11/20\n",
      "363/363 [==============================] - 0s 771us/step - loss: 0.4703 - val_loss: 0.4732\n",
      "Epoch 12/20\n",
      "363/363 [==============================] - 0s 782us/step - loss: 0.4607 - val_loss: 0.4375\n",
      "Epoch 13/20\n",
      "363/363 [==============================] - 0s 806us/step - loss: 0.4537 - val_loss: 0.4225\n",
      "Epoch 14/20\n",
      "363/363 [==============================] - 0s 746us/step - loss: 0.4464 - val_loss: 0.4112\n",
      "Epoch 15/20\n",
      "363/363 [==============================] - 0s 762us/step - loss: 0.4407 - val_loss: 0.4109\n",
      "Epoch 16/20\n",
      "363/363 [==============================] - 0s 750us/step - loss: 0.4354 - val_loss: 0.4007\n",
      "Epoch 17/20\n",
      "363/363 [==============================] - 0s 758us/step - loss: 0.4311 - val_loss: 0.4075\n",
      "Epoch 18/20\n",
      "363/363 [==============================] - 0s 741us/step - loss: 0.4266 - val_loss: 0.4133\n",
      "Epoch 19/20\n",
      "363/363 [==============================] - 0s 814us/step - loss: 0.4226 - val_loss: 0.3904\n",
      "Epoch 20/20\n",
      "363/363 [==============================] - 0s 793us/step - loss: 0.4195 - val_loss: 0.4064\n"
     ]
    }
   ],
   "source": [
    "model = keras.models.Sequential([\n",
    "    keras.layers.Dense(30, activation=\"relu\", input_shape=X_train.shape[1:]),\n",
    "    keras.layers.Dense(1)\n",
    "])\n",
    "model.compile(loss=\"mean_squared_error\", optimizer=keras.optimizers.SGD(learning_rate=1e-3))\n",
    "history = model.fit(X_train, y_train, epochs=20, validation_data=(X_valid, y_valid))"
   ]
  },
  {
   "cell_type": "code",
   "execution_count": 34,
   "id": "882dffcacb829a90",
   "metadata": {
    "collapsed": false,
    "jupyter": {
     "outputs_hidden": false
    }
   },
   "outputs": [
    {
     "data": {
      "image/png": "[encoded data removed]",
      "text/plain": [
       "<Figure size 640x480 with 1 Axes>"
      ]
     },
     "metadata": {},
     "output_type": "display_data"
    }
   ],
   "source": [
    "plt.plot(pd.DataFrame(history.history))\n",
    "plt.grid(True)\n",
    "plt.gca().set_ylim(0, 1)\n",
    "plt.show()"
   ]
  },
  {
   "cell_type": "code",
   "execution_count": 35,
   "id": "b4ce1684c39ddaf2",
   "metadata": {
    "collapsed": false,
    "jupyter": {
     "outputs_hidden": false
    }
   },
   "outputs": [
    {
     "name": "stdout",
     "output_type": "stream",
     "text": [
      "162/162 [==============================] - 0s 621us/step - loss: 0.4119\n"
     ]
    },
    {
     "data": {
      "text/plain": [
       "0.41190144419670105"
      ]
     },
     "execution_count": 35,
     "metadata": {},
     "output_type": "execute_result"
    }
   ],
   "source": [
    "model.evaluate(X_test, y_test)"
   ]
  },
  {
   "cell_type": "code",
   "execution_count": 36,
   "id": "4507daff65b29270",
   "metadata": {
    "collapsed": false,
    "jupyter": {
     "outputs_hidden": false
    }
   },
   "outputs": [
    {
     "data": {
      "text/plain": [
       "array([[0.6580383],\n",
       "       [1.5648515],\n",
       "       [3.4855237]], dtype=float32)"
      ]
     },
     "execution_count": 36,
     "metadata": {},
     "output_type": "execute_result"
    }
   ],
   "source": [
    "X_new = X_test[:3]\n",
    "y_pred = model.predict(X_new, verbose=0)\n",
    "y_pred"
   ]
  },
  {
   "cell_type": "code",
   "execution_count": 37,
   "id": "bb0c4c02116fb013",
   "metadata": {
    "collapsed": false,
    "jupyter": {
     "outputs_hidden": false
    }
   },
   "outputs": [
    {
     "data": {
      "text/plain": [
       "array([0.477  , 0.458  , 5.00001])"
      ]
     },
     "execution_count": 37,
     "metadata": {},
     "output_type": "execute_result"
    }
   ],
   "source": [
    "y_new = y_test[:3]\n",
    "y_new"
   ]
  },
  {
   "cell_type": "markdown",
   "id": "a44fdd443314daf",
   "metadata": {
    "collapsed": false,
    "jupyter": {
     "outputs_hidden": false
    }
   },
   "source": [
    "#### Building Complex Models Using the Functional API"
   ]
  },
  {
   "cell_type": "code",
   "execution_count": 38,
   "id": "cec46e47eafd4b0f",
   "metadata": {
    "collapsed": false,
    "jupyter": {
     "outputs_hidden": false
    }
   },
   "outputs": [],
   "source": [
    "input_ = keras.layers.Input(shape=X_train.shape[1:])\n",
    "hidden1 = keras.layers.Dense(30, activation=\"relu\")(input_)\n",
    "hidden2 = keras.layers.Dense(30, activation=\"relu\")(hidden1)\n",
    "concat = keras.layers.concatenate([input_, hidden2])\n",
    "output = keras.layers.Dense(1)(concat)\n",
    "model = keras.models.Model(inputs=[input_], outputs=[output])"
   ]
  },
  {
   "cell_type": "code",
   "execution_count": 39,
   "id": "4e4f3da528581633",
   "metadata": {
    "collapsed": false,
    "jupyter": {
     "outputs_hidden": false
    }
   },
   "outputs": [
    {
     "name": "stdout",
     "output_type": "stream",
     "text": [
      "Model: \"model\"\n",
      "__________________________________________________________________________________________________\n",
      " Layer (type)                Output Shape                 Param #   Connected to                  \n",
      "==================================================================================================\n",
      " input_1 (InputLayer)        [(None, 8)]                  0         []                            \n",
      "                                                                                                  \n",
      " dense_5 (Dense)             (None, 30)                   270       ['input_1[0][0]']             \n",
      "                                                                                                  \n",
      " dense_6 (Dense)             (None, 30)                   930       ['dense_5[0][0]']             \n",
      "                                                                                                  \n",
      " concatenate (Concatenate)   (None, 38)                   0         ['input_1[0][0]',             \n",
      "                                                                     'dense_6[0][0]']             \n",
      "                                                                                                  \n",
      " dense_7 (Dense)             (None, 1)                    39        ['concatenate[0][0]']         \n",
      "                                                                                                  \n",
      "==================================================================================================\n",
      "Total params: 1239 (4.84 KB)\n",
      "Trainable params: 1239 (4.84 KB)\n",
      "Non-trainable params: 0 (0.00 Byte)\n",
      "__________________________________________________________________________________________________\n"
     ]
    }
   ],
   "source": [
    "model.summary()"
   ]
  },
  {
   "cell_type": "code",
   "execution_count": 40,
   "id": "c68bdad084ac1afb",
   "metadata": {
    "collapsed": false,
    "jupyter": {
     "outputs_hidden": false
    }
   },
   "outputs": [],
   "source": [
    "input_A = keras.layers.Input(shape=[5], name=\"wide_input\")\n",
    "input_B = keras.layers.Input(shape=[6], name=\"deep_input\")\n",
    "hidden1 = keras.layers.Dense(30, activation=\"relu\")(input_B)\n",
    "hidden2 = keras.layers.Dense(30, activation=\"relu\")(hidden1)\n",
    "concat = keras.layers.concatenate([input_A, hidden2])\n",
    "output = keras.layers.Dense(1, name=\"output\")(concat)\n",
    "model = keras.models.Model(inputs=[input_A, input_B], outputs=[output])"
   ]
  },
  {
   "cell_type": "code",
   "execution_count": 41,
   "id": "c7c9f34cdf09a11d",
   "metadata": {
    "collapsed": false,
    "jupyter": {
     "outputs_hidden": false
    }
   },
   "outputs": [
    {
     "name": "stdout",
     "output_type": "stream",
     "text": [
      "Model: \"model_1\"\n",
      "__________________________________________________________________________________________________\n",
      " Layer (type)                Output Shape                 Param #   Connected to                  \n",
      "==================================================================================================\n",
      " deep_input (InputLayer)     [(None, 6)]                  0         []                            \n",
      "                                                                                                  \n",
      " dense_8 (Dense)             (None, 30)                   210       ['deep_input[0][0]']          \n",
      "                                                                                                  \n",
      " wide_input (InputLayer)     [(None, 5)]                  0         []                            \n",
      "                                                                                                  \n",
      " dense_9 (Dense)             (None, 30)                   930       ['dense_8[0][0]']             \n",
      "                                                                                                  \n",
      " concatenate_1 (Concatenate  (None, 35)                   0         ['wide_input[0][0]',          \n",
      " )                                                                   'dense_9[0][0]']             \n",
      "                                                                                                  \n",
      " output (Dense)              (None, 1)                    36        ['concatenate_1[0][0]']       \n",
      "                                                                                                  \n",
      "==================================================================================================\n",
      "Total params: 1176 (4.59 KB)\n",
      "Trainable params: 1176 (4.59 KB)\n",
      "Non-trainable params: 0 (0.00 Byte)\n",
      "__________________________________________________________________________________________________\n"
     ]
    }
   ],
   "source": [
    "model.summary()"
   ]
  },
  {
   "cell_type": "code",
   "execution_count": 42,
   "id": "1a5b90320a76d2ba",
   "metadata": {
    "collapsed": false,
    "jupyter": {
     "outputs_hidden": false
    }
   },
   "outputs": [
    {
     "name": "stdout",
     "output_type": "stream",
     "text": [
      "Epoch 1/20\n",
      "363/363 [==============================] - 1s 1ms/step - loss: 1.9443 - val_loss: 2.1767\n",
      "Epoch 2/20\n",
      "363/363 [==============================] - 0s 871us/step - loss: 0.7624 - val_loss: 0.7358\n",
      "Epoch 3/20\n",
      "363/363 [==============================] - 0s 891us/step - loss: 0.6553 - val_loss: 0.6599\n",
      "Epoch 4/20\n",
      "363/363 [==============================] - 0s 857us/step - loss: 0.6054 - val_loss: 0.5810\n",
      "Epoch 5/20\n",
      "363/363 [==============================] - 0s 842us/step - loss: 0.5700 - val_loss: 0.5301\n",
      "Epoch 6/20\n",
      "363/363 [==============================] - 0s 893us/step - loss: 0.5422 - val_loss: 0.5186\n",
      "Epoch 7/20\n",
      "363/363 [==============================] - 0s 879us/step - loss: 0.5196 - val_loss: 0.5077\n",
      "Epoch 8/20\n",
      "363/363 [==============================] - 0s 907us/step - loss: 0.5024 - val_loss: 0.4720\n",
      "Epoch 9/20\n",
      "363/363 [==============================] - 0s 890us/step - loss: 0.4874 - val_loss: 0.4606\n",
      "Epoch 10/20\n",
      "363/363 [==============================] - 0s 869us/step - loss: 0.4759 - val_loss: 0.4489\n",
      "Epoch 11/20\n",
      "363/363 [==============================] - 0s 1ms/step - loss: 0.4670 - val_loss: 0.4323\n",
      "Epoch 12/20\n",
      "363/363 [==============================] - 0s 962us/step - loss: 0.4594 - val_loss: 0.4251\n",
      "Epoch 13/20\n",
      "363/363 [==============================] - 0s 857us/step - loss: 0.4532 - val_loss: 0.4192\n",
      "Epoch 14/20\n",
      "363/363 [==============================] - 0s 981us/step - loss: 0.4479 - val_loss: 0.4146\n",
      "Epoch 15/20\n",
      "363/363 [==============================] - 0s 1ms/step - loss: 0.4435 - val_loss: 0.4108\n",
      "Epoch 16/20\n",
      "363/363 [==============================] - 0s 1ms/step - loss: 0.4399 - val_loss: 0.4062\n",
      "Epoch 17/20\n",
      "363/363 [==============================] - 0s 1ms/step - loss: 0.4366 - val_loss: 0.4056\n",
      "Epoch 18/20\n",
      "363/363 [==============================] - 0s 1ms/step - loss: 0.4337 - val_loss: 0.4032\n",
      "Epoch 19/20\n",
      "363/363 [==============================] - 0s 949us/step - loss: 0.4306 - val_loss: 0.3988\n",
      "Epoch 20/20\n",
      "363/363 [==============================] - 0s 962us/step - loss: 0.4285 - val_loss: 0.4118\n"
     ]
    }
   ],
   "source": [
    "model.compile(loss=\"mse\", optimizer=keras.optimizers.SGD(learning_rate=1e-3))\n",
    "\n",
    "X_train_A, X_train_B = X_train[:, :5], X_train[:, 2:]\n",
    "X_valid_A, X_valid_B = X_valid[:, :5], X_valid[:, 2:]\n",
    "X_test_A, X_test_B = X_test[:, :5], X_test[:, 2:]\n",
    "X_new_A, X_new_B = X_test_A[:3], X_test_B[:3]\n",
    "\n",
    "model.fit((X_train_A, X_train_B), y_train, epochs=20, validation_data=((X_valid_A, X_valid_B), y_valid));"
   ]
  },
  {
   "cell_type": "code",
   "execution_count": 43,
   "id": "8fd57d74990dea1b",
   "metadata": {
    "collapsed": false,
    "jupyter": {
     "outputs_hidden": false
    }
   },
   "outputs": [
    {
     "name": "stdout",
     "output_type": "stream",
     "text": [
      "162/162 [==============================] - 0s 589us/step - loss: 0.4197\n"
     ]
    },
    {
     "data": {
      "text/plain": [
       "0.41967129707336426"
      ]
     },
     "execution_count": 43,
     "metadata": {},
     "output_type": "execute_result"
    }
   ],
   "source": [
    "model.evaluate((X_test_A, X_test_B), y_test)"
   ]
  },
  {
   "cell_type": "code",
   "execution_count": 44,
   "id": "3735e8379a02c35e",
   "metadata": {
    "collapsed": false,
    "jupyter": {
     "outputs_hidden": false
    }
   },
   "outputs": [
    {
     "data": {
      "text/plain": [
       "array([[0.5334928],\n",
       "       [2.0057049],\n",
       "       [3.064087 ]], dtype=float32)"
      ]
     },
     "execution_count": 44,
     "metadata": {},
     "output_type": "execute_result"
    }
   ],
   "source": [
    "y_pred = model.predict((X_new_A, X_new_B), verbose=0)\n",
    "y_pred"
   ]
  },
  {
   "cell_type": "code",
   "execution_count": 45,
   "id": "6d77d73f2128022c",
   "metadata": {
    "collapsed": false,
    "jupyter": {
     "outputs_hidden": false
    }
   },
   "outputs": [
    {
     "name": "stdout",
     "output_type": "stream",
     "text": [
      "Epoch 1/20\n",
      "363/363 [==============================] - 1s 1ms/step - loss: 2.4210 - main_output_loss: 2.1753 - aux_output_loss: 4.6325 - val_loss: 3.7967 - val_main_output_loss: 3.7718 - val_aux_output_loss: 4.0211\n",
      "Epoch 2/20\n",
      "363/363 [==============================] - 0s 911us/step - loss: 0.9902 - main_output_loss: 0.7795 - aux_output_loss: 2.8872 - val_loss: 1.4360 - val_main_output_loss: 1.3213 - val_aux_output_loss: 2.4681\n",
      "Epoch 3/20\n",
      "363/363 [==============================] - 0s 895us/step - loss: 0.8069 - main_output_loss: 0.6714 - aux_output_loss: 2.0264 - val_loss: 0.9638 - val_main_output_loss: 0.8609 - val_aux_output_loss: 1.8900\n",
      "Epoch 4/20\n",
      "363/363 [==============================] - 0s 919us/step - loss: 0.7264 - main_output_loss: 0.6252 - aux_output_loss: 1.6367 - val_loss: 0.7789 - val_main_output_loss: 0.6855 - val_aux_output_loss: 1.6190\n",
      "Epoch 5/20\n",
      "363/363 [==============================] - 0s 959us/step - loss: 0.6774 - main_output_loss: 0.5918 - aux_output_loss: 1.4479 - val_loss: 0.6720 - val_main_output_loss: 0.5795 - val_aux_output_loss: 1.5049\n",
      "Epoch 6/20\n",
      "363/363 [==============================] - 0s 902us/step - loss: 0.6427 - main_output_loss: 0.5642 - aux_output_loss: 1.3490 - val_loss: 0.6223 - val_main_output_loss: 0.5308 - val_aux_output_loss: 1.4465\n",
      "Epoch 7/20\n",
      "363/363 [==============================] - 0s 937us/step - loss: 0.6153 - main_output_loss: 0.5410 - aux_output_loss: 1.2840 - val_loss: 0.5971 - val_main_output_loss: 0.5071 - val_aux_output_loss: 1.4070\n",
      "Epoch 8/20\n",
      "363/363 [==============================] - 0s 896us/step - loss: 0.5925 - main_output_loss: 0.5210 - aux_output_loss: 1.2355 - val_loss: 0.5810 - val_main_output_loss: 0.4943 - val_aux_output_loss: 1.3610\n",
      "Epoch 9/20\n",
      "363/363 [==============================] - 0s 904us/step - loss: 0.5722 - main_output_loss: 0.5033 - aux_output_loss: 1.1928 - val_loss: 0.5636 - val_main_output_loss: 0.4811 - val_aux_output_loss: 1.3065\n",
      "Epoch 10/20\n",
      "363/363 [==============================] - 0s 938us/step - loss: 0.5546 - main_output_loss: 0.4880 - aux_output_loss: 1.1537 - val_loss: 0.5506 - val_main_output_loss: 0.4715 - val_aux_output_loss: 1.2624\n",
      "Epoch 11/20\n",
      "363/363 [==============================] - 0s 923us/step - loss: 0.5401 - main_output_loss: 0.4757 - aux_output_loss: 1.1193 - val_loss: 0.5261 - val_main_output_loss: 0.4513 - val_aux_output_loss: 1.1992\n",
      "Epoch 12/20\n",
      "363/363 [==============================] - 0s 902us/step - loss: 0.5281 - main_output_loss: 0.4658 - aux_output_loss: 1.0888 - val_loss: 0.5125 - val_main_output_loss: 0.4408 - val_aux_output_loss: 1.1580\n",
      "Epoch 13/20\n",
      "363/363 [==============================] - 0s 907us/step - loss: 0.5186 - main_output_loss: 0.4582 - aux_output_loss: 1.0622 - val_loss: 0.4984 - val_main_output_loss: 0.4297 - val_aux_output_loss: 1.1164\n",
      "Epoch 14/20\n",
      "363/363 [==============================] - 0s 882us/step - loss: 0.5109 - main_output_loss: 0.4523 - aux_output_loss: 1.0382 - val_loss: 0.4872 - val_main_output_loss: 0.4213 - val_aux_output_loss: 1.0810\n",
      "Epoch 15/20\n",
      "363/363 [==============================] - 0s 887us/step - loss: 0.5044 - main_output_loss: 0.4474 - aux_output_loss: 1.0173 - val_loss: 0.4784 - val_main_output_loss: 0.4150 - val_aux_output_loss: 1.0488\n",
      "Epoch 16/20\n",
      "363/363 [==============================] - 0s 943us/step - loss: 0.4989 - main_output_loss: 0.4435 - aux_output_loss: 0.9978 - val_loss: 0.4724 - val_main_output_loss: 0.4114 - val_aux_output_loss: 1.0213\n",
      "Epoch 17/20\n",
      "363/363 [==============================] - 0s 926us/step - loss: 0.4943 - main_output_loss: 0.4404 - aux_output_loss: 0.9802 - val_loss: 0.4686 - val_main_output_loss: 0.4099 - val_aux_output_loss: 0.9966\n",
      "Epoch 18/20\n",
      "363/363 [==============================] - 0s 941us/step - loss: 0.4901 - main_output_loss: 0.4375 - aux_output_loss: 0.9632 - val_loss: 0.4664 - val_main_output_loss: 0.4100 - val_aux_output_loss: 0.9742\n",
      "Epoch 19/20\n",
      "363/363 [==============================] - 0s 1ms/step - loss: 0.4861 - main_output_loss: 0.4348 - aux_output_loss: 0.9477 - val_loss: 0.4655 - val_main_output_loss: 0.4110 - val_aux_output_loss: 0.9567\n",
      "Epoch 20/20\n",
      "363/363 [==============================] - 0s 906us/step - loss: 0.4831 - main_output_loss: 0.4330 - aux_output_loss: 0.9333 - val_loss: 0.4697 - val_main_output_loss: 0.4179 - val_aux_output_loss: 0.9356\n"
     ]
    }
   ],
   "source": [
    "input_A = keras.layers.Input(shape=[5], name=\"wide_input\")\n",
    "input_B = keras.layers.Input(shape=[6], name=\"deep_input\")\n",
    "hidden1 = keras.layers.Dense(30, activation=\"relu\")(input_B)\n",
    "hidden2 = keras.layers.Dense(30, activation=\"relu\")(hidden1)\n",
    "concat = keras.layers.concatenate([input_A, hidden2])\n",
    "output = keras.layers.Dense(1, name=\"main_output\")(concat)\n",
    "aux_output = keras.layers.Dense(1, name=\"aux_output\")(hidden2)\n",
    "model = keras.models.Model(inputs=[input_A, input_B], outputs=[output, aux_output])\n",
    "\n",
    "model.compile(loss=[\"mse\", \"mse\"], loss_weights=[0.9, 0.1], optimizer=keras.optimizers.SGD(learning_rate=1e-3))\n",
    "model.fit([X_train_A, X_train_B], [y_train, y_train], epochs=20, \n",
    "          validation_data=([X_valid_A, X_valid_B], [y_valid, y_valid]));"
   ]
  },
  {
   "cell_type": "code",
   "execution_count": 46,
   "id": "6b6eef4c61029c02",
   "metadata": {
    "collapsed": false,
    "jupyter": {
     "outputs_hidden": false
    }
   },
   "outputs": [
    {
     "name": "stdout",
     "output_type": "stream",
     "text": [
      "162/162 [==============================] - 0s 590us/step - loss: 0.4732 - main_output_loss: 0.4246 - aux_output_loss: 0.9106\n"
     ]
    },
    {
     "data": {
      "text/plain": [
       "[0.47320684790611267, 0.4246082007884979, 0.9105966687202454]"
      ]
     },
     "execution_count": 46,
     "metadata": {},
     "output_type": "execute_result"
    }
   ],
   "source": [
    "model.evaluate([X_test_A, X_test_B], [y_test, y_test]) # total_loss, main_loss, aux_loss"
   ]
  },
  {
   "cell_type": "code",
   "execution_count": 47,
   "id": "d208b808681faae1",
   "metadata": {
    "collapsed": false,
    "jupyter": {
     "outputs_hidden": false
    }
   },
   "outputs": [
    {
     "data": {
      "text/plain": [
       "(array([[0.45321345],\n",
       "        [1.9756866 ],\n",
       "        [3.2462976 ]], dtype=float32),\n",
       " array([[1.1753318],\n",
       "        [2.0391417],\n",
       "        [2.9773583]], dtype=float32))"
      ]
     },
     "execution_count": 47,
     "metadata": {},
     "output_type": "execute_result"
    }
   ],
   "source": [
    "y_pred_main, y_pred_aux = model.predict((X_new_A, X_new_B), verbose=0)\n",
    "y_pred_main, y_pred_aux"
   ]
  },
  {
   "cell_type": "markdown",
   "id": "2fc0a47ddc167d49",
   "metadata": {
    "collapsed": false,
    "jupyter": {
     "outputs_hidden": false
    }
   },
   "source": [
    "#### Using the Subclassing API to Build Dynamic Models"
   ]
  },
  {
   "cell_type": "code",
   "execution_count": 48,
   "id": "4c38574b47f7dd1f",
   "metadata": {
    "collapsed": false,
    "jupyter": {
     "outputs_hidden": false
    }
   },
   "outputs": [],
   "source": [
    "class WideAndDeepModel(keras.models.Model):\n",
    "    def __init__(self, units=30, activation=\"relu\", **kwargs):\n",
    "        super().__init__(**kwargs)\n",
    "        self.hidden1 = keras.layers.Dense(units, activation=activation)\n",
    "        self.hidden2 = keras.layers.Dense(units, activation=activation)\n",
    "        self.main_output = keras.layers.Dense(1)\n",
    "        self.aux_output = keras.layers.Dense(1)\n",
    "    \n",
    "    def call(self, inputs, training=None, mask=None):\n",
    "        input_A, input_B = inputs\n",
    "        hidden1 = self.hidden1(input_B)\n",
    "        hidden2 = self.hidden2(hidden1)\n",
    "        concat = keras.layers.concatenate([input_A, hidden2])\n",
    "        main_output = self.main_output(concat)\n",
    "        aux_output = self.aux_output(hidden2)\n",
    "        return main_output, aux_output\n",
    "\n",
    "model = WideAndDeepModel(30, activation=\"relu\")"
   ]
  },
  {
   "cell_type": "code",
   "execution_count": 49,
   "id": "50ce91acb9ce900",
   "metadata": {
    "collapsed": false,
    "jupyter": {
     "outputs_hidden": false
    }
   },
   "outputs": [
    {
     "name": "stdout",
     "output_type": "stream",
     "text": [
      "Epoch 1/20\n",
      "363/363 [==============================] - 1s 1ms/step - loss: 2.8071 - output_1_loss: 2.6135 - output_2_loss: 4.5498 - val_loss: 1.4607 - val_output_1_loss: 1.2148 - val_output_2_loss: 3.6738\n",
      "Epoch 2/20\n",
      "363/363 [==============================] - 0s 894us/step - loss: 1.0071 - output_1_loss: 0.8334 - output_2_loss: 2.5700 - val_loss: 0.8499 - val_output_1_loss: 0.7072 - val_output_2_loss: 2.1343\n",
      "Epoch 3/20\n",
      "363/363 [==============================] - 0s 890us/step - loss: 0.7814 - output_1_loss: 0.6832 - output_2_loss: 1.6648 - val_loss: 0.8604 - val_output_1_loss: 0.7034 - val_output_2_loss: 2.2740\n",
      "Epoch 4/20\n",
      "363/363 [==============================] - 0s 882us/step - loss: 0.7020 - output_1_loss: 0.6300 - output_2_loss: 1.3495 - val_loss: 0.7542 - val_output_1_loss: 0.5776 - val_output_2_loss: 2.3441\n",
      "Epoch 5/20\n",
      "363/363 [==============================] - 0s 926us/step - loss: 0.6570 - output_1_loss: 0.5941 - output_2_loss: 1.2238 - val_loss: 0.7007 - val_output_1_loss: 0.5485 - val_output_2_loss: 2.0712\n",
      "Epoch 6/20\n",
      "363/363 [==============================] - 0s 892us/step - loss: 0.6268 - output_1_loss: 0.5677 - output_2_loss: 1.1588 - val_loss: 0.6495 - val_output_1_loss: 0.5377 - val_output_2_loss: 1.6564\n",
      "Epoch 7/20\n",
      "363/363 [==============================] - 0s 932us/step - loss: 0.6038 - output_1_loss: 0.5473 - output_2_loss: 1.1116 - val_loss: 0.6090 - val_output_1_loss: 0.5225 - val_output_2_loss: 1.3880\n",
      "Epoch 8/20\n",
      "363/363 [==============================] - 0s 889us/step - loss: 0.5857 - output_1_loss: 0.5314 - output_2_loss: 1.0745 - val_loss: 0.5704 - val_output_1_loss: 0.4938 - val_output_2_loss: 1.2601\n",
      "Epoch 9/20\n",
      "363/363 [==============================] - 0s 889us/step - loss: 0.5697 - output_1_loss: 0.5168 - output_2_loss: 1.0454 - val_loss: 0.5441 - val_output_1_loss: 0.4800 - val_output_2_loss: 1.1215\n",
      "Epoch 10/20\n",
      "363/363 [==============================] - 0s 878us/step - loss: 0.5561 - output_1_loss: 0.5049 - output_2_loss: 1.0176 - val_loss: 0.5292 - val_output_1_loss: 0.4730 - val_output_2_loss: 1.0358\n",
      "Epoch 11/20\n",
      "363/363 [==============================] - 0s 899us/step - loss: 0.5449 - output_1_loss: 0.4951 - output_2_loss: 0.9928 - val_loss: 0.5225 - val_output_1_loss: 0.4688 - val_output_2_loss: 1.0054\n",
      "Epoch 12/20\n",
      "363/363 [==============================] - 0s 889us/step - loss: 0.5345 - output_1_loss: 0.4861 - output_2_loss: 0.9707 - val_loss: 0.5039 - val_output_1_loss: 0.4519 - val_output_2_loss: 0.9719\n",
      "Epoch 13/20\n",
      "363/363 [==============================] - 0s 922us/step - loss: 0.5253 - output_1_loss: 0.4783 - output_2_loss: 0.9486 - val_loss: 0.5021 - val_output_1_loss: 0.4521 - val_output_2_loss: 0.9521\n",
      "Epoch 14/20\n",
      "363/363 [==============================] - 0s 900us/step - loss: 0.5173 - output_1_loss: 0.4717 - output_2_loss: 0.9274 - val_loss: 0.4905 - val_output_1_loss: 0.4404 - val_output_2_loss: 0.9410\n",
      "Epoch 15/20\n",
      "363/363 [==============================] - 0s 907us/step - loss: 0.5101 - output_1_loss: 0.4659 - output_2_loss: 0.9080 - val_loss: 0.4889 - val_output_1_loss: 0.4403 - val_output_2_loss: 0.9264\n",
      "Epoch 16/20\n",
      "363/363 [==============================] - 0s 888us/step - loss: 0.5038 - output_1_loss: 0.4609 - output_2_loss: 0.8896 - val_loss: 0.4803 - val_output_1_loss: 0.4312 - val_output_2_loss: 0.9225\n",
      "Epoch 17/20\n",
      "363/363 [==============================] - 0s 871us/step - loss: 0.4980 - output_1_loss: 0.4564 - output_2_loss: 0.8721 - val_loss: 0.4789 - val_output_1_loss: 0.4310 - val_output_2_loss: 0.9107\n",
      "Epoch 18/20\n",
      "363/363 [==============================] - 0s 921us/step - loss: 0.4927 - output_1_loss: 0.4524 - output_2_loss: 0.8550 - val_loss: 0.4744 - val_output_1_loss: 0.4271 - val_output_2_loss: 0.9001\n",
      "Epoch 19/20\n",
      "363/363 [==============================] - 0s 940us/step - loss: 0.4877 - output_1_loss: 0.4486 - output_2_loss: 0.8399 - val_loss: 0.4687 - val_output_1_loss: 0.4203 - val_output_2_loss: 0.9047\n",
      "Epoch 20/20\n",
      "363/363 [==============================] - 0s 888us/step - loss: 0.4837 - output_1_loss: 0.4457 - output_2_loss: 0.8251 - val_loss: 0.4976 - val_output_1_loss: 0.4556 - val_output_2_loss: 0.8758\n"
     ]
    }
   ],
   "source": [
    "model.compile(loss=\"mse\", loss_weights=[0.9, 0.1], optimizer=keras.optimizers.SGD(learning_rate=1e-3))\n",
    "model.fit((X_train_A, X_train_B), (y_train, y_train), epochs=20, \n",
    "          validation_data=((X_valid_A, X_valid_B), (y_valid, y_valid)));"
   ]
  },
  {
   "cell_type": "code",
   "execution_count": 50,
   "id": "52226e9cb4f2a7a4",
   "metadata": {
    "collapsed": false,
    "jupyter": {
     "outputs_hidden": false
    }
   },
   "outputs": [
    {
     "name": "stdout",
     "output_type": "stream",
     "text": [
      "162/162 [==============================] - 0s 572us/step - loss: 0.4694 - output_1_loss: 0.4334 - output_2_loss: 0.7934\n"
     ]
    },
    {
     "data": {
      "text/plain": [
       "[0.46941688656806946, 0.43341466784477234, 0.7934378981590271]"
      ]
     },
     "execution_count": 50,
     "metadata": {},
     "output_type": "execute_result"
    }
   ],
   "source": [
    "model.evaluate((X_test_A, X_test_B), (y_test, y_test)) # total_loss, main_loss, aux_loss"
   ]
  },
  {
   "cell_type": "code",
   "execution_count": 51,
   "id": "2055189e9869a5df",
   "metadata": {
    "collapsed": false,
    "jupyter": {
     "outputs_hidden": false
    }
   },
   "outputs": [
    {
     "data": {
      "text/plain": [
       "(array([[0.39435017],\n",
       "        [1.7348846 ],\n",
       "        [3.3655    ]], dtype=float32),\n",
       " array([[0.7689581],\n",
       "        [1.7097168],\n",
       "        [2.7322767]], dtype=float32))"
      ]
     },
     "execution_count": 51,
     "metadata": {},
     "output_type": "execute_result"
    }
   ],
   "source": [
    "y_pred_main, y_pred_aux = model.predict((X_new_A, X_new_B), verbose=0)\n",
    "y_pred_main, y_pred_aux"
   ]
  },
  {
   "cell_type": "markdown",
   "id": "593e0d013b1fccb5",
   "metadata": {
    "collapsed": false,
    "jupyter": {
     "outputs_hidden": false
    }
   },
   "source": [
    "#### Saving and Restoring a Model"
   ]
  },
  {
   "cell_type": "code",
   "execution_count": 52,
   "id": "5a510ec71d345f73",
   "metadata": {
    "collapsed": false,
    "jupyter": {
     "outputs_hidden": false
    }
   },
   "outputs": [],
   "source": [
    "model = keras.models.Sequential([\n",
    "    keras.layers.Dense(30, activation=\"relu\", input_shape=[8]),\n",
    "    keras.layers.Dense(30, activation=\"relu\"),\n",
    "    keras.layers.Dense(1)\n",
    "])"
   ]
  },
  {
   "cell_type": "code",
   "execution_count": 53,
   "id": "cbb7ae22f3c42466",
   "metadata": {
    "collapsed": false,
    "jupyter": {
     "outputs_hidden": false
    }
   },
   "outputs": [
    {
     "name": "stdout",
     "output_type": "stream",
     "text": [
      "Epoch 1/10\n",
      "363/363 [==============================] - 1s 939us/step - loss: 2.1823 - val_loss: 0.8911\n",
      "Epoch 2/10\n",
      "363/363 [==============================] - 0s 821us/step - loss: 0.8043 - val_loss: 0.8167\n",
      "Epoch 3/10\n",
      "363/363 [==============================] - 0s 783us/step - loss: 0.7185 - val_loss: 0.7194\n",
      "Epoch 4/10\n",
      "363/363 [==============================] - 0s 826us/step - loss: 0.6630 - val_loss: 0.6228\n",
      "Epoch 5/10\n",
      "363/363 [==============================] - 0s 797us/step - loss: 0.6194 - val_loss: 0.5707\n",
      "Epoch 6/10\n",
      "363/363 [==============================] - 0s 837us/step - loss: 0.5811 - val_loss: 0.5445\n",
      "Epoch 7/10\n",
      "363/363 [==============================] - 0s 789us/step - loss: 0.5490 - val_loss: 0.5186\n",
      "Epoch 8/10\n",
      "363/363 [==============================] - 0s 815us/step - loss: 0.5213 - val_loss: 0.4823\n",
      "Epoch 9/10\n",
      "363/363 [==============================] - 0s 813us/step - loss: 0.4972 - val_loss: 0.4589\n",
      "Epoch 10/10\n",
      "363/363 [==============================] - 0s 818us/step - loss: 0.4774 - val_loss: 0.4409\n"
     ]
    }
   ],
   "source": [
    "model.compile(loss=\"mse\", optimizer=keras.optimizers.SGD(learning_rate=1e-3))\n",
    "model.fit(X_train, y_train, epochs=10, validation_data=(X_valid, y_valid));"
   ]
  },
  {
   "cell_type": "code",
   "execution_count": 54,
   "id": "e5e7f8d86ef5e51b",
   "metadata": {
    "collapsed": false,
    "jupyter": {
     "outputs_hidden": false
    }
   },
   "outputs": [
    {
     "name": "stdout",
     "output_type": "stream",
     "text": [
      "162/162 [==============================] - 0s 524us/step - loss: 0.4616\n"
     ]
    },
    {
     "data": {
      "text/plain": [
       "0.4615987241268158"
      ]
     },
     "execution_count": 54,
     "metadata": {},
     "output_type": "execute_result"
    }
   ],
   "source": [
    "model.evaluate(X_test, y_test)"
   ]
  },
  {
   "cell_type": "code",
   "execution_count": 55,
   "id": "3e9b8001-2471-4168-8759-b2ac8f7b2f55",
   "metadata": {},
   "outputs": [
    {
     "data": {
      "text/plain": [
       "array([[0.78396815],\n",
       "       [1.5268346 ],\n",
       "       [3.0590672 ]], dtype=float32)"
      ]
     },
     "execution_count": 55,
     "metadata": {},
     "output_type": "execute_result"
    }
   ],
   "source": [
    "y_pred = model.predict(X_new, verbose=0)\n",
    "y_pred"
   ]
  },
  {
   "cell_type": "code",
   "execution_count": 56,
   "id": "603dcf5011760dc8",
   "metadata": {
    "collapsed": false,
    "jupyter": {
     "outputs_hidden": false
    }
   },
   "outputs": [],
   "source": [
    "model.save(\"temp_model.keras\")\n",
    "model = keras.models.load_model(\"temp_model.keras\")"
   ]
  },
  {
   "cell_type": "code",
   "execution_count": 57,
   "id": "a2aa5ab4cbe9e223",
   "metadata": {
    "collapsed": false,
    "jupyter": {
     "outputs_hidden": false
    }
   },
   "outputs": [
    {
     "name": "stdout",
     "output_type": "stream",
     "text": [
      "162/162 [==============================] - 0s 536us/step - loss: 0.4616\n"
     ]
    },
    {
     "data": {
      "text/plain": [
       "0.4615987241268158"
      ]
     },
     "execution_count": 57,
     "metadata": {},
     "output_type": "execute_result"
    }
   ],
   "source": [
    "model.evaluate(X_test, y_test)"
   ]
  },
  {
   "cell_type": "code",
   "execution_count": 58,
   "id": "a681ef195beb8b36",
   "metadata": {
    "collapsed": false,
    "jupyter": {
     "outputs_hidden": false
    }
   },
   "outputs": [
    {
     "data": {
      "text/plain": [
       "array([[0.78396815],\n",
       "       [1.5268346 ],\n",
       "       [3.0590672 ]], dtype=float32)"
      ]
     },
     "execution_count": 58,
     "metadata": {},
     "output_type": "execute_result"
    }
   ],
   "source": [
    "y_pred = model.predict(X_new, verbose=0)\n",
    "y_pred"
   ]
  },
  {
   "cell_type": "markdown",
   "id": "4d8e61b0a6bab8d5",
   "metadata": {
    "collapsed": false,
    "jupyter": {
     "outputs_hidden": false
    }
   },
   "source": [
    "#### Using Callbacks"
   ]
  },
  {
   "cell_type": "code",
   "execution_count": 59,
   "id": "6ffccc1347aed08f",
   "metadata": {
    "collapsed": false,
    "jupyter": {
     "outputs_hidden": false
    }
   },
   "outputs": [],
   "source": [
    "model = keras.models.Sequential([\n",
    "    keras.layers.Dense(30, activation=\"relu\", input_shape=[8]),\n",
    "    keras.layers.Dense(30, activation=\"relu\"),\n",
    "    keras.layers.Dense(1)\n",
    "])"
   ]
  },
  {
   "cell_type": "code",
   "execution_count": 60,
   "id": "96b113c4768df852",
   "metadata": {
    "collapsed": false,
    "jupyter": {
     "outputs_hidden": false
    }
   },
   "outputs": [
    {
     "name": "stdout",
     "output_type": "stream",
     "text": [
      "Epoch 1/10\n",
      "363/363 [==============================] - 1s 976us/step - loss: 2.1710 - val_loss: 1.2749\n",
      "Epoch 2/10\n",
      "363/363 [==============================] - 0s 864us/step - loss: 0.7515 - val_loss: 0.6382\n",
      "Epoch 3/10\n",
      "363/363 [==============================] - 0s 896us/step - loss: 0.6546 - val_loss: 0.5961\n",
      "Epoch 4/10\n",
      "363/363 [==============================] - 0s 897us/step - loss: 0.6124 - val_loss: 0.5632\n",
      "Epoch 5/10\n",
      "363/363 [==============================] - 0s 846us/step - loss: 0.5821 - val_loss: 0.5299\n",
      "Epoch 6/10\n",
      "363/363 [==============================] - 0s 835us/step - loss: 0.5532 - val_loss: 0.5075\n",
      "Epoch 7/10\n",
      "363/363 [==============================] - 0s 829us/step - loss: 0.5314 - val_loss: 0.4862\n",
      "Epoch 8/10\n",
      "363/363 [==============================] - 0s 820us/step - loss: 0.5120 - val_loss: 0.4692\n",
      "Epoch 9/10\n",
      "363/363 [==============================] - 0s 836us/step - loss: 0.4946 - val_loss: 0.4603\n",
      "Epoch 10/10\n",
      "363/363 [==============================] - 0s 835us/step - loss: 0.4802 - val_loss: 0.4425\n"
     ]
    }
   ],
   "source": [
    "checkpoint_cb = keras.callbacks.ModelCheckpoint(\"temp_model.keras\", save_best_only=True)\n",
    "\n",
    "model.compile(loss=\"mse\", optimizer=keras.optimizers.SGD(learning_rate=1e-3))\n",
    "model.fit(X_train, y_train, epochs=10, validation_data=(X_valid, y_valid), \n",
    "          callbacks=[checkpoint_cb]);"
   ]
  },
  {
   "cell_type": "code",
   "execution_count": 61,
   "id": "1d2223020fe67b9c",
   "metadata": {
    "collapsed": false,
    "jupyter": {
     "outputs_hidden": false
    }
   },
   "outputs": [],
   "source": [
    "model = keras.models.load_model(\"temp_model.keras\") # rollback to best model"
   ]
  },
  {
   "cell_type": "code",
   "execution_count": 62,
   "id": "c724d6ca52decf33",
   "metadata": {
    "collapsed": false,
    "jupyter": {
     "outputs_hidden": false
    }
   },
   "outputs": [
    {
     "name": "stdout",
     "output_type": "stream",
     "text": [
      "121/121 [==============================] - 0s 535us/step - loss: 0.4425\n"
     ]
    },
    {
     "data": {
      "text/plain": [
       "0.4424857497215271"
      ]
     },
     "execution_count": 62,
     "metadata": {},
     "output_type": "execute_result"
    }
   ],
   "source": [
    "model.evaluate(X_valid, y_valid)"
   ]
  },
  {
   "cell_type": "code",
   "execution_count": 63,
   "id": "8a4d0753295a8485",
   "metadata": {
    "collapsed": false,
    "jupyter": {
     "outputs_hidden": false
    }
   },
   "outputs": [
    {
     "name": "stdout",
     "output_type": "stream",
     "text": [
      "Epoch 1/100\n",
      "363/363 [==============================] - 1s 1ms/step - loss: 0.4691 - val_loss: 0.4367\n",
      "Epoch 2/100\n",
      "363/363 [==============================] - 0s 856us/step - loss: 0.4583 - val_loss: 0.4280\n",
      "Epoch 3/100\n",
      "363/363 [==============================] - 0s 854us/step - loss: 0.4497 - val_loss: 0.4207\n",
      "Epoch 4/100\n",
      "363/363 [==============================] - 0s 851us/step - loss: 0.4404 - val_loss: 0.4394\n",
      "Epoch 5/100\n",
      "363/363 [==============================] - 0s 853us/step - loss: 0.4347 - val_loss: 0.4172\n",
      "Epoch 6/100\n",
      "363/363 [==============================] - 0s 796us/step - loss: 0.4273 - val_loss: 0.4213\n",
      "Epoch 7/100\n",
      "363/363 [==============================] - 0s 843us/step - loss: 0.4226 - val_loss: 0.4184\n",
      "Epoch 8/100\n",
      "363/363 [==============================] - 0s 835us/step - loss: 0.4178 - val_loss: 0.3982\n",
      "Epoch 9/100\n",
      "363/363 [==============================] - 0s 805us/step - loss: 0.4128 - val_loss: 0.4150\n",
      "Epoch 10/100\n",
      "363/363 [==============================] - 0s 856us/step - loss: 0.4086 - val_loss: 0.4061\n",
      "Epoch 11/100\n",
      "363/363 [==============================] - 0s 874us/step - loss: 0.4052 - val_loss: 0.3938\n",
      "Epoch 12/100\n",
      "363/363 [==============================] - 0s 811us/step - loss: 0.4015 - val_loss: 0.4189\n",
      "Epoch 13/100\n",
      "363/363 [==============================] - 0s 868us/step - loss: 0.3987 - val_loss: 0.4004\n",
      "Epoch 14/100\n",
      "363/363 [==============================] - 0s 853us/step - loss: 0.3957 - val_loss: 0.3875\n",
      "Epoch 15/100\n",
      "363/363 [==============================] - 0s 835us/step - loss: 0.3930 - val_loss: 0.3816\n",
      "Epoch 16/100\n",
      "363/363 [==============================] - 0s 864us/step - loss: 0.3901 - val_loss: 0.3701\n",
      "Epoch 17/100\n",
      "363/363 [==============================] - 0s 869us/step - loss: 0.3875 - val_loss: 0.3913\n",
      "Epoch 18/100\n",
      "363/363 [==============================] - 0s 861us/step - loss: 0.3857 - val_loss: 0.3863\n",
      "Epoch 19/100\n",
      "363/363 [==============================] - 0s 813us/step - loss: 0.3827 - val_loss: 0.3718\n",
      "Epoch 20/100\n",
      "363/363 [==============================] - 0s 893us/step - loss: 0.3809 - val_loss: 0.4176\n",
      "Epoch 21/100\n",
      "363/363 [==============================] - 0s 849us/step - loss: 0.3790 - val_loss: 0.3956\n",
      "Epoch 22/100\n",
      "363/363 [==============================] - 0s 818us/step - loss: 0.3771 - val_loss: 0.4156\n",
      "Epoch 23/100\n",
      "363/363 [==============================] - 0s 900us/step - loss: 0.3753 - val_loss: 0.3543\n",
      "Epoch 24/100\n",
      "363/363 [==============================] - 0s 843us/step - loss: 0.3735 - val_loss: 0.3750\n",
      "Epoch 25/100\n",
      "363/363 [==============================] - 0s 810us/step - loss: 0.3717 - val_loss: 0.3937\n",
      "Epoch 26/100\n",
      "363/363 [==============================] - 0s 880us/step - loss: 0.3704 - val_loss: 0.3937\n",
      "Epoch 27/100\n",
      "363/363 [==============================] - 0s 904us/step - loss: 0.3693 - val_loss: 0.3522\n",
      "Epoch 28/100\n",
      "363/363 [==============================] - 0s 815us/step - loss: 0.3680 - val_loss: 0.3831\n",
      "Epoch 29/100\n",
      "363/363 [==============================] - 0s 846us/step - loss: 0.3668 - val_loss: 0.3582\n",
      "Epoch 30/100\n",
      "363/363 [==============================] - 0s 816us/step - loss: 0.3652 - val_loss: 0.3754\n",
      "Epoch 31/100\n",
      "363/363 [==============================] - 0s 805us/step - loss: 0.3637 - val_loss: 0.3569\n",
      "Epoch 32/100\n",
      "363/363 [==============================] - 0s 829us/step - loss: 0.3627 - val_loss: 0.3803\n",
      "Epoch 33/100\n",
      "363/363 [==============================] - 0s 874us/step - loss: 0.3621 - val_loss: 0.3448\n",
      "Epoch 34/100\n",
      "363/363 [==============================] - 0s 805us/step - loss: 0.3605 - val_loss: 0.3550\n",
      "Epoch 35/100\n",
      "363/363 [==============================] - 0s 830us/step - loss: 0.3598 - val_loss: 0.3758\n",
      "Epoch 36/100\n",
      "363/363 [==============================] - 0s 867us/step - loss: 0.3587 - val_loss: 0.3392\n",
      "Epoch 37/100\n",
      "363/363 [==============================] - 0s 823us/step - loss: 0.3579 - val_loss: 0.3556\n",
      "Epoch 38/100\n",
      "363/363 [==============================] - 0s 836us/step - loss: 0.3568 - val_loss: 0.3470\n",
      "Epoch 39/100\n",
      "363/363 [==============================] - 0s 886us/step - loss: 0.3559 - val_loss: 0.3443\n",
      "Epoch 40/100\n",
      "363/363 [==============================] - 0s 1ms/step - loss: 0.3549 - val_loss: 0.3466\n",
      "Epoch 41/100\n",
      "363/363 [==============================] - 0s 874us/step - loss: 0.3548 - val_loss: 0.3545\n",
      "Epoch 42/100\n",
      "363/363 [==============================] - 0s 819us/step - loss: 0.3539 - val_loss: 0.3630\n",
      "Epoch 43/100\n",
      "363/363 [==============================] - 0s 893us/step - loss: 0.3529 - val_loss: 0.3690\n",
      "Epoch 44/100\n",
      "363/363 [==============================] - 0s 824us/step - loss: 0.3520 - val_loss: 0.3641\n",
      "Epoch 45/100\n",
      "363/363 [==============================] - 0s 864us/step - loss: 0.3517 - val_loss: 0.3358\n",
      "Epoch 46/100\n",
      "363/363 [==============================] - 0s 909us/step - loss: 0.3506 - val_loss: 0.3382\n",
      "Epoch 47/100\n",
      "363/363 [==============================] - 0s 828us/step - loss: 0.3501 - val_loss: 0.3442\n",
      "Epoch 48/100\n",
      "363/363 [==============================] - 0s 863us/step - loss: 0.3494 - val_loss: 0.3584\n",
      "Epoch 49/100\n",
      "363/363 [==============================] - 0s 859us/step - loss: 0.3497 - val_loss: 0.3383\n",
      "Epoch 50/100\n",
      "363/363 [==============================] - 0s 846us/step - loss: 0.3482 - val_loss: 0.3274\n",
      "Epoch 51/100\n",
      "363/363 [==============================] - 0s 805us/step - loss: 0.3477 - val_loss: 0.3585\n",
      "Epoch 52/100\n",
      "363/363 [==============================] - 0s 897us/step - loss: 0.3472 - val_loss: 0.3272\n",
      "Epoch 53/100\n",
      "363/363 [==============================] - 0s 872us/step - loss: 0.3467 - val_loss: 0.3706\n",
      "Epoch 54/100\n",
      "363/363 [==============================] - 0s 846us/step - loss: 0.3465 - val_loss: 0.3321\n",
      "Epoch 55/100\n",
      "363/363 [==============================] - 0s 852us/step - loss: 0.3456 - val_loss: 0.3349\n",
      "Epoch 56/100\n",
      "363/363 [==============================] - 0s 851us/step - loss: 0.3451 - val_loss: 0.3306\n",
      "Epoch 57/100\n",
      "363/363 [==============================] - 0s 853us/step - loss: 0.3446 - val_loss: 0.3252\n",
      "Epoch 58/100\n",
      "363/363 [==============================] - 0s 915us/step - loss: 0.3439 - val_loss: 0.3383\n",
      "Epoch 59/100\n",
      "363/363 [==============================] - 0s 827us/step - loss: 0.3440 - val_loss: 0.3369\n",
      "Epoch 60/100\n",
      "363/363 [==============================] - 0s 830us/step - loss: 0.3433 - val_loss: 0.3348\n",
      "Epoch 61/100\n",
      "363/363 [==============================] - 0s 855us/step - loss: 0.3424 - val_loss: 0.3542\n",
      "Epoch 62/100\n",
      "363/363 [==============================] - 0s 839us/step - loss: 0.3425 - val_loss: 0.3365\n",
      "Epoch 63/100\n",
      "363/363 [==============================] - 0s 823us/step - loss: 0.3414 - val_loss: 0.3377\n",
      "Epoch 64/100\n",
      "363/363 [==============================] - 0s 912us/step - loss: 0.3417 - val_loss: 0.3214\n",
      "Epoch 65/100\n",
      "363/363 [==============================] - 0s 840us/step - loss: 0.3412 - val_loss: 0.3225\n",
      "Epoch 66/100\n",
      "363/363 [==============================] - 0s 812us/step - loss: 0.3404 - val_loss: 0.3245\n",
      "Epoch 67/100\n",
      "363/363 [==============================] - 0s 826us/step - loss: 0.3401 - val_loss: 0.3342\n",
      "Epoch 68/100\n",
      "363/363 [==============================] - 0s 875us/step - loss: 0.3397 - val_loss: 0.3259\n",
      "Epoch 69/100\n",
      "363/363 [==============================] - 0s 826us/step - loss: 0.3392 - val_loss: 0.3287\n",
      "Epoch 70/100\n",
      "363/363 [==============================] - 0s 866us/step - loss: 0.3387 - val_loss: 0.3560\n",
      "Epoch 71/100\n",
      "363/363 [==============================] - 0s 838us/step - loss: 0.3386 - val_loss: 0.3531\n",
      "Epoch 72/100\n",
      "363/363 [==============================] - 0s 912us/step - loss: 0.3382 - val_loss: 0.3221\n",
      "Epoch 73/100\n",
      "363/363 [==============================] - 0s 949us/step - loss: 0.3372 - val_loss: 0.3201\n",
      "Epoch 74/100\n",
      "363/363 [==============================] - 0s 857us/step - loss: 0.3375 - val_loss: 0.3393\n",
      "Epoch 75/100\n",
      "363/363 [==============================] - 0s 857us/step - loss: 0.3368 - val_loss: 0.3591\n",
      "Epoch 76/100\n",
      "363/363 [==============================] - 0s 850us/step - loss: 0.3369 - val_loss: 0.3206\n",
      "Epoch 77/100\n",
      "363/363 [==============================] - 0s 832us/step - loss: 0.3359 - val_loss: 0.3507\n",
      "Epoch 78/100\n",
      "363/363 [==============================] - 0s 872us/step - loss: 0.3357 - val_loss: 0.3345\n",
      "Epoch 79/100\n",
      "363/363 [==============================] - 0s 830us/step - loss: 0.3355 - val_loss: 0.3318\n",
      "Epoch 80/100\n",
      "363/363 [==============================] - 0s 831us/step - loss: 0.3349 - val_loss: 0.3306\n",
      "Epoch 81/100\n",
      "363/363 [==============================] - 0s 839us/step - loss: 0.3349 - val_loss: 0.3223\n",
      "Epoch 82/100\n",
      "363/363 [==============================] - 0s 875us/step - loss: 0.3343 - val_loss: 0.3158\n",
      "Epoch 83/100\n",
      "363/363 [==============================] - 0s 863us/step - loss: 0.3341 - val_loss: 0.3198\n",
      "Epoch 84/100\n",
      "363/363 [==============================] - 0s 858us/step - loss: 0.3335 - val_loss: 0.3515\n",
      "Epoch 85/100\n",
      "363/363 [==============================] - 0s 838us/step - loss: 0.3332 - val_loss: 0.3184\n",
      "Epoch 86/100\n",
      "363/363 [==============================] - 0s 856us/step - loss: 0.3331 - val_loss: 0.3232\n",
      "Epoch 87/100\n",
      "363/363 [==============================] - 0s 862us/step - loss: 0.3327 - val_loss: 0.3411\n",
      "Epoch 88/100\n",
      "363/363 [==============================] - 0s 863us/step - loss: 0.3324 - val_loss: 0.3279\n",
      "Epoch 89/100\n",
      "363/363 [==============================] - 0s 841us/step - loss: 0.3318 - val_loss: 0.3488\n",
      "Epoch 90/100\n",
      "363/363 [==============================] - 0s 876us/step - loss: 0.3315 - val_loss: 0.3424\n",
      "Epoch 91/100\n",
      "363/363 [==============================] - 0s 846us/step - loss: 0.3311 - val_loss: 0.3176\n",
      "Epoch 92/100\n",
      "363/363 [==============================] - 0s 833us/step - loss: 0.3308 - val_loss: 0.3308\n"
     ]
    }
   ],
   "source": [
    "early_stopping_cb = keras.callbacks.EarlyStopping(patience=10, restore_best_weights=True)\n",
    "\n",
    "model.compile(loss=\"mse\", optimizer=keras.optimizers.SGD(learning_rate=1e-3))\n",
    "model.fit(X_train, y_train, epochs=100, validation_data=(X_valid, y_valid), \n",
    "          callbacks=[checkpoint_cb, early_stopping_cb]);"
   ]
  },
  {
   "cell_type": "code",
   "execution_count": 64,
   "id": "d4b9163d82ee1fc8",
   "metadata": {
    "collapsed": false,
    "jupyter": {
     "outputs_hidden": false
    }
   },
   "outputs": [
    {
     "name": "stdout",
     "output_type": "stream",
     "text": [
      "121/121 [==============================] - 0s 553us/step - loss: 0.3158\n"
     ]
    },
    {
     "data": {
      "text/plain": [
       "0.3158430755138397"
      ]
     },
     "execution_count": 64,
     "metadata": {},
     "output_type": "execute_result"
    }
   ],
   "source": [
    "model.evaluate(X_valid, y_valid)"
   ]
  },
  {
   "cell_type": "code",
   "execution_count": 65,
   "id": "5f83dfa4f9512ba2",
   "metadata": {
    "collapsed": false,
    "jupyter": {
     "outputs_hidden": false
    }
   },
   "outputs": [],
   "source": [
    "class PrintValTrainRatioCallback(keras.callbacks.Callback):\n",
    "    def on_epoch_end(self, epoch, logs=None):\n",
    "        print(\"val/train: {:.2f}\".format(logs[\"val_loss\"] / logs[\"loss\"]))\n",
    "        \n",
    "val_train_ratio_cb = PrintValTrainRatioCallback()"
   ]
  },
  {
   "cell_type": "code",
   "execution_count": 66,
   "id": "17af36e2b6ab2fed",
   "metadata": {
    "collapsed": false,
    "jupyter": {
     "outputs_hidden": false
    }
   },
   "outputs": [
    {
     "name": "stdout",
     "output_type": "stream",
     "text": [
      "Epoch 1/3\n",
      "val/train: 0.99\n",
      "363/363 - 0s - loss: 0.3338 - val_loss: 0.3308 - 317ms/epoch - 874us/step\n",
      "Epoch 2/3\n",
      "val/train: 1.02\n",
      "363/363 - 0s - loss: 0.3337 - val_loss: 0.3420 - 302ms/epoch - 831us/step\n",
      "Epoch 3/3\n",
      "val/train: 0.97\n",
      "363/363 - 0s - loss: 0.3333 - val_loss: 0.3228 - 282ms/epoch - 777us/step\n"
     ]
    }
   ],
   "source": [
    "model.fit(X_train, y_train, epochs=3, validation_data=(X_valid, y_valid), \n",
    "          callbacks=[val_train_ratio_cb], verbose=2);"
   ]
  },
  {
   "cell_type": "markdown",
   "id": "9f50d5a48ffd0530",
   "metadata": {
    "collapsed": false,
    "jupyter": {
     "outputs_hidden": false
    }
   },
   "source": [
    "#### Using TensorBoard for Visualization"
   ]
  },
  {
   "cell_type": "markdown",
   "id": "210cb352-9ddd-44ba-8cc9-14730012a8d2",
   "metadata": {
    "collapsed": false,
    "jupyter": {
     "outputs_hidden": false
    }
   },
   "source": [
    "```tensorboard --logdir=lab9/logs --port=6006```"
   ]
  },
  {
   "cell_type": "code",
   "execution_count": 67,
   "id": "aa2ea21d-bec4-4cf9-8517-fe4b103e4a1c",
   "metadata": {},
   "outputs": [
    {
     "data": {
      "text/plain": [
       "'.\\\\logs\\\\run_2024_03_11-14_06_14'"
      ]
     },
     "execution_count": 67,
     "metadata": {},
     "output_type": "execute_result"
    }
   ],
   "source": [
    "def get_run_logdir():\n",
    "    root_logdir = os.path.join(os.curdir, \"logs\")\n",
    "    run_id = time.strftime(\"run_%Y_%m_%d-%H_%M_%S\")\n",
    "    return os.path.join(root_logdir, run_id)\n",
    "\n",
    "run_logdir = get_run_logdir()\n",
    "run_logdir"
   ]
  },
  {
   "cell_type": "code",
   "execution_count": 68,
   "id": "738bba992cd1bd08",
   "metadata": {
    "collapsed": false,
    "jupyter": {
     "outputs_hidden": false
    }
   },
   "outputs": [],
   "source": [
    "model = keras.models.Sequential([\n",
    "    keras.layers.Dense(30, activation=\"relu\", input_shape=[8]),\n",
    "    keras.layers.Dense(30, activation=\"relu\"),\n",
    "    keras.layers.Dense(1)\n",
    "])"
   ]
  },
  {
   "cell_type": "code",
   "execution_count": 69,
   "id": "508817fb0875e3c5",
   "metadata": {
    "collapsed": false,
    "jupyter": {
     "outputs_hidden": false
    }
   },
   "outputs": [
    {
     "name": "stdout",
     "output_type": "stream",
     "text": [
      "Epoch 1/30\n",
      "363/363 [==============================] - 1s 1ms/step - loss: 2.1899 - val_loss: 0.8185\n",
      "Epoch 2/30\n",
      "363/363 [==============================] - 0s 896us/step - loss: 0.7207 - val_loss: 0.6771\n",
      "Epoch 3/30\n",
      "363/363 [==============================] - 0s 896us/step - loss: 0.6335 - val_loss: 0.5820\n",
      "Epoch 4/30\n",
      "363/363 [==============================] - 0s 914us/step - loss: 0.5944 - val_loss: 0.5718\n",
      "Epoch 5/30\n",
      "363/363 [==============================] - 0s 920us/step - loss: 0.5655 - val_loss: 0.5238\n",
      "Epoch 6/30\n",
      "363/363 [==============================] - 0s 995us/step - loss: 0.5388 - val_loss: 0.5021\n",
      "Epoch 7/30\n",
      "363/363 [==============================] - 0s 937us/step - loss: 0.5166 - val_loss: 0.4711\n",
      "Epoch 8/30\n",
      "363/363 [==============================] - 0s 896us/step - loss: 0.4963 - val_loss: 0.4621\n",
      "Epoch 9/30\n",
      "363/363 [==============================] - 0s 929us/step - loss: 0.4777 - val_loss: 0.4399\n",
      "Epoch 10/30\n",
      "363/363 [==============================] - 0s 922us/step - loss: 0.4620 - val_loss: 0.4251\n",
      "Epoch 11/30\n",
      "363/363 [==============================] - 0s 942us/step - loss: 0.4494 - val_loss: 0.4259\n",
      "Epoch 12/30\n",
      "363/363 [==============================] - 0s 964us/step - loss: 0.4391 - val_loss: 0.4134\n",
      "Epoch 13/30\n",
      "363/363 [==============================] - 0s 951us/step - loss: 0.4311 - val_loss: 0.4153\n",
      "Epoch 14/30\n",
      "363/363 [==============================] - 0s 909us/step - loss: 0.4244 - val_loss: 0.4003\n",
      "Epoch 15/30\n",
      "363/363 [==============================] - 0s 880us/step - loss: 0.4189 - val_loss: 0.3983\n",
      "Epoch 16/30\n",
      "363/363 [==============================] - 0s 942us/step - loss: 0.4143 - val_loss: 0.3899\n",
      "Epoch 17/30\n",
      "363/363 [==============================] - 0s 916us/step - loss: 0.4101 - val_loss: 0.4318\n",
      "Epoch 18/30\n",
      "363/363 [==============================] - 0s 984us/step - loss: 0.4070 - val_loss: 0.3873\n",
      "Epoch 19/30\n",
      "363/363 [==============================] - 0s 937us/step - loss: 0.4029 - val_loss: 0.3835\n",
      "Epoch 20/30\n",
      "363/363 [==============================] - 0s 929us/step - loss: 0.3999 - val_loss: 0.4702\n",
      "Epoch 21/30\n",
      "363/363 [==============================] - 0s 936us/step - loss: 0.3973 - val_loss: 0.3897\n",
      "Epoch 22/30\n",
      "363/363 [==============================] - 0s 973us/step - loss: 0.3943 - val_loss: 0.4506\n",
      "Epoch 23/30\n",
      "363/363 [==============================] - 0s 896us/step - loss: 0.3922 - val_loss: 0.3824\n",
      "Epoch 24/30\n",
      "363/363 [==============================] - 0s 933us/step - loss: 0.3896 - val_loss: 0.3941\n",
      "Epoch 25/30\n",
      "363/363 [==============================] - 0s 927us/step - loss: 0.3871 - val_loss: 0.4092\n",
      "Epoch 26/30\n",
      "363/363 [==============================] - 0s 928us/step - loss: 0.3853 - val_loss: 0.4026\n",
      "Epoch 27/30\n",
      "363/363 [==============================] - 0s 904us/step - loss: 0.3835 - val_loss: 0.3676\n",
      "Epoch 28/30\n",
      "363/363 [==============================] - 0s 885us/step - loss: 0.3814 - val_loss: 0.4082\n",
      "Epoch 29/30\n",
      "363/363 [==============================] - 0s 948us/step - loss: 0.3799 - val_loss: 0.3567\n",
      "Epoch 30/30\n",
      "363/363 [==============================] - 0s 1ms/step - loss: 0.3776 - val_loss: 0.4239\n"
     ]
    }
   ],
   "source": [
    "tensorboard_cb = keras.callbacks.TensorBoard(run_logdir)\n",
    "\n",
    "model.compile(loss=\"mse\", optimizer=keras.optimizers.SGD(learning_rate=1e-3))\n",
    "model.fit(X_train, y_train, epochs=30, validation_data=(X_valid, y_valid), \n",
    "          callbacks=[checkpoint_cb, tensorboard_cb]);"
   ]
  },
  {
   "cell_type": "code",
   "execution_count": 70,
   "id": "5e885cca91099fa6",
   "metadata": {
    "collapsed": false,
    "jupyter": {
     "outputs_hidden": false
    }
   },
   "outputs": [
    {
     "data": {
      "text/plain": [
       "'.\\\\logs\\\\run_2024_03_11-14_06_25'"
      ]
     },
     "execution_count": 70,
     "metadata": {},
     "output_type": "execute_result"
    }
   ],
   "source": [
    "run_logdir2 = get_run_logdir()\n",
    "run_logdir2"
   ]
  },
  {
   "cell_type": "code",
   "execution_count": 71,
   "id": "c70b5fa66979d3eb",
   "metadata": {
    "collapsed": false,
    "jupyter": {
     "outputs_hidden": false
    }
   },
   "outputs": [],
   "source": [
    "model = keras.models.Sequential([\n",
    "    keras.layers.Dense(30, activation=\"relu\", input_shape=[8]),\n",
    "    keras.layers.Dense(30, activation=\"relu\"),\n",
    "    keras.layers.Dense(1)\n",
    "])"
   ]
  },
  {
   "cell_type": "code",
   "execution_count": 72,
   "id": "6c1fc18b5cc9dce3",
   "metadata": {
    "collapsed": false,
    "jupyter": {
     "outputs_hidden": false
    }
   },
   "outputs": [
    {
     "name": "stdout",
     "output_type": "stream",
     "text": [
      "Epoch 1/30\n",
      "363/363 [==============================] - 1s 1ms/step - loss: 0.7242 - val_loss: 5.6621\n",
      "Epoch 2/30\n",
      "363/363 [==============================] - 0s 927us/step - loss: 0.5052 - val_loss: 5.8412\n",
      "Epoch 3/30\n",
      "363/363 [==============================] - 0s 926us/step - loss: 0.4518 - val_loss: 0.3689\n",
      "Epoch 4/30\n",
      "363/363 [==============================] - 0s 962us/step - loss: 0.3916 - val_loss: 0.3702\n",
      "Epoch 5/30\n",
      "363/363 [==============================] - 0s 958us/step - loss: 0.3809 - val_loss: 0.3517\n",
      "Epoch 6/30\n",
      "363/363 [==============================] - 0s 920us/step - loss: 0.3729 - val_loss: 0.4076\n",
      "Epoch 7/30\n",
      "363/363 [==============================] - 0s 930us/step - loss: 0.3706 - val_loss: 0.3424\n",
      "Epoch 8/30\n",
      "363/363 [==============================] - 0s 921us/step - loss: 0.3611 - val_loss: 0.3446\n",
      "Epoch 9/30\n",
      "363/363 [==============================] - 0s 932us/step - loss: 0.3549 - val_loss: 0.3441\n",
      "Epoch 10/30\n",
      "363/363 [==============================] - 0s 922us/step - loss: 0.3510 - val_loss: 0.3639\n",
      "Epoch 11/30\n",
      "363/363 [==============================] - 0s 932us/step - loss: 0.3484 - val_loss: 0.3416\n",
      "Epoch 12/30\n",
      "363/363 [==============================] - 0s 912us/step - loss: 0.3460 - val_loss: 0.3854\n",
      "Epoch 13/30\n",
      "363/363 [==============================] - 0s 937us/step - loss: 0.3414 - val_loss: 0.3342\n",
      "Epoch 14/30\n",
      "363/363 [==============================] - 0s 868us/step - loss: 0.3381 - val_loss: 0.3242\n",
      "Epoch 15/30\n",
      "363/363 [==============================] - 0s 906us/step - loss: 0.3362 - val_loss: 0.3338\n",
      "Epoch 16/30\n",
      "363/363 [==============================] - 0s 944us/step - loss: 0.3324 - val_loss: 0.3137\n",
      "Epoch 17/30\n",
      "363/363 [==============================] - 0s 883us/step - loss: 0.3306 - val_loss: 0.3714\n",
      "Epoch 18/30\n",
      "363/363 [==============================] - 0s 927us/step - loss: 0.3275 - val_loss: 0.3133\n",
      "Epoch 19/30\n",
      "363/363 [==============================] - 0s 900us/step - loss: 0.3273 - val_loss: 0.3185\n",
      "Epoch 20/30\n",
      "363/363 [==============================] - 0s 932us/step - loss: 0.3249 - val_loss: 0.3464\n",
      "Epoch 21/30\n",
      "363/363 [==============================] - 0s 875us/step - loss: 0.3208 - val_loss: 0.3158\n",
      "Epoch 22/30\n",
      "363/363 [==============================] - 0s 901us/step - loss: 0.3188 - val_loss: 0.5355\n",
      "Epoch 23/30\n",
      "363/363 [==============================] - 0s 935us/step - loss: 0.3182 - val_loss: 0.5694\n",
      "Epoch 24/30\n",
      "363/363 [==============================] - 0s 949us/step - loss: 0.3187 - val_loss: 1.4312\n",
      "Epoch 25/30\n",
      "363/363 [==============================] - 0s 957us/step - loss: 0.3247 - val_loss: 0.3057\n",
      "Epoch 26/30\n",
      "363/363 [==============================] - 0s 902us/step - loss: 0.3142 - val_loss: 0.3503\n",
      "Epoch 27/30\n",
      "363/363 [==============================] - 0s 870us/step - loss: 0.3127 - val_loss: 0.8157\n",
      "Epoch 28/30\n",
      "363/363 [==============================] - 0s 908us/step - loss: 0.3131 - val_loss: 1.0475\n",
      "Epoch 29/30\n",
      "363/363 [==============================] - 0s 911us/step - loss: 0.3129 - val_loss: 0.3137\n",
      "Epoch 30/30\n",
      "363/363 [==============================] - 0s 876us/step - loss: 0.3076 - val_loss: 0.3659\n"
     ]
    }
   ],
   "source": [
    "tensorboard_cb = keras.callbacks.TensorBoard(run_logdir2)\n",
    "\n",
    "model.compile(loss=\"mse\", optimizer=keras.optimizers.SGD(learning_rate=1e-2))\n",
    "model.fit(X_train, y_train, epochs=30, validation_data=(X_valid, y_valid), \n",
    "          callbacks=[checkpoint_cb, tensorboard_cb]);"
   ]
  },
  {
   "cell_type": "markdown",
   "id": "15489cd6ccc80400",
   "metadata": {
    "collapsed": false,
    "jupyter": {
     "outputs_hidden": false
    }
   },
   "source": [
    "## Fine-Tuning Neural Network Hyperparameters"
   ]
  },
  {
   "cell_type": "code",
   "execution_count": 73,
   "id": "1f748f5e6d97f7db",
   "metadata": {
    "collapsed": false,
    "jupyter": {
     "outputs_hidden": false
    }
   },
   "outputs": [],
   "source": [
    "def build_model(n_hidden=1, n_neurons=30, learning_rate=3e-3, input_shape=None):\n",
    "    if input_shape is None:\n",
    "        input_shape = [8]\n",
    "    model = keras.models.Sequential()\n",
    "    model.add(keras.layers.InputLayer(input_shape=input_shape))\n",
    "    for layer in range(n_hidden):\n",
    "        model.add(keras.layers.Dense(n_neurons, activation=\"relu\"))\n",
    "    model.add(keras.layers.Dense(1))\n",
    "    optimizer = keras.optimizers.SGD(learning_rate=learning_rate)\n",
    "    model.compile(loss=\"mse\", optimizer=optimizer)\n",
    "    return model"
   ]
  },
  {
   "cell_type": "code",
   "execution_count": 74,
   "id": "f0889f5175dac3f1",
   "metadata": {
    "collapsed": false,
    "jupyter": {
     "outputs_hidden": false
    }
   },
   "outputs": [],
   "source": [
    "from scikeras.wrappers import KerasRegressor\n",
    "\n",
    "keras_reg = KerasRegressor(build_model, n_hidden=1, n_neurons=30, learning_rate=3e-3, input_shape=None,\n",
    "                           callbacks=[keras.callbacks.EarlyStopping(patience=10)])"
   ]
  },
  {
   "cell_type": "code",
   "execution_count": 75,
   "id": "de53628bdaa0a856",
   "metadata": {
    "collapsed": false,
    "jupyter": {
     "outputs_hidden": false
    }
   },
   "outputs": [
    {
     "name": "stdout",
     "output_type": "stream",
     "text": [
      "Epoch 1/100\n",
      "363/363 [==============================] - 0s 947us/step - loss: 1.4765 - val_loss: 34.8092\n",
      "Epoch 2/100\n",
      "363/363 [==============================] - 0s 773us/step - loss: 0.9504 - val_loss: 0.5966\n",
      "Epoch 3/100\n",
      "363/363 [==============================] - 0s 790us/step - loss: 0.5676 - val_loss: 0.5207\n",
      "Epoch 4/100\n",
      "363/363 [==============================] - 0s 794us/step - loss: 0.5097 - val_loss: 0.4814\n",
      "Epoch 5/100\n",
      "363/363 [==============================] - 0s 792us/step - loss: 0.4762 - val_loss: 0.4365\n",
      "Epoch 6/100\n",
      "363/363 [==============================] - 0s 758us/step - loss: 0.4497 - val_loss: 0.4217\n",
      "Epoch 7/100\n",
      "363/363 [==============================] - 0s 797us/step - loss: 0.4377 - val_loss: 0.4048\n",
      "Epoch 8/100\n",
      "363/363 [==============================] - 0s 772us/step - loss: 0.4279 - val_loss: 0.3984\n",
      "Epoch 9/100\n",
      "363/363 [==============================] - 0s 769us/step - loss: 0.4202 - val_loss: 0.3937\n",
      "Epoch 10/100\n",
      "363/363 [==============================] - 0s 784us/step - loss: 0.4155 - val_loss: 0.3877\n",
      "Epoch 11/100\n",
      "363/363 [==============================] - 0s 845us/step - loss: 0.4105 - val_loss: 0.3851\n",
      "Epoch 12/100\n",
      "363/363 [==============================] - 0s 766us/step - loss: 0.4075 - val_loss: 0.3829\n",
      "Epoch 13/100\n",
      "363/363 [==============================] - 0s 775us/step - loss: 0.4046 - val_loss: 0.3808\n",
      "Epoch 14/100\n",
      "363/363 [==============================] - 0s 779us/step - loss: 0.4021 - val_loss: 0.3804\n",
      "Epoch 15/100\n",
      "363/363 [==============================] - 0s 769us/step - loss: 0.3996 - val_loss: 0.3819\n",
      "Epoch 16/100\n",
      "363/363 [==============================] - 0s 810us/step - loss: 0.3970 - val_loss: 0.3805\n",
      "Epoch 17/100\n",
      "363/363 [==============================] - 0s 832us/step - loss: 0.3947 - val_loss: 0.3815\n",
      "Epoch 18/100\n",
      "363/363 [==============================] - 0s 795us/step - loss: 0.3939 - val_loss: 0.3825\n",
      "Epoch 19/100\n",
      "363/363 [==============================] - 0s 775us/step - loss: 0.3912 - val_loss: 0.3846\n",
      "Epoch 20/100\n",
      "363/363 [==============================] - 0s 786us/step - loss: 0.3909 - val_loss: 0.3890\n",
      "Epoch 21/100\n",
      "363/363 [==============================] - 0s 794us/step - loss: 0.3885 - val_loss: 0.3922\n",
      "Epoch 22/100\n",
      "363/363 [==============================] - 0s 768us/step - loss: 0.3879 - val_loss: 0.3949\n",
      "Epoch 23/100\n",
      "363/363 [==============================] - 0s 810us/step - loss: 0.3857 - val_loss: 0.3944\n",
      "Epoch 24/100\n",
      "363/363 [==============================] - 0s 822us/step - loss: 0.3838 - val_loss: 0.3957\n"
     ]
    }
   ],
   "source": [
    "keras_reg.fit(X_train, y_train, epochs=100, validation_data=(X_valid, y_valid));"
   ]
  },
  {
   "cell_type": "code",
   "execution_count": 76,
   "id": "3f458e12780466d1",
   "metadata": {
    "collapsed": false,
    "jupyter": {
     "outputs_hidden": false
    }
   },
   "outputs": [
    {
     "name": "stdout",
     "output_type": "stream",
     "text": [
      "162/162 [==============================] - 0s 465us/step\n"
     ]
    },
    {
     "data": {
      "text/plain": [
       "0.7154019174942132"
      ]
     },
     "execution_count": 76,
     "metadata": {},
     "output_type": "execute_result"
    }
   ],
   "source": [
    "keras_reg.score(X_test, y_test) # R^2 value"
   ]
  },
  {
   "cell_type": "code",
   "execution_count": 77,
   "id": "d70f43692fa896c7",
   "metadata": {
    "collapsed": false,
    "jupyter": {
     "outputs_hidden": false
    }
   },
   "outputs": [
    {
     "data": {
      "text/plain": [
       "array([0.6332307, 1.7227726, 3.7401533], dtype=float32)"
      ]
     },
     "execution_count": 77,
     "metadata": {},
     "output_type": "execute_result"
    }
   ],
   "source": [
    "y_pred = keras_reg.predict(X_new, verbose=0)\n",
    "y_pred"
   ]
  },
  {
   "cell_type": "code",
   "execution_count": 78,
   "id": "a54bb5ac0eb63e3f",
   "metadata": {
    "collapsed": false,
    "jupyter": {
     "outputs_hidden": false
    }
   },
   "outputs": [
    {
     "name": "stdout",
     "output_type": "stream",
     "text": [
      "Fitting 3 folds for each of 10 candidates, totalling 30 fits\n",
      "[CV] END learning_rate=0.0016834549246003507, n_hidden=0, n_neurons=15; total time=   4.2s\n",
      "[CV] END learning_rate=0.0016834549246003507, n_hidden=0, n_neurons=15; total time=  13.7s\n",
      "[CV] END learning_rate=0.0016834549246003507, n_hidden=0, n_neurons=15; total time=   4.4s\n",
      "[CV] END learning_rate=0.008731907739399207, n_hidden=0, n_neurons=21; total time=   2.3s\n",
      "[CV] END learning_rate=0.008731907739399207, n_hidden=0, n_neurons=21; total time=   2.3s\n",
      "[CV] END learning_rate=0.008731907739399207, n_hidden=0, n_neurons=21; total time=   2.4s\n",
      "[CV] END learning_rate=0.0006154014789262349, n_hidden=2, n_neurons=87; total time=  12.3s\n",
      "[CV] END learning_rate=0.0006154014789262349, n_hidden=2, n_neurons=87; total time=   5.1s\n",
      "[CV] END learning_rate=0.0006154014789262349, n_hidden=2, n_neurons=87; total time=  21.9s\n",
      "[CV] END learning_rate=0.00039200217714159834, n_hidden=3, n_neurons=24; total time=  21.8s\n",
      "[CV] END learning_rate=0.00039200217714159834, n_hidden=3, n_neurons=24; total time=   5.7s\n",
      "[CV] END learning_rate=0.00039200217714159834, n_hidden=3, n_neurons=24; total time=  11.9s\n",
      "[CV] END learning_rate=0.006010328378268218, n_hidden=0, n_neurons=2; total time=   2.4s\n",
      "[CV] END learning_rate=0.006010328378268218, n_hidden=0, n_neurons=2; total time=   2.5s\n",
      "[CV] END learning_rate=0.006010328378268218, n_hidden=0, n_neurons=2; total time=   2.4s\n",
      "[CV] END learning_rate=0.00833909265458004, n_hidden=1, n_neurons=38; total time=   3.7s\n",
      "[CV] END learning_rate=0.00833909265458004, n_hidden=1, n_neurons=38; total time=   3.7s\n",
      "[CV] END learning_rate=0.00833909265458004, n_hidden=1, n_neurons=38; total time=   3.9s\n",
      "[CV] END learning_rate=0.00030107783636342715, n_hidden=3, n_neurons=21; total time=  21.2s\n",
      "[CV] END learning_rate=0.00030107783636342715, n_hidden=3, n_neurons=21; total time=  18.7s\n",
      "[CV] END learning_rate=0.00030107783636342715, n_hidden=3, n_neurons=21; total time=  21.7s\n",
      "[CV] END learning_rate=0.0051532863337015134, n_hidden=1, n_neurons=22; total time=  19.4s\n",
      "[CV] END learning_rate=0.0051532863337015134, n_hidden=1, n_neurons=22; total time=   4.0s\n",
      "[CV] END learning_rate=0.0051532863337015134, n_hidden=1, n_neurons=22; total time=   3.7s\n",
      "[CV] END learning_rate=0.00030992304129721227, n_hidden=0, n_neurons=49; total time=   4.9s\n",
      "[CV] END learning_rate=0.00030992304129721227, n_hidden=0, n_neurons=49; total time=   7.9s\n",
      "[CV] END learning_rate=0.00030992304129721227, n_hidden=0, n_neurons=49; total time=   4.8s\n",
      "[CV] END learning_rate=0.003362564125268811, n_hidden=2, n_neurons=42; total time=  14.4s\n",
      "[CV] END learning_rate=0.003362564125268811, n_hidden=2, n_neurons=42; total time=   3.9s\n",
      "[CV] END learning_rate=0.003362564125268811, n_hidden=2, n_neurons=42; total time=  13.3s\n"
     ]
    }
   ],
   "source": [
    "from scipy.stats import reciprocal\n",
    "from sklearn.model_selection import RandomizedSearchCV\n",
    "\n",
    "param_distribs = {\n",
    "    \"n_hidden\": [0, 1, 2, 3],\n",
    "    \"n_neurons\": np.arange(1, 100),\n",
    "    \"learning_rate\": reciprocal(3e-4, 3e-2)\n",
    "}\n",
    "\n",
    "keras_reg.verbose = 0\n",
    "rnd_search_cv = RandomizedSearchCV(keras_reg, param_distribs, n_iter=10, cv=3, verbose=2)\n",
    "rnd_search_cv.fit(X_train, y_train, epochs=100, validation_data=(X_valid, y_valid));"
   ]
  },
  {
   "cell_type": "code",
   "execution_count": 79,
   "id": "fc74e18a23b10687",
   "metadata": {
    "collapsed": false,
    "jupyter": {
     "outputs_hidden": false
    }
   },
   "outputs": [
    {
     "data": {
      "text/plain": [
       "{'learning_rate': 0.003362564125268811, 'n_hidden': 2, 'n_neurons': 42}"
      ]
     },
     "execution_count": 79,
     "metadata": {},
     "output_type": "execute_result"
    }
   ],
   "source": [
    "rnd_search_cv.best_params_"
   ]
  },
  {
   "cell_type": "code",
   "execution_count": 80,
   "id": "c7299e8a8b6941f3",
   "metadata": {
    "collapsed": false,
    "jupyter": {
     "outputs_hidden": false
    }
   },
   "outputs": [
    {
     "data": {
      "text/plain": [
       "0.740032599365998"
      ]
     },
     "execution_count": 80,
     "metadata": {},
     "output_type": "execute_result"
    }
   ],
   "source": [
    "rnd_search_cv.best_score_ # R^2 value"
   ]
  },
  {
   "cell_type": "code",
   "execution_count": 81,
   "id": "4312d22fcd48d3cd",
   "metadata": {
    "collapsed": false,
    "jupyter": {
     "outputs_hidden": false
    }
   },
   "outputs": [
    {
     "data": {
      "text/html": [
       "<style>#sk-container-id-1 {\n",
       "  /* Definition of color scheme common for light and dark mode */\n",
       "  --sklearn-color-text: black;\n",
       "  --sklearn-color-line: gray;\n",
       "  /* Definition of color scheme for unfitted estimators */\n",
       "  --sklearn-color-unfitted-level-0: #fff5e6;\n",
       "  --sklearn-color-unfitted-level-1: #f6e4d2;\n",
       "  --sklearn-color-unfitted-level-2: #ffe0b3;\n",
       "  --sklearn-color-unfitted-level-3: chocolate;\n",
       "  /* Definition of color scheme for fitted estimators */\n",
       "  --sklearn-color-fitted-level-0: #f0f8ff;\n",
       "  --sklearn-color-fitted-level-1: #d4ebff;\n",
       "  --sklearn-color-fitted-level-2: #b3dbfd;\n",
       "  --sklearn-color-fitted-level-3: cornflowerblue;\n",
       "\n",
       "  /* Specific color for light theme */\n",
       "  --sklearn-color-text-on-default-background: var(--sg-text-color, var(--theme-code-foreground, var(--jp-content-font-color1, black)));\n",
       "  --sklearn-color-background: var(--sg-background-color, var(--theme-background, var(--jp-layout-color0, white)));\n",
       "  --sklearn-color-border-box: var(--sg-text-color, var(--theme-code-foreground, var(--jp-content-font-color1, black)));\n",
       "  --sklearn-color-icon: #696969;\n",
       "\n",
       "  @media (prefers-color-scheme: dark) {\n",
       "    /* Redefinition of color scheme for dark theme */\n",
       "    --sklearn-color-text-on-default-background: var(--sg-text-color, var(--theme-code-foreground, var(--jp-content-font-color1, white)));\n",
       "    --sklearn-color-background: var(--sg-background-color, var(--theme-background, var(--jp-layout-color0, #111)));\n",
       "    --sklearn-color-border-box: var(--sg-text-color, var(--theme-code-foreground, var(--jp-content-font-color1, white)));\n",
       "    --sklearn-color-icon: #878787;\n",
       "  }\n",
       "}\n",
       "\n",
       "#sk-container-id-1 {\n",
       "  color: var(--sklearn-color-text);\n",
       "}\n",
       "\n",
       "#sk-container-id-1 pre {\n",
       "  padding: 0;\n",
       "}\n",
       "\n",
       "#sk-container-id-1 input.sk-hidden--visually {\n",
       "  border: 0;\n",
       "  clip: rect(1px 1px 1px 1px);\n",
       "  clip: rect(1px, 1px, 1px, 1px);\n",
       "  height: 1px;\n",
       "  margin: -1px;\n",
       "  overflow: hidden;\n",
       "  padding: 0;\n",
       "  position: absolute;\n",
       "  width: 1px;\n",
       "}\n",
       "\n",
       "#sk-container-id-1 div.sk-dashed-wrapped {\n",
       "  border: 1px dashed var(--sklearn-color-line);\n",
       "  margin: 0 0.4em 0.5em 0.4em;\n",
       "  box-sizing: border-box;\n",
       "  padding-bottom: 0.4em;\n",
       "  background-color: var(--sklearn-color-background);\n",
       "}\n",
       "\n",
       "#sk-container-id-1 div.sk-container {\n",
       "  /* jupyter's `normalize.less` sets `[hidden] { display: none; }`\n",
       "     but bootstrap.min.css set `[hidden] { display: none !important; }`\n",
       "     so we also need the `!important` here to be able to override the\n",
       "     default hidden behavior on the sphinx rendered scikit-learn.org.\n",
       "     See: https://github.com/scikit-learn/scikit-learn/issues/21755 */\n",
       "  display: inline-block !important;\n",
       "  position: relative;\n",
       "}\n",
       "\n",
       "#sk-container-id-1 div.sk-text-repr-fallback {\n",
       "  display: none;\n",
       "}\n",
       "\n",
       "div.sk-parallel-item,\n",
       "div.sk-serial,\n",
       "div.sk-item {\n",
       "  /* draw centered vertical line to link estimators */\n",
       "  background-image: linear-gradient(var(--sklearn-color-text-on-default-background), var(--sklearn-color-text-on-default-background));\n",
       "  background-size: 2px 100%;\n",
       "  background-repeat: no-repeat;\n",
       "  background-position: center center;\n",
       "}\n",
       "\n",
       "/* Parallel-specific style estimator block */\n",
       "\n",
       "#sk-container-id-1 div.sk-parallel-item::after {\n",
       "  content: \"\";\n",
       "  width: 100%;\n",
       "  border-bottom: 2px solid var(--sklearn-color-text-on-default-background);\n",
       "  flex-grow: 1;\n",
       "}\n",
       "\n",
       "#sk-container-id-1 div.sk-parallel {\n",
       "  display: flex;\n",
       "  align-items: stretch;\n",
       "  justify-content: center;\n",
       "  background-color: var(--sklearn-color-background);\n",
       "  position: relative;\n",
       "}\n",
       "\n",
       "#sk-container-id-1 div.sk-parallel-item {\n",
       "  display: flex;\n",
       "  flex-direction: column;\n",
       "}\n",
       "\n",
       "#sk-container-id-1 div.sk-parallel-item:first-child::after {\n",
       "  align-self: flex-end;\n",
       "  width: 50%;\n",
       "}\n",
       "\n",
       "#sk-container-id-1 div.sk-parallel-item:last-child::after {\n",
       "  align-self: flex-start;\n",
       "  width: 50%;\n",
       "}\n",
       "\n",
       "#sk-container-id-1 div.sk-parallel-item:only-child::after {\n",
       "  width: 0;\n",
       "}\n",
       "\n",
       "/* Serial-specific style estimator block */\n",
       "\n",
       "#sk-container-id-1 div.sk-serial {\n",
       "  display: flex;\n",
       "  flex-direction: column;\n",
       "  align-items: center;\n",
       "  background-color: var(--sklearn-color-background);\n",
       "  padding-right: 1em;\n",
       "  padding-left: 1em;\n",
       "}\n",
       "\n",
       "\n",
       "/* Toggleable style: style used for estimator/Pipeline/ColumnTransformer box that is\n",
       "clickable and can be expanded/collapsed.\n",
       "- Pipeline and ColumnTransformer use this feature and define the default style\n",
       "- Estimators will overwrite some part of the style using the `sk-estimator` class\n",
       "*/\n",
       "\n",
       "/* Pipeline and ColumnTransformer style (default) */\n",
       "\n",
       "#sk-container-id-1 div.sk-toggleable {\n",
       "  /* Default theme specific background. It is overwritten whether we have a\n",
       "  specific estimator or a Pipeline/ColumnTransformer */\n",
       "  background-color: var(--sklearn-color-background);\n",
       "}\n",
       "\n",
       "/* Toggleable label */\n",
       "#sk-container-id-1 label.sk-toggleable__label {\n",
       "  cursor: pointer;\n",
       "  display: block;\n",
       "  width: 100%;\n",
       "  margin-bottom: 0;\n",
       "  padding: 0.5em;\n",
       "  box-sizing: border-box;\n",
       "  text-align: center;\n",
       "}\n",
       "\n",
       "#sk-container-id-1 label.sk-toggleable__label-arrow:before {\n",
       "  /* Arrow on the left of the label */\n",
       "  content: \"▸\";\n",
       "  float: left;\n",
       "  margin-right: 0.25em;\n",
       "  color: var(--sklearn-color-icon);\n",
       "}\n",
       "\n",
       "#sk-container-id-1 label.sk-toggleable__label-arrow:hover:before {\n",
       "  color: var(--sklearn-color-text);\n",
       "}\n",
       "\n",
       "/* Toggleable content - dropdown */\n",
       "\n",
       "#sk-container-id-1 div.sk-toggleable__content {\n",
       "  max-height: 0;\n",
       "  max-width: 0;\n",
       "  overflow: hidden;\n",
       "  text-align: left;\n",
       "  /* unfitted */\n",
       "  background-color: var(--sklearn-color-unfitted-level-0);\n",
       "}\n",
       "\n",
       "#sk-container-id-1 div.sk-toggleable__content.fitted {\n",
       "  /* fitted */\n",
       "  background-color: var(--sklearn-color-fitted-level-0);\n",
       "}\n",
       "\n",
       "#sk-container-id-1 div.sk-toggleable__content pre {\n",
       "  margin: 0.2em;\n",
       "  border-radius: 0.25em;\n",
       "  color: var(--sklearn-color-text);\n",
       "  /* unfitted */\n",
       "  background-color: var(--sklearn-color-unfitted-level-0);\n",
       "}\n",
       "\n",
       "#sk-container-id-1 div.sk-toggleable__content.fitted pre {\n",
       "  /* unfitted */\n",
       "  background-color: var(--sklearn-color-fitted-level-0);\n",
       "}\n",
       "\n",
       "#sk-container-id-1 input.sk-toggleable__control:checked~div.sk-toggleable__content {\n",
       "  /* Expand drop-down */\n",
       "  max-height: 200px;\n",
       "  max-width: 100%;\n",
       "  overflow: auto;\n",
       "}\n",
       "\n",
       "#sk-container-id-1 input.sk-toggleable__control:checked~label.sk-toggleable__label-arrow:before {\n",
       "  content: \"▾\";\n",
       "}\n",
       "\n",
       "/* Pipeline/ColumnTransformer-specific style */\n",
       "\n",
       "#sk-container-id-1 div.sk-label input.sk-toggleable__control:checked~label.sk-toggleable__label {\n",
       "  color: var(--sklearn-color-text);\n",
       "  background-color: var(--sklearn-color-unfitted-level-2);\n",
       "}\n",
       "\n",
       "#sk-container-id-1 div.sk-label.fitted input.sk-toggleable__control:checked~label.sk-toggleable__label {\n",
       "  background-color: var(--sklearn-color-fitted-level-2);\n",
       "}\n",
       "\n",
       "/* Estimator-specific style */\n",
       "\n",
       "/* Colorize estimator box */\n",
       "#sk-container-id-1 div.sk-estimator input.sk-toggleable__control:checked~label.sk-toggleable__label {\n",
       "  /* unfitted */\n",
       "  background-color: var(--sklearn-color-unfitted-level-2);\n",
       "}\n",
       "\n",
       "#sk-container-id-1 div.sk-estimator.fitted input.sk-toggleable__control:checked~label.sk-toggleable__label {\n",
       "  /* fitted */\n",
       "  background-color: var(--sklearn-color-fitted-level-2);\n",
       "}\n",
       "\n",
       "#sk-container-id-1 div.sk-label label.sk-toggleable__label,\n",
       "#sk-container-id-1 div.sk-label label {\n",
       "  /* The background is the default theme color */\n",
       "  color: var(--sklearn-color-text-on-default-background);\n",
       "}\n",
       "\n",
       "/* On hover, darken the color of the background */\n",
       "#sk-container-id-1 div.sk-label:hover label.sk-toggleable__label {\n",
       "  color: var(--sklearn-color-text);\n",
       "  background-color: var(--sklearn-color-unfitted-level-2);\n",
       "}\n",
       "\n",
       "/* Label box, darken color on hover, fitted */\n",
       "#sk-container-id-1 div.sk-label.fitted:hover label.sk-toggleable__label.fitted {\n",
       "  color: var(--sklearn-color-text);\n",
       "  background-color: var(--sklearn-color-fitted-level-2);\n",
       "}\n",
       "\n",
       "/* Estimator label */\n",
       "\n",
       "#sk-container-id-1 div.sk-label label {\n",
       "  font-family: monospace;\n",
       "  font-weight: bold;\n",
       "  display: inline-block;\n",
       "  line-height: 1.2em;\n",
       "}\n",
       "\n",
       "#sk-container-id-1 div.sk-label-container {\n",
       "  text-align: center;\n",
       "}\n",
       "\n",
       "/* Estimator-specific */\n",
       "#sk-container-id-1 div.sk-estimator {\n",
       "  font-family: monospace;\n",
       "  border: 1px dotted var(--sklearn-color-border-box);\n",
       "  border-radius: 0.25em;\n",
       "  box-sizing: border-box;\n",
       "  margin-bottom: 0.5em;\n",
       "  /* unfitted */\n",
       "  background-color: var(--sklearn-color-unfitted-level-0);\n",
       "}\n",
       "\n",
       "#sk-container-id-1 div.sk-estimator.fitted {\n",
       "  /* fitted */\n",
       "  background-color: var(--sklearn-color-fitted-level-0);\n",
       "}\n",
       "\n",
       "/* on hover */\n",
       "#sk-container-id-1 div.sk-estimator:hover {\n",
       "  /* unfitted */\n",
       "  background-color: var(--sklearn-color-unfitted-level-2);\n",
       "}\n",
       "\n",
       "#sk-container-id-1 div.sk-estimator.fitted:hover {\n",
       "  /* fitted */\n",
       "  background-color: var(--sklearn-color-fitted-level-2);\n",
       "}\n",
       "\n",
       "/* Specification for estimator info (e.g. \"i\" and \"?\") */\n",
       "\n",
       "/* Common style for \"i\" and \"?\" */\n",
       "\n",
       ".sk-estimator-doc-link,\n",
       "a:link.sk-estimator-doc-link,\n",
       "a:visited.sk-estimator-doc-link {\n",
       "  float: right;\n",
       "  font-size: smaller;\n",
       "  line-height: 1em;\n",
       "  font-family: monospace;\n",
       "  background-color: var(--sklearn-color-background);\n",
       "  border-radius: 1em;\n",
       "  height: 1em;\n",
       "  width: 1em;\n",
       "  text-decoration: none !important;\n",
       "  margin-left: 1ex;\n",
       "  /* unfitted */\n",
       "  border: var(--sklearn-color-unfitted-level-1) 1pt solid;\n",
       "  color: var(--sklearn-color-unfitted-level-1);\n",
       "}\n",
       "\n",
       ".sk-estimator-doc-link.fitted,\n",
       "a:link.sk-estimator-doc-link.fitted,\n",
       "a:visited.sk-estimator-doc-link.fitted {\n",
       "  /* fitted */\n",
       "  border: var(--sklearn-color-fitted-level-1) 1pt solid;\n",
       "  color: var(--sklearn-color-fitted-level-1);\n",
       "}\n",
       "\n",
       "/* On hover */\n",
       "div.sk-estimator:hover .sk-estimator-doc-link:hover,\n",
       ".sk-estimator-doc-link:hover,\n",
       "div.sk-label-container:hover .sk-estimator-doc-link:hover,\n",
       ".sk-estimator-doc-link:hover {\n",
       "  /* unfitted */\n",
       "  background-color: var(--sklearn-color-unfitted-level-3);\n",
       "  color: var(--sklearn-color-background);\n",
       "  text-decoration: none;\n",
       "}\n",
       "\n",
       "div.sk-estimator.fitted:hover .sk-estimator-doc-link.fitted:hover,\n",
       ".sk-estimator-doc-link.fitted:hover,\n",
       "div.sk-label-container:hover .sk-estimator-doc-link.fitted:hover,\n",
       ".sk-estimator-doc-link.fitted:hover {\n",
       "  /* fitted */\n",
       "  background-color: var(--sklearn-color-fitted-level-3);\n",
       "  color: var(--sklearn-color-background);\n",
       "  text-decoration: none;\n",
       "}\n",
       "\n",
       "/* Span, style for the box shown on hovering the info icon */\n",
       ".sk-estimator-doc-link span {\n",
       "  display: none;\n",
       "  z-index: 9999;\n",
       "  position: relative;\n",
       "  font-weight: normal;\n",
       "  right: .2ex;\n",
       "  padding: .5ex;\n",
       "  margin: .5ex;\n",
       "  width: min-content;\n",
       "  min-width: 20ex;\n",
       "  max-width: 50ex;\n",
       "  color: var(--sklearn-color-text);\n",
       "  box-shadow: 2pt 2pt 4pt #999;\n",
       "  /* unfitted */\n",
       "  background: var(--sklearn-color-unfitted-level-0);\n",
       "  border: .5pt solid var(--sklearn-color-unfitted-level-3);\n",
       "}\n",
       "\n",
       ".sk-estimator-doc-link.fitted span {\n",
       "  /* fitted */\n",
       "  background: var(--sklearn-color-fitted-level-0);\n",
       "  border: var(--sklearn-color-fitted-level-3);\n",
       "}\n",
       "\n",
       ".sk-estimator-doc-link:hover span {\n",
       "  display: block;\n",
       "}\n",
       "\n",
       "/* \"?\"-specific style due to the `<a>` HTML tag */\n",
       "\n",
       "#sk-container-id-1 a.estimator_doc_link {\n",
       "  float: right;\n",
       "  font-size: 1rem;\n",
       "  line-height: 1em;\n",
       "  font-family: monospace;\n",
       "  background-color: var(--sklearn-color-background);\n",
       "  border-radius: 1rem;\n",
       "  height: 1rem;\n",
       "  width: 1rem;\n",
       "  text-decoration: none;\n",
       "  /* unfitted */\n",
       "  color: var(--sklearn-color-unfitted-level-1);\n",
       "  border: var(--sklearn-color-unfitted-level-1) 1pt solid;\n",
       "}\n",
       "\n",
       "#sk-container-id-1 a.estimator_doc_link.fitted {\n",
       "  /* fitted */\n",
       "  border: var(--sklearn-color-fitted-level-1) 1pt solid;\n",
       "  color: var(--sklearn-color-fitted-level-1);\n",
       "}\n",
       "\n",
       "/* On hover */\n",
       "#sk-container-id-1 a.estimator_doc_link:hover {\n",
       "  /* unfitted */\n",
       "  background-color: var(--sklearn-color-unfitted-level-3);\n",
       "  color: var(--sklearn-color-background);\n",
       "  text-decoration: none;\n",
       "}\n",
       "\n",
       "#sk-container-id-1 a.estimator_doc_link.fitted:hover {\n",
       "  /* fitted */\n",
       "  background-color: var(--sklearn-color-fitted-level-3);\n",
       "}\n",
       "</style><div id=\"sk-container-id-1\" class=\"sk-top-container\"><div class=\"sk-text-repr-fallback\"><pre>KerasRegressor(\n",
       "\tmodel=&lt;function build_model at 0x000002CC6AFDF550&gt;\n",
       "\tbuild_fn=None\n",
       "\twarm_start=False\n",
       "\trandom_state=None\n",
       "\toptimizer=rmsprop\n",
       "\tloss=None\n",
       "\tmetrics=None\n",
       "\tbatch_size=None\n",
       "\tvalidation_batch_size=None\n",
       "\tverbose=0\n",
       "\tcallbacks=[&lt;keras.src.callbacks.EarlyStopping object at 0x000002CC76BBCBB0&gt;]\n",
       "\tvalidation_split=0.0\n",
       "\tshuffle=True\n",
       "\trun_eagerly=False\n",
       "\tepochs=1\n",
       "\tn_hidden=2\n",
       "\tn_neurons=42\n",
       "\tlearning_rate=0.003362564125268811\n",
       "\tinput_shape=None\n",
       ")</pre><b>In a Jupyter environment, please rerun this cell to show the HTML representation or trust the notebook. <br />On GitHub, the HTML representation is unable to render, please try loading this page with nbviewer.org.</b></div><div class=\"sk-container\" hidden><div class=\"sk-item\"><div class=\"sk-estimator fitted sk-toggleable\"><input class=\"sk-toggleable__control sk-hidden--visually\" id=\"sk-estimator-id-1\" type=\"checkbox\" checked><label for=\"sk-estimator-id-1\" class=\"sk-toggleable__label fitted sk-toggleable__label-arrow fitted\">&nbsp;KerasRegressor<span class=\"sk-estimator-doc-link fitted\">i<span>Fitted</span></span></label><div class=\"sk-toggleable__content fitted\"><pre>KerasRegressor(\n",
       "\tmodel=&lt;function build_model at 0x000002CC6AFDF550&gt;\n",
       "\tbuild_fn=None\n",
       "\twarm_start=False\n",
       "\trandom_state=None\n",
       "\toptimizer=rmsprop\n",
       "\tloss=None\n",
       "\tmetrics=None\n",
       "\tbatch_size=None\n",
       "\tvalidation_batch_size=None\n",
       "\tverbose=0\n",
       "\tcallbacks=[&lt;keras.src.callbacks.EarlyStopping object at 0x000002CC76BBCBB0&gt;]\n",
       "\tvalidation_split=0.0\n",
       "\tshuffle=True\n",
       "\trun_eagerly=False\n",
       "\tepochs=1\n",
       "\tn_hidden=2\n",
       "\tn_neurons=42\n",
       "\tlearning_rate=0.003362564125268811\n",
       "\tinput_shape=None\n",
       ")</pre></div> </div></div></div></div>"
      ],
      "text/plain": [
       "KerasRegressor(\n",
       "\tmodel=<function build_model at 0x000002CC6AFDF550>\n",
       "\tbuild_fn=None\n",
       "\twarm_start=False\n",
       "\trandom_state=None\n",
       "\toptimizer=rmsprop\n",
       "\tloss=None\n",
       "\tmetrics=None\n",
       "\tbatch_size=None\n",
       "\tvalidation_batch_size=None\n",
       "\tverbose=0\n",
       "\tcallbacks=[<keras.src.callbacks.EarlyStopping object at 0x000002CC76BBCBB0>]\n",
       "\tvalidation_split=0.0\n",
       "\tshuffle=True\n",
       "\trun_eagerly=False\n",
       "\tepochs=1\n",
       "\tn_hidden=2\n",
       "\tn_neurons=42\n",
       "\tlearning_rate=0.003362564125268811\n",
       "\tinput_shape=None\n",
       ")"
      ]
     },
     "execution_count": 81,
     "metadata": {},
     "output_type": "execute_result"
    }
   ],
   "source": [
    "rnd_search_cv.best_estimator_"
   ]
  },
  {
   "cell_type": "code",
   "execution_count": 82,
   "id": "1f322b612b5dd8b4",
   "metadata": {
    "collapsed": false,
    "jupyter": {
     "outputs_hidden": false
    }
   },
   "outputs": [
    {
     "data": {
      "text/plain": [
       "0.7597586636871632"
      ]
     },
     "execution_count": 82,
     "metadata": {},
     "output_type": "execute_result"
    }
   ],
   "source": [
    "rnd_search_cv.score(X_test, y_test) # R^2 value"
   ]
  },
  {
   "cell_type": "code",
   "execution_count": 83,
   "id": "b7c5670d637242c9",
   "metadata": {
    "collapsed": false,
    "jupyter": {
     "outputs_hidden": false
    }
   },
   "outputs": [
    {
     "data": {
      "text/plain": [
       "array([0.43724263, 1.4421893 , 4.666888  ], dtype=float32)"
      ]
     },
     "execution_count": 83,
     "metadata": {},
     "output_type": "execute_result"
    }
   ],
   "source": [
    "rnd_search_cv.predict(X_new)"
   ]
  }
 ],
 "metadata": {
  "kernelspec": {
   "display_name": "Python 3 (ipykernel)",
   "language": "python",
   "name": "python3"
  },
  "language_info": {
   "codemirror_mode": {
    "name": "ipython",
    "version": 3
   },
   "file_extension": ".py",
   "mimetype": "text/x-python",
   "name": "python",
   "nbconvert_exporter": "python",
   "pygments_lexer": "ipython3",
   "version": "3.9.13"
  }
 },
 "nbformat": 4,
 "nbformat_minor": 5
}
