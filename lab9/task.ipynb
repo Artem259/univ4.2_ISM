{
 "cells": [
  {
   "cell_type": "code",
   "execution_count": 1,
   "id": "initial_id",
   "metadata": {
    "ExecuteTime": {
     "end_time": "2024-03-08T01:53:57.854492800Z",
     "start_time": "2024-03-08T01:53:54.962274500Z"
    }
   },
   "outputs": [
    {
     "name": "stdout",
     "output_type": "stream",
     "text": [
      "WARNING:tensorflow:From C:\\GAMES and PROGRAMS\\my programs\\univ4.2\\univ4.2_ISM\\venv\\lib\\site-packages\\keras\\src\\losses.py:2976: The name tf.losses.sparse_softmax_cross_entropy is deprecated. Please use tf.compat.v1.losses.sparse_softmax_cross_entropy instead.\n"
     ]
    }
   ],
   "source": [
    "import numpy as np\n",
    "import pandas as pd\n",
    "import tensorflow as tf"
   ]
  },
  {
   "cell_type": "markdown",
   "id": "6a4e3aef121d31b9",
   "metadata": {
    "collapsed": false
   },
   "source": [
    "## From Biological to Artificial Neurons"
   ]
  },
  {
   "cell_type": "markdown",
   "id": "1e69cf5a3aa9621d",
   "metadata": {
    "collapsed": false
   },
   "source": [
    "#### The Perceptron"
   ]
  },
  {
   "cell_type": "code",
   "execution_count": 2,
   "id": "f70bc748c72744c5",
   "metadata": {
    "collapsed": false,
    "ExecuteTime": {
     "end_time": "2024-03-08T01:53:58.138169100Z",
     "start_time": "2024-03-08T01:53:57.855499Z"
    }
   },
   "outputs": [
    {
     "data": {
      "text/plain": "array([5.1, 3.5, 1.4, 0.2])"
     },
     "execution_count": 2,
     "metadata": {},
     "output_type": "execute_result"
    }
   ],
   "source": [
    "from sklearn.datasets import load_iris\n",
    "from sklearn.linear_model import Perceptron\n",
    "\n",
    "iris = load_iris()\n",
    "iris.data[0]"
   ]
  },
  {
   "cell_type": "code",
   "execution_count": 3,
   "id": "547b564dd9349fdf",
   "metadata": {
    "collapsed": false,
    "ExecuteTime": {
     "end_time": "2024-03-08T01:53:58.174450300Z",
     "start_time": "2024-03-08T01:53:58.138169100Z"
    }
   },
   "outputs": [
    {
     "data": {
      "text/plain": "array([1])"
     },
     "execution_count": 3,
     "metadata": {},
     "output_type": "execute_result"
    }
   ],
   "source": [
    "X = iris.data[:, (2, 3)] # petal length, petal width\n",
    "y = (iris.target == 0).astype(np.int32) # Iris setosa?\n",
    "\n",
    "per_clf = Perceptron(random_state=42)\n",
    "per_clf.fit(X, y)\n",
    "\n",
    "y_pred = per_clf.predict([[2, 0.5]])\n",
    "y_pred"
   ]
  },
  {
   "cell_type": "markdown",
   "id": "5b12212405a80e87",
   "metadata": {
    "collapsed": false
   },
   "source": [
    "## Implementing MLPs with Keras"
   ]
  },
  {
   "cell_type": "markdown",
   "id": "6ccba6578ad447b2",
   "metadata": {
    "collapsed": false
   },
   "source": [
    "#### Building an Image Classifier Using the Sequential API"
   ]
  },
  {
   "cell_type": "markdown",
   "id": "dd40b35c0605de0b",
   "metadata": {
    "collapsed": false
   },
   "source": [
    "##### Using Keras to load the dataset"
   ]
  },
  {
   "cell_type": "code",
   "execution_count": 4,
   "id": "b6c9708af20c086d",
   "metadata": {
    "collapsed": false,
    "ExecuteTime": {
     "end_time": "2024-03-08T01:53:58.387457500Z",
     "start_time": "2024-03-08T01:53:58.154214100Z"
    }
   },
   "outputs": [],
   "source": [
    "from tensorflow import keras\n",
    "\n",
    "fashion_mnist = keras.datasets.fashion_mnist\n",
    "(X_train_full, y_train_full), (X_test, y_test) = fashion_mnist.load_data()"
   ]
  },
  {
   "cell_type": "code",
   "execution_count": 5,
   "id": "df55d896bdb8205d",
   "metadata": {
    "collapsed": false,
    "ExecuteTime": {
     "end_time": "2024-03-08T01:53:58.404268400Z",
     "start_time": "2024-03-08T01:53:58.388837700Z"
    }
   },
   "outputs": [
    {
     "data": {
      "text/plain": "(60000, 28, 28)"
     },
     "execution_count": 5,
     "metadata": {},
     "output_type": "execute_result"
    }
   ],
   "source": [
    "X_train_full.shape"
   ]
  },
  {
   "cell_type": "code",
   "execution_count": 6,
   "id": "999461d96364b08d",
   "metadata": {
    "collapsed": false,
    "ExecuteTime": {
     "end_time": "2024-03-08T01:53:58.439007Z",
     "start_time": "2024-03-08T01:53:58.405286Z"
    }
   },
   "outputs": [
    {
     "data": {
      "text/plain": "dtype('uint8')"
     },
     "execution_count": 6,
     "metadata": {},
     "output_type": "execute_result"
    }
   ],
   "source": [
    "X_train_full.dtype"
   ]
  },
  {
   "cell_type": "code",
   "execution_count": 7,
   "id": "61f11c8fc85d7da9",
   "metadata": {
    "collapsed": false,
    "ExecuteTime": {
     "end_time": "2024-03-08T01:53:58.537276900Z",
     "start_time": "2024-03-08T01:53:58.420112800Z"
    }
   },
   "outputs": [],
   "source": [
    "X_valid, X_train = X_train_full[:5000] / 255., X_train_full[5000:] / 255.\n",
    "y_valid, y_train = y_train_full[:5000], y_train_full[5000:]\n",
    "X_test = X_test / 255."
   ]
  },
  {
   "cell_type": "code",
   "execution_count": 8,
   "id": "7b95607ddb3e37e9",
   "metadata": {
    "collapsed": false,
    "ExecuteTime": {
     "end_time": "2024-03-08T01:53:58.557712100Z",
     "start_time": "2024-03-08T01:53:58.530537600Z"
    }
   },
   "outputs": [
    {
     "data": {
      "text/plain": "array([4, 0, 7, ..., 3, 0, 5], dtype=uint8)"
     },
     "execution_count": 8,
     "metadata": {},
     "output_type": "execute_result"
    }
   ],
   "source": [
    "y_train"
   ]
  },
  {
   "cell_type": "code",
   "execution_count": 9,
   "id": "b5913c3abb78afd3",
   "metadata": {
    "collapsed": false,
    "ExecuteTime": {
     "end_time": "2024-03-08T01:53:58.585456100Z",
     "start_time": "2024-03-08T01:53:58.544634600Z"
    }
   },
   "outputs": [],
   "source": [
    "class_names = [\"T-shirt/top\", \"Trouser\", \"Pullover\", \"Dress\", \"Coat\", \"Sandal\", \"Shirt\", \"Sneaker\", \"Bag\", \"Ankle boot\"]"
   ]
  },
  {
   "cell_type": "code",
   "execution_count": 10,
   "id": "ae497b507ddf434e",
   "metadata": {
    "collapsed": false,
    "ExecuteTime": {
     "end_time": "2024-03-08T01:53:58.942150500Z",
     "start_time": "2024-03-08T01:53:58.559769300Z"
    }
   },
   "outputs": [
    {
     "data": {
      "text/plain": "<Figure size 640x480 with 1 Axes>",
      "image/png": "[encoded data removed]"
     },
     "metadata": {},
     "output_type": "display_data"
    },
    {
     "data": {
      "text/plain": "'Coat'"
     },
     "execution_count": 10,
     "metadata": {},
     "output_type": "execute_result"
    }
   ],
   "source": [
    "from matplotlib import pyplot as plt\n",
    "\n",
    "plt.imshow(X_train[0], cmap=\"binary\")\n",
    "plt.axis('off')\n",
    "plt.show()\n",
    "class_names[y_train[0]]"
   ]
  },
  {
   "cell_type": "markdown",
   "id": "34fae3b6f7ac9783",
   "metadata": {
    "collapsed": false
   },
   "source": [
    "##### Creating the model using the Sequential API"
   ]
  },
  {
   "cell_type": "code",
   "execution_count": 11,
   "id": "7ce14cb1cbb2e9c6",
   "metadata": {
    "collapsed": false,
    "ExecuteTime": {
     "end_time": "2024-03-08T01:53:59.099619900Z",
     "start_time": "2024-03-08T01:53:58.935085400Z"
    }
   },
   "outputs": [
    {
     "name": "stdout",
     "output_type": "stream",
     "text": [
      "WARNING:tensorflow:From C:\\GAMES and PROGRAMS\\my programs\\univ4.2\\univ4.2_ISM\\venv\\lib\\site-packages\\keras\\src\\backend.py:277: The name tf.reset_default_graph is deprecated. Please use tf.compat.v1.reset_default_graph instead.\n"
     ]
    }
   ],
   "source": [
    "keras.backend.clear_session()\n",
    "np.random.seed(42)\n",
    "tf.random.set_seed(42)"
   ]
  },
  {
   "cell_type": "code",
   "execution_count": 12,
   "id": "68483c36eaeb7fc9",
   "metadata": {
    "collapsed": false,
    "ExecuteTime": {
     "end_time": "2024-03-08T01:53:59.188319500Z",
     "start_time": "2024-03-08T01:53:59.093617500Z"
    }
   },
   "outputs": [],
   "source": [
    "model = keras.models.Sequential()\n",
    "model.add(keras.layers.Flatten(input_shape=[28, 28]))\n",
    "model.add(keras.layers.Dense(300, activation=\"relu\"))\n",
    "model.add(keras.layers.Dense(100, activation=\"relu\"))\n",
    "model.add(keras.layers.Dense(10, activation=\"softmax\"))"
   ]
  },
  {
   "cell_type": "code",
   "execution_count": 13,
   "id": "830c6389024246ce",
   "metadata": {
    "collapsed": false,
    "ExecuteTime": {
     "end_time": "2024-03-08T01:53:59.237465800Z",
     "start_time": "2024-03-08T01:53:59.186318400Z"
    }
   },
   "outputs": [
    {
     "name": "stdout",
     "output_type": "stream",
     "text": [
      "Model: \"sequential\"\n",
      "_________________________________________________________________\n",
      " Layer (type)                Output Shape              Param #   \n",
      "=================================================================\n",
      " flatten (Flatten)           (None, 784)               0         \n",
      "                                                                 \n",
      " dense (Dense)               (None, 300)               235500    \n",
      "                                                                 \n",
      " dense_1 (Dense)             (None, 100)               30100     \n",
      "                                                                 \n",
      " dense_2 (Dense)             (None, 10)                1010      \n",
      "                                                                 \n",
      "=================================================================\n",
      "Total params: 266610 (1.02 MB)\n",
      "Trainable params: 266610 (1.02 MB)\n",
      "Non-trainable params: 0 (0.00 Byte)\n",
      "_________________________________________________________________\n"
     ]
    }
   ],
   "source": [
    "model.summary()"
   ]
  },
  {
   "cell_type": "code",
   "execution_count": 14,
   "id": "7b99b6a34f2696ad",
   "metadata": {
    "collapsed": false,
    "ExecuteTime": {
     "end_time": "2024-03-08T01:53:59.260631100Z",
     "start_time": "2024-03-08T01:53:59.203786200Z"
    }
   },
   "outputs": [
    {
     "data": {
      "text/plain": "[<keras.src.layers.reshaping.flatten.Flatten at 0x2019f417700>,\n <keras.src.layers.core.dense.Dense at 0x2019f417340>,\n <keras.src.layers.core.dense.Dense at 0x2019f417d60>,\n <keras.src.layers.core.dense.Dense at 0x2019f3fe0a0>]"
     },
     "execution_count": 14,
     "metadata": {},
     "output_type": "execute_result"
    }
   ],
   "source": [
    "model.layers"
   ]
  },
  {
   "cell_type": "code",
   "execution_count": 15,
   "id": "5de6abb04a324b4a",
   "metadata": {
    "collapsed": false,
    "ExecuteTime": {
     "end_time": "2024-03-08T01:53:59.286476500Z",
     "start_time": "2024-03-08T01:53:59.217454700Z"
    }
   },
   "outputs": [
    {
     "data": {
      "text/plain": "'dense'"
     },
     "execution_count": 15,
     "metadata": {},
     "output_type": "execute_result"
    }
   ],
   "source": [
    "hidden1 = model.layers[1]\n",
    "hidden1.name"
   ]
  },
  {
   "cell_type": "code",
   "execution_count": 16,
   "id": "c4f320c97879523c",
   "metadata": {
    "collapsed": false,
    "ExecuteTime": {
     "end_time": "2024-03-08T01:53:59.338511800Z",
     "start_time": "2024-03-08T01:53:59.233049400Z"
    }
   },
   "outputs": [
    {
     "data": {
      "text/plain": "True"
     },
     "execution_count": 16,
     "metadata": {},
     "output_type": "execute_result"
    }
   ],
   "source": [
    "model.get_layer(\"dense\") is hidden1"
   ]
  },
  {
   "cell_type": "code",
   "execution_count": 17,
   "id": "543c76548241c0f2",
   "metadata": {
    "collapsed": false,
    "ExecuteTime": {
     "end_time": "2024-03-08T01:53:59.341504Z",
     "start_time": "2024-03-08T01:53:59.248199900Z"
    }
   },
   "outputs": [],
   "source": [
    "weights, biases = hidden1.get_weights()"
   ]
  },
  {
   "cell_type": "code",
   "execution_count": 18,
   "id": "ef689b2d7b0425e9",
   "metadata": {
    "collapsed": false,
    "ExecuteTime": {
     "end_time": "2024-03-08T01:53:59.401203300Z",
     "start_time": "2024-03-08T01:53:59.263862200Z"
    }
   },
   "outputs": [
    {
     "data": {
      "text/plain": "(784, 300)"
     },
     "execution_count": 18,
     "metadata": {},
     "output_type": "execute_result"
    }
   ],
   "source": [
    "weights.shape"
   ]
  },
  {
   "cell_type": "code",
   "execution_count": 19,
   "id": "dcd06ebb810b82d0",
   "metadata": {
    "collapsed": false,
    "ExecuteTime": {
     "end_time": "2024-03-08T01:53:59.405203Z",
     "start_time": "2024-03-08T01:53:59.279477Z"
    }
   },
   "outputs": [
    {
     "data": {
      "text/plain": "(300,)"
     },
     "execution_count": 19,
     "metadata": {},
     "output_type": "execute_result"
    }
   ],
   "source": [
    "biases.shape"
   ]
  },
  {
   "cell_type": "markdown",
   "id": "9b8bbb0db518e6f5",
   "metadata": {
    "collapsed": false
   },
   "source": [
    "##### Compiling the model"
   ]
  },
  {
   "cell_type": "code",
   "execution_count": 20,
   "id": "e40494a280b198fb",
   "metadata": {
    "collapsed": false,
    "ExecuteTime": {
     "end_time": "2024-03-08T01:53:59.423591900Z",
     "start_time": "2024-03-08T01:53:59.296152200Z"
    }
   },
   "outputs": [],
   "source": [
    "model.compile(loss=keras.losses.sparse_categorical_crossentropy,\n",
    "              optimizer=keras.optimizers.SGD(learning_rate=0.01),\n",
    "              metrics=[\"accuracy\"])"
   ]
  },
  {
   "cell_type": "markdown",
   "id": "bb90b746afecfa8c",
   "metadata": {
    "collapsed": false
   },
   "source": [
    "##### Training and evaluating the model"
   ]
  },
  {
   "cell_type": "code",
   "execution_count": 21,
   "id": "ab1638e29f44e5d7",
   "metadata": {
    "collapsed": false,
    "ExecuteTime": {
     "end_time": "2024-03-08T01:54:55.658904400Z",
     "start_time": "2024-03-08T01:53:59.312162300Z"
    }
   },
   "outputs": [
    {
     "name": "stdout",
     "output_type": "stream",
     "text": [
      "Epoch 1/30\n",
      "WARNING:tensorflow:From C:\\GAMES and PROGRAMS\\my programs\\univ4.2\\univ4.2_ISM\\venv\\lib\\site-packages\\keras\\src\\utils\\tf_utils.py:492: The name tf.ragged.RaggedTensorValue is deprecated. Please use tf.compat.v1.ragged.RaggedTensorValue instead.\n",
      "WARNING:tensorflow:From C:\\GAMES and PROGRAMS\\my programs\\univ4.2\\univ4.2_ISM\\venv\\lib\\site-packages\\keras\\src\\engine\\base_layer_utils.py:384: The name tf.executing_eagerly_outside_functions is deprecated. Please use tf.compat.v1.executing_eagerly_outside_functions instead.\n",
      "1719/1719 [==============================] - 2s 1ms/step - loss: 0.7221 - accuracy: 0.7611 - val_loss: 0.5272 - val_accuracy: 0.8248\n",
      "Epoch 2/30\n",
      "1719/1719 [==============================] - 2s 1ms/step - loss: 0.4906 - accuracy: 0.8284 - val_loss: 0.4383 - val_accuracy: 0.8518\n",
      "Epoch 3/30\n",
      "1719/1719 [==============================] - 2s 1ms/step - loss: 0.4441 - accuracy: 0.8443 - val_loss: 0.5622 - val_accuracy: 0.8000\n",
      "Epoch 4/30\n",
      "1719/1719 [==============================] - 2s 1ms/step - loss: 0.4172 - accuracy: 0.8543 - val_loss: 0.3941 - val_accuracy: 0.8650\n",
      "Epoch 5/30\n",
      "1719/1719 [==============================] - 2s 1ms/step - loss: 0.3981 - accuracy: 0.8599 - val_loss: 0.3778 - val_accuracy: 0.8668\n",
      "Epoch 6/30\n",
      "1719/1719 [==============================] - 2s 1ms/step - loss: 0.3794 - accuracy: 0.8661 - val_loss: 0.3711 - val_accuracy: 0.8740\n",
      "Epoch 7/30\n",
      "1719/1719 [==============================] - 2s 1ms/step - loss: 0.3667 - accuracy: 0.8709 - val_loss: 0.3659 - val_accuracy: 0.8744\n",
      "Epoch 8/30\n",
      "1719/1719 [==============================] - 2s 1ms/step - loss: 0.3552 - accuracy: 0.8742 - val_loss: 0.3931 - val_accuracy: 0.8592\n",
      "Epoch 9/30\n",
      "1719/1719 [==============================] - 2s 1ms/step - loss: 0.3444 - accuracy: 0.8777 - val_loss: 0.3511 - val_accuracy: 0.8766\n",
      "Epoch 10/30\n",
      "1719/1719 [==============================] - 2s 1ms/step - loss: 0.3353 - accuracy: 0.8799 - val_loss: 0.3555 - val_accuracy: 0.8706\n",
      "Epoch 11/30\n",
      "1719/1719 [==============================] - 2s 1ms/step - loss: 0.3269 - accuracy: 0.8822 - val_loss: 0.3439 - val_accuracy: 0.8786\n",
      "Epoch 12/30\n",
      "1719/1719 [==============================] - 2s 1ms/step - loss: 0.3175 - accuracy: 0.8861 - val_loss: 0.3339 - val_accuracy: 0.8802\n",
      "Epoch 13/30\n",
      "1719/1719 [==============================] - 2s 1ms/step - loss: 0.3103 - accuracy: 0.8888 - val_loss: 0.3313 - val_accuracy: 0.8864\n",
      "Epoch 14/30\n",
      "1719/1719 [==============================] - 2s 1ms/step - loss: 0.3042 - accuracy: 0.8887 - val_loss: 0.3518 - val_accuracy: 0.8716\n",
      "Epoch 15/30\n",
      "1719/1719 [==============================] - 2s 1ms/step - loss: 0.2962 - accuracy: 0.8931 - val_loss: 0.3326 - val_accuracy: 0.8804\n",
      "Epoch 16/30\n",
      "1719/1719 [==============================] - 2s 1ms/step - loss: 0.2908 - accuracy: 0.8942 - val_loss: 0.3136 - val_accuracy: 0.8886\n",
      "Epoch 17/30\n",
      "1719/1719 [==============================] - 2s 1ms/step - loss: 0.2852 - accuracy: 0.8969 - val_loss: 0.3490 - val_accuracy: 0.8734\n",
      "Epoch 18/30\n",
      "1719/1719 [==============================] - 2s 1ms/step - loss: 0.2791 - accuracy: 0.8978 - val_loss: 0.3132 - val_accuracy: 0.8894\n",
      "Epoch 19/30\n",
      "1719/1719 [==============================] - 2s 1ms/step - loss: 0.2738 - accuracy: 0.9002 - val_loss: 0.3154 - val_accuracy: 0.8876\n",
      "Epoch 20/30\n",
      "1719/1719 [==============================] - 2s 1ms/step - loss: 0.2683 - accuracy: 0.9028 - val_loss: 0.3390 - val_accuracy: 0.8788\n",
      "Epoch 21/30\n",
      "1719/1719 [==============================] - 2s 1ms/step - loss: 0.2630 - accuracy: 0.9048 - val_loss: 0.3083 - val_accuracy: 0.8882\n",
      "Epoch 22/30\n",
      "1719/1719 [==============================] - 2s 1ms/step - loss: 0.2586 - accuracy: 0.9061 - val_loss: 0.2983 - val_accuracy: 0.8920\n",
      "Epoch 23/30\n",
      "1719/1719 [==============================] - 2s 1ms/step - loss: 0.2538 - accuracy: 0.9076 - val_loss: 0.3016 - val_accuracy: 0.8918\n",
      "Epoch 24/30\n",
      "1719/1719 [==============================] - 2s 1ms/step - loss: 0.2496 - accuracy: 0.9094 - val_loss: 0.3048 - val_accuracy: 0.8882\n",
      "Epoch 25/30\n",
      "1719/1719 [==============================] - 2s 1ms/step - loss: 0.2454 - accuracy: 0.9109 - val_loss: 0.3009 - val_accuracy: 0.8908\n",
      "Epoch 26/30\n",
      "1719/1719 [==============================] - 2s 1ms/step - loss: 0.2406 - accuracy: 0.9134 - val_loss: 0.3062 - val_accuracy: 0.8874\n",
      "Epoch 27/30\n",
      "1719/1719 [==============================] - 2s 1ms/step - loss: 0.2372 - accuracy: 0.9141 - val_loss: 0.2988 - val_accuracy: 0.8926\n",
      "Epoch 28/30\n",
      "1719/1719 [==============================] - 2s 1ms/step - loss: 0.2333 - accuracy: 0.9152 - val_loss: 0.2995 - val_accuracy: 0.8904\n",
      "Epoch 29/30\n",
      "1719/1719 [==============================] - 2s 1ms/step - loss: 0.2288 - accuracy: 0.9174 - val_loss: 0.3126 - val_accuracy: 0.8862\n",
      "Epoch 30/30\n",
      "1719/1719 [==============================] - 2s 1ms/step - loss: 0.2256 - accuracy: 0.9189 - val_loss: 0.3132 - val_accuracy: 0.8874\n"
     ]
    }
   ],
   "source": [
    "history = model.fit(X_train, y_train, epochs=30, validation_data=(X_valid, y_valid))"
   ]
  },
  {
   "cell_type": "code",
   "execution_count": 22,
   "id": "fabffeea10649f46",
   "metadata": {
    "collapsed": false,
    "ExecuteTime": {
     "end_time": "2024-03-08T01:54:55.691030Z",
     "start_time": "2024-03-08T01:54:55.658904400Z"
    }
   },
   "outputs": [
    {
     "data": {
      "text/plain": "{'verbose': 1, 'epochs': 30, 'steps': 1719}"
     },
     "execution_count": 22,
     "metadata": {},
     "output_type": "execute_result"
    }
   ],
   "source": [
    "history.params"
   ]
  },
  {
   "cell_type": "code",
   "execution_count": 23,
   "id": "51a23506d5108e1",
   "metadata": {
    "collapsed": false,
    "ExecuteTime": {
     "end_time": "2024-03-08T01:54:55.692383800Z",
     "start_time": "2024-03-08T01:54:55.674290Z"
    }
   },
   "outputs": [
    {
     "data": {
      "text/plain": "30"
     },
     "execution_count": 23,
     "metadata": {},
     "output_type": "execute_result"
    }
   ],
   "source": [
    "len(history.epoch)"
   ]
  },
  {
   "cell_type": "code",
   "execution_count": 24,
   "id": "74866b1b66c2d3a8",
   "metadata": {
    "collapsed": false,
    "ExecuteTime": {
     "end_time": "2024-03-08T01:54:55.729424800Z",
     "start_time": "2024-03-08T01:54:55.690033300Z"
    }
   },
   "outputs": [
    {
     "data": {
      "text/plain": "dict_keys(['loss', 'accuracy', 'val_loss', 'val_accuracy'])"
     },
     "execution_count": 24,
     "metadata": {},
     "output_type": "execute_result"
    }
   ],
   "source": [
    "history.history.keys()"
   ]
  },
  {
   "cell_type": "code",
   "execution_count": 25,
   "id": "bc8f465e0085ce6e",
   "metadata": {
    "collapsed": false,
    "ExecuteTime": {
     "end_time": "2024-03-08T01:54:55.815079600Z",
     "start_time": "2024-03-08T01:54:55.706422100Z"
    }
   },
   "outputs": [
    {
     "data": {
      "text/plain": "<Figure size 800x500 with 1 Axes>",
      "image/png": "[encoded data removed]"
     },
     "metadata": {},
     "output_type": "display_data"
    }
   ],
   "source": [
    "pd.DataFrame(history.history).plot(figsize=(8, 5))\n",
    "plt.grid(True)\n",
    "plt.gca().set_ylim(0, 1) # set the vertical range to [0-1]\n",
    "plt.show()"
   ]
  },
  {
   "cell_type": "code",
   "execution_count": 26,
   "id": "c2ecaf9ba80ba35",
   "metadata": {
    "collapsed": false,
    "ExecuteTime": {
     "end_time": "2024-03-08T01:54:56.177965300Z",
     "start_time": "2024-03-08T01:54:55.816467700Z"
    }
   },
   "outputs": [
    {
     "name": "stdout",
     "output_type": "stream",
     "text": [
      "313/313 [==============================] - 0s 926us/step - loss: 0.3452 - accuracy: 0.8793\n"
     ]
    },
    {
     "data": {
      "text/plain": "[0.34521061182022095, 0.8792999982833862]"
     },
     "execution_count": 26,
     "metadata": {},
     "output_type": "execute_result"
    }
   ],
   "source": [
    "model.evaluate(X_test, y_test)"
   ]
  },
  {
   "cell_type": "markdown",
   "id": "db2c144831b71a26",
   "metadata": {
    "collapsed": false
   },
   "source": [
    "##### Using the model to make predictions"
   ]
  },
  {
   "cell_type": "code",
   "execution_count": 27,
   "id": "ba3d8414ecf4d3a9",
   "metadata": {
    "collapsed": false,
    "ExecuteTime": {
     "end_time": "2024-03-08T01:54:56.260732800Z",
     "start_time": "2024-03-08T01:54:56.178970800Z"
    }
   },
   "outputs": [
    {
     "data": {
      "text/plain": "array([[0.  , 0.  , 0.  , 0.  , 0.  , 0.01, 0.  , 0.02, 0.  , 0.97],\n       [0.  , 0.  , 0.99, 0.  , 0.01, 0.  , 0.  , 0.  , 0.  , 0.  ],\n       [0.  , 1.  , 0.  , 0.  , 0.  , 0.  , 0.  , 0.  , 0.  , 0.  ]],\n      dtype=float32)"
     },
     "execution_count": 27,
     "metadata": {},
     "output_type": "execute_result"
    }
   ],
   "source": [
    "X_new = X_test[:3]\n",
    "y_proba = model.predict(X_new, verbose=0)\n",
    "y_proba.round(2)"
   ]
  },
  {
   "cell_type": "code",
   "execution_count": 28,
   "id": "4abbb7aef9aece9a",
   "metadata": {
    "collapsed": false,
    "ExecuteTime": {
     "end_time": "2024-03-08T01:54:56.306352700Z",
     "start_time": "2024-03-08T01:54:56.256710600Z"
    }
   },
   "outputs": [
    {
     "data": {
      "text/plain": "array([9, 2, 1], dtype=int64)"
     },
     "execution_count": 28,
     "metadata": {},
     "output_type": "execute_result"
    }
   ],
   "source": [
    "y_pred = np.argmax(model.predict(X_new, verbose=0), axis=-1)\n",
    "y_pred"
   ]
  },
  {
   "cell_type": "code",
   "execution_count": 29,
   "id": "2ef2b995d2ddb902",
   "metadata": {
    "collapsed": false,
    "ExecuteTime": {
     "end_time": "2024-03-08T01:54:56.317347200Z",
     "start_time": "2024-03-08T01:54:56.303345400Z"
    }
   },
   "outputs": [
    {
     "data": {
      "text/plain": "array(['Ankle boot', 'Pullover', 'Trouser'], dtype='<U11')"
     },
     "execution_count": 29,
     "metadata": {},
     "output_type": "execute_result"
    }
   ],
   "source": [
    "np.array(class_names)[y_pred]"
   ]
  },
  {
   "cell_type": "code",
   "execution_count": 30,
   "id": "4051869ba49eb95",
   "metadata": {
    "collapsed": false,
    "ExecuteTime": {
     "end_time": "2024-03-08T01:54:56.353319700Z",
     "start_time": "2024-03-08T01:54:56.318741900Z"
    }
   },
   "outputs": [
    {
     "data": {
      "text/plain": "array([9, 2, 1], dtype=uint8)"
     },
     "execution_count": 30,
     "metadata": {},
     "output_type": "execute_result"
    }
   ],
   "source": [
    "y_new = y_test[:3]\n",
    "y_new"
   ]
  },
  {
   "cell_type": "markdown",
   "id": "589dcd4fb1aa62b4",
   "metadata": {
    "collapsed": false
   },
   "source": [
    "#### Building a Regression MLP Using the Sequential API"
   ]
  },
  {
   "cell_type": "code",
   "execution_count": 31,
   "id": "f155ec360cb4f242",
   "metadata": {
    "collapsed": false,
    "ExecuteTime": {
     "end_time": "2024-03-08T01:54:56.381589200Z",
     "start_time": "2024-03-08T01:54:56.335527900Z"
    }
   },
   "outputs": [],
   "source": [
    "from sklearn.datasets import fetch_california_housing\n",
    "from sklearn.model_selection import train_test_split\n",
    "from sklearn.preprocessing import StandardScaler\n",
    "\n",
    "housing = fetch_california_housing()\n",
    "\n",
    "X_train_full, X_test, y_train_full, y_test = train_test_split(housing.data, housing.target, random_state=42)\n",
    "X_train, X_valid, y_train, y_valid = train_test_split(X_train_full, y_train_full, random_state=42)\n",
    "\n",
    "scaler = StandardScaler()\n",
    "X_train = scaler.fit_transform(X_train)\n",
    "X_valid = scaler.transform(X_valid)\n",
    "X_test = scaler.transform(X_test)"
   ]
  },
  {
   "cell_type": "code",
   "execution_count": 32,
   "id": "937d67c76dd5a93f",
   "metadata": {
    "collapsed": false,
    "ExecuteTime": {
     "end_time": "2024-03-08T01:55:02.185693900Z",
     "start_time": "2024-03-08T01:54:56.385848100Z"
    }
   },
   "outputs": [
    {
     "name": "stdout",
     "output_type": "stream",
     "text": [
      "Epoch 1/20\n",
      "363/363 [==============================] - 1s 955us/step - loss: 1.9021 - val_loss: 1.0775\n",
      "Epoch 2/20\n",
      "363/363 [==============================] - 0s 720us/step - loss: 0.9220 - val_loss: 0.8047\n",
      "Epoch 3/20\n",
      "363/363 [==============================] - 0s 766us/step - loss: 0.7964 - val_loss: 0.7564\n",
      "Epoch 4/20\n",
      "363/363 [==============================] - 0s 729us/step - loss: 0.7390 - val_loss: 0.6863\n",
      "Epoch 5/20\n",
      "363/363 [==============================] - 0s 755us/step - loss: 0.6983 - val_loss: 0.6522\n",
      "Epoch 6/20\n",
      "363/363 [==============================] - 0s 739us/step - loss: 0.6657 - val_loss: 0.6553\n",
      "Epoch 7/20\n",
      "363/363 [==============================] - 0s 735us/step - loss: 0.6392 - val_loss: 0.6605\n",
      "Epoch 8/20\n",
      "363/363 [==============================] - 0s 720us/step - loss: 0.6175 - val_loss: 0.5801\n",
      "Epoch 9/20\n",
      "363/363 [==============================] - 0s 923us/step - loss: 0.5956 - val_loss: 0.5972\n",
      "Epoch 10/20\n",
      "363/363 [==============================] - 0s 749us/step - loss: 0.5770 - val_loss: 0.6261\n",
      "Epoch 11/20\n",
      "363/363 [==============================] - 0s 746us/step - loss: 0.5616 - val_loss: 0.5545\n",
      "Epoch 12/20\n",
      "363/363 [==============================] - 0s 781us/step - loss: 0.5449 - val_loss: 0.6263\n",
      "Epoch 13/20\n",
      "363/363 [==============================] - 0s 803us/step - loss: 0.5330 - val_loss: 0.5185\n",
      "Epoch 14/20\n",
      "363/363 [==============================] - 0s 739us/step - loss: 0.5202 - val_loss: 0.4934\n",
      "Epoch 15/20\n",
      "363/363 [==============================] - 0s 748us/step - loss: 0.5091 - val_loss: 0.4823\n",
      "Epoch 16/20\n",
      "363/363 [==============================] - 0s 741us/step - loss: 0.4990 - val_loss: 0.4834\n",
      "Epoch 17/20\n",
      "363/363 [==============================] - 0s 744us/step - loss: 0.4910 - val_loss: 0.4619\n",
      "Epoch 18/20\n",
      "363/363 [==============================] - 0s 722us/step - loss: 0.4828 - val_loss: 0.4567\n",
      "Epoch 19/20\n",
      "363/363 [==============================] - 0s 743us/step - loss: 0.4751 - val_loss: 0.4759\n",
      "Epoch 20/20\n",
      "363/363 [==============================] - 0s 725us/step - loss: 0.4693 - val_loss: 0.4435\n"
     ]
    }
   ],
   "source": [
    "model = keras.models.Sequential([\n",
    "    keras.layers.Dense(30, activation=\"relu\", input_shape=X_train.shape[1:]),\n",
    "    keras.layers.Dense(1)\n",
    "])\n",
    "model.compile(loss=\"mean_squared_error\", optimizer=keras.optimizers.SGD(learning_rate=1e-3))\n",
    "history = model.fit(X_train, y_train, epochs=20, validation_data=(X_valid, y_valid))"
   ]
  },
  {
   "cell_type": "code",
   "execution_count": 33,
   "id": "882dffcacb829a90",
   "metadata": {
    "collapsed": false,
    "ExecuteTime": {
     "end_time": "2024-03-08T01:55:02.252060500Z",
     "start_time": "2024-03-08T01:55:02.183499500Z"
    }
   },
   "outputs": [
    {
     "data": {
      "text/plain": "<Figure size 640x480 with 1 Axes>",
      "image/png": "[encoded data removed]"
     },
     "metadata": {},
     "output_type": "display_data"
    }
   ],
   "source": [
    "plt.plot(pd.DataFrame(history.history))\n",
    "plt.grid(True)\n",
    "plt.gca().set_ylim(0, 1)\n",
    "plt.show()"
   ]
  },
  {
   "cell_type": "code",
   "execution_count": 34,
   "id": "b4ce1684c39ddaf2",
   "metadata": {
    "collapsed": false,
    "ExecuteTime": {
     "end_time": "2024-03-08T01:55:02.388166100Z",
     "start_time": "2024-03-08T01:55:02.245388400Z"
    }
   },
   "outputs": [
    {
     "name": "stdout",
     "output_type": "stream",
     "text": [
      "162/162 [==============================] - 0s 563us/step - loss: 0.4547\n"
     ]
    },
    {
     "data": {
      "text/plain": "0.45473340153694153"
     },
     "execution_count": 34,
     "metadata": {},
     "output_type": "execute_result"
    }
   ],
   "source": [
    "model.evaluate(X_test, y_test)"
   ]
  },
  {
   "cell_type": "code",
   "execution_count": 35,
   "id": "4507daff65b29270",
   "metadata": {
    "collapsed": false,
    "ExecuteTime": {
     "end_time": "2024-03-08T01:55:02.464309800Z",
     "start_time": "2024-03-08T01:55:02.387164100Z"
    }
   },
   "outputs": [
    {
     "data": {
      "text/plain": "array([[0.65649736],\n       [1.4977489 ],\n       [2.870823  ]], dtype=float32)"
     },
     "execution_count": 35,
     "metadata": {},
     "output_type": "execute_result"
    }
   ],
   "source": [
    "X_new = X_test[:3]\n",
    "y_pred = model.predict(X_new, verbose=0)\n",
    "y_pred"
   ]
  },
  {
   "cell_type": "code",
   "execution_count": 36,
   "id": "bb0c4c02116fb013",
   "metadata": {
    "collapsed": false,
    "ExecuteTime": {
     "end_time": "2024-03-08T01:55:02.494580800Z",
     "start_time": "2024-03-08T01:55:02.466310200Z"
    }
   },
   "outputs": [
    {
     "data": {
      "text/plain": "array([0.477  , 0.458  , 5.00001])"
     },
     "execution_count": 36,
     "metadata": {},
     "output_type": "execute_result"
    }
   ],
   "source": [
    "y_new = y_test[:3]\n",
    "y_new"
   ]
  },
  {
   "cell_type": "markdown",
   "id": "a44fdd443314daf",
   "metadata": {
    "collapsed": false
   },
   "source": [
    "#### Building Complex Models Using the Functional API"
   ]
  },
  {
   "cell_type": "code",
   "execution_count": 37,
   "id": "cec46e47eafd4b0f",
   "metadata": {
    "collapsed": false,
    "ExecuteTime": {
     "end_time": "2024-03-08T01:55:02.523327900Z",
     "start_time": "2024-03-08T01:55:02.482245300Z"
    }
   },
   "outputs": [],
   "source": [
    "input_ = keras.layers.Input(shape=X_train.shape[1:])\n",
    "hidden1 = keras.layers.Dense(30, activation=\"relu\")(input_)\n",
    "hidden2 = keras.layers.Dense(30, activation=\"relu\")(hidden1)\n",
    "concat = keras.layers.concatenate([input_, hidden2])\n",
    "output = keras.layers.Dense(1)(concat)\n",
    "model = keras.models.Model(inputs=[input_], outputs=[output])"
   ]
  },
  {
   "cell_type": "code",
   "execution_count": 38,
   "id": "4e4f3da528581633",
   "metadata": {
    "collapsed": false,
    "ExecuteTime": {
     "end_time": "2024-03-08T01:55:02.561976500Z",
     "start_time": "2024-03-08T01:55:02.512122500Z"
    }
   },
   "outputs": [
    {
     "name": "stdout",
     "output_type": "stream",
     "text": [
      "Model: \"model\"\n",
      "__________________________________________________________________________________________________\n",
      " Layer (type)                Output Shape                 Param #   Connected to                  \n",
      "==================================================================================================\n",
      " input_1 (InputLayer)        [(None, 8)]                  0         []                            \n",
      "                                                                                                  \n",
      " dense_5 (Dense)             (None, 30)                   270       ['input_1[0][0]']             \n",
      "                                                                                                  \n",
      " dense_6 (Dense)             (None, 30)                   930       ['dense_5[0][0]']             \n",
      "                                                                                                  \n",
      " concatenate (Concatenate)   (None, 38)                   0         ['input_1[0][0]',             \n",
      "                                                                     'dense_6[0][0]']             \n",
      "                                                                                                  \n",
      " dense_7 (Dense)             (None, 1)                    39        ['concatenate[0][0]']         \n",
      "                                                                                                  \n",
      "==================================================================================================\n",
      "Total params: 1239 (4.84 KB)\n",
      "Trainable params: 1239 (4.84 KB)\n",
      "Non-trainable params: 0 (0.00 Byte)\n",
      "__________________________________________________________________________________________________\n"
     ]
    }
   ],
   "source": [
    "model.summary()"
   ]
  },
  {
   "cell_type": "code",
   "execution_count": 39,
   "id": "c68bdad084ac1afb",
   "metadata": {
    "collapsed": false,
    "ExecuteTime": {
     "end_time": "2024-03-08T01:55:02.580835700Z",
     "start_time": "2024-03-08T01:55:02.527836300Z"
    }
   },
   "outputs": [],
   "source": [
    "input_A = keras.layers.Input(shape=[5], name=\"wide_input\")\n",
    "input_B = keras.layers.Input(shape=[6], name=\"deep_input\")\n",
    "hidden1 = keras.layers.Dense(30, activation=\"relu\")(input_B)\n",
    "hidden2 = keras.layers.Dense(30, activation=\"relu\")(hidden1)\n",
    "concat = keras.layers.concatenate([input_A, hidden2])\n",
    "output = keras.layers.Dense(1, name=\"output\")(concat)\n",
    "model = keras.models.Model(inputs=[input_A, input_B], outputs=[output])"
   ]
  },
  {
   "cell_type": "code",
   "execution_count": 40,
   "id": "c7c9f34cdf09a11d",
   "metadata": {
    "collapsed": false,
    "ExecuteTime": {
     "end_time": "2024-03-08T01:55:02.584836200Z",
     "start_time": "2024-03-08T01:55:02.558379600Z"
    }
   },
   "outputs": [
    {
     "name": "stdout",
     "output_type": "stream",
     "text": [
      "Model: \"model_1\"\n",
      "__________________________________________________________________________________________________\n",
      " Layer (type)                Output Shape                 Param #   Connected to                  \n",
      "==================================================================================================\n",
      " deep_input (InputLayer)     [(None, 6)]                  0         []                            \n",
      "                                                                                                  \n",
      " dense_8 (Dense)             (None, 30)                   210       ['deep_input[0][0]']          \n",
      "                                                                                                  \n",
      " wide_input (InputLayer)     [(None, 5)]                  0         []                            \n",
      "                                                                                                  \n",
      " dense_9 (Dense)             (None, 30)                   930       ['dense_8[0][0]']             \n",
      "                                                                                                  \n",
      " concatenate_1 (Concatenate  (None, 35)                   0         ['wide_input[0][0]',          \n",
      " )                                                                   'dense_9[0][0]']             \n",
      "                                                                                                  \n",
      " output (Dense)              (None, 1)                    36        ['concatenate_1[0][0]']       \n",
      "                                                                                                  \n",
      "==================================================================================================\n",
      "Total params: 1176 (4.59 KB)\n",
      "Trainable params: 1176 (4.59 KB)\n",
      "Non-trainable params: 0 (0.00 Byte)\n",
      "__________________________________________________________________________________________________\n"
     ]
    }
   ],
   "source": [
    "model.summary()"
   ]
  },
  {
   "cell_type": "code",
   "execution_count": 41,
   "id": "1a5b90320a76d2ba",
   "metadata": {
    "collapsed": false,
    "ExecuteTime": {
     "end_time": "2024-03-08T01:55:09.086210900Z",
     "start_time": "2024-03-08T01:55:02.577835800Z"
    }
   },
   "outputs": [
    {
     "name": "stdout",
     "output_type": "stream",
     "text": [
      "Epoch 1/20\n",
      "363/363 [==============================] - 1s 1ms/step - loss: 2.3263 - val_loss: 1.4918\n",
      "Epoch 2/20\n",
      "363/363 [==============================] - 0s 864us/step - loss: 0.8745 - val_loss: 0.7407\n",
      "Epoch 3/20\n",
      "363/363 [==============================] - 0s 863us/step - loss: 0.7312 - val_loss: 0.6606\n",
      "Epoch 4/20\n",
      "363/363 [==============================] - 0s 856us/step - loss: 0.6713 - val_loss: 0.6184\n",
      "Epoch 5/20\n",
      "363/363 [==============================] - 0s 837us/step - loss: 0.6338 - val_loss: 0.5783\n",
      "Epoch 6/20\n",
      "363/363 [==============================] - 0s 837us/step - loss: 0.6033 - val_loss: 0.5481\n",
      "Epoch 7/20\n",
      "363/363 [==============================] - 0s 842us/step - loss: 0.5775 - val_loss: 0.5248\n",
      "Epoch 8/20\n",
      "363/363 [==============================] - 0s 868us/step - loss: 0.5553 - val_loss: 0.5048\n",
      "Epoch 9/20\n",
      "363/363 [==============================] - 0s 848us/step - loss: 0.5371 - val_loss: 0.4890\n",
      "Epoch 10/20\n",
      "363/363 [==============================] - 0s 851us/step - loss: 0.5225 - val_loss: 0.4773\n",
      "Epoch 11/20\n",
      "363/363 [==============================] - 0s 867us/step - loss: 0.5101 - val_loss: 0.5316\n",
      "Epoch 12/20\n",
      "363/363 [==============================] - 0s 831us/step - loss: 0.4988 - val_loss: 0.4547\n",
      "Epoch 13/20\n",
      "363/363 [==============================] - 0s 872us/step - loss: 0.4889 - val_loss: 0.4558\n",
      "Epoch 14/20\n",
      "363/363 [==============================] - 0s 866us/step - loss: 0.4800 - val_loss: 0.4448\n",
      "Epoch 15/20\n",
      "363/363 [==============================] - 0s 831us/step - loss: 0.4722 - val_loss: 0.4316\n",
      "Epoch 16/20\n",
      "363/363 [==============================] - 0s 821us/step - loss: 0.4655 - val_loss: 0.4272\n",
      "Epoch 17/20\n",
      "363/363 [==============================] - 0s 840us/step - loss: 0.4595 - val_loss: 0.4535\n",
      "Epoch 18/20\n",
      "363/363 [==============================] - 0s 845us/step - loss: 0.4549 - val_loss: 0.4482\n",
      "Epoch 19/20\n",
      "363/363 [==============================] - 0s 829us/step - loss: 0.4499 - val_loss: 0.4153\n",
      "Epoch 20/20\n",
      "363/363 [==============================] - 0s 904us/step - loss: 0.4462 - val_loss: 0.4895\n"
     ]
    }
   ],
   "source": [
    "model.compile(loss=\"mse\", optimizer=keras.optimizers.SGD(learning_rate=1e-3))\n",
    "\n",
    "X_train_A, X_train_B = X_train[:, :5], X_train[:, 2:]\n",
    "X_valid_A, X_valid_B = X_valid[:, :5], X_valid[:, 2:]\n",
    "X_test_A, X_test_B = X_test[:, :5], X_test[:, 2:]\n",
    "X_new_A, X_new_B = X_test_A[:3], X_test_B[:3]\n",
    "\n",
    "model.fit((X_train_A, X_train_B), y_train, epochs=20, \n",
    "          validation_data=((X_valid_A, X_valid_B), y_valid));"
   ]
  },
  {
   "cell_type": "code",
   "execution_count": 42,
   "id": "8fd57d74990dea1b",
   "metadata": {
    "collapsed": false,
    "ExecuteTime": {
     "end_time": "2024-03-08T01:55:09.229995800Z",
     "start_time": "2024-03-08T01:55:09.089098400Z"
    }
   },
   "outputs": [
    {
     "name": "stdout",
     "output_type": "stream",
     "text": [
      "162/162 [==============================] - 0s 552us/step - loss: 0.4418\n"
     ]
    },
    {
     "data": {
      "text/plain": "0.4417523443698883"
     },
     "execution_count": 42,
     "metadata": {},
     "output_type": "execute_result"
    }
   ],
   "source": [
    "model.evaluate((X_test_A, X_test_B), y_test)"
   ]
  },
  {
   "cell_type": "code",
   "execution_count": 43,
   "id": "3735e8379a02c35e",
   "metadata": {
    "collapsed": false,
    "ExecuteTime": {
     "end_time": "2024-03-08T01:55:09.307537900Z",
     "start_time": "2024-03-08T01:55:09.228994Z"
    }
   },
   "outputs": [
    {
     "data": {
      "text/plain": "array([[0.5350065],\n       [1.8905455],\n       [3.0701752]], dtype=float32)"
     },
     "execution_count": 43,
     "metadata": {},
     "output_type": "execute_result"
    }
   ],
   "source": [
    "y_pred = model.predict((X_new_A, X_new_B), verbose=0)\n",
    "y_pred"
   ]
  },
  {
   "cell_type": "code",
   "execution_count": 44,
   "id": "6d77d73f2128022c",
   "metadata": {
    "collapsed": false,
    "ExecuteTime": {
     "end_time": "2024-03-08T01:55:16.502213900Z",
     "start_time": "2024-03-08T01:55:09.310536100Z"
    }
   },
   "outputs": [
    {
     "name": "stdout",
     "output_type": "stream",
     "text": [
      "Epoch 1/20\n",
      "363/363 [==============================] - 1s 1ms/step - loss: 2.8337 - main_output_loss: 2.5634 - aux_output_loss: 5.2673 - val_loss: 3.2076 - val_main_output_loss: 2.9932 - val_aux_output_loss: 5.1365\n",
      "Epoch 2/20\n",
      "363/363 [==============================] - 0s 972us/step - loss: 1.1001 - main_output_loss: 0.8133 - aux_output_loss: 3.6806 - val_loss: 2.1192 - val_main_output_loss: 1.8515 - val_aux_output_loss: 4.5279\n",
      "Epoch 3/20\n",
      "363/363 [==============================] - 0s 875us/step - loss: 0.8659 - main_output_loss: 0.6756 - aux_output_loss: 2.5793 - val_loss: 1.3896 - val_main_output_loss: 1.0887 - val_aux_output_loss: 4.0977\n",
      "Epoch 4/20\n",
      "363/363 [==============================] - 0s 986us/step - loss: 0.7593 - main_output_loss: 0.6237 - aux_output_loss: 1.9800 - val_loss: 1.0912 - val_main_output_loss: 0.7879 - val_aux_output_loss: 3.8206\n",
      "Epoch 5/20\n",
      "363/363 [==============================] - 0s 896us/step - loss: 0.7012 - main_output_loss: 0.5938 - aux_output_loss: 1.6684 - val_loss: 0.8930 - val_main_output_loss: 0.6090 - val_aux_output_loss: 3.4495\n",
      "Epoch 6/20\n",
      "363/363 [==============================] - 0s 872us/step - loss: 0.6634 - main_output_loss: 0.5693 - aux_output_loss: 1.5102 - val_loss: 0.8022 - val_main_output_loss: 0.5444 - val_aux_output_loss: 3.1224\n",
      "Epoch 7/20\n",
      "363/363 [==============================] - 0s 896us/step - loss: 0.6364 - main_output_loss: 0.5494 - aux_output_loss: 1.4194 - val_loss: 0.7312 - val_main_output_loss: 0.5098 - val_aux_output_loss: 2.7239\n",
      "Epoch 8/20\n",
      "363/363 [==============================] - 0s 909us/step - loss: 0.6141 - main_output_loss: 0.5312 - aux_output_loss: 1.3607 - val_loss: 0.6935 - val_main_output_loss: 0.4991 - val_aux_output_loss: 2.4435\n",
      "Epoch 9/20\n",
      "363/363 [==============================] - 0s 951us/step - loss: 0.5956 - main_output_loss: 0.5151 - aux_output_loss: 1.3194 - val_loss: 0.6651 - val_main_output_loss: 0.4927 - val_aux_output_loss: 2.2167\n",
      "Epoch 10/20\n",
      "363/363 [==============================] - 0s 917us/step - loss: 0.5805 - main_output_loss: 0.5020 - aux_output_loss: 1.2866 - val_loss: 0.6412 - val_main_output_loss: 0.4895 - val_aux_output_loss: 2.0065\n",
      "Epoch 11/20\n",
      "363/363 [==============================] - 0s 929us/step - loss: 0.5680 - main_output_loss: 0.4913 - aux_output_loss: 1.2587 - val_loss: 0.6154 - val_main_output_loss: 0.4751 - val_aux_output_loss: 1.8774\n",
      "Epoch 12/20\n",
      "363/363 [==============================] - 0s 866us/step - loss: 0.5576 - main_output_loss: 0.4824 - aux_output_loss: 1.2344 - val_loss: 0.5956 - val_main_output_loss: 0.4695 - val_aux_output_loss: 1.7305\n",
      "Epoch 13/20\n",
      "363/363 [==============================] - 0s 887us/step - loss: 0.5486 - main_output_loss: 0.4750 - aux_output_loss: 1.2113 - val_loss: 0.5750 - val_main_output_loss: 0.4584 - val_aux_output_loss: 1.6240\n",
      "Epoch 14/20\n",
      "363/363 [==============================] - 0s 889us/step - loss: 0.5408 - main_output_loss: 0.4686 - aux_output_loss: 1.1898 - val_loss: 0.5567 - val_main_output_loss: 0.4482 - val_aux_output_loss: 1.5325\n",
      "Epoch 15/20\n",
      "363/363 [==============================] - 0s 1ms/step - loss: 0.5337 - main_output_loss: 0.4630 - aux_output_loss: 1.1693 - val_loss: 0.5392 - val_main_output_loss: 0.4368 - val_aux_output_loss: 1.4610\n",
      "Epoch 16/20\n",
      "363/363 [==============================] - 0s 897us/step - loss: 0.5272 - main_output_loss: 0.4580 - aux_output_loss: 1.1498 - val_loss: 0.5249 - val_main_output_loss: 0.4292 - val_aux_output_loss: 1.3869\n",
      "Epoch 17/20\n",
      "363/363 [==============================] - 0s 884us/step - loss: 0.5210 - main_output_loss: 0.4532 - aux_output_loss: 1.1310 - val_loss: 0.5127 - val_main_output_loss: 0.4222 - val_aux_output_loss: 1.3272\n",
      "Epoch 18/20\n",
      "363/363 [==============================] - 0s 872us/step - loss: 0.5157 - main_output_loss: 0.4494 - aux_output_loss: 1.1123 - val_loss: 0.5023 - val_main_output_loss: 0.4167 - val_aux_output_loss: 1.2730\n",
      "Epoch 19/20\n",
      "363/363 [==============================] - 0s 895us/step - loss: 0.5103 - main_output_loss: 0.4455 - aux_output_loss: 1.0943 - val_loss: 0.4938 - val_main_output_loss: 0.4129 - val_aux_output_loss: 1.2222\n",
      "Epoch 20/20\n",
      "363/363 [==============================] - 0s 956us/step - loss: 0.5058 - main_output_loss: 0.4424 - aux_output_loss: 1.0769 - val_loss: 0.4872 - val_main_output_loss: 0.4101 - val_aux_output_loss: 1.1804\n"
     ]
    }
   ],
   "source": [
    "input_A = keras.layers.Input(shape=[5], name=\"wide_input\")\n",
    "input_B = keras.layers.Input(shape=[6], name=\"deep_input\")\n",
    "hidden1 = keras.layers.Dense(30, activation=\"relu\")(input_B)\n",
    "hidden2 = keras.layers.Dense(30, activation=\"relu\")(hidden1)\n",
    "concat = keras.layers.concatenate([input_A, hidden2])\n",
    "output = keras.layers.Dense(1, name=\"main_output\")(concat)\n",
    "aux_output = keras.layers.Dense(1, name=\"aux_output\")(hidden2)\n",
    "model = keras.models.Model(inputs=[input_A, input_B], outputs=[output, aux_output])\n",
    "\n",
    "model.compile(loss=[\"mse\", \"mse\"], loss_weights=[0.9, 0.1], optimizer=keras.optimizers.SGD(learning_rate=1e-3))\n",
    "model.fit([X_train_A, X_train_B], [y_train, y_train], epochs=20, \n",
    "          validation_data=([X_valid_A, X_valid_B], [y_valid, y_valid]));"
   ]
  },
  {
   "cell_type": "code",
   "execution_count": 45,
   "id": "6b6eef4c61029c02",
   "metadata": {
    "collapsed": false,
    "ExecuteTime": {
     "end_time": "2024-03-08T01:55:16.659708100Z",
     "start_time": "2024-03-08T01:55:16.502213900Z"
    }
   },
   "outputs": [
    {
     "name": "stdout",
     "output_type": "stream",
     "text": [
      "162/162 [==============================] - 0s 596us/step - loss: 0.4996 - main_output_loss: 0.4383 - aux_output_loss: 1.0514\n"
     ]
    },
    {
     "data": {
      "text/plain": "[0.4996480643749237, 0.43834376335144043, 1.0513877868652344]"
     },
     "execution_count": 45,
     "metadata": {},
     "output_type": "execute_result"
    }
   ],
   "source": [
    "model.evaluate([X_test_A, X_test_B], [y_test, y_test]) # total_loss, main_loss, aux_loss"
   ]
  },
  {
   "cell_type": "code",
   "execution_count": 46,
   "id": "d208b808681faae1",
   "metadata": {
    "collapsed": false,
    "ExecuteTime": {
     "end_time": "2024-03-08T01:55:16.753197400Z",
     "start_time": "2024-03-08T01:55:16.660785600Z"
    }
   },
   "outputs": [
    {
     "data": {
      "text/plain": "(array([[0.37419227],\n        [1.9117627 ],\n        [3.3410115 ]], dtype=float32),\n array([[1.2580148],\n        [2.0372107],\n        [2.6483097]], dtype=float32))"
     },
     "execution_count": 46,
     "metadata": {},
     "output_type": "execute_result"
    }
   ],
   "source": [
    "y_pred_main, y_pred_aux = model.predict((X_new_A, X_new_B), verbose=0)\n",
    "y_pred_main, y_pred_aux"
   ]
  },
  {
   "cell_type": "markdown",
   "id": "2fc0a47ddc167d49",
   "metadata": {
    "collapsed": false
   },
   "source": [
    "#### Using the Subclassing API to Build Dynamic Models"
   ]
  },
  {
   "cell_type": "code",
   "execution_count": 47,
   "id": "4c38574b47f7dd1f",
   "metadata": {
    "collapsed": false,
    "ExecuteTime": {
     "end_time": "2024-03-08T01:55:16.788618Z",
     "start_time": "2024-03-08T01:55:16.756642800Z"
    }
   },
   "outputs": [],
   "source": [
    "class WideAndDeepModel(keras.models.Model):\n",
    "    def __init__(self, units=30, activation=\"relu\", **kwargs):\n",
    "        super().__init__(**kwargs)\n",
    "        self.hidden1 = keras.layers.Dense(units, activation=activation)\n",
    "        self.hidden2 = keras.layers.Dense(units, activation=activation)\n",
    "        self.main_output = keras.layers.Dense(1)\n",
    "        self.aux_output = keras.layers.Dense(1)\n",
    "    \n",
    "    def call(self, inputs, training=None, mask=None):\n",
    "        input_A, input_B = inputs\n",
    "        hidden1 = self.hidden1(input_B)\n",
    "        hidden2 = self.hidden2(hidden1)\n",
    "        concat = keras.layers.concatenate([input_A, hidden2])\n",
    "        main_output = self.main_output(concat)\n",
    "        aux_output = self.aux_output(hidden2)\n",
    "        return main_output, aux_output\n",
    "\n",
    "model = WideAndDeepModel(30, activation=\"relu\")"
   ]
  },
  {
   "cell_type": "code",
   "execution_count": 48,
   "id": "50ce91acb9ce900",
   "metadata": {
    "collapsed": false,
    "ExecuteTime": {
     "end_time": "2024-03-08T01:55:23.801685600Z",
     "start_time": "2024-03-08T01:55:16.769925500Z"
    }
   },
   "outputs": [
    {
     "name": "stdout",
     "output_type": "stream",
     "text": [
      "Epoch 1/20\n",
      "363/363 [==============================] - 1s 1ms/step - loss: 2.8833 - output_1_loss: 2.6139 - output_2_loss: 5.3087 - val_loss: 1.7316 - val_output_1_loss: 1.3849 - val_output_2_loss: 4.8518\n",
      "Epoch 2/20\n",
      "363/363 [==============================] - 0s 898us/step - loss: 1.1608 - output_1_loss: 0.9211 - output_2_loss: 3.3178 - val_loss: 1.3442 - val_output_1_loss: 0.8071 - val_output_2_loss: 6.1775\n",
      "Epoch 3/20\n",
      "363/363 [==============================] - 0s 874us/step - loss: 0.8799 - output_1_loss: 0.7279 - output_2_loss: 2.2482 - val_loss: 1.3243 - val_output_1_loss: 0.6823 - val_output_2_loss: 7.1016\n",
      "Epoch 4/20\n",
      "363/363 [==============================] - 0s 915us/step - loss: 0.7466 - output_1_loss: 0.6380 - output_2_loss: 1.7241 - val_loss: 1.2204 - val_output_1_loss: 0.6019 - val_output_2_loss: 6.7867\n",
      "Epoch 5/20\n",
      "363/363 [==============================] - 0s 881us/step - loss: 0.6680 - output_1_loss: 0.5804 - output_2_loss: 1.4567 - val_loss: 1.0687 - val_output_1_loss: 0.5486 - val_output_2_loss: 5.7498\n",
      "Epoch 6/20\n",
      "363/363 [==============================] - 0s 875us/step - loss: 0.6168 - output_1_loss: 0.5390 - output_2_loss: 1.3168 - val_loss: 0.9295 - val_output_1_loss: 0.5190 - val_output_2_loss: 4.6241\n",
      "Epoch 7/20\n",
      "363/363 [==============================] - 0s 914us/step - loss: 0.5828 - output_1_loss: 0.5106 - output_2_loss: 1.2326 - val_loss: 0.8303 - val_output_1_loss: 0.5120 - val_output_2_loss: 3.6943\n",
      "Epoch 8/20\n",
      "363/363 [==============================] - 0s 873us/step - loss: 0.5606 - output_1_loss: 0.4921 - output_2_loss: 1.1764 - val_loss: 0.7364 - val_output_1_loss: 0.4699 - val_output_2_loss: 3.1350\n",
      "Epoch 9/20\n",
      "363/363 [==============================] - 0s 883us/step - loss: 0.5443 - output_1_loss: 0.4782 - output_2_loss: 1.1391 - val_loss: 0.6700 - val_output_1_loss: 0.4549 - val_output_2_loss: 2.6059\n",
      "Epoch 10/20\n",
      "363/363 [==============================] - 0s 938us/step - loss: 0.5326 - output_1_loss: 0.4688 - output_2_loss: 1.1071 - val_loss: 0.6187 - val_output_1_loss: 0.4521 - val_output_2_loss: 2.1182\n",
      "Epoch 11/20\n",
      "363/363 [==============================] - 0s 865us/step - loss: 0.5240 - output_1_loss: 0.4623 - output_2_loss: 1.0797 - val_loss: 0.5755 - val_output_1_loss: 0.4374 - val_output_2_loss: 1.8186\n",
      "Epoch 12/20\n",
      "363/363 [==============================] - 0s 892us/step - loss: 0.5170 - output_1_loss: 0.4570 - output_2_loss: 1.0566 - val_loss: 0.5447 - val_output_1_loss: 0.4325 - val_output_2_loss: 1.5542\n",
      "Epoch 13/20\n",
      "363/363 [==============================] - 0s 871us/step - loss: 0.5111 - output_1_loss: 0.4529 - output_2_loss: 1.0349 - val_loss: 0.5234 - val_output_1_loss: 0.4281 - val_output_2_loss: 1.3815\n",
      "Epoch 14/20\n",
      "363/363 [==============================] - 0s 875us/step - loss: 0.5061 - output_1_loss: 0.4495 - output_2_loss: 1.0151 - val_loss: 0.5034 - val_output_1_loss: 0.4246 - val_output_2_loss: 1.2127\n",
      "Epoch 15/20\n",
      "363/363 [==============================] - 0s 878us/step - loss: 0.5016 - output_1_loss: 0.4466 - output_2_loss: 0.9964 - val_loss: 0.4939 - val_output_1_loss: 0.4222 - val_output_2_loss: 1.1390\n",
      "Epoch 16/20\n",
      "363/363 [==============================] - 0s 870us/step - loss: 0.4978 - output_1_loss: 0.4442 - output_2_loss: 0.9796 - val_loss: 0.4804 - val_output_1_loss: 0.4188 - val_output_2_loss: 1.0346\n",
      "Epoch 17/20\n",
      "363/363 [==============================] - 0s 901us/step - loss: 0.4940 - output_1_loss: 0.4418 - output_2_loss: 0.9638 - val_loss: 0.4758 - val_output_1_loss: 0.4177 - val_output_2_loss: 0.9987\n",
      "Epoch 18/20\n",
      "363/363 [==============================] - 0s 895us/step - loss: 0.4905 - output_1_loss: 0.4396 - output_2_loss: 0.9485 - val_loss: 0.4699 - val_output_1_loss: 0.4153 - val_output_2_loss: 0.9613\n",
      "Epoch 19/20\n",
      "363/363 [==============================] - 0s 1ms/step - loss: 0.4871 - output_1_loss: 0.4375 - output_2_loss: 0.9338 - val_loss: 0.4639 - val_output_1_loss: 0.4118 - val_output_2_loss: 0.9322\n",
      "Epoch 20/20\n",
      "363/363 [==============================] - 0s 865us/step - loss: 0.4841 - output_1_loss: 0.4356 - output_2_loss: 0.9205 - val_loss: 0.4796 - val_output_1_loss: 0.4309 - val_output_2_loss: 0.9173\n"
     ]
    }
   ],
   "source": [
    "model.compile(loss=\"mse\", loss_weights=[0.9, 0.1], optimizer=keras.optimizers.SGD(learning_rate=1e-3))\n",
    "model.fit((X_train_A, X_train_B), (y_train, y_train), epochs=20, \n",
    "          validation_data=((X_valid_A, X_valid_B), (y_valid, y_valid)));"
   ]
  },
  {
   "cell_type": "code",
   "execution_count": 49,
   "id": "52226e9cb4f2a7a4",
   "metadata": {
    "collapsed": false,
    "ExecuteTime": {
     "end_time": "2024-03-08T01:55:23.984670100Z",
     "start_time": "2024-03-08T01:55:23.797120700Z"
    }
   },
   "outputs": [
    {
     "name": "stdout",
     "output_type": "stream",
     "text": [
      "162/162 [==============================] - 0s 643us/step - loss: 0.4768 - output_1_loss: 0.4298 - output_2_loss: 0.8999\n"
     ]
    },
    {
     "data": {
      "text/plain": "[0.4768415689468384, 0.4298403859138489, 0.8998516201972961]"
     },
     "execution_count": 49,
     "metadata": {},
     "output_type": "execute_result"
    }
   ],
   "source": [
    "model.evaluate((X_test_A, X_test_B), (y_test, y_test)) # total_loss, main_loss, aux_loss"
   ]
  },
  {
   "cell_type": "code",
   "execution_count": 50,
   "id": "2055189e9869a5df",
   "metadata": {
    "collapsed": false,
    "ExecuteTime": {
     "end_time": "2024-03-08T01:55:24.047624500Z",
     "start_time": "2024-03-08T01:55:23.969346100Z"
    }
   },
   "outputs": [
    {
     "name": "stdout",
     "output_type": "stream",
     "text": [
      "WARNING:tensorflow:5 out of the last 6 calls to <function Model.make_predict_function.<locals>.predict_function at 0x0000020184CA4670> triggered tf.function retracing. Tracing is expensive and the excessive number of tracings could be due to (1) creating @tf.function repeatedly in a loop, (2) passing tensors with different shapes, (3) passing Python objects instead of tensors. For (1), please define your @tf.function outside of the loop. For (2), @tf.function has reduce_retracing=True option that can avoid unnecessary retracing. For (3), please refer to https://www.tensorflow.org/guide/function#controlling_retracing and https://www.tensorflow.org/api_docs/python/tf/function for  more details.\n"
     ]
    },
    {
     "data": {
      "text/plain": "(array([[0.25833893],\n        [2.001712  ],\n        [3.1197214 ]], dtype=float32),\n array([[1.268996 ],\n        [2.0649748],\n        [2.4761224]], dtype=float32))"
     },
     "execution_count": 50,
     "metadata": {},
     "output_type": "execute_result"
    }
   ],
   "source": [
    "y_pred_main, y_pred_aux = model.predict((X_new_A, X_new_B), verbose=0)\n",
    "y_pred_main, y_pred_aux"
   ]
  },
  {
   "cell_type": "markdown",
   "id": "593e0d013b1fccb5",
   "metadata": {
    "collapsed": false
   },
   "source": [
    "#### Saving and Restoring a Model"
   ]
  },
  {
   "cell_type": "code",
   "execution_count": 51,
   "id": "5a510ec71d345f73",
   "metadata": {
    "collapsed": false,
    "ExecuteTime": {
     "end_time": "2024-03-08T01:55:24.090549100Z",
     "start_time": "2024-03-08T01:55:24.047624500Z"
    }
   },
   "outputs": [],
   "source": [
    "model = keras.models.Sequential([\n",
    "    keras.layers.Dense(30, activation=\"relu\", input_shape=[8]),\n",
    "    keras.layers.Dense(30, activation=\"relu\"),\n",
    "    keras.layers.Dense(1)\n",
    "])"
   ]
  },
  {
   "cell_type": "code",
   "execution_count": 52,
   "id": "cbb7ae22f3c42466",
   "metadata": {
    "collapsed": false,
    "ExecuteTime": {
     "end_time": "2024-03-08T01:55:27.374552900Z",
     "start_time": "2024-03-08T01:55:24.079024900Z"
    }
   },
   "outputs": [
    {
     "name": "stdout",
     "output_type": "stream",
     "text": [
      "Epoch 1/10\n",
      "363/363 [==============================] - 1s 968us/step - loss: 1.9256 - val_loss: 0.8326\n",
      "Epoch 2/10\n",
      "363/363 [==============================] - 0s 827us/step - loss: 0.7670 - val_loss: 0.8351\n",
      "Epoch 3/10\n",
      "363/363 [==============================] - 0s 797us/step - loss: 0.6841 - val_loss: 0.8029\n",
      "Epoch 4/10\n",
      "363/363 [==============================] - 0s 841us/step - loss: 0.6306 - val_loss: 0.6435\n",
      "Epoch 5/10\n",
      "363/363 [==============================] - 0s 806us/step - loss: 0.5894 - val_loss: 0.5835\n",
      "Epoch 6/10\n",
      "363/363 [==============================] - 0s 842us/step - loss: 0.5538 - val_loss: 0.5719\n",
      "Epoch 7/10\n",
      "363/363 [==============================] - 0s 819us/step - loss: 0.5263 - val_loss: 0.5667\n",
      "Epoch 8/10\n",
      "363/363 [==============================] - 0s 819us/step - loss: 0.5038 - val_loss: 0.4879\n",
      "Epoch 9/10\n",
      "363/363 [==============================] - 0s 852us/step - loss: 0.4845 - val_loss: 0.4744\n",
      "Epoch 10/10\n",
      "363/363 [==============================] - 0s 849us/step - loss: 0.4691 - val_loss: 0.4668\n"
     ]
    }
   ],
   "source": [
    "model.compile(loss=\"mse\", optimizer=keras.optimizers.SGD(learning_rate=1e-3))\n",
    "model.fit(X_train, y_train, epochs=10, validation_data=(X_valid, y_valid));"
   ]
  },
  {
   "cell_type": "code",
   "execution_count": 53,
   "id": "e5e7f8d86ef5e51b",
   "metadata": {
    "collapsed": false,
    "ExecuteTime": {
     "end_time": "2024-03-08T01:55:27.524400500Z",
     "start_time": "2024-03-08T01:55:27.376017900Z"
    }
   },
   "outputs": [
    {
     "name": "stdout",
     "output_type": "stream",
     "text": [
      "162/162 [==============================] - 0s 521us/step - loss: 0.4611\n"
     ]
    },
    {
     "data": {
      "text/plain": "0.46110257506370544"
     },
     "execution_count": 53,
     "metadata": {},
     "output_type": "execute_result"
    }
   ],
   "source": [
    "model.evaluate(X_test, y_test)"
   ]
  },
  {
   "cell_type": "code",
   "execution_count": 54,
   "id": "3e9b8001-2471-4168-8759-b2ac8f7b2f55",
   "metadata": {
    "ExecuteTime": {
     "end_time": "2024-03-08T01:55:27.609627700Z",
     "start_time": "2024-03-08T01:55:27.516073200Z"
    }
   },
   "outputs": [
    {
     "name": "stdout",
     "output_type": "stream",
     "text": [
      "WARNING:tensorflow:6 out of the last 7 calls to <function Model.make_predict_function.<locals>.predict_function at 0x0000020185D0F040> triggered tf.function retracing. Tracing is expensive and the excessive number of tracings could be due to (1) creating @tf.function repeatedly in a loop, (2) passing tensors with different shapes, (3) passing Python objects instead of tensors. For (1), please define your @tf.function outside of the loop. For (2), @tf.function has reduce_retracing=True option that can avoid unnecessary retracing. For (3), please refer to https://www.tensorflow.org/guide/function#controlling_retracing and https://www.tensorflow.org/api_docs/python/tf/function for  more details.\n",
      "1/1 [==============================] - 0s 31ms/step\n"
     ]
    },
    {
     "data": {
      "text/plain": "array([[0.7434795],\n       [1.548776 ],\n       [3.3299189]], dtype=float32)"
     },
     "execution_count": 54,
     "metadata": {},
     "output_type": "execute_result"
    }
   ],
   "source": [
    "model.predict(X_new)"
   ]
  },
  {
   "cell_type": "code",
   "execution_count": 55,
   "id": "603dcf5011760dc8",
   "metadata": {
    "collapsed": false,
    "ExecuteTime": {
     "end_time": "2024-03-08T01:55:27.656461Z",
     "start_time": "2024-03-08T01:55:27.593267900Z"
    }
   },
   "outputs": [],
   "source": [
    "model.save(\"temp_model.keras\")\n",
    "model = keras.models.load_model(\"temp_model.keras\")"
   ]
  },
  {
   "cell_type": "code",
   "execution_count": 56,
   "id": "a2aa5ab4cbe9e223",
   "metadata": {
    "collapsed": false,
    "ExecuteTime": {
     "end_time": "2024-03-08T01:55:27.830788300Z",
     "start_time": "2024-03-08T01:55:27.656461Z"
    }
   },
   "outputs": [
    {
     "name": "stdout",
     "output_type": "stream",
     "text": [
      "162/162 [==============================] - 0s 535us/step - loss: 0.4611\n"
     ]
    },
    {
     "data": {
      "text/plain": "0.46110257506370544"
     },
     "execution_count": 56,
     "metadata": {},
     "output_type": "execute_result"
    }
   ],
   "source": [
    "model.evaluate(X_test, y_test)"
   ]
  },
  {
   "cell_type": "code",
   "execution_count": 57,
   "id": "a681ef195beb8b36",
   "metadata": {
    "collapsed": false,
    "ExecuteTime": {
     "end_time": "2024-03-08T01:55:27.914013900Z",
     "start_time": "2024-03-08T01:55:27.826785700Z"
    }
   },
   "outputs": [
    {
     "name": "stdout",
     "output_type": "stream",
     "text": [
      "1/1 [==============================] - 0s 35ms/step\n"
     ]
    },
    {
     "data": {
      "text/plain": "array([[0.7434795],\n       [1.548776 ],\n       [3.3299189]], dtype=float32)"
     },
     "execution_count": 57,
     "metadata": {},
     "output_type": "execute_result"
    }
   ],
   "source": [
    "model.predict(X_new)"
   ]
  },
  {
   "cell_type": "markdown",
   "source": [
    "#### Using Callbacks"
   ],
   "metadata": {
    "collapsed": false
   },
   "id": "4d8e61b0a6bab8d5"
  },
  {
   "cell_type": "code",
   "outputs": [],
   "source": [],
   "metadata": {
    "collapsed": false,
    "ExecuteTime": {
     "end_time": "2024-03-08T01:55:27.942532Z",
     "start_time": "2024-03-08T01:55:27.906015500Z"
    }
   },
   "id": "6ffccc1347aed08f",
   "execution_count": 57
  }
 ],
 "metadata": {
  "kernelspec": {
   "display_name": "Python 3 (ipykernel)",
   "language": "python",
   "name": "python3"
  },
  "language_info": {
   "codemirror_mode": {
    "name": "ipython",
    "version": 3
   },
   "file_extension": ".py",
   "mimetype": "text/x-python",
   "name": "python",
   "nbconvert_exporter": "python",
   "pygments_lexer": "ipython3",
   "version": "3.9.13"
  }
 },
 "nbformat": 4,
 "nbformat_minor": 5
}
