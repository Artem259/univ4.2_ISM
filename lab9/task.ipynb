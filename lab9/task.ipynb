{
 "cells": [
  {
   "cell_type": "code",
   "execution_count": 1,
   "id": "initial_id",
   "metadata": {
    "collapsed": true,
    "ExecuteTime": {
     "end_time": "2024-03-07T03:20:03.296555Z",
     "start_time": "2024-03-07T03:20:00.521739100Z"
    }
   },
   "outputs": [
    {
     "name": "stdout",
     "output_type": "stream",
     "text": [
      "WARNING:tensorflow:From C:\\GAMES and PROGRAMS\\my programs\\univ4.2\\univ4.2_ISM\\venv\\lib\\site-packages\\keras\\src\\losses.py:2976: The name tf.losses.sparse_softmax_cross_entropy is deprecated. Please use tf.compat.v1.losses.sparse_softmax_cross_entropy instead.\n"
     ]
    }
   ],
   "source": [
    "import numpy as np\n",
    "import pandas as pd\n",
    "import tensorflow as tf"
   ]
  },
  {
   "cell_type": "markdown",
   "source": [
    "## From Biological to Artificial Neurons"
   ],
   "metadata": {
    "collapsed": false
   },
   "id": "6a4e3aef121d31b9"
  },
  {
   "cell_type": "markdown",
   "source": [
    "#### The Perceptron"
   ],
   "metadata": {
    "collapsed": false
   },
   "id": "1e69cf5a3aa9621d"
  },
  {
   "cell_type": "code",
   "outputs": [
    {
     "data": {
      "text/plain": "array([5.1, 3.5, 1.4, 0.2])"
     },
     "execution_count": 2,
     "metadata": {},
     "output_type": "execute_result"
    }
   ],
   "source": [
    "from sklearn.datasets import load_iris\n",
    "from sklearn.linear_model import Perceptron\n",
    "\n",
    "iris = load_iris()\n",
    "iris.data[0]"
   ],
   "metadata": {
    "collapsed": false,
    "ExecuteTime": {
     "end_time": "2024-03-07T03:20:03.565692600Z",
     "start_time": "2024-03-07T03:20:03.296555Z"
    }
   },
   "id": "f70bc748c72744c5",
   "execution_count": 2
  },
  {
   "cell_type": "code",
   "outputs": [
    {
     "data": {
      "text/plain": "array([1])"
     },
     "execution_count": 3,
     "metadata": {},
     "output_type": "execute_result"
    }
   ],
   "source": [
    "X = iris.data[:, (2, 3)] # petal length, petal width\n",
    "y = (iris.target == 0).astype(np.int32) # Iris setosa?\n",
    "\n",
    "per_clf = Perceptron(random_state=42)\n",
    "per_clf.fit(X, y)\n",
    "\n",
    "y_pred = per_clf.predict([[2, 0.5]])\n",
    "y_pred"
   ],
   "metadata": {
    "collapsed": false,
    "ExecuteTime": {
     "end_time": "2024-03-07T03:20:03.586973600Z",
     "start_time": "2024-03-07T03:20:03.563534300Z"
    }
   },
   "id": "547b564dd9349fdf",
   "execution_count": 3
  },
  {
   "cell_type": "markdown",
   "source": [
    "## Implementing MLPs with Keras"
   ],
   "metadata": {
    "collapsed": false
   },
   "id": "5b12212405a80e87"
  },
  {
   "cell_type": "markdown",
   "source": [
    "#### Building an Image Classifier Using the Sequential API"
   ],
   "metadata": {
    "collapsed": false
   },
   "id": "6ccba6578ad447b2"
  },
  {
   "cell_type": "markdown",
   "source": [
    "##### Using Keras to load the dataset"
   ],
   "metadata": {
    "collapsed": false
   },
   "id": "dd40b35c0605de0b"
  },
  {
   "cell_type": "code",
   "outputs": [],
   "source": [
    "from tensorflow import keras\n",
    "\n",
    "fashion_mnist = keras.datasets.fashion_mnist\n",
    "(X_train_full, y_train_full), (X_test, y_test) = fashion_mnist.load_data()"
   ],
   "metadata": {
    "collapsed": false,
    "ExecuteTime": {
     "end_time": "2024-03-07T03:20:03.812172100Z",
     "start_time": "2024-03-07T03:20:03.579456Z"
    }
   },
   "id": "b6c9708af20c086d",
   "execution_count": 4
  },
  {
   "cell_type": "code",
   "outputs": [
    {
     "data": {
      "text/plain": "(60000, 28, 28)"
     },
     "execution_count": 5,
     "metadata": {},
     "output_type": "execute_result"
    }
   ],
   "source": [
    "X_train_full.shape"
   ],
   "metadata": {
    "collapsed": false,
    "ExecuteTime": {
     "end_time": "2024-03-07T03:20:03.829399400Z",
     "start_time": "2024-03-07T03:20:03.813174500Z"
    }
   },
   "id": "df55d896bdb8205d",
   "execution_count": 5
  },
  {
   "cell_type": "code",
   "outputs": [
    {
     "data": {
      "text/plain": "dtype('uint8')"
     },
     "execution_count": 6,
     "metadata": {},
     "output_type": "execute_result"
    }
   ],
   "source": [
    "X_train_full.dtype"
   ],
   "metadata": {
    "collapsed": false,
    "ExecuteTime": {
     "end_time": "2024-03-07T03:20:03.868510900Z",
     "start_time": "2024-03-07T03:20:03.829399400Z"
    }
   },
   "id": "999461d96364b08d",
   "execution_count": 6
  },
  {
   "cell_type": "code",
   "outputs": [],
   "source": [
    "X_valid, X_train = X_train_full[:5000] / 255., X_train_full[5000:] / 255.\n",
    "y_valid, y_train = y_train_full[:5000], y_train_full[5000:]\n",
    "X_test = X_test / 255."
   ],
   "metadata": {
    "collapsed": false,
    "ExecuteTime": {
     "end_time": "2024-03-07T03:20:03.939032100Z",
     "start_time": "2024-03-07T03:20:03.844742900Z"
    }
   },
   "id": "61f11c8fc85d7da9",
   "execution_count": 7
  },
  {
   "cell_type": "code",
   "outputs": [
    {
     "data": {
      "text/plain": "array([4, 0, 7, ..., 3, 0, 5], dtype=uint8)"
     },
     "execution_count": 8,
     "metadata": {},
     "output_type": "execute_result"
    }
   ],
   "source": [
    "y_train"
   ],
   "metadata": {
    "collapsed": false,
    "ExecuteTime": {
     "end_time": "2024-03-07T03:20:03.957739700Z",
     "start_time": "2024-03-07T03:20:03.937948400Z"
    }
   },
   "id": "7b95607ddb3e37e9",
   "execution_count": 8
  },
  {
   "cell_type": "code",
   "outputs": [],
   "source": [
    "class_names = [\"T-shirt/top\", \"Trouser\", \"Pullover\", \"Dress\", \"Coat\", \"Sandal\", \"Shirt\", \"Sneaker\", \"Bag\", \"Ankle boot\"]"
   ],
   "metadata": {
    "collapsed": false,
    "ExecuteTime": {
     "end_time": "2024-03-07T03:20:03.973330500Z",
     "start_time": "2024-03-07T03:20:03.953240600Z"
    }
   },
   "id": "b5913c3abb78afd3",
   "execution_count": 9
  },
  {
   "cell_type": "code",
   "outputs": [
    {
     "data": {
      "text/plain": "<Figure size 640x480 with 1 Axes>",
      "image/png": "[encoded data removed]"
     },
     "metadata": {},
     "output_type": "display_data"
    },
    {
     "data": {
      "text/plain": "'Coat'"
     },
     "execution_count": 10,
     "metadata": {},
     "output_type": "execute_result"
    }
   ],
   "source": [
    "from matplotlib import pyplot as plt\n",
    "\n",
    "plt.imshow(X_train[0], cmap=\"binary\")\n",
    "plt.axis('off')\n",
    "plt.show()\n",
    "class_names[y_train[0]]"
   ],
   "metadata": {
    "collapsed": false,
    "ExecuteTime": {
     "end_time": "2024-03-07T03:20:04.301854700Z",
     "start_time": "2024-03-07T03:20:03.969068Z"
    }
   },
   "id": "ae497b507ddf434e",
   "execution_count": 10
  },
  {
   "cell_type": "markdown",
   "source": [
    "##### Creating the model using the Sequential API"
   ],
   "metadata": {
    "collapsed": false
   },
   "id": "34fae3b6f7ac9783"
  },
  {
   "cell_type": "code",
   "outputs": [
    {
     "name": "stdout",
     "output_type": "stream",
     "text": [
      "WARNING:tensorflow:From C:\\GAMES and PROGRAMS\\my programs\\univ4.2\\univ4.2_ISM\\venv\\lib\\site-packages\\keras\\src\\backend.py:277: The name tf.reset_default_graph is deprecated. Please use tf.compat.v1.reset_default_graph instead.\n"
     ]
    }
   ],
   "source": [
    "keras.backend.clear_session()\n",
    "np.random.seed(42)\n",
    "tf.random.set_seed(42)"
   ],
   "metadata": {
    "collapsed": false,
    "ExecuteTime": {
     "end_time": "2024-03-07T03:20:04.446608500Z",
     "start_time": "2024-03-07T03:20:04.299727Z"
    }
   },
   "id": "7ce14cb1cbb2e9c6",
   "execution_count": 11
  },
  {
   "cell_type": "code",
   "outputs": [],
   "source": [
    "model = keras.models.Sequential()\n",
    "model.add(keras.layers.Flatten(input_shape=[28, 28]))\n",
    "model.add(keras.layers.Dense(300, activation=\"relu\"))\n",
    "model.add(keras.layers.Dense(100, activation=\"relu\"))\n",
    "model.add(keras.layers.Dense(10, activation=\"softmax\"))"
   ],
   "metadata": {
    "collapsed": false,
    "ExecuteTime": {
     "end_time": "2024-03-07T03:20:04.519193800Z",
     "start_time": "2024-03-07T03:20:04.439809100Z"
    }
   },
   "id": "68483c36eaeb7fc9",
   "execution_count": 12
  },
  {
   "cell_type": "code",
   "outputs": [
    {
     "name": "stdout",
     "output_type": "stream",
     "text": [
      "Model: \"sequential\"\n",
      "_________________________________________________________________\n",
      " Layer (type)                Output Shape              Param #   \n",
      "=================================================================\n",
      " flatten (Flatten)           (None, 784)               0         \n",
      "                                                                 \n",
      " dense (Dense)               (None, 300)               235500    \n",
      "                                                                 \n",
      " dense_1 (Dense)             (None, 100)               30100     \n",
      "                                                                 \n",
      " dense_2 (Dense)             (None, 10)                1010      \n",
      "                                                                 \n",
      "=================================================================\n",
      "Total params: 266610 (1.02 MB)\n",
      "Trainable params: 266610 (1.02 MB)\n",
      "Non-trainable params: 0 (0.00 Byte)\n",
      "_________________________________________________________________\n"
     ]
    }
   ],
   "source": [
    "model.summary()"
   ],
   "metadata": {
    "collapsed": false,
    "ExecuteTime": {
     "end_time": "2024-03-07T03:20:04.543252600Z",
     "start_time": "2024-03-07T03:20:04.520202300Z"
    }
   },
   "id": "830c6389024246ce",
   "execution_count": 13
  },
  {
   "cell_type": "code",
   "outputs": [
    {
     "data": {
      "text/plain": "[<keras.src.layers.reshaping.flatten.Flatten at 0x21fca3f8700>,\n <keras.src.layers.core.dense.Dense at 0x21fca3f8340>,\n <keras.src.layers.core.dense.Dense at 0x21fca3f8df0>,\n <keras.src.layers.core.dense.Dense at 0x21fca3cc0d0>]"
     },
     "execution_count": 14,
     "metadata": {},
     "output_type": "execute_result"
    }
   ],
   "source": [
    "model.layers"
   ],
   "metadata": {
    "collapsed": false,
    "ExecuteTime": {
     "end_time": "2024-03-07T03:20:04.565763500Z",
     "start_time": "2024-03-07T03:20:04.537250900Z"
    }
   },
   "id": "7b99b6a34f2696ad",
   "execution_count": 14
  },
  {
   "cell_type": "code",
   "outputs": [
    {
     "data": {
      "text/plain": "'dense'"
     },
     "execution_count": 15,
     "metadata": {},
     "output_type": "execute_result"
    }
   ],
   "source": [
    "hidden1 = model.layers[1]\n",
    "hidden1.name"
   ],
   "metadata": {
    "collapsed": false,
    "ExecuteTime": {
     "end_time": "2024-03-07T03:20:04.566766900Z",
     "start_time": "2024-03-07T03:20:04.551476900Z"
    }
   },
   "id": "5de6abb04a324b4a",
   "execution_count": 15
  },
  {
   "cell_type": "code",
   "outputs": [
    {
     "data": {
      "text/plain": "True"
     },
     "execution_count": 16,
     "metadata": {},
     "output_type": "execute_result"
    }
   ],
   "source": [
    "model.get_layer(\"dense\") is hidden1"
   ],
   "metadata": {
    "collapsed": false,
    "ExecuteTime": {
     "end_time": "2024-03-07T03:20:04.582034500Z",
     "start_time": "2024-03-07T03:20:04.566766900Z"
    }
   },
   "id": "c4f320c97879523c",
   "execution_count": 16
  },
  {
   "cell_type": "code",
   "outputs": [],
   "source": [
    "weights, biases = hidden1.get_weights()"
   ],
   "metadata": {
    "collapsed": false,
    "ExecuteTime": {
     "end_time": "2024-03-07T03:20:04.607288900Z",
     "start_time": "2024-03-07T03:20:04.582034500Z"
    }
   },
   "id": "543c76548241c0f2",
   "execution_count": 17
  },
  {
   "cell_type": "code",
   "outputs": [
    {
     "data": {
      "text/plain": "(784, 300)"
     },
     "execution_count": 18,
     "metadata": {},
     "output_type": "execute_result"
    }
   ],
   "source": [
    "weights.shape"
   ],
   "metadata": {
    "collapsed": false,
    "ExecuteTime": {
     "end_time": "2024-03-07T03:20:04.618815200Z",
     "start_time": "2024-03-07T03:20:04.596323200Z"
    }
   },
   "id": "ef689b2d7b0425e9",
   "execution_count": 18
  },
  {
   "cell_type": "code",
   "outputs": [
    {
     "data": {
      "text/plain": "(300,)"
     },
     "execution_count": 19,
     "metadata": {},
     "output_type": "execute_result"
    }
   ],
   "source": [
    "biases.shape"
   ],
   "metadata": {
    "collapsed": false,
    "ExecuteTime": {
     "end_time": "2024-03-07T03:20:04.671959600Z",
     "start_time": "2024-03-07T03:20:04.614805500Z"
    }
   },
   "id": "dcd06ebb810b82d0",
   "execution_count": 19
  },
  {
   "cell_type": "markdown",
   "source": [
    "##### Compiling the model"
   ],
   "metadata": {
    "collapsed": false
   },
   "id": "9b8bbb0db518e6f5"
  },
  {
   "cell_type": "code",
   "outputs": [],
   "source": [
    "model.compile(loss=keras.losses.sparse_categorical_crossentropy,\n",
    "              optimizer=keras.optimizers.SGD(learning_rate=0.01),\n",
    "              metrics=[keras.metrics.sparse_categorical_accuracy])"
   ],
   "metadata": {
    "collapsed": false,
    "ExecuteTime": {
     "end_time": "2024-03-07T03:20:04.672958800Z",
     "start_time": "2024-03-07T03:20:04.629781800Z"
    }
   },
   "id": "e40494a280b198fb",
   "execution_count": 20
  },
  {
   "cell_type": "markdown",
   "source": [
    "##### Training and evaluating the model"
   ],
   "metadata": {
    "collapsed": false
   },
   "id": "bb90b746afecfa8c"
  },
  {
   "cell_type": "code",
   "outputs": [
    {
     "name": "stdout",
     "output_type": "stream",
     "text": [
      "Epoch 1/30\n",
      "WARNING:tensorflow:From C:\\GAMES and PROGRAMS\\my programs\\univ4.2\\univ4.2_ISM\\venv\\lib\\site-packages\\keras\\src\\utils\\tf_utils.py:492: The name tf.ragged.RaggedTensorValue is deprecated. Please use tf.compat.v1.ragged.RaggedTensorValue instead.\n",
      "WARNING:tensorflow:From C:\\GAMES and PROGRAMS\\my programs\\univ4.2\\univ4.2_ISM\\venv\\lib\\site-packages\\keras\\src\\engine\\base_layer_utils.py:384: The name tf.executing_eagerly_outside_functions is deprecated. Please use tf.compat.v1.executing_eagerly_outside_functions instead.\n",
      "1719/1719 [==============================] - 2s 1ms/step - loss: 0.7166 - sparse_categorical_accuracy: 0.7671 - val_loss: 0.5236 - val_sparse_categorical_accuracy: 0.8234\n",
      "Epoch 2/30\n",
      "1719/1719 [==============================] - 2s 1ms/step - loss: 0.4889 - sparse_categorical_accuracy: 0.8283 - val_loss: 0.4374 - val_sparse_categorical_accuracy: 0.8510\n",
      "Epoch 3/30\n",
      "1719/1719 [==============================] - 2s 1ms/step - loss: 0.4443 - sparse_categorical_accuracy: 0.8435 - val_loss: 0.5389 - val_sparse_categorical_accuracy: 0.7996\n",
      "Epoch 4/30\n",
      "1719/1719 [==============================] - 2s 1ms/step - loss: 0.4172 - sparse_categorical_accuracy: 0.8543 - val_loss: 0.3947 - val_sparse_categorical_accuracy: 0.8646\n",
      "Epoch 5/30\n",
      "1719/1719 [==============================] - 2s 1ms/step - loss: 0.3984 - sparse_categorical_accuracy: 0.8599 - val_loss: 0.3772 - val_sparse_categorical_accuracy: 0.8698\n",
      "Epoch 6/30\n",
      "1719/1719 [==============================] - 2s 1ms/step - loss: 0.3792 - sparse_categorical_accuracy: 0.8664 - val_loss: 0.3695 - val_sparse_categorical_accuracy: 0.8708\n",
      "Epoch 7/30\n",
      "1719/1719 [==============================] - 2s 1ms/step - loss: 0.3665 - sparse_categorical_accuracy: 0.8709 - val_loss: 0.3615 - val_sparse_categorical_accuracy: 0.8748\n",
      "Epoch 8/30\n",
      "1719/1719 [==============================] - 2s 979us/step - loss: 0.3550 - sparse_categorical_accuracy: 0.8742 - val_loss: 0.3799 - val_sparse_categorical_accuracy: 0.8638\n",
      "Epoch 9/30\n",
      "1719/1719 [==============================] - 2s 993us/step - loss: 0.3440 - sparse_categorical_accuracy: 0.8783 - val_loss: 0.3531 - val_sparse_categorical_accuracy: 0.8726\n",
      "Epoch 10/30\n",
      "1719/1719 [==============================] - 2s 1ms/step - loss: 0.3348 - sparse_categorical_accuracy: 0.8808 - val_loss: 0.3497 - val_sparse_categorical_accuracy: 0.8756\n",
      "Epoch 11/30\n",
      "1719/1719 [==============================] - 2s 1ms/step - loss: 0.3263 - sparse_categorical_accuracy: 0.8837 - val_loss: 0.3421 - val_sparse_categorical_accuracy: 0.8796\n",
      "Epoch 12/30\n",
      "1719/1719 [==============================] - 2s 1ms/step - loss: 0.3172 - sparse_categorical_accuracy: 0.8864 - val_loss: 0.3290 - val_sparse_categorical_accuracy: 0.8844\n",
      "Epoch 13/30\n",
      "1719/1719 [==============================] - 2s 1ms/step - loss: 0.3098 - sparse_categorical_accuracy: 0.8890 - val_loss: 0.3225 - val_sparse_categorical_accuracy: 0.8868\n",
      "Epoch 14/30\n",
      "1719/1719 [==============================] - 2s 1ms/step - loss: 0.3041 - sparse_categorical_accuracy: 0.8909 - val_loss: 0.3506 - val_sparse_categorical_accuracy: 0.8738\n",
      "Epoch 15/30\n",
      "1719/1719 [==============================] - 2s 1ms/step - loss: 0.2959 - sparse_categorical_accuracy: 0.8938 - val_loss: 0.3260 - val_sparse_categorical_accuracy: 0.8822\n",
      "Epoch 16/30\n",
      "1719/1719 [==============================] - 2s 1ms/step - loss: 0.2910 - sparse_categorical_accuracy: 0.8960 - val_loss: 0.3072 - val_sparse_categorical_accuracy: 0.8882\n",
      "Epoch 17/30\n",
      "1719/1719 [==============================] - 2s 1ms/step - loss: 0.2852 - sparse_categorical_accuracy: 0.8979 - val_loss: 0.3477 - val_sparse_categorical_accuracy: 0.8770\n",
      "Epoch 18/30\n",
      "1719/1719 [==============================] - 2s 1ms/step - loss: 0.2788 - sparse_categorical_accuracy: 0.8997 - val_loss: 0.3105 - val_sparse_categorical_accuracy: 0.8890\n",
      "Epoch 19/30\n",
      "1719/1719 [==============================] - 2s 1ms/step - loss: 0.2743 - sparse_categorical_accuracy: 0.9016 - val_loss: 0.3090 - val_sparse_categorical_accuracy: 0.8914\n",
      "Epoch 20/30\n",
      "1719/1719 [==============================] - 2s 1ms/step - loss: 0.2686 - sparse_categorical_accuracy: 0.9037 - val_loss: 0.3290 - val_sparse_categorical_accuracy: 0.8832\n",
      "Epoch 21/30\n",
      "1719/1719 [==============================] - 2s 1ms/step - loss: 0.2635 - sparse_categorical_accuracy: 0.9052 - val_loss: 0.2989 - val_sparse_categorical_accuracy: 0.8956\n",
      "Epoch 22/30\n",
      "1719/1719 [==============================] - 2s 1ms/step - loss: 0.2588 - sparse_categorical_accuracy: 0.9061 - val_loss: 0.2958 - val_sparse_categorical_accuracy: 0.8960\n",
      "Epoch 23/30\n",
      "1719/1719 [==============================] - 2s 1ms/step - loss: 0.2547 - sparse_categorical_accuracy: 0.9068 - val_loss: 0.3014 - val_sparse_categorical_accuracy: 0.8932\n",
      "Epoch 24/30\n",
      "1719/1719 [==============================] - 2s 1ms/step - loss: 0.2502 - sparse_categorical_accuracy: 0.9094 - val_loss: 0.3060 - val_sparse_categorical_accuracy: 0.8900\n",
      "Epoch 25/30\n",
      "1719/1719 [==============================] - 2s 1ms/step - loss: 0.2460 - sparse_categorical_accuracy: 0.9108 - val_loss: 0.2956 - val_sparse_categorical_accuracy: 0.8956\n",
      "Epoch 26/30\n",
      "1719/1719 [==============================] - 2s 1ms/step - loss: 0.2413 - sparse_categorical_accuracy: 0.9140 - val_loss: 0.2978 - val_sparse_categorical_accuracy: 0.8948\n",
      "Epoch 27/30\n",
      "1719/1719 [==============================] - 2s 1ms/step - loss: 0.2382 - sparse_categorical_accuracy: 0.9152 - val_loss: 0.3012 - val_sparse_categorical_accuracy: 0.8934\n",
      "Epoch 28/30\n",
      "1719/1719 [==============================] - 2s 1ms/step - loss: 0.2342 - sparse_categorical_accuracy: 0.9150 - val_loss: 0.2987 - val_sparse_categorical_accuracy: 0.8970\n",
      "Epoch 29/30\n",
      "1719/1719 [==============================] - 2s 1ms/step - loss: 0.2300 - sparse_categorical_accuracy: 0.9184 - val_loss: 0.3056 - val_sparse_categorical_accuracy: 0.8908\n",
      "Epoch 30/30\n",
      "1719/1719 [==============================] - 2s 1ms/step - loss: 0.2264 - sparse_categorical_accuracy: 0.9187 - val_loss: 0.3038 - val_sparse_categorical_accuracy: 0.8938\n"
     ]
    }
   ],
   "source": [
    "history = model.fit(X_train, y_train, epochs=30, validation_data=(X_valid, y_valid))"
   ],
   "metadata": {
    "collapsed": false,
    "ExecuteTime": {
     "end_time": "2024-03-07T03:21:00.264329200Z",
     "start_time": "2024-03-07T03:20:04.644564600Z"
    }
   },
   "id": "ab1638e29f44e5d7",
   "execution_count": 21
  },
  {
   "cell_type": "code",
   "outputs": [
    {
     "data": {
      "text/plain": "{'verbose': 1, 'epochs': 30, 'steps': 1719}"
     },
     "execution_count": 22,
     "metadata": {},
     "output_type": "execute_result"
    }
   ],
   "source": [
    "history.params"
   ],
   "metadata": {
    "collapsed": false,
    "ExecuteTime": {
     "end_time": "2024-03-07T03:21:00.400772800Z",
     "start_time": "2024-03-07T03:21:00.264329200Z"
    }
   },
   "id": "fabffeea10649f46",
   "execution_count": 22
  },
  {
   "cell_type": "code",
   "outputs": [
    {
     "name": "stdout",
     "output_type": "stream",
     "text": [
      "[0, 1, 2, 3, 4, 5, 6, 7, 8, 9, 10, 11, 12, 13, 14, 15, 16, 17, 18, 19, 20, 21, 22, 23, 24, 25, 26, 27, 28, 29]\n"
     ]
    }
   ],
   "source": [
    "print(history.epoch)"
   ],
   "metadata": {
    "collapsed": false,
    "ExecuteTime": {
     "end_time": "2024-03-07T03:21:00.402194100Z",
     "start_time": "2024-03-07T03:21:00.339928100Z"
    }
   },
   "id": "51a23506d5108e1",
   "execution_count": 23
  },
  {
   "cell_type": "code",
   "outputs": [
    {
     "data": {
      "text/plain": "dict_keys(['loss', 'sparse_categorical_accuracy', 'val_loss', 'val_sparse_categorical_accuracy'])"
     },
     "execution_count": 24,
     "metadata": {},
     "output_type": "execute_result"
    }
   ],
   "source": [
    "history.history.keys()"
   ],
   "metadata": {
    "collapsed": false,
    "ExecuteTime": {
     "end_time": "2024-03-07T03:21:00.402194100Z",
     "start_time": "2024-03-07T03:21:00.339928100Z"
    }
   },
   "id": "74866b1b66c2d3a8",
   "execution_count": 24
  },
  {
   "cell_type": "code",
   "outputs": [
    {
     "data": {
      "text/plain": "<Figure size 800x500 with 1 Axes>",
      "image/png": "[encoded data removed]"
     },
     "metadata": {},
     "output_type": "display_data"
    }
   ],
   "source": [
    "pd.DataFrame(history.history).plot(figsize=(8, 5))\n",
    "plt.grid(True)\n",
    "plt.gca().set_ylim(0, 1) # set the vertical range to [0-1]\n",
    "plt.show()"
   ],
   "metadata": {
    "collapsed": false,
    "ExecuteTime": {
     "end_time": "2024-03-07T03:21:00.445985800Z",
     "start_time": "2024-03-07T03:21:00.339928100Z"
    }
   },
   "id": "bc8f465e0085ce6e",
   "execution_count": 25
  },
  {
   "cell_type": "code",
   "outputs": [
    {
     "name": "stdout",
     "output_type": "stream",
     "text": [
      "313/313 [==============================] - 0s 744us/step - loss: 0.3397 - sparse_categorical_accuracy: 0.8807\n"
     ]
    },
    {
     "data": {
      "text/plain": "[0.3397214412689209, 0.8806999921798706]"
     },
     "execution_count": 26,
     "metadata": {},
     "output_type": "execute_result"
    }
   ],
   "source": [
    "model.evaluate(X_test, y_test)"
   ],
   "metadata": {
    "collapsed": false,
    "ExecuteTime": {
     "end_time": "2024-03-07T03:21:00.750377300Z",
     "start_time": "2024-03-07T03:21:00.436446800Z"
    }
   },
   "id": "c2ecaf9ba80ba35",
   "execution_count": 26
  },
  {
   "cell_type": "markdown",
   "source": [
    "##### Using the model to make predictions"
   ],
   "metadata": {
    "collapsed": false
   },
   "id": "db2c144831b71a26"
  }
 ],
 "metadata": {
  "kernelspec": {
   "display_name": "Python 3",
   "language": "python",
   "name": "python3"
  },
  "language_info": {
   "codemirror_mode": {
    "name": "ipython",
    "version": 2
   },
   "file_extension": ".py",
   "mimetype": "text/x-python",
   "name": "python",
   "nbconvert_exporter": "python",
   "pygments_lexer": "ipython2",
   "version": "2.7.6"
  }
 },
 "nbformat": 4,
 "nbformat_minor": 5
}
