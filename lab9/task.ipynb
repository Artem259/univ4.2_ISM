{
 "cells": [
  {
   "cell_type": "code",
   "execution_count": 1,
   "id": "initial_id",
   "metadata": {},
   "outputs": [
    {
     "name": "stdout",
     "output_type": "stream",
     "text": [
      "WARNING:tensorflow:From C:\\GAMES and PROGRAMS\\my programs\\univ4.2\\univ4.2_ISM\\venv\\lib\\site-packages\\keras\\src\\losses.py:2976: The name tf.losses.sparse_softmax_cross_entropy is deprecated. Please use tf.compat.v1.losses.sparse_softmax_cross_entropy instead.\n",
      "\n"
     ]
    }
   ],
   "source": [
    "import numpy as np\n",
    "import pandas as pd\n",
    "import tensorflow as tf"
   ]
  },
  {
   "cell_type": "markdown",
   "id": "6a4e3aef121d31b9",
   "metadata": {
    "collapsed": false,
    "jupyter": {
     "outputs_hidden": false
    }
   },
   "source": [
    "## From Biological to Artificial Neurons"
   ]
  },
  {
   "cell_type": "markdown",
   "id": "1e69cf5a3aa9621d",
   "metadata": {
    "collapsed": false,
    "jupyter": {
     "outputs_hidden": false
    }
   },
   "source": [
    "#### The Perceptron"
   ]
  },
  {
   "cell_type": "code",
   "execution_count": 2,
   "id": "f70bc748c72744c5",
   "metadata": {
    "collapsed": false,
    "jupyter": {
     "outputs_hidden": false
    }
   },
   "outputs": [
    {
     "data": {
      "text/plain": [
       "array([5.1, 3.5, 1.4, 0.2])"
      ]
     },
     "execution_count": 2,
     "metadata": {},
     "output_type": "execute_result"
    }
   ],
   "source": [
    "from sklearn.datasets import load_iris\n",
    "from sklearn.linear_model import Perceptron\n",
    "\n",
    "iris = load_iris()\n",
    "iris.data[0]"
   ]
  },
  {
   "cell_type": "code",
   "execution_count": 3,
   "id": "547b564dd9349fdf",
   "metadata": {
    "collapsed": false,
    "jupyter": {
     "outputs_hidden": false
    }
   },
   "outputs": [
    {
     "data": {
      "text/plain": [
       "array([1])"
      ]
     },
     "execution_count": 3,
     "metadata": {},
     "output_type": "execute_result"
    }
   ],
   "source": [
    "X = iris.data[:, (2, 3)] # petal length, petal width\n",
    "y = (iris.target == 0).astype(np.int32) # Iris setosa?\n",
    "\n",
    "per_clf = Perceptron(random_state=42)\n",
    "per_clf.fit(X, y)\n",
    "\n",
    "y_pred = per_clf.predict([[2, 0.5]])\n",
    "y_pred"
   ]
  },
  {
   "cell_type": "markdown",
   "id": "5b12212405a80e87",
   "metadata": {
    "collapsed": false,
    "jupyter": {
     "outputs_hidden": false
    }
   },
   "source": [
    "## Implementing MLPs with Keras"
   ]
  },
  {
   "cell_type": "markdown",
   "id": "6ccba6578ad447b2",
   "metadata": {
    "collapsed": false,
    "jupyter": {
     "outputs_hidden": false
    }
   },
   "source": [
    "#### Building an Image Classifier Using the Sequential API"
   ]
  },
  {
   "cell_type": "markdown",
   "id": "dd40b35c0605de0b",
   "metadata": {
    "collapsed": false,
    "jupyter": {
     "outputs_hidden": false
    }
   },
   "source": [
    "##### Using Keras to load the dataset"
   ]
  },
  {
   "cell_type": "code",
   "execution_count": 4,
   "id": "b6c9708af20c086d",
   "metadata": {
    "collapsed": false,
    "jupyter": {
     "outputs_hidden": false
    }
   },
   "outputs": [],
   "source": [
    "from tensorflow import keras\n",
    "\n",
    "fashion_mnist = keras.datasets.fashion_mnist\n",
    "(X_train_full, y_train_full), (X_test, y_test) = fashion_mnist.load_data()"
   ]
  },
  {
   "cell_type": "code",
   "execution_count": 5,
   "id": "df55d896bdb8205d",
   "metadata": {
    "collapsed": false,
    "jupyter": {
     "outputs_hidden": false
    }
   },
   "outputs": [
    {
     "data": {
      "text/plain": [
       "(60000, 28, 28)"
      ]
     },
     "execution_count": 5,
     "metadata": {},
     "output_type": "execute_result"
    }
   ],
   "source": [
    "X_train_full.shape"
   ]
  },
  {
   "cell_type": "code",
   "execution_count": 6,
   "id": "999461d96364b08d",
   "metadata": {
    "collapsed": false,
    "jupyter": {
     "outputs_hidden": false
    }
   },
   "outputs": [
    {
     "data": {
      "text/plain": [
       "dtype('uint8')"
      ]
     },
     "execution_count": 6,
     "metadata": {},
     "output_type": "execute_result"
    }
   ],
   "source": [
    "X_train_full.dtype"
   ]
  },
  {
   "cell_type": "code",
   "execution_count": 7,
   "id": "61f11c8fc85d7da9",
   "metadata": {
    "collapsed": false,
    "jupyter": {
     "outputs_hidden": false
    }
   },
   "outputs": [],
   "source": [
    "X_valid, X_train = X_train_full[:5000] / 255., X_train_full[5000:] / 255.\n",
    "y_valid, y_train = y_train_full[:5000], y_train_full[5000:]\n",
    "X_test = X_test / 255."
   ]
  },
  {
   "cell_type": "code",
   "execution_count": 8,
   "id": "7b95607ddb3e37e9",
   "metadata": {
    "collapsed": false,
    "jupyter": {
     "outputs_hidden": false
    }
   },
   "outputs": [
    {
     "data": {
      "text/plain": [
       "array([4, 0, 7, ..., 3, 0, 5], dtype=uint8)"
      ]
     },
     "execution_count": 8,
     "metadata": {},
     "output_type": "execute_result"
    }
   ],
   "source": [
    "y_train"
   ]
  },
  {
   "cell_type": "code",
   "execution_count": 9,
   "id": "b5913c3abb78afd3",
   "metadata": {
    "collapsed": false,
    "jupyter": {
     "outputs_hidden": false
    }
   },
   "outputs": [],
   "source": [
    "class_names = [\"T-shirt/top\", \"Trouser\", \"Pullover\", \"Dress\", \"Coat\", \"Sandal\", \"Shirt\", \"Sneaker\", \"Bag\", \"Ankle boot\"]"
   ]
  },
  {
   "cell_type": "code",
   "execution_count": 10,
   "id": "ae497b507ddf434e",
   "metadata": {
    "collapsed": false,
    "jupyter": {
     "outputs_hidden": false
    }
   },
   "outputs": [
    {
     "data": {
      "image/png": "[encoded data removed]",
      "text/plain": [
       "<Figure size 640x480 with 1 Axes>"
      ]
     },
     "metadata": {},
     "output_type": "display_data"
    },
    {
     "data": {
      "text/plain": [
       "'Coat'"
      ]
     },
     "execution_count": 10,
     "metadata": {},
     "output_type": "execute_result"
    }
   ],
   "source": [
    "from matplotlib import pyplot as plt\n",
    "\n",
    "plt.imshow(X_train[0], cmap=\"binary\")\n",
    "plt.axis('off')\n",
    "plt.show()\n",
    "class_names[y_train[0]]"
   ]
  },
  {
   "cell_type": "markdown",
   "id": "34fae3b6f7ac9783",
   "metadata": {
    "collapsed": false,
    "jupyter": {
     "outputs_hidden": false
    }
   },
   "source": [
    "##### Creating the model using the Sequential API"
   ]
  },
  {
   "cell_type": "code",
   "execution_count": 11,
   "id": "7ce14cb1cbb2e9c6",
   "metadata": {
    "collapsed": false,
    "jupyter": {
     "outputs_hidden": false
    }
   },
   "outputs": [
    {
     "name": "stdout",
     "output_type": "stream",
     "text": [
      "WARNING:tensorflow:From C:\\GAMES and PROGRAMS\\my programs\\univ4.2\\univ4.2_ISM\\venv\\lib\\site-packages\\keras\\src\\backend.py:277: The name tf.reset_default_graph is deprecated. Please use tf.compat.v1.reset_default_graph instead.\n",
      "\n"
     ]
    }
   ],
   "source": [
    "keras.backend.clear_session()\n",
    "np.random.seed(42)\n",
    "tf.random.set_seed(42)"
   ]
  },
  {
   "cell_type": "code",
   "execution_count": 12,
   "id": "68483c36eaeb7fc9",
   "metadata": {
    "collapsed": false,
    "jupyter": {
     "outputs_hidden": false
    }
   },
   "outputs": [],
   "source": [
    "model = keras.models.Sequential()\n",
    "model.add(keras.layers.Flatten(input_shape=[28, 28]))\n",
    "model.add(keras.layers.Dense(300, activation=\"relu\"))\n",
    "model.add(keras.layers.Dense(100, activation=\"relu\"))\n",
    "model.add(keras.layers.Dense(10, activation=\"softmax\"))"
   ]
  },
  {
   "cell_type": "code",
   "execution_count": 13,
   "id": "830c6389024246ce",
   "metadata": {
    "collapsed": false,
    "jupyter": {
     "outputs_hidden": false
    }
   },
   "outputs": [
    {
     "name": "stdout",
     "output_type": "stream",
     "text": [
      "Model: \"sequential\"\n",
      "_________________________________________________________________\n",
      " Layer (type)                Output Shape              Param #   \n",
      "=================================================================\n",
      " flatten (Flatten)           (None, 784)               0         \n",
      "                                                                 \n",
      " dense (Dense)               (None, 300)               235500    \n",
      "                                                                 \n",
      " dense_1 (Dense)             (None, 100)               30100     \n",
      "                                                                 \n",
      " dense_2 (Dense)             (None, 10)                1010      \n",
      "                                                                 \n",
      "=================================================================\n",
      "Total params: 266610 (1.02 MB)\n",
      "Trainable params: 266610 (1.02 MB)\n",
      "Non-trainable params: 0 (0.00 Byte)\n",
      "_________________________________________________________________\n"
     ]
    }
   ],
   "source": [
    "model.summary()"
   ]
  },
  {
   "cell_type": "code",
   "execution_count": 14,
   "id": "7b99b6a34f2696ad",
   "metadata": {
    "collapsed": false,
    "jupyter": {
     "outputs_hidden": false
    }
   },
   "outputs": [
    {
     "data": {
      "text/plain": [
       "[<keras.src.layers.reshaping.flatten.Flatten at 0x2993cd620a0>,\n",
       " <keras.src.layers.core.dense.Dense at 0x2993cc56be0>,\n",
       " <keras.src.layers.core.dense.Dense at 0x2993cc56d90>,\n",
       " <keras.src.layers.core.dense.Dense at 0x2993cc2a640>]"
      ]
     },
     "execution_count": 14,
     "metadata": {},
     "output_type": "execute_result"
    }
   ],
   "source": [
    "model.layers"
   ]
  },
  {
   "cell_type": "code",
   "execution_count": 15,
   "id": "5de6abb04a324b4a",
   "metadata": {
    "collapsed": false,
    "jupyter": {
     "outputs_hidden": false
    }
   },
   "outputs": [
    {
     "data": {
      "text/plain": [
       "'dense'"
      ]
     },
     "execution_count": 15,
     "metadata": {},
     "output_type": "execute_result"
    }
   ],
   "source": [
    "hidden1 = model.layers[1]\n",
    "hidden1.name"
   ]
  },
  {
   "cell_type": "code",
   "execution_count": 16,
   "id": "c4f320c97879523c",
   "metadata": {
    "collapsed": false,
    "jupyter": {
     "outputs_hidden": false
    }
   },
   "outputs": [
    {
     "data": {
      "text/plain": [
       "True"
      ]
     },
     "execution_count": 16,
     "metadata": {},
     "output_type": "execute_result"
    }
   ],
   "source": [
    "model.get_layer(\"dense\") is hidden1"
   ]
  },
  {
   "cell_type": "code",
   "execution_count": 17,
   "id": "543c76548241c0f2",
   "metadata": {
    "collapsed": false,
    "jupyter": {
     "outputs_hidden": false
    }
   },
   "outputs": [],
   "source": [
    "weights, biases = hidden1.get_weights()"
   ]
  },
  {
   "cell_type": "code",
   "execution_count": 18,
   "id": "ef689b2d7b0425e9",
   "metadata": {
    "collapsed": false,
    "jupyter": {
     "outputs_hidden": false
    }
   },
   "outputs": [
    {
     "data": {
      "text/plain": [
       "(784, 300)"
      ]
     },
     "execution_count": 18,
     "metadata": {},
     "output_type": "execute_result"
    }
   ],
   "source": [
    "weights.shape"
   ]
  },
  {
   "cell_type": "code",
   "execution_count": 19,
   "id": "dcd06ebb810b82d0",
   "metadata": {
    "collapsed": false,
    "jupyter": {
     "outputs_hidden": false
    }
   },
   "outputs": [
    {
     "data": {
      "text/plain": [
       "(300,)"
      ]
     },
     "execution_count": 19,
     "metadata": {},
     "output_type": "execute_result"
    }
   ],
   "source": [
    "biases.shape"
   ]
  },
  {
   "cell_type": "markdown",
   "id": "9b8bbb0db518e6f5",
   "metadata": {
    "collapsed": false,
    "jupyter": {
     "outputs_hidden": false
    }
   },
   "source": [
    "##### Compiling the model"
   ]
  },
  {
   "cell_type": "code",
   "execution_count": 20,
   "id": "e40494a280b198fb",
   "metadata": {
    "collapsed": false,
    "jupyter": {
     "outputs_hidden": false
    }
   },
   "outputs": [],
   "source": [
    "model.compile(loss=keras.losses.sparse_categorical_crossentropy,\n",
    "              optimizer=keras.optimizers.SGD(learning_rate=0.01),\n",
    "              metrics=[\"accuracy\"])"
   ]
  },
  {
   "cell_type": "markdown",
   "id": "bb90b746afecfa8c",
   "metadata": {
    "collapsed": false,
    "jupyter": {
     "outputs_hidden": false
    }
   },
   "source": [
    "##### Training and evaluating the model"
   ]
  },
  {
   "cell_type": "code",
   "execution_count": 21,
   "id": "ab1638e29f44e5d7",
   "metadata": {
    "collapsed": false,
    "jupyter": {
     "outputs_hidden": false
    }
   },
   "outputs": [
    {
     "name": "stdout",
     "output_type": "stream",
     "text": [
      "Epoch 1/30\n",
      "WARNING:tensorflow:From C:\\GAMES and PROGRAMS\\my programs\\univ4.2\\univ4.2_ISM\\venv\\lib\\site-packages\\keras\\src\\utils\\tf_utils.py:492: The name tf.ragged.RaggedTensorValue is deprecated. Please use tf.compat.v1.ragged.RaggedTensorValue instead.\n",
      "\n",
      "WARNING:tensorflow:From C:\\GAMES and PROGRAMS\\my programs\\univ4.2\\univ4.2_ISM\\venv\\lib\\site-packages\\keras\\src\\engine\\base_layer_utils.py:384: The name tf.executing_eagerly_outside_functions is deprecated. Please use tf.compat.v1.executing_eagerly_outside_functions instead.\n",
      "\n",
      "1719/1719 [==============================] - 2s 1ms/step - loss: 0.7135 - accuracy: 0.7634 - val_loss: 0.5204 - val_accuracy: 0.8228\n",
      "Epoch 2/30\n",
      "1719/1719 [==============================] - 2s 1ms/step - loss: 0.4848 - accuracy: 0.8281 - val_loss: 0.4326 - val_accuracy: 0.8516\n",
      "Epoch 3/30\n",
      "1719/1719 [==============================] - 2s 1ms/step - loss: 0.4370 - accuracy: 0.8462 - val_loss: 0.4979 - val_accuracy: 0.8108\n",
      "Epoch 4/30\n",
      "1719/1719 [==============================] - 2s 1ms/step - loss: 0.4097 - accuracy: 0.8571 - val_loss: 0.3902 - val_accuracy: 0.8674\n",
      "Epoch 5/30\n",
      "1719/1719 [==============================] - 2s 1ms/step - loss: 0.3912 - accuracy: 0.8629 - val_loss: 0.3740 - val_accuracy: 0.8680\n",
      "Epoch 6/30\n",
      "1719/1719 [==============================] - 2s 1ms/step - loss: 0.3732 - accuracy: 0.8675 - val_loss: 0.3672 - val_accuracy: 0.8734\n",
      "Epoch 7/30\n",
      "1719/1719 [==============================] - 2s 1ms/step - loss: 0.3608 - accuracy: 0.8721 - val_loss: 0.3632 - val_accuracy: 0.8744\n",
      "Epoch 8/30\n",
      "1719/1719 [==============================] - 2s 1ms/step - loss: 0.3493 - accuracy: 0.8757 - val_loss: 0.3776 - val_accuracy: 0.8626\n",
      "Epoch 9/30\n",
      "1719/1719 [==============================] - 2s 1ms/step - loss: 0.3390 - accuracy: 0.8792 - val_loss: 0.3560 - val_accuracy: 0.8732\n",
      "Epoch 10/30\n",
      "1719/1719 [==============================] - 2s 1ms/step - loss: 0.3300 - accuracy: 0.8823 - val_loss: 0.3424 - val_accuracy: 0.8774\n",
      "Epoch 11/30\n",
      "1719/1719 [==============================] - 2s 1ms/step - loss: 0.3212 - accuracy: 0.8849 - val_loss: 0.3383 - val_accuracy: 0.8808\n",
      "Epoch 12/30\n",
      "1719/1719 [==============================] - 2s 1ms/step - loss: 0.3125 - accuracy: 0.8872 - val_loss: 0.3320 - val_accuracy: 0.8810\n",
      "Epoch 13/30\n",
      "1719/1719 [==============================] - 2s 1ms/step - loss: 0.3056 - accuracy: 0.8904 - val_loss: 0.3284 - val_accuracy: 0.8840\n",
      "Epoch 14/30\n",
      "1719/1719 [==============================] - 2s 1ms/step - loss: 0.2996 - accuracy: 0.8918 - val_loss: 0.3457 - val_accuracy: 0.8744\n",
      "Epoch 15/30\n",
      "1719/1719 [==============================] - 2s 1ms/step - loss: 0.2921 - accuracy: 0.8944 - val_loss: 0.3310 - val_accuracy: 0.8808\n",
      "Epoch 16/30\n",
      "1719/1719 [==============================] - 2s 1ms/step - loss: 0.2871 - accuracy: 0.8972 - val_loss: 0.3112 - val_accuracy: 0.8890\n",
      "Epoch 17/30\n",
      "1719/1719 [==============================] - 2s 1ms/step - loss: 0.2815 - accuracy: 0.8979 - val_loss: 0.3499 - val_accuracy: 0.8764\n",
      "Epoch 18/30\n",
      "1719/1719 [==============================] - 2s 1ms/step - loss: 0.2757 - accuracy: 0.9007 - val_loss: 0.3157 - val_accuracy: 0.8906\n",
      "Epoch 19/30\n",
      "1719/1719 [==============================] - 2s 1ms/step - loss: 0.2708 - accuracy: 0.9025 - val_loss: 0.3089 - val_accuracy: 0.8906\n",
      "Epoch 20/30\n",
      "1719/1719 [==============================] - 2s 1ms/step - loss: 0.2654 - accuracy: 0.9039 - val_loss: 0.3309 - val_accuracy: 0.8802\n",
      "Epoch 21/30\n",
      "1719/1719 [==============================] - 2s 1ms/step - loss: 0.2606 - accuracy: 0.9058 - val_loss: 0.3027 - val_accuracy: 0.8932\n",
      "Epoch 22/30\n",
      "1719/1719 [==============================] - 2s 1ms/step - loss: 0.2559 - accuracy: 0.9074 - val_loss: 0.2956 - val_accuracy: 0.8962\n",
      "Epoch 23/30\n",
      "1719/1719 [==============================] - 2s 1ms/step - loss: 0.2517 - accuracy: 0.9081 - val_loss: 0.3015 - val_accuracy: 0.8944\n",
      "Epoch 24/30\n",
      "1719/1719 [==============================] - 2s 1ms/step - loss: 0.2475 - accuracy: 0.9110 - val_loss: 0.3134 - val_accuracy: 0.8882\n",
      "Epoch 25/30\n",
      "1719/1719 [==============================] - 2s 1ms/step - loss: 0.2432 - accuracy: 0.9112 - val_loss: 0.2983 - val_accuracy: 0.8942\n",
      "Epoch 26/30\n",
      "1719/1719 [==============================] - 2s 1ms/step - loss: 0.2391 - accuracy: 0.9140 - val_loss: 0.3009 - val_accuracy: 0.8936\n",
      "Epoch 27/30\n",
      "1719/1719 [==============================] - 2s 1ms/step - loss: 0.2355 - accuracy: 0.9148 - val_loss: 0.3013 - val_accuracy: 0.8938\n",
      "Epoch 28/30\n",
      "1719/1719 [==============================] - 2s 1ms/step - loss: 0.2322 - accuracy: 0.9163 - val_loss: 0.3014 - val_accuracy: 0.8912\n",
      "Epoch 29/30\n",
      "1719/1719 [==============================] - 2s 1ms/step - loss: 0.2277 - accuracy: 0.9182 - val_loss: 0.3110 - val_accuracy: 0.8886\n",
      "Epoch 30/30\n",
      "1719/1719 [==============================] - 2s 1ms/step - loss: 0.2244 - accuracy: 0.9185 - val_loss: 0.3118 - val_accuracy: 0.8936\n"
     ]
    }
   ],
   "source": [
    "history = model.fit(X_train, y_train, epochs=30, validation_data=(X_valid, y_valid))"
   ]
  },
  {
   "cell_type": "code",
   "execution_count": 22,
   "id": "fabffeea10649f46",
   "metadata": {
    "collapsed": false,
    "jupyter": {
     "outputs_hidden": false
    }
   },
   "outputs": [
    {
     "data": {
      "text/plain": [
       "{'verbose': 1, 'epochs': 30, 'steps': 1719}"
      ]
     },
     "execution_count": 22,
     "metadata": {},
     "output_type": "execute_result"
    }
   ],
   "source": [
    "history.params"
   ]
  },
  {
   "cell_type": "code",
   "execution_count": 23,
   "id": "51a23506d5108e1",
   "metadata": {
    "collapsed": false,
    "jupyter": {
     "outputs_hidden": false
    }
   },
   "outputs": [
    {
     "data": {
      "text/plain": [
       "30"
      ]
     },
     "execution_count": 23,
     "metadata": {},
     "output_type": "execute_result"
    }
   ],
   "source": [
    "len(history.epoch)"
   ]
  },
  {
   "cell_type": "code",
   "execution_count": 24,
   "id": "74866b1b66c2d3a8",
   "metadata": {
    "collapsed": false,
    "jupyter": {
     "outputs_hidden": false
    }
   },
   "outputs": [
    {
     "data": {
      "text/plain": [
       "dict_keys(['loss', 'accuracy', 'val_loss', 'val_accuracy'])"
      ]
     },
     "execution_count": 24,
     "metadata": {},
     "output_type": "execute_result"
    }
   ],
   "source": [
    "history.history.keys()"
   ]
  },
  {
   "cell_type": "code",
   "execution_count": 25,
   "id": "bc8f465e0085ce6e",
   "metadata": {
    "collapsed": false,
    "jupyter": {
     "outputs_hidden": false
    }
   },
   "outputs": [
    {
     "data": {
      "image/png": "[encoded data removed]",
      "text/plain": [
       "<Figure size 800x500 with 1 Axes>"
      ]
     },
     "metadata": {},
     "output_type": "display_data"
    }
   ],
   "source": [
    "pd.DataFrame(history.history).plot(figsize=(8, 5))\n",
    "plt.grid(True)\n",
    "plt.gca().set_ylim(0, 1) # set the vertical range to [0-1]\n",
    "plt.show()"
   ]
  },
  {
   "cell_type": "code",
   "execution_count": 26,
   "id": "c2ecaf9ba80ba35",
   "metadata": {
    "collapsed": false,
    "jupyter": {
     "outputs_hidden": false
    }
   },
   "outputs": [
    {
     "name": "stdout",
     "output_type": "stream",
     "text": [
      "313/313 [==============================] - 0s 774us/step - loss: 0.3444 - accuracy: 0.8796\n"
     ]
    },
    {
     "data": {
      "text/plain": [
       "[0.34439557790756226, 0.8795999884605408]"
      ]
     },
     "execution_count": 26,
     "metadata": {},
     "output_type": "execute_result"
    }
   ],
   "source": [
    "model.evaluate(X_test, y_test)"
   ]
  },
  {
   "cell_type": "markdown",
   "id": "db2c144831b71a26",
   "metadata": {
    "collapsed": false,
    "jupyter": {
     "outputs_hidden": false
    }
   },
   "source": [
    "##### Using the model to make predictions"
   ]
  },
  {
   "cell_type": "code",
   "execution_count": 27,
   "id": "ba3d8414ecf4d3a9",
   "metadata": {
    "collapsed": false,
    "jupyter": {
     "outputs_hidden": false
    }
   },
   "outputs": [
    {
     "data": {
      "text/plain": [
       "array([[0.  , 0.  , 0.  , 0.  , 0.  , 0.01, 0.  , 0.02, 0.  , 0.98],\n",
       "       [0.  , 0.  , 1.  , 0.  , 0.  , 0.  , 0.  , 0.  , 0.  , 0.  ],\n",
       "       [0.  , 1.  , 0.  , 0.  , 0.  , 0.  , 0.  , 0.  , 0.  , 0.  ]],\n",
       "      dtype=float32)"
      ]
     },
     "execution_count": 27,
     "metadata": {},
     "output_type": "execute_result"
    }
   ],
   "source": [
    "X_new = X_test[:3]\n",
    "y_proba = model.predict(X_new, verbose=0)\n",
    "y_proba.round(2)"
   ]
  },
  {
   "cell_type": "code",
   "execution_count": 28,
   "id": "4abbb7aef9aece9a",
   "metadata": {
    "collapsed": false,
    "jupyter": {
     "outputs_hidden": false
    }
   },
   "outputs": [
    {
     "data": {
      "text/plain": [
       "array([9, 2, 1], dtype=int64)"
      ]
     },
     "execution_count": 28,
     "metadata": {},
     "output_type": "execute_result"
    }
   ],
   "source": [
    "y_pred = np.argmax(model.predict(X_new, verbose=0), axis=-1)\n",
    "y_pred"
   ]
  },
  {
   "cell_type": "code",
   "execution_count": 29,
   "id": "2ef2b995d2ddb902",
   "metadata": {
    "collapsed": false,
    "jupyter": {
     "outputs_hidden": false
    }
   },
   "outputs": [
    {
     "data": {
      "text/plain": [
       "array(['Ankle boot', 'Pullover', 'Trouser'], dtype='<U11')"
      ]
     },
     "execution_count": 29,
     "metadata": {},
     "output_type": "execute_result"
    }
   ],
   "source": [
    "np.array(class_names)[y_pred]"
   ]
  },
  {
   "cell_type": "code",
   "execution_count": 30,
   "id": "4051869ba49eb95",
   "metadata": {
    "collapsed": false,
    "jupyter": {
     "outputs_hidden": false
    }
   },
   "outputs": [
    {
     "data": {
      "text/plain": [
       "array([9, 2, 1], dtype=uint8)"
      ]
     },
     "execution_count": 30,
     "metadata": {},
     "output_type": "execute_result"
    }
   ],
   "source": [
    "y_new = y_test[:3]\n",
    "y_new"
   ]
  },
  {
   "cell_type": "markdown",
   "id": "589dcd4fb1aa62b4",
   "metadata": {
    "collapsed": false,
    "jupyter": {
     "outputs_hidden": false
    }
   },
   "source": [
    "#### Building a Regression MLP Using the Sequential API"
   ]
  },
  {
   "cell_type": "code",
   "execution_count": 31,
   "id": "f155ec360cb4f242",
   "metadata": {
    "collapsed": false,
    "jupyter": {
     "outputs_hidden": false
    }
   },
   "outputs": [],
   "source": [
    "from sklearn.datasets import fetch_california_housing\n",
    "from sklearn.model_selection import train_test_split\n",
    "from sklearn.preprocessing import StandardScaler\n",
    "\n",
    "housing = fetch_california_housing()\n",
    "\n",
    "X_train_full, X_test, y_train_full, y_test = train_test_split(housing.data, housing.target, random_state=42)\n",
    "X_train, X_valid, y_train, y_valid = train_test_split(X_train_full, y_train_full, random_state=42)\n",
    "\n",
    "scaler = StandardScaler()\n",
    "X_train = scaler.fit_transform(X_train)\n",
    "X_valid = scaler.transform(X_valid)\n",
    "X_test = scaler.transform(X_test)"
   ]
  },
  {
   "cell_type": "code",
   "execution_count": 32,
   "id": "937d67c76dd5a93f",
   "metadata": {
    "collapsed": false,
    "jupyter": {
     "outputs_hidden": false
    }
   },
   "outputs": [
    {
     "name": "stdout",
     "output_type": "stream",
     "text": [
      "Epoch 1/20\n",
      "363/363 [==============================] - 1s 981us/step - loss: 2.0284 - val_loss: 1.6952\n",
      "Epoch 2/20\n",
      "363/363 [==============================] - 0s 815us/step - loss: 0.7961 - val_loss: 0.7315\n",
      "Epoch 3/20\n",
      "363/363 [==============================] - 0s 773us/step - loss: 0.7056 - val_loss: 0.6891\n",
      "Epoch 4/20\n",
      "363/363 [==============================] - 0s 776us/step - loss: 0.6606 - val_loss: 0.6094\n",
      "Epoch 5/20\n",
      "363/363 [==============================] - 0s 795us/step - loss: 0.6234 - val_loss: 0.5734\n",
      "Epoch 6/20\n",
      "363/363 [==============================] - 0s 782us/step - loss: 0.5919 - val_loss: 0.5544\n",
      "Epoch 7/20\n",
      "363/363 [==============================] - 0s 765us/step - loss: 0.5674 - val_loss: 0.5499\n",
      "Epoch 8/20\n",
      "363/363 [==============================] - 0s 803us/step - loss: 0.5478 - val_loss: 0.5056\n",
      "Epoch 9/20\n",
      "363/363 [==============================] - 0s 876us/step - loss: 0.5305 - val_loss: 0.4951\n",
      "Epoch 10/20\n",
      "363/363 [==============================] - 0s 796us/step - loss: 0.5162 - val_loss: 0.4871\n",
      "Epoch 11/20\n",
      "363/363 [==============================] - 0s 796us/step - loss: 0.5041 - val_loss: 0.4747\n",
      "Epoch 12/20\n",
      "363/363 [==============================] - 0s 788us/step - loss: 0.4929 - val_loss: 0.4673\n",
      "Epoch 13/20\n",
      "363/363 [==============================] - 0s 867us/step - loss: 0.4836 - val_loss: 0.4465\n",
      "Epoch 14/20\n",
      "363/363 [==============================] - 0s 786us/step - loss: 0.4749 - val_loss: 0.4394\n",
      "Epoch 15/20\n",
      "363/363 [==============================] - 0s 815us/step - loss: 0.4673 - val_loss: 0.4344\n",
      "Epoch 16/20\n",
      "363/363 [==============================] - 0s 769us/step - loss: 0.4607 - val_loss: 0.4268\n",
      "Epoch 17/20\n",
      "363/363 [==============================] - 0s 831us/step - loss: 0.4549 - val_loss: 0.4248\n",
      "Epoch 18/20\n",
      "363/363 [==============================] - 0s 788us/step - loss: 0.4496 - val_loss: 0.4248\n",
      "Epoch 19/20\n",
      "363/363 [==============================] - 0s 751us/step - loss: 0.4448 - val_loss: 0.4127\n",
      "Epoch 20/20\n",
      "363/363 [==============================] - 0s 781us/step - loss: 0.4408 - val_loss: 0.4243\n"
     ]
    }
   ],
   "source": [
    "model = keras.models.Sequential([\n",
    "    keras.layers.Dense(30, activation=\"relu\", input_shape=X_train.shape[1:]),\n",
    "    keras.layers.Dense(1)\n",
    "])\n",
    "model.compile(loss=\"mean_squared_error\", optimizer=keras.optimizers.SGD(learning_rate=1e-3))\n",
    "history = model.fit(X_train, y_train, epochs=20, validation_data=(X_valid, y_valid))"
   ]
  },
  {
   "cell_type": "code",
   "execution_count": 33,
   "id": "882dffcacb829a90",
   "metadata": {
    "collapsed": false,
    "jupyter": {
     "outputs_hidden": false
    }
   },
   "outputs": [
    {
     "data": {
      "image/png": "[encoded data removed]",
      "text/plain": [
       "<Figure size 640x480 with 1 Axes>"
      ]
     },
     "metadata": {},
     "output_type": "display_data"
    }
   ],
   "source": [
    "plt.plot(pd.DataFrame(history.history))\n",
    "plt.grid(True)\n",
    "plt.gca().set_ylim(0, 1)\n",
    "plt.show()"
   ]
  },
  {
   "cell_type": "code",
   "execution_count": 34,
   "id": "b4ce1684c39ddaf2",
   "metadata": {
    "collapsed": false,
    "jupyter": {
     "outputs_hidden": false
    }
   },
   "outputs": [
    {
     "name": "stdout",
     "output_type": "stream",
     "text": [
      "162/162 [==============================] - 0s 534us/step - loss: 0.4378\n"
     ]
    },
    {
     "data": {
      "text/plain": [
       "0.4378136396408081"
      ]
     },
     "execution_count": 34,
     "metadata": {},
     "output_type": "execute_result"
    }
   ],
   "source": [
    "model.evaluate(X_test, y_test)"
   ]
  },
  {
   "cell_type": "code",
   "execution_count": 35,
   "id": "4507daff65b29270",
   "metadata": {
    "collapsed": false,
    "jupyter": {
     "outputs_hidden": false
    }
   },
   "outputs": [
    {
     "data": {
      "text/plain": [
       "array([[0.5926507],\n",
       "       [1.6693637],\n",
       "       [3.3452914]], dtype=float32)"
      ]
     },
     "execution_count": 35,
     "metadata": {},
     "output_type": "execute_result"
    }
   ],
   "source": [
    "X_new = X_test[:3]\n",
    "y_pred = model.predict(X_new, verbose=0)\n",
    "y_pred"
   ]
  },
  {
   "cell_type": "code",
   "execution_count": 36,
   "id": "bb0c4c02116fb013",
   "metadata": {
    "collapsed": false,
    "jupyter": {
     "outputs_hidden": false
    }
   },
   "outputs": [
    {
     "data": {
      "text/plain": [
       "array([0.477  , 0.458  , 5.00001])"
      ]
     },
     "execution_count": 36,
     "metadata": {},
     "output_type": "execute_result"
    }
   ],
   "source": [
    "y_new = y_test[:3]\n",
    "y_new"
   ]
  },
  {
   "cell_type": "markdown",
   "id": "a44fdd443314daf",
   "metadata": {
    "collapsed": false,
    "jupyter": {
     "outputs_hidden": false
    }
   },
   "source": [
    "#### Building Complex Models Using the Functional API"
   ]
  },
  {
   "cell_type": "code",
   "execution_count": 37,
   "id": "cec46e47eafd4b0f",
   "metadata": {
    "collapsed": false,
    "jupyter": {
     "outputs_hidden": false
    }
   },
   "outputs": [],
   "source": [
    "input_ = keras.layers.Input(shape=X_train.shape[1:])\n",
    "hidden1 = keras.layers.Dense(30, activation=\"relu\")(input_)\n",
    "hidden2 = keras.layers.Dense(30, activation=\"relu\")(hidden1)\n",
    "concat = keras.layers.concatenate([input_, hidden2])\n",
    "output = keras.layers.Dense(1)(concat)\n",
    "model = keras.models.Model(inputs=[input_], outputs=[output])"
   ]
  },
  {
   "cell_type": "code",
   "execution_count": 38,
   "id": "4e4f3da528581633",
   "metadata": {
    "collapsed": false,
    "jupyter": {
     "outputs_hidden": false
    }
   },
   "outputs": [
    {
     "name": "stdout",
     "output_type": "stream",
     "text": [
      "Model: \"model\"\n",
      "__________________________________________________________________________________________________\n",
      " Layer (type)                Output Shape                 Param #   Connected to                  \n",
      "==================================================================================================\n",
      " input_1 (InputLayer)        [(None, 8)]                  0         []                            \n",
      "                                                                                                  \n",
      " dense_5 (Dense)             (None, 30)                   270       ['input_1[0][0]']             \n",
      "                                                                                                  \n",
      " dense_6 (Dense)             (None, 30)                   930       ['dense_5[0][0]']             \n",
      "                                                                                                  \n",
      " concatenate (Concatenate)   (None, 38)                   0         ['input_1[0][0]',             \n",
      "                                                                     'dense_6[0][0]']             \n",
      "                                                                                                  \n",
      " dense_7 (Dense)             (None, 1)                    39        ['concatenate[0][0]']         \n",
      "                                                                                                  \n",
      "==================================================================================================\n",
      "Total params: 1239 (4.84 KB)\n",
      "Trainable params: 1239 (4.84 KB)\n",
      "Non-trainable params: 0 (0.00 Byte)\n",
      "__________________________________________________________________________________________________\n"
     ]
    }
   ],
   "source": [
    "model.summary()"
   ]
  },
  {
   "cell_type": "code",
   "execution_count": 39,
   "id": "c68bdad084ac1afb",
   "metadata": {
    "collapsed": false,
    "jupyter": {
     "outputs_hidden": false
    }
   },
   "outputs": [],
   "source": [
    "input_A = keras.layers.Input(shape=[5], name=\"wide_input\")\n",
    "input_B = keras.layers.Input(shape=[6], name=\"deep_input\")\n",
    "hidden1 = keras.layers.Dense(30, activation=\"relu\")(input_B)\n",
    "hidden2 = keras.layers.Dense(30, activation=\"relu\")(hidden1)\n",
    "concat = keras.layers.concatenate([input_A, hidden2])\n",
    "output = keras.layers.Dense(1, name=\"output\")(concat)\n",
    "model = keras.models.Model(inputs=[input_A, input_B], outputs=[output])"
   ]
  },
  {
   "cell_type": "code",
   "execution_count": 40,
   "id": "c7c9f34cdf09a11d",
   "metadata": {
    "collapsed": false,
    "jupyter": {
     "outputs_hidden": false
    }
   },
   "outputs": [
    {
     "name": "stdout",
     "output_type": "stream",
     "text": [
      "Model: \"model_1\"\n",
      "__________________________________________________________________________________________________\n",
      " Layer (type)                Output Shape                 Param #   Connected to                  \n",
      "==================================================================================================\n",
      " deep_input (InputLayer)     [(None, 6)]                  0         []                            \n",
      "                                                                                                  \n",
      " dense_8 (Dense)             (None, 30)                   210       ['deep_input[0][0]']          \n",
      "                                                                                                  \n",
      " wide_input (InputLayer)     [(None, 5)]                  0         []                            \n",
      "                                                                                                  \n",
      " dense_9 (Dense)             (None, 30)                   930       ['dense_8[0][0]']             \n",
      "                                                                                                  \n",
      " concatenate_1 (Concatenate  (None, 35)                   0         ['wide_input[0][0]',          \n",
      " )                                                                   'dense_9[0][0]']             \n",
      "                                                                                                  \n",
      " output (Dense)              (None, 1)                    36        ['concatenate_1[0][0]']       \n",
      "                                                                                                  \n",
      "==================================================================================================\n",
      "Total params: 1176 (4.59 KB)\n",
      "Trainable params: 1176 (4.59 KB)\n",
      "Non-trainable params: 0 (0.00 Byte)\n",
      "__________________________________________________________________________________________________\n"
     ]
    }
   ],
   "source": [
    "model.summary()"
   ]
  },
  {
   "cell_type": "code",
   "execution_count": 41,
   "id": "1a5b90320a76d2ba",
   "metadata": {
    "collapsed": false,
    "jupyter": {
     "outputs_hidden": false
    }
   },
   "outputs": [
    {
     "name": "stdout",
     "output_type": "stream",
     "text": [
      "Epoch 1/20\n",
      "363/363 [==============================] - 1s 1ms/step - loss: 2.0445 - val_loss: 0.8698\n",
      "Epoch 2/20\n",
      "363/363 [==============================] - 0s 867us/step - loss: 0.7261 - val_loss: 0.6720\n",
      "Epoch 3/20\n",
      "363/363 [==============================] - 0s 866us/step - loss: 0.6082 - val_loss: 0.5813\n",
      "Epoch 4/20\n",
      "363/363 [==============================] - 0s 936us/step - loss: 0.5626 - val_loss: 0.5210\n",
      "Epoch 5/20\n",
      "363/363 [==============================] - 0s 937us/step - loss: 0.5374 - val_loss: 0.4933\n",
      "Epoch 6/20\n",
      "363/363 [==============================] - 0s 866us/step - loss: 0.5146 - val_loss: 0.4751\n",
      "Epoch 7/20\n",
      "363/363 [==============================] - 0s 872us/step - loss: 0.4994 - val_loss: 0.4616\n",
      "Epoch 8/20\n",
      "363/363 [==============================] - 0s 858us/step - loss: 0.4837 - val_loss: 0.4448\n",
      "Epoch 9/20\n",
      "363/363 [==============================] - 0s 859us/step - loss: 0.4694 - val_loss: 0.4324\n",
      "Epoch 10/20\n",
      "363/363 [==============================] - 0s 837us/step - loss: 0.4586 - val_loss: 0.4211\n",
      "Epoch 11/20\n",
      "363/363 [==============================] - 0s 851us/step - loss: 0.4492 - val_loss: 0.4161\n",
      "Epoch 12/20\n",
      "363/363 [==============================] - 0s 928us/step - loss: 0.4425 - val_loss: 0.4095\n",
      "Epoch 13/20\n",
      "363/363 [==============================] - 0s 891us/step - loss: 0.4373 - val_loss: 0.4057\n",
      "Epoch 14/20\n",
      "363/363 [==============================] - 0s 856us/step - loss: 0.4339 - val_loss: 0.4005\n",
      "Epoch 15/20\n",
      "363/363 [==============================] - 0s 894us/step - loss: 0.4304 - val_loss: 0.3993\n",
      "Epoch 16/20\n",
      "363/363 [==============================] - 0s 854us/step - loss: 0.4280 - val_loss: 0.3950\n",
      "Epoch 17/20\n",
      "363/363 [==============================] - 0s 843us/step - loss: 0.4255 - val_loss: 0.4015\n",
      "Epoch 18/20\n",
      "363/363 [==============================] - 0s 854us/step - loss: 0.4242 - val_loss: 0.3979\n",
      "Epoch 19/20\n",
      "363/363 [==============================] - 0s 862us/step - loss: 0.4219 - val_loss: 0.3944\n",
      "Epoch 20/20\n",
      "363/363 [==============================] - 0s 836us/step - loss: 0.4207 - val_loss: 0.4243\n"
     ]
    }
   ],
   "source": [
    "model.compile(loss=\"mse\", optimizer=keras.optimizers.SGD(learning_rate=1e-3))\n",
    "\n",
    "X_train_A, X_train_B = X_train[:, :5], X_train[:, 2:]\n",
    "X_valid_A, X_valid_B = X_valid[:, :5], X_valid[:, 2:]\n",
    "X_test_A, X_test_B = X_test[:, :5], X_test[:, 2:]\n",
    "X_new_A, X_new_B = X_test_A[:3], X_test_B[:3]\n",
    "\n",
    "model.fit((X_train_A, X_train_B), y_train, epochs=20, \n",
    "          validation_data=((X_valid_A, X_valid_B), y_valid));"
   ]
  },
  {
   "cell_type": "code",
   "execution_count": 42,
   "id": "8fd57d74990dea1b",
   "metadata": {
    "collapsed": false,
    "jupyter": {
     "outputs_hidden": false
    }
   },
   "outputs": [
    {
     "name": "stdout",
     "output_type": "stream",
     "text": [
      "162/162 [==============================] - 0s 559us/step - loss: 0.4172\n"
     ]
    },
    {
     "data": {
      "text/plain": [
       "0.4172118306159973"
      ]
     },
     "execution_count": 42,
     "metadata": {},
     "output_type": "execute_result"
    }
   ],
   "source": [
    "model.evaluate((X_test_A, X_test_B), y_test)"
   ]
  },
  {
   "cell_type": "code",
   "execution_count": 43,
   "id": "3735e8379a02c35e",
   "metadata": {
    "collapsed": false,
    "jupyter": {
     "outputs_hidden": false
    }
   },
   "outputs": [
    {
     "data": {
      "text/plain": [
       "array([[0.4081626],\n",
       "       [1.9475429],\n",
       "       [3.2027707]], dtype=float32)"
      ]
     },
     "execution_count": 43,
     "metadata": {},
     "output_type": "execute_result"
    }
   ],
   "source": [
    "y_pred = model.predict((X_new_A, X_new_B), verbose=0)\n",
    "y_pred"
   ]
  },
  {
   "cell_type": "code",
   "execution_count": 44,
   "id": "6d77d73f2128022c",
   "metadata": {
    "collapsed": false,
    "jupyter": {
     "outputs_hidden": false
    }
   },
   "outputs": [
    {
     "name": "stdout",
     "output_type": "stream",
     "text": [
      "Epoch 1/20\n",
      "363/363 [==============================] - 1s 1ms/step - loss: 2.7090 - main_output_loss: 2.2596 - aux_output_loss: 6.7533 - val_loss: 1.4732 - val_main_output_loss: 1.0676 - val_aux_output_loss: 5.1229\n",
      "Epoch 2/20\n",
      "363/363 [==============================] - 0s 994us/step - loss: 1.1218 - main_output_loss: 0.7941 - aux_output_loss: 4.0713 - val_loss: 0.9678 - val_main_output_loss: 0.7124 - val_aux_output_loss: 3.2664\n",
      "Epoch 3/20\n",
      "363/363 [==============================] - 0s 926us/step - loss: 0.8768 - main_output_loss: 0.6755 - aux_output_loss: 2.6886 - val_loss: 0.8699 - val_main_output_loss: 0.6451 - val_aux_output_loss: 2.8936\n",
      "Epoch 4/20\n",
      "363/363 [==============================] - 0s 933us/step - loss: 0.7669 - main_output_loss: 0.6272 - aux_output_loss: 2.0245 - val_loss: 0.8117 - val_main_output_loss: 0.5980 - val_aux_output_loss: 2.7350\n",
      "Epoch 5/20\n",
      "363/363 [==============================] - 0s 944us/step - loss: 0.7071 - main_output_loss: 0.5970 - aux_output_loss: 1.6975 - val_loss: 0.7753 - val_main_output_loss: 0.5674 - val_aux_output_loss: 2.6459\n",
      "Epoch 6/20\n",
      "363/363 [==============================] - 0s 938us/step - loss: 0.6692 - main_output_loss: 0.5737 - aux_output_loss: 1.5287 - val_loss: 0.7426 - val_main_output_loss: 0.5463 - val_aux_output_loss: 2.5092\n",
      "Epoch 7/20\n",
      "363/363 [==============================] - 0s 910us/step - loss: 0.6421 - main_output_loss: 0.5544 - aux_output_loss: 1.4307 - val_loss: 0.7113 - val_main_output_loss: 0.5256 - val_aux_output_loss: 2.3828\n",
      "Epoch 8/20\n",
      "363/363 [==============================] - 0s 957us/step - loss: 0.6209 - main_output_loss: 0.5381 - aux_output_loss: 1.3660 - val_loss: 0.6788 - val_main_output_loss: 0.5091 - val_aux_output_loss: 2.2061\n",
      "Epoch 9/20\n",
      "363/363 [==============================] - 0s 947us/step - loss: 0.6028 - main_output_loss: 0.5233 - aux_output_loss: 1.3185 - val_loss: 0.6499 - val_main_output_loss: 0.4950 - val_aux_output_loss: 2.0434\n",
      "Epoch 10/20\n",
      "363/363 [==============================] - 0s 964us/step - loss: 0.5874 - main_output_loss: 0.5104 - aux_output_loss: 1.2804 - val_loss: 0.6238 - val_main_output_loss: 0.4816 - val_aux_output_loss: 1.9037\n",
      "Epoch 11/20\n",
      "363/363 [==============================] - 0s 983us/step - loss: 0.5743 - main_output_loss: 0.4995 - aux_output_loss: 1.2479 - val_loss: 0.6041 - val_main_output_loss: 0.4724 - val_aux_output_loss: 1.7896\n",
      "Epoch 12/20\n",
      "363/363 [==============================] - 0s 1ms/step - loss: 0.5625 - main_output_loss: 0.4896 - aux_output_loss: 1.2191 - val_loss: 0.5851 - val_main_output_loss: 0.4633 - val_aux_output_loss: 1.6810\n",
      "Epoch 13/20\n",
      "363/363 [==============================] - 0s 974us/step - loss: 0.5523 - main_output_loss: 0.4811 - aux_output_loss: 1.1931 - val_loss: 0.5697 - val_main_output_loss: 0.4573 - val_aux_output_loss: 1.5817\n",
      "Epoch 14/20\n",
      "363/363 [==============================] - 0s 963us/step - loss: 0.5433 - main_output_loss: 0.4740 - aux_output_loss: 1.1676 - val_loss: 0.5537 - val_main_output_loss: 0.4466 - val_aux_output_loss: 1.5176\n",
      "Epoch 15/20\n",
      "363/363 [==============================] - 0s 910us/step - loss: 0.5353 - main_output_loss: 0.4676 - aux_output_loss: 1.1443 - val_loss: 0.5409 - val_main_output_loss: 0.4422 - val_aux_output_loss: 1.4294\n",
      "Epoch 16/20\n",
      "363/363 [==============================] - 0s 970us/step - loss: 0.5282 - main_output_loss: 0.4621 - aux_output_loss: 1.1226 - val_loss: 0.5281 - val_main_output_loss: 0.4348 - val_aux_output_loss: 1.3681\n",
      "Epoch 17/20\n",
      "363/363 [==============================] - 0s 942us/step - loss: 0.5218 - main_output_loss: 0.4574 - aux_output_loss: 1.1013 - val_loss: 0.5182 - val_main_output_loss: 0.4305 - val_aux_output_loss: 1.3069\n",
      "Epoch 18/20\n",
      "363/363 [==============================] - 0s 910us/step - loss: 0.5159 - main_output_loss: 0.4531 - aux_output_loss: 1.0806 - val_loss: 0.5089 - val_main_output_loss: 0.4264 - val_aux_output_loss: 1.2522\n",
      "Epoch 19/20\n",
      "363/363 [==============================] - 0s 1ms/step - loss: 0.5103 - main_output_loss: 0.4491 - aux_output_loss: 1.0609 - val_loss: 0.5004 - val_main_output_loss: 0.4219 - val_aux_output_loss: 1.2070\n",
      "Epoch 20/20\n",
      "363/363 [==============================] - 0s 938us/step - loss: 0.5058 - main_output_loss: 0.4462 - aux_output_loss: 1.0426 - val_loss: 0.5035 - val_main_output_loss: 0.4319 - val_aux_output_loss: 1.1480\n"
     ]
    }
   ],
   "source": [
    "input_A = keras.layers.Input(shape=[5], name=\"wide_input\")\n",
    "input_B = keras.layers.Input(shape=[6], name=\"deep_input\")\n",
    "hidden1 = keras.layers.Dense(30, activation=\"relu\")(input_B)\n",
    "hidden2 = keras.layers.Dense(30, activation=\"relu\")(hidden1)\n",
    "concat = keras.layers.concatenate([input_A, hidden2])\n",
    "output = keras.layers.Dense(1, name=\"main_output\")(concat)\n",
    "aux_output = keras.layers.Dense(1, name=\"aux_output\")(hidden2)\n",
    "model = keras.models.Model(inputs=[input_A, input_B], outputs=[output, aux_output])\n",
    "\n",
    "model.compile(loss=[\"mse\", \"mse\"], loss_weights=[0.9, 0.1], optimizer=keras.optimizers.SGD(learning_rate=1e-3))\n",
    "model.fit([X_train_A, X_train_B], [y_train, y_train], epochs=20, \n",
    "          validation_data=([X_valid_A, X_valid_B], [y_valid, y_valid]));"
   ]
  },
  {
   "cell_type": "code",
   "execution_count": 45,
   "id": "6b6eef4c61029c02",
   "metadata": {
    "collapsed": false,
    "jupyter": {
     "outputs_hidden": false
    }
   },
   "outputs": [
    {
     "name": "stdout",
     "output_type": "stream",
     "text": [
      "162/162 [==============================] - 0s 600us/step - loss: 0.4951 - main_output_loss: 0.4373 - aux_output_loss: 1.0154\n"
     ]
    },
    {
     "data": {
      "text/plain": [
       "[0.49507513642311096, 0.43725845217704773, 1.0154237747192383]"
      ]
     },
     "execution_count": 45,
     "metadata": {},
     "output_type": "execute_result"
    }
   ],
   "source": [
    "model.evaluate([X_test_A, X_test_B], [y_test, y_test]) # total_loss, main_loss, aux_loss"
   ]
  },
  {
   "cell_type": "code",
   "execution_count": 46,
   "id": "d208b808681faae1",
   "metadata": {
    "collapsed": false,
    "jupyter": {
     "outputs_hidden": false
    }
   },
   "outputs": [
    {
     "data": {
      "text/plain": [
       "(array([[0.5986124],\n",
       "        [1.85446  ],\n",
       "        [3.3311796]], dtype=float32),\n",
       " array([[1.3850359],\n",
       "        [1.943497 ],\n",
       "        [2.4332373]], dtype=float32))"
      ]
     },
     "execution_count": 46,
     "metadata": {},
     "output_type": "execute_result"
    }
   ],
   "source": [
    "y_pred_main, y_pred_aux = model.predict((X_new_A, X_new_B), verbose=0)\n",
    "y_pred_main, y_pred_aux"
   ]
  },
  {
   "cell_type": "markdown",
   "id": "2fc0a47ddc167d49",
   "metadata": {
    "collapsed": false,
    "jupyter": {
     "outputs_hidden": false
    }
   },
   "source": [
    "#### Using the Subclassing API to Build Dynamic Models"
   ]
  },
  {
   "cell_type": "code",
   "execution_count": 47,
   "id": "4c38574b47f7dd1f",
   "metadata": {
    "collapsed": false,
    "jupyter": {
     "outputs_hidden": false
    }
   },
   "outputs": [],
   "source": [
    "class WideAndDeepModel(keras.models.Model):\n",
    "    def __init__(self, units=30, activation=\"relu\", **kwargs):\n",
    "        super().__init__(**kwargs)\n",
    "        self.hidden1 = keras.layers.Dense(units, activation=activation)\n",
    "        self.hidden2 = keras.layers.Dense(units, activation=activation)\n",
    "        self.main_output = keras.layers.Dense(1)\n",
    "        self.aux_output = keras.layers.Dense(1)\n",
    "    \n",
    "    def call(self, inputs, training=None, mask=None):\n",
    "        input_A, input_B = inputs\n",
    "        hidden1 = self.hidden1(input_B)\n",
    "        hidden2 = self.hidden2(hidden1)\n",
    "        concat = keras.layers.concatenate([input_A, hidden2])\n",
    "        main_output = self.main_output(concat)\n",
    "        aux_output = self.aux_output(hidden2)\n",
    "        return main_output, aux_output\n",
    "\n",
    "model = WideAndDeepModel(30, activation=\"relu\")"
   ]
  },
  {
   "cell_type": "code",
   "execution_count": 48,
   "id": "50ce91acb9ce900",
   "metadata": {
    "collapsed": false,
    "jupyter": {
     "outputs_hidden": false
    }
   },
   "outputs": [
    {
     "name": "stdout",
     "output_type": "stream",
     "text": [
      "Epoch 1/20\n",
      "363/363 [==============================] - 1s 1ms/step - loss: 2.8140 - output_1_loss: 2.6142 - output_2_loss: 4.6119 - val_loss: 1.9943 - val_output_1_loss: 1.5885 - val_output_2_loss: 5.6461\n",
      "Epoch 2/20\n",
      "363/363 [==============================] - 0s 901us/step - loss: 1.1026 - output_1_loss: 0.8322 - output_2_loss: 3.5363 - val_loss: 1.2157 - val_output_1_loss: 0.6937 - val_output_2_loss: 5.9139\n",
      "Epoch 3/20\n",
      "363/363 [==============================] - 0s 925us/step - loss: 0.8829 - output_1_loss: 0.6783 - output_2_loss: 2.7241 - val_loss: 1.1227 - val_output_1_loss: 0.6318 - val_output_2_loss: 5.5402\n",
      "Epoch 4/20\n",
      "363/363 [==============================] - 0s 920us/step - loss: 0.7882 - output_1_loss: 0.6266 - output_2_loss: 2.2431 - val_loss: 1.0475 - val_output_1_loss: 0.5884 - val_output_2_loss: 5.1797\n",
      "Epoch 5/20\n",
      "363/363 [==============================] - 0s 942us/step - loss: 0.7284 - output_1_loss: 0.5917 - output_2_loss: 1.9585 - val_loss: 0.9767 - val_output_1_loss: 0.5496 - val_output_2_loss: 4.8200\n",
      "Epoch 6/20\n",
      "363/363 [==============================] - 0s 936us/step - loss: 0.6851 - output_1_loss: 0.5633 - output_2_loss: 1.7813 - val_loss: 0.9161 - val_output_1_loss: 0.5221 - val_output_2_loss: 4.4616\n",
      "Epoch 7/20\n",
      "363/363 [==============================] - 0s 919us/step - loss: 0.6516 - output_1_loss: 0.5393 - output_2_loss: 1.6614 - val_loss: 0.8582 - val_output_1_loss: 0.4982 - val_output_2_loss: 4.0980\n",
      "Epoch 8/20\n",
      "363/363 [==============================] - 0s 934us/step - loss: 0.6240 - output_1_loss: 0.5186 - output_2_loss: 1.5721 - val_loss: 0.8006 - val_output_1_loss: 0.4752 - val_output_2_loss: 3.7296\n",
      "Epoch 9/20\n",
      "363/363 [==============================] - 0s 1ms/step - loss: 0.6014 - output_1_loss: 0.5012 - output_2_loss: 1.5030 - val_loss: 0.7528 - val_output_1_loss: 0.4592 - val_output_2_loss: 3.3952\n",
      "Epoch 10/20\n",
      "363/363 [==============================] - 0s 906us/step - loss: 0.5833 - output_1_loss: 0.4875 - output_2_loss: 1.4456 - val_loss: 0.7114 - val_output_1_loss: 0.4475 - val_output_2_loss: 3.0865\n",
      "Epoch 11/20\n",
      "363/363 [==============================] - 0s 900us/step - loss: 0.5689 - output_1_loss: 0.4768 - output_2_loss: 1.3982 - val_loss: 0.6800 - val_output_1_loss: 0.4438 - val_output_2_loss: 2.8059\n",
      "Epoch 12/20\n",
      "363/363 [==============================] - 0s 952us/step - loss: 0.5568 - output_1_loss: 0.4679 - output_2_loss: 1.3571 - val_loss: 0.6530 - val_output_1_loss: 0.4408 - val_output_2_loss: 2.5623\n",
      "Epoch 13/20\n",
      "363/363 [==============================] - 0s 929us/step - loss: 0.5466 - output_1_loss: 0.4605 - output_2_loss: 1.3208 - val_loss: 0.6356 - val_output_1_loss: 0.4453 - val_output_2_loss: 2.3484\n",
      "Epoch 14/20\n",
      "363/363 [==============================] - 0s 915us/step - loss: 0.5378 - output_1_loss: 0.4544 - output_2_loss: 1.2883 - val_loss: 0.6161 - val_output_1_loss: 0.4443 - val_output_2_loss: 2.1627\n",
      "Epoch 15/20\n",
      "363/363 [==============================] - 0s 978us/step - loss: 0.5302 - output_1_loss: 0.4492 - output_2_loss: 1.2597 - val_loss: 0.5989 - val_output_1_loss: 0.4436 - val_output_2_loss: 1.9967\n",
      "Epoch 16/20\n",
      "363/363 [==============================] - 0s 971us/step - loss: 0.5237 - output_1_loss: 0.4449 - output_2_loss: 1.2330 - val_loss: 0.5854 - val_output_1_loss: 0.4445 - val_output_2_loss: 1.8530\n",
      "Epoch 17/20\n",
      "363/363 [==============================] - 0s 934us/step - loss: 0.5177 - output_1_loss: 0.4409 - output_2_loss: 1.2089 - val_loss: 0.5749 - val_output_1_loss: 0.4469 - val_output_2_loss: 1.7266\n",
      "Epoch 18/20\n",
      "363/363 [==============================] - 0s 919us/step - loss: 0.5127 - output_1_loss: 0.4378 - output_2_loss: 1.1859 - val_loss: 0.5657 - val_output_1_loss: 0.4487 - val_output_2_loss: 1.6189\n",
      "Epoch 19/20\n",
      "363/363 [==============================] - 0s 936us/step - loss: 0.5075 - output_1_loss: 0.4344 - output_2_loss: 1.1648 - val_loss: 0.5563 - val_output_1_loss: 0.4489 - val_output_2_loss: 1.5233\n",
      "Epoch 20/20\n",
      "363/363 [==============================] - 0s 919us/step - loss: 0.5032 - output_1_loss: 0.4318 - output_2_loss: 1.1454 - val_loss: 0.5590 - val_output_1_loss: 0.4609 - val_output_2_loss: 1.4420\n"
     ]
    }
   ],
   "source": [
    "model.compile(loss=\"mse\", loss_weights=[0.9, 0.1], optimizer=keras.optimizers.SGD(learning_rate=1e-3))\n",
    "model.fit((X_train_A, X_train_B), (y_train, y_train), epochs=20, \n",
    "          validation_data=((X_valid_A, X_valid_B), (y_valid, y_valid)));"
   ]
  },
  {
   "cell_type": "code",
   "execution_count": 49,
   "id": "52226e9cb4f2a7a4",
   "metadata": {
    "collapsed": false,
    "jupyter": {
     "outputs_hidden": false
    }
   },
   "outputs": [
    {
     "name": "stdout",
     "output_type": "stream",
     "text": [
      "162/162 [==============================] - 0s 611us/step - loss: 0.4910 - output_1_loss: 0.4215 - output_2_loss: 1.1168\n"
     ]
    },
    {
     "data": {
      "text/plain": [
       "[0.4910449683666229, 0.4215121865272522, 1.1168415546417236]"
      ]
     },
     "execution_count": 49,
     "metadata": {},
     "output_type": "execute_result"
    }
   ],
   "source": [
    "model.evaluate((X_test_A, X_test_B), (y_test, y_test)) # total_loss, main_loss, aux_loss"
   ]
  },
  {
   "cell_type": "code",
   "execution_count": 50,
   "id": "2055189e9869a5df",
   "metadata": {
    "collapsed": false,
    "jupyter": {
     "outputs_hidden": false
    }
   },
   "outputs": [
    {
     "name": "stdout",
     "output_type": "stream",
     "text": [
      "WARNING:tensorflow:5 out of the last 6 calls to <function Model.make_predict_function.<locals>.predict_function at 0x00000299234443A0> triggered tf.function retracing. Tracing is expensive and the excessive number of tracings could be due to (1) creating @tf.function repeatedly in a loop, (2) passing tensors with different shapes, (3) passing Python objects instead of tensors. For (1), please define your @tf.function outside of the loop. For (2), @tf.function has reduce_retracing=True option that can avoid unnecessary retracing. For (3), please refer to https://www.tensorflow.org/guide/function#controlling_retracing and https://www.tensorflow.org/api_docs/python/tf/function for  more details.\n"
     ]
    },
    {
     "data": {
      "text/plain": [
       "(array([[0.42374977],\n",
       "        [1.9527388 ],\n",
       "        [3.1413999 ]], dtype=float32),\n",
       " array([[1.2839363],\n",
       "        [1.8859391],\n",
       "        [2.6866937]], dtype=float32))"
      ]
     },
     "execution_count": 50,
     "metadata": {},
     "output_type": "execute_result"
    }
   ],
   "source": [
    "y_pred_main, y_pred_aux = model.predict((X_new_A, X_new_B), verbose=0)\n",
    "y_pred_main, y_pred_aux"
   ]
  },
  {
   "cell_type": "markdown",
   "id": "593e0d013b1fccb5",
   "metadata": {
    "collapsed": false,
    "jupyter": {
     "outputs_hidden": false
    }
   },
   "source": [
    "#### Saving and Restoring a Model"
   ]
  },
  {
   "cell_type": "code",
   "execution_count": 51,
   "id": "5a510ec71d345f73",
   "metadata": {
    "collapsed": false,
    "jupyter": {
     "outputs_hidden": false
    }
   },
   "outputs": [],
   "source": [
    "model = keras.models.Sequential([\n",
    "    keras.layers.Dense(30, activation=\"relu\", input_shape=[8]),\n",
    "    keras.layers.Dense(30, activation=\"relu\"),\n",
    "    keras.layers.Dense(1)\n",
    "])"
   ]
  },
  {
   "cell_type": "code",
   "execution_count": 52,
   "id": "cbb7ae22f3c42466",
   "metadata": {
    "collapsed": false,
    "jupyter": {
     "outputs_hidden": false
    }
   },
   "outputs": [
    {
     "name": "stdout",
     "output_type": "stream",
     "text": [
      "Epoch 1/10\n",
      "363/363 [==============================] - 1s 981us/step - loss: 1.6707 - val_loss: 0.7578\n",
      "Epoch 2/10\n",
      "363/363 [==============================] - 0s 902us/step - loss: 0.7303 - val_loss: 0.8104\n",
      "Epoch 3/10\n",
      "363/363 [==============================] - 0s 813us/step - loss: 0.6553 - val_loss: 0.6233\n",
      "Epoch 4/10\n",
      "363/363 [==============================] - 0s 814us/step - loss: 0.6079 - val_loss: 0.5501\n",
      "Epoch 5/10\n",
      "363/363 [==============================] - 0s 831us/step - loss: 0.5746 - val_loss: 0.5241\n",
      "Epoch 6/10\n",
      "363/363 [==============================] - 0s 821us/step - loss: 0.5466 - val_loss: 0.4995\n",
      "Epoch 7/10\n",
      "363/363 [==============================] - 0s 818us/step - loss: 0.5241 - val_loss: 0.4999\n",
      "Epoch 8/10\n",
      "363/363 [==============================] - 0s 828us/step - loss: 0.5045 - val_loss: 0.4621\n",
      "Epoch 9/10\n",
      "363/363 [==============================] - 0s 821us/step - loss: 0.4873 - val_loss: 0.4515\n",
      "Epoch 10/10\n",
      "363/363 [==============================] - 0s 815us/step - loss: 0.4727 - val_loss: 0.4365\n"
     ]
    }
   ],
   "source": [
    "model.compile(loss=\"mse\", optimizer=keras.optimizers.SGD(learning_rate=1e-3))\n",
    "model.fit(X_train, y_train, epochs=10, validation_data=(X_valid, y_valid));"
   ]
  },
  {
   "cell_type": "code",
   "execution_count": 64,
   "id": "e5e7f8d86ef5e51b",
   "metadata": {
    "collapsed": false,
    "jupyter": {
     "outputs_hidden": false
    }
   },
   "outputs": [
    {
     "name": "stdout",
     "output_type": "stream",
     "text": [
      "162/162 [==============================] - 0s 539us/step - loss: 0.4599\n"
     ]
    },
    {
     "data": {
      "text/plain": [
       "0.45993340015411377"
      ]
     },
     "execution_count": 64,
     "metadata": {},
     "output_type": "execute_result"
    }
   ],
   "source": [
    "model.evaluate(X_test, y_test)"
   ]
  },
  {
   "cell_type": "code",
   "execution_count": 65,
   "id": "3e9b8001-2471-4168-8759-b2ac8f7b2f55",
   "metadata": {},
   "outputs": [
    {
     "name": "stdout",
     "output_type": "stream",
     "text": [
      "1/1 [==============================] - 0s 12ms/step\n"
     ]
    },
    {
     "data": {
      "text/plain": [
       "array([[0.6419035],\n",
       "       [1.442482 ],\n",
       "       [3.3937926]], dtype=float32)"
      ]
     },
     "execution_count": 65,
     "metadata": {},
     "output_type": "execute_result"
    }
   ],
   "source": [
    "model.predict(X_new)"
   ]
  },
  {
   "cell_type": "code",
   "execution_count": 66,
   "id": "603dcf5011760dc8",
   "metadata": {
    "collapsed": false,
    "jupyter": {
     "outputs_hidden": false
    }
   },
   "outputs": [],
   "source": [
    "model.save(\"data/temp/model.keras\")\n",
    "model = keras.models.load_model(\"data/temp/model.keras\")"
   ]
  },
  {
   "cell_type": "code",
   "execution_count": 67,
   "id": "a2aa5ab4cbe9e223",
   "metadata": {
    "collapsed": false,
    "jupyter": {
     "outputs_hidden": false
    }
   },
   "outputs": [
    {
     "name": "stdout",
     "output_type": "stream",
     "text": [
      "162/162 [==============================] - 0s 541us/step - loss: 0.4599\n"
     ]
    },
    {
     "data": {
      "text/plain": [
       "0.45993340015411377"
      ]
     },
     "execution_count": 67,
     "metadata": {},
     "output_type": "execute_result"
    }
   ],
   "source": [
    "model.evaluate(X_test, y_test)"
   ]
  },
  {
   "cell_type": "code",
   "execution_count": 68,
   "id": "a681ef195beb8b36",
   "metadata": {
    "collapsed": false,
    "jupyter": {
     "outputs_hidden": false
    }
   },
   "outputs": [
    {
     "name": "stdout",
     "output_type": "stream",
     "text": [
      "1/1 [==============================] - 0s 43ms/step\n"
     ]
    },
    {
     "data": {
      "text/plain": [
       "array([[0.6419035],\n",
       "       [1.442482 ],\n",
       "       [3.3937926]], dtype=float32)"
      ]
     },
     "execution_count": 68,
     "metadata": {},
     "output_type": "execute_result"
    }
   ],
   "source": [
    "model.predict(X_new)"
   ]
  }
 ],
 "metadata": {
  "kernelspec": {
   "display_name": "Python 3 (ipykernel)",
   "language": "python",
   "name": "python3"
  },
  "language_info": {
   "codemirror_mode": {
    "name": "ipython",
    "version": 3
   },
   "file_extension": ".py",
   "mimetype": "text/x-python",
   "name": "python",
   "nbconvert_exporter": "python",
   "pygments_lexer": "ipython3",
   "version": "3.9.13"
  }
 },
 "nbformat": 4,
 "nbformat_minor": 5
}
