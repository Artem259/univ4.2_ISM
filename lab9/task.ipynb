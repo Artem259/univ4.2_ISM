{
 "cells": [
  {
   "cell_type": "code",
   "execution_count": 1,
   "id": "initial_id",
   "metadata": {},
   "outputs": [
    {
     "name": "stdout",
     "output_type": "stream",
     "text": [
      "WARNING:tensorflow:From C:\\GAMES and PROGRAMS\\my programs\\univ4.2\\univ4.2_ISM\\venv\\lib\\site-packages\\keras\\src\\losses.py:2976: The name tf.losses.sparse_softmax_cross_entropy is deprecated. Please use tf.compat.v1.losses.sparse_softmax_cross_entropy instead.\n",
      "\n"
     ]
    }
   ],
   "source": [
    "import numpy as np\n",
    "import pandas as pd\n",
    "import tensorflow as tf"
   ]
  },
  {
   "cell_type": "markdown",
   "id": "6a4e3aef121d31b9",
   "metadata": {
    "collapsed": false,
    "jupyter": {
     "outputs_hidden": false
    }
   },
   "source": [
    "## From Biological to Artificial Neurons"
   ]
  },
  {
   "cell_type": "markdown",
   "id": "1e69cf5a3aa9621d",
   "metadata": {
    "collapsed": false,
    "jupyter": {
     "outputs_hidden": false
    }
   },
   "source": [
    "#### The Perceptron"
   ]
  },
  {
   "cell_type": "code",
   "execution_count": 2,
   "id": "f70bc748c72744c5",
   "metadata": {
    "collapsed": false,
    "jupyter": {
     "outputs_hidden": false
    }
   },
   "outputs": [
    {
     "data": {
      "text/plain": [
       "array([5.1, 3.5, 1.4, 0.2])"
      ]
     },
     "execution_count": 2,
     "metadata": {},
     "output_type": "execute_result"
    }
   ],
   "source": [
    "from sklearn.datasets import load_iris\n",
    "from sklearn.linear_model import Perceptron\n",
    "\n",
    "iris = load_iris()\n",
    "iris.data[0]"
   ]
  },
  {
   "cell_type": "code",
   "execution_count": 3,
   "id": "547b564dd9349fdf",
   "metadata": {
    "collapsed": false,
    "jupyter": {
     "outputs_hidden": false
    }
   },
   "outputs": [
    {
     "data": {
      "text/plain": [
       "array([1])"
      ]
     },
     "execution_count": 3,
     "metadata": {},
     "output_type": "execute_result"
    }
   ],
   "source": [
    "X = iris.data[:, (2, 3)] # petal length, petal width\n",
    "y = (iris.target == 0).astype(np.int32) # Iris setosa?\n",
    "\n",
    "per_clf = Perceptron(random_state=42)\n",
    "per_clf.fit(X, y)\n",
    "\n",
    "y_pred = per_clf.predict([[2, 0.5]])\n",
    "y_pred"
   ]
  },
  {
   "cell_type": "markdown",
   "id": "5b12212405a80e87",
   "metadata": {
    "collapsed": false,
    "jupyter": {
     "outputs_hidden": false
    }
   },
   "source": [
    "## Implementing MLPs with Keras"
   ]
  },
  {
   "cell_type": "markdown",
   "id": "6ccba6578ad447b2",
   "metadata": {
    "collapsed": false,
    "jupyter": {
     "outputs_hidden": false
    }
   },
   "source": [
    "#### Building an Image Classifier Using the Sequential API"
   ]
  },
  {
   "cell_type": "markdown",
   "id": "dd40b35c0605de0b",
   "metadata": {
    "collapsed": false,
    "jupyter": {
     "outputs_hidden": false
    }
   },
   "source": [
    "##### Using Keras to load the dataset"
   ]
  },
  {
   "cell_type": "code",
   "execution_count": 4,
   "id": "b6c9708af20c086d",
   "metadata": {
    "collapsed": false,
    "jupyter": {
     "outputs_hidden": false
    }
   },
   "outputs": [],
   "source": [
    "from tensorflow import keras\n",
    "\n",
    "fashion_mnist = keras.datasets.fashion_mnist\n",
    "(X_train_full, y_train_full), (X_test, y_test) = fashion_mnist.load_data()"
   ]
  },
  {
   "cell_type": "code",
   "execution_count": 5,
   "id": "df55d896bdb8205d",
   "metadata": {
    "collapsed": false,
    "jupyter": {
     "outputs_hidden": false
    }
   },
   "outputs": [
    {
     "data": {
      "text/plain": [
       "(60000, 28, 28)"
      ]
     },
     "execution_count": 5,
     "metadata": {},
     "output_type": "execute_result"
    }
   ],
   "source": [
    "X_train_full.shape"
   ]
  },
  {
   "cell_type": "code",
   "execution_count": 6,
   "id": "999461d96364b08d",
   "metadata": {
    "collapsed": false,
    "jupyter": {
     "outputs_hidden": false
    }
   },
   "outputs": [
    {
     "data": {
      "text/plain": [
       "dtype('uint8')"
      ]
     },
     "execution_count": 6,
     "metadata": {},
     "output_type": "execute_result"
    }
   ],
   "source": [
    "X_train_full.dtype"
   ]
  },
  {
   "cell_type": "code",
   "execution_count": 7,
   "id": "61f11c8fc85d7da9",
   "metadata": {
    "collapsed": false,
    "jupyter": {
     "outputs_hidden": false
    }
   },
   "outputs": [],
   "source": [
    "X_valid, X_train = X_train_full[:5000] / 255., X_train_full[5000:] / 255.\n",
    "y_valid, y_train = y_train_full[:5000], y_train_full[5000:]\n",
    "X_test = X_test / 255."
   ]
  },
  {
   "cell_type": "code",
   "execution_count": 8,
   "id": "7b95607ddb3e37e9",
   "metadata": {
    "collapsed": false,
    "jupyter": {
     "outputs_hidden": false
    }
   },
   "outputs": [
    {
     "data": {
      "text/plain": [
       "array([4, 0, 7, ..., 3, 0, 5], dtype=uint8)"
      ]
     },
     "execution_count": 8,
     "metadata": {},
     "output_type": "execute_result"
    }
   ],
   "source": [
    "y_train"
   ]
  },
  {
   "cell_type": "code",
   "execution_count": 9,
   "id": "b5913c3abb78afd3",
   "metadata": {
    "collapsed": false,
    "jupyter": {
     "outputs_hidden": false
    }
   },
   "outputs": [],
   "source": [
    "class_names = [\"T-shirt/top\", \"Trouser\", \"Pullover\", \"Dress\", \"Coat\", \"Sandal\", \"Shirt\", \"Sneaker\", \"Bag\", \"Ankle boot\"]"
   ]
  },
  {
   "cell_type": "code",
   "execution_count": 10,
   "id": "ae497b507ddf434e",
   "metadata": {
    "collapsed": false,
    "jupyter": {
     "outputs_hidden": false
    }
   },
   "outputs": [
    {
     "data": {
      "image/png": "[encoded data removed]",
      "text/plain": [
       "<Figure size 640x480 with 1 Axes>"
      ]
     },
     "metadata": {},
     "output_type": "display_data"
    },
    {
     "data": {
      "text/plain": [
       "'Coat'"
      ]
     },
     "execution_count": 10,
     "metadata": {},
     "output_type": "execute_result"
    }
   ],
   "source": [
    "from matplotlib import pyplot as plt\n",
    "\n",
    "plt.imshow(X_train[0], cmap=\"binary\")\n",
    "plt.axis('off')\n",
    "plt.show()\n",
    "class_names[y_train[0]]"
   ]
  },
  {
   "cell_type": "markdown",
   "id": "34fae3b6f7ac9783",
   "metadata": {
    "collapsed": false,
    "jupyter": {
     "outputs_hidden": false
    }
   },
   "source": [
    "##### Creating the model using the Sequential API"
   ]
  },
  {
   "cell_type": "code",
   "execution_count": 11,
   "id": "7ce14cb1cbb2e9c6",
   "metadata": {
    "collapsed": false,
    "jupyter": {
     "outputs_hidden": false
    }
   },
   "outputs": [
    {
     "name": "stdout",
     "output_type": "stream",
     "text": [
      "WARNING:tensorflow:From C:\\GAMES and PROGRAMS\\my programs\\univ4.2\\univ4.2_ISM\\venv\\lib\\site-packages\\keras\\src\\backend.py:277: The name tf.reset_default_graph is deprecated. Please use tf.compat.v1.reset_default_graph instead.\n",
      "\n"
     ]
    }
   ],
   "source": [
    "keras.backend.clear_session()\n",
    "np.random.seed(42)\n",
    "tf.random.set_seed(42)"
   ]
  },
  {
   "cell_type": "code",
   "execution_count": 12,
   "id": "68483c36eaeb7fc9",
   "metadata": {
    "collapsed": false,
    "jupyter": {
     "outputs_hidden": false
    }
   },
   "outputs": [],
   "source": [
    "model = keras.models.Sequential()\n",
    "model.add(keras.layers.Flatten(input_shape=[28, 28]))\n",
    "model.add(keras.layers.Dense(300, activation=\"relu\"))\n",
    "model.add(keras.layers.Dense(100, activation=\"relu\"))\n",
    "model.add(keras.layers.Dense(10, activation=\"softmax\"))"
   ]
  },
  {
   "cell_type": "code",
   "execution_count": 13,
   "id": "830c6389024246ce",
   "metadata": {
    "collapsed": false,
    "jupyter": {
     "outputs_hidden": false
    }
   },
   "outputs": [
    {
     "name": "stdout",
     "output_type": "stream",
     "text": [
      "Model: \"sequential\"\n",
      "_________________________________________________________________\n",
      " Layer (type)                Output Shape              Param #   \n",
      "=================================================================\n",
      " flatten (Flatten)           (None, 784)               0         \n",
      "                                                                 \n",
      " dense (Dense)               (None, 300)               235500    \n",
      "                                                                 \n",
      " dense_1 (Dense)             (None, 100)               30100     \n",
      "                                                                 \n",
      " dense_2 (Dense)             (None, 10)                1010      \n",
      "                                                                 \n",
      "=================================================================\n",
      "Total params: 266610 (1.02 MB)\n",
      "Trainable params: 266610 (1.02 MB)\n",
      "Non-trainable params: 0 (0.00 Byte)\n",
      "_________________________________________________________________\n"
     ]
    }
   ],
   "source": [
    "model.summary()"
   ]
  },
  {
   "cell_type": "code",
   "execution_count": 14,
   "id": "7b99b6a34f2696ad",
   "metadata": {
    "collapsed": false,
    "jupyter": {
     "outputs_hidden": false
    }
   },
   "outputs": [
    {
     "data": {
      "text/plain": [
       "[<keras.src.layers.reshaping.flatten.Flatten at 0x1d2533760a0>,\n",
       " <keras.src.layers.core.dense.Dense at 0x1d253264b50>,\n",
       " <keras.src.layers.core.dense.Dense at 0x1d253264d00>,\n",
       " <keras.src.layers.core.dense.Dense at 0x1d25323c5b0>]"
      ]
     },
     "execution_count": 14,
     "metadata": {},
     "output_type": "execute_result"
    }
   ],
   "source": [
    "model.layers"
   ]
  },
  {
   "cell_type": "code",
   "execution_count": 15,
   "id": "5de6abb04a324b4a",
   "metadata": {
    "collapsed": false,
    "jupyter": {
     "outputs_hidden": false
    }
   },
   "outputs": [
    {
     "data": {
      "text/plain": [
       "'dense'"
      ]
     },
     "execution_count": 15,
     "metadata": {},
     "output_type": "execute_result"
    }
   ],
   "source": [
    "hidden1 = model.layers[1]\n",
    "hidden1.name"
   ]
  },
  {
   "cell_type": "code",
   "execution_count": 16,
   "id": "c4f320c97879523c",
   "metadata": {
    "collapsed": false,
    "jupyter": {
     "outputs_hidden": false
    }
   },
   "outputs": [
    {
     "data": {
      "text/plain": [
       "True"
      ]
     },
     "execution_count": 16,
     "metadata": {},
     "output_type": "execute_result"
    }
   ],
   "source": [
    "model.get_layer(\"dense\") is hidden1"
   ]
  },
  {
   "cell_type": "code",
   "execution_count": 17,
   "id": "543c76548241c0f2",
   "metadata": {
    "collapsed": false,
    "jupyter": {
     "outputs_hidden": false
    }
   },
   "outputs": [],
   "source": [
    "weights, biases = hidden1.get_weights()"
   ]
  },
  {
   "cell_type": "code",
   "execution_count": 18,
   "id": "ef689b2d7b0425e9",
   "metadata": {
    "collapsed": false,
    "jupyter": {
     "outputs_hidden": false
    }
   },
   "outputs": [
    {
     "data": {
      "text/plain": [
       "(784, 300)"
      ]
     },
     "execution_count": 18,
     "metadata": {},
     "output_type": "execute_result"
    }
   ],
   "source": [
    "weights.shape"
   ]
  },
  {
   "cell_type": "code",
   "execution_count": 19,
   "id": "dcd06ebb810b82d0",
   "metadata": {
    "collapsed": false,
    "jupyter": {
     "outputs_hidden": false
    }
   },
   "outputs": [
    {
     "data": {
      "text/plain": [
       "(300,)"
      ]
     },
     "execution_count": 19,
     "metadata": {},
     "output_type": "execute_result"
    }
   ],
   "source": [
    "biases.shape"
   ]
  },
  {
   "cell_type": "markdown",
   "id": "9b8bbb0db518e6f5",
   "metadata": {
    "collapsed": false,
    "jupyter": {
     "outputs_hidden": false
    }
   },
   "source": [
    "##### Compiling the model"
   ]
  },
  {
   "cell_type": "code",
   "execution_count": 20,
   "id": "e40494a280b198fb",
   "metadata": {
    "collapsed": false,
    "jupyter": {
     "outputs_hidden": false
    }
   },
   "outputs": [],
   "source": [
    "model.compile(loss=keras.losses.sparse_categorical_crossentropy,\n",
    "              optimizer=keras.optimizers.SGD(learning_rate=0.01),\n",
    "              metrics=[\"accuracy\"])"
   ]
  },
  {
   "cell_type": "markdown",
   "id": "bb90b746afecfa8c",
   "metadata": {
    "collapsed": false,
    "jupyter": {
     "outputs_hidden": false
    }
   },
   "source": [
    "##### Training and evaluating the model"
   ]
  },
  {
   "cell_type": "code",
   "execution_count": 21,
   "id": "ab1638e29f44e5d7",
   "metadata": {
    "collapsed": false,
    "jupyter": {
     "outputs_hidden": false
    }
   },
   "outputs": [
    {
     "name": "stdout",
     "output_type": "stream",
     "text": [
      "Epoch 1/30\n",
      "WARNING:tensorflow:From C:\\GAMES and PROGRAMS\\my programs\\univ4.2\\univ4.2_ISM\\venv\\lib\\site-packages\\keras\\src\\utils\\tf_utils.py:492: The name tf.ragged.RaggedTensorValue is deprecated. Please use tf.compat.v1.ragged.RaggedTensorValue instead.\n",
      "\n",
      "WARNING:tensorflow:From C:\\GAMES and PROGRAMS\\my programs\\univ4.2\\univ4.2_ISM\\venv\\lib\\site-packages\\keras\\src\\engine\\base_layer_utils.py:384: The name tf.executing_eagerly_outside_functions is deprecated. Please use tf.compat.v1.executing_eagerly_outside_functions instead.\n",
      "\n",
      "1719/1719 [==============================] - 2s 1ms/step - loss: 0.7279 - accuracy: 0.7605 - val_loss: 0.5208 - val_accuracy: 0.8246\n",
      "Epoch 2/30\n",
      "1719/1719 [==============================] - 2s 1ms/step - loss: 0.4898 - accuracy: 0.8276 - val_loss: 0.4373 - val_accuracy: 0.8492\n",
      "Epoch 3/30\n",
      "1719/1719 [==============================] - 2s 1ms/step - loss: 0.4441 - accuracy: 0.8436 - val_loss: 0.5488 - val_accuracy: 0.7944\n",
      "Epoch 4/30\n",
      "1719/1719 [==============================] - 2s 1ms/step - loss: 0.4163 - accuracy: 0.8549 - val_loss: 0.3953 - val_accuracy: 0.8624\n",
      "Epoch 5/30\n",
      "1719/1719 [==============================] - 2s 1ms/step - loss: 0.3976 - accuracy: 0.8613 - val_loss: 0.3794 - val_accuracy: 0.8670\n",
      "Epoch 6/30\n",
      "1719/1719 [==============================] - 2s 1ms/step - loss: 0.3791 - accuracy: 0.8660 - val_loss: 0.3701 - val_accuracy: 0.8722\n",
      "Epoch 7/30\n",
      "1719/1719 [==============================] - 2s 1ms/step - loss: 0.3669 - accuracy: 0.8696 - val_loss: 0.3677 - val_accuracy: 0.8726\n",
      "Epoch 8/30\n",
      "1719/1719 [==============================] - 2s 1ms/step - loss: 0.3551 - accuracy: 0.8746 - val_loss: 0.3875 - val_accuracy: 0.8600\n",
      "Epoch 9/30\n",
      "1719/1719 [==============================] - 2s 1ms/step - loss: 0.3448 - accuracy: 0.8780 - val_loss: 0.3588 - val_accuracy: 0.8706\n",
      "Epoch 10/30\n",
      "1719/1719 [==============================] - 2s 1ms/step - loss: 0.3356 - accuracy: 0.8803 - val_loss: 0.3487 - val_accuracy: 0.8752\n",
      "Epoch 11/30\n",
      "1719/1719 [==============================] - 2s 1ms/step - loss: 0.3274 - accuracy: 0.8828 - val_loss: 0.3453 - val_accuracy: 0.8796\n",
      "Epoch 12/30\n",
      "1719/1719 [==============================] - 2s 1ms/step - loss: 0.3181 - accuracy: 0.8857 - val_loss: 0.3359 - val_accuracy: 0.8802\n",
      "Epoch 13/30\n",
      "1719/1719 [==============================] - 2s 1ms/step - loss: 0.3111 - accuracy: 0.8891 - val_loss: 0.3303 - val_accuracy: 0.8822\n",
      "Epoch 14/30\n",
      "1719/1719 [==============================] - 2s 1ms/step - loss: 0.3048 - accuracy: 0.8904 - val_loss: 0.3439 - val_accuracy: 0.8732\n",
      "Epoch 15/30\n",
      "1719/1719 [==============================] - 2s 1ms/step - loss: 0.2970 - accuracy: 0.8922 - val_loss: 0.3253 - val_accuracy: 0.8814\n",
      "Epoch 16/30\n",
      "1719/1719 [==============================] - 2s 1ms/step - loss: 0.2920 - accuracy: 0.8958 - val_loss: 0.3120 - val_accuracy: 0.8842\n",
      "Epoch 17/30\n",
      "1719/1719 [==============================] - 2s 1ms/step - loss: 0.2863 - accuracy: 0.8970 - val_loss: 0.3560 - val_accuracy: 0.8730\n",
      "Epoch 18/30\n",
      "1719/1719 [==============================] - 2s 1ms/step - loss: 0.2802 - accuracy: 0.8992 - val_loss: 0.3202 - val_accuracy: 0.8882\n",
      "Epoch 19/30\n",
      "1719/1719 [==============================] - 2s 1ms/step - loss: 0.2752 - accuracy: 0.9010 - val_loss: 0.3146 - val_accuracy: 0.8840\n",
      "Epoch 20/30\n",
      "1719/1719 [==============================] - 2s 1ms/step - loss: 0.2697 - accuracy: 0.9025 - val_loss: 0.3296 - val_accuracy: 0.8808\n",
      "Epoch 21/30\n",
      "1719/1719 [==============================] - 2s 1ms/step - loss: 0.2643 - accuracy: 0.9044 - val_loss: 0.3071 - val_accuracy: 0.8890\n",
      "Epoch 22/30\n",
      "1719/1719 [==============================] - 2s 1ms/step - loss: 0.2594 - accuracy: 0.9060 - val_loss: 0.2987 - val_accuracy: 0.8908\n",
      "Epoch 23/30\n",
      "1719/1719 [==============================] - 2s 1ms/step - loss: 0.2552 - accuracy: 0.9066 - val_loss: 0.3024 - val_accuracy: 0.8906\n",
      "Epoch 24/30\n",
      "1719/1719 [==============================] - 2s 1ms/step - loss: 0.2510 - accuracy: 0.9089 - val_loss: 0.3077 - val_accuracy: 0.8866\n",
      "Epoch 25/30\n",
      "1719/1719 [==============================] - 2s 1ms/step - loss: 0.2460 - accuracy: 0.9117 - val_loss: 0.2998 - val_accuracy: 0.8918\n",
      "Epoch 26/30\n",
      "1719/1719 [==============================] - 2s 1ms/step - loss: 0.2419 - accuracy: 0.9128 - val_loss: 0.3090 - val_accuracy: 0.8878\n",
      "Epoch 27/30\n",
      "1719/1719 [==============================] - 2s 1ms/step - loss: 0.2381 - accuracy: 0.9147 - val_loss: 0.3021 - val_accuracy: 0.8908\n",
      "Epoch 28/30\n",
      "1719/1719 [==============================] - 2s 1ms/step - loss: 0.2349 - accuracy: 0.9146 - val_loss: 0.3051 - val_accuracy: 0.8892\n",
      "Epoch 29/30\n",
      "1719/1719 [==============================] - 2s 1ms/step - loss: 0.2305 - accuracy: 0.9171 - val_loss: 0.3099 - val_accuracy: 0.8872\n",
      "Epoch 30/30\n",
      "1719/1719 [==============================] - 2s 1ms/step - loss: 0.2264 - accuracy: 0.9189 - val_loss: 0.3074 - val_accuracy: 0.8908\n"
     ]
    }
   ],
   "source": [
    "history = model.fit(X_train, y_train, epochs=30, validation_data=(X_valid, y_valid))"
   ]
  },
  {
   "cell_type": "code",
   "execution_count": 22,
   "id": "fabffeea10649f46",
   "metadata": {
    "collapsed": false,
    "jupyter": {
     "outputs_hidden": false
    }
   },
   "outputs": [
    {
     "data": {
      "text/plain": [
       "{'verbose': 1, 'epochs': 30, 'steps': 1719}"
      ]
     },
     "execution_count": 22,
     "metadata": {},
     "output_type": "execute_result"
    }
   ],
   "source": [
    "history.params"
   ]
  },
  {
   "cell_type": "code",
   "execution_count": 23,
   "id": "51a23506d5108e1",
   "metadata": {
    "collapsed": false,
    "jupyter": {
     "outputs_hidden": false
    }
   },
   "outputs": [
    {
     "data": {
      "text/plain": [
       "30"
      ]
     },
     "execution_count": 23,
     "metadata": {},
     "output_type": "execute_result"
    }
   ],
   "source": [
    "len(history.epoch)"
   ]
  },
  {
   "cell_type": "code",
   "execution_count": 24,
   "id": "74866b1b66c2d3a8",
   "metadata": {
    "collapsed": false,
    "jupyter": {
     "outputs_hidden": false
    }
   },
   "outputs": [
    {
     "data": {
      "text/plain": [
       "dict_keys(['loss', 'accuracy', 'val_loss', 'val_accuracy'])"
      ]
     },
     "execution_count": 24,
     "metadata": {},
     "output_type": "execute_result"
    }
   ],
   "source": [
    "history.history.keys()"
   ]
  },
  {
   "cell_type": "code",
   "execution_count": 25,
   "id": "bc8f465e0085ce6e",
   "metadata": {
    "collapsed": false,
    "jupyter": {
     "outputs_hidden": false
    }
   },
   "outputs": [
    {
     "data": {
      "image/png": "[encoded data removed]",
      "text/plain": [
       "<Figure size 800x500 with 1 Axes>"
      ]
     },
     "metadata": {},
     "output_type": "display_data"
    }
   ],
   "source": [
    "pd.DataFrame(history.history).plot(figsize=(8, 5))\n",
    "plt.grid(True)\n",
    "plt.gca().set_ylim(0, 1) # set the vertical range to [0-1]\n",
    "plt.show()"
   ]
  },
  {
   "cell_type": "code",
   "execution_count": 26,
   "id": "c2ecaf9ba80ba35",
   "metadata": {
    "collapsed": false,
    "jupyter": {
     "outputs_hidden": false
    }
   },
   "outputs": [
    {
     "name": "stdout",
     "output_type": "stream",
     "text": [
      "313/313 [==============================] - 0s 814us/step - loss: 0.3375 - accuracy: 0.8822\n"
     ]
    },
    {
     "data": {
      "text/plain": [
       "[0.3374905288219452, 0.8822000026702881]"
      ]
     },
     "execution_count": 26,
     "metadata": {},
     "output_type": "execute_result"
    }
   ],
   "source": [
    "model.evaluate(X_test, y_test)"
   ]
  },
  {
   "cell_type": "markdown",
   "id": "db2c144831b71a26",
   "metadata": {
    "collapsed": false,
    "jupyter": {
     "outputs_hidden": false
    }
   },
   "source": [
    "##### Using the model to make predictions"
   ]
  },
  {
   "cell_type": "code",
   "execution_count": 27,
   "id": "ba3d8414ecf4d3a9",
   "metadata": {
    "collapsed": false,
    "jupyter": {
     "outputs_hidden": false
    }
   },
   "outputs": [
    {
     "data": {
      "text/plain": [
       "array([[0.  , 0.  , 0.  , 0.  , 0.  , 0.  , 0.  , 0.01, 0.  , 0.99],\n",
       "       [0.  , 0.  , 1.  , 0.  , 0.  , 0.  , 0.  , 0.  , 0.  , 0.  ],\n",
       "       [0.  , 1.  , 0.  , 0.  , 0.  , 0.  , 0.  , 0.  , 0.  , 0.  ]],\n",
       "      dtype=float32)"
      ]
     },
     "execution_count": 27,
     "metadata": {},
     "output_type": "execute_result"
    }
   ],
   "source": [
    "X_new = X_test[:3]\n",
    "y_proba = model.predict(X_new, verbose=0)\n",
    "y_proba.round(2)"
   ]
  },
  {
   "cell_type": "code",
   "execution_count": 28,
   "id": "4abbb7aef9aece9a",
   "metadata": {
    "collapsed": false,
    "jupyter": {
     "outputs_hidden": false
    }
   },
   "outputs": [
    {
     "data": {
      "text/plain": [
       "array([9, 2, 1], dtype=int64)"
      ]
     },
     "execution_count": 28,
     "metadata": {},
     "output_type": "execute_result"
    }
   ],
   "source": [
    "y_pred = np.argmax(model.predict(X_new, verbose=0), axis=-1)\n",
    "y_pred"
   ]
  },
  {
   "cell_type": "code",
   "execution_count": 29,
   "id": "2ef2b995d2ddb902",
   "metadata": {
    "collapsed": false,
    "jupyter": {
     "outputs_hidden": false
    }
   },
   "outputs": [
    {
     "data": {
      "text/plain": [
       "array(['Ankle boot', 'Pullover', 'Trouser'], dtype='<U11')"
      ]
     },
     "execution_count": 29,
     "metadata": {},
     "output_type": "execute_result"
    }
   ],
   "source": [
    "np.array(class_names)[y_pred]"
   ]
  },
  {
   "cell_type": "code",
   "execution_count": 30,
   "id": "4051869ba49eb95",
   "metadata": {
    "collapsed": false,
    "jupyter": {
     "outputs_hidden": false
    }
   },
   "outputs": [
    {
     "data": {
      "text/plain": [
       "array([9, 2, 1], dtype=uint8)"
      ]
     },
     "execution_count": 30,
     "metadata": {},
     "output_type": "execute_result"
    }
   ],
   "source": [
    "y_new = y_test[:3]\n",
    "y_new"
   ]
  },
  {
   "cell_type": "markdown",
   "id": "589dcd4fb1aa62b4",
   "metadata": {
    "collapsed": false,
    "jupyter": {
     "outputs_hidden": false
    }
   },
   "source": [
    "#### Building a Regression MLP Using the Sequential API"
   ]
  },
  {
   "cell_type": "code",
   "execution_count": 31,
   "id": "f155ec360cb4f242",
   "metadata": {
    "collapsed": false,
    "jupyter": {
     "outputs_hidden": false
    }
   },
   "outputs": [],
   "source": [
    "from sklearn.datasets import fetch_california_housing\n",
    "from sklearn.model_selection import train_test_split\n",
    "from sklearn.preprocessing import StandardScaler\n",
    "\n",
    "housing = fetch_california_housing()\n",
    "\n",
    "X_train_full, X_test, y_train_full, y_test = train_test_split(housing.data, housing.target, random_state=42)\n",
    "X_train, X_valid, y_train, y_valid = train_test_split(X_train_full, y_train_full, random_state=42)\n",
    "\n",
    "scaler = StandardScaler()\n",
    "X_train = scaler.fit_transform(X_train)\n",
    "X_valid = scaler.transform(X_valid)\n",
    "X_test = scaler.transform(X_test)"
   ]
  },
  {
   "cell_type": "code",
   "execution_count": 32,
   "id": "937d67c76dd5a93f",
   "metadata": {
    "collapsed": false,
    "jupyter": {
     "outputs_hidden": false
    }
   },
   "outputs": [
    {
     "name": "stdout",
     "output_type": "stream",
     "text": [
      "Epoch 1/20\n",
      "363/363 [==============================] - 0s 921us/step - loss: 1.8561 - val_loss: 0.9667\n",
      "Epoch 2/20\n",
      "363/363 [==============================] - 0s 968us/step - loss: 0.8161 - val_loss: 0.7399\n",
      "Epoch 3/20\n",
      "363/363 [==============================] - 0s 765us/step - loss: 0.7395 - val_loss: 0.6868\n",
      "Epoch 4/20\n",
      "363/363 [==============================] - 0s 784us/step - loss: 0.6947 - val_loss: 0.6509\n",
      "Epoch 5/20\n",
      "363/363 [==============================] - 0s 888us/step - loss: 0.6592 - val_loss: 0.6099\n",
      "Epoch 6/20\n",
      "363/363 [==============================] - 0s 831us/step - loss: 0.6254 - val_loss: 0.5847\n",
      "Epoch 7/20\n",
      "363/363 [==============================] - 0s 952us/step - loss: 0.5971 - val_loss: 0.5508\n",
      "Epoch 8/20\n",
      "363/363 [==============================] - 0s 752us/step - loss: 0.5707 - val_loss: 0.5273\n",
      "Epoch 9/20\n",
      "363/363 [==============================] - 0s 781us/step - loss: 0.5477 - val_loss: 0.5105\n",
      "Epoch 10/20\n",
      "363/363 [==============================] - 0s 925us/step - loss: 0.5285 - val_loss: 0.4906\n",
      "Epoch 11/20\n",
      "363/363 [==============================] - 0s 854us/step - loss: 0.5115 - val_loss: 0.4807\n",
      "Epoch 12/20\n",
      "363/363 [==============================] - 0s 747us/step - loss: 0.4985 - val_loss: 0.4692\n",
      "Epoch 13/20\n",
      "363/363 [==============================] - 0s 800us/step - loss: 0.4872 - val_loss: 0.4577\n",
      "Epoch 14/20\n",
      "363/363 [==============================] - 0s 920us/step - loss: 0.4780 - val_loss: 0.4502\n",
      "Epoch 15/20\n",
      "363/363 [==============================] - 0s 931us/step - loss: 0.4700 - val_loss: 0.4500\n",
      "Epoch 16/20\n",
      "363/363 [==============================] - 0s 896us/step - loss: 0.4628 - val_loss: 0.4415\n",
      "Epoch 17/20\n",
      "363/363 [==============================] - 0s 804us/step - loss: 0.4564 - val_loss: 0.4441\n",
      "Epoch 18/20\n",
      "363/363 [==============================] - 0s 795us/step - loss: 0.4525 - val_loss: 0.4467\n",
      "Epoch 19/20\n",
      "363/363 [==============================] - 0s 914us/step - loss: 0.4475 - val_loss: 0.4523\n",
      "Epoch 20/20\n",
      "363/363 [==============================] - 0s 760us/step - loss: 0.4440 - val_loss: 0.4725\n"
     ]
    }
   ],
   "source": [
    "model = keras.models.Sequential([\n",
    "    keras.layers.Dense(30, activation=\"relu\", input_shape=X_train.shape[1:]),\n",
    "    keras.layers.Dense(1)\n",
    "])\n",
    "model.compile(loss=\"mean_squared_error\", optimizer=keras.optimizers.SGD(learning_rate=1e-3))\n",
    "history = model.fit(X_train, y_train, epochs=20, validation_data=(X_valid, y_valid))"
   ]
  },
  {
   "cell_type": "code",
   "execution_count": 33,
   "id": "882dffcacb829a90",
   "metadata": {
    "collapsed": false,
    "jupyter": {
     "outputs_hidden": false
    }
   },
   "outputs": [
    {
     "data": {
      "image/png": "[encoded data removed]",
      "text/plain": [
       "<Figure size 640x480 with 1 Axes>"
      ]
     },
     "metadata": {},
     "output_type": "display_data"
    }
   ],
   "source": [
    "plt.plot(pd.DataFrame(history.history))\n",
    "plt.grid(True)\n",
    "plt.gca().set_ylim(0, 1)\n",
    "plt.show()"
   ]
  },
  {
   "cell_type": "code",
   "execution_count": 34,
   "id": "b4ce1684c39ddaf2",
   "metadata": {
    "collapsed": false,
    "jupyter": {
     "outputs_hidden": false
    }
   },
   "outputs": [
    {
     "name": "stdout",
     "output_type": "stream",
     "text": [
      "162/162 [==============================] - 0s 636us/step - loss: 0.4384\n"
     ]
    },
    {
     "data": {
      "text/plain": [
       "0.43840014934539795"
      ]
     },
     "execution_count": 34,
     "metadata": {},
     "output_type": "execute_result"
    }
   ],
   "source": [
    "model.evaluate(X_test, y_test)"
   ]
  },
  {
   "cell_type": "code",
   "execution_count": 35,
   "id": "4507daff65b29270",
   "metadata": {
    "collapsed": false,
    "jupyter": {
     "outputs_hidden": false
    }
   },
   "outputs": [
    {
     "data": {
      "text/plain": [
       "array([[0.71248454],\n",
       "       [1.6296394 ],\n",
       "       [3.3223798 ]], dtype=float32)"
      ]
     },
     "execution_count": 35,
     "metadata": {},
     "output_type": "execute_result"
    }
   ],
   "source": [
    "X_new = X_test[:3]\n",
    "y_pred = model.predict(X_new, verbose=0)\n",
    "y_pred"
   ]
  },
  {
   "cell_type": "code",
   "execution_count": 36,
   "id": "bb0c4c02116fb013",
   "metadata": {
    "collapsed": false,
    "jupyter": {
     "outputs_hidden": false
    }
   },
   "outputs": [
    {
     "data": {
      "text/plain": [
       "array([0.477  , 0.458  , 5.00001])"
      ]
     },
     "execution_count": 36,
     "metadata": {},
     "output_type": "execute_result"
    }
   ],
   "source": [
    "y_new = y_test[:3]\n",
    "y_new"
   ]
  },
  {
   "cell_type": "markdown",
   "id": "a44fdd443314daf",
   "metadata": {
    "collapsed": false,
    "jupyter": {
     "outputs_hidden": false
    }
   },
   "source": [
    "#### Building Complex Models Using the Functional API"
   ]
  },
  {
   "cell_type": "code",
   "execution_count": 37,
   "id": "cec46e47eafd4b0f",
   "metadata": {
    "collapsed": false,
    "jupyter": {
     "outputs_hidden": false
    }
   },
   "outputs": [],
   "source": [
    "input_ = keras.layers.Input(shape=X_train.shape[1:])\n",
    "hidden1 = keras.layers.Dense(30, activation=\"relu\")(input_)\n",
    "hidden2 = keras.layers.Dense(30, activation=\"relu\")(hidden1)\n",
    "concat = keras.layers.concatenate([input_, hidden2])\n",
    "output = keras.layers.Dense(1)(concat)\n",
    "model = keras.models.Model(inputs=[input_], outputs=[output])"
   ]
  },
  {
   "cell_type": "code",
   "execution_count": 38,
   "id": "4e4f3da528581633",
   "metadata": {
    "collapsed": false,
    "jupyter": {
     "outputs_hidden": false
    }
   },
   "outputs": [
    {
     "name": "stdout",
     "output_type": "stream",
     "text": [
      "Model: \"model\"\n",
      "__________________________________________________________________________________________________\n",
      " Layer (type)                Output Shape                 Param #   Connected to                  \n",
      "==================================================================================================\n",
      " input_1 (InputLayer)        [(None, 8)]                  0         []                            \n",
      "                                                                                                  \n",
      " dense_5 (Dense)             (None, 30)                   270       ['input_1[0][0]']             \n",
      "                                                                                                  \n",
      " dense_6 (Dense)             (None, 30)                   930       ['dense_5[0][0]']             \n",
      "                                                                                                  \n",
      " concatenate (Concatenate)   (None, 38)                   0         ['input_1[0][0]',             \n",
      "                                                                     'dense_6[0][0]']             \n",
      "                                                                                                  \n",
      " dense_7 (Dense)             (None, 1)                    39        ['concatenate[0][0]']         \n",
      "                                                                                                  \n",
      "==================================================================================================\n",
      "Total params: 1239 (4.84 KB)\n",
      "Trainable params: 1239 (4.84 KB)\n",
      "Non-trainable params: 0 (0.00 Byte)\n",
      "__________________________________________________________________________________________________\n"
     ]
    }
   ],
   "source": [
    "model.summary()"
   ]
  },
  {
   "cell_type": "code",
   "execution_count": 39,
   "id": "c68bdad084ac1afb",
   "metadata": {
    "collapsed": false,
    "jupyter": {
     "outputs_hidden": false
    }
   },
   "outputs": [],
   "source": [
    "input_A = keras.layers.Input(shape=[5], name=\"wide_input\")\n",
    "input_B = keras.layers.Input(shape=[6], name=\"deep_input\")\n",
    "hidden1 = keras.layers.Dense(30, activation=\"relu\")(input_B)\n",
    "hidden2 = keras.layers.Dense(30, activation=\"relu\")(hidden1)\n",
    "concat = keras.layers.concatenate([input_A, hidden2])\n",
    "output = keras.layers.Dense(1, name=\"output\")(concat)\n",
    "model = keras.models.Model(inputs=[input_A, input_B], outputs=[output])"
   ]
  },
  {
   "cell_type": "code",
   "execution_count": 40,
   "id": "c7c9f34cdf09a11d",
   "metadata": {
    "collapsed": false,
    "jupyter": {
     "outputs_hidden": false
    }
   },
   "outputs": [
    {
     "name": "stdout",
     "output_type": "stream",
     "text": [
      "Model: \"model_1\"\n",
      "__________________________________________________________________________________________________\n",
      " Layer (type)                Output Shape                 Param #   Connected to                  \n",
      "==================================================================================================\n",
      " deep_input (InputLayer)     [(None, 6)]                  0         []                            \n",
      "                                                                                                  \n",
      " dense_8 (Dense)             (None, 30)                   210       ['deep_input[0][0]']          \n",
      "                                                                                                  \n",
      " wide_input (InputLayer)     [(None, 5)]                  0         []                            \n",
      "                                                                                                  \n",
      " dense_9 (Dense)             (None, 30)                   930       ['dense_8[0][0]']             \n",
      "                                                                                                  \n",
      " concatenate_1 (Concatenate  (None, 35)                   0         ['wide_input[0][0]',          \n",
      " )                                                                   'dense_9[0][0]']             \n",
      "                                                                                                  \n",
      " output (Dense)              (None, 1)                    36        ['concatenate_1[0][0]']       \n",
      "                                                                                                  \n",
      "==================================================================================================\n",
      "Total params: 1176 (4.59 KB)\n",
      "Trainable params: 1176 (4.59 KB)\n",
      "Non-trainable params: 0 (0.00 Byte)\n",
      "__________________________________________________________________________________________________\n"
     ]
    }
   ],
   "source": [
    "model.summary()"
   ]
  },
  {
   "cell_type": "code",
   "execution_count": 41,
   "id": "1a5b90320a76d2ba",
   "metadata": {
    "collapsed": false,
    "jupyter": {
     "outputs_hidden": false
    }
   },
   "outputs": [
    {
     "name": "stdout",
     "output_type": "stream",
     "text": [
      "Epoch 1/20\n",
      "363/363 [==============================] - 1s 1ms/step - loss: 1.7596 - val_loss: 1.0661\n",
      "Epoch 2/20\n",
      "363/363 [==============================] - 0s 1ms/step - loss: 0.6758 - val_loss: 0.6179\n",
      "Epoch 3/20\n",
      "363/363 [==============================] - 0s 1ms/step - loss: 0.6046 - val_loss: 0.5581\n",
      "Epoch 4/20\n",
      "363/363 [==============================] - 0s 1ms/step - loss: 0.5660 - val_loss: 0.5274\n",
      "Epoch 5/20\n",
      "363/363 [==============================] - 0s 1ms/step - loss: 0.5402 - val_loss: 0.5028\n",
      "Epoch 6/20\n",
      "363/363 [==============================] - 0s 989us/step - loss: 0.5194 - val_loss: 0.4852\n",
      "Epoch 7/20\n",
      "363/363 [==============================] - 0s 1ms/step - loss: 0.5035 - val_loss: 0.4716\n",
      "Epoch 8/20\n",
      "363/363 [==============================] - 0s 1ms/step - loss: 0.4905 - val_loss: 0.4576\n",
      "Epoch 9/20\n",
      "363/363 [==============================] - 0s 1ms/step - loss: 0.4793 - val_loss: 0.4475\n",
      "Epoch 10/20\n",
      "363/363 [==============================] - 0s 1ms/step - loss: 0.4704 - val_loss: 0.4382\n",
      "Epoch 11/20\n",
      "363/363 [==============================] - 0s 922us/step - loss: 0.4630 - val_loss: 0.4326\n",
      "Epoch 12/20\n",
      "363/363 [==============================] - 0s 973us/step - loss: 0.4567 - val_loss: 0.4260\n",
      "Epoch 13/20\n",
      "363/363 [==============================] - 0s 964us/step - loss: 0.4511 - val_loss: 0.4223\n",
      "Epoch 14/20\n",
      "363/363 [==============================] - 0s 1ms/step - loss: 0.4463 - val_loss: 0.4172\n",
      "Epoch 15/20\n",
      "363/363 [==============================] - 0s 1ms/step - loss: 0.4419 - val_loss: 0.4152\n",
      "Epoch 16/20\n",
      "363/363 [==============================] - 0s 1ms/step - loss: 0.4380 - val_loss: 0.4099\n",
      "Epoch 17/20\n",
      "363/363 [==============================] - 0s 995us/step - loss: 0.4340 - val_loss: 0.4102\n",
      "Epoch 18/20\n",
      "363/363 [==============================] - 0s 981us/step - loss: 0.4313 - val_loss: 0.4091\n",
      "Epoch 19/20\n",
      "363/363 [==============================] - 0s 1ms/step - loss: 0.4276 - val_loss: 0.4068\n",
      "Epoch 20/20\n",
      "363/363 [==============================] - 0s 1ms/step - loss: 0.4247 - val_loss: 0.4211\n"
     ]
    }
   ],
   "source": [
    "model.compile(loss=\"mse\", optimizer=keras.optimizers.SGD(learning_rate=1e-3))\n",
    "\n",
    "X_train_A, X_train_B = X_train[:, :5], X_train[:, 2:]\n",
    "X_valid_A, X_valid_B = X_valid[:, :5], X_valid[:, 2:]\n",
    "X_test_A, X_test_B = X_test[:, :5], X_test[:, 2:]\n",
    "X_new_A, X_new_B = X_test_A[:3], X_test_B[:3]\n",
    "\n",
    "model.fit((X_train_A, X_train_B), y_train, epochs=20, \n",
    "          validation_data=((X_valid_A, X_valid_B), y_valid));"
   ]
  },
  {
   "cell_type": "code",
   "execution_count": 42,
   "id": "8fd57d74990dea1b",
   "metadata": {
    "collapsed": false,
    "jupyter": {
     "outputs_hidden": false
    }
   },
   "outputs": [
    {
     "name": "stdout",
     "output_type": "stream",
     "text": [
      "162/162 [==============================] - 0s 649us/step - loss: 0.4170\n"
     ]
    },
    {
     "data": {
      "text/plain": [
       "0.41699695587158203"
      ]
     },
     "execution_count": 42,
     "metadata": {},
     "output_type": "execute_result"
    }
   ],
   "source": [
    "model.evaluate((X_test_A, X_test_B), y_test)"
   ]
  },
  {
   "cell_type": "code",
   "execution_count": 43,
   "id": "3735e8379a02c35e",
   "metadata": {
    "collapsed": false,
    "jupyter": {
     "outputs_hidden": false
    }
   },
   "outputs": [
    {
     "data": {
      "text/plain": [
       "array([[0.39924923],\n",
       "       [1.9868264 ],\n",
       "       [3.2924902 ]], dtype=float32)"
      ]
     },
     "execution_count": 43,
     "metadata": {},
     "output_type": "execute_result"
    }
   ],
   "source": [
    "y_pred = model.predict((X_new_A, X_new_B), verbose=0)\n",
    "y_pred"
   ]
  },
  {
   "cell_type": "code",
   "execution_count": 44,
   "id": "6d77d73f2128022c",
   "metadata": {
    "collapsed": false,
    "jupyter": {
     "outputs_hidden": false
    }
   },
   "outputs": [
    {
     "name": "stdout",
     "output_type": "stream",
     "text": [
      "Epoch 1/20\n",
      "363/363 [==============================] - 1s 2ms/step - loss: 2.6710 - main_output_loss: 2.4461 - aux_output_loss: 4.6949 - val_loss: 2.0135 - val_main_output_loss: 1.7630 - val_aux_output_loss: 4.2681\n",
      "Epoch 2/20\n",
      "363/363 [==============================] - 0s 1ms/step - loss: 1.0915 - main_output_loss: 0.8915 - aux_output_loss: 2.8916 - val_loss: 1.2322 - val_main_output_loss: 0.9515 - val_aux_output_loss: 3.7585\n",
      "Epoch 3/20\n",
      "363/363 [==============================] - 0s 948us/step - loss: 0.8570 - main_output_loss: 0.7195 - aux_output_loss: 2.0948 - val_loss: 0.9596 - val_main_output_loss: 0.6698 - val_aux_output_loss: 3.5672\n",
      "Epoch 4/20\n",
      "363/363 [==============================] - 0s 1ms/step - loss: 0.7619 - main_output_loss: 0.6553 - aux_output_loss: 1.7209 - val_loss: 0.9015 - val_main_output_loss: 0.6183 - val_aux_output_loss: 3.4507\n",
      "Epoch 5/20\n",
      "363/363 [==============================] - 0s 997us/step - loss: 0.7084 - main_output_loss: 0.6175 - aux_output_loss: 1.5264 - val_loss: 0.8678 - val_main_output_loss: 0.5995 - val_aux_output_loss: 3.2825\n",
      "Epoch 6/20\n",
      "363/363 [==============================] - 0s 972us/step - loss: 0.6678 - main_output_loss: 0.5855 - aux_output_loss: 1.4085 - val_loss: 0.8324 - val_main_output_loss: 0.5823 - val_aux_output_loss: 3.0826\n",
      "Epoch 7/20\n",
      "363/363 [==============================] - 0s 986us/step - loss: 0.6353 - main_output_loss: 0.5585 - aux_output_loss: 1.3265 - val_loss: 0.8023 - val_main_output_loss: 0.5761 - val_aux_output_loss: 2.8375\n",
      "Epoch 8/20\n",
      "363/363 [==============================] - 0s 1ms/step - loss: 0.6059 - main_output_loss: 0.5337 - aux_output_loss: 1.2557 - val_loss: 0.7585 - val_main_output_loss: 0.5514 - val_aux_output_loss: 2.6223\n",
      "Epoch 9/20\n",
      "363/363 [==============================] - 0s 1ms/step - loss: 0.5801 - main_output_loss: 0.5115 - aux_output_loss: 1.1983 - val_loss: 0.7136 - val_main_output_loss: 0.5230 - val_aux_output_loss: 2.4296\n",
      "Epoch 10/20\n",
      "363/363 [==============================] - 0s 977us/step - loss: 0.5587 - main_output_loss: 0.4933 - aux_output_loss: 1.1470 - val_loss: 0.6794 - val_main_output_loss: 0.5060 - val_aux_output_loss: 2.2396\n",
      "Epoch 11/20\n",
      "363/363 [==============================] - 0s 983us/step - loss: 0.5406 - main_output_loss: 0.4781 - aux_output_loss: 1.1026 - val_loss: 0.6337 - val_main_output_loss: 0.4699 - val_aux_output_loss: 2.1079\n",
      "Epoch 12/20\n",
      "363/363 [==============================] - 0s 1ms/step - loss: 0.5259 - main_output_loss: 0.4663 - aux_output_loss: 1.0622 - val_loss: 0.6049 - val_main_output_loss: 0.4535 - val_aux_output_loss: 1.9679\n",
      "Epoch 13/20\n",
      "363/363 [==============================] - 0s 1ms/step - loss: 0.5136 - main_output_loss: 0.4566 - aux_output_loss: 1.0263 - val_loss: 0.5758 - val_main_output_loss: 0.4335 - val_aux_output_loss: 1.8563\n",
      "Epoch 14/20\n",
      "363/363 [==============================] - 0s 1ms/step - loss: 0.5038 - main_output_loss: 0.4493 - aux_output_loss: 0.9943 - val_loss: 0.5538 - val_main_output_loss: 0.4204 - val_aux_output_loss: 1.7543\n",
      "Epoch 15/20\n",
      "363/363 [==============================] - 0s 960us/step - loss: 0.4953 - main_output_loss: 0.4430 - aux_output_loss: 0.9657 - val_loss: 0.5359 - val_main_output_loss: 0.4108 - val_aux_output_loss: 1.6615\n",
      "Epoch 16/20\n",
      "363/363 [==============================] - 0s 985us/step - loss: 0.4885 - main_output_loss: 0.4383 - aux_output_loss: 0.9405 - val_loss: 0.5211 - val_main_output_loss: 0.4042 - val_aux_output_loss: 1.5727\n",
      "Epoch 17/20\n",
      "363/363 [==============================] - 0s 996us/step - loss: 0.4824 - main_output_loss: 0.4340 - aux_output_loss: 0.9179 - val_loss: 0.5100 - val_main_output_loss: 0.4002 - val_aux_output_loss: 1.4978\n",
      "Epoch 18/20\n",
      "363/363 [==============================] - 0s 969us/step - loss: 0.4776 - main_output_loss: 0.4312 - aux_output_loss: 0.8955 - val_loss: 0.5003 - val_main_output_loss: 0.3973 - val_aux_output_loss: 1.4277\n",
      "Epoch 19/20\n",
      "363/363 [==============================] - 0s 932us/step - loss: 0.4726 - main_output_loss: 0.4276 - aux_output_loss: 0.8771 - val_loss: 0.4921 - val_main_output_loss: 0.3960 - val_aux_output_loss: 1.3567\n",
      "Epoch 20/20\n",
      "363/363 [==============================] - 0s 984us/step - loss: 0.4688 - main_output_loss: 0.4255 - aux_output_loss: 0.8585 - val_loss: 0.4895 - val_main_output_loss: 0.3983 - val_aux_output_loss: 1.3105\n"
     ]
    }
   ],
   "source": [
    "input_A = keras.layers.Input(shape=[5], name=\"wide_input\")\n",
    "input_B = keras.layers.Input(shape=[6], name=\"deep_input\")\n",
    "hidden1 = keras.layers.Dense(30, activation=\"relu\")(input_B)\n",
    "hidden2 = keras.layers.Dense(30, activation=\"relu\")(hidden1)\n",
    "concat = keras.layers.concatenate([input_A, hidden2])\n",
    "output = keras.layers.Dense(1, name=\"main_output\")(concat)\n",
    "aux_output = keras.layers.Dense(1, name=\"aux_output\")(hidden2)\n",
    "model = keras.models.Model(inputs=[input_A, input_B], outputs=[output, aux_output])\n",
    "\n",
    "model.compile(loss=[\"mse\", \"mse\"], loss_weights=[0.9, 0.1], optimizer=keras.optimizers.SGD(learning_rate=1e-3))\n",
    "model.fit([X_train_A, X_train_B], [y_train, y_train], epochs=20, \n",
    "          validation_data=([X_valid_A, X_valid_B], [y_valid, y_valid]));"
   ]
  },
  {
   "cell_type": "code",
   "execution_count": 45,
   "id": "6b6eef4c61029c02",
   "metadata": {
    "collapsed": false,
    "jupyter": {
     "outputs_hidden": false
    }
   },
   "outputs": [
    {
     "name": "stdout",
     "output_type": "stream",
     "text": [
      "162/162 [==============================] - 0s 617us/step - loss: 0.4587 - main_output_loss: 0.4175 - aux_output_loss: 0.8292\n"
     ]
    },
    {
     "data": {
      "text/plain": [
       "[0.4587123990058899, 0.41754382848739624, 0.8292308449745178]"
      ]
     },
     "execution_count": 45,
     "metadata": {},
     "output_type": "execute_result"
    }
   ],
   "source": [
    "model.evaluate([X_test_A, X_test_B], [y_test, y_test]) # total_loss, main_loss, aux_loss"
   ]
  },
  {
   "cell_type": "code",
   "execution_count": 46,
   "id": "d208b808681faae1",
   "metadata": {
    "collapsed": false,
    "jupyter": {
     "outputs_hidden": false
    }
   },
   "outputs": [
    {
     "data": {
      "text/plain": [
       "(array([[0.570667 ],\n",
       "        [2.055773 ],\n",
       "        [3.2423906]], dtype=float32),\n",
       " array([[1.2793012],\n",
       "        [2.0678008],\n",
       "        [2.476068 ]], dtype=float32))"
      ]
     },
     "execution_count": 46,
     "metadata": {},
     "output_type": "execute_result"
    }
   ],
   "source": [
    "y_pred_main, y_pred_aux = model.predict((X_new_A, X_new_B), verbose=0)\n",
    "y_pred_main, y_pred_aux"
   ]
  },
  {
   "cell_type": "markdown",
   "id": "2fc0a47ddc167d49",
   "metadata": {
    "collapsed": false,
    "jupyter": {
     "outputs_hidden": false
    }
   },
   "source": [
    "#### Using the Subclassing API to Build Dynamic Models"
   ]
  },
  {
   "cell_type": "code",
   "execution_count": 47,
   "id": "4c38574b47f7dd1f",
   "metadata": {
    "collapsed": false,
    "jupyter": {
     "outputs_hidden": false
    }
   },
   "outputs": [],
   "source": [
    "class WideAndDeepModel(keras.models.Model):\n",
    "    def __init__(self, units=30, activation=\"relu\", **kwargs):\n",
    "        super().__init__(**kwargs)\n",
    "        self.hidden1 = keras.layers.Dense(units, activation=activation)\n",
    "        self.hidden2 = keras.layers.Dense(units, activation=activation)\n",
    "        self.main_output = keras.layers.Dense(1)\n",
    "        self.aux_output = keras.layers.Dense(1)\n",
    "    \n",
    "    def call(self, inputs, training=None, mask=None):\n",
    "        input_A, input_B = inputs\n",
    "        hidden1 = self.hidden1(input_B)\n",
    "        hidden2 = self.hidden2(hidden1)\n",
    "        concat = keras.layers.concatenate([input_A, hidden2])\n",
    "        main_output = self.main_output(concat)\n",
    "        aux_output = self.aux_output(hidden2)\n",
    "        return main_output, aux_output\n",
    "\n",
    "model = WideAndDeepModel(30, activation=\"relu\")"
   ]
  },
  {
   "cell_type": "code",
   "execution_count": 48,
   "id": "50ce91acb9ce900",
   "metadata": {
    "collapsed": false,
    "jupyter": {
     "outputs_hidden": false
    }
   },
   "outputs": [
    {
     "name": "stdout",
     "output_type": "stream",
     "text": [
      "Epoch 1/20\n",
      "363/363 [==============================] - 1s 1ms/step - loss: 2.0078 - output_1_loss: 1.7182 - output_2_loss: 4.6141 - val_loss: 1.6397 - val_output_1_loss: 1.1151 - val_output_2_loss: 6.3616\n",
      "Epoch 2/20\n",
      "363/363 [==============================] - 0s 874us/step - loss: 1.0102 - output_1_loss: 0.7636 - output_2_loss: 3.2297 - val_loss: 1.2468 - val_output_1_loss: 0.6872 - val_output_2_loss: 6.2830\n",
      "Epoch 3/20\n",
      "363/363 [==============================] - 0s 914us/step - loss: 0.8551 - output_1_loss: 0.6810 - output_2_loss: 2.4224 - val_loss: 1.1792 - val_output_1_loss: 0.6340 - val_output_2_loss: 6.0855\n",
      "Epoch 4/20\n",
      "363/363 [==============================] - 0s 878us/step - loss: 0.7719 - output_1_loss: 0.6369 - output_2_loss: 1.9864 - val_loss: 1.0912 - val_output_1_loss: 0.5929 - val_output_2_loss: 5.5755\n",
      "Epoch 5/20\n",
      "363/363 [==============================] - 0s 953us/step - loss: 0.7202 - output_1_loss: 0.6068 - output_2_loss: 1.7409 - val_loss: 0.9956 - val_output_1_loss: 0.5634 - val_output_2_loss: 4.8863\n",
      "Epoch 6/20\n",
      "363/363 [==============================] - 0s 887us/step - loss: 0.6811 - output_1_loss: 0.5794 - output_2_loss: 1.5968 - val_loss: 0.9042 - val_output_1_loss: 0.5378 - val_output_2_loss: 4.2016\n",
      "Epoch 7/20\n",
      "363/363 [==============================] - 0s 889us/step - loss: 0.6525 - output_1_loss: 0.5581 - output_2_loss: 1.5026 - val_loss: 0.8196 - val_output_1_loss: 0.5187 - val_output_2_loss: 3.5281\n",
      "Epoch 8/20\n",
      "363/363 [==============================] - 0s 884us/step - loss: 0.6275 - output_1_loss: 0.5382 - output_2_loss: 1.4316 - val_loss: 0.7474 - val_output_1_loss: 0.4996 - val_output_2_loss: 2.9775\n",
      "Epoch 9/20\n",
      "363/363 [==============================] - 0s 865us/step - loss: 0.6051 - output_1_loss: 0.5195 - output_2_loss: 1.3755 - val_loss: 0.6855 - val_output_1_loss: 0.4797 - val_output_2_loss: 2.5379\n",
      "Epoch 10/20\n",
      "363/363 [==============================] - 0s 912us/step - loss: 0.5863 - output_1_loss: 0.5039 - output_2_loss: 1.3273 - val_loss: 0.6374 - val_output_1_loss: 0.4678 - val_output_2_loss: 2.1637\n",
      "Epoch 11/20\n",
      "363/363 [==============================] - 0s 851us/step - loss: 0.5703 - output_1_loss: 0.4907 - output_2_loss: 1.2867 - val_loss: 0.5995 - val_output_1_loss: 0.4519 - val_output_2_loss: 1.9277\n",
      "Epoch 12/20\n",
      "363/363 [==============================] - 0s 885us/step - loss: 0.5570 - output_1_loss: 0.4797 - output_2_loss: 1.2528 - val_loss: 0.5677 - val_output_1_loss: 0.4416 - val_output_2_loss: 1.7027\n",
      "Epoch 13/20\n",
      "363/363 [==============================] - 0s 884us/step - loss: 0.5459 - output_1_loss: 0.4707 - output_2_loss: 1.2225 - val_loss: 0.5450 - val_output_1_loss: 0.4349 - val_output_2_loss: 1.5357\n",
      "Epoch 14/20\n",
      "363/363 [==============================] - 0s 916us/step - loss: 0.5371 - output_1_loss: 0.4641 - output_2_loss: 1.1946 - val_loss: 0.5262 - val_output_1_loss: 0.4272 - val_output_2_loss: 1.4173\n",
      "Epoch 15/20\n",
      "363/363 [==============================] - 0s 863us/step - loss: 0.5284 - output_1_loss: 0.4572 - output_2_loss: 1.1694 - val_loss: 0.5119 - val_output_1_loss: 0.4211 - val_output_2_loss: 1.3287\n",
      "Epoch 16/20\n",
      "363/363 [==============================] - 0s 902us/step - loss: 0.5214 - output_1_loss: 0.4520 - output_2_loss: 1.1465 - val_loss: 0.5007 - val_output_1_loss: 0.4172 - val_output_2_loss: 1.2526\n",
      "Epoch 17/20\n",
      "363/363 [==============================] - 0s 849us/step - loss: 0.5148 - output_1_loss: 0.4470 - output_2_loss: 1.1247 - val_loss: 0.4905 - val_output_1_loss: 0.4127 - val_output_2_loss: 1.1908\n",
      "Epoch 18/20\n",
      "363/363 [==============================] - 0s 875us/step - loss: 0.5098 - output_1_loss: 0.4438 - output_2_loss: 1.1035 - val_loss: 0.4839 - val_output_1_loss: 0.4107 - val_output_2_loss: 1.1426\n",
      "Epoch 19/20\n",
      "363/363 [==============================] - 0s 880us/step - loss: 0.5041 - output_1_loss: 0.4396 - output_2_loss: 1.0842 - val_loss: 0.4762 - val_output_1_loss: 0.4069 - val_output_2_loss: 1.0996\n",
      "Epoch 20/20\n",
      "363/363 [==============================] - 0s 881us/step - loss: 0.4999 - output_1_loss: 0.4371 - output_2_loss: 1.0650 - val_loss: 0.4768 - val_output_1_loss: 0.4114 - val_output_2_loss: 1.0654\n"
     ]
    }
   ],
   "source": [
    "model.compile(loss=\"mse\", loss_weights=[0.9, 0.1], optimizer=keras.optimizers.SGD(learning_rate=1e-3))\n",
    "model.fit((X_train_A, X_train_B), (y_train, y_train), epochs=20, \n",
    "          validation_data=((X_valid_A, X_valid_B), (y_valid, y_valid)));"
   ]
  },
  {
   "cell_type": "code",
   "execution_count": 49,
   "id": "52226e9cb4f2a7a4",
   "metadata": {
    "collapsed": false,
    "jupyter": {
     "outputs_hidden": false
    }
   },
   "outputs": [
    {
     "name": "stdout",
     "output_type": "stream",
     "text": [
      "162/162 [==============================] - 0s 563us/step - loss: 0.4935 - output_1_loss: 0.4331 - output_2_loss: 1.0368\n"
     ]
    },
    {
     "data": {
      "text/plain": [
       "[0.49349603056907654, 0.43312856554985046, 1.0368049144744873]"
      ]
     },
     "execution_count": 49,
     "metadata": {},
     "output_type": "execute_result"
    }
   ],
   "source": [
    "model.evaluate((X_test_A, X_test_B), (y_test, y_test)) # total_loss, main_loss, aux_loss"
   ]
  },
  {
   "cell_type": "code",
   "execution_count": 50,
   "id": "2055189e9869a5df",
   "metadata": {
    "collapsed": false,
    "jupyter": {
     "outputs_hidden": false
    }
   },
   "outputs": [
    {
     "name": "stdout",
     "output_type": "stream",
     "text": [
      "WARNING:tensorflow:5 out of the last 6 calls to <function Model.make_predict_function.<locals>.predict_function at 0x000001D23828ED30> triggered tf.function retracing. Tracing is expensive and the excessive number of tracings could be due to (1) creating @tf.function repeatedly in a loop, (2) passing tensors with different shapes, (3) passing Python objects instead of tensors. For (1), please define your @tf.function outside of the loop. For (2), @tf.function has reduce_retracing=True option that can avoid unnecessary retracing. For (3), please refer to https://www.tensorflow.org/guide/function#controlling_retracing and https://www.tensorflow.org/api_docs/python/tf/function for  more details.\n"
     ]
    },
    {
     "data": {
      "text/plain": [
       "(array([[0.49490327],\n",
       "        [1.9394002 ],\n",
       "        [3.1647596 ]], dtype=float32),\n",
       " array([[1.4400126],\n",
       "        [1.8639205],\n",
       "        [2.3755949]], dtype=float32))"
      ]
     },
     "execution_count": 50,
     "metadata": {},
     "output_type": "execute_result"
    }
   ],
   "source": [
    "y_pred_main, y_pred_aux = model.predict((X_new_A, X_new_B), verbose=0)\n",
    "y_pred_main, y_pred_aux"
   ]
  },
  {
   "cell_type": "markdown",
   "id": "593e0d013b1fccb5",
   "metadata": {
    "collapsed": false,
    "jupyter": {
     "outputs_hidden": false
    }
   },
   "source": [
    "#### Saving and Restoring a Model"
   ]
  },
  {
   "cell_type": "code",
   "execution_count": 51,
   "id": "5a510ec71d345f73",
   "metadata": {
    "collapsed": false,
    "jupyter": {
     "outputs_hidden": false
    }
   },
   "outputs": [],
   "source": [
    "model = keras.models.Sequential([\n",
    "    keras.layers.Dense(30, activation=\"relu\", input_shape=[8]),\n",
    "    keras.layers.Dense(30, activation=\"relu\"),\n",
    "    keras.layers.Dense(1)\n",
    "])"
   ]
  },
  {
   "cell_type": "code",
   "execution_count": 52,
   "id": "cbb7ae22f3c42466",
   "metadata": {
    "collapsed": false,
    "jupyter": {
     "outputs_hidden": false
    }
   },
   "outputs": [
    {
     "name": "stdout",
     "output_type": "stream",
     "text": [
      "Epoch 1/10\n",
      "363/363 [==============================] - 0s 926us/step - loss: 2.0995 - val_loss: 0.9966\n",
      "Epoch 2/10\n",
      "363/363 [==============================] - 0s 799us/step - loss: 0.8223 - val_loss: 0.9484\n",
      "Epoch 3/10\n",
      "363/363 [==============================] - 0s 839us/step - loss: 0.6872 - val_loss: 0.7134\n",
      "Epoch 4/10\n",
      "363/363 [==============================] - 0s 760us/step - loss: 0.6343 - val_loss: 0.5798\n",
      "Epoch 5/10\n",
      "363/363 [==============================] - 0s 790us/step - loss: 0.5991 - val_loss: 0.5447\n",
      "Epoch 6/10\n",
      "363/363 [==============================] - 0s 766us/step - loss: 0.5694 - val_loss: 0.5301\n",
      "Epoch 7/10\n",
      "363/363 [==============================] - 0s 816us/step - loss: 0.5452 - val_loss: 0.5141\n",
      "Epoch 8/10\n",
      "363/363 [==============================] - 0s 792us/step - loss: 0.5241 - val_loss: 0.4783\n",
      "Epoch 9/10\n",
      "363/363 [==============================] - 0s 787us/step - loss: 0.5054 - val_loss: 0.4624\n",
      "Epoch 10/10\n",
      "363/363 [==============================] - 0s 775us/step - loss: 0.4897 - val_loss: 0.4486\n"
     ]
    }
   ],
   "source": [
    "model.compile(loss=\"mse\", optimizer=keras.optimizers.SGD(learning_rate=1e-3))\n",
    "model.fit(X_train, y_train, epochs=10, validation_data=(X_valid, y_valid));"
   ]
  },
  {
   "cell_type": "code",
   "execution_count": 53,
   "id": "e5e7f8d86ef5e51b",
   "metadata": {
    "collapsed": false,
    "jupyter": {
     "outputs_hidden": false
    }
   },
   "outputs": [
    {
     "name": "stdout",
     "output_type": "stream",
     "text": [
      "162/162 [==============================] - 0s 502us/step - loss: 0.4671\n"
     ]
    },
    {
     "data": {
      "text/plain": [
       "0.46712517738342285"
      ]
     },
     "execution_count": 53,
     "metadata": {},
     "output_type": "execute_result"
    }
   ],
   "source": [
    "model.evaluate(X_test, y_test)"
   ]
  },
  {
   "cell_type": "code",
   "execution_count": 54,
   "id": "3e9b8001-2471-4168-8759-b2ac8f7b2f55",
   "metadata": {},
   "outputs": [
    {
     "name": "stdout",
     "output_type": "stream",
     "text": [
      "WARNING:tensorflow:6 out of the last 7 calls to <function Model.make_predict_function.<locals>.predict_function at 0x000001D239B33670> triggered tf.function retracing. Tracing is expensive and the excessive number of tracings could be due to (1) creating @tf.function repeatedly in a loop, (2) passing tensors with different shapes, (3) passing Python objects instead of tensors. For (1), please define your @tf.function outside of the loop. For (2), @tf.function has reduce_retracing=True option that can avoid unnecessary retracing. For (3), please refer to https://www.tensorflow.org/guide/function#controlling_retracing and https://www.tensorflow.org/api_docs/python/tf/function for  more details.\n",
      "1/1 [==============================] - 0s 31ms/step\n"
     ]
    },
    {
     "data": {
      "text/plain": [
       "array([[0.56384164],\n",
       "       [1.4558463 ],\n",
       "       [2.8511465 ]], dtype=float32)"
      ]
     },
     "execution_count": 54,
     "metadata": {},
     "output_type": "execute_result"
    }
   ],
   "source": [
    "model.predict(X_new)"
   ]
  },
  {
   "cell_type": "code",
   "execution_count": 55,
   "id": "603dcf5011760dc8",
   "metadata": {
    "collapsed": false,
    "jupyter": {
     "outputs_hidden": false
    }
   },
   "outputs": [],
   "source": [
    "model.save(\"temp_model.keras\")\n",
    "model = keras.models.load_model(\"temp_model.keras\")"
   ]
  },
  {
   "cell_type": "code",
   "execution_count": 56,
   "id": "a2aa5ab4cbe9e223",
   "metadata": {
    "collapsed": false,
    "jupyter": {
     "outputs_hidden": false
    }
   },
   "outputs": [
    {
     "name": "stdout",
     "output_type": "stream",
     "text": [
      "162/162 [==============================] - 0s 514us/step - loss: 0.4671\n"
     ]
    },
    {
     "data": {
      "text/plain": [
       "0.46712517738342285"
      ]
     },
     "execution_count": 56,
     "metadata": {},
     "output_type": "execute_result"
    }
   ],
   "source": [
    "model.evaluate(X_test, y_test)"
   ]
  },
  {
   "cell_type": "code",
   "execution_count": 57,
   "id": "a681ef195beb8b36",
   "metadata": {
    "collapsed": false,
    "jupyter": {
     "outputs_hidden": false
    }
   },
   "outputs": [
    {
     "name": "stdout",
     "output_type": "stream",
     "text": [
      "1/1 [==============================] - 0s 30ms/step\n"
     ]
    },
    {
     "data": {
      "text/plain": [
       "array([[0.56384164],\n",
       "       [1.4558463 ],\n",
       "       [2.8511465 ]], dtype=float32)"
      ]
     },
     "execution_count": 57,
     "metadata": {},
     "output_type": "execute_result"
    }
   ],
   "source": [
    "model.predict(X_new)"
   ]
  },
  {
   "cell_type": "markdown",
   "id": "4d8e61b0a6bab8d5",
   "metadata": {
    "collapsed": false,
    "jupyter": {
     "outputs_hidden": false
    }
   },
   "source": [
    "#### Using Callbacks"
   ]
  },
  {
   "cell_type": "code",
   "execution_count": 58,
   "id": "6ffccc1347aed08f",
   "metadata": {
    "collapsed": false,
    "jupyter": {
     "outputs_hidden": false
    }
   },
   "outputs": [],
   "source": [
    "model = keras.models.Sequential([\n",
    "    keras.layers.Dense(30, activation=\"relu\", input_shape=[8]),\n",
    "    keras.layers.Dense(30, activation=\"relu\"),\n",
    "    keras.layers.Dense(1)\n",
    "])"
   ]
  },
  {
   "cell_type": "code",
   "execution_count": 59,
   "id": "96b113c4768df852",
   "metadata": {
    "collapsed": false,
    "jupyter": {
     "outputs_hidden": false
    }
   },
   "outputs": [
    {
     "name": "stdout",
     "output_type": "stream",
     "text": [
      "Epoch 1/10\n",
      "363/363 [==============================] - 1s 970us/step - loss: 2.3710 - val_loss: 1.0115\n",
      "Epoch 2/10\n",
      "363/363 [==============================] - 0s 807us/step - loss: 0.8887 - val_loss: 0.7591\n",
      "Epoch 3/10\n",
      "363/363 [==============================] - 0s 787us/step - loss: 0.7130 - val_loss: 0.6587\n",
      "Epoch 4/10\n",
      "363/363 [==============================] - 0s 811us/step - loss: 0.6233 - val_loss: 0.5519\n",
      "Epoch 5/10\n",
      "363/363 [==============================] - 0s 805us/step - loss: 0.5666 - val_loss: 0.5134\n",
      "Epoch 6/10\n",
      "363/363 [==============================] - 0s 797us/step - loss: 0.5267 - val_loss: 0.4778\n",
      "Epoch 7/10\n",
      "363/363 [==============================] - 0s 805us/step - loss: 0.4986 - val_loss: 0.4542\n",
      "Epoch 8/10\n",
      "363/363 [==============================] - 0s 778us/step - loss: 0.4775 - val_loss: 0.4577\n",
      "Epoch 9/10\n",
      "363/363 [==============================] - 0s 801us/step - loss: 0.4610 - val_loss: 0.4381\n",
      "Epoch 10/10\n",
      "363/363 [==============================] - 0s 820us/step - loss: 0.4484 - val_loss: 0.4278\n"
     ]
    }
   ],
   "source": [
    "checkpoint_cb = keras.callbacks.ModelCheckpoint(\"temp_model.keras\", save_best_only=True)\n",
    "\n",
    "model.compile(loss=\"mse\", optimizer=keras.optimizers.SGD(learning_rate=1e-3))\n",
    "model.fit(X_train, y_train, epochs=10, validation_data=(X_valid, y_valid), \n",
    "          callbacks=[checkpoint_cb]);"
   ]
  },
  {
   "cell_type": "code",
   "execution_count": 60,
   "id": "1d2223020fe67b9c",
   "metadata": {
    "collapsed": false,
    "jupyter": {
     "outputs_hidden": false
    }
   },
   "outputs": [],
   "source": [
    "model = keras.models.load_model(\"temp_model.keras\") # rollback to best model"
   ]
  },
  {
   "cell_type": "code",
   "execution_count": 61,
   "id": "c724d6ca52decf33",
   "metadata": {
    "collapsed": false,
    "jupyter": {
     "outputs_hidden": false
    }
   },
   "outputs": [
    {
     "name": "stdout",
     "output_type": "stream",
     "text": [
      "121/121 [==============================] - 0s 522us/step - loss: 0.4278\n"
     ]
    },
    {
     "data": {
      "text/plain": [
       "0.4278120994567871"
      ]
     },
     "execution_count": 61,
     "metadata": {},
     "output_type": "execute_result"
    }
   ],
   "source": [
    "model.evaluate(X_valid, y_valid)"
   ]
  },
  {
   "cell_type": "code",
   "execution_count": 62,
   "id": "8a4d0753295a8485",
   "metadata": {
    "collapsed": false,
    "jupyter": {
     "outputs_hidden": false
    }
   },
   "outputs": [
    {
     "name": "stdout",
     "output_type": "stream",
     "text": [
      "Epoch 1/100\n",
      "363/363 [==============================] - 1s 951us/step - loss: 0.4385 - val_loss: 0.4353\n",
      "Epoch 2/100\n",
      "363/363 [==============================] - 0s 792us/step - loss: 0.4302 - val_loss: 0.4545\n",
      "Epoch 3/100\n",
      "363/363 [==============================] - 0s 814us/step - loss: 0.4235 - val_loss: 0.4382\n",
      "Epoch 4/100\n",
      "363/363 [==============================] - 0s 777us/step - loss: 0.4175 - val_loss: 0.4583\n",
      "Epoch 5/100\n",
      "363/363 [==============================] - 0s 812us/step - loss: 0.4128 - val_loss: 0.4433\n",
      "Epoch 6/100\n",
      "363/363 [==============================] - 0s 790us/step - loss: 0.4084 - val_loss: 0.4665\n",
      "Epoch 7/100\n",
      "363/363 [==============================] - 0s 792us/step - loss: 0.4049 - val_loss: 0.4512\n",
      "Epoch 8/100\n",
      "363/363 [==============================] - 0s 804us/step - loss: 0.4014 - val_loss: 0.4262\n",
      "Epoch 9/100\n",
      "363/363 [==============================] - 0s 834us/step - loss: 0.3984 - val_loss: 0.4354\n",
      "Epoch 10/100\n",
      "363/363 [==============================] - 0s 831us/step - loss: 0.3956 - val_loss: 0.4514\n",
      "Epoch 11/100\n",
      "363/363 [==============================] - 0s 802us/step - loss: 0.3933 - val_loss: 0.4166\n",
      "Epoch 12/100\n",
      "363/363 [==============================] - 0s 808us/step - loss: 0.3906 - val_loss: 0.4533\n",
      "Epoch 13/100\n",
      "363/363 [==============================] - 0s 800us/step - loss: 0.3885 - val_loss: 0.4491\n",
      "Epoch 14/100\n",
      "363/363 [==============================] - 0s 795us/step - loss: 0.3865 - val_loss: 0.4257\n",
      "Epoch 15/100\n",
      "363/363 [==============================] - 0s 779us/step - loss: 0.3847 - val_loss: 0.4342\n",
      "Epoch 16/100\n",
      "363/363 [==============================] - 0s 811us/step - loss: 0.3829 - val_loss: 0.4056\n",
      "Epoch 17/100\n",
      "363/363 [==============================] - 0s 851us/step - loss: 0.3813 - val_loss: 0.4391\n",
      "Epoch 18/100\n",
      "363/363 [==============================] - 0s 778us/step - loss: 0.3799 - val_loss: 0.4470\n",
      "Epoch 19/100\n",
      "363/363 [==============================] - 0s 834us/step - loss: 0.3781 - val_loss: 0.4154\n",
      "Epoch 20/100\n",
      "363/363 [==============================] - 0s 809us/step - loss: 0.3769 - val_loss: 0.4689\n",
      "Epoch 21/100\n",
      "363/363 [==============================] - 0s 813us/step - loss: 0.3754 - val_loss: 0.4493\n",
      "Epoch 22/100\n",
      "363/363 [==============================] - 0s 823us/step - loss: 0.3741 - val_loss: 0.4916\n",
      "Epoch 23/100\n",
      "363/363 [==============================] - 0s 848us/step - loss: 0.3729 - val_loss: 0.3791\n",
      "Epoch 24/100\n",
      "363/363 [==============================] - 0s 820us/step - loss: 0.3716 - val_loss: 0.4206\n",
      "Epoch 25/100\n",
      "363/363 [==============================] - 0s 807us/step - loss: 0.3704 - val_loss: 0.4442\n",
      "Epoch 26/100\n",
      "363/363 [==============================] - 0s 782us/step - loss: 0.3694 - val_loss: 0.4510\n",
      "Epoch 27/100\n",
      "363/363 [==============================] - 0s 799us/step - loss: 0.3685 - val_loss: 0.3792\n",
      "Epoch 28/100\n",
      "363/363 [==============================] - 0s 777us/step - loss: 0.3674 - val_loss: 0.4234\n",
      "Epoch 29/100\n",
      "363/363 [==============================] - 0s 777us/step - loss: 0.3664 - val_loss: 0.4044\n",
      "Epoch 30/100\n",
      "363/363 [==============================] - 0s 774us/step - loss: 0.3653 - val_loss: 0.4351\n",
      "Epoch 31/100\n",
      "363/363 [==============================] - 0s 815us/step - loss: 0.3643 - val_loss: 0.4006\n",
      "Epoch 32/100\n",
      "363/363 [==============================] - 0s 782us/step - loss: 0.3634 - val_loss: 0.4536\n",
      "Epoch 33/100\n",
      "363/363 [==============================] - 0s 783us/step - loss: 0.3631 - val_loss: 0.3852\n"
     ]
    }
   ],
   "source": [
    "early_stopping_cb = keras.callbacks.EarlyStopping(patience=10, restore_best_weights=True)\n",
    "\n",
    "model.compile(loss=\"mse\", optimizer=keras.optimizers.SGD(learning_rate=1e-3))\n",
    "model.fit(X_train, y_train, epochs=100, validation_data=(X_valid, y_valid), \n",
    "          callbacks=[checkpoint_cb, early_stopping_cb]);"
   ]
  },
  {
   "cell_type": "code",
   "execution_count": 63,
   "id": "d4b9163d82ee1fc8",
   "metadata": {
    "collapsed": false,
    "jupyter": {
     "outputs_hidden": false
    }
   },
   "outputs": [
    {
     "name": "stdout",
     "output_type": "stream",
     "text": [
      "121/121 [==============================] - 0s 526us/step - loss: 0.3791\n"
     ]
    },
    {
     "data": {
      "text/plain": [
       "0.37911900877952576"
      ]
     },
     "execution_count": 63,
     "metadata": {},
     "output_type": "execute_result"
    }
   ],
   "source": [
    "model.evaluate(X_valid, y_valid)"
   ]
  },
  {
   "cell_type": "code",
   "execution_count": 73,
   "id": "5f83dfa4f9512ba2",
   "metadata": {
    "collapsed": false,
    "jupyter": {
     "outputs_hidden": false
    }
   },
   "outputs": [],
   "source": [
    "class PrintValTrainRatioCallback(keras.callbacks.Callback):\n",
    "    def on_epoch_end(self, epoch, logs=None):\n",
    "        print(\"val/train: {:.2f}\".format(logs[\"val_loss\"] / logs[\"loss\"]))\n",
    "        \n",
    "val_train_ratio_cb = PrintValTrainRatioCallback()"
   ]
  },
  {
   "cell_type": "code",
   "execution_count": 77,
   "id": "17af36e2b6ab2fed",
   "metadata": {
    "collapsed": false,
    "jupyter": {
     "outputs_hidden": false
    }
   },
   "outputs": [
    {
     "name": "stdout",
     "output_type": "stream",
     "text": [
      "Epoch 1/3\n",
      "val/train: 1.05\n",
      "363/363 - 0s - loss: 0.3536 - val_loss: 0.3707 - 294ms/epoch - 810us/step\n",
      "Epoch 2/3\n",
      "val/train: 1.22\n",
      "363/363 - 0s - loss: 0.3529 - val_loss: 0.4322 - 263ms/epoch - 724us/step\n",
      "Epoch 3/3\n",
      "val/train: 1.11\n",
      "363/363 - 0s - loss: 0.3525 - val_loss: 0.3924 - 258ms/epoch - 712us/step\n"
     ]
    }
   ],
   "source": [
    "model.fit(X_train, y_train, epochs=3, validation_data=(X_valid, y_valid), \n",
    "          callbacks=[val_train_ratio_cb], verbose=2);"
   ]
  },
  {
   "cell_type": "markdown",
   "id": "9f50d5a48ffd0530",
   "metadata": {
    "collapsed": false,
    "jupyter": {
     "outputs_hidden": false
    }
   },
   "source": [
    "#### Using TensorBoard for Visualization"
   ]
  },
  {
   "cell_type": "code",
   "execution_count": null,
   "id": "aa2ea21d-bec4-4cf9-8517-fe4b103e4a1c",
   "metadata": {},
   "outputs": [],
   "source": []
  }
 ],
 "metadata": {
  "kernelspec": {
   "display_name": "Python 3 (ipykernel)",
   "language": "python",
   "name": "python3"
  },
  "language_info": {
   "codemirror_mode": {
    "name": "ipython",
    "version": 3
   },
   "file_extension": ".py",
   "mimetype": "text/x-python",
   "name": "python",
   "nbconvert_exporter": "python",
   "pygments_lexer": "ipython3",
   "version": "3.9.13"
  }
 },
 "nbformat": 4,
 "nbformat_minor": 5
}
