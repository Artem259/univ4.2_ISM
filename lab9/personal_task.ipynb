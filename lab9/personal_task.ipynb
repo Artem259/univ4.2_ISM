{
 "cells": [
  {
   "cell_type": "code",
   "execution_count": 1,
   "id": "initial_id",
   "metadata": {
    "ExecuteTime": {
     "end_time": "2024-03-14T00:07:40.305878900Z",
     "start_time": "2024-03-14T00:07:37.390989500Z"
    }
   },
   "outputs": [
    {
     "name": "stdout",
     "output_type": "stream",
     "text": [
      "WARNING:tensorflow:From C:\\GAMES and PROGRAMS\\my programs\\univ4.2\\univ4.2_ISM\\venv\\lib\\site-packages\\keras\\src\\losses.py:2976: The name tf.losses.sparse_softmax_cross_entropy is deprecated. Please use tf.compat.v1.losses.sparse_softmax_cross_entropy instead.\n"
     ]
    }
   ],
   "source": [
    "import numpy as np\n",
    "import pandas as pd\n",
    "import tensorflow as tf\n",
    "import os\n",
    "import time\n",
    "import tarfile\n",
    "import pathlib\n",
    "import PIL.Image"
   ]
  },
  {
   "cell_type": "code",
   "execution_count": 2,
   "id": "41042dbf-6104-429e-8fdf-3c6edb041eee",
   "metadata": {
    "ExecuteTime": {
     "end_time": "2024-03-14T00:07:40.324661900Z",
     "start_time": "2024-03-14T00:07:40.307143400Z"
    }
   },
   "outputs": [],
   "source": [
    "tf.get_logger().setLevel(\"ERROR\")"
   ]
  },
  {
   "cell_type": "code",
   "outputs": [],
   "source": [
    "DATASETS_DIR = \"data\"\n",
    "DATASETS_TGZ = \"datasets.tgz\"\n",
    "UNPACKED_DIR = os.path.join(\"data\", \"unpacked\")"
   ],
   "metadata": {
    "collapsed": false,
    "ExecuteTime": {
     "end_time": "2024-03-14T00:07:40.360093700Z",
     "start_time": "2024-03-14T00:07:40.324661900Z"
    }
   },
   "id": "1f4d0d3d5c4e8316",
   "execution_count": 3
  },
  {
   "cell_type": "code",
   "outputs": [],
   "source": [
    "os.makedirs(UNPACKED_DIR, exist_ok=True)\n",
    "tgz_path = os.path.join(DATASETS_DIR, DATASETS_TGZ)\n",
    "dataset_tgz = tarfile.open(tgz_path)\n",
    "dataset_tgz.extractall(path=UNPACKED_DIR)\n",
    "dataset_tgz.close()"
   ],
   "metadata": {
    "collapsed": false,
    "ExecuteTime": {
     "end_time": "2024-03-14T00:07:44.687380200Z",
     "start_time": "2024-03-14T00:07:40.337999Z"
    }
   },
   "id": "29aef4eb1ad7f569",
   "execution_count": 4
  },
  {
   "cell_type": "code",
   "outputs": [],
   "source": [
    "def read_csv_dataset(name, path=UNPACKED_DIR):\n",
    "    csv_path = os.path.join(path, name + \".csv\")\n",
    "    return pd.read_csv(csv_path)\n",
    "\n",
    "titanic_ds = read_csv_dataset(\"Titanic\")\n",
    "diamonds_ds = read_csv_dataset(\"diamonds\")"
   ],
   "metadata": {
    "collapsed": false,
    "ExecuteTime": {
     "end_time": "2024-03-14T00:07:44.734124300Z",
     "start_time": "2024-03-14T00:07:44.689441800Z"
    }
   },
   "id": "a3ac0f674a507a87",
   "execution_count": 5
  },
  {
   "cell_type": "code",
   "outputs": [
    {
     "name": "stdout",
     "output_type": "stream",
     "text": [
      "Found 6862 files belonging to 11 classes.\n",
      "Using 5147 files for training.\n",
      "Using 1715 files for validation.\n"
     ]
    }
   ],
   "source": [
    "def read_images_dataset(name, path=UNPACKED_DIR, image_size=32, train_split=0.75, val_split=0.15):\n",
    "    test_split = 1 - train_split - val_split\n",
    "    train_ds, val_test_ds = tf.keras.preprocessing.image_dataset_from_directory(\n",
    "        os.path.join(path, name),\n",
    "        labels=\"inferred\",\n",
    "        label_mode=\"int\",\n",
    "        color_mode=\"rgb\",\n",
    "        image_size=(image_size, image_size),\n",
    "        batch_size=32,\n",
    "        seed=42,\n",
    "        shuffle=True,\n",
    "        validation_split=val_split + test_split,\n",
    "        subset=\"both\"\n",
    "    )\n",
    "    classes = train_ds.class_names\n",
    "    train_ds = train_ds.prefetch(buffer_size=tf.data.experimental.AUTOTUNE)\n",
    "    val_test_ds = val_test_ds.prefetch(buffer_size=tf.data.experimental.AUTOTUNE)\n",
    "    \n",
    "    rescale = tf.keras.layers.experimental.preprocessing.Rescaling(1/255)\n",
    "    train_ds = train_ds.map(lambda x, y: (rescale(x), y))\n",
    "    val_test_ds = val_test_ds.map(lambda x, y: (rescale(x), y))\n",
    "    \n",
    "    size = len(val_test_ds)\n",
    "    val_ds = val_test_ds.take(int(size * (val_split / (val_split + test_split))))\n",
    "    test_ds = val_test_ds.skip(int(size * (val_split / (val_split + test_split))))\n",
    "    \n",
    "    return train_ds, val_ds, test_ds, classes\n",
    "\n",
    "image_size = 256\n",
    "weather_ds = read_images_dataset(\"weather-image\", image_size=image_size)"
   ],
   "metadata": {
    "collapsed": false,
    "ExecuteTime": {
     "end_time": "2024-03-14T00:07:45.190217500Z",
     "start_time": "2024-03-14T00:07:44.738438800Z"
    }
   },
   "id": "4b2cf4fa7996f9f4",
   "execution_count": 6
  },
  {
   "cell_type": "markdown",
   "id": "6a4e3aef121d31b9",
   "metadata": {
    "collapsed": false
   },
   "source": [
    "## From Biological to Artificial Neurons"
   ]
  },
  {
   "cell_type": "markdown",
   "id": "1e69cf5a3aa9621d",
   "metadata": {
    "collapsed": false
   },
   "source": [
    "#### The Perceptron"
   ]
  },
  {
   "cell_type": "code",
   "execution_count": 7,
   "id": "f70bc748c72744c5",
   "metadata": {
    "collapsed": false,
    "ExecuteTime": {
     "end_time": "2024-03-14T00:07:45.525075100Z",
     "start_time": "2024-03-14T00:07:45.191226600Z"
    }
   },
   "outputs": [
    {
     "data": {
      "text/plain": "   PassengerId  Survived  Pclass  \\\n0            1         0       3   \n1            2         1       1   \n2            3         1       3   \n\n                                                Name     Sex   Age  SibSp  \\\n0                            Braund, Mr. Owen Harris    male  22.0      1   \n1  Cumings, Mrs. John Bradley (Florence Briggs Th...  female  38.0      1   \n2                             Heikkinen, Miss. Laina  female  26.0      0   \n\n   Parch            Ticket     Fare Cabin Embarked  \n0      0         A/5 21171   7.2500   NaN        S  \n1      0          PC 17599  71.2833   C85        C  \n2      0  STON/O2. 3101282   7.9250   NaN        S  ",
      "text/html": "<div>\n<style scoped>\n    .dataframe tbody tr th:only-of-type {\n        vertical-align: middle;\n    }\n\n    .dataframe tbody tr th {\n        vertical-align: top;\n    }\n\n    .dataframe thead th {\n        text-align: right;\n    }\n</style>\n<table border=\"1\" class=\"dataframe\">\n  <thead>\n    <tr style=\"text-align: right;\">\n      <th></th>\n      <th>PassengerId</th>\n      <th>Survived</th>\n      <th>Pclass</th>\n      <th>Name</th>\n      <th>Sex</th>\n      <th>Age</th>\n      <th>SibSp</th>\n      <th>Parch</th>\n      <th>Ticket</th>\n      <th>Fare</th>\n      <th>Cabin</th>\n      <th>Embarked</th>\n    </tr>\n  </thead>\n  <tbody>\n    <tr>\n      <th>0</th>\n      <td>1</td>\n      <td>0</td>\n      <td>3</td>\n      <td>Braund, Mr. Owen Harris</td>\n      <td>male</td>\n      <td>22.0</td>\n      <td>1</td>\n      <td>0</td>\n      <td>A/5 21171</td>\n      <td>7.2500</td>\n      <td>NaN</td>\n      <td>S</td>\n    </tr>\n    <tr>\n      <th>1</th>\n      <td>2</td>\n      <td>1</td>\n      <td>1</td>\n      <td>Cumings, Mrs. John Bradley (Florence Briggs Th...</td>\n      <td>female</td>\n      <td>38.0</td>\n      <td>1</td>\n      <td>0</td>\n      <td>PC 17599</td>\n      <td>71.2833</td>\n      <td>C85</td>\n      <td>C</td>\n    </tr>\n    <tr>\n      <th>2</th>\n      <td>3</td>\n      <td>1</td>\n      <td>3</td>\n      <td>Heikkinen, Miss. Laina</td>\n      <td>female</td>\n      <td>26.0</td>\n      <td>0</td>\n      <td>0</td>\n      <td>STON/O2. 3101282</td>\n      <td>7.9250</td>\n      <td>NaN</td>\n      <td>S</td>\n    </tr>\n  </tbody>\n</table>\n</div>"
     },
     "execution_count": 7,
     "metadata": {},
     "output_type": "execute_result"
    }
   ],
   "source": [
    "from sklearn.linear_model import Perceptron\n",
    "\n",
    "titanic_ds.head(3)"
   ]
  },
  {
   "cell_type": "code",
   "outputs": [],
   "source": [
    "titanic_ds[\"Sex\"] = (titanic_ds[\"Sex\"] == \"male\").astype(np.int32)\n",
    "X, y = titanic_ds[[\"Pclass\", \"Sex\", \"Age\", \"SibSp\", \"Parch\", \"Fare\"]], titanic_ds[\"Survived\"]\n",
    "X_train, X_test = X.iloc[5:], X.iloc[:5]\n",
    "y_train, y_test = y.iloc[5:], y.iloc[:5]"
   ],
   "metadata": {
    "collapsed": false,
    "ExecuteTime": {
     "end_time": "2024-03-14T00:07:45.549101200Z",
     "start_time": "2024-03-14T00:07:45.520559Z"
    }
   },
   "id": "e9e32d499661d5de",
   "execution_count": 8
  },
  {
   "cell_type": "code",
   "outputs": [
    {
     "data": {
      "text/plain": "array([0, 1, 1, 1, 0], dtype=int64)"
     },
     "execution_count": 9,
     "metadata": {},
     "output_type": "execute_result"
    }
   ],
   "source": [
    "from sklearn.impute import SimpleImputer\n",
    "\n",
    "imputer = SimpleImputer(strategy=\"median\")\n",
    "X_train = imputer.fit_transform(X_train)\n",
    "X_test = imputer.transform(X_test)\n",
    "\n",
    "per_clf = Perceptron(random_state=42, n_iter_no_change=100)\n",
    "per_clf.fit(X_train, y_train)\n",
    "\n",
    "y_pred = per_clf.predict(X_test)\n",
    "y_pred"
   ],
   "metadata": {
    "collapsed": false,
    "ExecuteTime": {
     "end_time": "2024-03-14T00:07:45.656319200Z",
     "start_time": "2024-03-14T00:07:45.535542700Z"
    }
   },
   "id": "547b564dd9349fdf",
   "execution_count": 9
  },
  {
   "cell_type": "code",
   "outputs": [
    {
     "data": {
      "text/plain": "0    0\n1    1\n2    1\n3    1\n4    0\nName: Survived, dtype: int64"
     },
     "execution_count": 10,
     "metadata": {},
     "output_type": "execute_result"
    }
   ],
   "source": [
    "y_test"
   ],
   "metadata": {
    "collapsed": false,
    "ExecuteTime": {
     "end_time": "2024-03-14T00:07:45.658317200Z",
     "start_time": "2024-03-14T00:07:45.581527300Z"
    }
   },
   "id": "a7cc90b1cf3f119d",
   "execution_count": 10
  },
  {
   "cell_type": "markdown",
   "id": "5b12212405a80e87",
   "metadata": {
    "collapsed": false
   },
   "source": [
    "## Implementing MLPs with Keras"
   ]
  },
  {
   "cell_type": "markdown",
   "id": "6ccba6578ad447b2",
   "metadata": {
    "collapsed": false
   },
   "source": [
    "#### Building an Image Classifier Using the Sequential API"
   ]
  },
  {
   "cell_type": "markdown",
   "id": "dd40b35c0605de0b",
   "metadata": {
    "collapsed": false
   },
   "source": [
    "##### Using Keras to load the dataset"
   ]
  },
  {
   "cell_type": "code",
   "execution_count": 11,
   "id": "b6c9708af20c086d",
   "metadata": {
    "collapsed": false,
    "ExecuteTime": {
     "end_time": "2024-03-14T00:07:45.661317Z",
     "start_time": "2024-03-14T00:07:45.597331200Z"
    }
   },
   "outputs": [],
   "source": [
    "from tensorflow import keras\n",
    "\n",
    "train_ds, valid_ds, test_ds, class_names = weather_ds\n",
    "images_path = pathlib.Path(UNPACKED_DIR, \"weather-image\")"
   ]
  },
  {
   "cell_type": "code",
   "outputs": [
    {
     "data": {
      "text/plain": "6862"
     },
     "execution_count": 12,
     "metadata": {},
     "output_type": "execute_result"
    }
   ],
   "source": [
    "image_count = len(list(images_path.glob(\"*/*.*\")))\n",
    "image_count"
   ],
   "metadata": {
    "collapsed": false,
    "ExecuteTime": {
     "end_time": "2024-03-14T00:07:45.685144Z",
     "start_time": "2024-03-14T00:07:45.610360Z"
    }
   },
   "id": "6dab0be11691722d",
   "execution_count": 12
  },
  {
   "cell_type": "code",
   "execution_count": 13,
   "id": "df55d896bdb8205d",
   "metadata": {
    "collapsed": false,
    "ExecuteTime": {
     "end_time": "2024-03-14T00:07:45.702141900Z",
     "start_time": "2024-03-14T00:07:45.641319500Z"
    }
   },
   "outputs": [
    {
     "name": "stdout",
     "output_type": "stream",
     "text": [
      "['dew', 'fogsmog', 'frost', 'glaze', 'hail', 'lightning', 'rain', 'rainbow', 'rime', 'sandstorm', 'snow']\n"
     ]
    }
   ],
   "source": [
    "print(class_names)"
   ]
  },
  {
   "cell_type": "code",
   "execution_count": 14,
   "id": "ae497b507ddf434e",
   "metadata": {
    "collapsed": false,
    "ExecuteTime": {
     "end_time": "2024-03-14T00:07:45.793796100Z",
     "start_time": "2024-03-14T00:07:45.660316300Z"
    }
   },
   "outputs": [
    {
     "data": {
      "text/plain": "<PIL.Image.Image image mode=RGB size=256x256>",
      "image/png": "[encoded data removed]",
      "image/jpeg": "[encoded data removed]"
     },
     "metadata": {},
     "output_type": "display_data"
    },
    {
     "data": {
      "text/plain": "'dew'"
     },
     "execution_count": 14,
     "metadata": {},
     "output_type": "execute_result"
    }
   ],
   "source": [
    "image = PIL.Image.open(next(images_path.glob(class_names[0] + \"/*\"))).resize((image_size, image_size))\n",
    "display(image)\n",
    "class_names[0]"
   ]
  },
  {
   "cell_type": "markdown",
   "id": "34fae3b6f7ac9783",
   "metadata": {
    "collapsed": false
   },
   "source": [
    "##### Creating the model using the Sequential API"
   ]
  },
  {
   "cell_type": "code",
   "execution_count": 15,
   "id": "7ce14cb1cbb2e9c6",
   "metadata": {
    "collapsed": false,
    "ExecuteTime": {
     "end_time": "2024-03-14T00:07:45.795794500Z",
     "start_time": "2024-03-14T00:07:45.720649900Z"
    }
   },
   "outputs": [],
   "source": [
    "keras.backend.clear_session()\n",
    "np.random.seed(42)\n",
    "tf.random.set_seed(42)"
   ]
  },
  {
   "cell_type": "code",
   "execution_count": 16,
   "id": "68483c36eaeb7fc9",
   "metadata": {
    "collapsed": false,
    "ExecuteTime": {
     "end_time": "2024-03-14T00:07:45.921925600Z",
     "start_time": "2024-03-14T00:07:45.741389900Z"
    }
   },
   "outputs": [],
   "source": [
    "model = keras.models.Sequential()\n",
    "\n",
    "model.add(keras.layers.Conv2D(32, (3, 3), input_shape=[image_size, image_size, 3], activation=\"relu\"))\n",
    "model.add(keras.layers.MaxPooling2D((2, 2)))\n",
    "model.add(keras.layers.Dropout(0.25))\n",
    "\n",
    "model.add(keras.layers.Conv2D(64, (5, 5), activation=\"relu\"))\n",
    "model.add(keras.layers.MaxPooling2D((2, 2)))\n",
    "model.add(keras.layers.Dropout(0.25))\n",
    "\n",
    "model.add(keras.layers.Flatten())\n",
    "model.add(keras.layers.Dense(32, activation=\"relu\"))\n",
    "model.add(keras.layers.Dropout(0.5))\n",
    "model.add(keras.layers.Dense(len(class_names), activation=\"softmax\"))"
   ]
  },
  {
   "cell_type": "code",
   "execution_count": 17,
   "id": "830c6389024246ce",
   "metadata": {
    "collapsed": false,
    "ExecuteTime": {
     "end_time": "2024-03-14T00:07:45.958109300Z",
     "start_time": "2024-03-14T00:07:45.923305300Z"
    }
   },
   "outputs": [
    {
     "name": "stdout",
     "output_type": "stream",
     "text": [
      "Model: \"sequential\"\n",
      "_________________________________________________________________\n",
      " Layer (type)                Output Shape              Param #   \n",
      "=================================================================\n",
      " conv2d (Conv2D)             (None, 254, 254, 32)      896       \n",
      "                                                                 \n",
      " max_pooling2d (MaxPooling2  (None, 127, 127, 32)      0         \n",
      " D)                                                              \n",
      "                                                                 \n",
      " dropout (Dropout)           (None, 127, 127, 32)      0         \n",
      "                                                                 \n",
      " conv2d_1 (Conv2D)           (None, 123, 123, 64)      51264     \n",
      "                                                                 \n",
      " max_pooling2d_1 (MaxPoolin  (None, 61, 61, 64)        0         \n",
      " g2D)                                                            \n",
      "                                                                 \n",
      " dropout_1 (Dropout)         (None, 61, 61, 64)        0         \n",
      "                                                                 \n",
      " flatten (Flatten)           (None, 238144)            0         \n",
      "                                                                 \n",
      " dense (Dense)               (None, 32)                7620640   \n",
      "                                                                 \n",
      " dropout_2 (Dropout)         (None, 32)                0         \n",
      "                                                                 \n",
      " dense_1 (Dense)             (None, 11)                363       \n",
      "                                                                 \n",
      "=================================================================\n",
      "Total params: 7673163 (29.27 MB)\n",
      "Trainable params: 7673163 (29.27 MB)\n",
      "Non-trainable params: 0 (0.00 Byte)\n",
      "_________________________________________________________________\n"
     ]
    }
   ],
   "source": [
    "model.summary()"
   ]
  },
  {
   "cell_type": "code",
   "execution_count": 18,
   "id": "7b99b6a34f2696ad",
   "metadata": {
    "collapsed": false,
    "ExecuteTime": {
     "end_time": "2024-03-14T00:07:46.025555800Z",
     "start_time": "2024-03-14T00:07:45.939740200Z"
    }
   },
   "outputs": [
    {
     "data": {
      "text/plain": "[<keras.src.layers.convolutional.conv2d.Conv2D at 0x1b8aebad190>,\n <keras.src.layers.pooling.max_pooling2d.MaxPooling2D at 0x1b8aebafbe0>,\n <keras.src.layers.regularization.dropout.Dropout at 0x1b8ac42c7f0>,\n <keras.src.layers.convolutional.conv2d.Conv2D at 0x1b8aea09520>,\n <keras.src.layers.pooling.max_pooling2d.MaxPooling2D at 0x1b8aea09b50>,\n <keras.src.layers.regularization.dropout.Dropout at 0x1b8aebafc40>,\n <keras.src.layers.reshaping.flatten.Flatten at 0x1b8aea09d90>,\n <keras.src.layers.core.dense.Dense at 0x1b8aea8f8b0>,\n <keras.src.layers.regularization.dropout.Dropout at 0x1b8aea8f5e0>,\n <keras.src.layers.core.dense.Dense at 0x1b8aea8f9a0>]"
     },
     "execution_count": 18,
     "metadata": {},
     "output_type": "execute_result"
    }
   ],
   "source": [
    "model.layers"
   ]
  },
  {
   "cell_type": "code",
   "execution_count": 19,
   "id": "5de6abb04a324b4a",
   "metadata": {
    "collapsed": false,
    "ExecuteTime": {
     "end_time": "2024-03-14T00:07:46.117021600Z",
     "start_time": "2024-03-14T00:07:45.954613800Z"
    }
   },
   "outputs": [
    {
     "data": {
      "text/plain": "'conv2d_1'"
     },
     "execution_count": 19,
     "metadata": {},
     "output_type": "execute_result"
    }
   ],
   "source": [
    "hidden3 = model.layers[3]\n",
    "hidden3.name"
   ]
  },
  {
   "cell_type": "code",
   "execution_count": 20,
   "id": "c4f320c97879523c",
   "metadata": {
    "collapsed": false,
    "ExecuteTime": {
     "end_time": "2024-03-14T00:07:46.120060300Z",
     "start_time": "2024-03-14T00:07:45.971849500Z"
    }
   },
   "outputs": [
    {
     "data": {
      "text/plain": "True"
     },
     "execution_count": 20,
     "metadata": {},
     "output_type": "execute_result"
    }
   ],
   "source": [
    "model.get_layer(\"conv2d_1\") is hidden3"
   ]
  },
  {
   "cell_type": "code",
   "execution_count": 21,
   "id": "543c76548241c0f2",
   "metadata": {
    "collapsed": false,
    "ExecuteTime": {
     "end_time": "2024-03-14T00:07:46.190034300Z",
     "start_time": "2024-03-14T00:07:46.108684600Z"
    }
   },
   "outputs": [],
   "source": [
    "weights, biases = hidden3.get_weights()"
   ]
  },
  {
   "cell_type": "code",
   "execution_count": 22,
   "id": "ef689b2d7b0425e9",
   "metadata": {
    "collapsed": false,
    "ExecuteTime": {
     "end_time": "2024-03-14T00:07:46.212408200Z",
     "start_time": "2024-03-14T00:07:46.125058900Z"
    }
   },
   "outputs": [
    {
     "data": {
      "text/plain": "(5, 5, 32, 64)"
     },
     "execution_count": 22,
     "metadata": {},
     "output_type": "execute_result"
    }
   ],
   "source": [
    "weights.shape"
   ]
  },
  {
   "cell_type": "code",
   "execution_count": 23,
   "id": "dcd06ebb810b82d0",
   "metadata": {
    "collapsed": false,
    "ExecuteTime": {
     "end_time": "2024-03-14T00:07:46.240576100Z",
     "start_time": "2024-03-14T00:07:46.139698100Z"
    }
   },
   "outputs": [
    {
     "data": {
      "text/plain": "(64,)"
     },
     "execution_count": 23,
     "metadata": {},
     "output_type": "execute_result"
    }
   ],
   "source": [
    "biases.shape"
   ]
  },
  {
   "cell_type": "markdown",
   "id": "9b8bbb0db518e6f5",
   "metadata": {
    "collapsed": false
   },
   "source": [
    "##### Compiling the model"
   ]
  },
  {
   "cell_type": "code",
   "execution_count": 24,
   "id": "e40494a280b198fb",
   "metadata": {
    "collapsed": false,
    "ExecuteTime": {
     "end_time": "2024-03-14T00:07:46.242577700Z",
     "start_time": "2024-03-14T00:07:46.156707900Z"
    }
   },
   "outputs": [],
   "source": [
    "model.compile(loss=keras.losses.sparse_categorical_crossentropy,\n",
    "              optimizer=keras.optimizers.Adam(),\n",
    "              metrics=[\"accuracy\"])"
   ]
  },
  {
   "cell_type": "markdown",
   "id": "bb90b746afecfa8c",
   "metadata": {
    "collapsed": false
   },
   "source": [
    "##### Training and evaluating the model"
   ]
  },
  {
   "cell_type": "code",
   "execution_count": 25,
   "id": "ab1638e29f44e5d7",
   "metadata": {
    "collapsed": false,
    "ExecuteTime": {
     "end_time": "2024-03-14T00:09:03.738602500Z",
     "start_time": "2024-03-14T00:07:46.171975600Z"
    }
   },
   "outputs": [
    {
     "name": "stdout",
     "output_type": "stream",
     "text": [
      "161/161 [==============================] - 78s 477ms/step - loss: 2.3518 - accuracy: 0.2135 - val_loss: 2.1431 - val_accuracy: 0.2568\n"
     ]
    }
   ],
   "source": [
    "history = model.fit(train_ds, epochs=1, validation_data=valid_ds) # TODO"
   ]
  },
  {
   "cell_type": "code",
   "execution_count": 26,
   "id": "fabffeea10649f46",
   "metadata": {
    "collapsed": false,
    "ExecuteTime": {
     "end_time": "2024-03-14T00:09:03.772733200Z",
     "start_time": "2024-03-14T00:09:03.739716400Z"
    }
   },
   "outputs": [
    {
     "data": {
      "text/plain": "{'verbose': 1, 'epochs': 1, 'steps': 161}"
     },
     "execution_count": 26,
     "metadata": {},
     "output_type": "execute_result"
    }
   ],
   "source": [
    "history.params"
   ]
  },
  {
   "cell_type": "code",
   "execution_count": 27,
   "id": "51a23506d5108e1",
   "metadata": {
    "collapsed": false,
    "ExecuteTime": {
     "end_time": "2024-03-14T00:09:03.774734400Z",
     "start_time": "2024-03-14T00:09:03.755631100Z"
    }
   },
   "outputs": [
    {
     "data": {
      "text/plain": "1"
     },
     "execution_count": 27,
     "metadata": {},
     "output_type": "execute_result"
    }
   ],
   "source": [
    "len(history.epoch)"
   ]
  },
  {
   "cell_type": "code",
   "execution_count": 28,
   "id": "74866b1b66c2d3a8",
   "metadata": {
    "collapsed": false,
    "ExecuteTime": {
     "end_time": "2024-03-14T00:09:03.795988400Z",
     "start_time": "2024-03-14T00:09:03.769734200Z"
    }
   },
   "outputs": [
    {
     "data": {
      "text/plain": "dict_keys(['loss', 'accuracy', 'val_loss', 'val_accuracy'])"
     },
     "execution_count": 28,
     "metadata": {},
     "output_type": "execute_result"
    }
   ],
   "source": [
    "history.history.keys()"
   ]
  },
  {
   "cell_type": "code",
   "execution_count": 29,
   "id": "bc8f465e0085ce6e",
   "metadata": {
    "collapsed": false,
    "ExecuteTime": {
     "end_time": "2024-03-14T00:09:04.163941600Z",
     "start_time": "2024-03-14T00:09:03.786756900Z"
    }
   },
   "outputs": [
    {
     "data": {
      "text/plain": "<Figure size 800x500 with 1 Axes>",
      "image/png": "[encoded data removed]"
     },
     "metadata": {},
     "output_type": "display_data"
    }
   ],
   "source": [
    "from matplotlib import pyplot as plt\n",
    "\n",
    "pd.DataFrame(history.history).plot(figsize=(8, 5))\n",
    "plt.grid(True)\n",
    "plt.gca().set_ylim(0, 1) # set the vertical range to [0-1]\n",
    "plt.show()"
   ]
  },
  {
   "cell_type": "code",
   "execution_count": 30,
   "id": "c2ecaf9ba80ba35",
   "metadata": {
    "collapsed": false,
    "ExecuteTime": {
     "end_time": "2024-03-14T00:09:07.197142600Z",
     "start_time": "2024-03-14T00:09:04.156935100Z"
    }
   },
   "outputs": [
    {
     "name": "stdout",
     "output_type": "stream",
     "text": [
      "22/22 [==============================] - 3s 110ms/step - loss: 2.1387 - accuracy: 0.2576\n"
     ]
    },
    {
     "data": {
      "text/plain": "[2.138713836669922, 0.2575976848602295]"
     },
     "execution_count": 30,
     "metadata": {},
     "output_type": "execute_result"
    }
   ],
   "source": [
    "model.evaluate(test_ds)"
   ]
  },
  {
   "cell_type": "markdown",
   "id": "db2c144831b71a26",
   "metadata": {
    "collapsed": false
   },
   "source": [
    "##### Using the model to make predictions"
   ]
  },
  {
   "cell_type": "code",
   "execution_count": 31,
   "id": "ba3d8414ecf4d3a9",
   "metadata": {
    "collapsed": false,
    "ExecuteTime": {
     "end_time": "2024-03-14T00:09:08.030703500Z",
     "start_time": "2024-03-14T00:09:07.189940Z"
    }
   },
   "outputs": [
    {
     "data": {
      "text/plain": "array([[0.09, 0.1 , 0.09, 0.09, 0.09, 0.08, 0.09, 0.08, 0.1 , 0.1 , 0.09],\n       [0.08, 0.04, 0.07, 0.08, 0.03, 0.04, 0.03, 0.1 , 0.26, 0.08, 0.19],\n       [0.1 , 0.1 , 0.09, 0.09, 0.09, 0.08, 0.09, 0.08, 0.1 , 0.09, 0.09],\n       [0.09, 0.1 , 0.09, 0.09, 0.09, 0.08, 0.09, 0.08, 0.1 , 0.1 , 0.09],\n       [0.09, 0.08, 0.09, 0.09, 0.07, 0.08, 0.07, 0.09, 0.14, 0.09, 0.11]],\n      dtype=float32)"
     },
     "execution_count": 31,
     "metadata": {},
     "output_type": "execute_result"
    }
   ],
   "source": [
    "new = test_ds.take(1)\n",
    "proba = model.predict(new, verbose=0)[:5]\n",
    "proba.round(2)"
   ]
  },
  {
   "cell_type": "code",
   "execution_count": 32,
   "id": "4abbb7aef9aece9a",
   "metadata": {
    "collapsed": false,
    "ExecuteTime": {
     "end_time": "2024-03-14T00:09:08.801159100Z",
     "start_time": "2024-03-14T00:09:08.030703500Z"
    }
   },
   "outputs": [
    {
     "data": {
      "text/plain": "array([8, 8, 8, 8, 8], dtype=int64)"
     },
     "execution_count": 32,
     "metadata": {},
     "output_type": "execute_result"
    }
   ],
   "source": [
    "y_pred = np.argmax(model.predict(new, verbose=0), axis=-1)[:5]\n",
    "y_pred"
   ]
  },
  {
   "cell_type": "code",
   "execution_count": 33,
   "id": "2ef2b995d2ddb902",
   "metadata": {
    "collapsed": false,
    "ExecuteTime": {
     "end_time": "2024-03-14T00:09:08.806769400Z",
     "start_time": "2024-03-14T00:09:08.788539Z"
    }
   },
   "outputs": [
    {
     "data": {
      "text/plain": "array(['rime', 'rime', 'rime', 'rime', 'rime'], dtype='<U9')"
     },
     "execution_count": 33,
     "metadata": {},
     "output_type": "execute_result"
    }
   ],
   "source": [
    "np.array(class_names)[y_pred]"
   ]
  },
  {
   "cell_type": "code",
   "outputs": [
    {
     "data": {
      "text/plain": "<Figure size 640x480 with 5 Axes>",
      "image/png": "[encoded data removed]"
     },
     "metadata": {},
     "output_type": "display_data"
    }
   ],
   "source": [
    "for x, y in new.take(1):\n",
    "    for i in range(5):\n",
    "        ax = plt.subplot(1, 5, i+1)\n",
    "        plt.imshow((x[i].numpy()*255).astype(\"uint8\"))\n",
    "        plt.title(class_names[y.numpy()[i]])\n",
    "        plt.axis(\"off\")"
   ],
   "metadata": {
    "collapsed": false,
    "ExecuteTime": {
     "end_time": "2024-03-14T00:09:09.552442500Z",
     "start_time": "2024-03-14T00:09:08.803462400Z"
    }
   },
   "id": "61e1ccb7154190ad",
   "execution_count": 34
  },
  {
   "cell_type": "markdown",
   "id": "589dcd4fb1aa62b4",
   "metadata": {
    "collapsed": false
   },
   "source": [
    "#### Building a Regression MLP Using the Sequential API"
   ]
  },
  {
   "cell_type": "code",
   "outputs": [
    {
     "data": {
      "text/plain": "   Unnamed: 0  carat      cut color clarity  depth  table  price     x     y  \\\n0           1   0.23    Ideal     E     SI2   61.5   55.0    326  3.95  3.98   \n1           2   0.21  Premium     E     SI1   59.8   61.0    326  3.89  3.84   \n2           3   0.23     Good     E     VS1   56.9   65.0    327  4.05  4.07   \n\n      z  \n0  2.43  \n1  2.31  \n2  2.31  ",
      "text/html": "<div>\n<style scoped>\n    .dataframe tbody tr th:only-of-type {\n        vertical-align: middle;\n    }\n\n    .dataframe tbody tr th {\n        vertical-align: top;\n    }\n\n    .dataframe thead th {\n        text-align: right;\n    }\n</style>\n<table border=\"1\" class=\"dataframe\">\n  <thead>\n    <tr style=\"text-align: right;\">\n      <th></th>\n      <th>Unnamed: 0</th>\n      <th>carat</th>\n      <th>cut</th>\n      <th>color</th>\n      <th>clarity</th>\n      <th>depth</th>\n      <th>table</th>\n      <th>price</th>\n      <th>x</th>\n      <th>y</th>\n      <th>z</th>\n    </tr>\n  </thead>\n  <tbody>\n    <tr>\n      <th>0</th>\n      <td>1</td>\n      <td>0.23</td>\n      <td>Ideal</td>\n      <td>E</td>\n      <td>SI2</td>\n      <td>61.5</td>\n      <td>55.0</td>\n      <td>326</td>\n      <td>3.95</td>\n      <td>3.98</td>\n      <td>2.43</td>\n    </tr>\n    <tr>\n      <th>1</th>\n      <td>2</td>\n      <td>0.21</td>\n      <td>Premium</td>\n      <td>E</td>\n      <td>SI1</td>\n      <td>59.8</td>\n      <td>61.0</td>\n      <td>326</td>\n      <td>3.89</td>\n      <td>3.84</td>\n      <td>2.31</td>\n    </tr>\n    <tr>\n      <th>2</th>\n      <td>3</td>\n      <td>0.23</td>\n      <td>Good</td>\n      <td>E</td>\n      <td>VS1</td>\n      <td>56.9</td>\n      <td>65.0</td>\n      <td>327</td>\n      <td>4.05</td>\n      <td>4.07</td>\n      <td>2.31</td>\n    </tr>\n  </tbody>\n</table>\n</div>"
     },
     "execution_count": 35,
     "metadata": {},
     "output_type": "execute_result"
    }
   ],
   "source": [
    "diamonds_ds.head(3)"
   ],
   "metadata": {
    "collapsed": false,
    "ExecuteTime": {
     "end_time": "2024-03-14T00:09:09.569282300Z",
     "start_time": "2024-03-14T00:09:09.551312600Z"
    }
   },
   "id": "722d5e1355d183dc",
   "execution_count": 35
  },
  {
   "cell_type": "code",
   "outputs": [],
   "source": [
    "diamonds_data, diamonds_target = diamonds_ds[[\"carat\", \"depth\", \"table\", \"x\", \"y\", \"z\"]], diamonds_ds[\"price\"]"
   ],
   "metadata": {
    "collapsed": false,
    "ExecuteTime": {
     "end_time": "2024-03-14T00:09:09.623307800Z",
     "start_time": "2024-03-14T00:09:09.568281800Z"
    }
   },
   "id": "a87fcfb1e6f8f6c9",
   "execution_count": 36
  },
  {
   "cell_type": "code",
   "execution_count": 37,
   "id": "f155ec360cb4f242",
   "metadata": {
    "collapsed": false,
    "ExecuteTime": {
     "end_time": "2024-03-14T00:09:09.643069900Z",
     "start_time": "2024-03-14T00:09:09.583671Z"
    }
   },
   "outputs": [],
   "source": [
    "from sklearn.model_selection import train_test_split\n",
    "from sklearn.preprocessing import StandardScaler\n",
    "\n",
    "X_train_full, X_test, y_train_full, y_test = train_test_split(diamonds_data, diamonds_target, random_state=42)\n",
    "X_train, X_valid, y_train, y_valid = train_test_split(X_train_full, y_train_full, random_state=42)\n",
    "\n",
    "scaler = StandardScaler()\n",
    "X_train = scaler.fit_transform(X_train)\n",
    "X_valid = scaler.transform(X_valid)\n",
    "X_test = scaler.transform(X_test)"
   ]
  },
  {
   "cell_type": "code",
   "execution_count": 38,
   "id": "937d67c76dd5a93f",
   "metadata": {
    "collapsed": false,
    "ExecuteTime": {
     "end_time": "2024-03-14T00:09:25.597481100Z",
     "start_time": "2024-03-14T00:09:09.615305900Z"
    }
   },
   "outputs": [
    {
     "name": "stdout",
     "output_type": "stream",
     "text": [
      "Epoch 1/20\n",
      "949/949 [==============================] - 1s 882us/step - loss: 30857490.0000 - val_loss: 28540108.0000\n",
      "Epoch 2/20\n",
      "949/949 [==============================] - 1s 889us/step - loss: 26131240.0000 - val_loss: 22148408.0000\n",
      "Epoch 3/20\n",
      "949/949 [==============================] - 1s 788us/step - loss: 18929134.0000 - val_loss: 14915965.0000\n",
      "Epoch 4/20\n",
      "949/949 [==============================] - 1s 876us/step - loss: 11957404.0000 - val_loss: 8911486.0000\n",
      "Epoch 5/20\n",
      "949/949 [==============================] - 1s 777us/step - loss: 6643918.0000 - val_loss: 5058276.0000\n",
      "Epoch 6/20\n",
      "949/949 [==============================] - 1s 857us/step - loss: 3657242.2500 - val_loss: 3547225.5000\n",
      "Epoch 7/20\n",
      "949/949 [==============================] - 1s 749us/step - loss: 2606336.2500 - val_loss: 3296410.2500\n",
      "Epoch 8/20\n",
      "949/949 [==============================] - 1s 797us/step - loss: 2376188.5000 - val_loss: 3251820.7500\n",
      "Epoch 9/20\n",
      "949/949 [==============================] - 1s 828us/step - loss: 2299417.7500 - val_loss: 3211257.7500\n",
      "Epoch 10/20\n",
      "949/949 [==============================] - 1s 758us/step - loss: 2250088.5000 - val_loss: 3178241.5000\n",
      "Epoch 11/20\n",
      "949/949 [==============================] - 1s 887us/step - loss: 2216637.5000 - val_loss: 3126072.5000\n",
      "Epoch 12/20\n",
      "949/949 [==============================] - 1s 858us/step - loss: 2193288.7500 - val_loss: 3110579.2500\n",
      "Epoch 13/20\n",
      "949/949 [==============================] - 1s 782us/step - loss: 2176818.2500 - val_loss: 3086046.2500\n",
      "Epoch 14/20\n",
      "949/949 [==============================] - 1s 861us/step - loss: 2163836.2500 - val_loss: 3077441.5000\n",
      "Epoch 15/20\n",
      "949/949 [==============================] - 1s 753us/step - loss: 2152968.7500 - val_loss: 3072567.5000\n",
      "Epoch 16/20\n",
      "949/949 [==============================] - 1s 815us/step - loss: 2143893.7500 - val_loss: 3043016.2500\n",
      "Epoch 17/20\n",
      "949/949 [==============================] - 1s 768us/step - loss: 2136688.5000 - val_loss: 3041620.0000\n",
      "Epoch 18/20\n",
      "949/949 [==============================] - 1s 833us/step - loss: 2128860.0000 - val_loss: 3033453.7500\n",
      "Epoch 19/20\n",
      "949/949 [==============================] - 1s 798us/step - loss: 2122006.2500 - val_loss: 3024688.5000\n",
      "Epoch 20/20\n",
      "949/949 [==============================] - 1s 866us/step - loss: 2116159.0000 - val_loss: 3025372.7500\n"
     ]
    }
   ],
   "source": [
    "model = keras.models.Sequential([\n",
    "    keras.layers.Dense(64, activation=\"relu\", input_shape=X_train.shape[1:]),\n",
    "    keras.layers.Dense(1),\n",
    "])\n",
    "model.compile(loss=\"mean_squared_error\", optimizer=keras.optimizers.Adam())\n",
    "history = model.fit(X_train, y_train, epochs=20, validation_data=(X_valid, y_valid))"
   ]
  },
  {
   "cell_type": "code",
   "execution_count": 39,
   "id": "882dffcacb829a90",
   "metadata": {
    "collapsed": false,
    "ExecuteTime": {
     "end_time": "2024-03-14T00:09:25.679522400Z",
     "start_time": "2024-03-14T00:09:25.589911500Z"
    }
   },
   "outputs": [
    {
     "data": {
      "text/plain": "<Figure size 640x480 with 1 Axes>",
      "image/png": "[encoded data removed]"
     },
     "metadata": {},
     "output_type": "display_data"
    }
   ],
   "source": [
    "plt.plot(pd.DataFrame(history.history))\n",
    "plt.grid(True)\n",
    "plt.show()"
   ]
  },
  {
   "cell_type": "code",
   "execution_count": 40,
   "id": "b4ce1684c39ddaf2",
   "metadata": {
    "collapsed": false,
    "ExecuteTime": {
     "end_time": "2024-03-14T00:09:25.957648700Z",
     "start_time": "2024-03-14T00:09:25.667881200Z"
    }
   },
   "outputs": [
    {
     "name": "stdout",
     "output_type": "stream",
     "text": [
      "422/422 [==============================] - 0s 532us/step - loss: 2172034.0000\n"
     ]
    },
    {
     "data": {
      "text/plain": "2172034.0"
     },
     "execution_count": 40,
     "metadata": {},
     "output_type": "execute_result"
    }
   ],
   "source": [
    "model.evaluate(X_test, y_test)"
   ]
  },
  {
   "cell_type": "code",
   "execution_count": 41,
   "id": "4507daff65b29270",
   "metadata": {
    "collapsed": false,
    "ExecuteTime": {
     "end_time": "2024-03-14T00:09:26.028129800Z",
     "start_time": "2024-03-14T00:09:25.950303700Z"
    }
   },
   "outputs": [
    {
     "data": {
      "text/plain": "array([[ 663.7852],\n       [1408.3505],\n       [1065.0315]], dtype=float32)"
     },
     "execution_count": 41,
     "metadata": {},
     "output_type": "execute_result"
    }
   ],
   "source": [
    "X_new = X_test[:3]\n",
    "y_pred = model.predict(X_new, verbose=0)\n",
    "y_pred"
   ]
  },
  {
   "cell_type": "code",
   "execution_count": 42,
   "id": "bb0c4c02116fb013",
   "metadata": {
    "collapsed": false,
    "ExecuteTime": {
     "end_time": "2024-03-14T00:09:26.054716600Z",
     "start_time": "2024-03-14T00:09:26.026034900Z"
    }
   },
   "outputs": [
    {
     "data": {
      "text/plain": "1388      559\n50052    2201\n41645    1238\nName: price, dtype: int64"
     },
     "execution_count": 42,
     "metadata": {},
     "output_type": "execute_result"
    }
   ],
   "source": [
    "y_new = y_test[:3]\n",
    "y_new"
   ]
  },
  {
   "cell_type": "code",
   "outputs": [
    {
     "ename": "SyntaxError",
     "evalue": "invalid syntax (1395312646.py, line 1)",
     "output_type": "error",
     "traceback": [
      "\u001B[1;36m  Cell \u001B[1;32mIn[43], line 1\u001B[1;36m\u001B[0m\n\u001B[1;33m    ---\u001B[0m\n\u001B[1;37m       ^\u001B[0m\n\u001B[1;31mSyntaxError\u001B[0m\u001B[1;31m:\u001B[0m invalid syntax\n"
     ]
    }
   ],
   "source": [
    "---"
   ],
   "metadata": {
    "collapsed": false,
    "ExecuteTime": {
     "end_time": "2024-03-14T00:09:26.057722200Z",
     "start_time": "2024-03-14T00:09:26.039180700Z"
    }
   },
   "id": "750d0eb8a89dc400",
   "execution_count": 43
  },
  {
   "cell_type": "markdown",
   "id": "a44fdd443314daf",
   "metadata": {
    "collapsed": false
   },
   "source": [
    "#### Building Complex Models Using the Functional API"
   ]
  },
  {
   "cell_type": "code",
   "execution_count": null,
   "id": "cec46e47eafd4b0f",
   "metadata": {
    "collapsed": false,
    "ExecuteTime": {
     "start_time": "2024-03-14T00:09:26.055717300Z"
    }
   },
   "outputs": [],
   "source": [
    "input_ = keras.layers.Input(shape=X_train.shape[1:])\n",
    "hidden1 = keras.layers.Dense(30, activation=\"relu\")(input_)\n",
    "hidden2 = keras.layers.Dense(30, activation=\"relu\")(hidden1)\n",
    "concat = keras.layers.concatenate([input_, hidden2])\n",
    "output = keras.layers.Dense(1)(concat)\n",
    "model = keras.models.Model(inputs=[input_], outputs=[output])"
   ]
  },
  {
   "cell_type": "code",
   "execution_count": null,
   "id": "4e4f3da528581633",
   "metadata": {
    "collapsed": false,
    "ExecuteTime": {
     "start_time": "2024-03-14T00:09:26.056718Z"
    }
   },
   "outputs": [],
   "source": [
    "model.summary()"
   ]
  },
  {
   "cell_type": "code",
   "execution_count": null,
   "id": "c68bdad084ac1afb",
   "metadata": {
    "collapsed": false,
    "ExecuteTime": {
     "start_time": "2024-03-14T00:09:26.057722200Z"
    }
   },
   "outputs": [],
   "source": [
    "input_A = keras.layers.Input(shape=[5], name=\"wide_input\")\n",
    "input_B = keras.layers.Input(shape=[6], name=\"deep_input\")\n",
    "hidden1 = keras.layers.Dense(30, activation=\"relu\")(input_B)\n",
    "hidden2 = keras.layers.Dense(30, activation=\"relu\")(hidden1)\n",
    "concat = keras.layers.concatenate([input_A, hidden2])\n",
    "output = keras.layers.Dense(1, name=\"output\")(concat)\n",
    "model = keras.models.Model(inputs=[input_A, input_B], outputs=[output])"
   ]
  },
  {
   "cell_type": "code",
   "execution_count": null,
   "id": "c7c9f34cdf09a11d",
   "metadata": {
    "collapsed": false,
    "ExecuteTime": {
     "end_time": "2024-03-14T00:09:26.078918100Z",
     "start_time": "2024-03-14T00:09:26.058718600Z"
    }
   },
   "outputs": [],
   "source": [
    "model.summary()"
   ]
  },
  {
   "cell_type": "code",
   "execution_count": null,
   "id": "1a5b90320a76d2ba",
   "metadata": {
    "collapsed": false,
    "ExecuteTime": {
     "start_time": "2024-03-14T00:09:26.059718700Z"
    }
   },
   "outputs": [],
   "source": [
    "model.compile(loss=\"mse\", optimizer=keras.optimizers.SGD(learning_rate=1e-3))\n",
    "\n",
    "X_train_A, X_train_B = X_train[:, :5], X_train[:, 2:]\n",
    "X_valid_A, X_valid_B = X_valid[:, :5], X_valid[:, 2:]\n",
    "X_test_A, X_test_B = X_test[:, :5], X_test[:, 2:]\n",
    "X_new_A, X_new_B = X_test_A[:3], X_test_B[:3]\n",
    "\n",
    "model.fit((X_train_A, X_train_B), y_train, epochs=20, validation_data=((X_valid_A, X_valid_B), y_valid));"
   ]
  },
  {
   "cell_type": "code",
   "execution_count": null,
   "id": "8fd57d74990dea1b",
   "metadata": {
    "collapsed": false,
    "ExecuteTime": {
     "start_time": "2024-03-14T00:09:26.060852500Z"
    }
   },
   "outputs": [],
   "source": [
    "model.evaluate((X_test_A, X_test_B), y_test)"
   ]
  },
  {
   "cell_type": "code",
   "execution_count": null,
   "id": "3735e8379a02c35e",
   "metadata": {
    "collapsed": false,
    "ExecuteTime": {
     "start_time": "2024-03-14T00:09:26.062347800Z"
    }
   },
   "outputs": [],
   "source": [
    "y_pred = model.predict((X_new_A, X_new_B), verbose=0)\n",
    "y_pred"
   ]
  },
  {
   "cell_type": "code",
   "execution_count": null,
   "id": "6d77d73f2128022c",
   "metadata": {
    "collapsed": false,
    "ExecuteTime": {
     "start_time": "2024-03-14T00:09:26.063356Z"
    }
   },
   "outputs": [],
   "source": [
    "input_A = keras.layers.Input(shape=[5], name=\"wide_input\")\n",
    "input_B = keras.layers.Input(shape=[6], name=\"deep_input\")\n",
    "hidden1 = keras.layers.Dense(30, activation=\"relu\")(input_B)\n",
    "hidden2 = keras.layers.Dense(30, activation=\"relu\")(hidden1)\n",
    "concat = keras.layers.concatenate([input_A, hidden2])\n",
    "output = keras.layers.Dense(1, name=\"main_output\")(concat)\n",
    "aux_output = keras.layers.Dense(1, name=\"aux_output\")(hidden2)\n",
    "model = keras.models.Model(inputs=[input_A, input_B], outputs=[output, aux_output])\n",
    "\n",
    "model.compile(loss=[\"mse\", \"mse\"], loss_weights=[0.9, 0.1], optimizer=keras.optimizers.SGD(learning_rate=1e-3))\n",
    "model.fit([X_train_A, X_train_B], [y_train, y_train], epochs=20, \n",
    "          validation_data=([X_valid_A, X_valid_B], [y_valid, y_valid]));"
   ]
  },
  {
   "cell_type": "code",
   "execution_count": null,
   "id": "6b6eef4c61029c02",
   "metadata": {
    "collapsed": false,
    "ExecuteTime": {
     "start_time": "2024-03-14T00:09:26.064355600Z"
    }
   },
   "outputs": [],
   "source": [
    "model.evaluate([X_test_A, X_test_B], [y_test, y_test]) # total_loss, main_loss, aux_loss"
   ]
  },
  {
   "cell_type": "code",
   "execution_count": null,
   "id": "d208b808681faae1",
   "metadata": {
    "collapsed": false,
    "ExecuteTime": {
     "start_time": "2024-03-14T00:09:26.065356500Z"
    }
   },
   "outputs": [],
   "source": [
    "y_pred_main, y_pred_aux = model.predict((X_new_A, X_new_B), verbose=0)\n",
    "y_pred_main, y_pred_aux"
   ]
  },
  {
   "cell_type": "markdown",
   "id": "2fc0a47ddc167d49",
   "metadata": {
    "collapsed": false
   },
   "source": [
    "#### Using the Subclassing API to Build Dynamic Models"
   ]
  },
  {
   "cell_type": "code",
   "execution_count": null,
   "id": "4c38574b47f7dd1f",
   "metadata": {
    "collapsed": false,
    "ExecuteTime": {
     "start_time": "2024-03-14T00:09:26.067510100Z"
    }
   },
   "outputs": [],
   "source": [
    "class WideAndDeepModel(keras.models.Model):\n",
    "    def __init__(self, units=30, activation=\"relu\", **kwargs):\n",
    "        super().__init__(**kwargs)\n",
    "        self.hidden1 = keras.layers.Dense(units, activation=activation)\n",
    "        self.hidden2 = keras.layers.Dense(units, activation=activation)\n",
    "        self.main_output = keras.layers.Dense(1)\n",
    "        self.aux_output = keras.layers.Dense(1)\n",
    "    \n",
    "    def call(self, inputs, training=None, mask=None):\n",
    "        input_A, input_B = inputs\n",
    "        hidden1 = self.hidden1(input_B)\n",
    "        hidden2 = self.hidden2(hidden1)\n",
    "        concat = keras.layers.concatenate([input_A, hidden2])\n",
    "        main_output = self.main_output(concat)\n",
    "        aux_output = self.aux_output(hidden2)\n",
    "        return main_output, aux_output\n",
    "\n",
    "model = WideAndDeepModel(30, activation=\"relu\")"
   ]
  },
  {
   "cell_type": "code",
   "execution_count": null,
   "id": "50ce91acb9ce900",
   "metadata": {
    "collapsed": false,
    "ExecuteTime": {
     "start_time": "2024-03-14T00:09:26.068825300Z"
    }
   },
   "outputs": [],
   "source": [
    "model.compile(loss=\"mse\", loss_weights=[0.9, 0.1], optimizer=keras.optimizers.SGD(learning_rate=1e-3))\n",
    "model.fit((X_train_A, X_train_B), (y_train, y_train), epochs=20, \n",
    "          validation_data=((X_valid_A, X_valid_B), (y_valid, y_valid)));"
   ]
  },
  {
   "cell_type": "code",
   "execution_count": null,
   "id": "52226e9cb4f2a7a4",
   "metadata": {
    "collapsed": false,
    "ExecuteTime": {
     "start_time": "2024-03-14T00:09:26.069830300Z"
    }
   },
   "outputs": [],
   "source": [
    "model.evaluate((X_test_A, X_test_B), (y_test, y_test)) # total_loss, main_loss, aux_loss"
   ]
  },
  {
   "cell_type": "code",
   "execution_count": null,
   "id": "2055189e9869a5df",
   "metadata": {
    "collapsed": false,
    "ExecuteTime": {
     "start_time": "2024-03-14T00:09:26.071008500Z"
    }
   },
   "outputs": [],
   "source": [
    "y_pred_main, y_pred_aux = model.predict((X_new_A, X_new_B), verbose=0)\n",
    "y_pred_main, y_pred_aux"
   ]
  },
  {
   "cell_type": "markdown",
   "id": "593e0d013b1fccb5",
   "metadata": {
    "collapsed": false
   },
   "source": [
    "#### Saving and Restoring a Model"
   ]
  },
  {
   "cell_type": "code",
   "execution_count": null,
   "id": "5a510ec71d345f73",
   "metadata": {
    "collapsed": false,
    "ExecuteTime": {
     "start_time": "2024-03-14T00:09:26.072219600Z"
    }
   },
   "outputs": [],
   "source": [
    "model = keras.models.Sequential([\n",
    "    keras.layers.Dense(30, activation=\"relu\", input_shape=[8]),\n",
    "    keras.layers.Dense(30, activation=\"relu\"),\n",
    "    keras.layers.Dense(1)\n",
    "])"
   ]
  },
  {
   "cell_type": "code",
   "execution_count": null,
   "id": "cbb7ae22f3c42466",
   "metadata": {
    "collapsed": false,
    "ExecuteTime": {
     "start_time": "2024-03-14T00:09:26.073678500Z"
    }
   },
   "outputs": [],
   "source": [
    "model.compile(loss=\"mse\", optimizer=keras.optimizers.SGD(learning_rate=1e-3))\n",
    "model.fit(X_train, y_train, epochs=10, validation_data=(X_valid, y_valid));"
   ]
  },
  {
   "cell_type": "code",
   "execution_count": null,
   "id": "e5e7f8d86ef5e51b",
   "metadata": {
    "collapsed": false,
    "ExecuteTime": {
     "start_time": "2024-03-14T00:09:26.074184300Z"
    }
   },
   "outputs": [],
   "source": [
    "model.evaluate(X_test, y_test)"
   ]
  },
  {
   "cell_type": "code",
   "execution_count": null,
   "id": "3e9b8001-2471-4168-8759-b2ac8f7b2f55",
   "metadata": {
    "ExecuteTime": {
     "start_time": "2024-03-14T00:09:26.075508400Z"
    }
   },
   "outputs": [],
   "source": [
    "y_pred = model.predict(X_new, verbose=0)\n",
    "y_pred"
   ]
  },
  {
   "cell_type": "code",
   "execution_count": null,
   "id": "603dcf5011760dc8",
   "metadata": {
    "collapsed": false,
    "ExecuteTime": {
     "start_time": "2024-03-14T00:09:26.077747300Z"
    }
   },
   "outputs": [],
   "source": [
    "model.save(\"temp_model.keras\")\n",
    "model = keras.models.load_model(\"temp_model.keras\")"
   ]
  },
  {
   "cell_type": "code",
   "execution_count": null,
   "id": "a2aa5ab4cbe9e223",
   "metadata": {
    "collapsed": false,
    "ExecuteTime": {
     "start_time": "2024-03-14T00:09:26.078918100Z"
    }
   },
   "outputs": [],
   "source": [
    "model.evaluate(X_test, y_test)"
   ]
  },
  {
   "cell_type": "code",
   "execution_count": null,
   "id": "a681ef195beb8b36",
   "metadata": {
    "collapsed": false,
    "ExecuteTime": {
     "end_time": "2024-03-14T00:09:26.273971500Z",
     "start_time": "2024-03-14T00:09:26.080015100Z"
    }
   },
   "outputs": [],
   "source": [
    "y_pred = model.predict(X_new, verbose=0)\n",
    "y_pred"
   ]
  },
  {
   "cell_type": "markdown",
   "id": "4d8e61b0a6bab8d5",
   "metadata": {
    "collapsed": false
   },
   "source": [
    "#### Using Callbacks"
   ]
  },
  {
   "cell_type": "code",
   "execution_count": null,
   "id": "6ffccc1347aed08f",
   "metadata": {
    "collapsed": false,
    "ExecuteTime": {
     "start_time": "2024-03-14T00:09:26.081023300Z"
    }
   },
   "outputs": [],
   "source": [
    "model = keras.models.Sequential([\n",
    "    keras.layers.Dense(30, activation=\"relu\", input_shape=[8]),\n",
    "    keras.layers.Dense(30, activation=\"relu\"),\n",
    "    keras.layers.Dense(1)\n",
    "])"
   ]
  },
  {
   "cell_type": "code",
   "execution_count": null,
   "id": "96b113c4768df852",
   "metadata": {
    "collapsed": false,
    "ExecuteTime": {
     "start_time": "2024-03-14T00:09:26.082024500Z"
    }
   },
   "outputs": [],
   "source": [
    "checkpoint_cb = keras.callbacks.ModelCheckpoint(\"temp_model.keras\", save_best_only=True)\n",
    "\n",
    "model.compile(loss=\"mse\", optimizer=keras.optimizers.SGD(learning_rate=1e-3))\n",
    "model.fit(X_train, y_train, epochs=10, validation_data=(X_valid, y_valid), \n",
    "          callbacks=[checkpoint_cb]);"
   ]
  },
  {
   "cell_type": "code",
   "execution_count": null,
   "id": "1d2223020fe67b9c",
   "metadata": {
    "collapsed": false,
    "ExecuteTime": {
     "start_time": "2024-03-14T00:09:26.082024500Z"
    }
   },
   "outputs": [],
   "source": [
    "model = keras.models.load_model(\"temp_model.keras\") # rollback to best model"
   ]
  },
  {
   "cell_type": "code",
   "execution_count": null,
   "id": "c724d6ca52decf33",
   "metadata": {
    "collapsed": false,
    "ExecuteTime": {
     "start_time": "2024-03-14T00:09:26.083022800Z"
    }
   },
   "outputs": [],
   "source": [
    "model.evaluate(X_valid, y_valid)"
   ]
  },
  {
   "cell_type": "code",
   "execution_count": null,
   "id": "8a4d0753295a8485",
   "metadata": {
    "collapsed": false,
    "ExecuteTime": {
     "start_time": "2024-03-14T00:09:26.084112600Z"
    }
   },
   "outputs": [],
   "source": [
    "early_stopping_cb = keras.callbacks.EarlyStopping(patience=10, restore_best_weights=True)\n",
    "\n",
    "model.compile(loss=\"mse\", optimizer=keras.optimizers.SGD(learning_rate=1e-3))\n",
    "model.fit(X_train, y_train, epochs=100, validation_data=(X_valid, y_valid), \n",
    "          callbacks=[checkpoint_cb, early_stopping_cb]);"
   ]
  },
  {
   "cell_type": "code",
   "execution_count": null,
   "id": "d4b9163d82ee1fc8",
   "metadata": {
    "collapsed": false,
    "ExecuteTime": {
     "start_time": "2024-03-14T00:09:26.085119Z"
    }
   },
   "outputs": [],
   "source": [
    "model.evaluate(X_valid, y_valid)"
   ]
  },
  {
   "cell_type": "code",
   "execution_count": null,
   "id": "5f83dfa4f9512ba2",
   "metadata": {
    "collapsed": false,
    "ExecuteTime": {
     "start_time": "2024-03-14T00:09:26.086119400Z"
    }
   },
   "outputs": [],
   "source": [
    "class PrintValTrainRatioCallback(keras.callbacks.Callback):\n",
    "    def on_epoch_end(self, epoch, logs=None):\n",
    "        print(\"val/train: {:.2f}\".format(logs[\"val_loss\"] / logs[\"loss\"]))\n",
    "        \n",
    "val_train_ratio_cb = PrintValTrainRatioCallback()"
   ]
  },
  {
   "cell_type": "code",
   "execution_count": null,
   "id": "17af36e2b6ab2fed",
   "metadata": {
    "collapsed": false,
    "ExecuteTime": {
     "start_time": "2024-03-14T00:09:26.086119400Z"
    }
   },
   "outputs": [],
   "source": [
    "model.fit(X_train, y_train, epochs=3, validation_data=(X_valid, y_valid), \n",
    "          callbacks=[val_train_ratio_cb], verbose=2);"
   ]
  },
  {
   "cell_type": "markdown",
   "id": "9f50d5a48ffd0530",
   "metadata": {
    "collapsed": false
   },
   "source": [
    "#### Using TensorBoard for Visualization"
   ]
  },
  {
   "cell_type": "markdown",
   "id": "210cb352-9ddd-44ba-8cc9-14730012a8d2",
   "metadata": {
    "collapsed": false
   },
   "source": [
    "```tensorboard --logdir=lab9/logs --port=6006```"
   ]
  },
  {
   "cell_type": "code",
   "execution_count": null,
   "id": "aa2ea21d-bec4-4cf9-8517-fe4b103e4a1c",
   "metadata": {
    "ExecuteTime": {
     "start_time": "2024-03-14T00:09:26.087117600Z"
    }
   },
   "outputs": [],
   "source": [
    "def get_run_logdir():\n",
    "    root_logdir = os.path.join(os.curdir, \"logs\")\n",
    "    run_id = time.strftime(\"run_%Y_%m_%d-%H_%M_%S\")\n",
    "    return os.path.join(root_logdir, run_id)\n",
    "\n",
    "run_logdir = get_run_logdir()\n",
    "run_logdir"
   ]
  },
  {
   "cell_type": "code",
   "execution_count": null,
   "id": "738bba992cd1bd08",
   "metadata": {
    "collapsed": false,
    "ExecuteTime": {
     "start_time": "2024-03-14T00:09:26.088119200Z"
    }
   },
   "outputs": [],
   "source": [
    "model = keras.models.Sequential([\n",
    "    keras.layers.Dense(30, activation=\"relu\", input_shape=[8]),\n",
    "    keras.layers.Dense(30, activation=\"relu\"),\n",
    "    keras.layers.Dense(1)\n",
    "])"
   ]
  },
  {
   "cell_type": "code",
   "execution_count": null,
   "id": "508817fb0875e3c5",
   "metadata": {
    "collapsed": false,
    "ExecuteTime": {
     "start_time": "2024-03-14T00:09:26.088119200Z"
    }
   },
   "outputs": [],
   "source": [
    "tensorboard_cb = keras.callbacks.TensorBoard(run_logdir)\n",
    "\n",
    "model.compile(loss=\"mse\", optimizer=keras.optimizers.SGD(learning_rate=1e-3))\n",
    "model.fit(X_train, y_train, epochs=30, validation_data=(X_valid, y_valid), \n",
    "          callbacks=[checkpoint_cb, tensorboard_cb]);"
   ]
  },
  {
   "cell_type": "markdown",
   "id": "15489cd6ccc80400",
   "metadata": {
    "collapsed": false
   },
   "source": [
    "## Fine-Tuning Neural Network Hyperparameters"
   ]
  },
  {
   "cell_type": "code",
   "execution_count": null,
   "id": "1f748f5e6d97f7db",
   "metadata": {
    "collapsed": false,
    "ExecuteTime": {
     "start_time": "2024-03-14T00:09:26.089117900Z"
    }
   },
   "outputs": [],
   "source": [
    "def build_model(n_hidden=1, n_neurons=30, learning_rate=3e-3, input_shape=None):\n",
    "    if input_shape is None:\n",
    "        input_shape = [8]\n",
    "    model = keras.models.Sequential()\n",
    "    model.add(keras.layers.InputLayer(input_shape=input_shape))\n",
    "    for layer in range(n_hidden):\n",
    "        model.add(keras.layers.Dense(n_neurons, activation=\"relu\"))\n",
    "    model.add(keras.layers.Dense(1))\n",
    "    optimizer = keras.optimizers.SGD(learning_rate=learning_rate)\n",
    "    model.compile(loss=\"mse\", optimizer=optimizer)\n",
    "    return model"
   ]
  },
  {
   "cell_type": "code",
   "execution_count": null,
   "id": "f0889f5175dac3f1",
   "metadata": {
    "collapsed": false,
    "ExecuteTime": {
     "start_time": "2024-03-14T00:09:26.090119800Z"
    }
   },
   "outputs": [],
   "source": [
    "from scikeras.wrappers import KerasRegressor\n",
    "\n",
    "keras_reg = KerasRegressor(build_model, n_hidden=1, n_neurons=30, learning_rate=3e-3, input_shape=None,\n",
    "                           callbacks=[keras.callbacks.EarlyStopping(patience=10)])"
   ]
  },
  {
   "cell_type": "code",
   "execution_count": null,
   "id": "de53628bdaa0a856",
   "metadata": {
    "collapsed": false,
    "ExecuteTime": {
     "start_time": "2024-03-14T00:09:26.090119800Z"
    }
   },
   "outputs": [],
   "source": [
    "keras_reg.fit(X_train, y_train, epochs=100, validation_data=(X_valid, y_valid));"
   ]
  },
  {
   "cell_type": "code",
   "execution_count": null,
   "id": "3f458e12780466d1",
   "metadata": {
    "collapsed": false,
    "ExecuteTime": {
     "start_time": "2024-03-14T00:09:26.091118200Z"
    }
   },
   "outputs": [],
   "source": [
    "keras_reg.score(X_test, y_test) # R^2 value"
   ]
  },
  {
   "cell_type": "code",
   "execution_count": null,
   "id": "d70f43692fa896c7",
   "metadata": {
    "collapsed": false,
    "ExecuteTime": {
     "start_time": "2024-03-14T00:09:26.092120300Z"
    }
   },
   "outputs": [],
   "source": [
    "y_pred = keras_reg.predict(X_new, verbose=0)\n",
    "y_pred"
   ]
  },
  {
   "cell_type": "code",
   "execution_count": null,
   "id": "a54bb5ac0eb63e3f",
   "metadata": {
    "collapsed": false,
    "ExecuteTime": {
     "start_time": "2024-03-14T00:09:26.092120300Z"
    }
   },
   "outputs": [],
   "source": [
    "from scipy.stats import reciprocal\n",
    "from sklearn.model_selection import RandomizedSearchCV\n",
    "\n",
    "param_distribs = {\n",
    "    \"n_hidden\": [0, 1, 2, 3],\n",
    "    \"n_neurons\": np.arange(1, 100),\n",
    "    \"learning_rate\": reciprocal(3e-4, 3e-2)\n",
    "}\n",
    "\n",
    "keras_reg.verbose = 0\n",
    "rnd_search_cv = RandomizedSearchCV(keras_reg, param_distribs, n_iter=10, cv=3, verbose=2)\n",
    "rnd_search_cv.fit(X_train, y_train, epochs=100, validation_data=(X_valid, y_valid));"
   ]
  },
  {
   "cell_type": "code",
   "execution_count": null,
   "id": "fc74e18a23b10687",
   "metadata": {
    "collapsed": false,
    "ExecuteTime": {
     "start_time": "2024-03-14T00:09:26.093118500Z"
    }
   },
   "outputs": [],
   "source": [
    "rnd_search_cv.best_params_"
   ]
  },
  {
   "cell_type": "code",
   "execution_count": null,
   "id": "c7299e8a8b6941f3",
   "metadata": {
    "collapsed": false,
    "ExecuteTime": {
     "start_time": "2024-03-14T00:09:26.094117700Z"
    }
   },
   "outputs": [],
   "source": [
    "rnd_search_cv.best_score_ # R^2 value"
   ]
  },
  {
   "cell_type": "code",
   "execution_count": null,
   "id": "4312d22fcd48d3cd",
   "metadata": {
    "collapsed": false,
    "ExecuteTime": {
     "start_time": "2024-03-14T00:09:26.095120100Z"
    }
   },
   "outputs": [],
   "source": [
    "rnd_search_cv.best_estimator_"
   ]
  },
  {
   "cell_type": "code",
   "execution_count": null,
   "id": "1f322b612b5dd8b4",
   "metadata": {
    "collapsed": false,
    "ExecuteTime": {
     "start_time": "2024-03-14T00:09:26.095120100Z"
    }
   },
   "outputs": [],
   "source": [
    "rnd_search_cv.score(X_test, y_test) # R^2 value"
   ]
  },
  {
   "cell_type": "code",
   "execution_count": null,
   "id": "b7c5670d637242c9",
   "metadata": {
    "collapsed": false,
    "ExecuteTime": {
     "start_time": "2024-03-14T00:09:26.096123100Z"
    }
   },
   "outputs": [],
   "source": [
    "rnd_search_cv.predict(X_new)"
   ]
  }
 ],
 "metadata": {
  "kernelspec": {
   "display_name": "Python 3 (ipykernel)",
   "language": "python",
   "name": "python3"
  },
  "language_info": {
   "codemirror_mode": {
    "name": "ipython",
    "version": 3
   },
   "file_extension": ".py",
   "mimetype": "text/x-python",
   "name": "python",
   "nbconvert_exporter": "python",
   "pygments_lexer": "ipython3",
   "version": "3.9.13"
  }
 },
 "nbformat": 4,
 "nbformat_minor": 5
}
