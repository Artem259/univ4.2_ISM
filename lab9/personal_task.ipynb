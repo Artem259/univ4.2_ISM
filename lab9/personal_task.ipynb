{
 "cells": [
  {
   "cell_type": "code",
   "execution_count": 1,
   "id": "initial_id",
   "metadata": {
    "ExecuteTime": {
     "end_time": "2024-03-14T19:14:28.525914900Z",
     "start_time": "2024-03-14T19:14:19.869350900Z"
    }
   },
   "outputs": [
    {
     "name": "stdout",
     "output_type": "stream",
     "text": [
      "WARNING:tensorflow:From C:\\GAMES and PROGRAMS\\my programs\\univ4.2\\univ4.2_ISM\\venv\\lib\\site-packages\\keras\\src\\losses.py:2976: The name tf.losses.sparse_softmax_cross_entropy is deprecated. Please use tf.compat.v1.losses.sparse_softmax_cross_entropy instead.\n",
      "\n"
     ]
    }
   ],
   "source": [
    "import numpy as np\n",
    "import pandas as pd\n",
    "import tensorflow as tf\n",
    "import os\n",
    "import time\n",
    "import tarfile\n",
    "import pathlib\n",
    "import PIL.Image"
   ]
  },
  {
   "cell_type": "code",
   "execution_count": 2,
   "id": "41042dbf-6104-429e-8fdf-3c6edb041eee",
   "metadata": {
    "ExecuteTime": {
     "end_time": "2024-03-14T19:14:28.543284400Z",
     "start_time": "2024-03-14T19:14:28.526955600Z"
    }
   },
   "outputs": [],
   "source": [
    "tf.get_logger().setLevel(\"ERROR\")"
   ]
  },
  {
   "cell_type": "code",
   "execution_count": 3,
   "id": "1f4d0d3d5c4e8316",
   "metadata": {
    "ExecuteTime": {
     "end_time": "2024-03-14T19:14:28.618729Z",
     "start_time": "2024-03-14T19:14:28.540772200Z"
    },
    "collapsed": false,
    "jupyter": {
     "outputs_hidden": false
    }
   },
   "outputs": [],
   "source": [
    "DATASETS_DIR = \"data\"\n",
    "DATASETS_TGZ = \"datasets.tgz\"\n",
    "UNPACKED_DIR = os.path.join(\"data\", \"unpacked\")"
   ]
  },
  {
   "cell_type": "code",
   "execution_count": 4,
   "id": "29aef4eb1ad7f569",
   "metadata": {
    "ExecuteTime": {
     "end_time": "2024-03-14T19:14:55.798454Z",
     "start_time": "2024-03-14T19:14:28.619729500Z"
    },
    "collapsed": false,
    "jupyter": {
     "outputs_hidden": false
    }
   },
   "outputs": [],
   "source": [
    "os.makedirs(UNPACKED_DIR, exist_ok=True)\n",
    "tgz_path = os.path.join(DATASETS_DIR, DATASETS_TGZ)\n",
    "dataset_tgz = tarfile.open(tgz_path)\n",
    "dataset_tgz.extractall(path=UNPACKED_DIR)\n",
    "dataset_tgz.close()"
   ]
  },
  {
   "cell_type": "code",
   "execution_count": 5,
   "id": "a3ac0f674a507a87",
   "metadata": {
    "ExecuteTime": {
     "end_time": "2024-03-14T19:14:55.847283800Z",
     "start_time": "2024-03-14T19:14:55.800478100Z"
    },
    "collapsed": false,
    "jupyter": {
     "outputs_hidden": false
    }
   },
   "outputs": [],
   "source": [
    "def read_csv_dataset(name, path=UNPACKED_DIR):\n",
    "    csv_path = os.path.join(path, name + \".csv\")\n",
    "    return pd.read_csv(csv_path)\n",
    "\n",
    "titanic_ds = read_csv_dataset(\"Titanic\")\n",
    "diamonds_ds = read_csv_dataset(\"diamonds\")"
   ]
  },
  {
   "cell_type": "code",
   "execution_count": 6,
   "id": "4b2cf4fa7996f9f4",
   "metadata": {
    "ExecuteTime": {
     "end_time": "2024-03-14T19:14:56.358076Z",
     "start_time": "2024-03-14T19:14:55.848687100Z"
    },
    "collapsed": false,
    "jupyter": {
     "outputs_hidden": false
    }
   },
   "outputs": [
    {
     "name": "stdout",
     "output_type": "stream",
     "text": [
      "Found 6862 files belonging to 11 classes.\n",
      "Using 5147 files for training.\n",
      "Using 1715 files for validation.\n"
     ]
    }
   ],
   "source": [
    "def read_images_dataset(name, path=UNPACKED_DIR, image_size=32, train_split=0.75, val_split=0.15):\n",
    "    test_split = 1 - train_split - val_split\n",
    "    train_ds, val_test_ds = tf.keras.preprocessing.image_dataset_from_directory(\n",
    "        os.path.join(path, name),\n",
    "        labels=\"inferred\",\n",
    "        label_mode=\"int\",\n",
    "        color_mode=\"rgb\",\n",
    "        image_size=(image_size, image_size),\n",
    "        batch_size=32,\n",
    "        seed=42,\n",
    "        shuffle=True,\n",
    "        validation_split=val_split + test_split,\n",
    "        subset=\"both\"\n",
    "    )\n",
    "    classes = train_ds.class_names\n",
    "    train_ds = train_ds.prefetch(buffer_size=tf.data.experimental.AUTOTUNE)\n",
    "    val_test_ds = val_test_ds.prefetch(buffer_size=tf.data.experimental.AUTOTUNE)\n",
    "    \n",
    "    rescale = tf.keras.layers.experimental.preprocessing.Rescaling(1/255)\n",
    "    train_ds = train_ds.map(lambda x, y: (rescale(x), y))\n",
    "    val_test_ds = val_test_ds.map(lambda x, y: (rescale(x), y))\n",
    "    \n",
    "    size = len(val_test_ds)\n",
    "    val_ds = val_test_ds.take(int(size * (val_split / (val_split + test_split))))\n",
    "    test_ds = val_test_ds.skip(int(size * (val_split / (val_split + test_split))))\n",
    "    \n",
    "    return train_ds, val_ds, test_ds, classes\n",
    "\n",
    "image_size = 128\n",
    "weather_ds = read_images_dataset(\"weather-image\", image_size=image_size)"
   ]
  },
  {
   "cell_type": "markdown",
   "id": "6a4e3aef121d31b9",
   "metadata": {
    "collapsed": false,
    "jupyter": {
     "outputs_hidden": false
    }
   },
   "source": [
    "## From Biological to Artificial Neurons"
   ]
  },
  {
   "cell_type": "markdown",
   "id": "1e69cf5a3aa9621d",
   "metadata": {
    "collapsed": false,
    "jupyter": {
     "outputs_hidden": false
    }
   },
   "source": [
    "#### The Perceptron"
   ]
  },
  {
   "cell_type": "code",
   "execution_count": 7,
   "id": "f70bc748c72744c5",
   "metadata": {
    "ExecuteTime": {
     "end_time": "2024-03-14T19:14:56.904124500Z",
     "start_time": "2024-03-14T19:14:56.359076600Z"
    },
    "collapsed": false,
    "jupyter": {
     "outputs_hidden": false
    }
   },
   "outputs": [
    {
     "data": {
      "text/html": [
       "<div>\n",
       "<style scoped>\n",
       "    .dataframe tbody tr th:only-of-type {\n",
       "        vertical-align: middle;\n",
       "    }\n",
       "\n",
       "    .dataframe tbody tr th {\n",
       "        vertical-align: top;\n",
       "    }\n",
       "\n",
       "    .dataframe thead th {\n",
       "        text-align: right;\n",
       "    }\n",
       "</style>\n",
       "<table border=\"1\" class=\"dataframe\">\n",
       "  <thead>\n",
       "    <tr style=\"text-align: right;\">\n",
       "      <th></th>\n",
       "      <th>PassengerId</th>\n",
       "      <th>Survived</th>\n",
       "      <th>Pclass</th>\n",
       "      <th>Name</th>\n",
       "      <th>Sex</th>\n",
       "      <th>Age</th>\n",
       "      <th>SibSp</th>\n",
       "      <th>Parch</th>\n",
       "      <th>Ticket</th>\n",
       "      <th>Fare</th>\n",
       "      <th>Cabin</th>\n",
       "      <th>Embarked</th>\n",
       "    </tr>\n",
       "  </thead>\n",
       "  <tbody>\n",
       "    <tr>\n",
       "      <th>0</th>\n",
       "      <td>1</td>\n",
       "      <td>0</td>\n",
       "      <td>3</td>\n",
       "      <td>Braund, Mr. Owen Harris</td>\n",
       "      <td>male</td>\n",
       "      <td>22.0</td>\n",
       "      <td>1</td>\n",
       "      <td>0</td>\n",
       "      <td>A/5 21171</td>\n",
       "      <td>7.2500</td>\n",
       "      <td>NaN</td>\n",
       "      <td>S</td>\n",
       "    </tr>\n",
       "    <tr>\n",
       "      <th>1</th>\n",
       "      <td>2</td>\n",
       "      <td>1</td>\n",
       "      <td>1</td>\n",
       "      <td>Cumings, Mrs. John Bradley (Florence Briggs Th...</td>\n",
       "      <td>female</td>\n",
       "      <td>38.0</td>\n",
       "      <td>1</td>\n",
       "      <td>0</td>\n",
       "      <td>PC 17599</td>\n",
       "      <td>71.2833</td>\n",
       "      <td>C85</td>\n",
       "      <td>C</td>\n",
       "    </tr>\n",
       "    <tr>\n",
       "      <th>2</th>\n",
       "      <td>3</td>\n",
       "      <td>1</td>\n",
       "      <td>3</td>\n",
       "      <td>Heikkinen, Miss. Laina</td>\n",
       "      <td>female</td>\n",
       "      <td>26.0</td>\n",
       "      <td>0</td>\n",
       "      <td>0</td>\n",
       "      <td>STON/O2. 3101282</td>\n",
       "      <td>7.9250</td>\n",
       "      <td>NaN</td>\n",
       "      <td>S</td>\n",
       "    </tr>\n",
       "  </tbody>\n",
       "</table>\n",
       "</div>"
      ],
      "text/plain": [
       "   PassengerId  Survived  Pclass  \\\n",
       "0            1         0       3   \n",
       "1            2         1       1   \n",
       "2            3         1       3   \n",
       "\n",
       "                                                Name     Sex   Age  SibSp  \\\n",
       "0                            Braund, Mr. Owen Harris    male  22.0      1   \n",
       "1  Cumings, Mrs. John Bradley (Florence Briggs Th...  female  38.0      1   \n",
       "2                             Heikkinen, Miss. Laina  female  26.0      0   \n",
       "\n",
       "   Parch            Ticket     Fare Cabin Embarked  \n",
       "0      0         A/5 21171   7.2500   NaN        S  \n",
       "1      0          PC 17599  71.2833   C85        C  \n",
       "2      0  STON/O2. 3101282   7.9250   NaN        S  "
      ]
     },
     "execution_count": 7,
     "metadata": {},
     "output_type": "execute_result"
    }
   ],
   "source": [
    "from sklearn.linear_model import Perceptron\n",
    "\n",
    "titanic_ds.head(3)"
   ]
  },
  {
   "cell_type": "code",
   "execution_count": 8,
   "id": "e9e32d499661d5de",
   "metadata": {
    "ExecuteTime": {
     "end_time": "2024-03-14T19:14:56.945132700Z",
     "start_time": "2024-03-14T19:14:56.905392700Z"
    },
    "collapsed": false,
    "jupyter": {
     "outputs_hidden": false
    }
   },
   "outputs": [],
   "source": [
    "titanic_ds[\"Sex\"] = (titanic_ds[\"Sex\"] == \"male\").astype(np.int32)\n",
    "X, y = titanic_ds[[\"Pclass\", \"Sex\", \"Age\", \"SibSp\", \"Parch\", \"Fare\"]], titanic_ds[\"Survived\"]\n",
    "X_train, X_test = X.iloc[5:], X.iloc[:5]\n",
    "y_train, y_test = y.iloc[5:], y.iloc[:5]"
   ]
  },
  {
   "cell_type": "code",
   "execution_count": 9,
   "id": "547b564dd9349fdf",
   "metadata": {
    "ExecuteTime": {
     "end_time": "2024-03-14T19:14:57.069047600Z",
     "start_time": "2024-03-14T19:14:56.922478900Z"
    },
    "collapsed": false,
    "jupyter": {
     "outputs_hidden": false
    }
   },
   "outputs": [
    {
     "data": {
      "text/plain": [
       "array([0, 1, 1, 1, 0], dtype=int64)"
      ]
     },
     "execution_count": 9,
     "metadata": {},
     "output_type": "execute_result"
    }
   ],
   "source": [
    "from sklearn.impute import SimpleImputer\n",
    "\n",
    "imputer = SimpleImputer(strategy=\"median\")\n",
    "X_train = imputer.fit_transform(X_train)\n",
    "X_test = imputer.transform(X_test)\n",
    "\n",
    "per_clf = Perceptron(random_state=42, n_iter_no_change=100)\n",
    "per_clf.fit(X_train, y_train)\n",
    "\n",
    "y_pred = per_clf.predict(X_test)\n",
    "y_pred"
   ]
  },
  {
   "cell_type": "code",
   "execution_count": 10,
   "id": "a7cc90b1cf3f119d",
   "metadata": {
    "ExecuteTime": {
     "end_time": "2024-03-14T19:14:57.075046200Z",
     "start_time": "2024-03-14T19:14:56.984731200Z"
    },
    "collapsed": false,
    "jupyter": {
     "outputs_hidden": false
    }
   },
   "outputs": [
    {
     "data": {
      "text/plain": [
       "0    0\n",
       "1    1\n",
       "2    1\n",
       "3    1\n",
       "4    0\n",
       "Name: Survived, dtype: int64"
      ]
     },
     "execution_count": 10,
     "metadata": {},
     "output_type": "execute_result"
    }
   ],
   "source": [
    "y_test"
   ]
  },
  {
   "cell_type": "markdown",
   "id": "5b12212405a80e87",
   "metadata": {
    "collapsed": false,
    "jupyter": {
     "outputs_hidden": false
    }
   },
   "source": [
    "## Implementing MLPs (and CNN) with Keras"
   ]
  },
  {
   "cell_type": "markdown",
   "id": "6ccba6578ad447b2",
   "metadata": {
    "collapsed": false,
    "jupyter": {
     "outputs_hidden": false
    }
   },
   "source": [
    "#### Building an Image Classifier Using the Sequential API"
   ]
  },
  {
   "cell_type": "markdown",
   "id": "dd40b35c0605de0b",
   "metadata": {
    "collapsed": false,
    "jupyter": {
     "outputs_hidden": false
    }
   },
   "source": [
    "##### Using Keras to load the dataset"
   ]
  },
  {
   "cell_type": "code",
   "execution_count": 11,
   "id": "b6c9708af20c086d",
   "metadata": {
    "ExecuteTime": {
     "end_time": "2024-03-14T19:14:57.119421200Z",
     "start_time": "2024-03-14T19:14:56.998762Z"
    },
    "collapsed": false,
    "jupyter": {
     "outputs_hidden": false
    }
   },
   "outputs": [],
   "source": [
    "from tensorflow import keras\n",
    "\n",
    "train_ds, valid_ds, test_ds, class_names = weather_ds\n",
    "images_path = pathlib.Path(UNPACKED_DIR, \"weather-image\")"
   ]
  },
  {
   "cell_type": "code",
   "execution_count": 12,
   "id": "6dab0be11691722d",
   "metadata": {
    "ExecuteTime": {
     "end_time": "2024-03-14T19:14:57.123959Z",
     "start_time": "2024-03-14T19:14:57.014680Z"
    },
    "collapsed": false,
    "jupyter": {
     "outputs_hidden": false
    }
   },
   "outputs": [
    {
     "data": {
      "text/plain": [
       "6862"
      ]
     },
     "execution_count": 12,
     "metadata": {},
     "output_type": "execute_result"
    }
   ],
   "source": [
    "image_count = len(list(images_path.glob(\"*/*.*\")))\n",
    "image_count"
   ]
  },
  {
   "cell_type": "code",
   "execution_count": 13,
   "id": "df55d896bdb8205d",
   "metadata": {
    "ExecuteTime": {
     "end_time": "2024-03-14T19:14:57.150029200Z",
     "start_time": "2024-03-14T19:14:57.045584500Z"
    },
    "collapsed": false,
    "jupyter": {
     "outputs_hidden": false
    }
   },
   "outputs": [
    {
     "name": "stdout",
     "output_type": "stream",
     "text": [
      "['dew', 'fogsmog', 'frost', 'glaze', 'hail', 'lightning', 'rain', 'rainbow', 'rime', 'sandstorm', 'snow']\n"
     ]
    }
   ],
   "source": [
    "print(class_names)"
   ]
  },
  {
   "cell_type": "code",
   "execution_count": 14,
   "id": "ae497b507ddf434e",
   "metadata": {
    "ExecuteTime": {
     "end_time": "2024-03-14T19:14:57.190537200Z",
     "start_time": "2024-03-14T19:14:57.062533800Z"
    },
    "collapsed": false,
    "jupyter": {
     "outputs_hidden": false
    }
   },
   "outputs": [
    {
     "data": {
      "image/jpeg": "[encoded data removed]",
      "image/png": "[encoded data removed]",
      "text/plain": [
       "<PIL.Image.Image image mode=RGB size=128x128>"
      ]
     },
     "metadata": {},
     "output_type": "display_data"
    },
    {
     "data": {
      "text/plain": [
       "'dew'"
      ]
     },
     "execution_count": 14,
     "metadata": {},
     "output_type": "execute_result"
    }
   ],
   "source": [
    "image = PIL.Image.open(next(images_path.glob(class_names[0] + \"/*\"))).resize((image_size, image_size))\n",
    "display(image)\n",
    "class_names[0]"
   ]
  },
  {
   "cell_type": "markdown",
   "id": "34fae3b6f7ac9783",
   "metadata": {
    "collapsed": false,
    "jupyter": {
     "outputs_hidden": false
    }
   },
   "source": [
    "##### Creating the model using the Sequential API"
   ]
  },
  {
   "cell_type": "code",
   "execution_count": 15,
   "id": "7ce14cb1cbb2e9c6",
   "metadata": {
    "ExecuteTime": {
     "end_time": "2024-03-14T19:14:57.215069100Z",
     "start_time": "2024-03-14T19:14:57.122962400Z"
    },
    "collapsed": false,
    "jupyter": {
     "outputs_hidden": false
    }
   },
   "outputs": [],
   "source": [
    "keras.backend.clear_session()\n",
    "np.random.seed(42)\n",
    "tf.random.set_seed(42)"
   ]
  },
  {
   "cell_type": "code",
   "execution_count": 16,
   "id": "68483c36eaeb7fc9",
   "metadata": {
    "ExecuteTime": {
     "end_time": "2024-03-14T19:14:57.335191600Z",
     "start_time": "2024-03-14T19:14:57.138522Z"
    },
    "collapsed": false,
    "jupyter": {
     "outputs_hidden": false
    }
   },
   "outputs": [],
   "source": [
    "model = keras.models.Sequential()\n",
    "\n",
    "model.add(keras.layers.Conv2D(32, (3, 3), input_shape=[image_size, image_size, 3], activation=\"relu\"))\n",
    "model.add(keras.layers.MaxPooling2D((2, 2)))\n",
    "model.add(keras.layers.Dropout(0.1))\n",
    "\n",
    "model.add(keras.layers.Conv2D(64, (3, 3), activation=\"relu\"))\n",
    "model.add(keras.layers.MaxPooling2D((2, 2)))\n",
    "model.add(keras.layers.Dropout(0.1))\n",
    "\n",
    "model.add(keras.layers.Conv2D(64, (3, 3), activation=\"relu\"))\n",
    "model.add(keras.layers.MaxPooling2D((2, 2)))\n",
    "model.add(keras.layers.Dropout(0.1))\n",
    "\n",
    "model.add(keras.layers.Conv2D(64, (3, 3), activation=\"relu\"))\n",
    "model.add(keras.layers.MaxPooling2D((2, 2)))\n",
    "model.add(keras.layers.Dropout(0.1))\n",
    "\n",
    "model.add(keras.layers.Conv2D(64, (3, 3), activation=\"relu\"))\n",
    "model.add(keras.layers.MaxPooling2D((2, 2)))\n",
    "model.add(keras.layers.Dropout(0.1))\n",
    "\n",
    "model.add(keras.layers.Flatten())\n",
    "model.add(keras.layers.Dense(32, activation=\"relu\"))\n",
    "model.add(keras.layers.Dropout(0.1))\n",
    "model.add(keras.layers.Dense(len(class_names), activation=\"softmax\"))"
   ]
  },
  {
   "cell_type": "code",
   "execution_count": 17,
   "id": "830c6389024246ce",
   "metadata": {
    "ExecuteTime": {
     "end_time": "2024-03-14T19:14:57.441474100Z",
     "start_time": "2024-03-14T19:14:57.326406100Z"
    },
    "collapsed": false,
    "jupyter": {
     "outputs_hidden": false
    }
   },
   "outputs": [
    {
     "name": "stdout",
     "output_type": "stream",
     "text": [
      "Model: \"sequential\"\n",
      "_________________________________________________________________\n",
      " Layer (type)                Output Shape              Param #   \n",
      "=================================================================\n",
      " conv2d (Conv2D)             (None, 126, 126, 32)      896       \n",
      "                                                                 \n",
      " max_pooling2d (MaxPooling2  (None, 63, 63, 32)        0         \n",
      " D)                                                              \n",
      "                                                                 \n",
      " dropout (Dropout)           (None, 63, 63, 32)        0         \n",
      "                                                                 \n",
      " conv2d_1 (Conv2D)           (None, 61, 61, 64)        18496     \n",
      "                                                                 \n",
      " max_pooling2d_1 (MaxPoolin  (None, 30, 30, 64)        0         \n",
      " g2D)                                                            \n",
      "                                                                 \n",
      " dropout_1 (Dropout)         (None, 30, 30, 64)        0         \n",
      "                                                                 \n",
      " conv2d_2 (Conv2D)           (None, 28, 28, 64)        36928     \n",
      "                                                                 \n",
      " max_pooling2d_2 (MaxPoolin  (None, 14, 14, 64)        0         \n",
      " g2D)                                                            \n",
      "                                                                 \n",
      " dropout_2 (Dropout)         (None, 14, 14, 64)        0         \n",
      "                                                                 \n",
      " conv2d_3 (Conv2D)           (None, 12, 12, 64)        36928     \n",
      "                                                                 \n",
      " max_pooling2d_3 (MaxPoolin  (None, 6, 6, 64)          0         \n",
      " g2D)                                                            \n",
      "                                                                 \n",
      " dropout_3 (Dropout)         (None, 6, 6, 64)          0         \n",
      "                                                                 \n",
      " conv2d_4 (Conv2D)           (None, 4, 4, 64)          36928     \n",
      "                                                                 \n",
      " max_pooling2d_4 (MaxPoolin  (None, 2, 2, 64)          0         \n",
      " g2D)                                                            \n",
      "                                                                 \n",
      " dropout_4 (Dropout)         (None, 2, 2, 64)          0         \n",
      "                                                                 \n",
      " flatten (Flatten)           (None, 256)               0         \n",
      "                                                                 \n",
      " dense (Dense)               (None, 32)                8224      \n",
      "                                                                 \n",
      " dropout_5 (Dropout)         (None, 32)                0         \n",
      "                                                                 \n",
      " dense_1 (Dense)             (None, 11)                363       \n",
      "                                                                 \n",
      "=================================================================\n",
      "Total params: 138763 (542.04 KB)\n",
      "Trainable params: 138763 (542.04 KB)\n",
      "Non-trainable params: 0 (0.00 Byte)\n",
      "_________________________________________________________________\n"
     ]
    }
   ],
   "source": [
    "model.summary()"
   ]
  },
  {
   "cell_type": "code",
   "execution_count": 18,
   "id": "7b99b6a34f2696ad",
   "metadata": {
    "ExecuteTime": {
     "end_time": "2024-03-14T19:14:57.464569300Z",
     "start_time": "2024-03-14T19:14:57.359982700Z"
    },
    "collapsed": false,
    "jupyter": {
     "outputs_hidden": false
    }
   },
   "outputs": [
    {
     "data": {
      "text/plain": [
       "[<keras.src.layers.convolutional.conv2d.Conv2D at 0x26ce0567ca0>,\n",
       " <keras.src.layers.pooling.max_pooling2d.MaxPooling2D at 0x26ce056d4f0>,\n",
       " <keras.src.layers.regularization.dropout.Dropout at 0x26ce055e910>,\n",
       " <keras.src.layers.convolutional.conv2d.Conv2D at 0x26ce0577c40>,\n",
       " <keras.src.layers.pooling.max_pooling2d.MaxPooling2D at 0x26ce0426580>,\n",
       " <keras.src.layers.regularization.dropout.Dropout at 0x26ce056d550>,\n",
       " <keras.src.layers.convolutional.conv2d.Conv2D at 0x26ce050fd60>,\n",
       " <keras.src.layers.pooling.max_pooling2d.MaxPooling2D at 0x26ce046d610>,\n",
       " <keras.src.layers.regularization.dropout.Dropout at 0x26ce046d5b0>,\n",
       " <keras.src.layers.convolutional.conv2d.Conv2D at 0x26ce046d340>,\n",
       " <keras.src.layers.pooling.max_pooling2d.MaxPooling2D at 0x26ce0461670>,\n",
       " <keras.src.layers.regularization.dropout.Dropout at 0x26ce0577820>,\n",
       " <keras.src.layers.convolutional.conv2d.Conv2D at 0x26ce0577b20>,\n",
       " <keras.src.layers.pooling.max_pooling2d.MaxPooling2D at 0x26ce04269d0>,\n",
       " <keras.src.layers.regularization.dropout.Dropout at 0x26ce055e6a0>,\n",
       " <keras.src.layers.reshaping.flatten.Flatten at 0x26ce054eb20>,\n",
       " <keras.src.layers.core.dense.Dense at 0x26ce054edc0>,\n",
       " <keras.src.layers.regularization.dropout.Dropout at 0x26ce046d850>,\n",
       " <keras.src.layers.core.dense.Dense at 0x26ce0474f10>]"
      ]
     },
     "execution_count": 18,
     "metadata": {},
     "output_type": "execute_result"
    }
   ],
   "source": [
    "model.layers"
   ]
  },
  {
   "cell_type": "code",
   "execution_count": 19,
   "id": "5de6abb04a324b4a",
   "metadata": {
    "ExecuteTime": {
     "end_time": "2024-03-14T19:14:57.483405700Z",
     "start_time": "2024-03-14T19:14:57.374495200Z"
    },
    "collapsed": false,
    "jupyter": {
     "outputs_hidden": false
    }
   },
   "outputs": [
    {
     "data": {
      "text/plain": [
       "'conv2d_1'"
      ]
     },
     "execution_count": 19,
     "metadata": {},
     "output_type": "execute_result"
    }
   ],
   "source": [
    "hidden3 = model.layers[3]\n",
    "hidden3.name"
   ]
  },
  {
   "cell_type": "code",
   "execution_count": 20,
   "id": "c4f320c97879523c",
   "metadata": {
    "ExecuteTime": {
     "end_time": "2024-03-14T19:14:57.597122700Z",
     "start_time": "2024-03-14T19:14:57.522437700Z"
    },
    "collapsed": false,
    "jupyter": {
     "outputs_hidden": false
    }
   },
   "outputs": [
    {
     "data": {
      "text/plain": [
       "True"
      ]
     },
     "execution_count": 20,
     "metadata": {},
     "output_type": "execute_result"
    }
   ],
   "source": [
    "model.get_layer(\"conv2d_1\") is hidden3"
   ]
  },
  {
   "cell_type": "code",
   "execution_count": 21,
   "id": "543c76548241c0f2",
   "metadata": {
    "ExecuteTime": {
     "end_time": "2024-03-14T19:14:57.617451300Z",
     "start_time": "2024-03-14T19:14:57.529737600Z"
    },
    "collapsed": false,
    "jupyter": {
     "outputs_hidden": false
    }
   },
   "outputs": [],
   "source": [
    "weights, biases = hidden3.get_weights()"
   ]
  },
  {
   "cell_type": "code",
   "execution_count": 22,
   "id": "ef689b2d7b0425e9",
   "metadata": {
    "ExecuteTime": {
     "end_time": "2024-03-14T19:14:57.620462700Z",
     "start_time": "2024-03-14T19:14:57.545529200Z"
    },
    "collapsed": false,
    "jupyter": {
     "outputs_hidden": false
    }
   },
   "outputs": [
    {
     "data": {
      "text/plain": [
       "(3, 3, 32, 64)"
      ]
     },
     "execution_count": 22,
     "metadata": {},
     "output_type": "execute_result"
    }
   ],
   "source": [
    "weights.shape"
   ]
  },
  {
   "cell_type": "code",
   "execution_count": 23,
   "id": "dcd06ebb810b82d0",
   "metadata": {
    "ExecuteTime": {
     "end_time": "2024-03-14T19:14:57.713656100Z",
     "start_time": "2024-03-14T19:14:57.561519800Z"
    },
    "collapsed": false,
    "jupyter": {
     "outputs_hidden": false
    }
   },
   "outputs": [
    {
     "data": {
      "text/plain": [
       "(64,)"
      ]
     },
     "execution_count": 23,
     "metadata": {},
     "output_type": "execute_result"
    }
   ],
   "source": [
    "biases.shape"
   ]
  },
  {
   "cell_type": "markdown",
   "id": "9b8bbb0db518e6f5",
   "metadata": {
    "collapsed": false,
    "jupyter": {
     "outputs_hidden": false
    }
   },
   "source": [
    "##### Compiling the model"
   ]
  },
  {
   "cell_type": "code",
   "execution_count": 24,
   "id": "e40494a280b198fb",
   "metadata": {
    "ExecuteTime": {
     "end_time": "2024-03-14T19:14:57.744195100Z",
     "start_time": "2024-03-14T19:14:57.577342300Z"
    },
    "collapsed": false,
    "jupyter": {
     "outputs_hidden": false
    }
   },
   "outputs": [],
   "source": [
    "model.compile(loss=keras.losses.sparse_categorical_crossentropy,\n",
    "              optimizer=keras.optimizers.Adam(),\n",
    "              metrics=[\"accuracy\"])"
   ]
  },
  {
   "cell_type": "markdown",
   "id": "bb90b746afecfa8c",
   "metadata": {
    "collapsed": false,
    "jupyter": {
     "outputs_hidden": false
    }
   },
   "source": [
    "##### Training and evaluating the model"
   ]
  },
  {
   "cell_type": "code",
   "execution_count": 25,
   "id": "ab1638e29f44e5d7",
   "metadata": {
    "ExecuteTime": {
     "end_time": "2024-03-14T19:16:09.630241300Z",
     "start_time": "2024-03-14T19:14:57.594619700Z"
    },
    "collapsed": false,
    "jupyter": {
     "outputs_hidden": false
    }
   },
   "outputs": [
    {
     "name": "stdout",
     "output_type": "stream",
     "text": [
      "Epoch 1/30\n",
      "161/161 [==============================] - 15s 88ms/step - loss: 2.1015 - accuracy: 0.2695 - val_loss: 1.8744 - val_accuracy: 0.3428\n",
      "Epoch 2/30\n",
      "161/161 [==============================] - 14s 88ms/step - loss: 1.4700 - accuracy: 0.5013 - val_loss: 1.2591 - val_accuracy: 0.6055\n",
      "Epoch 3/30\n",
      "161/161 [==============================] - 14s 87ms/step - loss: 1.2971 - accuracy: 0.5514 - val_loss: 1.2871 - val_accuracy: 0.5225\n",
      "Epoch 4/30\n",
      "161/161 [==============================] - 14s 87ms/step - loss: 1.1863 - accuracy: 0.5860 - val_loss: 1.1203 - val_accuracy: 0.6279\n",
      "Epoch 5/30\n",
      "161/161 [==============================] - 14s 88ms/step - loss: 1.1235 - accuracy: 0.6132 - val_loss: 1.1251 - val_accuracy: 0.6250\n",
      "Epoch 6/30\n",
      "161/161 [==============================] - 14s 86ms/step - loss: 1.0849 - accuracy: 0.6252 - val_loss: 1.0603 - val_accuracy: 0.6475\n",
      "Epoch 7/30\n",
      "161/161 [==============================] - 14s 88ms/step - loss: 1.0413 - accuracy: 0.6408 - val_loss: 1.0596 - val_accuracy: 0.6553\n",
      "Epoch 8/30\n",
      "161/161 [==============================] - 14s 85ms/step - loss: 0.9903 - accuracy: 0.6581 - val_loss: 0.9943 - val_accuracy: 0.6680\n",
      "Epoch 9/30\n",
      "161/161 [==============================] - 14s 86ms/step - loss: 0.9595 - accuracy: 0.6658 - val_loss: 0.9886 - val_accuracy: 0.6787\n",
      "Epoch 10/30\n",
      "161/161 [==============================] - 14s 86ms/step - loss: 0.9228 - accuracy: 0.6862 - val_loss: 0.9861 - val_accuracy: 0.6660\n",
      "Epoch 11/30\n",
      "161/161 [==============================] - 14s 87ms/step - loss: 0.9032 - accuracy: 0.6856 - val_loss: 0.9716 - val_accuracy: 0.6768\n",
      "Epoch 12/30\n",
      "161/161 [==============================] - 14s 85ms/step - loss: 0.8804 - accuracy: 0.6998 - val_loss: 0.9684 - val_accuracy: 0.6709\n",
      "Epoch 13/30\n",
      "161/161 [==============================] - 14s 85ms/step - loss: 0.8371 - accuracy: 0.7115 - val_loss: 0.9499 - val_accuracy: 0.6768\n",
      "Epoch 14/30\n",
      "161/161 [==============================] - 14s 86ms/step - loss: 0.8068 - accuracy: 0.7142 - val_loss: 0.9926 - val_accuracy: 0.6660\n",
      "Epoch 15/30\n",
      "161/161 [==============================] - 14s 85ms/step - loss: 0.7722 - accuracy: 0.7268 - val_loss: 0.8972 - val_accuracy: 0.7080\n",
      "Epoch 16/30\n",
      "161/161 [==============================] - 14s 86ms/step - loss: 0.7672 - accuracy: 0.7379 - val_loss: 0.8892 - val_accuracy: 0.7012\n",
      "Epoch 17/30\n",
      "161/161 [==============================] - 14s 87ms/step - loss: 0.7477 - accuracy: 0.7375 - val_loss: 0.9487 - val_accuracy: 0.7031\n",
      "Epoch 18/30\n",
      "161/161 [==============================] - 14s 88ms/step - loss: 0.6998 - accuracy: 0.7523 - val_loss: 0.8931 - val_accuracy: 0.7061\n",
      "Epoch 19/30\n",
      "161/161 [==============================] - 14s 87ms/step - loss: 0.6950 - accuracy: 0.7612 - val_loss: 0.9244 - val_accuracy: 0.7012\n",
      "Epoch 20/30\n",
      "161/161 [==============================] - 14s 86ms/step - loss: 0.7031 - accuracy: 0.7606 - val_loss: 0.8914 - val_accuracy: 0.7148\n",
      "Epoch 21/30\n",
      "161/161 [==============================] - 14s 86ms/step - loss: 0.6467 - accuracy: 0.7676 - val_loss: 0.9003 - val_accuracy: 0.7148\n",
      "Epoch 22/30\n",
      "161/161 [==============================] - 14s 86ms/step - loss: 0.6277 - accuracy: 0.7773 - val_loss: 0.8987 - val_accuracy: 0.7051\n",
      "Epoch 23/30\n",
      "161/161 [==============================] - 14s 86ms/step - loss: 0.6098 - accuracy: 0.7855 - val_loss: 0.8621 - val_accuracy: 0.7285\n",
      "Epoch 24/30\n",
      "161/161 [==============================] - 14s 86ms/step - loss: 0.6126 - accuracy: 0.7810 - val_loss: 0.9425 - val_accuracy: 0.7012\n",
      "Epoch 25/30\n",
      "161/161 [==============================] - 14s 87ms/step - loss: 0.5682 - accuracy: 0.7970 - val_loss: 0.8956 - val_accuracy: 0.7295\n",
      "Epoch 26/30\n",
      "161/161 [==============================] - 14s 88ms/step - loss: 0.5537 - accuracy: 0.8063 - val_loss: 0.8603 - val_accuracy: 0.7314\n",
      "Epoch 27/30\n",
      "161/161 [==============================] - 14s 86ms/step - loss: 0.5509 - accuracy: 0.8051 - val_loss: 0.8713 - val_accuracy: 0.7412\n",
      "Epoch 28/30\n",
      "161/161 [==============================] - 15s 91ms/step - loss: 0.5222 - accuracy: 0.8172 - val_loss: 0.9066 - val_accuracy: 0.7217\n",
      "Epoch 29/30\n",
      "161/161 [==============================] - 14s 88ms/step - loss: 0.4877 - accuracy: 0.8251 - val_loss: 0.8991 - val_accuracy: 0.7285\n",
      "Epoch 30/30\n",
      "161/161 [==============================] - 14s 89ms/step - loss: 0.4732 - accuracy: 0.8302 - val_loss: 0.9282 - val_accuracy: 0.7275\n"
     ]
    }
   ],
   "source": [
    "history = model.fit(train_ds, epochs=30, validation_data=valid_ds)"
   ]
  },
  {
   "cell_type": "code",
   "execution_count": 26,
   "id": "fabffeea10649f46",
   "metadata": {
    "ExecuteTime": {
     "end_time": "2024-03-14T19:16:09.661295100Z",
     "start_time": "2024-03-14T19:16:09.629240300Z"
    },
    "collapsed": false,
    "jupyter": {
     "outputs_hidden": false
    }
   },
   "outputs": [
    {
     "data": {
      "text/plain": [
       "{'verbose': 1, 'epochs': 30, 'steps': 161}"
      ]
     },
     "execution_count": 26,
     "metadata": {},
     "output_type": "execute_result"
    }
   ],
   "source": [
    "history.params"
   ]
  },
  {
   "cell_type": "code",
   "execution_count": 27,
   "id": "51a23506d5108e1",
   "metadata": {
    "ExecuteTime": {
     "end_time": "2024-03-14T19:16:09.664663500Z",
     "start_time": "2024-03-14T19:16:09.642783500Z"
    },
    "collapsed": false,
    "jupyter": {
     "outputs_hidden": false
    }
   },
   "outputs": [
    {
     "data": {
      "text/plain": [
       "30"
      ]
     },
     "execution_count": 27,
     "metadata": {},
     "output_type": "execute_result"
    }
   ],
   "source": [
    "len(history.epoch)"
   ]
  },
  {
   "cell_type": "code",
   "execution_count": 28,
   "id": "74866b1b66c2d3a8",
   "metadata": {
    "ExecuteTime": {
     "end_time": "2024-03-14T19:16:09.703408700Z",
     "start_time": "2024-03-14T19:16:09.659294900Z"
    },
    "collapsed": false,
    "jupyter": {
     "outputs_hidden": false
    }
   },
   "outputs": [
    {
     "data": {
      "text/plain": [
       "dict_keys(['loss', 'accuracy', 'val_loss', 'val_accuracy'])"
      ]
     },
     "execution_count": 28,
     "metadata": {},
     "output_type": "execute_result"
    }
   ],
   "source": [
    "history.history.keys()"
   ]
  },
  {
   "cell_type": "code",
   "execution_count": 29,
   "id": "bc8f465e0085ce6e",
   "metadata": {
    "ExecuteTime": {
     "end_time": "2024-03-14T19:16:10.028718100Z",
     "start_time": "2024-03-14T19:16:09.676176700Z"
    },
    "collapsed": false,
    "jupyter": {
     "outputs_hidden": false
    }
   },
   "outputs": [
    {
     "data": {
      "image/png": "[encoded data removed]",
      "text/plain": [
       "<Figure size 800x500 with 1 Axes>"
      ]
     },
     "metadata": {},
     "output_type": "display_data"
    }
   ],
   "source": [
    "from matplotlib import pyplot as plt\n",
    "\n",
    "pd.DataFrame(history.history).plot(figsize=(8, 5))\n",
    "plt.grid(True)\n",
    "plt.gca().set_ylim(0, 1) # set the vertical range to [0-1]\n",
    "plt.show()"
   ]
  },
  {
   "cell_type": "code",
   "execution_count": 30,
   "id": "c2ecaf9ba80ba35",
   "metadata": {
    "ExecuteTime": {
     "end_time": "2024-03-14T19:16:13.051380700Z",
     "start_time": "2024-03-14T19:16:10.022294300Z"
    },
    "collapsed": false,
    "jupyter": {
     "outputs_hidden": false
    }
   },
   "outputs": [
    {
     "name": "stdout",
     "output_type": "stream",
     "text": [
      "22/22 [==============================] - 1s 25ms/step - loss: 0.8719 - accuracy: 0.7265\n"
     ]
    },
    {
     "data": {
      "text/plain": [
       "[0.8719432950019836, 0.7264833450317383]"
      ]
     },
     "execution_count": 30,
     "metadata": {},
     "output_type": "execute_result"
    }
   ],
   "source": [
    "model.evaluate(test_ds)"
   ]
  },
  {
   "cell_type": "markdown",
   "id": "db2c144831b71a26",
   "metadata": {
    "collapsed": false,
    "jupyter": {
     "outputs_hidden": false
    }
   },
   "source": [
    "##### Using the model to make predictions"
   ]
  },
  {
   "cell_type": "code",
   "execution_count": 31,
   "id": "ba3d8414ecf4d3a9",
   "metadata": {
    "ExecuteTime": {
     "end_time": "2024-03-14T19:16:13.801380800Z",
     "start_time": "2024-03-14T19:16:13.048007800Z"
    },
    "collapsed": false,
    "jupyter": {
     "outputs_hidden": false
    }
   },
   "outputs": [
    {
     "data": {
      "text/plain": [
       "array([[0.  , 0.  , 0.  , 0.  , 0.98, 0.  , 0.01, 0.  , 0.  , 0.  , 0.  ],\n",
       "       [0.  , 0.  , 0.  , 0.  , 0.  , 0.  , 0.  , 0.  , 1.  , 0.  , 0.  ],\n",
       "       [0.01, 0.02, 0.  , 0.  , 0.  , 0.  , 0.  , 0.97, 0.  , 0.  , 0.  ],\n",
       "       [0.  , 0.26, 0.  , 0.  , 0.  , 0.  , 0.  , 0.  , 0.  , 0.73, 0.  ],\n",
       "       [0.  , 0.65, 0.01, 0.  , 0.  , 0.01, 0.  , 0.15, 0.08, 0.04, 0.05]],\n",
       "      dtype=float32)"
      ]
     },
     "execution_count": 31,
     "metadata": {},
     "output_type": "execute_result"
    }
   ],
   "source": [
    "new = test_ds.take(1)\n",
    "proba = model.predict(new, verbose=0)[:5]\n",
    "proba.round(2)"
   ]
  },
  {
   "cell_type": "code",
   "execution_count": 32,
   "id": "4abbb7aef9aece9a",
   "metadata": {
    "ExecuteTime": {
     "end_time": "2024-03-14T19:16:14.506285800Z",
     "start_time": "2024-03-14T19:16:13.798870800Z"
    },
    "collapsed": false,
    "jupyter": {
     "outputs_hidden": false
    }
   },
   "outputs": [
    {
     "data": {
      "text/plain": [
       "array([4, 8, 7, 9, 1], dtype=int64)"
      ]
     },
     "execution_count": 32,
     "metadata": {},
     "output_type": "execute_result"
    }
   ],
   "source": [
    "y_pred = np.argmax(model.predict(new, verbose=0), axis=-1)[:5]\n",
    "y_pred"
   ]
  },
  {
   "cell_type": "code",
   "execution_count": 33,
   "id": "2ef2b995d2ddb902",
   "metadata": {
    "ExecuteTime": {
     "end_time": "2024-03-14T19:16:14.524205800Z",
     "start_time": "2024-03-14T19:16:14.502931800Z"
    },
    "collapsed": false,
    "jupyter": {
     "outputs_hidden": false
    }
   },
   "outputs": [
    {
     "data": {
      "text/plain": [
       "array(['hail', 'rime', 'rainbow', 'sandstorm', 'fogsmog'], dtype='<U9')"
      ]
     },
     "execution_count": 33,
     "metadata": {},
     "output_type": "execute_result"
    }
   ],
   "source": [
    "np.array(class_names)[y_pred]"
   ]
  },
  {
   "cell_type": "code",
   "execution_count": 34,
   "id": "61e1ccb7154190ad",
   "metadata": {
    "ExecuteTime": {
     "end_time": "2024-03-14T19:16:15.266812600Z",
     "start_time": "2024-03-14T19:16:14.516311Z"
    },
    "collapsed": false,
    "jupyter": {
     "outputs_hidden": false
    }
   },
   "outputs": [
    {
     "data": {
      "image/png": "[encoded data removed]",
      "text/plain": [
       "<Figure size 640x480 with 5 Axes>"
      ]
     },
     "metadata": {},
     "output_type": "display_data"
    }
   ],
   "source": [
    "for x, y in new.take(1):\n",
    "    for i in range(5):\n",
    "        ax = plt.subplot(1, 5, i+1)\n",
    "        plt.imshow((x[i].numpy()*255).astype(\"uint8\"))\n",
    "        plt.title(class_names[y.numpy()[i]])\n",
    "        plt.axis(\"off\")"
   ]
  },
  {
   "cell_type": "markdown",
   "id": "589dcd4fb1aa62b4",
   "metadata": {
    "collapsed": false,
    "jupyter": {
     "outputs_hidden": false
    }
   },
   "source": [
    "#### Building a Regression MLP Using the Sequential API"
   ]
  },
  {
   "cell_type": "code",
   "execution_count": 35,
   "id": "722d5e1355d183dc",
   "metadata": {
    "ExecuteTime": {
     "end_time": "2024-03-14T19:16:15.314514600Z",
     "start_time": "2024-03-14T19:16:15.266812600Z"
    },
    "collapsed": false,
    "jupyter": {
     "outputs_hidden": false
    }
   },
   "outputs": [
    {
     "data": {
      "text/html": [
       "<div>\n",
       "<style scoped>\n",
       "    .dataframe tbody tr th:only-of-type {\n",
       "        vertical-align: middle;\n",
       "    }\n",
       "\n",
       "    .dataframe tbody tr th {\n",
       "        vertical-align: top;\n",
       "    }\n",
       "\n",
       "    .dataframe thead th {\n",
       "        text-align: right;\n",
       "    }\n",
       "</style>\n",
       "<table border=\"1\" class=\"dataframe\">\n",
       "  <thead>\n",
       "    <tr style=\"text-align: right;\">\n",
       "      <th></th>\n",
       "      <th>Unnamed: 0</th>\n",
       "      <th>carat</th>\n",
       "      <th>cut</th>\n",
       "      <th>color</th>\n",
       "      <th>clarity</th>\n",
       "      <th>depth</th>\n",
       "      <th>table</th>\n",
       "      <th>price</th>\n",
       "      <th>x</th>\n",
       "      <th>y</th>\n",
       "      <th>z</th>\n",
       "    </tr>\n",
       "  </thead>\n",
       "  <tbody>\n",
       "    <tr>\n",
       "      <th>0</th>\n",
       "      <td>1</td>\n",
       "      <td>0.23</td>\n",
       "      <td>Ideal</td>\n",
       "      <td>E</td>\n",
       "      <td>SI2</td>\n",
       "      <td>61.5</td>\n",
       "      <td>55.0</td>\n",
       "      <td>326</td>\n",
       "      <td>3.95</td>\n",
       "      <td>3.98</td>\n",
       "      <td>2.43</td>\n",
       "    </tr>\n",
       "    <tr>\n",
       "      <th>1</th>\n",
       "      <td>2</td>\n",
       "      <td>0.21</td>\n",
       "      <td>Premium</td>\n",
       "      <td>E</td>\n",
       "      <td>SI1</td>\n",
       "      <td>59.8</td>\n",
       "      <td>61.0</td>\n",
       "      <td>326</td>\n",
       "      <td>3.89</td>\n",
       "      <td>3.84</td>\n",
       "      <td>2.31</td>\n",
       "    </tr>\n",
       "    <tr>\n",
       "      <th>2</th>\n",
       "      <td>3</td>\n",
       "      <td>0.23</td>\n",
       "      <td>Good</td>\n",
       "      <td>E</td>\n",
       "      <td>VS1</td>\n",
       "      <td>56.9</td>\n",
       "      <td>65.0</td>\n",
       "      <td>327</td>\n",
       "      <td>4.05</td>\n",
       "      <td>4.07</td>\n",
       "      <td>2.31</td>\n",
       "    </tr>\n",
       "  </tbody>\n",
       "</table>\n",
       "</div>"
      ],
      "text/plain": [
       "   Unnamed: 0  carat      cut color clarity  depth  table  price     x     y  \\\n",
       "0           1   0.23    Ideal     E     SI2   61.5   55.0    326  3.95  3.98   \n",
       "1           2   0.21  Premium     E     SI1   59.8   61.0    326  3.89  3.84   \n",
       "2           3   0.23     Good     E     VS1   56.9   65.0    327  4.05  4.07   \n",
       "\n",
       "      z  \n",
       "0  2.43  \n",
       "1  2.31  \n",
       "2  2.31  "
      ]
     },
     "execution_count": 35,
     "metadata": {},
     "output_type": "execute_result"
    }
   ],
   "source": [
    "diamonds_ds.head(3)"
   ]
  },
  {
   "cell_type": "code",
   "execution_count": 36,
   "id": "f155ec360cb4f242",
   "metadata": {
    "ExecuteTime": {
     "end_time": "2024-03-14T19:16:15.334846300Z",
     "start_time": "2024-03-14T19:16:15.283312400Z"
    },
    "collapsed": false,
    "jupyter": {
     "outputs_hidden": false
    }
   },
   "outputs": [],
   "source": [
    "from sklearn.model_selection import train_test_split\n",
    "from sklearn.preprocessing import StandardScaler\n",
    "\n",
    "diamonds_data, diamonds_target = diamonds_ds[[\"carat\", \"depth\", \"table\", \"x\", \"y\", \"z\"]], diamonds_ds[\"price\"]\n",
    "X_train_full, X_test, y_train_full, y_test = train_test_split(diamonds_data, diamonds_target, random_state=42)\n",
    "X_train, X_valid, y_train, y_valid = train_test_split(X_train_full, y_train_full, random_state=42)\n",
    "\n",
    "scaler = StandardScaler()\n",
    "X_train = scaler.fit_transform(X_train)\n",
    "X_valid = scaler.transform(X_valid)\n",
    "X_test = scaler.transform(X_test)"
   ]
  },
  {
   "cell_type": "code",
   "execution_count": 37,
   "id": "937d67c76dd5a93f",
   "metadata": {
    "ExecuteTime": {
     "end_time": "2024-03-14T19:16:32.886364400Z",
     "start_time": "2024-03-14T19:16:15.313224500Z"
    },
    "collapsed": false,
    "jupyter": {
     "outputs_hidden": false
    }
   },
   "outputs": [
    {
     "name": "stdout",
     "output_type": "stream",
     "text": [
      "Epoch 1/20\n",
      "949/949 [==============================] - 1s 874us/step - loss: 30599706.0000 - val_loss: 27814372.0000\n",
      "Epoch 2/20\n",
      "949/949 [==============================] - 1s 748us/step - loss: 24773528.0000 - val_loss: 20283708.0000\n",
      "Epoch 3/20\n",
      "949/949 [==============================] - 1s 799us/step - loss: 16644484.0000 - val_loss: 12483144.0000\n",
      "Epoch 4/20\n",
      "949/949 [==============================] - 1s 749us/step - loss: 9484301.0000 - val_loss: 6838823.0000\n",
      "Epoch 5/20\n",
      "949/949 [==============================] - 1s 767us/step - loss: 4919025.0000 - val_loss: 4093709.0000\n",
      "Epoch 6/20\n",
      "949/949 [==============================] - 1s 749us/step - loss: 2986352.7500 - val_loss: 3412616.5000\n",
      "Epoch 7/20\n",
      "949/949 [==============================] - 1s 746us/step - loss: 2499380.0000 - val_loss: 3344294.2500\n",
      "Epoch 8/20\n",
      "949/949 [==============================] - 1s 761us/step - loss: 2384335.7500 - val_loss: 3283442.0000\n",
      "Epoch 9/20\n",
      "949/949 [==============================] - 1s 767us/step - loss: 2320122.7500 - val_loss: 3240211.7500\n",
      "Epoch 10/20\n",
      "949/949 [==============================] - 1s 793us/step - loss: 2274154.7500 - val_loss: 3206410.7500\n",
      "Epoch 11/20\n",
      "949/949 [==============================] - 1s 763us/step - loss: 2241723.2500 - val_loss: 3150208.7500\n",
      "Epoch 12/20\n",
      "949/949 [==============================] - 1s 750us/step - loss: 2218574.5000 - val_loss: 3135039.2500\n",
      "Epoch 13/20\n",
      "949/949 [==============================] - 1s 781us/step - loss: 2202261.0000 - val_loss: 3109634.5000\n",
      "Epoch 14/20\n",
      "949/949 [==============================] - 1s 758us/step - loss: 2189362.2500 - val_loss: 3100592.0000\n",
      "Epoch 15/20\n",
      "949/949 [==============================] - 1s 796us/step - loss: 2178487.7500 - val_loss: 3095540.7500\n",
      "Epoch 16/20\n",
      "949/949 [==============================] - 1s 764us/step - loss: 2169298.0000 - val_loss: 3063514.0000\n",
      "Epoch 17/20\n",
      "949/949 [==============================] - 1s 796us/step - loss: 2161872.0000 - val_loss: 3062138.5000\n",
      "Epoch 18/20\n",
      "949/949 [==============================] - 1s 788us/step - loss: 2153525.2500 - val_loss: 3052689.5000\n",
      "Epoch 19/20\n",
      "949/949 [==============================] - 1s 727us/step - loss: 2146069.5000 - val_loss: 3043226.2500\n",
      "Epoch 20/20\n",
      "949/949 [==============================] - 1s 839us/step - loss: 2139561.5000 - val_loss: 3043189.5000\n"
     ]
    }
   ],
   "source": [
    "model = keras.models.Sequential([\n",
    "    keras.layers.Dense(64, activation=\"relu\", input_shape=X_train.shape[1:]),\n",
    "    keras.layers.Dense(1),\n",
    "])\n",
    "model.compile(loss=\"mean_squared_error\", optimizer=keras.optimizers.Adam())\n",
    "history = model.fit(X_train, y_train, epochs=20, validation_data=(X_valid, y_valid))"
   ]
  },
  {
   "cell_type": "code",
   "execution_count": 38,
   "id": "882dffcacb829a90",
   "metadata": {
    "ExecuteTime": {
     "end_time": "2024-03-14T19:16:32.954767800Z",
     "start_time": "2024-03-14T19:16:32.876867Z"
    },
    "collapsed": false,
    "jupyter": {
     "outputs_hidden": false
    }
   },
   "outputs": [
    {
     "data": {
      "image/png": "[encoded data removed]",
      "text/plain": [
       "<Figure size 640x480 with 1 Axes>"
      ]
     },
     "metadata": {},
     "output_type": "display_data"
    }
   ],
   "source": [
    "plt.plot(pd.DataFrame(history.history))\n",
    "plt.grid(True)\n",
    "plt.show()"
   ]
  },
  {
   "cell_type": "code",
   "execution_count": 39,
   "id": "b4ce1684c39ddaf2",
   "metadata": {
    "ExecuteTime": {
     "end_time": "2024-03-14T19:16:33.300578Z",
     "start_time": "2024-03-14T19:16:32.955765700Z"
    },
    "collapsed": false,
    "jupyter": {
     "outputs_hidden": false
    }
   },
   "outputs": [
    {
     "name": "stdout",
     "output_type": "stream",
     "text": [
      "422/422 [==============================] - 0s 491us/step - loss: 2193872.5000\n"
     ]
    },
    {
     "data": {
      "text/plain": [
       "2193872.5"
      ]
     },
     "execution_count": 39,
     "metadata": {},
     "output_type": "execute_result"
    }
   ],
   "source": [
    "model.evaluate(X_test, y_test)"
   ]
  },
  {
   "cell_type": "code",
   "execution_count": 40,
   "id": "4507daff65b29270",
   "metadata": {
    "ExecuteTime": {
     "end_time": "2024-03-14T19:16:33.373522200Z",
     "start_time": "2024-03-14T19:16:33.283457200Z"
    },
    "collapsed": false,
    "jupyter": {
     "outputs_hidden": false
    }
   },
   "outputs": [
    {
     "data": {
      "text/plain": [
       "array([[ 796.8253],\n",
       "       [1346.6681],\n",
       "       [1040.8612]], dtype=float32)"
      ]
     },
     "execution_count": 40,
     "metadata": {},
     "output_type": "execute_result"
    }
   ],
   "source": [
    "X_new = X_test[:3]\n",
    "y_pred = model.predict(X_new, verbose=0)\n",
    "y_pred"
   ]
  },
  {
   "cell_type": "code",
   "execution_count": 41,
   "id": "bb0c4c02116fb013",
   "metadata": {
    "ExecuteTime": {
     "end_time": "2024-03-14T19:16:33.395040200Z",
     "start_time": "2024-03-14T19:16:33.366544400Z"
    },
    "collapsed": false,
    "jupyter": {
     "outputs_hidden": false
    }
   },
   "outputs": [
    {
     "data": {
      "text/plain": [
       "1388      559\n",
       "50052    2201\n",
       "41645    1238\n",
       "Name: price, dtype: int64"
      ]
     },
     "execution_count": 41,
     "metadata": {},
     "output_type": "execute_result"
    }
   ],
   "source": [
    "y_new = y_test[:3]\n",
    "y_new"
   ]
  },
  {
   "cell_type": "markdown",
   "id": "a44fdd443314daf",
   "metadata": {
    "collapsed": false,
    "jupyter": {
     "outputs_hidden": false
    }
   },
   "source": [
    "#### Building Complex Models Using the Functional API"
   ]
  },
  {
   "cell_type": "code",
   "execution_count": 42,
   "id": "cec46e47eafd4b0f",
   "metadata": {
    "ExecuteTime": {
     "end_time": "2024-03-14T19:16:33.443607Z",
     "start_time": "2024-03-14T19:16:33.397538800Z"
    },
    "collapsed": false,
    "jupyter": {
     "outputs_hidden": false
    }
   },
   "outputs": [],
   "source": [
    "input_ = keras.layers.Input(shape=X_train.shape[1:])\n",
    "hidden1 = keras.layers.Dense(30, activation=\"relu\")(input_)\n",
    "hidden2 = keras.layers.Dense(30, activation=\"relu\")(hidden1)\n",
    "concat = keras.layers.concatenate([input_, hidden2])\n",
    "output = keras.layers.Dense(1)(concat)\n",
    "model = keras.models.Model(inputs=[input_], outputs=[output])"
   ]
  },
  {
   "cell_type": "code",
   "execution_count": 43,
   "id": "4e4f3da528581633",
   "metadata": {
    "ExecuteTime": {
     "end_time": "2024-03-14T19:16:33.479562100Z",
     "start_time": "2024-03-14T19:16:33.439840800Z"
    },
    "collapsed": false,
    "jupyter": {
     "outputs_hidden": false
    }
   },
   "outputs": [
    {
     "name": "stdout",
     "output_type": "stream",
     "text": [
      "Model: \"model\"\n",
      "__________________________________________________________________________________________________\n",
      " Layer (type)                Output Shape                 Param #   Connected to                  \n",
      "==================================================================================================\n",
      " input_1 (InputLayer)        [(None, 6)]                  0         []                            \n",
      "                                                                                                  \n",
      " dense_4 (Dense)             (None, 30)                   210       ['input_1[0][0]']             \n",
      "                                                                                                  \n",
      " dense_5 (Dense)             (None, 30)                   930       ['dense_4[0][0]']             \n",
      "                                                                                                  \n",
      " concatenate (Concatenate)   (None, 36)                   0         ['input_1[0][0]',             \n",
      "                                                                     'dense_5[0][0]']             \n",
      "                                                                                                  \n",
      " dense_6 (Dense)             (None, 1)                    37        ['concatenate[0][0]']         \n",
      "                                                                                                  \n",
      "==================================================================================================\n",
      "Total params: 1177 (4.60 KB)\n",
      "Trainable params: 1177 (4.60 KB)\n",
      "Non-trainable params: 0 (0.00 Byte)\n",
      "__________________________________________________________________________________________________\n"
     ]
    }
   ],
   "source": [
    "model.summary()"
   ]
  },
  {
   "cell_type": "code",
   "execution_count": 44,
   "id": "c68bdad084ac1afb",
   "metadata": {
    "ExecuteTime": {
     "end_time": "2024-03-14T19:16:33.610798600Z",
     "start_time": "2024-03-14T19:16:33.458506800Z"
    },
    "collapsed": false,
    "jupyter": {
     "outputs_hidden": false
    }
   },
   "outputs": [],
   "source": [
    "input_A = keras.layers.Input(shape=[4], name=\"wide_input\")\n",
    "input_B = keras.layers.Input(shape=[3], name=\"deep_input\")\n",
    "hidden1 = keras.layers.Dense(30, activation=\"relu\")(input_B)\n",
    "hidden2 = keras.layers.Dense(30, activation=\"relu\")(hidden1)\n",
    "concat = keras.layers.concatenate([input_A, hidden2])\n",
    "output = keras.layers.Dense(1, name=\"output\")(concat)\n",
    "model = keras.models.Model(inputs=[input_A, input_B], outputs=[output])"
   ]
  },
  {
   "cell_type": "code",
   "execution_count": 45,
   "id": "c7c9f34cdf09a11d",
   "metadata": {
    "ExecuteTime": {
     "end_time": "2024-03-14T19:16:33.615821300Z",
     "start_time": "2024-03-14T19:16:33.503618600Z"
    },
    "collapsed": false,
    "jupyter": {
     "outputs_hidden": false
    }
   },
   "outputs": [
    {
     "name": "stdout",
     "output_type": "stream",
     "text": [
      "Model: \"model_1\"\n",
      "__________________________________________________________________________________________________\n",
      " Layer (type)                Output Shape                 Param #   Connected to                  \n",
      "==================================================================================================\n",
      " deep_input (InputLayer)     [(None, 3)]                  0         []                            \n",
      "                                                                                                  \n",
      " dense_7 (Dense)             (None, 30)                   120       ['deep_input[0][0]']          \n",
      "                                                                                                  \n",
      " wide_input (InputLayer)     [(None, 4)]                  0         []                            \n",
      "                                                                                                  \n",
      " dense_8 (Dense)             (None, 30)                   930       ['dense_7[0][0]']             \n",
      "                                                                                                  \n",
      " concatenate_1 (Concatenate  (None, 34)                   0         ['wide_input[0][0]',          \n",
      " )                                                                   'dense_8[0][0]']             \n",
      "                                                                                                  \n",
      " output (Dense)              (None, 1)                    35        ['concatenate_1[0][0]']       \n",
      "                                                                                                  \n",
      "==================================================================================================\n",
      "Total params: 1085 (4.24 KB)\n",
      "Trainable params: 1085 (4.24 KB)\n",
      "Non-trainable params: 0 (0.00 Byte)\n",
      "__________________________________________________________________________________________________\n"
     ]
    }
   ],
   "source": [
    "model.summary()"
   ]
  },
  {
   "cell_type": "code",
   "execution_count": 46,
   "id": "1a5b90320a76d2ba",
   "metadata": {
    "ExecuteTime": {
     "end_time": "2024-03-14T19:16:53.947764100Z",
     "start_time": "2024-03-14T19:16:33.518407700Z"
    },
    "collapsed": false,
    "jupyter": {
     "outputs_hidden": false
    }
   },
   "outputs": [
    {
     "name": "stdout",
     "output_type": "stream",
     "text": [
      "Epoch 1/20\n",
      "949/949 [==============================] - 1s 932us/step - loss: 23877512.0000 - val_loss: 6915601.5000\n",
      "Epoch 2/20\n",
      "949/949 [==============================] - 1s 840us/step - loss: 2663081.5000 - val_loss: 3469895.2500\n",
      "Epoch 3/20\n",
      "949/949 [==============================] - 1s 865us/step - loss: 2249525.0000 - val_loss: 3563605.7500\n",
      "Epoch 4/20\n",
      "949/949 [==============================] - 1s 834us/step - loss: 2217895.7500 - val_loss: 3609627.0000\n",
      "Epoch 5/20\n",
      "949/949 [==============================] - 1s 859us/step - loss: 2193296.2500 - val_loss: 3629470.2500\n",
      "Epoch 6/20\n",
      "949/949 [==============================] - 1s 879us/step - loss: 2174779.2500 - val_loss: 3640248.0000\n",
      "Epoch 7/20\n",
      "949/949 [==============================] - 1s 848us/step - loss: 2157827.2500 - val_loss: 3635088.7500\n",
      "Epoch 8/20\n",
      "949/949 [==============================] - 1s 871us/step - loss: 2144762.0000 - val_loss: 3689561.0000\n",
      "Epoch 9/20\n",
      "949/949 [==============================] - 1s 842us/step - loss: 2131891.5000 - val_loss: 3750621.5000\n",
      "Epoch 10/20\n",
      "949/949 [==============================] - 1s 851us/step - loss: 2124344.7500 - val_loss: 3780197.7500\n",
      "Epoch 11/20\n",
      "949/949 [==============================] - 1s 824us/step - loss: 2117109.7500 - val_loss: 3722826.2500\n",
      "Epoch 12/20\n",
      "949/949 [==============================] - 1s 842us/step - loss: 2111941.7500 - val_loss: 3851040.7500\n",
      "Epoch 13/20\n",
      "949/949 [==============================] - 1s 899us/step - loss: 2106711.2500 - val_loss: 3802553.2500\n",
      "Epoch 14/20\n",
      "949/949 [==============================] - 1s 849us/step - loss: 2104362.7500 - val_loss: 3886308.2500\n",
      "Epoch 15/20\n",
      "949/949 [==============================] - 1s 840us/step - loss: 2099485.5000 - val_loss: 3967641.0000\n",
      "Epoch 16/20\n",
      "949/949 [==============================] - 1s 836us/step - loss: 2095859.5000 - val_loss: 3861554.0000\n",
      "Epoch 17/20\n",
      "949/949 [==============================] - 1s 855us/step - loss: 2095846.3750 - val_loss: 3875918.7500\n",
      "Epoch 18/20\n",
      "949/949 [==============================] - 1s 848us/step - loss: 2092918.1250 - val_loss: 3880640.7500\n",
      "Epoch 19/20\n",
      "949/949 [==============================] - 1s 863us/step - loss: 2090727.3750 - val_loss: 3916873.0000\n",
      "Epoch 20/20\n",
      "949/949 [==============================] - 1s 868us/step - loss: 2089487.0000 - val_loss: 3969693.0000\n"
     ]
    }
   ],
   "source": [
    "model.compile(loss=\"mse\", optimizer=keras.optimizers.Adam())\n",
    "\n",
    "X_train_A, X_train_B = X_train[:, :4], X_train[:, 3:]\n",
    "X_valid_A, X_valid_B = X_valid[:, :4], X_valid[:, 3:]\n",
    "X_test_A, X_test_B = X_test[:, :4], X_test[:, 3:]\n",
    "X_new_A, X_new_B = X_test_A[:3], X_test_B[:3]\n",
    "\n",
    "model.fit((X_train_A, X_train_B), y_train, epochs=20, validation_data=((X_valid_A, X_valid_B), y_valid));"
   ]
  },
  {
   "cell_type": "code",
   "execution_count": 47,
   "id": "8fd57d74990dea1b",
   "metadata": {
    "ExecuteTime": {
     "end_time": "2024-03-14T19:16:54.310896700Z",
     "start_time": "2024-03-14T19:16:53.947764100Z"
    },
    "collapsed": false,
    "jupyter": {
     "outputs_hidden": false
    }
   },
   "outputs": [
    {
     "name": "stdout",
     "output_type": "stream",
     "text": [
      "422/422 [==============================] - 0s 574us/step - loss: 2316239.5000\n"
     ]
    },
    {
     "data": {
      "text/plain": [
       "2316239.5"
      ]
     },
     "execution_count": 47,
     "metadata": {},
     "output_type": "execute_result"
    }
   ],
   "source": [
    "model.evaluate((X_test_A, X_test_B), y_test)"
   ]
  },
  {
   "cell_type": "code",
   "execution_count": 48,
   "id": "3735e8379a02c35e",
   "metadata": {
    "ExecuteTime": {
     "end_time": "2024-03-14T19:16:54.409926Z",
     "start_time": "2024-03-14T19:16:54.307896900Z"
    },
    "collapsed": false,
    "jupyter": {
     "outputs_hidden": false
    }
   },
   "outputs": [
    {
     "data": {
      "text/plain": [
       "array([[ 711.8309],\n",
       "       [1982.1323],\n",
       "       [ 936.3407]], dtype=float32)"
      ]
     },
     "execution_count": 48,
     "metadata": {},
     "output_type": "execute_result"
    }
   ],
   "source": [
    "y_pred = model.predict((X_new_A, X_new_B), verbose=0)\n",
    "y_pred"
   ]
  },
  {
   "cell_type": "code",
   "execution_count": 49,
   "id": "6d77d73f2128022c",
   "metadata": {
    "ExecuteTime": {
     "end_time": "2024-03-14T19:17:18.256180500Z",
     "start_time": "2024-03-14T19:16:54.404102100Z"
    },
    "collapsed": false,
    "jupyter": {
     "outputs_hidden": false
    }
   },
   "outputs": [
    {
     "name": "stdout",
     "output_type": "stream",
     "text": [
      "Epoch 1/20\n",
      "949/949 [==============================] - 1s 999us/step - loss: 23014188.0000 - main_output_loss: 22883758.0000 - aux_output_loss: 24187844.0000 - val_loss: 5909850.0000 - val_main_output_loss: 5736665.0000 - val_aux_output_loss: 7468559.0000\n",
      "Epoch 2/20\n",
      "949/949 [==============================] - 1s 897us/step - loss: 2525559.2500 - main_output_loss: 2490466.2500 - aux_output_loss: 2841411.2500 - val_loss: 3526841.0000 - val_main_output_loss: 3530247.7500 - val_aux_output_loss: 3496168.0000\n",
      "Epoch 3/20\n",
      "949/949 [==============================] - 1s 915us/step - loss: 2231093.2500 - main_output_loss: 2230912.2500 - aux_output_loss: 2232697.7500 - val_loss: 3617319.5000 - val_main_output_loss: 3617541.0000 - val_aux_output_loss: 3615327.5000\n",
      "Epoch 4/20\n",
      "949/949 [==============================] - 1s 886us/step - loss: 2204728.2500 - main_output_loss: 2204654.5000 - aux_output_loss: 2205414.0000 - val_loss: 3650522.2500 - val_main_output_loss: 3650529.0000 - val_aux_output_loss: 3650430.5000\n",
      "Epoch 5/20\n",
      "949/949 [==============================] - 1s 897us/step - loss: 2179679.0000 - main_output_loss: 2179577.7500 - aux_output_loss: 2180613.0000 - val_loss: 3656777.0000 - val_main_output_loss: 3656741.7500 - val_aux_output_loss: 3657074.2500\n",
      "Epoch 6/20\n",
      "949/949 [==============================] - 1s 866us/step - loss: 2158403.7500 - main_output_loss: 2158316.0000 - aux_output_loss: 2159200.0000 - val_loss: 3660835.5000 - val_main_output_loss: 3660807.0000 - val_aux_output_loss: 3661116.5000\n",
      "Epoch 7/20\n",
      "949/949 [==============================] - 1s 882us/step - loss: 2139642.5000 - main_output_loss: 2139583.5000 - aux_output_loss: 2140168.2500 - val_loss: 3654248.0000 - val_main_output_loss: 3654188.5000 - val_aux_output_loss: 3654762.0000\n",
      "Epoch 8/20\n",
      "949/949 [==============================] - 1s 907us/step - loss: 2126963.5000 - main_output_loss: 2126916.7500 - aux_output_loss: 2127388.7500 - val_loss: 3712418.2500 - val_main_output_loss: 3712360.7500 - val_aux_output_loss: 3712930.0000\n",
      "Epoch 9/20\n",
      "949/949 [==============================] - 1s 910us/step - loss: 2115474.0000 - main_output_loss: 2115426.2500 - aux_output_loss: 2115897.0000 - val_loss: 3777557.2500 - val_main_output_loss: 3777482.0000 - val_aux_output_loss: 3778262.0000\n",
      "Epoch 10/20\n",
      "949/949 [==============================] - 1s 902us/step - loss: 2109393.0000 - main_output_loss: 2109339.7500 - aux_output_loss: 2109890.0000 - val_loss: 3808315.2500 - val_main_output_loss: 3808219.7500 - val_aux_output_loss: 3809157.0000\n",
      "Epoch 11/20\n",
      "949/949 [==============================] - 1s 887us/step - loss: 2103677.2500 - main_output_loss: 2103613.2500 - aux_output_loss: 2104248.2500 - val_loss: 3749739.7500 - val_main_output_loss: 3749629.2500 - val_aux_output_loss: 3750725.0000\n",
      "Epoch 12/20\n",
      "949/949 [==============================] - 1s 902us/step - loss: 2099868.2500 - main_output_loss: 2099796.2500 - aux_output_loss: 2100526.5000 - val_loss: 3880271.5000 - val_main_output_loss: 3880167.5000 - val_aux_output_loss: 3881207.5000\n",
      "Epoch 13/20\n",
      "949/949 [==============================] - 1s 870us/step - loss: 2095833.0000 - main_output_loss: 2095749.8750 - aux_output_loss: 2096570.7500 - val_loss: 3831127.2500 - val_main_output_loss: 3831006.2500 - val_aux_output_loss: 3832205.7500\n",
      "Epoch 14/20\n",
      "949/949 [==============================] - 1s 902us/step - loss: 2094587.3750 - main_output_loss: 2094494.8750 - aux_output_loss: 2095416.7500 - val_loss: 3914152.7500 - val_main_output_loss: 3914027.7500 - val_aux_output_loss: 3915264.0000\n",
      "Epoch 15/20\n",
      "949/949 [==============================] - 1s 875us/step - loss: 2090546.2500 - main_output_loss: 2090445.6250 - aux_output_loss: 2091458.7500 - val_loss: 3996880.7500 - val_main_output_loss: 3996749.2500 - val_aux_output_loss: 3998050.0000\n",
      "Epoch 16/20\n",
      "949/949 [==============================] - 1s 902us/step - loss: 2087603.3750 - main_output_loss: 2087490.6250 - aux_output_loss: 2088602.1250 - val_loss: 3886136.5000 - val_main_output_loss: 3885999.2500 - val_aux_output_loss: 3887379.5000\n",
      "Epoch 17/20\n",
      "949/949 [==============================] - 1s 883us/step - loss: 2088232.0000 - main_output_loss: 2088113.8750 - aux_output_loss: 2089306.6250 - val_loss: 3898935.2500 - val_main_output_loss: 3898783.7500 - val_aux_output_loss: 3900306.7500\n",
      "Epoch 18/20\n",
      "949/949 [==============================] - 1s 917us/step - loss: 2085896.1250 - main_output_loss: 2085769.6250 - aux_output_loss: 2087059.1250 - val_loss: 3902001.7500 - val_main_output_loss: 3901850.7500 - val_aux_output_loss: 3903369.7500\n",
      "Epoch 19/20\n",
      "949/949 [==============================] - 1s 859us/step - loss: 2084330.5000 - main_output_loss: 2084191.8750 - aux_output_loss: 2085573.7500 - val_loss: 3936585.2500 - val_main_output_loss: 3936430.2500 - val_aux_output_loss: 3937995.0000\n",
      "Epoch 20/20\n",
      "949/949 [==============================] - 1s 918us/step - loss: 2083742.0000 - main_output_loss: 2083591.2500 - aux_output_loss: 2085071.2500 - val_loss: 3986577.5000 - val_main_output_loss: 3986414.0000 - val_aux_output_loss: 3988004.0000\n"
     ]
    }
   ],
   "source": [
    "input_A = keras.layers.Input(shape=[4], name=\"wide_input\")\n",
    "input_B = keras.layers.Input(shape=[3], name=\"deep_input\")\n",
    "hidden1 = keras.layers.Dense(30, activation=\"relu\")(input_B)\n",
    "hidden2 = keras.layers.Dense(30, activation=\"relu\")(hidden1)\n",
    "concat = keras.layers.concatenate([input_A, hidden2])\n",
    "output = keras.layers.Dense(1, name=\"main_output\")(concat)\n",
    "aux_output = keras.layers.Dense(1, name=\"aux_output\")(hidden2)\n",
    "model = keras.models.Model(inputs=[input_A, input_B], outputs=[output, aux_output])\n",
    "\n",
    "model.compile(loss=[\"mse\", \"mse\"], loss_weights=[0.9, 0.1], optimizer=keras.optimizers.Adam())\n",
    "model.fit([X_train_A, X_train_B], [y_train, y_train], epochs=20, \n",
    "          validation_data=([X_valid_A, X_valid_B], [y_valid, y_valid]));"
   ]
  },
  {
   "cell_type": "code",
   "execution_count": 50,
   "id": "6b6eef4c61029c02",
   "metadata": {
    "ExecuteTime": {
     "end_time": "2024-03-14T19:17:18.641856700Z",
     "start_time": "2024-03-14T19:17:18.256180500Z"
    },
    "collapsed": false,
    "jupyter": {
     "outputs_hidden": false
    }
   },
   "outputs": [
    {
     "name": "stdout",
     "output_type": "stream",
     "text": [
      "422/422 [==============================] - 0s 585us/step - loss: 2315124.0000 - main_output_loss: 2314993.5000 - aux_output_loss: 2316293.2500\n"
     ]
    },
    {
     "data": {
      "text/plain": [
       "[2315124.0, 2314993.5, 2316293.25]"
      ]
     },
     "execution_count": 50,
     "metadata": {},
     "output_type": "execute_result"
    }
   ],
   "source": [
    "model.evaluate([X_test_A, X_test_B], [y_test, y_test]) # total_loss, main_loss, aux_loss"
   ]
  },
  {
   "cell_type": "code",
   "execution_count": 51,
   "id": "d208b808681faae1",
   "metadata": {
    "ExecuteTime": {
     "end_time": "2024-03-14T19:17:18.713910700Z",
     "start_time": "2024-03-14T19:17:18.631141100Z"
    },
    "collapsed": false,
    "jupyter": {
     "outputs_hidden": false
    }
   },
   "outputs": [
    {
     "data": {
      "text/plain": [
       "(array([[ 697.19073],\n",
       "        [2013.9595 ],\n",
       "        [ 927.4189 ]], dtype=float32),\n",
       " array([[ 694.68304],\n",
       "        [2012.5068 ],\n",
       "        [ 921.87787]], dtype=float32))"
      ]
     },
     "execution_count": 51,
     "metadata": {},
     "output_type": "execute_result"
    }
   ],
   "source": [
    "y_pred_main, y_pred_aux = model.predict((X_new_A, X_new_B), verbose=0)\n",
    "y_pred_main, y_pred_aux"
   ]
  },
  {
   "cell_type": "markdown",
   "id": "2fc0a47ddc167d49",
   "metadata": {
    "collapsed": false,
    "jupyter": {
     "outputs_hidden": false
    }
   },
   "source": [
    "#### Using the Subclassing API to Build Dynamic Models"
   ]
  },
  {
   "cell_type": "code",
   "execution_count": 52,
   "id": "4c38574b47f7dd1f",
   "metadata": {
    "ExecuteTime": {
     "end_time": "2024-03-14T19:17:18.750085200Z",
     "start_time": "2024-03-14T19:17:18.707861Z"
    },
    "collapsed": false,
    "jupyter": {
     "outputs_hidden": false
    }
   },
   "outputs": [],
   "source": [
    "class WideAndDeepModel(keras.models.Model):\n",
    "    def __init__(self, units=30, activation=\"relu\", **kwargs):\n",
    "        super().__init__(**kwargs)\n",
    "        self.hidden1 = keras.layers.Dense(units, activation=activation)\n",
    "        self.hidden2 = keras.layers.Dense(units, activation=activation)\n",
    "        self.main_output = keras.layers.Dense(1)\n",
    "        self.aux_output = keras.layers.Dense(1)\n",
    "    \n",
    "    def call(self, inputs, training=None, mask=None):\n",
    "        input_A, input_B = inputs\n",
    "        hidden1 = self.hidden1(input_B)\n",
    "        hidden2 = self.hidden2(hidden1)\n",
    "        concat = keras.layers.concatenate([input_A, hidden2])\n",
    "        main_output = self.main_output(concat)\n",
    "        aux_output = self.aux_output(hidden2)\n",
    "        return main_output, aux_output\n",
    "\n",
    "model = WideAndDeepModel(30, activation=\"relu\")"
   ]
  },
  {
   "cell_type": "code",
   "execution_count": 53,
   "id": "50ce91acb9ce900",
   "metadata": {
    "ExecuteTime": {
     "end_time": "2024-03-14T19:17:41.933515600Z",
     "start_time": "2024-03-14T19:17:18.723429500Z"
    },
    "collapsed": false,
    "jupyter": {
     "outputs_hidden": false
    }
   },
   "outputs": [
    {
     "name": "stdout",
     "output_type": "stream",
     "text": [
      "Epoch 1/20\n",
      "949/949 [==============================] - 1s 977us/step - loss: 23580288.0000 - output_1_loss: 23545150.0000 - output_2_loss: 23896538.0000 - val_loss: 6697311.5000 - val_output_1_loss: 6649078.0000 - val_output_2_loss: 7131403.5000\n",
      "Epoch 2/20\n",
      "949/949 [==============================] - 1s 896us/step - loss: 2636721.2500 - output_1_loss: 2627732.5000 - output_2_loss: 2717619.7500 - val_loss: 3490172.7500 - val_output_1_loss: 3490854.2500 - val_output_2_loss: 3484026.7500\n",
      "Epoch 3/20\n",
      "949/949 [==============================] - 1s 892us/step - loss: 2248307.0000 - output_1_loss: 2248254.2500 - output_2_loss: 2248765.5000 - val_loss: 3579495.7500 - val_output_1_loss: 3579393.2500 - val_output_2_loss: 3580429.7500\n",
      "Epoch 4/20\n",
      "949/949 [==============================] - 1s 902us/step - loss: 2222709.0000 - output_1_loss: 2222650.0000 - output_2_loss: 2223246.2500 - val_loss: 3616209.5000 - val_output_1_loss: 3616055.7500 - val_output_2_loss: 3617575.5000\n",
      "Epoch 5/20\n",
      "949/949 [==============================] - 1s 879us/step - loss: 2200105.5000 - output_1_loss: 2200019.0000 - output_2_loss: 2200878.7500 - val_loss: 3626734.2500 - val_output_1_loss: 3626556.7500 - val_output_2_loss: 3628335.2500\n",
      "Epoch 6/20\n",
      "949/949 [==============================] - 1s 894us/step - loss: 2181875.0000 - output_1_loss: 2181773.0000 - output_2_loss: 2182826.2500 - val_loss: 3629362.5000 - val_output_1_loss: 3629145.5000 - val_output_2_loss: 3631314.5000\n",
      "Epoch 7/20\n",
      "949/949 [==============================] - 1s 875us/step - loss: 2164858.7500 - output_1_loss: 2164738.2500 - output_2_loss: 2165938.7500 - val_loss: 3617220.7500 - val_output_1_loss: 3616994.5000 - val_output_2_loss: 3619279.2500\n",
      "Epoch 8/20\n",
      "949/949 [==============================] - 1s 913us/step - loss: 2151290.7500 - output_1_loss: 2151163.7500 - output_2_loss: 2152424.7500 - val_loss: 3665414.5000 - val_output_1_loss: 3665237.2500 - val_output_2_loss: 3667006.2500\n",
      "Epoch 9/20\n",
      "949/949 [==============================] - 1s 932us/step - loss: 2137448.2500 - output_1_loss: 2137317.7500 - output_2_loss: 2138610.2500 - val_loss: 3720283.7500 - val_output_1_loss: 3720127.7500 - val_output_2_loss: 3721698.7500\n",
      "Epoch 10/20\n",
      "949/949 [==============================] - 1s 921us/step - loss: 2128932.0000 - output_1_loss: 2128801.7500 - output_2_loss: 2130102.0000 - val_loss: 3743050.2500 - val_output_1_loss: 3742882.5000 - val_output_2_loss: 3744560.7500\n",
      "Epoch 11/20\n",
      "949/949 [==============================] - 1s 872us/step - loss: 2120952.0000 - output_1_loss: 2120817.7500 - output_2_loss: 2122157.0000 - val_loss: 3681047.2500 - val_output_1_loss: 3680846.0000 - val_output_2_loss: 3682863.2500\n",
      "Epoch 12/20\n",
      "949/949 [==============================] - 1s 868us/step - loss: 2115221.7500 - output_1_loss: 2115083.0000 - output_2_loss: 2116469.2500 - val_loss: 3806395.2500 - val_output_1_loss: 3806271.7500 - val_output_2_loss: 3807521.5000\n",
      "Epoch 13/20\n",
      "949/949 [==============================] - 1s 895us/step - loss: 2109477.7500 - output_1_loss: 2109331.0000 - output_2_loss: 2110802.7500 - val_loss: 3753621.2500 - val_output_1_loss: 3753447.7500 - val_output_2_loss: 3755189.7500\n",
      "Epoch 14/20\n",
      "949/949 [==============================] - 1s 877us/step - loss: 2106695.0000 - output_1_loss: 2106544.5000 - output_2_loss: 2108050.0000 - val_loss: 3834596.0000 - val_output_1_loss: 3834464.7500 - val_output_2_loss: 3835792.7500\n",
      "Epoch 15/20\n",
      "949/949 [==============================] - 1s 919us/step - loss: 2101462.5000 - output_1_loss: 2101304.7500 - output_2_loss: 2102899.5000 - val_loss: 3913546.2500 - val_output_1_loss: 3913453.7500 - val_output_2_loss: 3914374.2500\n",
      "Epoch 16/20\n",
      "949/949 [==============================] - 1s 890us/step - loss: 2097537.7500 - output_1_loss: 2097369.7500 - output_2_loss: 2099036.7500 - val_loss: 3803699.0000 - val_output_1_loss: 3803552.0000 - val_output_2_loss: 3805070.5000\n",
      "Epoch 17/20\n",
      "949/949 [==============================] - 1s 895us/step - loss: 2097343.0000 - output_1_loss: 2097167.2500 - output_2_loss: 2098894.7500 - val_loss: 3814056.2500 - val_output_1_loss: 3813890.2500 - val_output_2_loss: 3815589.7500\n",
      "Epoch 18/20\n",
      "949/949 [==============================] - 1s 925us/step - loss: 2094297.1250 - output_1_loss: 2094118.0000 - output_2_loss: 2095903.1250 - val_loss: 3815635.0000 - val_output_1_loss: 3815472.5000 - val_output_2_loss: 3817101.7500\n",
      "Epoch 19/20\n",
      "949/949 [==============================] - 1s 893us/step - loss: 2092107.3750 - output_1_loss: 2091920.6250 - output_2_loss: 2093791.8750 - val_loss: 3848947.0000 - val_output_1_loss: 3848801.0000 - val_output_2_loss: 3850274.0000\n",
      "Epoch 20/20\n",
      "949/949 [==============================] - 1s 869us/step - loss: 2090909.6250 - output_1_loss: 2090713.1250 - output_2_loss: 2092650.3750 - val_loss: 3897692.2500 - val_output_1_loss: 3897562.0000 - val_output_2_loss: 3898866.0000\n"
     ]
    }
   ],
   "source": [
    "model.compile(loss=\"mse\", loss_weights=[0.9, 0.1], optimizer=keras.optimizers.Adam())\n",
    "model.fit((X_train_A, X_train_B), (y_train, y_train), epochs=20, \n",
    "          validation_data=((X_valid_A, X_valid_B), (y_valid, y_valid)));"
   ]
  },
  {
   "cell_type": "code",
   "execution_count": 54,
   "id": "52226e9cb4f2a7a4",
   "metadata": {
    "ExecuteTime": {
     "end_time": "2024-03-14T19:17:42.337848800Z",
     "start_time": "2024-03-14T19:17:41.932507Z"
    },
    "collapsed": false,
    "jupyter": {
     "outputs_hidden": false
    }
   },
   "outputs": [
    {
     "name": "stdout",
     "output_type": "stream",
     "text": [
      "422/422 [==============================] - 0s 582us/step - loss: 2304862.7500 - output_1_loss: 2304675.0000 - output_2_loss: 2306549.0000\n"
     ]
    },
    {
     "data": {
      "text/plain": [
       "[2304862.75, 2304675.0, 2306549.0]"
      ]
     },
     "execution_count": 54,
     "metadata": {},
     "output_type": "execute_result"
    }
   ],
   "source": [
    "model.evaluate((X_test_A, X_test_B), (y_test, y_test)) # total_loss, main_loss, aux_loss"
   ]
  },
  {
   "cell_type": "code",
   "execution_count": 55,
   "id": "2055189e9869a5df",
   "metadata": {
    "ExecuteTime": {
     "end_time": "2024-03-14T19:17:42.443050900Z",
     "start_time": "2024-03-14T19:17:42.335327500Z"
    },
    "collapsed": false,
    "jupyter": {
     "outputs_hidden": false
    }
   },
   "outputs": [
    {
     "data": {
      "text/plain": [
       "(array([[ 708.6035 ],\n",
       "        [1981.1372 ],\n",
       "        [ 954.72284]], dtype=float32),\n",
       " array([[ 707.92957],\n",
       "        [1971.5621 ],\n",
       "        [ 948.2606 ]], dtype=float32))"
      ]
     },
     "execution_count": 55,
     "metadata": {},
     "output_type": "execute_result"
    }
   ],
   "source": [
    "y_pred_main, y_pred_aux = model.predict((X_new_A, X_new_B), verbose=0)\n",
    "y_pred_main, y_pred_aux"
   ]
  },
  {
   "cell_type": "markdown",
   "id": "593e0d013b1fccb5",
   "metadata": {
    "collapsed": false,
    "jupyter": {
     "outputs_hidden": false
    }
   },
   "source": [
    "#### Saving and Restoring a Model"
   ]
  },
  {
   "cell_type": "code",
   "execution_count": 56,
   "id": "5a510ec71d345f73",
   "metadata": {
    "ExecuteTime": {
     "end_time": "2024-03-14T19:17:42.486292900Z",
     "start_time": "2024-03-14T19:17:42.444056200Z"
    },
    "collapsed": false,
    "jupyter": {
     "outputs_hidden": false
    }
   },
   "outputs": [],
   "source": [
    "model = keras.models.Sequential([\n",
    "    keras.layers.Dense(30, activation=\"relu\", input_shape=X_train.shape[1:]),\n",
    "    keras.layers.Dense(30, activation=\"relu\"),\n",
    "    keras.layers.Dense(1)\n",
    "])"
   ]
  },
  {
   "cell_type": "code",
   "execution_count": 57,
   "id": "cbb7ae22f3c42466",
   "metadata": {
    "ExecuteTime": {
     "end_time": "2024-03-14T19:17:52.948469700Z",
     "start_time": "2024-03-14T19:17:42.474931400Z"
    },
    "collapsed": false,
    "jupyter": {
     "outputs_hidden": false
    }
   },
   "outputs": [
    {
     "name": "stdout",
     "output_type": "stream",
     "text": [
      "Epoch 1/10\n",
      "949/949 [==============================] - 1s 888us/step - loss: 19312806.0000 - val_loss: 3555812.0000\n",
      "Epoch 2/10\n",
      "949/949 [==============================] - 1s 782us/step - loss: 2401374.0000 - val_loss: 3193594.0000\n",
      "Epoch 3/10\n",
      "949/949 [==============================] - 1s 828us/step - loss: 2232067.0000 - val_loss: 3144914.5000\n",
      "Epoch 4/10\n",
      "949/949 [==============================] - 1s 782us/step - loss: 2190053.2500 - val_loss: 3118802.0000\n",
      "Epoch 5/10\n",
      "949/949 [==============================] - 1s 785us/step - loss: 2166886.2500 - val_loss: 3060197.0000\n",
      "Epoch 6/10\n",
      "949/949 [==============================] - 1s 797us/step - loss: 2147356.2500 - val_loss: 3039215.7500\n",
      "Epoch 7/10\n",
      "949/949 [==============================] - 1s 831us/step - loss: 2130924.7500 - val_loss: 2997390.2500\n",
      "Epoch 8/10\n",
      "949/949 [==============================] - 1s 749us/step - loss: 2119627.0000 - val_loss: 3014943.2500\n",
      "Epoch 9/10\n",
      "949/949 [==============================] - 1s 827us/step - loss: 2106180.7500 - val_loss: 3036323.2500\n",
      "Epoch 10/10\n",
      "949/949 [==============================] - 1s 796us/step - loss: 2098601.2500 - val_loss: 3046996.0000\n"
     ]
    }
   ],
   "source": [
    "model.compile(loss=\"mse\", optimizer=keras.optimizers.Adam())\n",
    "model.fit(X_train, y_train, epochs=10, validation_data=(X_valid, y_valid));"
   ]
  },
  {
   "cell_type": "code",
   "execution_count": 58,
   "id": "e5e7f8d86ef5e51b",
   "metadata": {
    "ExecuteTime": {
     "end_time": "2024-03-14T19:17:53.365711800Z",
     "start_time": "2024-03-14T19:17:52.949471100Z"
    },
    "collapsed": false,
    "jupyter": {
     "outputs_hidden": false
    }
   },
   "outputs": [
    {
     "name": "stdout",
     "output_type": "stream",
     "text": [
      "422/422 [==============================] - 0s 514us/step - loss: 2180810.7500\n"
     ]
    },
    {
     "data": {
      "text/plain": [
       "2180810.75"
      ]
     },
     "execution_count": 58,
     "metadata": {},
     "output_type": "execute_result"
    }
   ],
   "source": [
    "model.evaluate(X_test, y_test)"
   ]
  },
  {
   "cell_type": "code",
   "execution_count": 59,
   "id": "3e9b8001-2471-4168-8759-b2ac8f7b2f55",
   "metadata": {
    "ExecuteTime": {
     "end_time": "2024-03-14T19:17:53.432481500Z",
     "start_time": "2024-03-14T19:17:53.343807200Z"
    }
   },
   "outputs": [
    {
     "data": {
      "text/plain": [
       "array([[ 710.2412],\n",
       "       [1647.6146],\n",
       "       [1004.5992]], dtype=float32)"
      ]
     },
     "execution_count": 59,
     "metadata": {},
     "output_type": "execute_result"
    }
   ],
   "source": [
    "y_pred = model.predict(X_new, verbose=0)\n",
    "y_pred"
   ]
  },
  {
   "cell_type": "code",
   "execution_count": 60,
   "id": "603dcf5011760dc8",
   "metadata": {
    "ExecuteTime": {
     "end_time": "2024-03-14T19:17:53.530178600Z",
     "start_time": "2024-03-14T19:17:53.422828800Z"
    },
    "collapsed": false,
    "jupyter": {
     "outputs_hidden": false
    }
   },
   "outputs": [],
   "source": [
    "model.save(\"temp_model.keras\")\n",
    "model = keras.models.load_model(\"temp_model.keras\")"
   ]
  },
  {
   "cell_type": "code",
   "execution_count": 61,
   "id": "a2aa5ab4cbe9e223",
   "metadata": {
    "ExecuteTime": {
     "end_time": "2024-03-14T19:17:53.922895700Z",
     "start_time": "2024-03-14T19:17:53.530686600Z"
    },
    "collapsed": false,
    "jupyter": {
     "outputs_hidden": false
    }
   },
   "outputs": [
    {
     "name": "stdout",
     "output_type": "stream",
     "text": [
      "422/422 [==============================] - 0s 550us/step - loss: 2180810.7500\n"
     ]
    },
    {
     "data": {
      "text/plain": [
       "2180810.75"
      ]
     },
     "execution_count": 61,
     "metadata": {},
     "output_type": "execute_result"
    }
   ],
   "source": [
    "model.evaluate(X_test, y_test)"
   ]
  },
  {
   "cell_type": "code",
   "execution_count": 62,
   "id": "a681ef195beb8b36",
   "metadata": {
    "ExecuteTime": {
     "end_time": "2024-03-14T19:17:53.998275300Z",
     "start_time": "2024-03-14T19:17:53.918777400Z"
    },
    "collapsed": false,
    "jupyter": {
     "outputs_hidden": false
    }
   },
   "outputs": [
    {
     "data": {
      "text/plain": [
       "array([[ 710.2412],\n",
       "       [1647.6146],\n",
       "       [1004.5992]], dtype=float32)"
      ]
     },
     "execution_count": 62,
     "metadata": {},
     "output_type": "execute_result"
    }
   ],
   "source": [
    "y_pred = model.predict(X_new, verbose=0)\n",
    "y_pred"
   ]
  },
  {
   "cell_type": "markdown",
   "id": "4d8e61b0a6bab8d5",
   "metadata": {
    "collapsed": false,
    "jupyter": {
     "outputs_hidden": false
    }
   },
   "source": [
    "#### Using Callbacks"
   ]
  },
  {
   "cell_type": "code",
   "execution_count": 63,
   "id": "6ffccc1347aed08f",
   "metadata": {
    "ExecuteTime": {
     "end_time": "2024-03-14T19:17:54.037191500Z",
     "start_time": "2024-03-14T19:17:53.997265100Z"
    },
    "collapsed": false,
    "jupyter": {
     "outputs_hidden": false
    }
   },
   "outputs": [],
   "source": [
    "model = keras.models.Sequential([\n",
    "    keras.layers.Dense(30, activation=\"relu\", input_shape=X_train.shape[1:]),\n",
    "    keras.layers.Dense(30, activation=\"relu\"),\n",
    "    keras.layers.Dense(1)\n",
    "])"
   ]
  },
  {
   "cell_type": "code",
   "execution_count": 64,
   "id": "96b113c4768df852",
   "metadata": {
    "ExecuteTime": {
     "end_time": "2024-03-14T19:18:04.991846100Z",
     "start_time": "2024-03-14T19:17:54.028539500Z"
    },
    "collapsed": false,
    "jupyter": {
     "outputs_hidden": false
    }
   },
   "outputs": [
    {
     "name": "stdout",
     "output_type": "stream",
     "text": [
      "Epoch 1/10\n",
      "949/949 [==============================] - 1s 1ms/step - loss: 19457038.0000 - val_loss: 3653129.5000\n",
      "Epoch 2/10\n",
      "949/949 [==============================] - 1s 930us/step - loss: 2488624.2500 - val_loss: 3229505.7500\n",
      "Epoch 3/10\n",
      "949/949 [==============================] - 1s 966us/step - loss: 2281979.0000 - val_loss: 3139875.5000\n",
      "Epoch 4/10\n",
      "949/949 [==============================] - 1s 877us/step - loss: 2213648.5000 - val_loss: 3082020.2500\n",
      "Epoch 5/10\n",
      "949/949 [==============================] - 1s 905us/step - loss: 2185450.5000 - val_loss: 3015237.2500\n",
      "Epoch 6/10\n",
      "949/949 [==============================] - 1s 777us/step - loss: 2168880.5000 - val_loss: 2991092.0000\n",
      "Epoch 7/10\n",
      "949/949 [==============================] - 1s 862us/step - loss: 2155576.2500 - val_loss: 2948844.7500\n",
      "Epoch 8/10\n",
      "949/949 [==============================] - 1s 897us/step - loss: 2145172.2500 - val_loss: 2957628.0000\n",
      "Epoch 9/10\n",
      "949/949 [==============================] - 1s 803us/step - loss: 2130877.5000 - val_loss: 2970888.7500\n",
      "Epoch 10/10\n",
      "949/949 [==============================] - 1s 846us/step - loss: 2121164.2500 - val_loss: 2973800.2500\n"
     ]
    }
   ],
   "source": [
    "checkpoint_cb = keras.callbacks.ModelCheckpoint(\"temp_model.keras\", save_best_only=True)\n",
    "\n",
    "model.compile(loss=\"mse\", optimizer=keras.optimizers.Adam())\n",
    "model.fit(X_train, y_train, epochs=10, validation_data=(X_valid, y_valid), \n",
    "          callbacks=[checkpoint_cb]);"
   ]
  },
  {
   "cell_type": "code",
   "execution_count": 65,
   "id": "1d2223020fe67b9c",
   "metadata": {
    "ExecuteTime": {
     "end_time": "2024-03-14T19:18:05.053050300Z",
     "start_time": "2024-03-14T19:18:04.992848Z"
    },
    "collapsed": false,
    "jupyter": {
     "outputs_hidden": false
    }
   },
   "outputs": [],
   "source": [
    "model = keras.models.load_model(\"temp_model.keras\") # rollback to best model"
   ]
  },
  {
   "cell_type": "code",
   "execution_count": 66,
   "id": "c724d6ca52decf33",
   "metadata": {
    "ExecuteTime": {
     "end_time": "2024-03-14T19:18:05.401712900Z",
     "start_time": "2024-03-14T19:18:05.054050700Z"
    },
    "collapsed": false,
    "jupyter": {
     "outputs_hidden": false
    }
   },
   "outputs": [
    {
     "name": "stdout",
     "output_type": "stream",
     "text": [
      "317/317 [==============================] - 0s 571us/step - loss: 2948844.7500\n"
     ]
    },
    {
     "data": {
      "text/plain": [
       "2948844.75"
      ]
     },
     "execution_count": 66,
     "metadata": {},
     "output_type": "execute_result"
    }
   ],
   "source": [
    "model.evaluate(X_valid, y_valid)"
   ]
  },
  {
   "cell_type": "code",
   "execution_count": 67,
   "id": "8a4d0753295a8485",
   "metadata": {
    "ExecuteTime": {
     "end_time": "2024-03-14T19:18:22.682074700Z",
     "start_time": "2024-03-14T19:18:05.399550800Z"
    },
    "collapsed": false,
    "jupyter": {
     "outputs_hidden": false
    }
   },
   "outputs": [
    {
     "name": "stdout",
     "output_type": "stream",
     "text": [
      "Epoch 1/100\n",
      "949/949 [==============================] - 1s 1ms/step - loss: 2145037.2500 - val_loss: 2959286.2500\n",
      "Epoch 2/100\n",
      "949/949 [==============================] - 1s 826us/step - loss: 2131800.7500 - val_loss: 2922434.2500\n",
      "Epoch 3/100\n",
      "949/949 [==============================] - 1s 1ms/step - loss: 2122504.2500 - val_loss: 2959195.0000\n",
      "Epoch 4/100\n",
      "949/949 [==============================] - 1s 937us/step - loss: 2111631.5000 - val_loss: 2973210.7500\n",
      "Epoch 5/100\n",
      "949/949 [==============================] - 1s 852us/step - loss: 2102429.0000 - val_loss: 2942573.0000\n",
      "Epoch 6/100\n",
      "949/949 [==============================] - 1s 775us/step - loss: 2094257.2500 - val_loss: 2944232.7500\n",
      "Epoch 7/100\n",
      "949/949 [==============================] - 1s 869us/step - loss: 2087194.8750 - val_loss: 2920734.7500\n",
      "Epoch 8/100\n",
      "949/949 [==============================] - 1s 825us/step - loss: 2083194.1250 - val_loss: 2948238.2500\n",
      "Epoch 9/100\n",
      "949/949 [==============================] - 1s 945us/step - loss: 2076127.8750 - val_loss: 2978571.0000\n",
      "Epoch 10/100\n",
      "949/949 [==============================] - 1s 807us/step - loss: 2074232.6250 - val_loss: 2998737.0000\n",
      "Epoch 11/100\n",
      "949/949 [==============================] - 1s 798us/step - loss: 2072522.0000 - val_loss: 2952866.2500\n",
      "Epoch 12/100\n",
      "949/949 [==============================] - 1s 827us/step - loss: 2071033.2500 - val_loss: 3034195.2500\n",
      "Epoch 13/100\n",
      "949/949 [==============================] - 1s 790us/step - loss: 2068237.7500 - val_loss: 2993738.5000\n",
      "Epoch 14/100\n",
      "949/949 [==============================] - 1s 825us/step - loss: 2068488.5000 - val_loss: 3039938.2500\n",
      "Epoch 15/100\n",
      "949/949 [==============================] - 1s 854us/step - loss: 2065713.3750 - val_loss: 3090912.2500\n",
      "Epoch 16/100\n",
      "949/949 [==============================] - 1s 869us/step - loss: 2063174.2500 - val_loss: 3011563.2500\n",
      "Epoch 17/100\n",
      "949/949 [==============================] - 1s 805us/step - loss: 2065379.0000 - val_loss: 3015615.7500\n"
     ]
    }
   ],
   "source": [
    "early_stopping_cb = keras.callbacks.EarlyStopping(patience=10, restore_best_weights=True)\n",
    "\n",
    "model.compile(loss=\"mse\", optimizer=keras.optimizers.Adam())\n",
    "model.fit(X_train, y_train, epochs=100, validation_data=(X_valid, y_valid), \n",
    "          callbacks=[checkpoint_cb, early_stopping_cb]);"
   ]
  },
  {
   "cell_type": "code",
   "execution_count": 68,
   "id": "d4b9163d82ee1fc8",
   "metadata": {
    "ExecuteTime": {
     "end_time": "2024-03-14T19:18:22.978459500Z",
     "start_time": "2024-03-14T19:18:22.654826200Z"
    },
    "collapsed": false,
    "jupyter": {
     "outputs_hidden": false
    }
   },
   "outputs": [
    {
     "name": "stdout",
     "output_type": "stream",
     "text": [
      "317/317 [==============================] - 0s 572us/step - loss: 2920734.7500\n"
     ]
    },
    {
     "data": {
      "text/plain": [
       "2920734.75"
      ]
     },
     "execution_count": 68,
     "metadata": {},
     "output_type": "execute_result"
    }
   ],
   "source": [
    "model.evaluate(X_valid, y_valid)"
   ]
  },
  {
   "cell_type": "code",
   "execution_count": 69,
   "id": "5f83dfa4f9512ba2",
   "metadata": {
    "ExecuteTime": {
     "end_time": "2024-03-14T19:18:23.005970100Z",
     "start_time": "2024-03-14T19:18:22.968643200Z"
    },
    "collapsed": false,
    "jupyter": {
     "outputs_hidden": false
    }
   },
   "outputs": [],
   "source": [
    "class PrintValTrainRatioCallback(keras.callbacks.Callback):\n",
    "    def on_epoch_end(self, epoch, logs=None):\n",
    "        print(\"val/train: {:.2f}\".format(logs[\"val_loss\"] / logs[\"loss\"]))\n",
    "        \n",
    "val_train_ratio_cb = PrintValTrainRatioCallback()"
   ]
  },
  {
   "cell_type": "code",
   "execution_count": 70,
   "id": "17af36e2b6ab2fed",
   "metadata": {
    "ExecuteTime": {
     "end_time": "2024-03-14T19:18:25.549998100Z",
     "start_time": "2024-03-14T19:18:22.982411200Z"
    },
    "collapsed": false,
    "jupyter": {
     "outputs_hidden": false
    }
   },
   "outputs": [
    {
     "name": "stdout",
     "output_type": "stream",
     "text": [
      "Epoch 1/3\n",
      "val/train: 1.42\n",
      "949/949 - 1s - loss: 2083139.6250 - val_loss: 2948826.5000 - 708ms/epoch - 746us/step\n",
      "Epoch 2/3\n",
      "val/train: 1.41\n",
      "949/949 - 1s - loss: 2077118.1250 - val_loss: 2928455.2500 - 660ms/epoch - 695us/step\n",
      "Epoch 3/3\n",
      "val/train: 1.44\n",
      "949/949 - 1s - loss: 2075661.6250 - val_loss: 2981367.7500 - 649ms/epoch - 683us/step\n"
     ]
    }
   ],
   "source": [
    "model.fit(X_train, y_train, epochs=3, validation_data=(X_valid, y_valid), \n",
    "          callbacks=[val_train_ratio_cb], verbose=2);"
   ]
  },
  {
   "cell_type": "markdown",
   "id": "9f50d5a48ffd0530",
   "metadata": {
    "collapsed": false,
    "jupyter": {
     "outputs_hidden": false
    }
   },
   "source": [
    "#### Using TensorBoard for Visualization"
   ]
  },
  {
   "cell_type": "markdown",
   "id": "210cb352-9ddd-44ba-8cc9-14730012a8d2",
   "metadata": {
    "collapsed": false,
    "jupyter": {
     "outputs_hidden": false
    }
   },
   "source": [
    "```tensorboard --logdir=lab9/logs --port=6006```"
   ]
  },
  {
   "cell_type": "code",
   "execution_count": 71,
   "id": "aa2ea21d-bec4-4cf9-8517-fe4b103e4a1c",
   "metadata": {
    "ExecuteTime": {
     "end_time": "2024-03-14T19:18:25.586526500Z",
     "start_time": "2024-03-14T19:18:25.551133500Z"
    }
   },
   "outputs": [
    {
     "data": {
      "text/plain": [
       "'.\\\\logs\\\\run_2024_03_15-01_15_50'"
      ]
     },
     "execution_count": 71,
     "metadata": {},
     "output_type": "execute_result"
    }
   ],
   "source": [
    "def get_run_logdir():\n",
    "    root_logdir = os.path.join(os.curdir, \"logs\")\n",
    "    run_id = time.strftime(\"run_%Y_%m_%d-%H_%M_%S\")\n",
    "    return os.path.join(root_logdir, run_id)\n",
    "\n",
    "run_logdir = get_run_logdir()\n",
    "run_logdir"
   ]
  },
  {
   "cell_type": "code",
   "execution_count": 72,
   "id": "738bba992cd1bd08",
   "metadata": {
    "ExecuteTime": {
     "end_time": "2024-03-14T19:18:25.643530500Z",
     "start_time": "2024-03-14T19:18:25.565925600Z"
    },
    "collapsed": false,
    "jupyter": {
     "outputs_hidden": false
    }
   },
   "outputs": [],
   "source": [
    "model = keras.models.Sequential([\n",
    "    keras.layers.Dense(30, activation=\"relu\", input_shape=X_train.shape[1:]),\n",
    "    keras.layers.Dense(30, activation=\"relu\"),\n",
    "    keras.layers.Dense(1)\n",
    "])"
   ]
  },
  {
   "cell_type": "code",
   "execution_count": 73,
   "id": "508817fb0875e3c5",
   "metadata": {
    "ExecuteTime": {
     "end_time": "2024-03-14T19:18:58.122405900Z",
     "start_time": "2024-03-14T19:18:25.644834900Z"
    },
    "collapsed": false,
    "jupyter": {
     "outputs_hidden": false
    }
   },
   "outputs": [
    {
     "name": "stdout",
     "output_type": "stream",
     "text": [
      "Epoch 1/30\n",
      "949/949 [==============================] - 1s 918us/step - loss: 19913524.0000 - val_loss: 3734152.0000\n",
      "Epoch 2/30\n",
      "949/949 [==============================] - 1s 879us/step - loss: 2407386.7500 - val_loss: 3220586.7500\n",
      "Epoch 3/30\n",
      "949/949 [==============================] - 1s 876us/step - loss: 2230921.7500 - val_loss: 3173169.7500\n",
      "Epoch 4/30\n",
      "949/949 [==============================] - 1s 864us/step - loss: 2191079.2500 - val_loss: 3145485.5000\n",
      "Epoch 5/30\n",
      "949/949 [==============================] - 1s 884us/step - loss: 2171057.2500 - val_loss: 3092905.7500\n",
      "Epoch 6/30\n",
      "949/949 [==============================] - 1s 907us/step - loss: 2154887.0000 - val_loss: 3073513.5000\n",
      "Epoch 7/30\n",
      "949/949 [==============================] - 1s 910us/step - loss: 2138581.7500 - val_loss: 3029926.0000\n",
      "Epoch 8/30\n",
      "949/949 [==============================] - 1s 939us/step - loss: 2123891.0000 - val_loss: 3041546.0000\n",
      "Epoch 9/30\n",
      "949/949 [==============================] - 1s 901us/step - loss: 2106168.7500 - val_loss: 3059830.7500\n",
      "Epoch 10/30\n",
      "949/949 [==============================] - 1s 833us/step - loss: 2095235.3750 - val_loss: 3069015.2500\n",
      "Epoch 11/30\n",
      "949/949 [==============================] - 1s 862us/step - loss: 2086828.8750 - val_loss: 3017146.2500\n",
      "Epoch 12/30\n",
      "949/949 [==============================] - 1s 872us/step - loss: 2081344.1250 - val_loss: 3098184.5000\n",
      "Epoch 13/30\n",
      "949/949 [==============================] - 1s 904us/step - loss: 2076044.0000 - val_loss: 3053329.0000\n",
      "Epoch 14/30\n",
      "949/949 [==============================] - 1s 842us/step - loss: 2074696.0000 - val_loss: 3100590.2500\n",
      "Epoch 15/30\n",
      "949/949 [==============================] - 1s 843us/step - loss: 2070847.6250 - val_loss: 3147678.7500\n",
      "Epoch 16/30\n",
      "949/949 [==============================] - 1s 868us/step - loss: 2066665.5000 - val_loss: 3061864.0000\n",
      "Epoch 17/30\n",
      "949/949 [==============================] - 1s 1ms/step - loss: 2067649.5000 - val_loss: 3062775.2500\n",
      "Epoch 18/30\n",
      "949/949 [==============================] - 1s 996us/step - loss: 2065423.0000 - val_loss: 3068076.2500\n",
      "Epoch 19/30\n",
      "949/949 [==============================] - 1s 904us/step - loss: 2063937.8750 - val_loss: 3084062.0000\n",
      "Epoch 20/30\n",
      "949/949 [==============================] - 1s 902us/step - loss: 2063848.0000 - val_loss: 3115110.7500\n",
      "Epoch 21/30\n",
      "949/949 [==============================] - 1s 845us/step - loss: 2061870.6250 - val_loss: 3139472.7500\n",
      "Epoch 22/30\n",
      "949/949 [==============================] - 1s 917us/step - loss: 2059699.7500 - val_loss: 3112977.5000\n",
      "Epoch 23/30\n",
      "949/949 [==============================] - 1s 880us/step - loss: 2058612.6250 - val_loss: 3173417.5000\n",
      "Epoch 24/30\n",
      "949/949 [==============================] - 1s 935us/step - loss: 2058789.2500 - val_loss: 3153277.5000\n",
      "Epoch 25/30\n",
      "949/949 [==============================] - 1s 835us/step - loss: 2055999.8750 - val_loss: 3215126.2500\n",
      "Epoch 26/30\n",
      "949/949 [==============================] - 1s 899us/step - loss: 2058397.2500 - val_loss: 3166164.7500\n",
      "Epoch 27/30\n",
      "949/949 [==============================] - 1s 853us/step - loss: 2053473.3750 - val_loss: 3172069.0000\n",
      "Epoch 28/30\n",
      "949/949 [==============================] - 1s 890us/step - loss: 2054028.6250 - val_loss: 3179545.0000\n",
      "Epoch 29/30\n",
      "949/949 [==============================] - 1s 856us/step - loss: 2048145.0000 - val_loss: 3170975.0000\n",
      "Epoch 30/30\n",
      "949/949 [==============================] - 1s 969us/step - loss: 2049927.7500 - val_loss: 3189848.2500\n"
     ]
    }
   ],
   "source": [
    "tensorboard_cb = keras.callbacks.TensorBoard(run_logdir)\n",
    "\n",
    "model.compile(loss=\"mse\", optimizer=keras.optimizers.Adam())\n",
    "model.fit(X_train, y_train, epochs=30, validation_data=(X_valid, y_valid), \n",
    "          callbacks=[checkpoint_cb, tensorboard_cb]);"
   ]
  },
  {
   "cell_type": "markdown",
   "id": "15489cd6ccc80400",
   "metadata": {
    "collapsed": false,
    "jupyter": {
     "outputs_hidden": false
    }
   },
   "source": [
    "## Fine-Tuning Neural Network Hyperparameters"
   ]
  },
  {
   "cell_type": "code",
   "execution_count": 74,
   "id": "1f748f5e6d97f7db",
   "metadata": {
    "ExecuteTime": {
     "end_time": "2024-03-14T19:47:38.614861300Z",
     "start_time": "2024-03-14T19:47:38.519170300Z"
    },
    "collapsed": false,
    "jupyter": {
     "outputs_hidden": false
    }
   },
   "outputs": [],
   "source": [
    "def build_model(n_hidden=1, n_neurons=30, input_shape=None):\n",
    "    if input_shape is None:\n",
    "        input_shape = [6]\n",
    "    model = keras.models.Sequential()\n",
    "    model.add(keras.layers.InputLayer(input_shape=input_shape))\n",
    "    for layer in range(n_hidden):\n",
    "        model.add(keras.layers.Dense(n_neurons, activation=\"relu\"))\n",
    "    model.add(keras.layers.Dense(1))\n",
    "    optimizer = keras.optimizers.Adam()\n",
    "    model.compile(loss=\"mse\", optimizer=optimizer)\n",
    "    return model"
   ]
  },
  {
   "cell_type": "code",
   "execution_count": 75,
   "id": "f0889f5175dac3f1",
   "metadata": {
    "ExecuteTime": {
     "end_time": "2024-03-14T19:47:38.661895100Z",
     "start_time": "2024-03-14T19:47:38.589314300Z"
    },
    "collapsed": false,
    "jupyter": {
     "outputs_hidden": false
    }
   },
   "outputs": [],
   "source": [
    "from scikeras.wrappers import KerasRegressor\n",
    "\n",
    "keras_reg = KerasRegressor(build_model, n_hidden=1, n_neurons=30, input_shape=None,\n",
    "                           callbacks=[keras.callbacks.EarlyStopping(patience=10)])"
   ]
  },
  {
   "cell_type": "code",
   "execution_count": 76,
   "id": "de53628bdaa0a856",
   "metadata": {
    "ExecuteTime": {
     "end_time": "2024-03-14T19:48:28.149296Z",
     "start_time": "2024-03-14T19:47:38.663896200Z"
    },
    "collapsed": false,
    "jupyter": {
     "outputs_hidden": false
    }
   },
   "outputs": [
    {
     "name": "stdout",
     "output_type": "stream",
     "text": [
      "Epoch 1/100\n",
      "949/949 [==============================] - 1s 784us/step - loss: 31272228.0000 - val_loss: 29809950.0000\n",
      "Epoch 2/100\n",
      "949/949 [==============================] - 1s 750us/step - loss: 29003666.0000 - val_loss: 26713964.0000\n",
      "Epoch 3/100\n",
      "949/949 [==============================] - 1s 759us/step - loss: 25295966.0000 - val_loss: 22627818.0000\n",
      "Epoch 4/100\n",
      "949/949 [==============================] - 1s 738us/step - loss: 20903850.0000 - val_loss: 18197956.0000\n",
      "Epoch 5/100\n",
      "949/949 [==============================] - 1s 785us/step - loss: 16371374.0000 - val_loss: 13868855.0000\n",
      "Epoch 6/100\n",
      "949/949 [==============================] - 1s 747us/step - loss: 12003206.0000 - val_loss: 9827406.0000\n",
      "Epoch 7/100\n",
      "949/949 [==============================] - 1s 772us/step - loss: 8072048.0000 - val_loss: 6503437.5000\n",
      "Epoch 8/100\n",
      "949/949 [==============================] - 1s 802us/step - loss: 5072020.5000 - val_loss: 4391915.0000\n",
      "Epoch 9/100\n",
      "949/949 [==============================] - 1s 757us/step - loss: 3319530.7500 - val_loss: 3471421.5000\n",
      "Epoch 10/100\n",
      "949/949 [==============================] - 1s 765us/step - loss: 2590128.7500 - val_loss: 3269001.7500\n",
      "Epoch 11/100\n",
      "949/949 [==============================] - 1s 733us/step - loss: 2386731.2500 - val_loss: 3245781.5000\n",
      "Epoch 12/100\n",
      "949/949 [==============================] - 1s 732us/step - loss: 2321938.0000 - val_loss: 3221255.2500\n",
      "Epoch 13/100\n",
      "949/949 [==============================] - 1s 809us/step - loss: 2281208.0000 - val_loss: 3186745.2500\n",
      "Epoch 14/100\n",
      "949/949 [==============================] - 1s 728us/step - loss: 2250127.5000 - val_loss: 3161751.2500\n",
      "Epoch 15/100\n",
      "949/949 [==============================] - 1s 763us/step - loss: 2226434.5000 - val_loss: 3143085.0000\n",
      "Epoch 16/100\n",
      "949/949 [==============================] - 1s 733us/step - loss: 2208439.0000 - val_loss: 3111727.5000\n",
      "Epoch 17/100\n",
      "949/949 [==============================] - 1s 747us/step - loss: 2194781.5000 - val_loss: 3099033.7500\n",
      "Epoch 18/100\n",
      "949/949 [==============================] - 1s 899us/step - loss: 2183246.0000 - val_loss: 3085505.2500\n",
      "Epoch 19/100\n",
      "949/949 [==============================] - 1s 825us/step - loss: 2173831.2500 - val_loss: 3070777.7500\n",
      "Epoch 20/100\n",
      "949/949 [==============================] - 1s 800us/step - loss: 2166152.2500 - val_loss: 3065698.7500\n",
      "Epoch 21/100\n",
      "949/949 [==============================] - 1s 742us/step - loss: 2159272.0000 - val_loss: 3060518.5000\n",
      "Epoch 22/100\n",
      "949/949 [==============================] - 1s 789us/step - loss: 2152999.7500 - val_loss: 3052037.2500\n",
      "Epoch 23/100\n",
      "949/949 [==============================] - 1s 728us/step - loss: 2147130.0000 - val_loss: 3052598.5000\n",
      "Epoch 24/100\n",
      "949/949 [==============================] - 1s 745us/step - loss: 2141807.2500 - val_loss: 3042081.7500\n",
      "Epoch 25/100\n",
      "949/949 [==============================] - 1s 744us/step - loss: 2136752.5000 - val_loss: 3040768.0000\n",
      "Epoch 26/100\n",
      "949/949 [==============================] - 1s 732us/step - loss: 2132185.2500 - val_loss: 3032567.2500\n",
      "Epoch 27/100\n",
      "949/949 [==============================] - 1s 724us/step - loss: 2126879.2500 - val_loss: 3016330.2500\n",
      "Epoch 28/100\n",
      "949/949 [==============================] - 1s 755us/step - loss: 2123546.7500 - val_loss: 3025228.0000\n",
      "Epoch 29/100\n",
      "949/949 [==============================] - 1s 765us/step - loss: 2119007.0000 - val_loss: 3015429.7500\n",
      "Epoch 30/100\n",
      "949/949 [==============================] - 1s 781us/step - loss: 2115606.2500 - val_loss: 3021951.7500\n",
      "Epoch 31/100\n",
      "949/949 [==============================] - 1s 719us/step - loss: 2111830.5000 - val_loss: 3018721.7500\n",
      "Epoch 32/100\n",
      "949/949 [==============================] - 1s 805us/step - loss: 2108296.5000 - val_loss: 3008908.7500\n",
      "Epoch 33/100\n",
      "949/949 [==============================] - 1s 770us/step - loss: 2104990.5000 - val_loss: 3009146.7500\n",
      "Epoch 34/100\n",
      "949/949 [==============================] - 1s 740us/step - loss: 2101836.0000 - val_loss: 3011709.5000\n",
      "Epoch 35/100\n",
      "949/949 [==============================] - 1s 773us/step - loss: 2098336.7500 - val_loss: 3011803.0000\n",
      "Epoch 36/100\n",
      "949/949 [==============================] - 1s 757us/step - loss: 2095539.1250 - val_loss: 3014551.0000\n",
      "Epoch 37/100\n",
      "949/949 [==============================] - 1s 758us/step - loss: 2092154.5000 - val_loss: 3014192.0000\n",
      "Epoch 38/100\n",
      "949/949 [==============================] - 1s 803us/step - loss: 2089716.0000 - val_loss: 3010196.7500\n",
      "Epoch 39/100\n",
      "949/949 [==============================] - 1s 722us/step - loss: 2086885.8750 - val_loss: 3008805.5000\n",
      "Epoch 40/100\n",
      "949/949 [==============================] - 1s 807us/step - loss: 2084279.6250 - val_loss: 3001440.2500\n",
      "Epoch 41/100\n",
      "949/949 [==============================] - 1s 782us/step - loss: 2081876.7500 - val_loss: 3005682.0000\n",
      "Epoch 42/100\n",
      "949/949 [==============================] - 1s 763us/step - loss: 2079544.8750 - val_loss: 3002558.2500\n",
      "Epoch 43/100\n",
      "949/949 [==============================] - 1s 795us/step - loss: 2077534.0000 - val_loss: 3002338.0000\n",
      "Epoch 44/100\n",
      "949/949 [==============================] - 1s 829us/step - loss: 2075122.5000 - val_loss: 2998046.7500\n",
      "Epoch 45/100\n",
      "949/949 [==============================] - 1s 748us/step - loss: 2073156.2500 - val_loss: 2998718.2500\n",
      "Epoch 46/100\n",
      "949/949 [==============================] - 1s 703us/step - loss: 2071022.8750 - val_loss: 2998948.0000\n",
      "Epoch 47/100\n",
      "949/949 [==============================] - 1s 742us/step - loss: 2069234.0000 - val_loss: 2991417.2500\n",
      "Epoch 48/100\n",
      "949/949 [==============================] - 1s 717us/step - loss: 2067300.0000 - val_loss: 3003500.2500\n",
      "Epoch 49/100\n",
      "949/949 [==============================] - 1s 725us/step - loss: 2065487.7500 - val_loss: 2989349.5000\n",
      "Epoch 50/100\n",
      "949/949 [==============================] - 1s 768us/step - loss: 2064109.3750 - val_loss: 3003488.5000\n",
      "Epoch 51/100\n",
      "949/949 [==============================] - 1s 726us/step - loss: 2062837.0000 - val_loss: 2999022.0000\n",
      "Epoch 52/100\n",
      "949/949 [==============================] - 1s 747us/step - loss: 2061145.5000 - val_loss: 3001749.5000\n",
      "Epoch 53/100\n",
      "949/949 [==============================] - 1s 780us/step - loss: 2060032.5000 - val_loss: 2995795.0000\n",
      "Epoch 54/100\n",
      "949/949 [==============================] - 1s 751us/step - loss: 2058456.7500 - val_loss: 3002460.7500\n",
      "Epoch 55/100\n",
      "949/949 [==============================] - 1s 720us/step - loss: 2056709.8750 - val_loss: 2985263.7500\n",
      "Epoch 56/100\n",
      "949/949 [==============================] - 1s 701us/step - loss: 2055952.2500 - val_loss: 3008127.2500\n",
      "Epoch 57/100\n",
      "949/949 [==============================] - 1s 740us/step - loss: 2054849.1250 - val_loss: 2990641.0000\n",
      "Epoch 58/100\n",
      "949/949 [==============================] - 1s 721us/step - loss: 2053625.0000 - val_loss: 3005980.7500\n",
      "Epoch 59/100\n",
      "949/949 [==============================] - 1s 722us/step - loss: 2052748.3750 - val_loss: 2999051.0000\n",
      "Epoch 60/100\n",
      "949/949 [==============================] - 1s 723us/step - loss: 2051848.2500 - val_loss: 3003050.5000\n",
      "Epoch 61/100\n",
      "949/949 [==============================] - 1s 777us/step - loss: 2050874.1250 - val_loss: 2996675.0000\n",
      "Epoch 62/100\n",
      "949/949 [==============================] - 1s 805us/step - loss: 2049824.5000 - val_loss: 2993473.7500\n",
      "Epoch 63/100\n",
      "949/949 [==============================] - 1s 714us/step - loss: 2049190.5000 - val_loss: 2993432.2500\n",
      "Epoch 64/100\n",
      "949/949 [==============================] - 1s 744us/step - loss: 2048047.1250 - val_loss: 2994063.5000\n",
      "Epoch 65/100\n",
      "949/949 [==============================] - 1s 719us/step - loss: 2046887.2500 - val_loss: 3011298.0000\n"
     ]
    }
   ],
   "source": [
    "keras_reg.fit(X_train, y_train, epochs=100, validation_data=(X_valid, y_valid));"
   ]
  },
  {
   "cell_type": "code",
   "execution_count": 77,
   "id": "3f458e12780466d1",
   "metadata": {
    "ExecuteTime": {
     "end_time": "2024-03-14T19:48:28.532695600Z",
     "start_time": "2024-03-14T19:48:28.150955Z"
    },
    "collapsed": false,
    "jupyter": {
     "outputs_hidden": false
    }
   },
   "outputs": [
    {
     "name": "stdout",
     "output_type": "stream",
     "text": [
      "422/422 [==============================] - 0s 456us/step\n"
     ]
    },
    {
     "data": {
      "text/plain": [
       "0.8650768248159095"
      ]
     },
     "execution_count": 77,
     "metadata": {},
     "output_type": "execute_result"
    }
   ],
   "source": [
    "keras_reg.score(X_test, y_test) # R^2 value"
   ]
  },
  {
   "cell_type": "code",
   "execution_count": 78,
   "id": "d70f43692fa896c7",
   "metadata": {
    "ExecuteTime": {
     "end_time": "2024-03-14T19:48:28.593885400Z",
     "start_time": "2024-03-14T19:48:28.526478800Z"
    },
    "collapsed": false,
    "jupyter": {
     "outputs_hidden": false
    }
   },
   "outputs": [
    {
     "data": {
      "text/plain": [
       "array([ 448.45844, 1564.4796 , 1108.9652 ], dtype=float32)"
      ]
     },
     "execution_count": 78,
     "metadata": {},
     "output_type": "execute_result"
    }
   ],
   "source": [
    "y_pred = keras_reg.predict(X_new, verbose=0)\n",
    "y_pred"
   ]
  },
  {
   "cell_type": "code",
   "execution_count": 79,
   "id": "a54bb5ac0eb63e3f",
   "metadata": {
    "ExecuteTime": {
     "end_time": "2024-03-14T20:00:38.039190200Z",
     "start_time": "2024-03-14T19:48:28.591263600Z"
    },
    "collapsed": false,
    "jupyter": {
     "outputs_hidden": false
    }
   },
   "outputs": [
    {
     "name": "stdout",
     "output_type": "stream",
     "text": [
      "Fitting 3 folds for each of 10 candidates, totalling 30 fits\n",
      "[CV] END ...........................n_hidden=0, n_neurons=79; total time=  44.5s\n",
      "[CV] END ...........................n_hidden=0, n_neurons=79; total time=  45.0s\n",
      "[CV] END ...........................n_hidden=0, n_neurons=79; total time=  45.6s\n",
      "[CV] END ...........................n_hidden=2, n_neurons=80; total time=   8.6s\n",
      "[CV] END ...........................n_hidden=2, n_neurons=80; total time=   9.7s\n",
      "[CV] END ...........................n_hidden=2, n_neurons=80; total time=   9.0s\n",
      "[CV] END ...........................n_hidden=2, n_neurons=53; total time=  12.5s\n",
      "[CV] END ...........................n_hidden=2, n_neurons=53; total time=  12.0s\n",
      "[CV] END ...........................n_hidden=2, n_neurons=53; total time=   8.5s\n",
      "[CV] END ...........................n_hidden=0, n_neurons=56; total time=  44.4s\n",
      "[CV] END ...........................n_hidden=0, n_neurons=56; total time=  44.4s\n",
      "[CV] END ...........................n_hidden=0, n_neurons=56; total time=  44.1s\n",
      "[CV] END ...........................n_hidden=3, n_neurons=95; total time=   8.2s\n",
      "[CV] END ...........................n_hidden=3, n_neurons=95; total time=   7.6s\n",
      "[CV] END ...........................n_hidden=3, n_neurons=95; total time=   7.0s\n",
      "[CV] END ...........................n_hidden=2, n_neurons=86; total time=   8.0s\n",
      "[CV] END ...........................n_hidden=2, n_neurons=86; total time=   9.0s\n",
      "[CV] END ...........................n_hidden=2, n_neurons=86; total time=   8.8s\n",
      "[CV] END ...........................n_hidden=0, n_neurons=43; total time=  44.0s\n",
      "[CV] END ...........................n_hidden=0, n_neurons=43; total time=  44.3s\n",
      "[CV] END ...........................n_hidden=0, n_neurons=43; total time=  43.9s\n",
      "[CV] END ...........................n_hidden=3, n_neurons=45; total time=   7.8s\n",
      "[CV] END ...........................n_hidden=3, n_neurons=45; total time=   8.1s\n",
      "[CV] END ...........................n_hidden=3, n_neurons=45; total time=   9.0s\n",
      "[CV] END ...........................n_hidden=1, n_neurons=54; total time=  29.2s\n",
      "[CV] END ...........................n_hidden=1, n_neurons=54; total time=  28.4s\n",
      "[CV] END ...........................n_hidden=1, n_neurons=54; total time=  21.9s\n",
      "[CV] END ...........................n_hidden=1, n_neurons=18; total time=  35.1s\n",
      "[CV] END ...........................n_hidden=1, n_neurons=18; total time=  47.5s\n",
      "[CV] END ...........................n_hidden=1, n_neurons=18; total time=  48.8s\n"
     ]
    }
   ],
   "source": [
    "from sklearn.model_selection import RandomizedSearchCV\n",
    "\n",
    "param_distribs = {\n",
    "    \"n_hidden\": [0, 1, 2, 3],\n",
    "    \"n_neurons\": np.arange(1, 100),\n",
    "}\n",
    "\n",
    "keras_reg.verbose = 0\n",
    "rnd_search_cv = RandomizedSearchCV(keras_reg, param_distribs, n_iter=10, cv=3, verbose=2)\n",
    "rnd_search_cv.fit(X_train, y_train, epochs=100, validation_data=(X_valid, y_valid));"
   ]
  },
  {
   "cell_type": "code",
   "execution_count": 80,
   "id": "fc74e18a23b10687",
   "metadata": {
    "ExecuteTime": {
     "end_time": "2024-03-14T20:00:38.049914600Z",
     "start_time": "2024-03-14T20:00:38.040655900Z"
    },
    "collapsed": false,
    "jupyter": {
     "outputs_hidden": false
    }
   },
   "outputs": [
    {
     "data": {
      "text/plain": [
       "{'n_neurons': 95, 'n_hidden': 3}"
      ]
     },
     "execution_count": 80,
     "metadata": {},
     "output_type": "execute_result"
    }
   ],
   "source": [
    "rnd_search_cv.best_params_"
   ]
  },
  {
   "cell_type": "code",
   "execution_count": 81,
   "id": "c7299e8a8b6941f3",
   "metadata": {
    "ExecuteTime": {
     "start_time": "2024-03-14T20:00:38.042023300Z"
    },
    "collapsed": false,
    "jupyter": {
     "outputs_hidden": false
    }
   },
   "outputs": [
    {
     "data": {
      "text/plain": [
       "0.8717262293301614"
      ]
     },
     "execution_count": 81,
     "metadata": {},
     "output_type": "execute_result"
    }
   ],
   "source": [
    "rnd_search_cv.best_score_ # R^2 value"
   ]
  },
  {
   "cell_type": "code",
   "execution_count": 82,
   "id": "4312d22fcd48d3cd",
   "metadata": {
    "ExecuteTime": {
     "start_time": "2024-03-14T20:00:38.042568700Z"
    },
    "collapsed": false,
    "jupyter": {
     "outputs_hidden": false
    }
   },
   "outputs": [
    {
     "data": {
      "text/html": [
       "<style>#sk-container-id-1 {\n",
       "  /* Definition of color scheme common for light and dark mode */\n",
       "  --sklearn-color-text: black;\n",
       "  --sklearn-color-line: gray;\n",
       "  /* Definition of color scheme for unfitted estimators */\n",
       "  --sklearn-color-unfitted-level-0: #fff5e6;\n",
       "  --sklearn-color-unfitted-level-1: #f6e4d2;\n",
       "  --sklearn-color-unfitted-level-2: #ffe0b3;\n",
       "  --sklearn-color-unfitted-level-3: chocolate;\n",
       "  /* Definition of color scheme for fitted estimators */\n",
       "  --sklearn-color-fitted-level-0: #f0f8ff;\n",
       "  --sklearn-color-fitted-level-1: #d4ebff;\n",
       "  --sklearn-color-fitted-level-2: #b3dbfd;\n",
       "  --sklearn-color-fitted-level-3: cornflowerblue;\n",
       "\n",
       "  /* Specific color for light theme */\n",
       "  --sklearn-color-text-on-default-background: var(--sg-text-color, var(--theme-code-foreground, var(--jp-content-font-color1, black)));\n",
       "  --sklearn-color-background: var(--sg-background-color, var(--theme-background, var(--jp-layout-color0, white)));\n",
       "  --sklearn-color-border-box: var(--sg-text-color, var(--theme-code-foreground, var(--jp-content-font-color1, black)));\n",
       "  --sklearn-color-icon: #696969;\n",
       "\n",
       "  @media (prefers-color-scheme: dark) {\n",
       "    /* Redefinition of color scheme for dark theme */\n",
       "    --sklearn-color-text-on-default-background: var(--sg-text-color, var(--theme-code-foreground, var(--jp-content-font-color1, white)));\n",
       "    --sklearn-color-background: var(--sg-background-color, var(--theme-background, var(--jp-layout-color0, #111)));\n",
       "    --sklearn-color-border-box: var(--sg-text-color, var(--theme-code-foreground, var(--jp-content-font-color1, white)));\n",
       "    --sklearn-color-icon: #878787;\n",
       "  }\n",
       "}\n",
       "\n",
       "#sk-container-id-1 {\n",
       "  color: var(--sklearn-color-text);\n",
       "}\n",
       "\n",
       "#sk-container-id-1 pre {\n",
       "  padding: 0;\n",
       "}\n",
       "\n",
       "#sk-container-id-1 input.sk-hidden--visually {\n",
       "  border: 0;\n",
       "  clip: rect(1px 1px 1px 1px);\n",
       "  clip: rect(1px, 1px, 1px, 1px);\n",
       "  height: 1px;\n",
       "  margin: -1px;\n",
       "  overflow: hidden;\n",
       "  padding: 0;\n",
       "  position: absolute;\n",
       "  width: 1px;\n",
       "}\n",
       "\n",
       "#sk-container-id-1 div.sk-dashed-wrapped {\n",
       "  border: 1px dashed var(--sklearn-color-line);\n",
       "  margin: 0 0.4em 0.5em 0.4em;\n",
       "  box-sizing: border-box;\n",
       "  padding-bottom: 0.4em;\n",
       "  background-color: var(--sklearn-color-background);\n",
       "}\n",
       "\n",
       "#sk-container-id-1 div.sk-container {\n",
       "  /* jupyter's `normalize.less` sets `[hidden] { display: none; }`\n",
       "     but bootstrap.min.css set `[hidden] { display: none !important; }`\n",
       "     so we also need the `!important` here to be able to override the\n",
       "     default hidden behavior on the sphinx rendered scikit-learn.org.\n",
       "     See: https://github.com/scikit-learn/scikit-learn/issues/21755 */\n",
       "  display: inline-block !important;\n",
       "  position: relative;\n",
       "}\n",
       "\n",
       "#sk-container-id-1 div.sk-text-repr-fallback {\n",
       "  display: none;\n",
       "}\n",
       "\n",
       "div.sk-parallel-item,\n",
       "div.sk-serial,\n",
       "div.sk-item {\n",
       "  /* draw centered vertical line to link estimators */\n",
       "  background-image: linear-gradient(var(--sklearn-color-text-on-default-background), var(--sklearn-color-text-on-default-background));\n",
       "  background-size: 2px 100%;\n",
       "  background-repeat: no-repeat;\n",
       "  background-position: center center;\n",
       "}\n",
       "\n",
       "/* Parallel-specific style estimator block */\n",
       "\n",
       "#sk-container-id-1 div.sk-parallel-item::after {\n",
       "  content: \"\";\n",
       "  width: 100%;\n",
       "  border-bottom: 2px solid var(--sklearn-color-text-on-default-background);\n",
       "  flex-grow: 1;\n",
       "}\n",
       "\n",
       "#sk-container-id-1 div.sk-parallel {\n",
       "  display: flex;\n",
       "  align-items: stretch;\n",
       "  justify-content: center;\n",
       "  background-color: var(--sklearn-color-background);\n",
       "  position: relative;\n",
       "}\n",
       "\n",
       "#sk-container-id-1 div.sk-parallel-item {\n",
       "  display: flex;\n",
       "  flex-direction: column;\n",
       "}\n",
       "\n",
       "#sk-container-id-1 div.sk-parallel-item:first-child::after {\n",
       "  align-self: flex-end;\n",
       "  width: 50%;\n",
       "}\n",
       "\n",
       "#sk-container-id-1 div.sk-parallel-item:last-child::after {\n",
       "  align-self: flex-start;\n",
       "  width: 50%;\n",
       "}\n",
       "\n",
       "#sk-container-id-1 div.sk-parallel-item:only-child::after {\n",
       "  width: 0;\n",
       "}\n",
       "\n",
       "/* Serial-specific style estimator block */\n",
       "\n",
       "#sk-container-id-1 div.sk-serial {\n",
       "  display: flex;\n",
       "  flex-direction: column;\n",
       "  align-items: center;\n",
       "  background-color: var(--sklearn-color-background);\n",
       "  padding-right: 1em;\n",
       "  padding-left: 1em;\n",
       "}\n",
       "\n",
       "\n",
       "/* Toggleable style: style used for estimator/Pipeline/ColumnTransformer box that is\n",
       "clickable and can be expanded/collapsed.\n",
       "- Pipeline and ColumnTransformer use this feature and define the default style\n",
       "- Estimators will overwrite some part of the style using the `sk-estimator` class\n",
       "*/\n",
       "\n",
       "/* Pipeline and ColumnTransformer style (default) */\n",
       "\n",
       "#sk-container-id-1 div.sk-toggleable {\n",
       "  /* Default theme specific background. It is overwritten whether we have a\n",
       "  specific estimator or a Pipeline/ColumnTransformer */\n",
       "  background-color: var(--sklearn-color-background);\n",
       "}\n",
       "\n",
       "/* Toggleable label */\n",
       "#sk-container-id-1 label.sk-toggleable__label {\n",
       "  cursor: pointer;\n",
       "  display: block;\n",
       "  width: 100%;\n",
       "  margin-bottom: 0;\n",
       "  padding: 0.5em;\n",
       "  box-sizing: border-box;\n",
       "  text-align: center;\n",
       "}\n",
       "\n",
       "#sk-container-id-1 label.sk-toggleable__label-arrow:before {\n",
       "  /* Arrow on the left of the label */\n",
       "  content: \"▸\";\n",
       "  float: left;\n",
       "  margin-right: 0.25em;\n",
       "  color: var(--sklearn-color-icon);\n",
       "}\n",
       "\n",
       "#sk-container-id-1 label.sk-toggleable__label-arrow:hover:before {\n",
       "  color: var(--sklearn-color-text);\n",
       "}\n",
       "\n",
       "/* Toggleable content - dropdown */\n",
       "\n",
       "#sk-container-id-1 div.sk-toggleable__content {\n",
       "  max-height: 0;\n",
       "  max-width: 0;\n",
       "  overflow: hidden;\n",
       "  text-align: left;\n",
       "  /* unfitted */\n",
       "  background-color: var(--sklearn-color-unfitted-level-0);\n",
       "}\n",
       "\n",
       "#sk-container-id-1 div.sk-toggleable__content.fitted {\n",
       "  /* fitted */\n",
       "  background-color: var(--sklearn-color-fitted-level-0);\n",
       "}\n",
       "\n",
       "#sk-container-id-1 div.sk-toggleable__content pre {\n",
       "  margin: 0.2em;\n",
       "  border-radius: 0.25em;\n",
       "  color: var(--sklearn-color-text);\n",
       "  /* unfitted */\n",
       "  background-color: var(--sklearn-color-unfitted-level-0);\n",
       "}\n",
       "\n",
       "#sk-container-id-1 div.sk-toggleable__content.fitted pre {\n",
       "  /* unfitted */\n",
       "  background-color: var(--sklearn-color-fitted-level-0);\n",
       "}\n",
       "\n",
       "#sk-container-id-1 input.sk-toggleable__control:checked~div.sk-toggleable__content {\n",
       "  /* Expand drop-down */\n",
       "  max-height: 200px;\n",
       "  max-width: 100%;\n",
       "  overflow: auto;\n",
       "}\n",
       "\n",
       "#sk-container-id-1 input.sk-toggleable__control:checked~label.sk-toggleable__label-arrow:before {\n",
       "  content: \"▾\";\n",
       "}\n",
       "\n",
       "/* Pipeline/ColumnTransformer-specific style */\n",
       "\n",
       "#sk-container-id-1 div.sk-label input.sk-toggleable__control:checked~label.sk-toggleable__label {\n",
       "  color: var(--sklearn-color-text);\n",
       "  background-color: var(--sklearn-color-unfitted-level-2);\n",
       "}\n",
       "\n",
       "#sk-container-id-1 div.sk-label.fitted input.sk-toggleable__control:checked~label.sk-toggleable__label {\n",
       "  background-color: var(--sklearn-color-fitted-level-2);\n",
       "}\n",
       "\n",
       "/* Estimator-specific style */\n",
       "\n",
       "/* Colorize estimator box */\n",
       "#sk-container-id-1 div.sk-estimator input.sk-toggleable__control:checked~label.sk-toggleable__label {\n",
       "  /* unfitted */\n",
       "  background-color: var(--sklearn-color-unfitted-level-2);\n",
       "}\n",
       "\n",
       "#sk-container-id-1 div.sk-estimator.fitted input.sk-toggleable__control:checked~label.sk-toggleable__label {\n",
       "  /* fitted */\n",
       "  background-color: var(--sklearn-color-fitted-level-2);\n",
       "}\n",
       "\n",
       "#sk-container-id-1 div.sk-label label.sk-toggleable__label,\n",
       "#sk-container-id-1 div.sk-label label {\n",
       "  /* The background is the default theme color */\n",
       "  color: var(--sklearn-color-text-on-default-background);\n",
       "}\n",
       "\n",
       "/* On hover, darken the color of the background */\n",
       "#sk-container-id-1 div.sk-label:hover label.sk-toggleable__label {\n",
       "  color: var(--sklearn-color-text);\n",
       "  background-color: var(--sklearn-color-unfitted-level-2);\n",
       "}\n",
       "\n",
       "/* Label box, darken color on hover, fitted */\n",
       "#sk-container-id-1 div.sk-label.fitted:hover label.sk-toggleable__label.fitted {\n",
       "  color: var(--sklearn-color-text);\n",
       "  background-color: var(--sklearn-color-fitted-level-2);\n",
       "}\n",
       "\n",
       "/* Estimator label */\n",
       "\n",
       "#sk-container-id-1 div.sk-label label {\n",
       "  font-family: monospace;\n",
       "  font-weight: bold;\n",
       "  display: inline-block;\n",
       "  line-height: 1.2em;\n",
       "}\n",
       "\n",
       "#sk-container-id-1 div.sk-label-container {\n",
       "  text-align: center;\n",
       "}\n",
       "\n",
       "/* Estimator-specific */\n",
       "#sk-container-id-1 div.sk-estimator {\n",
       "  font-family: monospace;\n",
       "  border: 1px dotted var(--sklearn-color-border-box);\n",
       "  border-radius: 0.25em;\n",
       "  box-sizing: border-box;\n",
       "  margin-bottom: 0.5em;\n",
       "  /* unfitted */\n",
       "  background-color: var(--sklearn-color-unfitted-level-0);\n",
       "}\n",
       "\n",
       "#sk-container-id-1 div.sk-estimator.fitted {\n",
       "  /* fitted */\n",
       "  background-color: var(--sklearn-color-fitted-level-0);\n",
       "}\n",
       "\n",
       "/* on hover */\n",
       "#sk-container-id-1 div.sk-estimator:hover {\n",
       "  /* unfitted */\n",
       "  background-color: var(--sklearn-color-unfitted-level-2);\n",
       "}\n",
       "\n",
       "#sk-container-id-1 div.sk-estimator.fitted:hover {\n",
       "  /* fitted */\n",
       "  background-color: var(--sklearn-color-fitted-level-2);\n",
       "}\n",
       "\n",
       "/* Specification for estimator info (e.g. \"i\" and \"?\") */\n",
       "\n",
       "/* Common style for \"i\" and \"?\" */\n",
       "\n",
       ".sk-estimator-doc-link,\n",
       "a:link.sk-estimator-doc-link,\n",
       "a:visited.sk-estimator-doc-link {\n",
       "  float: right;\n",
       "  font-size: smaller;\n",
       "  line-height: 1em;\n",
       "  font-family: monospace;\n",
       "  background-color: var(--sklearn-color-background);\n",
       "  border-radius: 1em;\n",
       "  height: 1em;\n",
       "  width: 1em;\n",
       "  text-decoration: none !important;\n",
       "  margin-left: 1ex;\n",
       "  /* unfitted */\n",
       "  border: var(--sklearn-color-unfitted-level-1) 1pt solid;\n",
       "  color: var(--sklearn-color-unfitted-level-1);\n",
       "}\n",
       "\n",
       ".sk-estimator-doc-link.fitted,\n",
       "a:link.sk-estimator-doc-link.fitted,\n",
       "a:visited.sk-estimator-doc-link.fitted {\n",
       "  /* fitted */\n",
       "  border: var(--sklearn-color-fitted-level-1) 1pt solid;\n",
       "  color: var(--sklearn-color-fitted-level-1);\n",
       "}\n",
       "\n",
       "/* On hover */\n",
       "div.sk-estimator:hover .sk-estimator-doc-link:hover,\n",
       ".sk-estimator-doc-link:hover,\n",
       "div.sk-label-container:hover .sk-estimator-doc-link:hover,\n",
       ".sk-estimator-doc-link:hover {\n",
       "  /* unfitted */\n",
       "  background-color: var(--sklearn-color-unfitted-level-3);\n",
       "  color: var(--sklearn-color-background);\n",
       "  text-decoration: none;\n",
       "}\n",
       "\n",
       "div.sk-estimator.fitted:hover .sk-estimator-doc-link.fitted:hover,\n",
       ".sk-estimator-doc-link.fitted:hover,\n",
       "div.sk-label-container:hover .sk-estimator-doc-link.fitted:hover,\n",
       ".sk-estimator-doc-link.fitted:hover {\n",
       "  /* fitted */\n",
       "  background-color: var(--sklearn-color-fitted-level-3);\n",
       "  color: var(--sklearn-color-background);\n",
       "  text-decoration: none;\n",
       "}\n",
       "\n",
       "/* Span, style for the box shown on hovering the info icon */\n",
       ".sk-estimator-doc-link span {\n",
       "  display: none;\n",
       "  z-index: 9999;\n",
       "  position: relative;\n",
       "  font-weight: normal;\n",
       "  right: .2ex;\n",
       "  padding: .5ex;\n",
       "  margin: .5ex;\n",
       "  width: min-content;\n",
       "  min-width: 20ex;\n",
       "  max-width: 50ex;\n",
       "  color: var(--sklearn-color-text);\n",
       "  box-shadow: 2pt 2pt 4pt #999;\n",
       "  /* unfitted */\n",
       "  background: var(--sklearn-color-unfitted-level-0);\n",
       "  border: .5pt solid var(--sklearn-color-unfitted-level-3);\n",
       "}\n",
       "\n",
       ".sk-estimator-doc-link.fitted span {\n",
       "  /* fitted */\n",
       "  background: var(--sklearn-color-fitted-level-0);\n",
       "  border: var(--sklearn-color-fitted-level-3);\n",
       "}\n",
       "\n",
       ".sk-estimator-doc-link:hover span {\n",
       "  display: block;\n",
       "}\n",
       "\n",
       "/* \"?\"-specific style due to the `<a>` HTML tag */\n",
       "\n",
       "#sk-container-id-1 a.estimator_doc_link {\n",
       "  float: right;\n",
       "  font-size: 1rem;\n",
       "  line-height: 1em;\n",
       "  font-family: monospace;\n",
       "  background-color: var(--sklearn-color-background);\n",
       "  border-radius: 1rem;\n",
       "  height: 1rem;\n",
       "  width: 1rem;\n",
       "  text-decoration: none;\n",
       "  /* unfitted */\n",
       "  color: var(--sklearn-color-unfitted-level-1);\n",
       "  border: var(--sklearn-color-unfitted-level-1) 1pt solid;\n",
       "}\n",
       "\n",
       "#sk-container-id-1 a.estimator_doc_link.fitted {\n",
       "  /* fitted */\n",
       "  border: var(--sklearn-color-fitted-level-1) 1pt solid;\n",
       "  color: var(--sklearn-color-fitted-level-1);\n",
       "}\n",
       "\n",
       "/* On hover */\n",
       "#sk-container-id-1 a.estimator_doc_link:hover {\n",
       "  /* unfitted */\n",
       "  background-color: var(--sklearn-color-unfitted-level-3);\n",
       "  color: var(--sklearn-color-background);\n",
       "  text-decoration: none;\n",
       "}\n",
       "\n",
       "#sk-container-id-1 a.estimator_doc_link.fitted:hover {\n",
       "  /* fitted */\n",
       "  background-color: var(--sklearn-color-fitted-level-3);\n",
       "}\n",
       "</style><div id=\"sk-container-id-1\" class=\"sk-top-container\"><div class=\"sk-text-repr-fallback\"><pre>KerasRegressor(\n",
       "\tmodel=&lt;function build_model at 0x0000026C9816F160&gt;\n",
       "\tbuild_fn=None\n",
       "\twarm_start=False\n",
       "\trandom_state=None\n",
       "\toptimizer=rmsprop\n",
       "\tloss=None\n",
       "\tmetrics=None\n",
       "\tbatch_size=None\n",
       "\tvalidation_batch_size=None\n",
       "\tverbose=0\n",
       "\tcallbacks=[&lt;keras.src.callbacks.EarlyStopping object at 0x0000026CFEEF4160&gt;]\n",
       "\tvalidation_split=0.0\n",
       "\tshuffle=True\n",
       "\trun_eagerly=False\n",
       "\tepochs=1\n",
       "\tn_hidden=3\n",
       "\tn_neurons=95\n",
       "\tinput_shape=None\n",
       ")</pre><b>In a Jupyter environment, please rerun this cell to show the HTML representation or trust the notebook. <br />On GitHub, the HTML representation is unable to render, please try loading this page with nbviewer.org.</b></div><div class=\"sk-container\" hidden><div class=\"sk-item\"><div class=\"sk-estimator fitted sk-toggleable\"><input class=\"sk-toggleable__control sk-hidden--visually\" id=\"sk-estimator-id-1\" type=\"checkbox\" checked><label for=\"sk-estimator-id-1\" class=\"sk-toggleable__label fitted sk-toggleable__label-arrow fitted\">&nbsp;KerasRegressor<span class=\"sk-estimator-doc-link fitted\">i<span>Fitted</span></span></label><div class=\"sk-toggleable__content fitted\"><pre>KerasRegressor(\n",
       "\tmodel=&lt;function build_model at 0x0000026C9816F160&gt;\n",
       "\tbuild_fn=None\n",
       "\twarm_start=False\n",
       "\trandom_state=None\n",
       "\toptimizer=rmsprop\n",
       "\tloss=None\n",
       "\tmetrics=None\n",
       "\tbatch_size=None\n",
       "\tvalidation_batch_size=None\n",
       "\tverbose=0\n",
       "\tcallbacks=[&lt;keras.src.callbacks.EarlyStopping object at 0x0000026CFEEF4160&gt;]\n",
       "\tvalidation_split=0.0\n",
       "\tshuffle=True\n",
       "\trun_eagerly=False\n",
       "\tepochs=1\n",
       "\tn_hidden=3\n",
       "\tn_neurons=95\n",
       "\tinput_shape=None\n",
       ")</pre></div> </div></div></div></div>"
      ],
      "text/plain": [
       "KerasRegressor(\n",
       "\tmodel=<function build_model at 0x0000026C9816F160>\n",
       "\tbuild_fn=None\n",
       "\twarm_start=False\n",
       "\trandom_state=None\n",
       "\toptimizer=rmsprop\n",
       "\tloss=None\n",
       "\tmetrics=None\n",
       "\tbatch_size=None\n",
       "\tvalidation_batch_size=None\n",
       "\tverbose=0\n",
       "\tcallbacks=[<keras.src.callbacks.EarlyStopping object at 0x0000026CFEEF4160>]\n",
       "\tvalidation_split=0.0\n",
       "\tshuffle=True\n",
       "\trun_eagerly=False\n",
       "\tepochs=1\n",
       "\tn_hidden=3\n",
       "\tn_neurons=95\n",
       "\tinput_shape=None\n",
       ")"
      ]
     },
     "execution_count": 82,
     "metadata": {},
     "output_type": "execute_result"
    }
   ],
   "source": [
    "rnd_search_cv.best_estimator_"
   ]
  },
  {
   "cell_type": "code",
   "execution_count": 83,
   "id": "1f322b612b5dd8b4",
   "metadata": {
    "ExecuteTime": {
     "start_time": "2024-03-14T20:00:38.044065Z"
    },
    "collapsed": false,
    "jupyter": {
     "outputs_hidden": false
    }
   },
   "outputs": [
    {
     "data": {
      "text/plain": [
       "0.8500632013859752"
      ]
     },
     "execution_count": 83,
     "metadata": {},
     "output_type": "execute_result"
    }
   ],
   "source": [
    "rnd_search_cv.score(X_test, y_test) # R^2 value"
   ]
  },
  {
   "cell_type": "code",
   "execution_count": 84,
   "id": "b7c5670d637242c9",
   "metadata": {
    "ExecuteTime": {
     "start_time": "2024-03-14T20:00:38.045072400Z"
    },
    "collapsed": false,
    "jupyter": {
     "outputs_hidden": false
    }
   },
   "outputs": [
    {
     "data": {
      "text/plain": [
       "array([ 702.93494, 2030.8685 , 1007.5632 ], dtype=float32)"
      ]
     },
     "execution_count": 84,
     "metadata": {},
     "output_type": "execute_result"
    }
   ],
   "source": [
    "rnd_search_cv.predict(X_new)"
   ]
  }
 ],
 "metadata": {
  "kernelspec": {
   "display_name": "Python 3 (ipykernel)",
   "language": "python",
   "name": "python3"
  },
  "language_info": {
   "codemirror_mode": {
    "name": "ipython",
    "version": 3
   },
   "file_extension": ".py",
   "mimetype": "text/x-python",
   "name": "python",
   "nbconvert_exporter": "python",
   "pygments_lexer": "ipython3",
   "version": "3.9.13"
  }
 },
 "nbformat": 4,
 "nbformat_minor": 5
}
