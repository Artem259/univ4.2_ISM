{
 "cells": [
  {
   "cell_type": "code",
   "execution_count": null,
   "id": "5840441d0e5e1a1",
   "metadata": {
    "collapsed": false,
    "jupyter": {
     "outputs_hidden": false
    }
   },
   "outputs": [],
   "source": [
    "import os\n",
    "import tarfile\n",
    "import pandas as pd\n",
    "import numpy as np\n",
    "import matplotlib.pyplot as plt"
   ]
  },
  {
   "cell_type": "markdown",
   "id": "c1ba99c1239270fe",
   "metadata": {
    "collapsed": false,
    "jupyter": {
     "outputs_hidden": false
    }
   },
   "source": [
    "## Get the Data"
   ]
  },
  {
   "cell_type": "markdown",
   "id": "fbf30dd56f863eef",
   "metadata": {
    "collapsed": false,
    "jupyter": {
     "outputs_hidden": false
    }
   },
   "source": [
    "#### Load the Data"
   ]
  },
  {
   "cell_type": "code",
   "execution_count": null,
   "id": "329f193e75708d3e",
   "metadata": {
    "collapsed": false,
    "jupyter": {
     "outputs_hidden": false
    }
   },
   "outputs": [],
   "source": [
    "DATASET_NAME = \"diamonds\" \n",
    "DATASET_DIR = \"data\"\n",
    "UNPACKED_DIR = os.path.join(\"data\", \"unpacked\")"
   ]
  },
  {
   "cell_type": "code",
   "execution_count": null,
   "id": "initial_id",
   "metadata": {},
   "outputs": [],
   "source": [
    "os.makedirs(UNPACKED_DIR, exist_ok=True)\n",
    "tgz_path = os.path.join(DATASET_DIR, DATASET_NAME + \".tgz\")\n",
    "dataset_tgz = tarfile.open(tgz_path)\n",
    "dataset_tgz.extractall(path=UNPACKED_DIR)\n",
    "dataset_tgz.close()"
   ]
  },
  {
   "cell_type": "code",
   "execution_count": null,
   "id": "3603bf66c78053e2",
   "metadata": {
    "collapsed": false,
    "jupyter": {
     "outputs_hidden": false
    }
   },
   "outputs": [],
   "source": [
    "csv_path = os.path.join(UNPACKED_DIR, DATASET_NAME + \".csv\")\n",
    "housing = pd.read_csv(csv_path)"
   ]
  },
  {
   "cell_type": "markdown",
   "id": "9d74536f4f3d7a18",
   "metadata": {
    "collapsed": false,
    "jupyter": {
     "outputs_hidden": false
    }
   },
   "source": [
    "#### Take a Quick Look at the Data Structure"
   ]
  },
  {
   "cell_type": "code",
   "execution_count": null,
   "id": "7586a7add500c298",
   "metadata": {
    "collapsed": false,
    "jupyter": {
     "outputs_hidden": false
    }
   },
   "outputs": [],
   "source": [
    "housing.head()"
   ]
  },
  {
   "cell_type": "code",
   "execution_count": null,
   "id": "a803618f5cce5b6f",
   "metadata": {
    "collapsed": false,
    "jupyter": {
     "outputs_hidden": false
    }
   },
   "outputs": [],
   "source": [
    "housing.info()"
   ]
  },
  {
   "cell_type": "code",
   "execution_count": null,
   "id": "2d551fe54068e9b1",
   "metadata": {
    "collapsed": false,
    "jupyter": {
     "outputs_hidden": false
    }
   },
   "outputs": [],
   "source": [
    "housing[\"cut\"].value_counts()"
   ]
  },
  {
   "cell_type": "code",
   "execution_count": null,
   "id": "836c800e28a3685e",
   "metadata": {
    "collapsed": false,
    "jupyter": {
     "outputs_hidden": false
    }
   },
   "outputs": [],
   "source": [
    "housing[\"color\"].value_counts()"
   ]
  },
  {
   "cell_type": "code",
   "execution_count": null,
   "id": "7d967284834d9644",
   "metadata": {
    "collapsed": false,
    "jupyter": {
     "outputs_hidden": false
    }
   },
   "outputs": [],
   "source": [
    "housing[\"clarity\"].value_counts()"
   ]
  },
  {
   "cell_type": "code",
   "execution_count": null,
   "id": "73dfeda367cecb2e",
   "metadata": {
    "collapsed": false,
    "jupyter": {
     "outputs_hidden": false
    }
   },
   "outputs": [],
   "source": [
    "housing.describe()"
   ]
  },
  {
   "cell_type": "code",
   "execution_count": null,
   "id": "984022ff8b98c1d8",
   "metadata": {
    "collapsed": false,
    "jupyter": {
     "outputs_hidden": false
    }
   },
   "outputs": [],
   "source": [
    "housing[[\"x\", \"y\", \"z\"]][housing[[\"x\", \"y\", \"z\"]] == 0].count()"
   ]
  },
  {
   "cell_type": "code",
   "execution_count": null,
   "id": "b6e524fa4cd1b39f",
   "metadata": {
    "collapsed": false,
    "jupyter": {
     "outputs_hidden": false
    }
   },
   "outputs": [],
   "source": [
    "housing.drop(\"Unnamed: 0\", axis=1, inplace=True)"
   ]
  },
  {
   "cell_type": "code",
   "execution_count": null,
   "id": "9f4944c03ad769bf",
   "metadata": {
    "collapsed": false,
    "jupyter": {
     "outputs_hidden": false
    }
   },
   "outputs": [],
   "source": [
    "housing.hist(bins=50, figsize=(20, 15))\n",
    "plt.show()"
   ]
  },
  {
   "cell_type": "markdown",
   "id": "6b89ad8f08f98b71",
   "metadata": {
    "collapsed": false,
    "jupyter": {
     "outputs_hidden": false
    }
   },
   "source": [
    "#### Create a Test Set"
   ]
  },
  {
   "cell_type": "code",
   "execution_count": null,
   "id": "21d8d6faeaa5241a",
   "metadata": {
    "collapsed": false,
    "jupyter": {
     "outputs_hidden": false
    }
   },
   "outputs": [],
   "source": [
    "housing[\"carat_cat\"] = pd.cut(housing[\"carat\"], bins=[0., 1., 2., 3., 4., np.inf], labels=[1, 2, 3, 4, 5])\n",
    "housing[\"carat_cat\"].value_counts()"
   ]
  },
  {
   "cell_type": "code",
   "execution_count": null,
   "id": "efdbd189-6353-47c0-8cca-f22a18aafbf7",
   "metadata": {},
   "outputs": [],
   "source": [
    "housing[\"carat_cat\"].hist();"
   ]
  },
  {
   "cell_type": "code",
   "execution_count": null,
   "id": "3ec6d6ee4c9642e9",
   "metadata": {
    "collapsed": false,
    "jupyter": {
     "outputs_hidden": false
    }
   },
   "outputs": [],
   "source": [
    "from sklearn.model_selection import StratifiedShuffleSplit\n",
    "\n",
    "split = StratifiedShuffleSplit(n_splits=1, test_size=0.2, random_state=42)\n",
    "train_index, test_index = next(split.split(housing, housing[\"carat_cat\"]))\n",
    "strat_train_set = housing.loc[train_index]\n",
    "strat_test_set = housing.loc[test_index]\n",
    "strat_test_set[\"carat_cat\"].value_counts() / len(strat_test_set)"
   ]
  },
  {
   "cell_type": "code",
   "execution_count": null,
   "id": "67165d6cde937d1a",
   "metadata": {
    "collapsed": false,
    "jupyter": {
     "outputs_hidden": false
    }
   },
   "outputs": [],
   "source": [
    "for set_ in (strat_train_set, strat_test_set):\n",
    "    set_.drop(\"carat_cat\", axis=1, inplace=True)"
   ]
  },
  {
   "cell_type": "markdown",
   "id": "7d6c5118676285c",
   "metadata": {
    "collapsed": false,
    "jupyter": {
     "outputs_hidden": false
    }
   },
   "source": [
    "## Discover and Visualize the Data to Gain Insights"
   ]
  },
  {
   "cell_type": "code",
   "execution_count": null,
   "id": "21a9b279e466124a",
   "metadata": {
    "collapsed": false,
    "jupyter": {
     "outputs_hidden": false
    }
   },
   "outputs": [],
   "source": [
    "housing = strat_train_set.copy()"
   ]
  },
  {
   "cell_type": "markdown",
   "id": "4fadf47edfe7a6e",
   "metadata": {
    "collapsed": false,
    "jupyter": {
     "outputs_hidden": false
    }
   },
   "source": [
    "#### Looking for Correlations"
   ]
  },
  {
   "cell_type": "code",
   "execution_count": null,
   "id": "9580b05a04a5640",
   "metadata": {
    "collapsed": false,
    "jupyter": {
     "outputs_hidden": false
    }
   },
   "outputs": [],
   "source": [
    "corr_matrix = housing.corr(numeric_only=True)\n",
    "corr_matrix[\"price\"].sort_values(ascending=False)"
   ]
  },
  {
   "cell_type": "code",
   "execution_count": null,
   "id": "fe377f17b4dae702",
   "metadata": {
    "collapsed": false,
    "jupyter": {
     "outputs_hidden": false
    }
   },
   "outputs": [],
   "source": [
    "from pandas.plotting import scatter_matrix\n",
    "\n",
    "attributes = [\"price\", \"carat\", \"x\", \"y\", \"z\"]\n",
    "scatter_matrix(housing[attributes], figsize=(20, 12));"
   ]
  },
  {
   "cell_type": "code",
   "execution_count": null,
   "id": "912e823ccd9afe40",
   "metadata": {
    "collapsed": false,
    "jupyter": {
     "outputs_hidden": false
    }
   },
   "outputs": [],
   "source": [
    "housing.plot(kind=\"scatter\", x=\"carat\", y=\"price\", alpha=0.1);"
   ]
  },
  {
   "cell_type": "markdown",
   "id": "83b1a80f084781f7",
   "metadata": {
    "collapsed": false,
    "jupyter": {
     "outputs_hidden": false
    }
   },
   "source": [
    "#### Experimenting with Attribute Combinations"
   ]
  },
  {
   "cell_type": "code",
   "execution_count": null,
   "id": "2482d5f73abd5c60",
   "metadata": {
    "collapsed": false,
    "jupyter": {
     "outputs_hidden": false
    }
   },
   "outputs": [],
   "source": [
    "comb_attributes = [\"carat\", \"depth\", \"table\", \"x\", \"y\", \"z\"]\n",
    "combinations_n = 3\n",
    "\n",
    "attributes_combinations = []\n",
    "for i in range(len(comb_attributes)):\n",
    "    atr1 = comb_attributes[i]    \n",
    "    for j in range(i + 1, len(comb_attributes)):\n",
    "        atr2 = comb_attributes[j]\n",
    "        attributes_combinations.append(f\"{atr1}_per_{atr2}\")\n",
    "        housing[attributes_combinations[-1]] = housing[atr1] / housing[atr2]\n",
    "        \n",
    "corr_price = housing.corr(numeric_only=True)[\"price\"].sort_values(ascending=False)\n",
    "corr_price_combinations = corr_price[corr_price.index.isin(attributes_combinations)]\n",
    "for atr in corr_price_combinations.iloc[combinations_n:].index:\n",
    "    housing.drop(atr, axis=1, inplace=True)"
   ]
  },
  {
   "cell_type": "code",
   "execution_count": null,
   "id": "ab0f146effc9f618",
   "metadata": {
    "collapsed": false,
    "jupyter": {
     "outputs_hidden": false
    }
   },
   "outputs": [],
   "source": [
    "corr_matrix = housing.corr(numeric_only=True)\n",
    "corr_matrix[\"price\"].sort_values(ascending=False)"
   ]
  },
  {
   "cell_type": "markdown",
   "id": "91e741e428751dd",
   "metadata": {
    "collapsed": false,
    "jupyter": {
     "outputs_hidden": false
    }
   },
   "source": [
    "## Prepare the Data for Machine Learning Algorithms"
   ]
  },
  {
   "cell_type": "code",
   "execution_count": null,
   "id": "c00284f1020cacc4",
   "metadata": {
    "collapsed": false,
    "jupyter": {
     "outputs_hidden": false
    }
   },
   "outputs": [],
   "source": [
    "housing = strat_train_set.drop(\"price\", axis=1)\n",
    "housing_labels = strat_train_set[\"price\"].copy()"
   ]
  },
  {
   "cell_type": "markdown",
   "id": "89fba7eae2e426af",
   "metadata": {
    "collapsed": false,
    "jupyter": {
     "outputs_hidden": false
    }
   },
   "source": [
    "#### Data Cleaning"
   ]
  },
  {
   "cell_type": "code",
   "execution_count": null,
   "id": "c1f110b28768e37a",
   "metadata": {
    "collapsed": false,
    "jupyter": {
     "outputs_hidden": false
    }
   },
   "outputs": [],
   "source": [
    "from sklearn.impute import SimpleImputer\n",
    "\n",
    "imputer = SimpleImputer(strategy=\"median\")\n",
    "housing_num = housing.drop([\"cut\", \"color\", \"clarity\"], axis=1)\n",
    "imputer.fit(housing_num)\n",
    "imputer.statistics_"
   ]
  },
  {
   "cell_type": "code",
   "execution_count": null,
   "id": "3eacd564bff3aa56",
   "metadata": {
    "collapsed": false,
    "jupyter": {
     "outputs_hidden": false
    }
   },
   "outputs": [],
   "source": [
    "housing_num.median().values"
   ]
  },
  {
   "cell_type": "code",
   "execution_count": null,
   "id": "4786f53ecfa49932",
   "metadata": {
    "collapsed": false,
    "jupyter": {
     "outputs_hidden": false
    }
   },
   "outputs": [],
   "source": [
    "X = imputer.transform(housing_num)\n",
    "housing_tr = pd.DataFrame(X, columns=housing_num.columns, index=housing_num.index)"
   ]
  },
  {
   "cell_type": "markdown",
   "id": "481206d04d3cf61e",
   "metadata": {
    "collapsed": false,
    "jupyter": {
     "outputs_hidden": false
    }
   },
   "source": [
    "#### Handling Text and Categorical Attributes"
   ]
  },
  {
   "cell_type": "code",
   "execution_count": null,
   "id": "59bf9d23bceab13c",
   "metadata": {
    "collapsed": false,
    "jupyter": {
     "outputs_hidden": false
    }
   },
   "outputs": [],
   "source": [
    "housing_cat = housing[[\"cut\", \"color\", \"clarity\"]]\n",
    "housing_cat.head(10)"
   ]
  },
  {
   "cell_type": "code",
   "execution_count": null,
   "id": "bd111a678ae0c8cd",
   "metadata": {
    "collapsed": false,
    "jupyter": {
     "outputs_hidden": false
    }
   },
   "outputs": [],
   "source": [
    "from sklearn.preprocessing import OneHotEncoder\n",
    "\n",
    "cat_encoder = OneHotEncoder()\n",
    "housing_cat_1hot = cat_encoder.fit_transform(housing_cat)\n",
    "housing_cat_1hot"
   ]
  },
  {
   "cell_type": "code",
   "execution_count": null,
   "id": "f2046417a484a1ce",
   "metadata": {
    "collapsed": false,
    "jupyter": {
     "outputs_hidden": false
    }
   },
   "outputs": [],
   "source": [
    "housing_cat_1hot.toarray()"
   ]
  },
  {
   "cell_type": "code",
   "execution_count": null,
   "id": "87b0b7d60479fffe",
   "metadata": {
    "collapsed": false,
    "jupyter": {
     "outputs_hidden": false
    }
   },
   "outputs": [],
   "source": [
    "cat_encoder.categories_"
   ]
  },
  {
   "cell_type": "markdown",
   "id": "9e50746e70e943a0",
   "metadata": {
    "collapsed": false,
    "jupyter": {
     "outputs_hidden": false
    }
   },
   "source": [
    "#### Custom Transformers"
   ]
  },
  {
   "cell_type": "code",
   "execution_count": null,
   "id": "29dab05a5e7d0017",
   "metadata": {
    "collapsed": false,
    "jupyter": {
     "outputs_hidden": false
    }
   },
   "outputs": [],
   "source": [
    "from sklearn.base import BaseEstimator, TransformerMixin\n",
    "\n",
    "class CombinedAttributesAdder(BaseEstimator, TransformerMixin):\n",
    "    def __init__(self, combinations_n): # no *args or **kwargs\n",
    "        self.combinations_n = combinations_n\n",
    "    def fit(self, X, y=None):\n",
    "        return self # nothing else to do\n",
    "    def transform(self, X, y=None):\n",
    "        combined_attributes = X.copy()\n",
    "        for atr in corr_price_combinations.iloc[:self.combinations_n].index:\n",
    "            atr = str.split(atr, sep=\"_per_\")\n",
    "            atr1, atr2 = [housing_num.columns.get_loc(c) for c in atr]\n",
    "            atr1, atr2 = X[:, atr1], X[:, atr2]\n",
    "            combined_attribute = np.divide(atr1, atr2, out=np.full_like(atr1, np.nan), where=(atr2 != 0.0))\n",
    "            combined_attributes = np.c_[combined_attributes, combined_attribute]\n",
    "        return combined_attributes\n",
    "\n",
    "attr_adder = CombinedAttributesAdder(combinations_n=combinations_n)\n",
    "housing_extra_attribs = attr_adder.transform(housing_num.values)"
   ]
  },
  {
   "cell_type": "markdown",
   "id": "8e1570065618ff33",
   "metadata": {
    "collapsed": false,
    "jupyter": {
     "outputs_hidden": false
    }
   },
   "source": [
    "#### Transformation Pipelines (with Feature Scaling)"
   ]
  },
  {
   "cell_type": "code",
   "execution_count": null,
   "id": "f4e365e69d30b471",
   "metadata": {
    "collapsed": false,
    "jupyter": {
     "outputs_hidden": false
    }
   },
   "outputs": [],
   "source": [
    "from sklearn.pipeline import Pipeline\n",
    "from sklearn.preprocessing import StandardScaler\n",
    "\n",
    "num_pipeline = Pipeline([\n",
    "    (\"imputer_1\", SimpleImputer(strategy=\"median\")),\n",
    "    (\"attribs_adder\", CombinedAttributesAdder(combinations_n=3)),\n",
    "    (\"imputer_2\", SimpleImputer(strategy=\"median\")),\n",
    "    (\"std_scaler\", StandardScaler())\n",
    "], verbose=True)\n",
    "\n",
    "housing_num_tr = num_pipeline.fit_transform(housing_num)\n",
    "housing_num_tr[0]"
   ]
  },
  {
   "cell_type": "code",
   "execution_count": null,
   "id": "83e22418cbf9d765",
   "metadata": {
    "collapsed": false,
    "jupyter": {
     "outputs_hidden": false
    }
   },
   "outputs": [],
   "source": [
    "from sklearn.compose import ColumnTransformer\n",
    "\n",
    "num_attribs = list(housing_num)\n",
    "cat_attribs = [\"cut\", \"color\", \"clarity\"]\n",
    "full_pipeline = ColumnTransformer([\n",
    "    (\"num\", num_pipeline, num_attribs),\n",
    "    (\"cat\", OneHotEncoder(categories=cat_encoder.categories_), cat_attribs)\n",
    "], verbose=True)\n",
    "\n",
    "housing_prepared = full_pipeline.fit_transform(housing)\n",
    "housing_prepared[0]"
   ]
  },
  {
   "cell_type": "code",
   "execution_count": null,
   "id": "e1f72a143c8d7480",
   "metadata": {
    "collapsed": false,
    "jupyter": {
     "outputs_hidden": false
    }
   },
   "outputs": [],
   "source": [
    "housing_prepared.shape"
   ]
  },
  {
   "cell_type": "markdown",
   "id": "817414fe5039d1b4",
   "metadata": {
    "collapsed": false,
    "jupyter": {
     "outputs_hidden": false
    }
   },
   "source": [
    "## Select and Train a Model"
   ]
  },
  {
   "cell_type": "markdown",
   "id": "6508e2f32ea8a163",
   "metadata": {
    "collapsed": false,
    "jupyter": {
     "outputs_hidden": false
    }
   },
   "source": [
    "#### Training and Evaluating on the Training Set"
   ]
  },
  {
   "cell_type": "code",
   "execution_count": null,
   "id": "14071c5b19b4f609",
   "metadata": {
    "collapsed": false,
    "jupyter": {
     "outputs_hidden": false
    }
   },
   "outputs": [],
   "source": [
    "from sklearn.linear_model import LinearRegression\n",
    "\n",
    "lin_reg = LinearRegression()\n",
    "lin_reg.fit(housing_prepared, housing_labels)"
   ]
  },
  {
   "cell_type": "code",
   "execution_count": null,
   "id": "faa02f6bf8b3ba5c",
   "metadata": {
    "collapsed": false,
    "jupyter": {
     "outputs_hidden": false
    }
   },
   "outputs": [],
   "source": [
    "some_data = housing.iloc[:5]\n",
    "some_labels = housing_labels.iloc[:5]\n",
    "some_data_prepared = full_pipeline.transform(some_data)"
   ]
  },
  {
   "cell_type": "code",
   "execution_count": null,
   "id": "43a44bb81738ba00",
   "metadata": {
    "collapsed": false,
    "jupyter": {
     "outputs_hidden": false
    }
   },
   "outputs": [],
   "source": [
    "print(\"Predictions:\", lin_reg.predict(some_data_prepared))"
   ]
  },
  {
   "cell_type": "code",
   "execution_count": null,
   "id": "cf8c876c37e1c735",
   "metadata": {
    "collapsed": false,
    "jupyter": {
     "outputs_hidden": false
    }
   },
   "outputs": [],
   "source": [
    "print(\"Labels:\", list(some_labels))"
   ]
  },
  {
   "cell_type": "code",
   "execution_count": null,
   "id": "1f149ce6927ec74",
   "metadata": {
    "collapsed": false,
    "jupyter": {
     "outputs_hidden": false
    }
   },
   "outputs": [],
   "source": [
    "from sklearn.metrics import root_mean_squared_error\n",
    "\n",
    "housing_predictions = lin_reg.predict(housing_prepared)\n",
    "lin_rmse = root_mean_squared_error(housing_labels, housing_predictions)\n",
    "lin_rmse"
   ]
  },
  {
   "cell_type": "code",
   "execution_count": null,
   "id": "c176dc2340bd2d54",
   "metadata": {
    "collapsed": false,
    "jupyter": {
     "outputs_hidden": false
    }
   },
   "outputs": [],
   "source": [
    "from sklearn.tree import DecisionTreeRegressor\n",
    "\n",
    "tree_reg = DecisionTreeRegressor(random_state=42)\n",
    "tree_reg.fit(housing_prepared, housing_labels)"
   ]
  },
  {
   "cell_type": "code",
   "execution_count": null,
   "id": "b1329a8fe9267f06",
   "metadata": {
    "collapsed": false,
    "jupyter": {
     "outputs_hidden": false
    }
   },
   "outputs": [],
   "source": [
    "housing_predictions = tree_reg.predict(housing_prepared)\n",
    "tree_rmse = root_mean_squared_error(housing_labels, housing_predictions)\n",
    "tree_rmse"
   ]
  },
  {
   "cell_type": "markdown",
   "id": "359fd07f157c6e1b",
   "metadata": {
    "collapsed": false,
    "jupyter": {
     "outputs_hidden": false
    }
   },
   "source": [
    "#### Better Evaluation Using Cross-Validation"
   ]
  },
  {
   "cell_type": "code",
   "execution_count": null,
   "id": "da8efe007f31801d",
   "metadata": {
    "collapsed": false,
    "jupyter": {
     "outputs_hidden": false
    }
   },
   "outputs": [],
   "source": [
    "from sklearn.model_selection import cross_val_score\n",
    "\n",
    "scores = cross_val_score(tree_reg, housing_prepared, housing_labels, cv=10, scoring=\"neg_root_mean_squared_error\",\n",
    "                         n_jobs=-1, pre_dispatch=\"2*n_jobs\")\n",
    "tree_rmse_scores = -scores"
   ]
  },
  {
   "cell_type": "code",
   "execution_count": null,
   "id": "40e5ce577f90d4e",
   "metadata": {
    "collapsed": false,
    "jupyter": {
     "outputs_hidden": false
    }
   },
   "outputs": [],
   "source": [
    "def display_scores(scores):\n",
    "    print(\"Scores:\", scores)\n",
    "    print(\"Mean:\", scores.mean())\n",
    "    print(\"Standard deviation:\", scores.std())\n",
    "\n",
    "display_scores(tree_rmse_scores)"
   ]
  },
  {
   "cell_type": "code",
   "execution_count": null,
   "id": "c141a5e01b4f452a",
   "metadata": {
    "collapsed": false,
    "jupyter": {
     "outputs_hidden": false
    }
   },
   "outputs": [],
   "source": [
    "lin_scores = cross_val_score(lin_reg, housing_prepared, housing_labels, cv=10, scoring=\"neg_root_mean_squared_error\",\n",
    "                             n_jobs=-1, pre_dispatch=\"2*n_jobs\")\n",
    "lin_rmse_scores = -lin_scores\n",
    "display_scores(lin_rmse_scores)"
   ]
  },
  {
   "cell_type": "code",
   "execution_count": null,
   "id": "a01b228f190fad45",
   "metadata": {
    "collapsed": false,
    "jupyter": {
     "outputs_hidden": false
    }
   },
   "outputs": [],
   "source": [
    "from sklearn.ensemble import RandomForestRegressor\n",
    "\n",
    "forest_reg = RandomForestRegressor(random_state=42)\n",
    "forest_reg.fit(housing_prepared, housing_labels)"
   ]
  },
  {
   "cell_type": "code",
   "execution_count": null,
   "id": "d02759e80b78c27e",
   "metadata": {
    "collapsed": false,
    "jupyter": {
     "outputs_hidden": false
    }
   },
   "outputs": [],
   "source": [
    "housing_predictions = forest_reg.predict(housing_prepared)\n",
    "forest_rmse = root_mean_squared_error(housing_labels, housing_predictions)\n",
    "forest_rmse"
   ]
  },
  {
   "cell_type": "code",
   "execution_count": null,
   "id": "fc4814cc140189e6",
   "metadata": {
    "collapsed": false,
    "jupyter": {
     "outputs_hidden": false
    }
   },
   "outputs": [],
   "source": [
    "forest_scores = cross_val_score(forest_reg, housing_prepared, housing_labels, cv=10, scoring=\"neg_root_mean_squared_error\",\n",
    "                                n_jobs=-1, pre_dispatch=\"2*n_jobs\")\n",
    "forest_rmse_scores = -forest_scores\n",
    "display_scores(forest_rmse_scores)"
   ]
  },
  {
   "cell_type": "markdown",
   "id": "f5477cd6b61ce715",
   "metadata": {
    "collapsed": false,
    "jupyter": {
     "outputs_hidden": false
    }
   },
   "source": [
    "## Fine-Tune Your Model"
   ]
  },
  {
   "cell_type": "markdown",
   "id": "f1587fcbd140474c",
   "metadata": {
    "collapsed": false,
    "jupyter": {
     "outputs_hidden": false
    }
   },
   "source": [
    "#### Grid Search"
   ]
  },
  {
   "cell_type": "code",
   "execution_count": null,
   "id": "1bbcd4e72de88763",
   "metadata": {
    "collapsed": false,
    "jupyter": {
     "outputs_hidden": false
    }
   },
   "outputs": [],
   "source": [
    "from sklearn.model_selection import GridSearchCV\n",
    "\n",
    "param_grid = [\n",
    "    # try 12 (3×4) combinations of hyperparameters\n",
    "    {\"n_estimators\": [3, 10, 30], \"max_features\": [2, 4, 6, 8]},\n",
    "    # then try 6 (2×3) combinations with bootstrap set as False\n",
    "    {\"bootstrap\": [False], \"n_estimators\": [3, 10], \"max_features\": [2, 3, 4]}\n",
    "]\n",
    "\n",
    "forest_reg = RandomForestRegressor(random_state=42)\n",
    "# train across 5 folds, that's a total of (12+6)*5=90 rounds of training \n",
    "grid_search = GridSearchCV(forest_reg, param_grid, cv=5, scoring=\"neg_root_mean_squared_error\", return_train_score=True,\n",
    "                           n_jobs=-1, verbose=2, pre_dispatch=\"2*n_jobs\")\n",
    "grid_search.fit(housing_prepared, housing_labels)"
   ]
  },
  {
   "cell_type": "code",
   "execution_count": null,
   "id": "261a499218d8ba5",
   "metadata": {
    "collapsed": false,
    "jupyter": {
     "outputs_hidden": false
    }
   },
   "outputs": [],
   "source": [
    "grid_search.best_params_"
   ]
  },
  {
   "cell_type": "code",
   "execution_count": null,
   "id": "d6c47d73991d4e2c",
   "metadata": {
    "collapsed": false,
    "jupyter": {
     "outputs_hidden": false
    }
   },
   "outputs": [],
   "source": [
    "grid_search.best_estimator_"
   ]
  },
  {
   "cell_type": "code",
   "execution_count": null,
   "id": "2911264d411b5410",
   "metadata": {
    "collapsed": false,
    "jupyter": {
     "outputs_hidden": false
    }
   },
   "outputs": [],
   "source": [
    "grid_search_rmse = -grid_search.best_score_\n",
    "grid_search_rmse"
   ]
  },
  {
   "cell_type": "code",
   "execution_count": null,
   "id": "793838a78419936d",
   "metadata": {
    "collapsed": false,
    "jupyter": {
     "outputs_hidden": false
    }
   },
   "outputs": [],
   "source": [
    "cvres = grid_search.cv_results_\n",
    "for mean_score, params in zip(cvres[\"mean_test_score\"], cvres[\"params\"]):\n",
    "    print(-mean_score, params)"
   ]
  },
  {
   "cell_type": "markdown",
   "id": "ef98649f58e7eed",
   "metadata": {
    "collapsed": false,
    "jupyter": {
     "outputs_hidden": false
    }
   },
   "source": [
    "#### Analyze the Best Models and Their Errors"
   ]
  },
  {
   "cell_type": "code",
   "execution_count": null,
   "id": "c1784659c67538d4",
   "metadata": {
    "collapsed": false,
    "jupyter": {
     "outputs_hidden": false
    }
   },
   "outputs": [],
   "source": [
    "feature_importances = grid_search.best_estimator_.feature_importances_\n",
    "feature_importances"
   ]
  },
  {
   "cell_type": "code",
   "execution_count": null,
   "id": "af3ceffd6b40e15e",
   "metadata": {
    "collapsed": false,
    "jupyter": {
     "outputs_hidden": false
    }
   },
   "outputs": [],
   "source": [
    "extra_attribs = list(corr_price_combinations.iloc[:combinations_n].index)\n",
    "cat_encoder = full_pipeline.named_transformers_[\"cat\"]\n",
    "cat_one_hot_attribs = list(cat_encoder.categories_[0])\n",
    "attributes = num_attribs + extra_attribs + cat_one_hot_attribs\n",
    "feature_importance_tuples = sorted(zip(feature_importances, attributes), reverse=True)\n",
    "feature_importance_tuples"
   ]
  },
  {
   "cell_type": "markdown",
   "id": "daf92815f6ef6e40",
   "metadata": {
    "collapsed": false,
    "jupyter": {
     "outputs_hidden": false
    }
   },
   "source": [
    "#### Evaluate Your System on the Test Set"
   ]
  },
  {
   "cell_type": "code",
   "execution_count": null,
   "id": "f177b69df6bbfce9",
   "metadata": {
    "collapsed": false,
    "jupyter": {
     "outputs_hidden": false
    }
   },
   "outputs": [],
   "source": [
    "final_model = grid_search.best_estimator_\n",
    "X_test = strat_test_set.drop(\"price\", axis=1)\n",
    "y_test = strat_test_set[\"price\"].copy()\n",
    "X_test_prepared = full_pipeline.transform(X_test)\n",
    "final_predictions = final_model.predict(X_test_prepared)\n",
    "final_rmse = root_mean_squared_error(y_test, final_predictions)\n",
    "final_rmse"
   ]
  },
  {
   "cell_type": "code",
   "execution_count": null,
   "id": "ef97ed784f3842b0",
   "metadata": {
    "collapsed": false,
    "jupyter": {
     "outputs_hidden": false
    }
   },
   "outputs": [],
   "source": [
    "from scipy import stats\n",
    "\n",
    "confidence = 0.95\n",
    "squared_errors = (final_predictions - y_test) ** 2\n",
    "np.sqrt(stats.t.interval(confidence, len(squared_errors) - 1, loc=squared_errors.mean(), scale=stats.sem(squared_errors)))"
   ]
  },
  {
   "cell_type": "markdown",
   "id": "69b7c8ea26985f58",
   "metadata": {
    "collapsed": false,
    "jupyter": {
     "outputs_hidden": false
    }
   },
   "source": [
    "## Exercises"
   ]
  },
  {
   "cell_type": "markdown",
   "id": "7b79c98a0a31a4ff",
   "metadata": {
    "collapsed": false,
    "jupyter": {
     "outputs_hidden": false
    }
   },
   "source": [
    "#### 1.\n",
    "Try a Support Vector Machine regressor (```sklearn.svm.SVR```) with various hyperparameters, such as ```kernel=\"linear\"``` (with various values for the ```C``` hyperparameter) or ```kernel=\"rbf\"``` (with various values for the ```C``` and ```gamma``` hyperparameters). Don’t worry about what these hyperparameters mean for now. How does the best ```SVR``` predictor perform?"
   ]
  },
  {
   "cell_type": "code",
   "execution_count": null,
   "id": "60bbe789a68a2034",
   "metadata": {
    "collapsed": false,
    "jupyter": {
     "outputs_hidden": false
    }
   },
   "outputs": [],
   "source": [
    "from sklearn.svm import SVR\n",
    "\n",
    "param_grid = [\n",
    "    {\"kernel\": [\"linear\"], \"C\": [128, 256, 512, 1024]},\n",
    "    {\"kernel\": [\"rbf\"], \"C\": [128, 256, 512, 1024], \"gamma\": [0.1, 0.5, 1, 2]}\n",
    "]\n",
    "\n",
    "svr_reg = SVR()\n",
    "grid_search_svr = GridSearchCV(svr_reg, param_grid, cv=5, scoring=\"neg_root_mean_squared_error\", return_train_score=True, \n",
    "                               n_jobs=-1, verbose=2, pre_dispatch=\"2*n_jobs\")\n",
    "grid_search_svr.fit(housing_prepared, housing_labels)"
   ]
  },
  {
   "cell_type": "code",
   "execution_count": null,
   "id": "8ae63c8240194b20",
   "metadata": {
    "collapsed": false,
    "jupyter": {
     "outputs_hidden": false
    }
   },
   "outputs": [],
   "source": [
    "grid_search_svr.best_params_"
   ]
  },
  {
   "cell_type": "code",
   "execution_count": null,
   "id": "6499827dde26f5e8",
   "metadata": {
    "collapsed": false,
    "jupyter": {
     "outputs_hidden": false
    }
   },
   "outputs": [],
   "source": [
    "grid_search_svr.best_estimator_"
   ]
  },
  {
   "cell_type": "code",
   "execution_count": null,
   "id": "92b05f1b56d5ad6b",
   "metadata": {
    "collapsed": false,
    "jupyter": {
     "outputs_hidden": false
    }
   },
   "outputs": [],
   "source": [
    "grid_search_svr_rmse = -grid_search_svr.best_score_\n",
    "grid_search_svr_rmse"
   ]
  },
  {
   "cell_type": "markdown",
   "id": "ce072d6c30461209",
   "metadata": {
    "collapsed": false,
    "jupyter": {
     "outputs_hidden": false
    }
   },
   "source": [
    "#### 2.\n",
    "Try replacing ```GridSearchCV``` with ```RandomizedSearchCV```."
   ]
  },
  {
   "cell_type": "code",
   "execution_count": null,
   "id": "872308d0cb6c35b0",
   "metadata": {
    "collapsed": false,
    "jupyter": {
     "outputs_hidden": false
    }
   },
   "outputs": [],
   "source": [
    "from sklearn.model_selection import RandomizedSearchCV\n",
    "from scipy.stats import uniform\n",
    "\n",
    "param_rand = {\n",
    "    \"kernel\": [\"linear\", \"rbf\"],\n",
    "    \"C\": uniform(0, 1000),\n",
    "    \"gamma\": uniform(0, 10)\n",
    "}\n",
    "\n",
    "svr_reg = SVR()\n",
    "n_iter = 20\n",
    "rand_search = RandomizedSearchCV(svr_reg, param_rand, cv=5, scoring=\"neg_root_mean_squared_error\", return_train_score=True, \n",
    "                                 n_jobs=-1, verbose=2, pre_dispatch=\"2*n_jobs\", n_iter=n_iter, random_state=42)\n",
    "rand_search.fit(housing_prepared, housing_labels)"
   ]
  },
  {
   "cell_type": "code",
   "execution_count": null,
   "id": "b6d1c1031d8add7",
   "metadata": {
    "collapsed": false,
    "jupyter": {
     "outputs_hidden": false
    }
   },
   "outputs": [],
   "source": [
    "rand_search.best_params_"
   ]
  },
  {
   "cell_type": "code",
   "execution_count": null,
   "id": "ba3bd059d1d64b0f",
   "metadata": {
    "collapsed": false,
    "jupyter": {
     "outputs_hidden": false
    }
   },
   "outputs": [],
   "source": [
    "rand_search.best_estimator_"
   ]
  },
  {
   "cell_type": "code",
   "execution_count": null,
   "id": "302e77d6fcfb8f24",
   "metadata": {
    "collapsed": false,
    "jupyter": {
     "outputs_hidden": false
    }
   },
   "outputs": [],
   "source": [
    "rand_search_rmse = -rand_search.best_score_\n",
    "rand_search_rmse"
   ]
  },
  {
   "cell_type": "markdown",
   "id": "d83b74cdb15b776f",
   "metadata": {
    "collapsed": false,
    "jupyter": {
     "outputs_hidden": false
    }
   },
   "source": [
    "#### 3. \n",
    "Try adding a transformer in the preparation pipeline to select only the most important attributes."
   ]
  },
  {
   "cell_type": "code",
   "execution_count": null,
   "id": "f9762c1b3f91fe24",
   "metadata": {
    "collapsed": false,
    "jupyter": {
     "outputs_hidden": false
    }
   },
   "outputs": [],
   "source": [
    "class AttributesSelector(BaseEstimator, TransformerMixin):\n",
    "    def __init__(self, attribs_n):\n",
    "        self.attribs_n = attribs_n\n",
    "        self.feature_importances = None\n",
    "        self.attribs_list = None\n",
    "    def fit(self, X, y=None):\n",
    "        self.feature_importances = feature_importances # ... calculate feature_importances based on X here\n",
    "        self.attribs_list = sorted(np.argsort(self.feature_importances)[-self.attribs_n:])\n",
    "        return self\n",
    "    def transform(self, X, y=None):\n",
    "        return X[:, self.attribs_list]"
   ]
  },
  {
   "cell_type": "code",
   "execution_count": null,
   "id": "46ec0acaf59cf675",
   "metadata": {
    "collapsed": false,
    "jupyter": {
     "outputs_hidden": false
    }
   },
   "outputs": [],
   "source": [
    "attribs_n = 5\n",
    "full_select_pipeline = Pipeline([\n",
    "    (\"full\", full_pipeline),\n",
    "    (\"select\", AttributesSelector(attribs_n))\n",
    "], verbose=True)\n",
    "\n",
    "housing_selector_prepared = full_select_pipeline.fit_transform(housing)\n",
    "housing_selector_prepared[0]"
   ]
  },
  {
   "cell_type": "code",
   "execution_count": null,
   "id": "468800a69f17c0eb",
   "metadata": {
    "collapsed": false,
    "jupyter": {
     "outputs_hidden": false
    }
   },
   "outputs": [],
   "source": [
    "[feature for feature in feature_importance_tuples[:attribs_n]]"
   ]
  },
  {
   "cell_type": "code",
   "execution_count": null,
   "id": "a21c7fb62255f7fb",
   "metadata": {
    "collapsed": false,
    "jupyter": {
     "outputs_hidden": false
    }
   },
   "outputs": [],
   "source": [
    "important_features_indices = sorted(np.argsort(feature_importances)[-attribs_n:])\n",
    "important_features_indices"
   ]
  },
  {
   "cell_type": "code",
   "execution_count": null,
   "id": "496c34565578f920",
   "metadata": {
    "collapsed": false,
    "jupyter": {
     "outputs_hidden": false
    }
   },
   "outputs": [],
   "source": [
    "np.all(housing_selector_prepared == housing_prepared[:, important_features_indices])"
   ]
  },
  {
   "cell_type": "markdown",
   "id": "3d13e3fae6820e4a",
   "metadata": {
    "collapsed": false,
    "jupyter": {
     "outputs_hidden": false
    }
   },
   "source": [
    "#### 4. \n",
    "Try creating a single pipeline that does the full data preparation plus the final prediction."
   ]
  },
  {
   "cell_type": "code",
   "execution_count": null,
   "id": "eb75bd4024923c93",
   "metadata": {
    "collapsed": false,
    "jupyter": {
     "outputs_hidden": false
    }
   },
   "outputs": [],
   "source": [
    "full_select_predict_pipeline = Pipeline([\n",
    "    (\"full_select\", full_select_pipeline),\n",
    "    (\"predict\", final_model)\n",
    "], verbose=True)\n",
    "\n",
    "full_select_predict_pipeline.fit(housing, housing_labels)"
   ]
  },
  {
   "cell_type": "code",
   "execution_count": null,
   "id": "7c26050f2e28e590",
   "metadata": {
    "collapsed": false,
    "jupyter": {
     "outputs_hidden": false
    }
   },
   "outputs": [],
   "source": [
    "some_data = housing.iloc[:5]\n",
    "some_labels = housing_labels.iloc[:5]"
   ]
  },
  {
   "cell_type": "code",
   "execution_count": null,
   "id": "ce03d158e907fe64",
   "metadata": {
    "collapsed": false,
    "jupyter": {
     "outputs_hidden": false
    }
   },
   "outputs": [],
   "source": [
    "print(\"Predictions:\", full_select_predict_pipeline.predict(some_data))"
   ]
  },
  {
   "cell_type": "code",
   "execution_count": null,
   "id": "2e50fff545eb509b",
   "metadata": {
    "collapsed": false,
    "jupyter": {
     "outputs_hidden": false
    }
   },
   "outputs": [],
   "source": [
    "print(\"Labels:\", list(some_labels))"
   ]
  },
  {
   "cell_type": "markdown",
   "id": "8dfaa050471f0d5e",
   "metadata": {
    "collapsed": false,
    "jupyter": {
     "outputs_hidden": false
    }
   },
   "source": [
    "#### 5. \n",
    "Automatically explore some preparation options using GridSearchCV."
   ]
  },
  {
   "cell_type": "code",
   "execution_count": null,
   "id": "42109a9887b9d8e3",
   "metadata": {
    "collapsed": false,
    "jupyter": {
     "outputs_hidden": false
    }
   },
   "outputs": [],
   "source": [
    "param_grid = [{\n",
    "    \"full_select__full__num__imputer__strategy\": [\"mean\", \"median\", \"most_frequent\"],\n",
    "    \"full_select__select__attribs_n\": list(range(1, len(attributes) + 1))\n",
    "}]\n",
    "\n",
    "grid_search_prep = GridSearchCV(full_select_predict_pipeline, param_grid, cv=5, scoring=\"neg_root_mean_squared_error\", \n",
    "                                return_train_score=True, n_jobs=-1, verbose=2, pre_dispatch=\"2*n_jobs\")\n",
    "grid_search_prep.fit(housing, housing_labels)"
   ]
  },
  {
   "cell_type": "code",
   "execution_count": null,
   "id": "2681741adc6287fb",
   "metadata": {
    "collapsed": false,
    "jupyter": {
     "outputs_hidden": false
    }
   },
   "outputs": [],
   "source": [
    "grid_search_prep.best_params_"
   ]
  },
  {
   "cell_type": "code",
   "execution_count": null,
   "id": "7f8ed9e971585cb",
   "metadata": {
    "collapsed": false,
    "jupyter": {
     "outputs_hidden": false
    }
   },
   "outputs": [],
   "source": [
    "grid_search_prep.best_estimator_"
   ]
  },
  {
   "cell_type": "code",
   "execution_count": null,
   "id": "89a76352a85ceead",
   "metadata": {
    "collapsed": false,
    "jupyter": {
     "outputs_hidden": false
    }
   },
   "outputs": [],
   "source": [
    "grid_search_prep_rmse = -grid_search_prep.best_score_\n",
    "grid_search_prep_rmse"
   ]
  }
 ],
 "metadata": {
  "kernelspec": {
   "display_name": "Python 3 (ipykernel)",
   "language": "python",
   "name": "python3"
  },
  "language_info": {
   "codemirror_mode": {
    "name": "ipython",
    "version": 3
   },
   "file_extension": ".py",
   "mimetype": "text/x-python",
   "name": "python",
   "nbconvert_exporter": "python",
   "pygments_lexer": "ipython3",
   "version": "3.9.13"
  }
 },
 "nbformat": 4,
 "nbformat_minor": 5
}
