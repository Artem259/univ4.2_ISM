{
 "cells": [
  {
   "cell_type": "code",
   "execution_count": 1,
   "id": "initial_id",
   "metadata": {
    "ExecuteTime": {
     "end_time": "2024-02-02T17:31:19.042169500Z",
     "start_time": "2024-02-02T17:31:18.556356300Z"
    }
   },
   "outputs": [],
   "source": [
    "import numpy as np\n",
    "import pandas as pd\n",
    "\n",
    "data = pd.read_csv(\"data/NationalNames.csv\")"
   ]
  },
  {
   "cell_type": "markdown",
   "id": "fe8fdefd493ba53e",
   "metadata": {
    "collapsed": false,
    "jupyter": {
     "outputs_hidden": false
    }
   },
   "source": [
    "##### 1. Виведіть перші 8 рядків набору даних."
   ]
  },
  {
   "cell_type": "code",
   "execution_count": 2,
   "id": "e522d7d0b33a57fa",
   "metadata": {
    "ExecuteTime": {
     "end_time": "2024-02-02T17:31:19.065201900Z",
     "start_time": "2024-02-02T17:31:19.043440600Z"
    },
    "collapsed": false,
    "jupyter": {
     "outputs_hidden": false
    }
   },
   "outputs": [
    {
     "name": "stdout",
     "output_type": "stream",
     "text": [
      "   Id       Name  Year Gender  Count\n",
      "0   1       Mary  1880      F   7065\n",
      "1   2       Anna  1880      F   2604\n",
      "2   3       Emma  1880      F   2003\n",
      "3   4  Elizabeth  1880      F   1939\n",
      "4   5     Minnie  1880      F   1746\n",
      "5   6   Margaret  1880      F   1578\n",
      "6   7        Ida  1880      F   1472\n",
      "7   8      Alice  1880      F   1414\n"
     ]
    }
   ],
   "source": [
    "print(data[:8])"
   ]
  },
  {
   "cell_type": "markdown",
   "id": "b787ece0e113e11d",
   "metadata": {
    "collapsed": false,
    "jupyter": {
     "outputs_hidden": false
    }
   },
   "source": [
    "##### 2. Вивести останні 8 рядків набору даних."
   ]
  },
  {
   "cell_type": "code",
   "execution_count": 3,
   "id": "73d90c0f544f9a21",
   "metadata": {
    "ExecuteTime": {
     "end_time": "2024-02-02T17:31:19.116353Z",
     "start_time": "2024-02-02T17:31:19.059205100Z"
    },
    "collapsed": false,
    "jupyter": {
     "outputs_hidden": false
    }
   },
   "outputs": [
    {
     "name": "stdout",
     "output_type": "stream",
     "text": [
      "              Id     Name  Year Gender  Count\n",
      "1825425  1825426       Zo  2014      M      5\n",
      "1825426  1825427    Zyeir  2014      M      5\n",
      "1825427  1825428     Zyel  2014      M      5\n",
      "1825428  1825429   Zykeem  2014      M      5\n",
      "1825429  1825430   Zymeer  2014      M      5\n",
      "1825430  1825431  Zymiere  2014      M      5\n",
      "1825431  1825432    Zyran  2014      M      5\n",
      "1825432  1825433    Zyrin  2014      M      5\n"
     ]
    }
   ],
   "source": [
    "print(data[-8:])"
   ]
  },
  {
   "cell_type": "markdown",
   "id": "a9a3d5c119fa5738",
   "metadata": {
    "collapsed": false,
    "jupyter": {
     "outputs_hidden": false
    }
   },
   "source": [
    "##### 4. Отримайте загальну інформацію про дані у наборі даних."
   ]
  },
  {
   "cell_type": "code",
   "execution_count": 4,
   "id": "1f0044f7487f874d",
   "metadata": {
    "ExecuteTime": {
     "end_time": "2024-02-02T17:31:19.172448Z",
     "start_time": "2024-02-02T17:31:19.074204300Z"
    },
    "collapsed": false,
    "jupyter": {
     "outputs_hidden": false
    }
   },
   "outputs": [
    {
     "name": "stdout",
     "output_type": "stream",
     "text": [
      "                 Id          Year         Count\n",
      "count  1.825433e+06  1.825433e+06  1.825433e+06\n",
      "mean   9.127170e+05  1.972620e+03  1.846879e+02\n",
      "std    5.269573e+05  3.352891e+01  1.566711e+03\n",
      "min    1.000000e+00  1.880000e+03  5.000000e+00\n",
      "25%    4.563590e+05  1.949000e+03  7.000000e+00\n",
      "50%    9.127170e+05  1.982000e+03  1.200000e+01\n",
      "75%    1.369075e+06  2.001000e+03  3.200000e+01\n",
      "max    1.825433e+06  2.014000e+03  9.968000e+04\n"
     ]
    }
   ],
   "source": [
    "print(data.describe())"
   ]
  },
  {
   "cell_type": "markdown",
   "id": "f392958cf673518f",
   "metadata": {
    "collapsed": false,
    "jupyter": {
     "outputs_hidden": false
    }
   },
   "source": [
    "##### 5. Знайдіть кількість унікальних імен у наборі даних."
   ]
  },
  {
   "cell_type": "code",
   "execution_count": 5,
   "id": "c947feb994c6d0cf",
   "metadata": {
    "ExecuteTime": {
     "end_time": "2024-02-02T17:31:19.357184500Z",
     "start_time": "2024-02-02T17:31:19.169242500Z"
    },
    "collapsed": false,
    "jupyter": {
     "outputs_hidden": false
    }
   },
   "outputs": [
    {
     "name": "stdout",
     "output_type": "stream",
     "text": [
      "93889\n"
     ]
    }
   ],
   "source": [
    "print(data[\"Name\"].nunique())"
   ]
  },
  {
   "cell_type": "markdown",
   "id": "2e9ad25193b790da",
   "metadata": {
    "collapsed": false,
    "jupyter": {
     "outputs_hidden": false
    }
   },
   "source": [
    "##### 6. Обчисліть кількість унікальних жіночих та чоловічих імен у цілому наборі даних."
   ]
  },
  {
   "cell_type": "code",
   "execution_count": 6,
   "id": "a585098872b9d3f3",
   "metadata": {
    "ExecuteTime": {
     "end_time": "2024-02-02T17:31:20.024023700Z",
     "start_time": "2024-02-02T17:31:19.357184500Z"
    },
    "collapsed": false,
    "jupyter": {
     "outputs_hidden": false
    }
   },
   "outputs": [
    {
     "name": "stdout",
     "output_type": "stream",
     "text": [
      "Gender\n",
      "F    64911\n",
      "M    39199\n",
      "Name: Name, dtype: int64\n"
     ]
    }
   ],
   "source": [
    "print(data.groupby(\"Gender\")[\"Name\"].nunique())"
   ]
  },
  {
   "cell_type": "markdown",
   "id": "21810e8d331d212f",
   "metadata": {
    "collapsed": false,
    "jupyter": {
     "outputs_hidden": false
    }
   },
   "source": [
    "##### 7. Знайдіть 5 найпопулярніших чоловічих імен у 2010 році."
   ]
  },
  {
   "cell_type": "code",
   "execution_count": 7,
   "id": "62ab92b40c28b1d7",
   "metadata": {
    "ExecuteTime": {
     "end_time": "2024-02-02T17:31:20.093028100Z",
     "start_time": "2024-02-02T17:31:20.019538Z"
    },
    "collapsed": false,
    "jupyter": {
     "outputs_hidden": false
    }
   },
   "outputs": [
    {
     "name": "stdout",
     "output_type": "stream",
     "text": [
      "              Id     Name  Year Gender  Count\n",
      "1677392  1677393    Jacob  2010      M  22082\n",
      "1677393  1677394    Ethan  2010      M  17985\n",
      "1677394  1677395  Michael  2010      M  17308\n",
      "1677395  1677396   Jayden  2010      M  17152\n",
      "1677396  1677397  William  2010      M  17030\n"
     ]
    }
   ],
   "source": [
    "print(data[(data[\"Year\"] == 2010) & (data[\"Gender\"] == \"M\")].sort_values(by=\"Count\", ascending=False).head(5))"
   ]
  },
  {
   "cell_type": "markdown",
   "id": "bb9cf945c6bc4e1f",
   "metadata": {
    "collapsed": false,
    "jupyter": {
     "outputs_hidden": false
    }
   },
   "source": [
    "##### 8. Знайдіть найпопулярніше ім’я за результатами одного року (ім’я, для якого Count максимальне)"
   ]
  },
  {
   "cell_type": "code",
   "execution_count": 8,
   "id": "a8bee64f645b28d6",
   "metadata": {
    "ExecuteTime": {
     "end_time": "2024-02-02T17:31:20.212028300Z",
     "start_time": "2024-02-02T17:31:20.083027700Z"
    },
    "collapsed": false,
    "jupyter": {
     "outputs_hidden": false
    }
   },
   "outputs": [
    {
     "name": "stdout",
     "output_type": "stream",
     "text": [
      "The name is 'Linda' in 1947\n"
     ]
    }
   ],
   "source": [
    "res = data.sort_values(by=\"Count\", ascending=False).iloc[0]\n",
    "print(f\"The name is '{res['Name']}' in {res['Year']}\")"
   ]
  },
  {
   "cell_type": "code",
   "execution_count": null,
   "id": "d3819d6eabd9609a",
   "metadata": {
    "ExecuteTime": {
     "end_time": "2024-02-02T17:31:20.224370300Z",
     "start_time": "2024-02-02T17:31:20.206888300Z"
    },
    "collapsed": false,
    "jupyter": {
     "outputs_hidden": false
    }
   },
   "outputs": [],
   "source": [
    " "
   ]
  }
 ],
 "metadata": {
  "kernelspec": {
   "display_name": "Python 3 (ipykernel)",
   "language": "python",
   "name": "python3"
  },
  "language_info": {
   "codemirror_mode": {
    "name": "ipython",
    "version": 3
   },
   "file_extension": ".py",
   "mimetype": "text/x-python",
   "name": "python",
   "nbconvert_exporter": "python",
   "pygments_lexer": "ipython3",
   "version": "3.9.13"
  }
 },
 "nbformat": 4,
 "nbformat_minor": 5
}
