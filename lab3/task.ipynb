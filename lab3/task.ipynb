{
 "cells": [
  {
   "cell_type": "code",
   "execution_count": 1,
   "id": "initial_id",
   "metadata": {},
   "outputs": [],
   "source": [
    "import pandas as pd\n",
    "\n",
    "df = pd.read_csv(\"data/NationalNames.csv\")"
   ]
  },
  {
   "cell_type": "markdown",
   "id": "fe8fdefd493ba53e",
   "metadata": {
    "collapsed": false,
    "jupyter": {
     "outputs_hidden": false
    }
   },
   "source": [
    "##### 1. Виведіть перші 8 рядків набору даних."
   ]
  },
  {
   "cell_type": "code",
   "execution_count": 2,
   "id": "e522d7d0b33a57fa",
   "metadata": {
    "collapsed": false,
    "jupyter": {
     "outputs_hidden": false
    }
   },
   "outputs": [
    {
     "name": "stdout",
     "output_type": "stream",
     "text": [
      "   Id       Name  Year Gender  Count\n",
      "0   1       Mary  1880      F   7065\n",
      "1   2       Anna  1880      F   2604\n",
      "2   3       Emma  1880      F   2003\n",
      "3   4  Elizabeth  1880      F   1939\n",
      "4   5     Minnie  1880      F   1746\n",
      "5   6   Margaret  1880      F   1578\n",
      "6   7        Ida  1880      F   1472\n",
      "7   8      Alice  1880      F   1414\n"
     ]
    }
   ],
   "source": [
    "res_1 = df[:8]\n",
    "print(res_1)"
   ]
  },
  {
   "cell_type": "markdown",
   "id": "b787ece0e113e11d",
   "metadata": {
    "collapsed": false,
    "jupyter": {
     "outputs_hidden": false
    }
   },
   "source": [
    "##### 2. Вивести останні 8 рядків набору даних."
   ]
  },
  {
   "cell_type": "code",
   "execution_count": 3,
   "id": "73d90c0f544f9a21",
   "metadata": {
    "collapsed": false,
    "jupyter": {
     "outputs_hidden": false
    }
   },
   "outputs": [
    {
     "name": "stdout",
     "output_type": "stream",
     "text": [
      "              Id     Name  Year Gender  Count\n",
      "1825425  1825426       Zo  2014      M      5\n",
      "1825426  1825427    Zyeir  2014      M      5\n",
      "1825427  1825428     Zyel  2014      M      5\n",
      "1825428  1825429   Zykeem  2014      M      5\n",
      "1825429  1825430   Zymeer  2014      M      5\n",
      "1825430  1825431  Zymiere  2014      M      5\n",
      "1825431  1825432    Zyran  2014      M      5\n",
      "1825432  1825433    Zyrin  2014      M      5\n"
     ]
    }
   ],
   "source": [
    "res_2 = df[-8:]\n",
    "print(res_2)"
   ]
  },
  {
   "cell_type": "markdown",
   "id": "a9a3d5c119fa5738",
   "metadata": {
    "collapsed": false,
    "jupyter": {
     "outputs_hidden": false
    }
   },
   "source": [
    "##### 4. Отримайте загальну інформацію про дані у наборі даних."
   ]
  },
  {
   "cell_type": "code",
   "execution_count": 4,
   "id": "1f0044f7487f874d",
   "metadata": {
    "collapsed": false,
    "jupyter": {
     "outputs_hidden": false
    }
   },
   "outputs": [
    {
     "name": "stdout",
     "output_type": "stream",
     "text": [
      "                 Id          Year         Count\n",
      "count  1.825433e+06  1.825433e+06  1.825433e+06\n",
      "mean   9.127170e+05  1.972620e+03  1.846879e+02\n",
      "std    5.269573e+05  3.352891e+01  1.566711e+03\n",
      "min    1.000000e+00  1.880000e+03  5.000000e+00\n",
      "25%    4.563590e+05  1.949000e+03  7.000000e+00\n",
      "50%    9.127170e+05  1.982000e+03  1.200000e+01\n",
      "75%    1.369075e+06  2.001000e+03  3.200000e+01\n",
      "max    1.825433e+06  2.014000e+03  9.968000e+04\n"
     ]
    }
   ],
   "source": [
    "res_4 = df.describe()\n",
    "print(res_4)"
   ]
  },
  {
   "cell_type": "markdown",
   "id": "f392958cf673518f",
   "metadata": {
    "collapsed": false,
    "jupyter": {
     "outputs_hidden": false
    }
   },
   "source": [
    "##### 5. Знайдіть кількість унікальних імен у наборі даних."
   ]
  },
  {
   "cell_type": "code",
   "execution_count": 5,
   "id": "c947feb994c6d0cf",
   "metadata": {
    "collapsed": false,
    "jupyter": {
     "outputs_hidden": false
    }
   },
   "outputs": [
    {
     "name": "stdout",
     "output_type": "stream",
     "text": [
      "93889\n"
     ]
    }
   ],
   "source": [
    "res_5 = df[\"Name\"].nunique()\n",
    "print(res_5)"
   ]
  },
  {
   "cell_type": "markdown",
   "id": "2e9ad25193b790da",
   "metadata": {
    "collapsed": false,
    "jupyter": {
     "outputs_hidden": false
    }
   },
   "source": [
    "##### 6. Обчисліть кількість унікальних жіночих та чоловічих імен у цілому наборі даних."
   ]
  },
  {
   "cell_type": "code",
   "execution_count": 6,
   "id": "a585098872b9d3f3",
   "metadata": {
    "collapsed": false,
    "jupyter": {
     "outputs_hidden": false
    }
   },
   "outputs": [
    {
     "name": "stdout",
     "output_type": "stream",
     "text": [
      "Gender\n",
      "F    64911\n",
      "M    39199\n",
      "Name: Name, dtype: int64\n"
     ]
    }
   ],
   "source": [
    "res_6 = df.groupby(\"Gender\")[\"Name\"].nunique()\n",
    "print(res_6)"
   ]
  },
  {
   "cell_type": "markdown",
   "id": "21810e8d331d212f",
   "metadata": {
    "collapsed": false,
    "jupyter": {
     "outputs_hidden": false
    }
   },
   "source": [
    "##### 7. Знайдіть 5 найпопулярніших чоловічих імен у 2010 році."
   ]
  },
  {
   "cell_type": "code",
   "execution_count": 7,
   "id": "62ab92b40c28b1d7",
   "metadata": {
    "collapsed": false,
    "jupyter": {
     "outputs_hidden": false
    }
   },
   "outputs": [
    {
     "name": "stdout",
     "output_type": "stream",
     "text": [
      "              Id     Name  Year Gender  Count\n",
      "1677392  1677393    Jacob  2010      M  22082\n",
      "1677393  1677394    Ethan  2010      M  17985\n",
      "1677394  1677395  Michael  2010      M  17308\n",
      "1677395  1677396   Jayden  2010      M  17152\n",
      "1677396  1677397  William  2010      M  17030\n"
     ]
    }
   ],
   "source": [
    "res_7 = df[(df[\"Year\"] == 2010) & (df[\"Gender\"] == \"M\")]\n",
    "res_7 = res_7.sort_values(by=\"Count\", ascending=False).head(5)\n",
    "print(res_7)"
   ]
  },
  {
   "cell_type": "markdown",
   "id": "bb9cf945c6bc4e1f",
   "metadata": {
    "collapsed": false,
    "jupyter": {
     "outputs_hidden": false
    }
   },
   "source": [
    "##### 8. Знайдіть найпопулярніше ім’я за результатами одного року (ім’я, для якого ```Count``` максимальне)"
   ]
  },
  {
   "cell_type": "code",
   "execution_count": 8,
   "id": "a8bee64f645b28d6",
   "metadata": {
    "collapsed": false,
    "jupyter": {
     "outputs_hidden": false
    }
   },
   "outputs": [
    {
     "name": "stdout",
     "output_type": "stream",
     "text": [
      "The name is 'Linda' in 1947\n"
     ]
    }
   ],
   "source": [
    "res_8 = df.sort_values(by=\"Count\", ascending=False).iloc[0]\n",
    "print(f\"The name is '{res_8['Name']}' in {res_8['Year']}\")"
   ]
  },
  {
   "cell_type": "markdown",
   "id": "fde654f69a43b08d",
   "metadata": {
    "collapsed": false,
    "jupyter": {
     "outputs_hidden": false
    }
   },
   "source": [
    "##### 9. Підрахуйте кількість записів, для яких ```Count``` - мінімальне у наборі."
   ]
  },
  {
   "cell_type": "code",
   "execution_count": 9,
   "id": "a1dc79852631d2ae",
   "metadata": {
    "collapsed": false,
    "jupyter": {
     "outputs_hidden": false
    }
   },
   "outputs": [
    {
     "name": "stdout",
     "output_type": "stream",
     "text": [
      "254615\n"
     ]
    }
   ],
   "source": [
    "min_count_value = df[\"Count\"].min()\n",
    "res_9 = df[df[\"Count\"] == min_count_value].shape[0]\n",
    "print(res_9)"
   ]
  },
  {
   "cell_type": "markdown",
   "id": "a7dfa85b8f7f8c90",
   "metadata": {
    "collapsed": false,
    "jupyter": {
     "outputs_hidden": false
    }
   },
   "source": [
    "##### 10. Підрахуйте кількість унікальних імен у кожному році."
   ]
  },
  {
   "cell_type": "code",
   "execution_count": 10,
   "id": "3a9250430df34c21",
   "metadata": {
    "collapsed": false,
    "jupyter": {
     "outputs_hidden": false
    }
   },
   "outputs": [
    {
     "name": "stdout",
     "output_type": "stream",
     "text": [
      "Year\n",
      "1880     1889\n",
      "1881     1830\n",
      "1882     2012\n",
      "1883     1962\n",
      "1884     2158\n",
      "        ...  \n",
      "2010    31603\n",
      "2011    31418\n",
      "2012    31236\n",
      "2013    30774\n",
      "2014    30579\n",
      "Name: Name, Length: 135, dtype: int64\n"
     ]
    }
   ],
   "source": [
    "res_10 = df.groupby(\"Year\")[\"Name\"].nunique()\n",
    "print(res_10)"
   ]
  },
  {
   "cell_type": "markdown",
   "id": "54779a37c7b27436",
   "metadata": {
    "collapsed": false,
    "jupyter": {
     "outputs_hidden": false
    }
   },
   "source": [
    "##### 11. Знайдіть рік із найбільшою кількістю унікальних імен."
   ]
  },
  {
   "cell_type": "code",
   "execution_count": 11,
   "id": "a888896ed157257b",
   "metadata": {
    "collapsed": false,
    "jupyter": {
     "outputs_hidden": false
    }
   },
   "outputs": [
    {
     "name": "stdout",
     "output_type": "stream",
     "text": [
      "Year\n",
      "2008    32488\n",
      "Name: Name, dtype: int64\n"
     ]
    }
   ],
   "source": [
    "res_11 = res_10[res_10.values == res_10.values.max()]\n",
    "print(res_11)"
   ]
  },
  {
   "cell_type": "markdown",
   "id": "bacea1d898a1ea09",
   "metadata": {
    "collapsed": false,
    "jupyter": {
     "outputs_hidden": false
    }
   },
   "source": [
    "##### 12. Знайдіть найпопулярніше ім’я в році з найбільшою кількістю унікальних імен (тобто у 2008 році)."
   ]
  },
  {
   "cell_type": "code",
   "execution_count": 12,
   "id": "4c3a02a1b150e9d4",
   "metadata": {
    "collapsed": false,
    "jupyter": {
     "outputs_hidden": false
    }
   },
   "outputs": [
    {
     "name": "stdout",
     "output_type": "stream",
     "text": [
      "'Jacob'\n"
     ]
    }
   ],
   "source": [
    "year = res_11.index[0]\n",
    "res_12 = df[df[\"Year\"] == year]\n",
    "res_12 = res_12.sort_values(by=\"Count\", ascending=False)\n",
    "res_12 = res_12.iloc[0][\"Name\"]\n",
    "print(f\"'{res_12}'\")"
   ]
  },
  {
   "cell_type": "markdown",
   "id": "8d1117216efe5fef",
   "metadata": {
    "collapsed": false,
    "jupyter": {
     "outputs_hidden": false
    }
   },
   "source": [
    "##### 18. Підрахуйте кількість років, коли дівчаток народжувалось більше, ніж хлопчиків."
   ]
  },
  {
   "cell_type": "code",
   "execution_count": 13,
   "id": "5f682396c7b4783e",
   "metadata": {
    "collapsed": false,
    "jupyter": {
     "outputs_hidden": false
    }
   },
   "outputs": [
    {
     "name": "stdout",
     "output_type": "stream",
     "text": [
      "54\n"
     ]
    }
   ],
   "source": [
    "f_df = df[df[\"Gender\"] == \"F\"]\n",
    "m_df = df[df[\"Gender\"] == \"M\"]\n",
    "f_by_year = f_df.groupby(\"Year\")[\"Count\"].sum().rename(\"F_Count\")\n",
    "m_by_year = m_df.groupby(\"Year\")[\"Count\"].sum().rename(\"M_Count\")\n",
    "f_and_m_by_year = pd.concat([f_by_year, m_by_year], axis=1)\n",
    "res_18 = f_and_m_by_year[f_and_m_by_year[\"F_Count\"] > f_and_m_by_year[\"M_Count\"]].shape[0]\n",
    "print(res_18)"
   ]
  },
  {
   "cell_type": "markdown",
   "id": "7ff54b905de160f9",
   "metadata": {
    "collapsed": false,
    "jupyter": {
     "outputs_hidden": false
    }
   },
   "source": [
    "##### 19. Накресліть графік загальної кількості народжень хлопчиків та дівчаток на рік."
   ]
  },
  {
   "cell_type": "code",
   "execution_count": 14,
   "id": "7b4b3e600ff8d26b",
   "metadata": {
    "collapsed": false,
    "jupyter": {
     "outputs_hidden": false
    }
   },
   "outputs": [
    {
     "data": {
      "image/png": "[encoded data removed]",
      "text/plain": [
       "<Figure size 640x480 with 1 Axes>"
      ]
     },
     "metadata": {},
     "output_type": "display_data"
    }
   ],
   "source": [
    "res_19 = df.groupby([\"Year\", \"Gender\"])[\"Count\"].sum().unstack()\n",
    "res_19 = res_19.plot()\n",
    "res_19.set_xlabel(\"Year\")\n",
    "res_19.set_ylabel(\"total births per year\")\n",
    "res_19.ticklabel_format(style=\"plain\")\n",
    "res_19.legend(title=\"Gender\");"
   ]
  },
  {
   "cell_type": "markdown",
   "id": "9e83a9819299be79",
   "metadata": {
    "collapsed": false,
    "jupyter": {
     "outputs_hidden": false
    }
   },
   "source": [
    "##### 20. Підрахуйте кількість гендерно-нейтральних імен (однакових для дівчат та хлопців)."
   ]
  },
  {
   "cell_type": "code",
   "execution_count": 15,
   "id": "f4e14b179a65998d",
   "metadata": {
    "collapsed": false,
    "jupyter": {
     "outputs_hidden": false
    }
   },
   "outputs": [
    {
     "name": "stdout",
     "output_type": "stream",
     "text": [
      "10221\n"
     ]
    }
   ],
   "source": [
    "res_20 = df.groupby(\"Name\")\n",
    "res_20 = res_20.filter(lambda x: len(set(x[\"Gender\"].values)) == 2)\n",
    "res_20 = res_20[\"Name\"].nunique()\n",
    "print(res_20)"
   ]
  },
  {
   "cell_type": "markdown",
   "id": "766d0be48328d42d",
   "metadata": {
    "collapsed": false,
    "jupyter": {
     "outputs_hidden": false
    }
   },
   "source": [
    "##### 21. Порахуйте, скільки разів хлопчиків називали Barbara."
   ]
  },
  {
   "cell_type": "code",
   "execution_count": 16,
   "id": "4655f401a1d1ae9a",
   "metadata": {
    "collapsed": false,
    "jupyter": {
     "outputs_hidden": false
    }
   },
   "outputs": [
    {
     "name": "stdout",
     "output_type": "stream",
     "text": [
      "4139\n"
     ]
    }
   ],
   "source": [
    "res_21 = df[(df[\"Gender\"] == \"M\") & (df[\"Name\"] == \"Barbara\")]\n",
    "res_21 = res_21[\"Count\"].sum()\n",
    "print(res_21)"
   ]
  },
  {
   "cell_type": "markdown",
   "id": "2f1b6e2a8a72336c",
   "metadata": {
    "collapsed": false,
    "jupyter": {
     "outputs_hidden": false
    }
   },
   "source": [
    "##### 23. Знати найпопулярніші гендерно-нейтральні імена (ті, що присутні кожного року)."
   ]
  },
  {
   "cell_type": "code",
   "execution_count": 17,
   "id": "cf36ed313e9df953",
   "metadata": {
    "collapsed": false,
    "jupyter": {
     "outputs_hidden": false
    }
   },
   "outputs": [
    {
     "name": "stdout",
     "output_type": "stream",
     "text": [
      "['Jessie' 'Ollie' 'Marion' 'Jean' 'Francis' 'John' 'William' 'Lee' 'James'\n",
      " 'Sidney' 'Robert' 'Joseph' 'Tommie' 'Johnnie' 'Leslie' 'Jesse']\n"
     ]
    }
   ],
   "source": [
    "years_n = df[\"Year\"].nunique()\n",
    "genders_n = df[\"Gender\"].nunique()  # 2??\n",
    "res_23 = df.groupby(\"Name\")\n",
    "res_23 = res_23.filter(lambda x: len(x) == 2 * years_n)\n",
    "res_23 = res_23[\"Name\"].unique()\n",
    "print(res_23)"
   ]
  },
  {
   "cell_type": "markdown",
   "id": "e20053bcac18902b",
   "metadata": {
    "collapsed": false,
    "jupyter": {
     "outputs_hidden": false
    }
   },
   "source": [
    "##### 25. Побудувати графіки розподілення кількості імен John та Mary по роках без залежності до статі."
   ]
  },
  {
   "cell_type": "code",
   "execution_count": 18,
   "id": "2e00deb44da7ca6f",
   "metadata": {
    "collapsed": false,
    "jupyter": {
     "outputs_hidden": false
    }
   },
   "outputs": [
    {
     "data": {
      "image/png": "[encoded data removed]",
      "text/plain": [
       "<Figure size 640x480 with 1 Axes>"
      ]
     },
     "metadata": {},
     "output_type": "display_data"
    }
   ],
   "source": [
    "res_19 = df[(df[\"Name\"] == \"John\") | (df[\"Name\"] == \"Mary\")].groupby([\"Year\", \"Name\"])[\"Count\"].sum().unstack()\n",
    "res_19 = res_19.plot()\n",
    "res_19.set_xlabel(\"Year\")\n",
    "res_19.ticklabel_format(style=\"plain\")\n",
    "res_19.legend(title=\"Name\");"
   ]
  },
  {
   "cell_type": "markdown",
   "id": "1cd3abcf834de61",
   "metadata": {
    "collapsed": false,
    "jupyter": {
     "outputs_hidden": false
    }
   },
   "source": [
    "##### 27. Знайти найпопулярніші імена в кожному році."
   ]
  },
  {
   "cell_type": "markdown",
   "id": "9440f69576da6898",
   "metadata": {
    "collapsed": false,
    "jupyter": {
     "outputs_hidden": false
    }
   },
   "source": [
    "###### Враховуючи лише стать з більшою кількістю для кожного імені:"
   ]
  },
  {
   "cell_type": "code",
   "execution_count": 19,
   "id": "a3bae13914953e88",
   "metadata": {
    "collapsed": false,
    "jupyter": {
     "outputs_hidden": false
    }
   },
   "outputs": [
    {
     "name": "stdout",
     "output_type": "stream",
     "text": [
      "          Name  Count\n",
      "Year                 \n",
      "1880      John   9655\n",
      "1881      John   8769\n",
      "1882      John   9557\n",
      "1883      John   8894\n",
      "1884      John   9388\n",
      "...        ...    ...\n",
      "2010  Isabella  22883\n",
      "2011    Sophia  21816\n",
      "2012    Sophia  22267\n",
      "2013    Sophia  21147\n",
      "2014      Emma  20799\n",
      "\n",
      "[135 rows x 2 columns]\n"
     ]
    }
   ],
   "source": [
    "res_27_1 = df.groupby(\"Year\")\n",
    "res_27_1 = res_27_1.apply(lambda x: x.sort_values(by=\"Count\", ascending=False).head(1))\n",
    "res_27_1 = res_27_1[[\"Year\", \"Name\", \"Count\"]].set_index(\"Year\")\n",
    "print(res_27_1)"
   ]
  },
  {
   "cell_type": "markdown",
   "id": "d4f1382d6b0ed4d",
   "metadata": {
    "collapsed": false,
    "jupyter": {
     "outputs_hidden": false
    }
   },
   "source": [
    "###### Сумуючи обидві статі для кожного імені:"
   ]
  },
  {
   "cell_type": "code",
   "execution_count": 20,
   "id": "639d376639c6ef2b",
   "metadata": {
    "collapsed": false,
    "jupyter": {
     "outputs_hidden": false
    }
   },
   "outputs": [
    {
     "name": "stdout",
     "output_type": "stream",
     "text": [
      "          Name  Count\n",
      "Year                 \n",
      "1880      John   9701\n",
      "1881      John   8795\n",
      "1882      John   9597\n",
      "1883      John   8934\n",
      "1884      John   9428\n",
      "...        ...    ...\n",
      "2010  Isabella  22913\n",
      "2011    Sophia  21839\n",
      "2012    Sophia  22285\n",
      "2013    Sophia  21172\n",
      "2014      Emma  20811\n",
      "\n",
      "[135 rows x 2 columns]\n"
     ]
    }
   ],
   "source": [
    "res_27_2 = df.groupby([\"Year\", \"Name\"]).sum().reset_index()\n",
    "res_27_2 = res_27_2.groupby(\"Year\").apply(lambda x: x.sort_values(by=\"Count\", ascending=False).head(1))\n",
    "res_27_2 = res_27_2[[\"Year\", \"Name\", \"Count\"]].set_index(\"Year\")\n",
    "print(res_27_2)"
   ]
  }
 ],
 "metadata": {
  "kernelspec": {
   "display_name": "Python 3 (ipykernel)",
   "language": "python",
   "name": "python3"
  },
  "language_info": {
   "codemirror_mode": {
    "name": "ipython",
    "version": 3
   },
   "file_extension": ".py",
   "mimetype": "text/x-python",
   "name": "python",
   "nbconvert_exporter": "python",
   "pygments_lexer": "ipython3",
   "version": "3.9.13"
  }
 },
 "nbformat": 4,
 "nbformat_minor": 5
}
